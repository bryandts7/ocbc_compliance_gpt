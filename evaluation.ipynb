{
 "cells": [
  {
   "cell_type": "code",
   "execution_count": 1,
   "metadata": {},
   "outputs": [],
   "source": [
    "import nest_asyncio\n",
    "nest_asyncio.apply()"
   ]
  },
  {
   "cell_type": "code",
   "execution_count": 2,
   "metadata": {},
   "outputs": [],
   "source": [
    "import os\n",
    "from ragas import evaluate\n",
    "from datasets import Dataset\n",
    "from ragas.metrics import faithfulness, answer_relevancy, context_precision, context_recall, context_entity_recall, answer_similarity, answer_correctness\n",
    "from ragas.metrics.critique import harmfulness"
   ]
  },
  {
   "cell_type": "code",
   "execution_count": 3,
   "metadata": {},
   "outputs": [],
   "source": [
    "from constant.bi.question import QA_PAIRS as QA_PAIRS_BI\n",
    "from constant.ojk.question_ojk import EVAL_RESULTS\n",
    "from constant.sikepo.eval import EVAL_QUESTIONS as q_sikepo\n",
    "from constant.sikepo.eval import EVAL_ANSWERS as gt_sikepo\n",
    "\n",
    "q_bi = []\n",
    "gt_bi = []\n",
    "for k, v in QA_PAIRS_BI.items():\n",
    "    for key, val in v.items():\n",
    "        q_bi.append(val['question'])\n",
    "        gt_bi.append(val['answer'])\n",
    "\n",
    "q_ojk = []\n",
    "gt_ojk = []\n",
    "from constant.ojk.question_ojk import EVAL_RESULTS\n",
    "for k, v in EVAL_RESULTS.items():\n",
    "    q_ojk.append(v['question'])\n",
    "    gt_ojk.append(v['answer'])"
   ]
  },
  {
   "cell_type": "code",
   "execution_count": 4,
   "metadata": {},
   "outputs": [],
   "source": [
    "questions = q_ojk + q_bi + q_sikepo\n",
    "ground_truth = gt_ojk + gt_bi + gt_sikepo"
   ]
  },
  {
   "cell_type": "code",
   "execution_count": 5,
   "metadata": {},
   "outputs": [
    {
     "name": "stdout",
     "output_type": "stream",
     "text": [
      "['SWDKLLJ merupakan premi asuransi yang dibayarkan oleh para pengusaha/pemilik alat angkutan lalu lintas jalan kepada perusahaan yang menyelenggarakan Dana Kecelakaan Lalu Lintas Jalan.\\n\\nSource: [36/PMK.010/2008](https://www.ojk.go.id/id/regulasi/Documents/Pages/PMK-Nomor-36PMK.010-Tahun-2008-tentang-Besar-Santunan-dan-Sumbangan-Wajib-Dana-Kecelakaan-Lalu-Lintas-Jalan/menas13_1389258036.pdf#page=2)', 'Bursa Efek wajib menyampaikan laporan realisasi anggaran kepada Bapepam melalui dewan komisaris sesuai dengan ketentuan dalam Peraturan Nomor III.A.4 tentang Tata Cara Penyusunan serta Pengajuan Rencana Anggaran dan Penggunaan Laba Bursa Efek (KEP-05/PM/1996).\\n\\nSource: KEP-05/PM/1996 (https://www.ojk.go.id/id/regulasi/Documents/Pages/BAPEPAM-tentang-Tata-Cara-Penyusunan-serta-Pengajuan-Rencana-Anggaran-dan-Penggunaan-Laba-Bursa-Efek/IIIA4_Tata%20Cara%20Penyusunan-Pengajuan%20Rencana%20Anggaran%20dan%20Penggunaan%20Laba%20BE.pdf)', 'Keputusan Ketua Badan Pengawas Pasar Modal Nomor KEP-06/PM/1996 berisi tentang Tata Cara Pemberian Persetujuan Anggaran Dasar Bursa Efek.\\n\\nSumber: KEP-06/PM/1996 (https://www.ojk.go.id/id/regulasi/Documents/Pages/BAPEPAM-tentang-Tata-Cara-Pemberian-Persetujuan-Anggaran-Dasar-Bursa-Efek/IIIA5_Tata%20Cara%20Pemberian%20Persetujuan%20Anggaran%20Dasar%20oleh%20BE.pdf)', 'Penolakan atas permohonan persetujuan mengenai pengajuan atau perubahan peraturan Lembaga Kliring dan Penjaminan dilakukan dengan menggunakan Formulir Nomor III.B.2-3.\\n\\nSource: KEP-08/PM/1996\\nURL: https://www.ojk.go.id/id/regulasi/Documents/Pages/BAPEPAM-IIIB2-tentang-Tata-Cara-Pembuatan-Peraturan-oleh-Lembaga-Kliring-dan-Penjaminan/IIIB2_Tata%20Cara%20Pembuatan%20Peraturan%20oleh%20Lembaga%20Kliring%20dan%20Peminjaman.pdf#page=2', 'Anggota Dewan Pengawas Syariah Perusahaan Pembiayaan dilarang melakukan rangkap jabatan sebagai anggota direksi atau dewan komisaris pada Perusahaan Pembiayaan. \\n\\nSource: PER-06/BL/2012 (https://www.ojk.go.id/id/regulasi/Documents/Pages/Perubahan-atas-Peraturan-Ketua-Bapepam-dan-Lembaga-Keuangan-tentang-Kegiatan-Perusahaan-Pembiayaan-Berdasarkan-Prinsip/488.pdf#page=2)', 'Uang pertanggungan untuk kategori 5 adalah lebih dari Rp800.000.000. Pertanggungan total loss only (TLO) untuk kategori 5 adalah Rp1.000.000.000.\\n\\nSource: PER-07/BL/2012 (https://www.ojk.go.id/id/regulasi/Documents/Pages/Peraturan-BAPEPAM-tentang-Referensi-Unsur-Premi-Murni-serta-Unsur-Biaya-Administrasi-dan-Biaya-Umum-Lainnya-2012/BAPEPAM-LK%20PER07BL2012.pdf#page=7)', 'Perusahaan wajib menyampaikan laporan hasil pengawasan Dewan Pengawas Syariah dalam bentuk dokumen fisik (hard copy) dan digital (soft copy), kepada Otoritas Jasa Keuangan (OJK), paling lambat 2 (dua) bulan setelah periode semester dimaksud berakhir.\\n\\nSource: [10.SEOJK.03/2014](https://www.ojk.go.id/id/regulasi/Documents/Pages/SEOJK-tentang-Penilaian-Tingkat-Kesehatan-Bank-Umum-Syariah-dan-Unit-Usaha-Syariah/seojk%2010-2014.pdf#page=112)', 'Batas tingkat solvabilitas minimum bagi perusahaan asuransi dan perusahaan reasuransi ditingkatkan berdasarkan dinamika keuangan global.\\n\\nSource: PER-09/BL/2011 (https://www.ojk.go.id/id/regulasi/Documents/Pages/Peraturan-BAPEPAM-tentang-Pedoman-Perhitungan-Batas-Tingkat-Solvabilitas-Minimum-bagi-Perusahaan-Asuransi-dan-Reasuransi/BAPEPAM%20PER-09BL2011.pdf)', 'Saya tidak dapat menemukan informasi mengenai PERATURAN KETUA BADAN PENGAWAS PASAR MODAL DAN LEMBAGA KEUANGAN NOMOR PER-10/BL/2012 dalam konteks yang diberikan.', \"Dana Tabarru' adalah kumpulan dana yang berasal dari kontribusi para pemegang polis atau peserta, yang mekanisme penggunaannya sesuai dengan perjanjian asuransi syariah atau perjanjian reasuransi syariah. \\n\\nSource: [Peraturan OJK Nomor 72/POJK.05/2016](https://www.ojk.go.id/id/regulasi/Documents/Pages/POJK-tentang-Kesehatan-Keuangan-Perusahaan-Asuransi-dan-Perusahaan-Reasuransi-dengan-Prinsip-Syariah/pojk%2072-2016.pdf#page=37)\", 'Dalam rangka mendorong pertumbuhan industri Dana Pensiun, dipandang perlu untuk mengubah ketentuan mengenai sanksi administratif berupa denda atas keterlambatan penyampaian laporan aktuaris sebagaimana telah ditetapkan dalam Keputusan Menteri Keuangan Nomor 510/KMK.06/2002 tentang Pendanaan dan Solvabilitas Dana Pensiun Pemberi Kerja sebagaimana telah diubah dengan Peraturan Menteri Keuangan Nomor 113/PMK.05/2005.\\n\\nSource: [21/PMK.010/2012](https://www.ojk.go.id/id/regulasi/Documents/Pages/PMK-Nomor-21.PMK.010.2012/21.PMK.010.2012.pdf)', 'Laporan Tahunan dan Laporan Semester sekurang-kurangnya mencakup aspek berikut:\\n\\n1. Laporan Posisi Keuangan (Neraca)\\n2. Laporan Laba Rugi dan Penghasilan Komprehensif Lain\\n3. Laporan Perubahan Ekuitas\\n4. Laporan Arus Kas\\n5. Catatan atas Laporan Keuangan, termasuk informasi mengenai komitmen dan kontinjensi\\n\\nSumber: [Surat Edaran OJK No. 10/SEOJK.03/2017](https://www.ojk.go.id/id/regulasi/Documents/Pages/SEOJK-Transparansi-dan-Publikasi-Laporan-Bank-Umum-Syariah-dan-Unit-Usaha-Syariah/seojk%2010-2017.pdf#page=12)', 'Pendiri harus mengajukan permohonan tertulis kepada Menteri c.q. Ketua Badan Pengawas Pasar Modal dan Lembaga Keuangan u.p. Kepala Biro Dana Pensiun, Badan Pengawas Pasar Modal dan Lembaga Keuangan.\\n\\nSource: Peraturan Menteri Keuangan tentang Pengesahan Pendirian Dana Pensiun Lembaga Keuangan dan Perubahan Peraturan Dana Pensiun dari Dana Pensiun Lembaga Keuangan (21/PMK.010/2011)\\nURL: https://www.ojk.go.id/id/regulasi/Documents/Pages/PMK-Nomor-21.PMK.010.2011/21.PMK.010.2011.pdf#page=3', 'Tarif pemotongan pajak untuk penghasilan bruto di atas seratus juta sampai dengan dua ratus juta rupiah adalah 15% (lima belas persen).\\n\\nSource: 112/KMK.03/2001 (https://www.ojk.go.id/id/regulasi/Documents/Pages/KMK-Nomor-112.KMK.03.2001/112.KMK.03.2001.pdf#page=3)', \"Yang dimaksud dengan 'telah beroperasi' adalah badan hukum yang telah melakukan kegiatan usaha sesuai dengan peraturan perundang-undangan.\\n\\nSource: 3/POJK.03/2016 (https://www.ojk.go.id/id/kanal/perbankan/regulasi/peraturan-ojk/Documents/Pages/POJK-Nomor-3.POJK.03.2016/SALINAN-POJK%20BPRS%2014.01%20Penjelasan%20(k.e).pdf#page=2)\", 'Lembaga Jasa Keuangan Non-Bank yang tidak memenuhi ketentuan Pasal 2 dan Pasal 3 dalam Peraturan OJK ini, dikenakan sanksi administratif berupa peringatan tertulis.\\n\\nSource: [1/POJK.05/2016](https://www.ojk.go.id/id/regulasi/Documents/Pages/POJK-01.-SBN/POJK%201-2016.pdf#page=5)', 'Lembaga Sertifikasi Profesi adalah lembaga pelaksana sertifikasi kompetensi kerja yang mendapatkan lisensi dari Badan Nasional Sertifikasi Profesi.\\n\\nSource: [Peraturan OJK 62/POJK.03/2020](https://www.ojk.go.id/id/regulasi/Documents/Pages/Bank-Perkreditan-Rakyat/pojk%2062-2020.pdf#page=126)', 'Pertimbangan dalam menentukan profil risiko perusahaan adalah kombinasi antara risiko yang melekat (inherent risk) dan kualitas penerapan manajemen risiko. Penetapan peringkat profil risiko terdiri dari 5 peringkat, yaitu peringkat 1, peringkat 2, peringkat 3, peringkat 4, dan peringkat 5. Urutan peringkat profil risiko yang lebih kecil mencerminkan semakin rendahnya risiko yang dihadapi perusahaan.\\n\\nSource: [13/SEOJK.05/2021](https://www.ojk.go.id/id/regulasi/Documents/Pages/Penerapan-Manajemen-Risiko-bagi-Perusahaan-Pialang-Asuransi,-Perusahaan-Pialang-Reasuransi,-dan-Perusahaan-Penilai-Kerugian/SEOJK%2013%20-%2005%20-%202021.pdf#page=16)', 'LJKNB yang memiliki total aset lebih dari Rp500.000.000.000,00 (lima ratus miliar rupiah) sampai dengan Rp1.000.000.000.000,00 (satu triliun rupiah) harus menerapkan manajemen risiko dalam penggunaan teknologi informasi.\\n\\nSource: Peraturan OJK 4/POJK.05/2021\\n(https://www.ojk.go.id/id/regulasi/Documents/Pages/Penerapan-Manajemen-Risiko-dalam-Penggunaan-Teknologi-Informasi-oleh-Lembaga-Jasa-Keuangan-Nonbank/SUMMARY%20POJK%204%20-%2005%20-%202021.pdf)', 'Presiden Republik Indonesia yang menandatangani Peraturan Pemerintah Republik Indonesia Nomor 12 Tahun 2004 adalah Megawati Soekarnoputri.\\n\\nSumber: [Peraturan Pemerintah Nomor 12 Tahun 2004](https://www.ojk.go.id/id/regulasi/Documents/Pages/PP-Nomor-12-Tahun-2004-tentang-Perubahan-atas-Peraturan-Pemerintah-Nomor-45-Tahun-1995/PP%20No.12%20Tahun%202004.pdf#page=3)', 'Jumlah modal yang disetor bursa efek adalah paling sedikit Rp3.000.000.000,00 (tiga miliar rupiah).\\n\\nSource: [Peraturan OJK 25/POJK.04/2018](https://www.ojk.go.id/id/regulasi/Documents/Pages/Lembaga-Pendanaan-Efek/pojk%2025%20-%202018.pdf#page=3)', 'Norma pemeriksaan yang menyangkut pihak yang diperiksa adalah ketentuan-ketentuan yang mengatur hal-hal yang berkaitan antara pemeriksa dengan pihak yang diperiksa dalam rangka pelaksanaan pemeriksaan.\\n\\nSource: [Peraturan Pemerintah Nomor 46 Tahun 1995](https://www.ojk.go.id/id/regulasi/Documents/Pages/PP-Nomor-46-Tahun-1995-tentang-Tata-Cara-Pemeriksaan-di-Bidang-Pasar-Modal/PP%20No.46%20Tahun%201995.pdf#page=2)', 'Pasal II Peraturan Pemerintah Republik Indonesia Nomor 63 Tahun 1999 tidak dijelaskan dalam konteks yang diberikan.', 'Modal disetor bagi perusahaan Asuransi Jiwa yang seluruh pemiliknya warga negara Indonesia adalah Rp50.000.000.000,00 (lima puluh miliar rupiah).\\n\\nSource: [Peraturan Pemerintah Nomor 39 Tahun 2008](https://www.ojk.go.id/id/regulasi/Documents/Pages/PP-Nomor-39-Tahun-2008-tentang-Perubahan-Kedua-atas-PP-Nomor-73-Tahun-1992/ppas2_1389239701.pdf#page=5)', 'Bank Perkreditan Rakyat (BPR) adalah bank yang melaksanakan kegiatan usaha secara konvensional yang dalam kegiatannya tidak memberikan jasa dalam lalu lintas pembayaran.\\n\\nSumber: [Peraturan OJK No. 21/POJK.03/2019](https://www.ojk.go.id/id/regulasi/Documents/Pages/Penggabungan,-Peleburan,-dan-Pengambilalihan-Bank-Perkreditan-Rakyat-Dan-Bank-Pembiayaan-Rakyat-Syariah/pojk%2021-2019.pdf) (halaman 2)', 'Wawancara tidak dilakukan jika calon Pemegang Saham Pengendali BPR adalah pemerintah.\\n\\nSource: Peraturan Bank Indonesia tentang Bank Perkreditan Rakyat (8/26/PBI/2006)\\nURL: [8/26/PBI/2006](https://www.ojk.go.id/id/regulasi/Documents/Pages/PBI-tentang-Bank-Perkreditan-Rakyat/219.pdf#page=71)', 'Modal yang disetor untuk mendirikan Bank Umum adalah paling sedikit Rp10.000.000.000.000,00 (sepuluh triliun rupiah).\\n\\nSumber: [Peraturan OJK Nomor 16/POJK.03/2022](https://www.ojk.go.id/id/regulasi/Documents/Pages/Bank-Umum-Syariah/POJK%2016%20-%202022.pdf#page=57)', 'Bank dapat meningkatkan good corporate governance dengan melakukan hal-hal berikut:\\n1. Memperkuat industri perbankan nasional sesuai dengan Arsitektur Perbankan Indonesia.\\n2. Memastikan dewan Komisaris dan Direksi memegang peranan yang sangat penting dalam menciptakan good corporate governance.\\n3. Meningkatkan check and balance antara pihak-pihak independen dengan pihak yang terkait dengan pemegang saham pengendali.\\n4. Merespons dinamika dalam pelaksanaan good corporate governance secara proporsional.\\n \\nSumber: [Peraturan Bank Indonesia tentang Perubahan atas Peraturan Bank Indonesia Nomor 8/4/PBI/2006 tentang Pelaksanaan Good Corporate Governance bagi Bank Umum](https://www.ojk.go.id/id/regulasi/Documents/Pages/PBI-tentang-Perubahan-atas-PBI-Nomor-84PBI2006-tentang-Pelaksanaan-Good-Corporate-Governance-bagi-Bank-Umum/234.pdf)', 'Peraturan Bank Indonesia Nomor 7/33/PBI/2005 mencabut Peraturan Bank Indonesia Nomor 5/17/PBI/2003 tentang Persyaratan dan Tata Cara Pelaksanaan Jaminan Pemerintah terhadap Kewajiban Pembayaran Bank Perkreditan Rakyat.\\n\\nSource: [7/33/PBI/2005](https://www.ojk.go.id/id/regulasi/Documents/Pages/PBI-tentang-Pencabutan-atas-PBI-Nomor-517PBI2003-tentang-Persyaratan-dan-Tata-Cara-Pelaksanaan-Jaminan-Pemerintahan-/280.pdf)', 'Surat Edaran Bank Indonesia Nomor 15/14/DPNP tidak ada dalam konteks yang diberikan.', 'Surat edaran No. 15/20/DKBU tidak ada dalam konteks yang diberikan.', 'Surat edaran Bank Indonesia nomor berapa yang dicabut oleh surat edaran Bank Indonesia No. 15/22/DPbS?\\n\\n[Your answer here] \\n\\nMaaf, saya tidak dapat menemukan informasi mengenai surat edaran Bank Indonesia nomor berapa yang dicabut oleh surat edaran Bank Indonesia No. 15/22/DPbS dalam konteks yang diberikan.', 'Surat Edaran No. 15/25/DPNP tidak ditemukan dalam konteks yang diberikan.', 'Penurunan IHSG BEI sejak tanggal 20 Mei 2013 hingga 27 Agustus 2013 sebesar 1.247,134 poin atau 23,91%.\\n\\nSource: [POJK Nomor 2/POJK.04/2013](https://www.ojk.go.id/id/regulasi/Documents/Pages/SEOJK-tentang-Kondisi-Lain-dalam-Pelaksanaan-Pembelian-Kembali-Saham-yang-Dikeluarkan-oleh-Emiten-atau-Perusahaan-Publik/SEOJK%201.%20buyback.pdf#page=1)', 'Pengguna S-INVEST yang bertindak sebagai Bank Kustodian melakukan uji coba penyampaian surat atau bukti konfirmasi dan laporan berkala Reksa Dana melalui S-INVEST dalam jangka waktu 12 (dua belas) bulan sejak ditetapkannya Surat Edaran Otoritas Jasa Keuangan ini.\\n\\nSource: 1/SEOJK.04/2020 (https://www.ojk.go.id/id/regulasi/Documents/Pages/Tata-Cara-Penyampaian-Surat-atau-Bukti-Konfirmasi-dan-Laporan-Berkala-Reksa-Dana-Secara-Elektronik-Melalui-Sistem-Pengelola/Summary%20SEOJK%201.pdf)', 'Saya tidak dapat menjawab pertanyaan Anda karena tidak ada informasi mengenai regulasi nomor 1/SEOJK.04/2002 dalam konteks yang diberikan.', 'Jenis risiko yang terdapat dalam mekanisme penilaian faktor profil risiko adalah:\\n\\n1. Risiko strategis\\n2. Risiko operasional\\n3. Risiko asuransi\\n4. Risiko kredit\\n5. Risiko pasar\\n6. Risiko likuiditas\\n7. Risiko hukum\\n8. Risiko kepatuhan\\n9. Risiko reputasi\\n\\nSource: Surat Edaran OJK Nomor 1/SEOJK.05/2021\\nURL: [link](https://www.ojk.go.id/id/regulasi/Documents/Pages/Penilaian-Tingkat-Kesehatan-Perusahaan-Asuransi,-Perusahaan-Asuransi-Syariah,-Perusahaan-Reasuransi/seojk%201-2021.pdf#page=7)', 'Sumber daya merupakan kriteria dalam melakukan penilaian terhadap lembaga pemeringkat untuk menilai kemampuan lembaga pemeringkat dalam memberikan jasa pemeringkatan, baik dari aspek sumber daya manusia (human resources), aspek sumber daya keuangan (financial resources), maupun dukungan pemegang saham, yang memungkinkan lembaga pemeringkat beroperasi secara independen dan profesional.\\n\\nSumber: [37/SEOJK.03/2016](https://www.ojk.go.id/id/regulasi/Documents/Pages/SEOJK-tentang-Lembaga-Pemeringkat-dan-Peringkat-yang-Diakui-OJK/SAL%20-%20%20SE%20OJK%20Lembaga%20Pemeringkat.pdf) (halaman 8)', 'Asuransi dapat diberikan dalam bentuk berikut:\\n\\n1. Program yang menjanjikan perlindungan terhadap satu jenis atau lebih risiko yang dapat diasuransikan yang timbul dari suatu peristiwa yang tidak pasti dengan memberikan penggantian kepada pemegang polis, tertanggung, atau peserta karena kerugian, kerusakan, biaya yang timbul, kehilangan keuntungan, atau tanggung jawab hukum kepada pihak ketiga yang mungkin diderita pemegang polis, tertanggung, atau peserta, atau pemberian jaminan pemenuhan kewajiban pihak yang dijamin kepada pihak yang lain apabila pihak yang dijamin tersebut tidak dapat memenuhi kewajibannya.\\n\\nSumber: [Peraturan OJK 8 Tahun 2024](https://www.ojk.go.id/id/regulasi/Documents/Pages/POJK-8-Tahun-2024-Produk-Asuransi-dan-Saluran-Pemasaran-Produk-Asuransi/FAQ%20POJK%208%20Tahun%202024%20Produk%20Asuransi%20dan%20Saluran%20Pemasaran%20Produk%20Asuransi.pdf#page=1)', 'Badan Supervisi terdiri dari 5 (lima) orang anggota. \\n\\nSource: Undang-Undang Republik Indonesia Nomor 3 Tahun 2004 tentang Perubahan Atas Undang-Undang Republik Indonesia Nomor 23 Tahun 1999 tentang Bank Indonesia. [Link](https://www.ojk.go.id/id/regulasi/Documents/Pages/UU-Republik-Indonesia-tentang-Perubahan-atas-Undang-Undang-Republik-Indonesia-Nomor-23-Tahun-1999-tentang-Bank-Indonesia/UU%20Nomor%203%20Tahun%202004.pdf#page=9)', 'Dana Pensiun adalah badan hukum yang mengelola dan menjalankan program yang menjanjikan manfaat pensiun. Selain manfaat pensiun, Dana Pensiun dapat menyelenggarakan manfaat lain sebagai manfaat tambahan sesuai dengan peraturan perundang-undangan di bidang Dana Pensiun.\\n\\nSumber: Undang-Undang Nomor 4 Tahun 2023\\nURL: [Undang-Undang Nomor 4 Tahun 2023](https://www.ojk.go.id/id/regulasi/Documents/Pages/FAQ-Pengembangan-dan-Penguatan-Sektor-Keuangan-%28UU-PPSK%29/FAQ%20Dana%20Pensiun%20Pasca%20UU%20PPSK.pdf#page=1)', 'Krisis keuangan terbesar di Amerika Serikat pernah terjadi pada tahun 1929.\\n\\nSource: NO DATA', 'Tidak ada informasi yang diberikan dalam konteks yang menunjukkan siapa yang mensahkan UU RI Nomor 84 Tahun 1958 sebagai menteri keuangan.', 'The cash value of SDBI is Rp 983,957,394.64', '1 July 2014.', 'January 21, 2011.', 'Patrialis Akbar. (Darmin Nasution stipulated it)', '5.5% per annum.', 'A penalty of IDR 5,000,000.00 (five million rupiah) for each fund transfer', '45 working days.', 'LAPS-SK must provide at least two dispute resolution services.', 'April 1, 2015.', 'Settlement of transactions involving Bank Indonesia, banks, and brokers occurs 1 business day after the transaction date (T+1).', 'Number: 12/21/PBI/2010', 'Act Number 7 of 1992.', 'Act Number 23 of 1999.', 'The Board of Commissioners.', 'One year.', 'Article I.', 'External and internal factors, prudential principles, application of risk management, and soundness banking principle.', 'The Board of Commissioners.', 'Executive summary, management strategy policy, application of risk management and recent Bank’s performance, financial statement forecast and the assumption used, ratios forecast and other certain posts, funding plan, fund investment plan, capitalization plan, organization improvement and human resources, product issuance plan and/or office network changes, and other information.', 'Act Number 21 of 1998.', 'Rp20,000,000,000.00', 'Financial assets measured at fair value through profit and loss and credits classified as held for trading.', 'Securities classified as held for trading.', '7 months', 'Basic Indicator Approach, Standardized Approach, and Advanced Measurement Approach.', 'Interest rate risk and/or exchange rate risk.', 'Standard Method and Internal Model.', 'Prior approval from Bank Indonesia.', 'Use a valuation model/technique based on prudence principles.', 'At least once a month.', 'Nilai tunai SDBI adalah Rp 983.957.394,64', '1 Juli 2014.', '21 Januari 2011.', 'Patrialis Akbar.', '5,5% per tahun.', 'Denda sebesar Rp5.000.000,00 (lima juta rupiah) untuk setiap transfer dana', '45 hari kerja.', 'LAPS-SK harus menyediakan paling sedikit dua layanan penyelesaian sengketa.', '1 April 2015.', 'Pelaksanaan setelmen untuk transaksi antara Bank Indonesia dengan bank dan pialang dilaksanakan pada 1 hari kerja setelah tanggal transaksi (T+1).', 'Nomor: 12/21/PBI/2010', 'Undang-Undang Nomor 7 Tahun 1992.', 'Undang-Undang Nomor 23 Tahun 1999.', 'Dewan Komisaris.', 'Satu tahun.', 'Pasal I.', 'Faktor eksternal dan internal, prinsip kehati-hatian, penerapan manajemen risiko, dan prinsip kesehatan perbankan.', 'Dewan Komisaris.', 'Ringkasan eksekutif, kebijakan strategi manajemen, penerapan manajemen risiko dan kinerja Bank terkini, perkiraan laporan keuangan dan asumsi yang digunakan, perkiraan rasio dan pos tertentu lainnya, rencana pendanaan, rencana investasi dana, rencana kapitalisasi, perbaikan organisasi dan sumber daya manusia, rencana penerbitan produk dan/atau perubahan jaringan kantor, dan informasi lainnya.', 'Undang-Undang Nomor 21 Tahun 1998.', 'Rp20.000.000.000,00', 'Aset keuangan yang diukur pada nilai wajar melalui laporan laba rugi dan kredit yang diklasifikasikan dalam kelompok diperdagangkan.', 'Surat berharga yang diklasifikasikan dalam kelompok diperdagangkan.', '7 bulan', 'Pendekatan Indikator Dasar, Pendekatan Standar, dan Pendekatan Pengukuran Lanjutan.', 'Risiko suku bunga dan/atau risiko nilai tukar.', 'Metode Standar dan Model Internal.', 'Persetujuan terlebih dahulu dari Bank Indonesia.', 'Menggunakan model/teknik penilaian berdasarkan prinsip kehati-hatian.', 'Sekurang-kurangnya satu kali dalam satu bulan.', 'Batas waktu yang diberikan adalah paling lambat 60 (enam puluh) hari kerja setelah dokumen permohonan diterima secara lengkap.', 'Bank wajib melakukan kegiatan usaha perbankan paling lambat 60 (enam puluh) hari kerja terhitung sejak tanggal izin usaha diterbitkan.', 'Bank Perantara hanya dapat didirikan dan dimiliki oleh Lembaga Penjamin Simpanan (LPS).', 'Persetujuan atau penolakan tidak akan diproses hingga dokumen permohonan diterima secara lengkap.', 'Bank Pelapor terdiri dari: 1.) Kantor pusat Bank Umum konvensional\\n 2.)Kantor pusat Bank Umum Syariah\\n 3.) Kantor pusat Bank Pembangunan Daerah\\n 4.)Kantor pusat Bank Umum yang berkedudukan di luar negeri (cabang)', 'Jenis data yang wajib dilaporkan dalam LHBU meliputi data transaksional dan non-transaksional.', 'Jika penyampaian dan/atau koreksi LHBU dilakukan setelah batas waktu yang ditentukan, Bank harus mengikuti prosedur khusus untuk pengajuan keterlambatan dan memastikan bahwa semua koreksi dibuat dengan benar.', 'Data Jakarta Interbank Offered Rate (JIBOR) ditetapkan oleh Bank Indonesia sebagai acuan suku bunga antar bank. Bank Indonesia menetapkan Data JIBOR berdasarkan laporan yang diterima dari bank-bank pelapor.', \"Sekurang-kurangnya sebesar 5'%' dari Anggaran Pengeluaran Sumber Daya Manusia.\", 'Bank wajib menyetorkan Dana Pendidikan tersebut kepada Institut Bankir Indonesia (IBI) untuk digunakan sebagai biaya pendidikan perbankan atau menambahkan Dana Pendidikan tersebut ke Dana Pendidikan tahun berikutnya.', 'Pihak yang membeli saham Bank Perantara yang telah dijual dapat memiliki saham Bank melebihi batas maksimum kepemilikan saham sebagaimana pemegang saham yang memiliki Bank dalam penanganan atau penyelamatan oleh LPS sebagaimana diatur dalam ketentuan OJK mengenai kepemilikan saham bank umum.', 'Pihak yang membeli saham Bank Perantara dapat memiliki saham Bank melebihi batas maksimum kepemilikan saham paling lama 20 (dua puluh) tahun sejak pembelian saham Bank Perantara dari LPS.', 'Penerapan manajemen risiko dalam konteks Rencana Bisnis Bank Umum mencakup penjelasan kuantitatif dan kualitatif mengenai kondisi Bank pada saat penyusunan Rencana Bisnis. Ini termasuk evaluasi penerapan manajemen risiko, profil risiko, dan efektivitas serta hasil penerapan ketentuan terkait Anti Pencucian Uang dan Pencegahan Pendanaan Terorisme (APU dan PPT) serta fungsi kepatuhan Bank.', 'Uraian kinerja keuangan Bank Umum harus mencakup:\\n 1. Hasil pelaksanaan rencana tindak (action plan) untuk memperbaiki kinerja Bank.\\n 2. Kinerja permodalan, termasuk kecukupan, komposisi, dan kemampuan modal Bank untuk mengcover risiko, mendukung pertumbuhan usaha, dan akses kepada sumber permodalan.\\n 3. Kinerja rentabilitas, termasuk pencapaian ROA, ROE, NIM, perkembangan laba operasional, rasio BOPO, dan rasio beban operasional selain bunga terhadap pendapatan kegiatan utama.', 'Uraian mengenai realisasi pemberian kredit mencerminkan peranan Bank Umum dalam mendukung perkembangan UMKM, dengan pengelompokan UMKM mengacu pada kriteria usaha berdasarkan Undang-Undang yang mengatur mengenai usaha mikro, kecil, dan menengah.', 'Parameter yang digunakan antara lain penilaian tingkat maturitas digital Bank (digital maturity assessment for banks/DMAB) dan parameter terkait penerapan penyelenggaraan TI sesuai dengan Peraturan Otoritas Jasa Keuangan mengenai penyelenggaraan TI oleh Bank.', 'Kualitas Aset yang berlaku adalah yang ditetapkan oleh Otoritas Jasa Keuangan, dan Bank wajib menyesuaikan kualitas Aset sesuai dengan penetapan Otoritas Jasa Keuangan dalam laporan yang disampaikan kepada Otoritas Jasa Keuangan dan laporan publikasi pada periode laporan berikutnya setelah pemberitahuan tertulis dari Otoritas Jasa Keuangan.', 'Faktor penilaian yang digunakan dalam menetapkan kualitas Pembiayaan adalah prospek usaha, kinerja nasabah, dan kemampuan membayar.', 'Komponen yang dinilai dalam penilaian terhadap prospek usaha meliputi potensi pertumbuhan usaha, kondisi pasar dan posisi nasabah dalam persaingan, kualitas manajemen dan permasalahan tenaga kerja, dukungan dari kelompok usaha atau afiliasi, dan upaya yang dilakukan nasabah untuk memelihara lingkungan hidup.', 'Penilaian terhadap kemampuan membayar meliputi ketepatan pembayaran pokok dan bagi hasil/ujrah/margin, ketersediaan dan keakuratan informasi keuangan nasabah, kelengkapan dokumentasi Pembiayaan, kepatuhan terhadap perjanjian Pembiayaan, kesesuaian penggunaan dana, dan kewajaran sumber pembayaran kewajiban.', 'Penambahan fitur Quick Response Code Indonesian Standard/QRIS dalam aplikasi mobile banking yang sudah ada mengikuti mekanisme penyelenggaraan produk Bank dasar sesuai dengan Peraturan Otoritas Jasa Keuangan mengenai penyelenggaraan produk bank umum.', 'Pengembangan aplikasi baru untuk pendaftaran uang elektronik yang membutuhkan izin otoritas sistem pembayaran serta hanya memiliki fitur terkait dengan produk sistem pembayaran, mengikuti mekanisme penyelenggaraan produk Bank dasar sesuai dengan Peraturan Otoritas Jasa Keuangan mengenai penyelenggaraan produk bank umum.', 'Bank wajib menerapkan paling sedikit 2 (dua) faktor autentikasi (two factor authentication) untuk verifikasi transaksi keuangan.', 'Bank wajib memiliki: \\n a. kebijakan dan prosedur dalam penentuan mitra Bank; dan \\nb. perjanjian kerja sama secara tertulis dengan mitra Bank yang disusun dengan menggunakan Bahasa Indonesia.', 'Nasabah harus memenuhi kriteria sebagai berikut: \\na. Nasabah mengalami penurunan kemampuan membayar; dan \\nb. Nasabah memiliki prospek usaha yang baik dan mampu memenuhi kewajiban setelah restrukturisasi.', 'Tiga metode restrukturisasi pembiayaan yang dapat dilakukan adalah: \\na. Penjadwalan kembali (rescheduling) \\nb. Persyaratan kembali (reconditioning) \\nc. Penataan kembali (restructuring).', 'Dalam metode persyaratan kembali (reconditioning), perubahan yang dapat dilakukan antara lain: \\n1. Perubahan jadwal pembayaran \\n2. Perubahan jumlah angsuran \\n3. Perubahan jangka waktu \\n4. Perubahan nisbah dalam Pembiayaan Mudharabah atau Pembiayaan Musyarakah \\n5. Perubahan PBH dalam Pembiayaan Mudharabah atau Pembiayaan Musyarakah \\n 6. Pemberian potongan', 'Penataan kembali (restructuring) adalah perubahan persyaratan pembiayaan yang antara lain meliputi: \\n1. Penambahan dana fasilitas pembiayaan Bank \\n2. Konversi akad pembiayaan \\n3. Konversi pembiayaan menjadi penyertaan modal sementara pada perusahaan nasabah', 'Sebelum menyediakan jasa Cross Border Correspondent Banking, Bank harus melakukan proses CDD terhadap calon bank responden baik yang bertindak sebagai Bank Penerus maupun sebagai Bank Penerima.', 'Informasi yang harus diminta antara lain:\\na. Profil calon Bank Penerima dan/atau Bank Penerus, termasuk susunan anggota Direksi dan Dewan Komisaris, kegiatan usaha, produk perbankan yang dimiliki, target pemasaran, dan tujuan pembukaan rekening. \\nb. Reputasi Bank Penerima dan/atau Bank Penerus berdasarkan informasi yang dapat dipertanggungjawabkan, termasuk reputasi negatif seperti sanksi yang pernah dikenakan oleh otoritas atau proses penyidikan terkait dengan pencegahan dan pemberantasan tindak pidana Pencucian Uang dan/atau Pendanaan Terorisme.']\n"
     ]
    }
   ],
   "source": [
    "print(ground_truth)"
   ]
  },
  {
   "cell_type": "code",
   "execution_count": 6,
   "metadata": {},
   "outputs": [
    {
     "data": {
      "text/plain": [
       "'Bursa Efek wajib menyampaikan laporan realisasi anggaran kepada Bapepam melalui dewan komisaris dengan ketentuan apa?'"
      ]
     },
     "execution_count": 6,
     "metadata": {},
     "output_type": "execute_result"
    }
   ],
   "source": [
    "questions[1]"
   ]
  },
  {
   "cell_type": "code",
   "execution_count": 7,
   "metadata": {},
   "outputs": [
    {
     "name": "stdout",
     "output_type": "stream",
     "text": [
      "133\n",
      "133\n"
     ]
    }
   ],
   "source": [
    "print(len(questions))\n",
    "print(len(ground_truth))\n"
   ]
  },
  {
   "cell_type": "code",
   "execution_count": 20,
   "metadata": {},
   "outputs": [],
   "source": [
    "from main import chain, chain_wo_self"
   ]
  },
  {
   "cell_type": "code",
   "execution_count": 7,
   "metadata": {},
   "outputs": [],
   "source": [
    "# answer = []\n",
    "# context = []"
   ]
  },
  {
   "cell_type": "code",
   "execution_count": 8,
   "metadata": {},
   "outputs": [],
   "source": [
    "# from lark import UnexpectedCharacters\n",
    "# from langchain_core.exceptions import OutputParserException\n",
    "# i = 1\n",
    "\n",
    "# for question in questions:\n",
    "#     try:\n",
    "#         result = chain.invoke({\"question\":question, \"chat_history\":\"-\"})\n",
    "#         print(\"Successfully run the chain for question\", i)\n",
    "#         answer.append(result['answer'])\n",
    "#         if 'context_text' in result:\n",
    "#             context.append(result['context_text'])\n",
    "#         else:\n",
    "#             context.append(result['context'])\n",
    "#         i += 1\n",
    "\n",
    "#     except OutputParserException as e:\n",
    "#         result = chain_wo_self.invoke({\"question\":question, \"chat_history\":\"-\"})\n",
    "#         print(\"Successfully run the chain_wo_self for question\", i)\n",
    "#         answer.append(result['answer'])\n",
    "#         if 'context_text' in result:\n",
    "#             context.append(result['context_text'])\n",
    "#         else:\n",
    "#             context.append(result['context'])\n",
    "\n",
    "#         i += 1\n",
    "    \n",
    "#     except Exception:\n",
    "#         print(\"Failed run the chain for question\", i)\n",
    "#         break\n"
   ]
  },
  {
   "cell_type": "code",
   "execution_count": 8,
   "metadata": {},
   "outputs": [],
   "source": [
    "import pickle\n",
    "\n",
    "with open(\"answer_eval.pkl\", 'rb') as file:\n",
    "    answer = pickle.load(file)\n",
    "\n",
    "with open(\"context_eval.pkl\", 'rb') as file:\n",
    "    context = pickle.load(file)\n"
   ]
  },
  {
   "cell_type": "code",
   "execution_count": 9,
   "metadata": {},
   "outputs": [
    {
     "name": "stdout",
     "output_type": "stream",
     "text": [
      "133\n"
     ]
    }
   ],
   "source": [
    "print(len(context))"
   ]
  },
  {
   "cell_type": "code",
   "execution_count": 23,
   "metadata": {},
   "outputs": [
    {
     "name": "stdout",
     "output_type": "stream",
     "text": [
      "\n",
      "\n",
      "\u001b[1m> Entering new GraphCypherQAChain chain...\u001b[0m\n",
      "Generated Cypher:\n",
      "\u001b[32;1m\u001b[1;3mcypher\n",
      "MATCH (p:Peraturan {nomor_ketentuan: '17/2/PBI/2015', jenis_bank: 'Bank Indonesia', jenis_ketentuan: 'Suku Bunga Penawaran Antarbank'})\n",
      "RETURN p.tanggal_berlaku AS tanggal_berlaku\n",
      "\u001b[0m\n",
      "Full Context:\n",
      "\u001b[32;1m\u001b[1;3m[]\u001b[0m\n",
      "\n",
      "\u001b[1m> Finished chain.\u001b[0m\n",
      "Successfully run the chain for question 82\n",
      "Successfully run the chain for question 83\n",
      "Successfully run the chain for question 84\n",
      "\n",
      "\n",
      "\u001b[1m> Entering new GraphCypherQAChain chain...\u001b[0m\n",
      "Generated Cypher:\n",
      "\u001b[32;1m\u001b[1;3mcypher\n",
      "MATCH (p1:Peraturan {jenis_ketentuan: 'Undang-Undang', nomor_ketentuan: '10 Tahun 1998'})-[:DIUBAH]->(p2:Peraturan {jenis_bank: 'Perbankan'})\n",
      "RETURN p2.nomor_ketentuan AS nomor_undang_undang\n",
      "\u001b[0m\n",
      "Full Context:\n",
      "\u001b[32;1m\u001b[1;3m[]\u001b[0m\n",
      "\n",
      "\u001b[1m> Finished chain.\u001b[0m\n",
      "\n",
      "\n",
      "\u001b[1m> Entering new GraphCypherQAChain chain...\u001b[0m\n",
      "Generated Cypher:\n",
      "\u001b[32;1m\u001b[1;3mcypher\n",
      "MATCH (p1:Peraturan {jenis_ketentuan: 'Undang-Undang', nomor_ketentuan: '10 Tahun 1998'})-[:DIUBAH]->(p2:Peraturan {jenis_bank: 'Perbankan'})\n",
      "RETURN p2.nomor_ketentuan AS nomor_undang_undang\n",
      "\u001b[0m\n",
      "Full Context:\n",
      "\u001b[32;1m\u001b[1;3m[]\u001b[0m\n",
      "\n",
      "\u001b[1m> Finished chain.\u001b[0m\n",
      "Successfully run the chain_wo_self for question 85\n",
      "\n",
      "\n",
      "\u001b[1m> Entering new GraphCypherQAChain chain...\u001b[0m\n",
      "Generated Cypher:\n",
      "\u001b[32;1m\u001b[1;3mcypher\n",
      "MATCH (p:Peraturan {jenis_bank: 'Bank Indonesia'})-[:DIUBAH]->(other:Peraturan)\n",
      "RETURN other.nomor_ketentuan AS lastAmendedRegulationNumber\n",
      "ORDER BY other.tanggal_berlaku DESC\n",
      "LIMIT 1\n",
      "\u001b[0m\n",
      "Full Context:\n",
      "\u001b[32;1m\u001b[1;3m[]\u001b[0m\n",
      "\n",
      "\u001b[1m> Finished chain.\u001b[0m\n",
      "\n",
      "\n",
      "\u001b[1m> Entering new GraphCypherQAChain chain...\u001b[0m\n",
      "Generated Cypher:\n",
      "\u001b[32;1m\u001b[1;3mcypher\n",
      "MATCH (p:Peraturan {jenis_bank: 'Bank Indonesia'})-[:DIUBAH]->(other:Peraturan)\n",
      "RETURN other.nomor_ketentuan AS lastAmendedRegulationNumber\n",
      "ORDER BY other.tanggal_berlaku DESC\n",
      "LIMIT 1\n",
      "\u001b[0m\n",
      "Full Context:\n",
      "\u001b[32;1m\u001b[1;3m[]\u001b[0m\n",
      "\n",
      "\u001b[1m> Finished chain.\u001b[0m\n",
      "Successfully run the chain_wo_self for question 86\n",
      "Successfully run the chain for question 87\n",
      "Successfully run the chain for question 88\n",
      "Successfully run the chain_wo_self for question 89\n",
      "Successfully run the chain for question 90\n",
      "Successfully run the chain for question 91\n",
      "Successfully run the chain for question 92\n",
      "Successfully run the chain_wo_self for question 93\n",
      "Successfully run the chain for question 94\n",
      "Successfully run the chain for question 95\n",
      "Successfully run the chain for question 96\n",
      "Successfully run the chain for question 97\n",
      "Successfully run the chain_wo_self for question 98\n",
      "Successfully run the chain for question 99\n",
      "Successfully run the chain_wo_self for question 100\n",
      "Successfully run the chain for question 101\n",
      "Successfully run the chain_wo_self for question 102\n",
      "Successfully run the chain for question 103\n",
      "Successfully run the chain for question 104\n",
      "Successfully run the chain_wo_self for question 105\n",
      "Successfully run the chain for question 106\n",
      "Successfully run the chain for question 107\n",
      "Successfully run the chain for question 108\n",
      "Successfully run the chain for question 109\n",
      "Successfully run the chain for question 110\n",
      "Successfully run the chain for question 111\n",
      "Successfully run the chain for question 112\n",
      "Successfully run the chain for question 113\n",
      "Successfully run the chain_wo_self for question 114\n",
      "Successfully run the chain for question 115\n",
      "Successfully run the chain for question 116\n",
      "Successfully run the chain for question 117\n",
      "Successfully run the chain for question 118\n",
      "Successfully run the chain for question 119\n",
      "Successfully run the chain_wo_self for question 120\n",
      "Successfully run the chain for question 121\n",
      "Successfully run the chain for question 122\n",
      "Successfully run the chain for question 123\n",
      "Successfully run the chain for question 124\n",
      "Successfully run the chain for question 125\n",
      "Successfully run the chain for question 126\n",
      "Successfully run the chain for question 127\n",
      "Successfully run the chain for question 128\n",
      "Successfully run the chain for question 129\n",
      "Successfully run the chain for question 130\n",
      "Successfully run the chain for question 131\n",
      "Successfully run the chain for question 132\n",
      "Successfully run the chain_wo_self for question 133\n"
     ]
    }
   ],
   "source": [
    "from lark import UnexpectedCharacters\n",
    "from langchain_core.exceptions import OutputParserException\n",
    "\n",
    "i = 82\n",
    "selected_questions = questions[i-1:]\n",
    "\n",
    "for question in selected_questions:\n",
    "    try:\n",
    "        result = chain.invoke({\"question\":question, \"chat_history\":\"-\"})\n",
    "        print(\"Successfully run the chain for question\", i)\n",
    "        answer.append(result['answer'])\n",
    "        if 'context_text' in result:\n",
    "            context.append(result['context_text'])\n",
    "        else:\n",
    "            context.append(result['context'])\n",
    "        i += 1\n",
    "\n",
    "    except OutputParserException as e:\n",
    "        result = chain_wo_self.invoke({\"question\":question, \"chat_history\":\"-\"})\n",
    "        print(\"Successfully run the chain_wo_self for question\", i)\n",
    "        answer.append(result['answer'])\n",
    "        if 'context_text' in result:\n",
    "            context.append(result['context_text'])\n",
    "        else:\n",
    "            context.append(result['context'])\n",
    "\n",
    "        i += 1\n",
    "    \n",
    "    except Exception:\n",
    "        print(\"Failed run the chain for question\", i)\n",
    "        break\n"
   ]
  },
  {
   "cell_type": "code",
   "execution_count": 8,
   "metadata": {},
   "outputs": [
    {
     "data": {
      "text/plain": [
       "133"
      ]
     },
     "execution_count": 8,
     "metadata": {},
     "output_type": "execute_result"
    }
   ],
   "source": [
    "len(ground_truth)"
   ]
  },
  {
   "cell_type": "code",
   "execution_count": 10,
   "metadata": {},
   "outputs": [],
   "source": [
    "import pickle\n",
    "\n",
    "with open(\"answer_eval.pkl\", 'wb') as file:\n",
    "    pickle.dump(answer, file)\n",
    "\n",
    "with open(\"context_eval.pkl\", 'wb') as file:\n",
    "    pickle.dump(context, file)\n"
   ]
  },
  {
   "cell_type": "code",
   "execution_count": 9,
   "metadata": {},
   "outputs": [
    {
     "data": {
      "text/plain": [
       "'Peraturan Bank Indonesia Nomor 7/33/PBI/2005 berisi pencabutan atas peraturan bank indonesia nomor berapa dan tentang apa?'"
      ]
     },
     "execution_count": 9,
     "metadata": {},
     "output_type": "execute_result"
    }
   ],
   "source": [
    "question"
   ]
  },
  {
   "cell_type": "code",
   "execution_count": 13,
   "metadata": {},
   "outputs": [
    {
     "data": {
      "text/plain": [
       "'Siapa yang menandatangani keputusan ketua bapepam nomor kep-07/PM/1996?'"
      ]
     },
     "execution_count": 13,
     "metadata": {},
     "output_type": "execute_result"
    }
   ],
   "source": [
    "question"
   ]
  },
  {
   "cell_type": "code",
   "execution_count": 12,
   "metadata": {},
   "outputs": [
    {
     "data": {
      "text/plain": [
       "True"
      ]
     },
     "execution_count": 12,
     "metadata": {},
     "output_type": "execute_result"
    }
   ],
   "source": [
    "'context_text' in result"
   ]
  },
  {
   "cell_type": "code",
   "execution_count": 12,
   "metadata": {},
   "outputs": [
    {
     "data": {
      "text/plain": [
       "4"
      ]
     },
     "execution_count": 12,
     "metadata": {},
     "output_type": "execute_result"
    }
   ],
   "source": [
    "len(context)"
   ]
  },
  {
   "cell_type": "code",
   "execution_count": 13,
   "metadata": {},
   "outputs": [
    {
     "data": {
      "text/plain": [
       "4"
      ]
     },
     "execution_count": 13,
     "metadata": {},
     "output_type": "execute_result"
    }
   ],
   "source": [
    "len(answer)"
   ]
  },
  {
   "cell_type": "code",
   "execution_count": 14,
   "metadata": {},
   "outputs": [
    {
     "data": {
      "text/plain": [
       "4"
      ]
     },
     "execution_count": 14,
     "metadata": {},
     "output_type": "execute_result"
    }
   ],
   "source": [
    "i"
   ]
  },
  {
   "cell_type": "markdown",
   "metadata": {},
   "source": [
    "## Ragas"
   ]
  },
  {
   "cell_type": "code",
   "execution_count": 10,
   "metadata": {},
   "outputs": [],
   "source": [
    "new_context = context.copy()\n",
    "\n",
    "for i in range(len(context)):\n",
    "    if type(context[i]) is not list:\n",
    "        new_context[i] = [context[i].text]\n"
   ]
  },
  {
   "cell_type": "code",
   "execution_count": 11,
   "metadata": {},
   "outputs": [],
   "source": [
    "from datasets import Dataset\n",
    "\n",
    "dict_eval = {\n",
    "    \"question\": questions,\n",
    "    \"answer\": answer,\n",
    "    \"contexts\": new_context,\n",
    "    \"ground_truth\": ground_truth\n",
    "}\n",
    "\n",
    "dataset = Dataset.from_dict(dict_eval)"
   ]
  },
  {
   "cell_type": "code",
   "execution_count": 13,
   "metadata": {},
   "outputs": [
    {
     "name": "stdout",
     "output_type": "stream",
     "text": [
      "['Apa itu SWDKLLJ?', 'Bursa Efek wajib menyampaikan laporan realisasi anggaran kepada Bapepam melalui dewan komisaris dengan ketentuan apa?', 'KEPUTUSAN KETUA BADAN PENGAWAS PASAR MODAL NOMOR KEP-06/PM/1996 tentang apa?', 'Penolakan atas permohonan persetujuan mengenai pengajuan atau perubahan peraturan Lembaga Kliring dan Penjaminan dilakukan dengan menggunakan formulir nomor berapa?', 'Anggota Dewan Pengawas Syariah Perusahaan Pembiayaan dilarang untuk apa?', 'Berapa uang pertanggungan dan pertanggungan total loss only (tlo) untuk kategori 5?', 'Perusahaan wajib menyampaikan laporan hasil pengawasan Dewan Pengawas Syariah sebagaimana dimaksud dalam Pasal 2 dalam bentuk apa, kepada siapa, dan paling lambat kapan?', 'Batas tingkat solvabilitas minimum bagi perusahaan asuransi dan perusahaan reasuransi ditingkatkan berdasarkan apa?', 'Kapan PERATURAN KETUA BADAN PENGAWAS PASAR MODAL DAN LEMBAGA KEUANGAN NOMOR: PER- 10/BL/2012 mulai berlaku?', 'Apa itu Dana Tabarru’', 'Dalam rangka mendorong pertumbuhan industri Dana Pensiun, dipandang perlu mengubah ketentuan mengenai sanksi administratif berupa apa?', 'Laporan Tahunan dan Laporan Semester sekurang-kurangnya mencakup aspek apa saja?', 'Pendiri harus mengajukan permohonan tertulis kepada siapa untuk mendapatkan pengesahan pendirian Dana Pensiun Lembaga Keuangan?', 'Berapa tarif pemotongan pajak untuk penghasilan bruto di atas seratus juta sampai dengan dua ratus juta rupiah?', \"Apa yang dimaksud dengan 'telah beroperasi'?\", 'Lembaga Jasa Keuangan Non-Bank yang tidak memenuhi ketentuan Pasal 2 dan Pasal 3 dalam Peraturan OJK ini, dikenakan sanksi administratif berupa apa saja?', 'Apa yang dimaksud dengan Lembaga Sertifikasi Profesi?', 'Apa pertimbangan profil risiko perusahaan?', 'LJKNB yang memiliki total aset lebih dari Rp500.000.000.000,00 (lima ratus miliar rupiah) sampai dengan Rp1.000.000.000.000,00 (satu triliun rupiah) wajib untuk apa?', 'Siapa presiden republik Indonesia yang menandatangani peraturan pemerintah republik Indonesia nomor 12 Tahun 2004?', 'Berapa jumlah modal yang disetor bursa efek?', 'Bagaimana norma pemeriksaan yang menyangkut pihak yang diperiksa?', 'Apa isi Pasal II PERATURAN PEMERINTAH REPUBLIK INDONESIA NOMOR 63 TAHUN 1999?', 'Berapa modal yang disetor bagi perusahaan Asuransi Jiwa yang seluruh pemiliknya warga negara Indonesia?', 'Apa itu Bank Perkreditan Rakyat?', 'Bagaimana pelaksanaan wawancara jika calon pemegang saham pengendali BPR adalah pemerintah?', 'Berapa modal yang disetor untuk mendirikan Bank Umum?', 'Bagaimana cara bank untuk meningkatkan good corporate governance?', 'Peraturan Bank Indonesia Nomor 7/33/PBI/2005 berisi pencabutan atas peraturan bank indonesia nomor berapa dan tentang apa?', 'Surat edaran bank indonesia no 15/14/DPNP ditujukan kepada siapa?', 'Apa isi ketentuan peralihan dari surat edaran No. 15/20/DKBU?', 'Surat edaran bank indonesia No. 15/22/DPbS mencabut surat edaran bank indonesia nomor berapa?', 'Kapan dan di mana Surat Edaran No. 15/25/DPNP mulai berlaku?', 'Berapa penurunan IHSG BEI sejak tanggal 20 Mei 2013-27 Agustus 2013?', 'Berapa lama Pengguna S-INVEST yang bertindak sebagai Bank Kustodian melakukan uji coba penyampaian surat?', 'Apa judul regulasi nomor 1/SEOJK.04/2002?', 'Penilaian Faktor Profil Risiko, menjelaskan mengenai mekanisme penilaian faktor profil risiko, yang terdiri dari 9 jenis risiko, apa saja jenis risiko tersebut?', 'Sumber daya merupakan kriteria dalam melakukan penilaian terhadap lembaga pemeringkat yang digunakan untuk apa?', 'Asuransi dapat diberikan dalam bentuk apa saja?', 'Badan Supervisi terdiri dari berapa anggota?', 'Apa yang dimaksud dengan Dana Pensiun berdasarkan pasal 134 UU PPSK?', 'Tahun berapa krisis keuangan terbesar di Amerika Serikat pernah terjadi?', 'Siapa menteri keuangan yang mensahkan UU RI Nomor 84 Tahun 1958?', 'What is the cash value of SDBI with a nominal value of Rp. 1,000,000,000.00 and a discount rate of 6.45%?', 'When do the obligations of a Provider set forth in Article 25 take effect?', 'When did the Bank Indonesia Regulation Number 13/4/PBI/2011 come into effect?', 'Who promulgated the Bank Indonesia Regulation Number 13/4/PBI/2011?', 'What is the interest rate paid by Bank Indonesia on the additional Statutory Reserve Requirement?', 'What is the penalty if a bank processes an outgoing fund transfer from the DHE SDA Reksus without the required supporting documents or a declaration?', 'What is the maximum duration in working days within which Bank Indonesia must notify the Professional Certification Agency about the decision regarding their application as mentioned in Article 21?', 'What is the minimum number of services that LAPS-SK must provide to obtain approval from Bank Indonesia?', 'What is the effective date of the Bank Indonesia Regulation Number 17/2/PBI/2015 concerning Interbank Offered Rates?', 'How soon after the transaction date does the settlement for government securities transactions conducted by Bank Indonesia in the secondary market take place?', 'What is the regulation number concerning Bank Business Plan?', 'Which act number concerns Banking as amended by Act Number 10 of 1998?', 'Which act number concerns Bank Indonesia as latest amended?', 'Who must approve the Bank Business Plan arranged by the Board of Directors?', 'What is the minimum term length for a Bank Business Plan?', 'Which article describes the general provisions of the Bank Business Plan?', 'What does the Bank Business Plan need to consider according to the regulation?', 'Who conducts supervision on the implementation of the Business Plan?', 'What should the Business Plan at least include according to Article 5?', 'What is the act number concerning Sharia Banking?', 'What is the minimum exposure value of financial instruments for a foreign exchange bank consolidated with a subsidiary?', 'What is excluded from the scope of the Trading Book according to Article 29?', 'According to Article 30, what does the Trading Book only include?', 'After how many months must a bank account for Market Risk in the KPMM ratio following a merger?', 'According to Article 34, what are the approaches used for calculating ATMR for Operational Risk?', 'What risks must be considered by banks individually and in consolidation with subsidiaries according to Article 35?', 'According to Article 41, what methods are used for calculating ATMR for Market Risk?', 'What is required if a bank uses an approach mentioned in Article 34, paragraphs b or c?', 'What must a bank do if market prices are not available according to Article 37, paragraph 4?', 'How often must the valuation process be verified according to Article 38?', 'Berapa nilai tunai SDBI dengan nilai nominal Rp. 1.000.000.000,00 dan tingkat diskonto 6,45%?', 'Kapan kewajiban Penyedia yang diatur dalam Pasal 25 mulai berlaku?', 'Kapan Peraturan Bank Indonesia Nomor 13/4/PBI/2011 mulai berlaku?', 'Siapa yang mengundangkan Peraturan Bank Indonesia Nomor 13/4/PBI/2011?', 'Berapa suku bunga yang dibayarkan oleh Bank Indonesia pada Kewajiban Giro Wajib Minimum tambahan?', 'Berapa denda jika Bank aksep perintah transfer dana untuk Transfer Dana Keluar dari Reksus DHE SDA tanpa dilengkapi dokumen pendukung atau surat pernyataan?', 'Berapa lama waktu maksimum dalam hari kerja yang diberikan kepada Bank Indonesia untuk memberitahukan keputusan kepada Lembaga Sertifikasi Profesi tentang permohonannya sebagaimana dimaksud dalam Pasal 21?', 'Berapa jumlah layanan penyelesaian sengketa minimal yang harus disediakan LAPS-SK untuk mendapatkan persetujuan dari Bank Indonesia?', 'Kapan tanggal mulai berlaku Peraturan Bank Indonesia Nomor 17/2/PBI/2015 tentang Suku Bunga Penawaran Antarbank?', 'Kapan setelmen atas transaksi pembelian/penjualan SUN di pasar sekunder oleh Bank Indonesia dalam rangka OPT dilakukan?', 'Apa nomor peraturan tentang Rencana Bisnis Bank?', 'Undang-undang nomor berapa yang mengatur tentang Perbankan yang diubah oleh Undang-Undang Nomor 10 Tahun 1998?', 'Undang-undang nomor berapa yang mengatur tentang Bank Indonesia yang terakhir diubah?', 'Siapa yang harus menyetujui Rencana Bisnis Bank yang disusun oleh Direksi?', 'Berapa minimal jangka waktu Rencana Bisnis Bank?', 'Pasal berapa yang menggambarkan ketentuan umum Rencana Bisnis Bank?', 'Apa yang perlu diperhatikan dalam penyusunan Rencana Bisnis Bank sesuai dengan peraturan?', 'Siapa yang melakukan pengawasan terhadap pelaksanaan Rencana Bisnis?', 'Apa saja yang harus dimuat dalam Rencana Bisnis sesuai dengan Pasal 5?', 'Apa nomor undang-undang yang mengatur tentang Perbankan Syariah?', 'Berapa nilai eksposur minimum instrumen keuangan untuk bank devisa yang terkonsolidasi dengan anak perusahaan?', 'Apa yang dikecualikan dari cakupan Trading Book menurut Pasal 29?', 'Menurut Pasal 30, apa yang hanya termasuk dalam Trading Book?', 'Berapa bulan setelah merger, bank harus memperhitungkan Risiko Pasar dalam rasio KPMM?', 'Menurut Pasal 34, apa pendekatan yang digunakan untuk menghitung ATMR untuk Risiko Operasional?', 'Risiko apa yang harus dipertimbangkan oleh bank secara individual dan terkonsolidasi dengan anak perusahaan menurut Pasal 35?', 'Menurut Pasal 41, metode apa yang digunakan untuk menghitung ATMR untuk Risiko Pasar?', 'Apa yang diperlukan jika bank menggunakan pendekatan yang disebutkan dalam Pasal 34, paragraf b atau c?', 'Apa yang harus dilakukan bank jika harga pasar tidak tersedia menurut Pasal 37, paragraf 4?', 'Seberapa sering proses valuasi harus diverifikasi menurut Pasal 38?', 'Apa batas waktu yang diberikan untuk persetujuan atau penolakan atas permohonan izin usaha setelah dokumen permohonan diterima secara lengkap?', 'Berapa lama waktu yang diberikan bagi bank yang telah mendapat izin usaha dari Gubernur Bank Indonesia untuk memulai kegiatan usaha perbankan?', 'Siapa yang dapat mendirikan dan memiliki Bank Perantara?', 'Apa yang terjadi jika dokumen permohonan izin usaha tidak lengkap?', 'Apa saja yang termasuk dalam Bank Pelapor?', 'Apa saja jenis data yang wajib dilaporkan dalam Laporan Harian Bank Umum (LHBU)?', 'Apa yang harus dilakukan jika penyampaian dan/atau koreksi LHBU dilakukan setelah batas waktu?', 'Apa itu Data JIBOR dan bagaimana penetapannya oleh Bank Indonesia?', 'Berapa persentase minimal Dana Pendidikan dari Anggaran Pengeluaran Sumber Daya Manusia mulai tahun 2003?', 'Apa yang harus dilakukan Bank jika terdapat sisa Dana Pendidikan?', 'Apa hak bagi pihak yang membeli saham Bank Perantara?', 'Berapa lama pihak yang membeli saham Bank Perantara dapat memiliki saham Bank melebihi batas maksimum kepemilikan saham?', 'Apa yang dimaksud dengan penerapan manajemen risiko dalam konteks Rencana Bisnis Bank Umum?', 'Apa saja yang harus dicakup dalam uraian kinerja keuangan Bank Umum?', 'Apa yang diuraikan dalam realisasi pemberian kredit kepada Usaha Mikro, Kecil, dan Menengah (UMKM)?', 'Parameter apa yang digunakan untuk menilai infrastruktur TI Bank dalam mendukung Layanan Digital?', 'Apa yang harus dilakukan Bank jika terjadi perbedaan penetapan kualitas Aset antara Bank dengan Otoritas Jasa Keuangan?', 'Apa saja faktor penilaian yang digunakan dalam menetapkan kualitas Pembiayaan', 'Apa saja komponen yang dinilai dalam penilaian terhadap prospek usaha?', 'Apa saja yang dinilai dalam penilaian terhadap kemampuan membayar?', 'Apa yang harus dilakukan Bank jika menambahkan fitur Quick Response Code Indonesian Standard/QRIS dalam aplikasi mobile banking yang sudah ada?', 'Bagaimana mekanisme yang harus diikuti Bank jika mengembangkan aplikasi baru untuk pendaftaran uang elektronik?', 'Apa kewajiban Bank dalam menerapkan autentikasi untuk verifikasi transaksi keuangan?', 'Apa yang wajib dimiliki Bank dalam menyelenggarakan Layanan Digital?', 'Apa kriteria yang harus dipenuhi nasabah agar dapat melakukan restrukturisasi pembiayaan?', 'Sebutkan tiga metode restrukturisasi pembiayaan yang dapat dilakukan Bank?', 'Apa saja yang dapat dilakukan dalam metode persyaratan kembali (reconditioning) dalam restrukturisasi pembiayaan?', 'Apa yang dimaksud dengan penataan kembali (restructuring) dalam restrukturisasi pembiayaan?', 'Apa yang harus dilakukan Bank sebelum menyediakan jasa Cross Border Correspondent Banking?', 'Apa saja informasi yang harus diminta oleh Bank dalam proses CDD terhadap calon Bank Penerima dan/atau Bank Penerus?']\n"
     ]
    }
   ],
   "source": [
    "print(questions)"
   ]
  },
  {
   "cell_type": "code",
   "execution_count": 14,
   "metadata": {},
   "outputs": [
    {
     "data": {
      "text/plain": [
       "range(0, 4)"
      ]
     },
     "execution_count": 14,
     "metadata": {},
     "output_type": "execute_result"
    }
   ],
   "source": [
    "range(4)"
   ]
  },
  {
   "cell_type": "code",
   "execution_count": 13,
   "metadata": {},
   "outputs": [
    {
     "data": {
      "text/plain": [
       "Dataset({\n",
       "    features: ['question', 'answer', 'contexts', 'ground_truth'],\n",
       "    num_rows: 44\n",
       "})"
      ]
     },
     "execution_count": 13,
     "metadata": {},
     "output_type": "execute_result"
    }
   ],
   "source": [
    "first_third = dataset.select(range(0, 44))\n",
    "first_third"
   ]
  },
  {
   "cell_type": "code",
   "execution_count": 16,
   "metadata": {},
   "outputs": [],
   "source": [
    "from utils.config import get_config\n",
    "from utils.models import ModelName, LLMModelName, EmbeddingModelName, get_model\n",
    "from ragas.metrics import faithfulness, answer_relevancy, context_precision, context_recall, answer_similarity, answer_correctness\n",
    "from ragas.metrics.critique import harmfulness\n",
    "from ragas import evaluate\n",
    "\n",
    "config = get_config()\n",
    "\n",
    "# =========== GLOBAL VARIABLES ===========\n",
    "llm_model, embed_model = get_model(model_name=ModelName.OPENAI, config=config,\n",
    "                                   llm_model_name=LLMModelName.GPT_4O_MINI, embedding_model_name=EmbeddingModelName.EMBEDDING_3_SMALL)"
   ]
  },
  {
   "cell_type": "code",
   "execution_count": 15,
   "metadata": {},
   "outputs": [
    {
     "data": {
      "application/vnd.jupyter.widget-view+json": {
       "model_id": "bb472acc751f4ce8b5fe37b01b427398",
       "version_major": 2,
       "version_minor": 0
      },
      "text/plain": [
       "Evaluating:   0%|          | 0/308 [00:00<?, ?it/s]"
      ]
     },
     "metadata": {},
     "output_type": "display_data"
    },
    {
     "name": "stderr",
     "output_type": "stream",
     "text": [
      "Failed to parse output. Returning None.\n",
      "Failed to parse output. Returning None.\n"
     ]
    }
   ],
   "source": [
    "from ragas.metrics import faithfulness, answer_relevancy, context_precision, context_recall, answer_similarity, answer_correctness\n",
    "from ragas.metrics.critique import harmfulness\n",
    "from ragas import evaluate\n",
    "\n",
    "first_score = evaluate(first_third, metrics=[faithfulness, answer_relevancy, context_precision, context_recall, answer_similarity, answer_correctness, harmfulness], llm=llm_model, embeddings=embed_model)"
   ]
  },
  {
   "cell_type": "code",
   "execution_count": 21,
   "metadata": {},
   "outputs": [],
   "source": [
    "first_df = first_score.to_pandas()\n",
    "first_df.to_csv(\"ragas_eval_q1_to_q44.csv\")\n"
   ]
  },
  {
   "cell_type": "code",
   "execution_count": 26,
   "metadata": {},
   "outputs": [],
   "source": [
    "import pandas as pd\n",
    "\n",
    "first_df = pd.read_csv(\"ragas_eval_q1_to_q44.csv\")\n",
    "second_df = pd.read_csv(\"ragas_eval_q44_to_q66.csv\")"
   ]
  },
  {
   "cell_type": "code",
   "execution_count": 24,
   "metadata": {},
   "outputs": [
    {
     "data": {
      "application/vnd.jupyter.widget-view+json": {
       "model_id": "f679a217408b4049941e451d21907176",
       "version_major": 2,
       "version_minor": 0
      },
      "text/plain": [
       "Evaluating:   0%|          | 0/154 [00:00<?, ?it/s]"
      ]
     },
     "metadata": {},
     "output_type": "display_data"
    }
   ],
   "source": [
    "second_third = dataset.select(range(44, 66))\n",
    "second_score = evaluate(second_third, metrics=[faithfulness, answer_relevancy, context_precision, context_recall, answer_similarity, answer_correctness, harmfulness], llm=llm_model, embeddings=embed_model)\n",
    "second_df = second_score.to_pandas()\n",
    "second_df.to_csv(\"ragas_eval_q44_to_q66.csv\")"
   ]
  },
  {
   "cell_type": "code",
   "execution_count": 17,
   "metadata": {},
   "outputs": [
    {
     "data": {
      "application/vnd.jupyter.widget-view+json": {
       "model_id": "b3d04ce034b549e5b11a339ae75519c1",
       "version_major": 2,
       "version_minor": 0
      },
      "text/plain": [
       "Evaluating:   0%|          | 0/154 [00:00<?, ?it/s]"
      ]
     },
     "metadata": {},
     "output_type": "display_data"
    }
   ],
   "source": [
    "third = dataset.select(range(66, 88))\n",
    "third_score = evaluate(third, metrics=[faithfulness, answer_relevancy, context_precision, context_recall, answer_similarity, answer_correctness, harmfulness], llm=llm_model, embeddings=embed_model)\n",
    "third_df = third_score.to_pandas()\n",
    "third_df.to_csv(\"ragas_eval_q66_to_q88.csv\")"
   ]
  },
  {
   "cell_type": "code",
   "execution_count": 18,
   "metadata": {},
   "outputs": [
    {
     "data": {
      "application/vnd.jupyter.widget-view+json": {
       "model_id": "a77be5cf765f47fe990c0d8873e565b0",
       "version_major": 2,
       "version_minor": 0
      },
      "text/plain": [
       "Evaluating:   0%|          | 0/154 [00:00<?, ?it/s]"
      ]
     },
     "metadata": {},
     "output_type": "display_data"
    },
    {
     "name": "stderr",
     "output_type": "stream",
     "text": [
      "Failed to parse output. Returning None.\n",
      "Failed to parse output. Returning None.\n"
     ]
    }
   ],
   "source": [
    "fourth = dataset.select(range(88, 110))\n",
    "fourth_score = evaluate(fourth, metrics=[faithfulness, answer_relevancy, context_precision, context_recall, answer_similarity, answer_correctness, harmfulness], llm=llm_model, embeddings=embed_model)\n",
    "fourth_df = fourth_score.to_pandas()\n",
    "fourth_df.to_csv(\"ragas_eval_q88_to_q110.csv\")"
   ]
  },
  {
   "cell_type": "code",
   "execution_count": 23,
   "metadata": {},
   "outputs": [
    {
     "data": {
      "application/vnd.jupyter.widget-view+json": {
       "model_id": "4b3ffa182b99465cacb2aaa25924961e",
       "version_major": 2,
       "version_minor": 0
      },
      "text/plain": [
       "Evaluating:   0%|          | 0/161 [00:00<?, ?it/s]"
      ]
     },
     "metadata": {},
     "output_type": "display_data"
    },
    {
     "name": "stderr",
     "output_type": "stream",
     "text": [
      "Failed to parse output. Returning None.\n"
     ]
    }
   ],
   "source": [
    "fifth = dataset.select(range(110, 133))\n",
    "fifth_score = evaluate(fifth, metrics=[faithfulness, answer_relevancy, context_precision, context_recall, answer_similarity, answer_correctness, harmfulness], llm=llm_model, embeddings=embed_model)\n",
    "fifth_df = fifth_score.to_pandas()\n",
    "fifth_df.to_csv(\"ragas_eval_q110_to_q133.csv\")"
   ]
  },
  {
   "cell_type": "code",
   "execution_count": 44,
   "metadata": {},
   "outputs": [
    {
     "data": {
      "text/html": [
       "<div>\n",
       "<style scoped>\n",
       "    .dataframe tbody tr th:only-of-type {\n",
       "        vertical-align: middle;\n",
       "    }\n",
       "\n",
       "    .dataframe tbody tr th {\n",
       "        vertical-align: top;\n",
       "    }\n",
       "\n",
       "    .dataframe thead th {\n",
       "        text-align: right;\n",
       "    }\n",
       "</style>\n",
       "<table border=\"1\" class=\"dataframe\">\n",
       "  <thead>\n",
       "    <tr style=\"text-align: right;\">\n",
       "      <th></th>\n",
       "      <th>Unnamed: 0</th>\n",
       "      <th>question</th>\n",
       "      <th>answer</th>\n",
       "      <th>contexts</th>\n",
       "      <th>ground_truth</th>\n",
       "      <th>faithfulness</th>\n",
       "      <th>answer_relevancy</th>\n",
       "      <th>context_precision</th>\n",
       "      <th>context_recall</th>\n",
       "      <th>answer_similarity</th>\n",
       "      <th>answer_correctness</th>\n",
       "      <th>harmfulness</th>\n",
       "    </tr>\n",
       "  </thead>\n",
       "  <tbody>\n",
       "    <tr>\n",
       "      <th>0</th>\n",
       "      <td>0.0</td>\n",
       "      <td>Apa itu SWDKLLJ?</td>\n",
       "      <td>SWDKLLJ adalah singkatan dari Sistem Wajib Den...</td>\n",
       "      <td>['Sistem Wajib Denda Kecelakaan Lalu Lintas Ja...</td>\n",
       "      <td>SWDKLLJ merupakan premi asuransi yang dibayark...</td>\n",
       "      <td>0.666667</td>\n",
       "      <td>0.000000</td>\n",
       "      <td>0.000000</td>\n",
       "      <td>1.0</td>\n",
       "      <td>0.626631</td>\n",
       "      <td>0.585229</td>\n",
       "      <td>0</td>\n",
       "    </tr>\n",
       "    <tr>\n",
       "      <th>1</th>\n",
       "      <td>1.0</td>\n",
       "      <td>Bursa Efek wajib menyampaikan laporan realisas...</td>\n",
       "      <td>Berdasarkan informasi yang diperoleh dari sumb...</td>\n",
       "      <td>['Bursa Efek wajib menyampaikan laporan realis...</td>\n",
       "      <td>Bursa Efek wajib menyampaikan laporan realisas...</td>\n",
       "      <td>0.571429</td>\n",
       "      <td>0.000000</td>\n",
       "      <td>1.000000</td>\n",
       "      <td>1.0</td>\n",
       "      <td>0.899541</td>\n",
       "      <td>0.599892</td>\n",
       "      <td>0</td>\n",
       "    </tr>\n",
       "    <tr>\n",
       "      <th>2</th>\n",
       "      <td>2.0</td>\n",
       "      <td>KEPUTUSAN KETUA BADAN PENGAWAS PASAR MODAL NOM...</td>\n",
       "      <td>KEPUTUSAN KETUA BADAN PENGAWAS PASAR MODAL NOM...</td>\n",
       "      <td>['KEPUTUSAN KETUA BADAN PENGAWAS PASAR MODAL N...</td>\n",
       "      <td>Keputusan Ketua Badan Pengawas Pasar Modal Nom...</td>\n",
       "      <td>0.625000</td>\n",
       "      <td>0.000000</td>\n",
       "      <td>0.500000</td>\n",
       "      <td>0.0</td>\n",
       "      <td>0.721185</td>\n",
       "      <td>0.180296</td>\n",
       "      <td>0</td>\n",
       "    </tr>\n",
       "    <tr>\n",
       "      <th>3</th>\n",
       "      <td>3.0</td>\n",
       "      <td>Penolakan atas permohonan persetujuan mengenai...</td>\n",
       "      <td>Dalam pengajuan atau perubahan peraturan Lemba...</td>\n",
       "      <td>['Formulir nomor yang digunakan untuk menolak ...</td>\n",
       "      <td>Penolakan atas permohonan persetujuan mengenai...</td>\n",
       "      <td>0.500000</td>\n",
       "      <td>0.713170</td>\n",
       "      <td>1.000000</td>\n",
       "      <td>1.0</td>\n",
       "      <td>0.882475</td>\n",
       "      <td>0.720619</td>\n",
       "      <td>0</td>\n",
       "    </tr>\n",
       "    <tr>\n",
       "      <th>4</th>\n",
       "      <td>4.0</td>\n",
       "      <td>Anggota Dewan Pengawas Syariah Perusahaan Pemb...</td>\n",
       "      <td>Larangan bagi anggota Dewan Pengawas Syariah P...</td>\n",
       "      <td>['Larangan bagi anggota Dewan Pengawas Syariah...</td>\n",
       "      <td>Anggota Dewan Pengawas Syariah Perusahaan Pemb...</td>\n",
       "      <td>1.000000</td>\n",
       "      <td>0.725574</td>\n",
       "      <td>0.833333</td>\n",
       "      <td>1.0</td>\n",
       "      <td>0.820382</td>\n",
       "      <td>0.441938</td>\n",
       "      <td>0</td>\n",
       "    </tr>\n",
       "  </tbody>\n",
       "</table>\n",
       "</div>"
      ],
      "text/plain": [
       "   Unnamed: 0                                           question  \\\n",
       "0         0.0                                   Apa itu SWDKLLJ?   \n",
       "1         1.0  Bursa Efek wajib menyampaikan laporan realisas...   \n",
       "2         2.0  KEPUTUSAN KETUA BADAN PENGAWAS PASAR MODAL NOM...   \n",
       "3         3.0  Penolakan atas permohonan persetujuan mengenai...   \n",
       "4         4.0  Anggota Dewan Pengawas Syariah Perusahaan Pemb...   \n",
       "\n",
       "                                              answer  \\\n",
       "0  SWDKLLJ adalah singkatan dari Sistem Wajib Den...   \n",
       "1  Berdasarkan informasi yang diperoleh dari sumb...   \n",
       "2  KEPUTUSAN KETUA BADAN PENGAWAS PASAR MODAL NOM...   \n",
       "3  Dalam pengajuan atau perubahan peraturan Lemba...   \n",
       "4  Larangan bagi anggota Dewan Pengawas Syariah P...   \n",
       "\n",
       "                                            contexts  \\\n",
       "0  ['Sistem Wajib Denda Kecelakaan Lalu Lintas Ja...   \n",
       "1  ['Bursa Efek wajib menyampaikan laporan realis...   \n",
       "2  ['KEPUTUSAN KETUA BADAN PENGAWAS PASAR MODAL N...   \n",
       "3  ['Formulir nomor yang digunakan untuk menolak ...   \n",
       "4  ['Larangan bagi anggota Dewan Pengawas Syariah...   \n",
       "\n",
       "                                        ground_truth  faithfulness  \\\n",
       "0  SWDKLLJ merupakan premi asuransi yang dibayark...      0.666667   \n",
       "1  Bursa Efek wajib menyampaikan laporan realisas...      0.571429   \n",
       "2  Keputusan Ketua Badan Pengawas Pasar Modal Nom...      0.625000   \n",
       "3  Penolakan atas permohonan persetujuan mengenai...      0.500000   \n",
       "4  Anggota Dewan Pengawas Syariah Perusahaan Pemb...      1.000000   \n",
       "\n",
       "   answer_relevancy  context_precision  context_recall  answer_similarity  \\\n",
       "0          0.000000           0.000000             1.0           0.626631   \n",
       "1          0.000000           1.000000             1.0           0.899541   \n",
       "2          0.000000           0.500000             0.0           0.721185   \n",
       "3          0.713170           1.000000             1.0           0.882475   \n",
       "4          0.725574           0.833333             1.0           0.820382   \n",
       "\n",
       "   answer_correctness  harmfulness  \n",
       "0            0.585229            0  \n",
       "1            0.599892            0  \n",
       "2            0.180296            0  \n",
       "3            0.720619            0  \n",
       "4            0.441938            0  "
      ]
     },
     "execution_count": 44,
     "metadata": {},
     "output_type": "execute_result"
    }
   ],
   "source": [
    "df = pd.concat([first_df, second_df, third_df, fourth_df, fifth_df ])\n",
    "df.head()"
   ]
  },
  {
   "cell_type": "code",
   "execution_count": 45,
   "metadata": {},
   "outputs": [],
   "source": [
    "df = df.drop(\"Unnamed: 0\", axis=1)"
   ]
  },
  {
   "cell_type": "code",
   "execution_count": null,
   "metadata": {},
   "outputs": [],
   "source": [
    "df = df.reset_index(drop=True)\n",
    "df"
   ]
  },
  {
   "cell_type": "code",
   "execution_count": 47,
   "metadata": {},
   "outputs": [],
   "source": [
    "df.to_csv(\"ragas_eval_result.csv\")"
   ]
  },
  {
   "cell_type": "code",
   "execution_count": null,
   "metadata": {},
   "outputs": [],
   "source": [
    "df.describe()"
   ]
  },
  {
   "cell_type": "markdown",
   "metadata": {},
   "source": [
    "## Result"
   ]
  },
  {
   "cell_type": "code",
   "execution_count": 38,
   "metadata": {},
   "outputs": [
    {
     "data": {
      "text/html": [
       "<div>\n",
       "<style scoped>\n",
       "    .dataframe tbody tr th:only-of-type {\n",
       "        vertical-align: middle;\n",
       "    }\n",
       "\n",
       "    .dataframe tbody tr th {\n",
       "        vertical-align: top;\n",
       "    }\n",
       "\n",
       "    .dataframe thead th {\n",
       "        text-align: right;\n",
       "    }\n",
       "</style>\n",
       "<table border=\"1\" class=\"dataframe\">\n",
       "  <thead>\n",
       "    <tr style=\"text-align: right;\">\n",
       "      <th></th>\n",
       "      <th>question</th>\n",
       "      <th>answer</th>\n",
       "      <th>contexts</th>\n",
       "      <th>ground_truth</th>\n",
       "      <th>faithfulness</th>\n",
       "      <th>answer_relevancy</th>\n",
       "      <th>context_precision</th>\n",
       "      <th>context_recall</th>\n",
       "      <th>answer_similarity</th>\n",
       "      <th>answer_correctness</th>\n",
       "      <th>harmfulness</th>\n",
       "    </tr>\n",
       "  </thead>\n",
       "  <tbody>\n",
       "    <tr>\n",
       "      <th>0</th>\n",
       "      <td>Apa itu SWDKLLJ?</td>\n",
       "      <td>SWDKLLJ adalah singkatan dari Sistem Wajib Den...</td>\n",
       "      <td>['Sistem Wajib Denda Kecelakaan Lalu Lintas Ja...</td>\n",
       "      <td>Sumbangan Wajib Dana Kecelakaan Lalu Lintas ad...</td>\n",
       "      <td>0.666667</td>\n",
       "      <td>0.850381</td>\n",
       "      <td>0.0</td>\n",
       "      <td>0.0</td>\n",
       "      <td>0.536681</td>\n",
       "      <td>0.348389</td>\n",
       "      <td>0</td>\n",
       "    </tr>\n",
       "    <tr>\n",
       "      <th>1</th>\n",
       "      <td>Bursa Efek wajib menyampaikan laporan realisas...</td>\n",
       "      <td>Berdasarkan informasi yang diperoleh dari sumb...</td>\n",
       "      <td>['Bursa Efek wajib menyampaikan laporan realis...</td>\n",
       "      <td>Bursa Efek wajib menyampaikan laporan realisas...</td>\n",
       "      <td>0.571429</td>\n",
       "      <td>0.748256</td>\n",
       "      <td>1.0</td>\n",
       "      <td>0.0</td>\n",
       "      <td>0.757334</td>\n",
       "      <td>0.376834</td>\n",
       "      <td>0</td>\n",
       "    </tr>\n",
       "    <tr>\n",
       "      <th>2</th>\n",
       "      <td>KEPUTUSAN KETUA BADAN PENGAWAS PASAR MODAL NOM...</td>\n",
       "      <td>KEPUTUSAN KETUA BADAN PENGAWAS PASAR MODAL NOM...</td>\n",
       "      <td>['KEPUTUSAN KETUA BADAN PENGAWAS PASAR MODAL N...</td>\n",
       "      <td>TATA CARA PEMBERIAN PERSETUJUAN ANGGARAN DASAR...</td>\n",
       "      <td>1.000000</td>\n",
       "      <td>0.481839</td>\n",
       "      <td>0.0</td>\n",
       "      <td>0.0</td>\n",
       "      <td>0.482538</td>\n",
       "      <td>0.270635</td>\n",
       "      <td>0</td>\n",
       "    </tr>\n",
       "    <tr>\n",
       "      <th>3</th>\n",
       "      <td>Penolakan atas permohonan persetujuan mengenai...</td>\n",
       "      <td>Dalam pengajuan atau perubahan peraturan Lemba...</td>\n",
       "      <td>['Formulir nomor yang digunakan untuk menolak ...</td>\n",
       "      <td>Penolakan atas permohonan persetujuan mengenai...</td>\n",
       "      <td>0.500000</td>\n",
       "      <td>0.596502</td>\n",
       "      <td>1.0</td>\n",
       "      <td>1.0</td>\n",
       "      <td>0.845767</td>\n",
       "      <td>0.511442</td>\n",
       "      <td>0</td>\n",
       "    </tr>\n",
       "    <tr>\n",
       "      <th>4</th>\n",
       "      <td>Anggota Dewan Pengawas Syariah Perusahaan Pemb...</td>\n",
       "      <td>Larangan bagi anggota Dewan Pengawas Syariah P...</td>\n",
       "      <td>['Larangan bagi anggota Dewan Pengawas Syariah...</td>\n",
       "      <td>Dilarang melakukan rangkap jabatan sebagai ang...</td>\n",
       "      <td>1.000000</td>\n",
       "      <td>0.725574</td>\n",
       "      <td>1.0</td>\n",
       "      <td>1.0</td>\n",
       "      <td>0.776191</td>\n",
       "      <td>0.430890</td>\n",
       "      <td>0</td>\n",
       "    </tr>\n",
       "  </tbody>\n",
       "</table>\n",
       "</div>"
      ],
      "text/plain": [
       "                                            question  \\\n",
       "0                                   Apa itu SWDKLLJ?   \n",
       "1  Bursa Efek wajib menyampaikan laporan realisas...   \n",
       "2  KEPUTUSAN KETUA BADAN PENGAWAS PASAR MODAL NOM...   \n",
       "3  Penolakan atas permohonan persetujuan mengenai...   \n",
       "4  Anggota Dewan Pengawas Syariah Perusahaan Pemb...   \n",
       "\n",
       "                                              answer  \\\n",
       "0  SWDKLLJ adalah singkatan dari Sistem Wajib Den...   \n",
       "1  Berdasarkan informasi yang diperoleh dari sumb...   \n",
       "2  KEPUTUSAN KETUA BADAN PENGAWAS PASAR MODAL NOM...   \n",
       "3  Dalam pengajuan atau perubahan peraturan Lemba...   \n",
       "4  Larangan bagi anggota Dewan Pengawas Syariah P...   \n",
       "\n",
       "                                            contexts  \\\n",
       "0  ['Sistem Wajib Denda Kecelakaan Lalu Lintas Ja...   \n",
       "1  ['Bursa Efek wajib menyampaikan laporan realis...   \n",
       "2  ['KEPUTUSAN KETUA BADAN PENGAWAS PASAR MODAL N...   \n",
       "3  ['Formulir nomor yang digunakan untuk menolak ...   \n",
       "4  ['Larangan bagi anggota Dewan Pengawas Syariah...   \n",
       "\n",
       "                                        ground_truth  faithfulness  \\\n",
       "0  Sumbangan Wajib Dana Kecelakaan Lalu Lintas ad...      0.666667   \n",
       "1  Bursa Efek wajib menyampaikan laporan realisas...      0.571429   \n",
       "2  TATA CARA PEMBERIAN PERSETUJUAN ANGGARAN DASAR...      1.000000   \n",
       "3  Penolakan atas permohonan persetujuan mengenai...      0.500000   \n",
       "4  Dilarang melakukan rangkap jabatan sebagai ang...      1.000000   \n",
       "\n",
       "   answer_relevancy  context_precision  context_recall  answer_similarity  \\\n",
       "0          0.850381                0.0             0.0           0.536681   \n",
       "1          0.748256                1.0             0.0           0.757334   \n",
       "2          0.481839                0.0             0.0           0.482538   \n",
       "3          0.596502                1.0             1.0           0.845767   \n",
       "4          0.725574                1.0             1.0           0.776191   \n",
       "\n",
       "   answer_correctness  harmfulness  \n",
       "0            0.348389            0  \n",
       "1            0.376834            0  \n",
       "2            0.270635            0  \n",
       "3            0.511442            0  \n",
       "4            0.430890            0  "
      ]
     },
     "execution_count": 38,
     "metadata": {},
     "output_type": "execute_result"
    }
   ],
   "source": [
    "import pandas as pd\n",
    "\n",
    "ojk_df = pd.read_excel(\"ojk_eval_new.xlsx\")\n",
    "bi_df = pd.read_excel(\"bi_eval.xlsx\")\n",
    "sikepo_df = pd.read_excel(\"sikepo_eval.xlsx\")\n",
    "\n",
    "df = pd.concat([ojk_df, bi_df, sikepo_df])\n",
    "df = df.drop(\"Unnamed: 0\", axis=1)\n",
    "df = df.reset_index(drop=True)\n",
    "df.head()"
   ]
  },
  {
   "cell_type": "code",
   "execution_count": 39,
   "metadata": {},
   "outputs": [
    {
     "data": {
      "text/html": [
       "<div>\n",
       "<style scoped>\n",
       "    .dataframe tbody tr th:only-of-type {\n",
       "        vertical-align: middle;\n",
       "    }\n",
       "\n",
       "    .dataframe tbody tr th {\n",
       "        vertical-align: top;\n",
       "    }\n",
       "\n",
       "    .dataframe thead th {\n",
       "        text-align: right;\n",
       "    }\n",
       "</style>\n",
       "<table border=\"1\" class=\"dataframe\">\n",
       "  <thead>\n",
       "    <tr style=\"text-align: right;\">\n",
       "      <th></th>\n",
       "      <th>faithfulness</th>\n",
       "      <th>answer_relevancy</th>\n",
       "      <th>context_precision</th>\n",
       "      <th>context_recall</th>\n",
       "      <th>answer_similarity</th>\n",
       "      <th>answer_correctness</th>\n",
       "      <th>harmfulness</th>\n",
       "    </tr>\n",
       "  </thead>\n",
       "  <tbody>\n",
       "    <tr>\n",
       "      <th>count</th>\n",
       "      <td>107.000000</td>\n",
       "      <td>107.000000</td>\n",
       "      <td>107.000000</td>\n",
       "      <td>107.000000</td>\n",
       "      <td>107.000000</td>\n",
       "      <td>107.000000</td>\n",
       "      <td>107.000000</td>\n",
       "    </tr>\n",
       "    <tr>\n",
       "      <th>mean</th>\n",
       "      <td>0.736581</td>\n",
       "      <td>0.737722</td>\n",
       "      <td>0.843458</td>\n",
       "      <td>0.657543</td>\n",
       "      <td>0.660813</td>\n",
       "      <td>0.520065</td>\n",
       "      <td>0.056075</td>\n",
       "    </tr>\n",
       "    <tr>\n",
       "      <th>std</th>\n",
       "      <td>0.218890</td>\n",
       "      <td>0.164484</td>\n",
       "      <td>0.306872</td>\n",
       "      <td>0.446711</td>\n",
       "      <td>0.170311</td>\n",
       "      <td>0.226867</td>\n",
       "      <td>0.231149</td>\n",
       "    </tr>\n",
       "    <tr>\n",
       "      <th>min</th>\n",
       "      <td>0.166667</td>\n",
       "      <td>0.291350</td>\n",
       "      <td>0.000000</td>\n",
       "      <td>0.000000</td>\n",
       "      <td>0.304411</td>\n",
       "      <td>0.092186</td>\n",
       "      <td>0.000000</td>\n",
       "    </tr>\n",
       "    <tr>\n",
       "      <th>25%</th>\n",
       "      <td>0.571429</td>\n",
       "      <td>0.646608</td>\n",
       "      <td>0.833333</td>\n",
       "      <td>0.000000</td>\n",
       "      <td>0.511434</td>\n",
       "      <td>0.348249</td>\n",
       "      <td>0.000000</td>\n",
       "    </tr>\n",
       "    <tr>\n",
       "      <th>50%</th>\n",
       "      <td>0.800000</td>\n",
       "      <td>0.749658</td>\n",
       "      <td>1.000000</td>\n",
       "      <td>1.000000</td>\n",
       "      <td>0.694352</td>\n",
       "      <td>0.468216</td>\n",
       "      <td>0.000000</td>\n",
       "    </tr>\n",
       "    <tr>\n",
       "      <th>75%</th>\n",
       "      <td>0.916084</td>\n",
       "      <td>0.854546</td>\n",
       "      <td>1.000000</td>\n",
       "      <td>1.000000</td>\n",
       "      <td>0.806336</td>\n",
       "      <td>0.673710</td>\n",
       "      <td>0.000000</td>\n",
       "    </tr>\n",
       "    <tr>\n",
       "      <th>max</th>\n",
       "      <td>1.000000</td>\n",
       "      <td>1.000000</td>\n",
       "      <td>1.000000</td>\n",
       "      <td>1.000000</td>\n",
       "      <td>0.924212</td>\n",
       "      <td>0.958881</td>\n",
       "      <td>1.000000</td>\n",
       "    </tr>\n",
       "  </tbody>\n",
       "</table>\n",
       "</div>"
      ],
      "text/plain": [
       "       faithfulness  answer_relevancy  context_precision  context_recall  \\\n",
       "count    107.000000        107.000000         107.000000      107.000000   \n",
       "mean       0.736581          0.737722           0.843458        0.657543   \n",
       "std        0.218890          0.164484           0.306872        0.446711   \n",
       "min        0.166667          0.291350           0.000000        0.000000   \n",
       "25%        0.571429          0.646608           0.833333        0.000000   \n",
       "50%        0.800000          0.749658           1.000000        1.000000   \n",
       "75%        0.916084          0.854546           1.000000        1.000000   \n",
       "max        1.000000          1.000000           1.000000        1.000000   \n",
       "\n",
       "       answer_similarity  answer_correctness  harmfulness  \n",
       "count         107.000000          107.000000   107.000000  \n",
       "mean            0.660813            0.520065     0.056075  \n",
       "std             0.170311            0.226867     0.231149  \n",
       "min             0.304411            0.092186     0.000000  \n",
       "25%             0.511434            0.348249     0.000000  \n",
       "50%             0.694352            0.468216     0.000000  \n",
       "75%             0.806336            0.673710     0.000000  \n",
       "max             0.924212            0.958881     1.000000  "
      ]
     },
     "execution_count": 39,
     "metadata": {},
     "output_type": "execute_result"
    }
   ],
   "source": [
    "df.describe()"
   ]
  },
  {
   "cell_type": "markdown",
   "metadata": {},
   "source": [
    "## Test"
   ]
  },
  {
   "cell_type": "code",
   "execution_count": 6,
   "metadata": {},
   "outputs": [],
   "source": [
    "result = chain.invoke({\"question\":\"siapa yang bisa memiliki bank\", \"chat_history\":\"-\"})"
   ]
  },
  {
   "cell_type": "code",
   "execution_count": 7,
   "metadata": {},
   "outputs": [
    {
     "data": {
      "text/plain": [
       "{'rewrited question': 'Siapa yang dapat memiliki bank?',\n",
       " 'context': [Document(metadata={'doc_id': 2291, 'title': 'Surat Edaran Bank Indonesia Nomor 7/14/DPNP', 'sector': None, 'subsector': None, 'regulation_type': None, 'regulation_number': '7/14/DPNP/2005', 'effective_date': '2005/04/18', 'file_url': 'https://www.ojk.go.id/Files/regulasi/perbankan/se-bi/2005/lamp_se_071405.pdf', 'page_number': 14}, page_content='Bank A\\nBank A\\nBank A\\nBank A \\n \\n \\n \\n(Repo Party)\\n(Repo Party)\\n(Repo Party)\\n(Repo Party) \\n \\n \\n \\nPenerbit SSB\\nPenerbit SSB\\nPenerbit SSB\\nPenerbit SSB \\n \\n \\n \\n(issuer)\\n(issuer)\\n(issuer)\\n(issuer) \\n \\n \\n \\nRepo\\nBMPK \\nReverse Party \\nBMPK \\nRepo Party \\n2\\n\\nSource: [7/14/DPNP/2005](https://www.ojk.go.id/Files/regulasi/perbankan/se-bi/2005/lamp_se_071405.pdf#page=14)'),\n",
       "  Document(metadata={'doc_id': 2009, 'title': 'Surat Edaran Bank Indonesia Nomor 15/4/DPNP', 'sector': None, 'subsector': None, 'regulation_type': None, 'regulation_number': '15/4/DPNP/2013', 'effective_date': '2013/03/06', 'file_url': 'https://www.ojk.go.id/Files/regulasi/perbankan/se-bi/2013/faq_se_150413.pdf', 'page_number': 1}, page_content='dapat membeli saham bank tersebut di atas batas maksimum kepemilikan saham\\natas maksimum kepemilikan saham\\natas maksimum kepemilikan saham\\natas maksimum kepemilikan saham?\\n?\\n?\\n? \\n \\n \\n \\nTidak dapat, calon pemegang saham hanya dapat memiliki saham Bank paling tinggi sebesar \\nbatas maksimum kepemilikan saham pada saat yang bersangkutan menjadi pemegang saham \\nBank dimaksud. \\n2.\\n2.\\n2.\\n2. Bagaimana dengan batas maksimum kepemilikan saham bagi \\nBagaimana dengan batas maksimum kepemilikan saham bagi \\nBagaimana dengan batas maksimum kepemilikan saham bagi \\nBagaimana dengan batas maksimum kepemilikan saham bagi Pemerintah Daerah (\\nPemerintah Daerah (\\nPemerintah Daerah (\\nPemerintah Daerah (Pemda\\nPemda\\nPemda\\nPemda)\\n)\\n)\\n) \\n \\n \\n \\nyang akan mendirikan bank a\\nyang akan mendirikan bank a\\nyang akan mendirikan bank a\\nyang akan mendirikan bank atau mengakuisisi bank bank lain\\n\\nSource: [15/4/DPNP/2013](https://www.ojk.go.id/Files/regulasi/perbankan/se-bi/2013/faq_se_150413.pdf#page=1)'),\n",
       "  Document(metadata={'doc_id': 2009, 'title': 'Surat Edaran Bank Indonesia Nomor 15/4/DPNP', 'sector': None, 'subsector': None, 'regulation_type': None, 'regulation_number': '15/4/DPNP/2013', 'effective_date': '2013/03/06', 'file_url': 'https://www.ojk.go.id/Files/regulasi/perbankan/se-bi/2013/faq_se_150413.pdf', 'page_number': 1}, page_content='dapat membeli saham bank tersebut di atas batas maksimum kepemilikan saham\\natas maksimum kepemilikan saham\\natas maksimum kepemilikan saham\\natas maksimum kepemilikan saham?\\n?\\n?\\n? \\n \\n \\n \\nTidak dapat, calon pemegang saham hanya dapat memiliki saham Bank paling tinggi sebesar \\nbatas maksimum kepemilikan saham pada saat yang bersangkutan menjadi pemegang saham \\nBank dimaksud. \\n2.\\n2.\\n2.\\n2. Bagaimana dengan batas maksimum kepemilikan saham bagi \\nBagaimana dengan batas maksimum kepemilikan saham bagi \\nBagaimana dengan batas maksimum kepemilikan saham bagi \\nBagaimana dengan batas maksimum kepemilikan saham bagi Pemerintah Daerah (\\nPemerintah Daerah (\\nPemerintah Daerah (\\nPemerintah Daerah (Pemda\\nPemda\\nPemda\\nPemda)\\n)\\n)\\n) \\n \\n \\n \\nyang akan mendirikan bank a\\nyang akan mendirikan bank a\\nyang akan mendirikan bank a\\nyang akan mendirikan bank atau mengakuisisi bank bank lain\\n\\nSource: [15/4/DPNP/2013](https://www.ojk.go.id/Files/regulasi/perbankan/se-bi/2013/faq_se_150413.pdf#page=1)'),\n",
       "  Document(metadata={'doc_id': 1239, 'title': 'POJK tentang Kegiatan Usaha dan Jaringan Kantor Berdasarkan Modal Inti Bank', 'sector': 'Perbankan', 'subsector': 'Bank Umum,  Perbankan Syariah', 'regulation_type': 'Peraturan OJK', 'regulation_number': '6/POJK.03/2016', 'effective_date': '2016/01/27', 'file_url': 'https://www.ojk.go.id/id/regulasi/Documents/Pages/POJK-tentang-Kegiatan-Usaha-dan-Jaringan-Kantor-Berdasarkan-Modal-Inti-Bank/SALINAN-POJK%20BUKU%20FINALE%20(k.e).pdf', 'page_number': 23}, page_content='fungsi Bank. \\n \\nPasal 5 \\n \\nHuruf a \\n \\n \\nAngka 1 \\n \\n \\n \\nHuruf a) \\nKegiatan penghimpunan dana yang merupakan produk \\natau aktivitas dasar, antara lain: \\n1. \\ngiro; \\n2. \\ntabungan; \\n3. \\ndeposito; \\n4. \\nsertifikat deposito; \\n5. \\npinjaman yang diterima; dan \\n6. \\npenerbitan surat utang termasuk surat utang \\nekuitas. \\n \\n \\n \\nHuruf b) \\nKegiatan penyaluran dana yang merupakan produk \\natau aktivitas dasar, antara lain: \\n1. \\npenyaluran kredit;\\n\\nSource: [6/POJK.03/2016](https://www.ojk.go.id/id/regulasi/Documents/Pages/POJK-tentang-Kegiatan-Usaha-dan-Jaringan-Kantor-Berdasarkan-Modal-Inti-Bank/SALINAN-POJK%20BUKU%20FINALE%20(k.e).pdf#page=23)'),\n",
       "  Document(metadata={'doc_id': 2562, 'title': 'Peraturan Bank Indonesia Nomor 6/24/PBI/2004', 'sector': None, 'subsector': None, 'regulation_type': None, 'regulation_number': '6/24/PBI/2004', 'effective_date': '2004/10/14', 'file_url': 'https://www.ojk.go.id/id/kanal/perbankan/regulasi/peraturan-bank-indonesia/Documents/317.pdf', 'page_number': 19}, page_content='- 19 - \\n(3) Selain... \\nwajib dipenuhi pada saat badan hukum yang bersangkutan melakukan \\npenyetoran modal untuk pendirian Bank atau pada saat badan hukum \\nyang bersangkutan melakukan penambahan modal disetor Bank. \\n \\nPasal 14 \\nSumber dana yang digunakan dalam rangka kepemilikan Bank dilarang:  \\na. berasal dari pinjaman atau fasilitas pembiayaan dalam bentuk apapun \\ndari bank dan/atau pihak lain; dan atau \\nb. berasal dari sumber yang diharamkan menurut prinsip syariah, termasuk \\ndari dan untuk tujuan pencucian uang (money laundering). \\n \\nPasal 15 \\n(1) Yang dapat menjadi pemilik Bank adalah pihak-pihak yang: \\na. tidak termasuk dalam daftar orang-orang yang dilarang menjadi \\npemegang saham dan atau pengurus bank sesuai dengan ketentuan \\nyang ditetapkan oleh Bank Indonesia; \\nb. menurut penilaian Bank Indonesia yang bersangkutan memiliki \\nintegritas yang baik.\\n\\nSource: [6/24/PBI/2004](https://www.ojk.go.id/id/kanal/perbankan/regulasi/peraturan-bank-indonesia/Documents/317.pdf#page=19)'),\n",
       "  Document(metadata={'doc_id': 1680, 'title': 'Peraturan Bank Indonesia tentang Bank Umum', 'sector': 'Perbankan', 'subsector': 'Bank Umum', 'regulation_type': 'PPBI', 'regulation_number': '11/1/PBI/2009', 'effective_date': '2009/01/27', 'file_url': 'https://www.ojk.go.id/id/regulasi/Documents/Pages/PBI-tentang-Bank-Umum/153.pdf', 'page_number': 18}, page_content='- 18 - \\n \\n \\nPasal 17 \\n(1) Pihak-pihak yang dapat menjadi pemilik Bank wajib memenuhi syarat: \\na. memiliki akhlak dan moral yang baik; \\nb. memiliki komitmen untuk mematuhi peraturan perundang-undangan \\nyang berlaku; \\nc. memiliki komitmen yang tinggi terhadap pengembangan operasional \\nBank yang sehat; dan \\nd. tidak termasuk dalam Daftar Tidak Lulus. \\n(2) Dalam hal pemilik Bank berbentuk badan hukum maka persyaratan \\nsebagaimana dimaksud pada ayat (1) berlaku bagi pemilik maupun \\npengurus dari badan hukum tersebut. \\n \\nPasal 18 \\n(1) Pihak-pihak yang dapat menjadi PSP Bank wajib memenuhi persyaratan: \\na. Integritas, yang paling kurang mencakup : \\n1. \\nmemiliki akhlak dan moral yang baik; \\n2. \\nmemiliki komitmen untuk mematuhi peraturan perundang-\\nundangan yang berlaku; \\n3. \\nmemiliki \\nkomitmen \\nyang \\ntinggi \\nterhadap \\npengembangan \\noperasional Bank yang sehat; dan \\n4.\\n\\nSource: [11/1/PBI/2009](https://www.ojk.go.id/id/regulasi/Documents/Pages/PBI-tentang-Bank-Umum/153.pdf#page=18)'),\n",
       "  Document(metadata={'doc_id': 2120, 'title': 'Surat Edaran Bank Indonesia Nomor 12/15/DKBU', 'sector': None, 'subsector': None, 'regulation_type': None, 'regulation_number': '12/15/DKBU/2010', 'effective_date': '2010/06/11', 'file_url': 'https://www.ojk.go.id/Files/regulasi/perbankan/se-bi/2010/lampiran_se_121510.pdf', 'page_number': 26}, page_content='bank lain pada angka II di atas yang dirinci atas: \\n1. Giro \\nYang dimasukkan ke dalam jenis ini adalah simpanan atas nama BPR \\nPelapor pada bank umum yang penarikannya dapat dilakukan setiap saat \\ndengan menggunakan cek, surat perintah pembayaran lainnya atau dengan \\ncara pemindahbukuan.\\n\\nSource: [12/15/DKBU/2010](https://www.ojk.go.id/Files/regulasi/perbankan/se-bi/2010/lampiran_se_121510.pdf#page=26)'),\n",
       "  Document(metadata={'doc_id': 1827, 'title': 'Peraturan Bank Indonesia Nomor 6/24/PBI/2004', 'sector': 'Perbankan,  Syariah', 'subsector': 'Bank Umum,  Perbankan Syariah', 'regulation_type': 'PPBI', 'regulation_number': '6/24/PBI/2004', 'effective_date': '2004/10/14', 'file_url': 'https://www.ojk.go.id/id/regulasi/Documents/Pages/Peraturan-Bank-Indonesia-Nomor-624PBI2004/317.pdf', 'page_number': 19}, page_content='- 19 - \\n(3) Selain... \\nwajib dipenuhi pada saat badan hukum yang bersangkutan melakukan \\npenyetoran modal untuk pendirian Bank atau pada saat badan hukum \\nyang bersangkutan melakukan penambahan modal disetor Bank. \\n \\nPasal 14 \\nSumber dana yang digunakan dalam rangka kepemilikan Bank dilarang:  \\na. berasal dari pinjaman atau fasilitas pembiayaan dalam bentuk apapun \\ndari bank dan/atau pihak lain; dan atau \\nb. berasal dari sumber yang diharamkan menurut prinsip syariah, termasuk \\ndari dan untuk tujuan pencucian uang (money laundering). \\n \\nPasal 15 \\n(1) Yang dapat menjadi pemilik Bank adalah pihak-pihak yang: \\na. tidak termasuk dalam daftar orang-orang yang dilarang menjadi \\npemegang saham dan atau pengurus bank sesuai dengan ketentuan \\nyang ditetapkan oleh Bank Indonesia; \\nb. menurut penilaian Bank Indonesia yang bersangkutan memiliki \\nintegritas yang baik.\\n\\nSource: [6/24/PBI/2004](https://www.ojk.go.id/id/regulasi/Documents/Pages/Peraturan-Bank-Indonesia-Nomor-624PBI2004/317.pdf#page=19)'),\n",
       "  Document(metadata={'doc_id': 2504, 'title': 'Peraturan Bank Indonesia Nomor 8/26/PBI/2006', 'sector': None, 'subsector': None, 'regulation_type': None, 'regulation_number': '8/26/PBI/2006', 'effective_date': '2006/11/08', 'file_url': 'https://www.ojk.go.id/id/kanal/perbankan/regulasi/peraturan-bank-indonesia/Documents/219.pdf', 'page_number': 21}, page_content='bank dan/atau pihak lain, kecuali berasal dari Anggaran Pendapatan dan \\nBelanja Daerah (APBD); dan \\nb. berasal dari dan untuk tujuan pencucian uang. \\nPasal 15 \\n(1) \\nYang dapat menjadi pemilik BPR adalah pihak-pihak yang: \\na. tidak termasuk dalam daftar orang-orang yang dilarang menjadi \\npemegang saham dan/atau pengurus BPR, BPRS dan/atau bank umum \\nsesuai dengan ketentuan yang ditetapkan oleh Bank Indonesia. \\nb.  menurut….\\n\\nSource: [8/26/PBI/2006](https://www.ojk.go.id/id/kanal/perbankan/regulasi/peraturan-bank-indonesia/Documents/219.pdf#page=21)'),\n",
       "  Document(metadata={'doc_id': 3105, 'title': 'Surat Edaran Bank Indonesia Nomor 7/7/DPM', 'sector': None, 'subsector': None, 'regulation_type': None, 'regulation_number': '7/7/DPM/2005', 'effective_date': '2005/03/29', 'file_url': 'https://www.ojk.go.id/Files/regulasi/perbankan/se-bi/2005/lamp2_se_070705.zip', 'page_number': 123}, page_content=\"II. NON BANK LUAR NEGERI\\n1\\nBCA FINANCE - HONGKONG\\n901\\n2\\nBEAR STEARNS - LONDON\\n902\\n3\\nBOSTON SAVE DEPOSIT - BOSTON\\n903\\n4\\nBROWN BROTHER HARRIMAN & CO - USA\\n904\\n5\\nCITIBANK LONDON SECURITIES - UK\\n905\\n6\\nCITICORP INVESTMENT BANK - SINGAPORE \\n906\\n7\\nCOUTTS AND CO, LONDON - UNITED KINGDOM\\n907\\n8\\nDEUTSCHE BANK LONDON PRIME BROKERAGE - LONDON\\n908\\n9\\nDEUTSCHE BANK TRUST, CO. - NEW YORK\\n909\\n10 GE CAPITAL CORPORATION, STANFORD - USA \\n911\\n11 GK GOH STOCKBROKER PTE. LTD. - SINGAPORE\\n912\\n12 GOLDMAN SACHS ASIA FINANCE - USA\\n913\\n13 GSIC - SINGAPORE\\n914\\n14 KAS DEPOSITARY TRUST COMPANY - NETHERLAND\\n915\\n15 MERRIL LYNCH INTERNATIONAL - LONDON\\n916\\n16 MERRIL LYNCH INT'L FARRINGDON - LONDON\\n917\\n17 MERRIL LYNCH PIERCE F AND SMITH - NEW JERSEY\\n918\\n18 MORGAN STANLEY DEAN WITTER LONDON - HONGKONG\\n919\\n19 MORGAN STANLEY DEAN WITTER NEW YORK - HONGKONG\\n920\\n20 NORTHERN TRUST - LONDON\\n922\\n21 NORTHERN TRUST - SINGAPORE\\n923\\n\\nSource: [7/7/DPM/2005](https://www.ojk.go.id/Files/regulasi/perbankan/se-bi/2005/lamp2_se_070705.zip#page=123)\"),\n",
       "  Document(metadata={'doc_id': 364, 'title': 'Penyelenggaraan Produk Bank Umum', 'sector': 'Perbankan', 'subsector': 'Bank Umum', 'regulation_type': 'Peraturan OJK', 'regulation_number': '13/POJK.03/2021', 'effective_date': '2021/10/31', 'file_url': 'https://www.ojk.go.id/id/regulasi/Documents/Pages/Penyelenggaraan-Produk-Bank-Umum/POJK%2013%20-%2003%20-%202021.pdf', 'page_number': 63}, page_content='dapat \\nmemiliki \\nfitur \\nvirtual \\naccount, escrow account, LKS PWU, BPS \\nBPIH/BPS Bipih/Kas Haji, payment point, \\nDeposito Wakaf, Rekening Dana Lender \\n(RDL) dan Rekening Dana Nasabah (RDN). \\nAkad: \\nMudarabah mutlaqah. \\nPersyaratan: \\na. Bank bertindak sebagai pengelola dana \\ndan nasabah bertindak sebagai pemilik \\ndana.\\n\\nSource: [13/POJK.03/2021](https://www.ojk.go.id/id/regulasi/Documents/Pages/Penyelenggaraan-Produk-Bank-Umum/POJK%2013%20-%2003%20-%202021.pdf#page=63)'),\n",
       "  Document(metadata={'doc_id': 2596, 'title': 'POJK Nomor 15/POJK.03/2017', 'sector': None, 'subsector': None, 'regulation_type': None, 'regulation_number': '15/POJK.03/2017', 'effective_date': '2017/04/07', 'file_url': 'https://www.ojk.go.id/id/kanal/perbankan/regulasi/peraturan-ojk/Documents/Pages/POJK-tentang-Penetapan-Status-dan-Tindak-Lanjut-Pengawasan-Bank-Umum/SAL%20POJK%2015%20Exit%20Policy%20Bank%20%20%20%20%20Umum.pdf', 'page_number': 37}, page_content='Angka 1 \\nYang dimaksud dengan “memiliki” adalah: \\na. \\npemegang \\nsaham \\nyang \\nsecara \\nsendiri \\natau \\nbersama-sama dengan pemegang saham terkait \\nlain; \\nb. \\npemegang saham yang bertindak atas nama \\npemegang \\nsaham \\nlain \\nyang \\nmenyebabkan \\npemegang saham tersebut; atau \\nc. \\npemegang saham yang memiliki hak opsi atau hak \\nlain \\nuntuk \\nmemiliki \\nsaham \\nyang \\napabila \\ndigunakan akan menyebabkan pemegang saham \\ntersebut, \\nmempunyai \\nsaham \\nBank \\nselain \\nBank \\nSistemik    \\nsebesar 10% (sepuluh persen) atau lebih. Termasuk \\npemegang saham yang secara bersama-sama dengan\\n\\nSource: [15/POJK.03/2017](https://www.ojk.go.id/id/kanal/perbankan/regulasi/peraturan-ojk/Documents/Pages/POJK-tentang-Penetapan-Status-dan-Tindak-Lanjut-Pengawasan-Bank-Umum/SAL%20POJK%2015%20Exit%20Policy%20Bank%20%20%20%20%20Umum.pdf#page=37)'),\n",
       "  Document(metadata={'doc_id': 3051, 'title': 'Surat Edaran Bank Indonesia Nomor 10/26/DPNP', 'sector': None, 'subsector': None, 'regulation_type': None, 'regulation_number': '10/26/DPNP/2008', 'effective_date': '2008/07/15', 'file_url': 'https://www.ojk.go.id/Files/regulasi/perbankan/se-bi/2008/lampiran_se_102608.zip', 'page_number': 1}, page_content='30200\\n\\x01\\n\\x01\\n\\x01\\n\\x01\\n\\x01\\n\\x01\\n\\x01\\n\\x01\\n\\x01\\n\\x01\\n\\x01\\n\\x01\\n\\x01\\n\\x01\\n\\x01\\n\\x01\\n\\x01\\n\\x01\\n\\x01\\n\\x01\\n\\x01\\n\\x01\\n\\x01\\n\\x01\\n\\x01\\n\\x01\\n\\x01\\n\\x01\\n\\x01\\n\\x01\\n\\x01\\n\\x01\\n\\x01\\n\\x01\\n\\x01\\n\\x01\\n\\x01\\n\\x01\\n\\x01\\n\\x01\\n2.\\nTabungan       \\n32000\\na. Tabungan dapat ditarik sewaktu-waktu\\n32021\\n\\x01\\n\\x01\\n\\x01\\n\\x01\\n\\x01\\n\\x01\\n\\x01\\n\\x01\\n\\x01\\n\\x01\\n\\x01\\n\\x01\\n\\x01\\n\\x01\\n\\x01\\n\\x01\\n\\x01\\n\\x01\\n\\x01\\n\\x01\\n\\x01\\n\\x01\\n\\x01\\n\\x01\\n\\x01\\n\\x01\\n\\x01\\n\\x01\\n\\x01\\n\\x01\\n\\x01\\n\\x01\\n\\x01\\n\\x01\\n\\x01\\n\\x01\\n\\x01\\n\\x01\\n\\x01\\n\\x01\\nb. Tabungan Berjangka yang telah jatuh waktu\\n32022\\n\\x01\\n\\x01\\n\\x01\\n\\x01\\n\\x01\\n\\x01\\n\\x01\\n\\x01\\n\\x01\\n\\x01\\n\\x01\\n\\x01\\n\\x01\\n\\x01\\n\\x01\\n\\x01\\n\\x01\\n\\x01\\n\\x01\\n\\x01\\n\\x01\\n\\x01\\n\\x01\\n\\x01\\n\\x01\\n\\x01\\n\\x01\\n\\x01\\n\\x01\\n\\x01\\n\\x01\\n\\x01\\n\\x01\\n\\x01\\n\\x01\\n\\x01\\n\\x01\\n\\x01\\n\\x01\\n\\x01\\nc. Lainnya\\n32029\\n\\x01\\n\\x01\\n\\x01\\n\\x01\\n\\x01\\n\\x01\\n\\x01\\n\\x01\\n\\x01\\n\\x01\\n\\x01\\n\\x01\\n\\x01\\n\\x01\\n\\x01\\n\\x01\\n\\x01\\n\\x01\\n\\x01\\n\\x01\\n\\x01\\n\\x01\\n\\x01\\n\\x01\\n\\x01\\n\\x01\\n\\x01\\n\\x01\\n\\x01\\n\\x01\\n\\x01\\n\\x01\\n\\x01\\n\\x01\\n\\x01\\n\\x01\\n\\x01\\n\\x01\\n\\x01\\n\\x01\\n3.\\nSimpanan berjangka      \\n33000\\na. Simpanan Berjangka yang telah jatuh waktu\\n33100\\n\\x01\\n\\x01\\n\\x01\\n\\x01\\n\\x01\\n\\x01\\n\\x01\\n\\x01\\n\\x01\\n\\x01\\n\\x01\\n\\x01\\n\\x01\\n\\x01\\n\\x01\\n\\x01\\n\\x01\\n\\x01\\n\\x01\\n\\x01\\n\\x01\\n\\x01\\n\\x01\\n\\x01\\n\\x01\\n\\x01\\n\\x01\\n\\x01\\n\\x01\\n\\x01\\n\\x01\\n\\x01\\n\\x01\\n\\x01\\n\\x01\\n\\x01\\n\\x01\\n\\x01\\n\\x01\\n\\x01\\nb. Lainnya\\n33900\\n\\x01\\n\\x01\\n\\x01\\n\\x01\\n\\x01\\n\\x01\\n\\x01\\n\\x01\\n\\x01\\n\\x01\\n\\x01\\n\\x01\\n\\x01\\n\\x01\\n\\x01\\n\\x01\\n\\x01\\n\\x01\\n\\x01\\n\\x01\\n\\x01\\n\\x01\\n\\x01\\n\\x01\\n\\x01\\n\\x01\\n\\x01\\n\\x01\\n\\x01\\n\\x01\\n\\x01\\n\\x01\\n\\x01\\n\\x01\\n\\x01\\n\\x01\\n\\x01\\n\\x01\\n\\x01\\n\\x01\\n4.\\nKewajiban pada Bank Indonesia      \\n34000\\n-\\n-\\n-\\n\\x01\\n\\x01\\n\\x01\\n\\x01\\n\\x01\\n\\x01\\n\\x01\\n\\x01\\n\\x01\\n\\x01\\n\\x01\\n\\x01\\n-\\n-\\n-\\n\\x01\\n\\x01\\n\\x01\\n\\x01\\n5.\\nKewajiban pada bank lain      \\n35000\\na. Kegiatan operasional di Indonesia (DN)\\n\\nSource: [10/26/DPNP/2008](https://www.ojk.go.id/Files/regulasi/perbankan/se-bi/2008/lampiran_se_102608.zip#page=1)'),\n",
       "  Document(metadata={'doc_id': 1555, 'title': 'PBI tentang Uji Kemampuan dan Kepatutan (Fit and Proper Test) Bank Perkreditan Rakyat', 'sector': 'Perbankan', 'subsector': 'BPR', 'regulation_type': 'PPBI', 'regulation_number': '14/9/PBI/2012', 'effective_date': '2012/07/26', 'file_url': 'https://www.ojk.go.id/id/regulasi/Documents/Pages/PBI-tentang-Uji-Kemampuan-dan-Kepatutan-(Fit-and-Proper-Test)-Bank-Perkreditan-Rakyat/52.pdf', 'page_number': 64}, page_content='industri perbankan senantiasa dimiliki dan dikelola oleh pihak-pihak \\nyang memenuhi persyaratan maka sudah menjadi keharusan untuk \\ntidak memberikan ruang bagi pihak yang melakukan tindakan yang \\ndiindikasikan tidak memenuhi persyaratan kemampuan dan kepatutan. \\nBerdasarkan...\\n\\nSource: [14/9/PBI/2012](https://www.ojk.go.id/id/regulasi/Documents/Pages/PBI-tentang-Uji-Kemampuan-dan-Kepatutan-(Fit-and-Proper-Test)-Bank-Perkreditan-Rakyat/52.pdf#page=64)'),\n",
       "  Document(metadata={'doc_id': 115, 'title': 'Penerapan Tata Kelola Bagi Bank Umum', 'sector': 'Perbankan', 'subsector': 'Bank Umum', 'regulation_type': 'Peraturan OJK', 'regulation_number': '17 Tahun 2023', 'effective_date': '2023/09/14', 'file_url': 'https://www.ojk.go.id/id/regulasi/Documents/Pages/Penerapan-Tata-Kelola-Bagi-Bank-Umum/POJK%2017%20Tahun%202023.%20PENERAPAN%20TATA%20KELOLA%20BAGI%20BANK%20UMUM.pdf', 'page_number': 93}, page_content='Bank. \\nAyat (2) \\nCukup \\n. \\n \\nPasal 119 \\nLarangan terhadap pemegang saham Bank, anggota Direksi, \\nanggota Dewan Komisaris, anggota komite Bank, anggota \\ndan/atau pegawai Bank \\ndalam rangka mendapatkan atau berusaha mendapatkan bagi \\norang lain dalam memperoleh antara lain uang muka, bank garansi, \\natau fasilitas kredit atau penyaluran dana atau pembiayaan dari \\nBank, atau dalam rangka pembelian atau pendiskontoan oleh Bank \\natas surat wesel, surat promes, cek, dan kertas dagang atau bukti \\nkewajiban lainnya, atau dalam rangka memberikan persetujuan \\nbagi orang lain untuk melaksanakan penarikan dana yang melebihi \\nbatas kredit atau penyaluran dana atau pembiayaan pada Bank, \\nserta kegiatan lain yang melibatkan Bank. \\nYang dimaksud dengan “pegawai Bank” adalah semua pejabat dan \\nkaryawan Bank (tetap atau tidak tetap). \\n \\nPasal 120 \\ndengan \\ndengan\\n \\nmengenai perbankan dan perbankan syariah\\n\\nSource: [17 Tahun 2023](https://www.ojk.go.id/id/regulasi/Documents/Pages/Penerapan-Tata-Kelola-Bagi-Bank-Umum/POJK%2017%20Tahun%202023.%20PENERAPAN%20TATA%20KELOLA%20BAGI%20BANK%20UMUM.pdf#page=93)'),\n",
       "  Document(metadata={'doc_id': 3099, 'title': 'Surat Edaran Bank Indonesia Nomor 7/63/DPBPR', 'sector': None, 'subsector': None, 'regulation_type': None, 'regulation_number': '7/63/DPBPR/2005', 'effective_date': '2005/12/29', 'file_url': 'https://www.ojk.go.id/Files/regulasi/perbankan/se-bi/2005/lamp_se760305.zip', 'page_number': 35}, page_content='000084 \\nBANK BALI \\nBANK BALI \\n000085 \\nBANK BUANA \\nBANK BUANA \\n000086 \\nBECEDE \\nBECEDE \\n000086 \\nBANK CENTRAL DAGANG \\nBANK CENTRAL DAGANG \\n000088 \\nBANK DANAMON \\nBANK DANAMON \\n000089 \\nBANK DEWA RUTJI \\nBANK DEWA RUTJI \\n000090 \\nBANK DUTA \\nBANK DUTA \\n000091 \\nBANK NIAGA \\nBANK NIAGA \\n000092 \\nBANK RAMA \\nBANK RAMA \\n000093 \\nBARITO PACIFIC \\nBARITO PACIFIC \\n000094 \\nBATAMTEX \\nBATAMTEX \\n000094 \\nLAKOP \\nLAKOP\\n\\nSource: [7/63/DPBPR/2005](https://www.ojk.go.id/Files/regulasi/perbankan/se-bi/2005/lamp_se760305.zip#page=35)'),\n",
       "  Document(metadata={'doc_id': 1867, 'title': 'Undang-Undang Republik Indonesia tentang Perbankan Sebagaimana telah Diubah dengan Undang-Undang Nomor 10 Tahun 1998', 'sector': 'Perbankan', 'subsector': 'Bank Umum,  BPR', 'regulation_type': 'Undang-Undang', 'regulation_number': '7 Tahun 1992', 'effective_date': '1998/11/10', 'file_url': 'https://www.ojk.go.id/id/regulasi/Documents/Pages/UU-Republik-Indonesia-tentang-Perbankan/UU%20Nomor%207%20Tahun%201992.pdf', 'page_number': 45}, page_content='d.  batas maksimum kepemilikan dan kepengurusan; \\ne.  kelayakan rencana kerja; \\nf.  batas waktu pemberian izin pendirian bank. \\n \\nPasal 17 \\n \\nDihapus \\n \\nPasal 18 \\nAyat (1) \\nCukup jelas \\nAyat (2) \\nCukup jelas\\n\\nSource: [7 Tahun 1992](https://www.ojk.go.id/id/regulasi/Documents/Pages/UU-Republik-Indonesia-tentang-Perbankan/UU%20Nomor%207%20Tahun%201992.pdf#page=45)'),\n",
       "  Document(metadata={'doc_id': 2562, 'title': 'Peraturan Bank Indonesia Nomor 6/24/PBI/2004', 'sector': None, 'subsector': None, 'regulation_type': None, 'regulation_number': '6/24/PBI/2004', 'effective_date': '2004/10/14', 'file_url': 'https://www.ojk.go.id/id/kanal/perbankan/regulasi/peraturan-bank-indonesia/Documents/317.pdf', 'page_number': 6}, page_content='- 6 - \\na. persetujuan… \\n14. Pemegang Saham Pengendali adalah badan hukum dan atau \\nperorangan dan atau kelompok usaha yang: \\na. memiliki saham Bank sebesar 25% (dua puluh lima perseratus) \\natau lebih dari jumlah saham yang dikeluarkan Bank dan \\nmempunyai hak suara; atau  \\nb. memiliki saham Bank kurang dari 25% (dua puluh lima perseratus) \\ndari jumlah saham yang dikeluarkan Bank dan mempunyai hak \\nsuara namun dapat dibuktikan telah melakukan pengendalian Bank \\nbaik secara langsung maupun tidak langsung; \\n \\nPasal 2 \\nBentuk hukum suatu Bank dapat berupa : \\na. Perseroan Terbatas; \\nb. Koperasi; atau \\nc. Perusahaan Daerah. \\n \\n \\nBAB II \\nPERIZINAN \\nBagian Pertama \\nPendirian Bank \\nPasal 3 \\n(1) Bank hanya dapat didirikan dengan izin Bank Indonesia. \\n(2) Pemberian izin sebagaimana dimaksud pada ayat (1) dilakukan dalam \\ndua tahap:\\n\\nSource: [6/24/PBI/2004](https://www.ojk.go.id/id/kanal/perbankan/regulasi/peraturan-bank-indonesia/Documents/317.pdf#page=6)'),\n",
       "  Document(metadata={'doc_id': 2261, 'title': 'Surat Edaran Bank Indonesia Nomor 8/6/DPBPR', 'sector': None, 'subsector': None, 'regulation_type': None, 'regulation_number': '8/6/DPBPR/2006', 'effective_date': '2006/02/20', 'file_url': 'https://www.ojk.go.id/Files/regulasi/perbankan/se-bi/2006/lampiran_se_080606.pdf', 'page_number': 25}, page_content='3 JP MORGAN CHASE BANK........................................................032 \\n  \\n  4 BANK OF AMERICA NAT.ASSOCIATION ................................033 \\n  \\n  5 BANGKOK BANK LTD................................................................040 \\n  \\n  6 THE HONGKONG & SHANGHAI BANKING CORP..................041\\n\\nSource: [8/6/DPBPR/2006](https://www.ojk.go.id/Files/regulasi/perbankan/se-bi/2006/lampiran_se_080606.pdf#page=25)'),\n",
       "  Document(metadata={'doc_id': 1680, 'title': 'Peraturan Bank Indonesia tentang Bank Umum', 'sector': 'Perbankan', 'subsector': 'Bank Umum', 'regulation_type': 'PPBI', 'regulation_number': '11/1/PBI/2009', 'effective_date': '2009/01/27', 'file_url': 'https://www.ojk.go.id/id/regulasi/Documents/Pages/PBI-tentang-Bank-Umum/153.pdf', 'page_number': 18}, page_content='- 18 - \\n \\n \\nPasal 17 \\n(1) Pihak-pihak yang dapat menjadi pemilik Bank wajib memenuhi syarat: \\na. memiliki akhlak dan moral yang baik; \\nb. memiliki komitmen untuk mematuhi peraturan perundang-undangan \\nyang berlaku; \\nc. memiliki komitmen yang tinggi terhadap pengembangan operasional \\nBank yang sehat; dan \\nd. tidak termasuk dalam Daftar Tidak Lulus. \\n(2) Dalam hal pemilik Bank berbentuk badan hukum maka persyaratan \\nsebagaimana dimaksud pada ayat (1) berlaku bagi pemilik maupun \\npengurus dari badan hukum tersebut. \\n \\nPasal 18 \\n(1) Pihak-pihak yang dapat menjadi PSP Bank wajib memenuhi persyaratan: \\na. Integritas, yang paling kurang mencakup : \\n1. \\nmemiliki akhlak dan moral yang baik; \\n2. \\nmemiliki komitmen untuk mematuhi peraturan perundang-\\nundangan yang berlaku; \\n3. \\nmemiliki \\nkomitmen \\nyang \\ntinggi \\nterhadap \\npengembangan \\noperasional Bank yang sehat; dan \\n4.\\n\\nSource: [11/1/PBI/2009](https://www.ojk.go.id/id/regulasi/Documents/Pages/PBI-tentang-Bank-Umum/153.pdf#page=18)'),\n",
       "  Document(metadata={'doc_id': 1555, 'title': 'PBI tentang Uji Kemampuan dan Kepatutan (Fit and Proper Test) Bank Perkreditan Rakyat', 'sector': 'Perbankan', 'subsector': 'BPR', 'regulation_type': 'PPBI', 'regulation_number': '14/9/PBI/2012', 'effective_date': '2012/07/26', 'file_url': 'https://www.ojk.go.id/id/regulasi/Documents/Pages/PBI-tentang-Uji-Kemampuan-dan-Kepatutan-(Fit-and-Proper-Test)-Bank-Perkreditan-Rakyat/52.pdf', 'page_number': 64}, page_content='industri perbankan senantiasa dimiliki dan dikelola oleh pihak-pihak \\nyang memenuhi persyaratan maka sudah menjadi keharusan untuk \\ntidak memberikan ruang bagi pihak yang melakukan tindakan yang \\ndiindikasikan tidak memenuhi persyaratan kemampuan dan kepatutan. \\nBerdasarkan...\\n\\nSource: [14/9/PBI/2012](https://www.ojk.go.id/id/regulasi/Documents/Pages/PBI-tentang-Uji-Kemampuan-dan-Kepatutan-(Fit-and-Proper-Test)-Bank-Perkreditan-Rakyat/52.pdf#page=64)'),\n",
       "  Document(metadata={'doc_id': 2623, 'title': 'POJK Nomor 5/POJK.03/2016', 'sector': None, 'subsector': None, 'regulation_type': None, 'regulation_number': '5/POJK.03/2016', 'effective_date': '2016/02/03', 'file_url': 'https://www.ojk.go.id/id/kanal/perbankan/regulasi/peraturan-ojk/Documents/Pages/pojk-tentang-rencana-bisnis-bank/SALINAN-POJK%205%20Rencana%20Bisnis%20Bank%20.pdf', 'page_number': 21}, page_content='Bank. \\n \\nPasal 4 \\n \\nCukup jelas. \\n \\nPasal 5 \\n \\nHuruf a \\n \\n \\nCukup jelas. \\n \\nHuruf b \\n \\n \\nCukup jelas.  \\n \\nHuruf c \\n \\n \\nCukup jelas. \\n \\nHuruf d \\n \\n \\nCukup jelas.\\n\\nSource: [5/POJK.03/2016](https://www.ojk.go.id/id/kanal/perbankan/regulasi/peraturan-ojk/Documents/Pages/pojk-tentang-rencana-bisnis-bank/SALINAN-POJK%205%20Rencana%20Bisnis%20Bank%20.pdf#page=21)'),\n",
       "  Document(metadata={'doc_id': 2504, 'title': 'Peraturan Bank Indonesia Nomor 8/26/PBI/2006', 'sector': None, 'subsector': None, 'regulation_type': None, 'regulation_number': '8/26/PBI/2006', 'effective_date': '2006/11/08', 'file_url': 'https://www.ojk.go.id/id/kanal/perbankan/regulasi/peraturan-bank-indonesia/Documents/219.pdf', 'page_number': 21}, page_content='bank dan/atau pihak lain, kecuali berasal dari Anggaran Pendapatan dan \\nBelanja Daerah (APBD); dan \\nb. berasal dari dan untuk tujuan pencucian uang. \\nPasal 15 \\n(1) \\nYang dapat menjadi pemilik BPR adalah pihak-pihak yang: \\na. tidak termasuk dalam daftar orang-orang yang dilarang menjadi \\npemegang saham dan/atau pengurus BPR, BPRS dan/atau bank umum \\nsesuai dengan ketentuan yang ditetapkan oleh Bank Indonesia. \\nb.  menurut….\\n\\nSource: [8/26/PBI/2006](https://www.ojk.go.id/id/kanal/perbankan/regulasi/peraturan-bank-indonesia/Documents/219.pdf#page=21)'),\n",
       "  Document(metadata={'doc_id': 1867, 'title': 'Undang-Undang Republik Indonesia tentang Perbankan Sebagaimana telah Diubah dengan Undang-Undang Nomor 10 Tahun 1998', 'sector': 'Perbankan', 'subsector': 'Bank Umum,  BPR', 'regulation_type': 'Undang-Undang', 'regulation_number': '7 Tahun 1992', 'effective_date': '1998/11/10', 'file_url': 'https://www.ojk.go.id/id/regulasi/Documents/Pages/UU-Republik-Indonesia-tentang-Perbankan/UU%20Nomor%207%20Tahun%201992.pdf', 'page_number': 45}, page_content='d.  batas maksimum kepemilikan dan kepengurusan; \\ne.  kelayakan rencana kerja; \\nf.  batas waktu pemberian izin pendirian bank. \\n \\nPasal 17 \\n \\nDihapus \\n \\nPasal 18 \\nAyat (1) \\nCukup jelas \\nAyat (2) \\nCukup jelas\\n\\nSource: [7 Tahun 1992](https://www.ojk.go.id/id/regulasi/Documents/Pages/UU-Republik-Indonesia-tentang-Perbankan/UU%20Nomor%207%20Tahun%201992.pdf#page=45)'),\n",
       "  Document(metadata={'file_id': '44060048', 'title': 'SURAT EDARAN BANK INDONESIA NOMOR 15/4/DPNP TANGGAL 6 MARET 2013 PERIHAL KEPEMILIKAN SAHAM BANK UMUM', 'file_name': 'Tanya jawab Surat Edaran Bank Indonesia Nomor 15/4/DPNP', 'file_link': 'https://www.bi.go.id/id/publikasi/peraturan/Documents/ef98c247bdcb4bb28d7f29ad97da6955faq_se_150415.pdf', 'date': '6 Maret 2013', 'type_of_regulation': 'Surat Edaran', 'sector': 'Perbankan', 'standardized_extracted_file_name': '', 'standardized_file_name': 'sebi-15_4_dpnp-06032013-surat_edaran_bank_indonesia_nomor_15_4_dpnp_tanggal_6_maret_2013_perihal_kepemilikan_saham_bank_umum', 'page_number': 1}, page_content='dapat membeli saham bank tersebut di atas batas maksimum kepemilikan saham\\natas maksimum kepemilikan saham\\natas maksimum kepemilikan saham\\natas maksimum kepemilikan saham?\\n?\\n?\\n? \\n \\n \\n \\nTidak dapat, calon pemegang saham hanya dapat memiliki saham Bank paling tinggi sebesar \\nbatas maksimum kepemilikan saham pada saat yang bersangkutan menjadi pemegang saham \\nBank dimaksud. \\n2.\\n2.\\n2.\\n2. Bagaimana dengan batas maksimum kepemilikan saham bagi \\nBagaimana dengan batas maksimum kepemilikan saham bagi \\nBagaimana dengan batas maksimum kepemilikan saham bagi \\nBagaimana dengan batas maksimum kepemilikan saham bagi Pemerintah Daerah (\\nPemerintah Daerah (\\nPemerintah Daerah (\\nPemerintah Daerah (Pemda\\nPemda\\nPemda\\nPemda)\\n)\\n)\\n) \\n \\n \\n \\nyang akan mendirikan bank a\\nyang akan mendirikan bank a\\nyang akan mendirikan bank a\\nyang akan mendirikan bank atau mengakuisisi bank bank lain\\n\\nSource: [Tanya jawab Surat Edaran Bank Indonesia Nomor 15/4/DPNP](https://www.bi.go.id/id/publikasi/peraturan/Documents/ef98c247bdcb4bb28d7f29ad97da6955faq_se_150415.pdf#page=1)'),\n",
       "  Document(metadata={'file_id': '44060048', 'title': 'SURAT EDARAN BANK INDONESIA NOMOR 15/4/DPNP TANGGAL 6 MARET 2013 PERIHAL KEPEMILIKAN SAHAM BANK UMUM', 'file_name': 'Tanya jawab Surat Edaran Bank Indonesia Nomor 15/4/DPNP', 'file_link': 'https://www.bi.go.id/id/publikasi/peraturan/Documents/ef98c247bdcb4bb28d7f29ad97da6955faq_se_150415.pdf', 'date': '6 Maret 2013', 'type_of_regulation': 'Surat Edaran', 'sector': 'Perbankan', 'standardized_extracted_file_name': '', 'standardized_file_name': 'sebi-15_4_dpnp-06032013-surat_edaran_bank_indonesia_nomor_15_4_dpnp_tanggal_6_maret_2013_perihal_kepemilikan_saham_bank_umum', 'page_number': 1}, page_content='dapat membeli saham bank tersebut di atas batas maksimum kepemilikan saham\\natas maksimum kepemilikan saham\\natas maksimum kepemilikan saham\\natas maksimum kepemilikan saham?\\n?\\n?\\n? \\n \\n \\n \\nTidak dapat, calon pemegang saham hanya dapat memiliki saham Bank paling tinggi sebesar \\nbatas maksimum kepemilikan saham pada saat yang bersangkutan menjadi pemegang saham \\nBank dimaksud. \\n2.\\n2.\\n2.\\n2. Bagaimana dengan batas maksimum kepemilikan saham bagi \\nBagaimana dengan batas maksimum kepemilikan saham bagi \\nBagaimana dengan batas maksimum kepemilikan saham bagi \\nBagaimana dengan batas maksimum kepemilikan saham bagi Pemerintah Daerah (\\nPemerintah Daerah (\\nPemerintah Daerah (\\nPemerintah Daerah (Pemda\\nPemda\\nPemda\\nPemda)\\n)\\n)\\n) \\n \\n \\n \\nyang akan mendirikan bank a\\nyang akan mendirikan bank a\\nyang akan mendirikan bank a\\nyang akan mendirikan bank atau mengakuisisi bank bank lain\\n\\nSource: [Tanya jawab Surat Edaran Bank Indonesia Nomor 15/4/DPNP](https://www.bi.go.id/id/publikasi/peraturan/Documents/ef98c247bdcb4bb28d7f29ad97da6955faq_se_150415.pdf#page=1)'),\n",
       "  Document(metadata={'file_id': '5792e51a', 'title': 'PERATURAN BANK INDONESIA NO. 11/ 1 /PBI/2009 - BANK UMUM', 'file_name': 'Peraturan Bank Indonesia No. 11/ 1 /PBI/2009', 'file_link': 'https://www.bi.go.id/id/publikasi/peraturan/Documents/8f80b714e8d24bcd85e5a759b9a30f83pbi_110109final.pdf', 'date': '27 Januari 2009', 'type_of_regulation': 'Peraturan Bank Indonesia', 'sector': 'Perbankan', 'standardized_extracted_file_name': '', 'standardized_file_name': 'pbi-11-27012009-peraturan_bank_indonesia_no_11__1__pbi_2009___bank_umum', 'page_number': 18}, page_content='- 18 - \\n \\n \\nPasal 17 \\n(1) Pihak-pihak yang dapat menjadi pemilik Bank wajib memenuhi syarat: \\na. memiliki akhlak dan moral yang baik; \\nb. memiliki komitmen untuk mematuhi peraturan perundang-undangan \\nyang berlaku; \\nc. memiliki komitmen yang tinggi terhadap pengembangan operasional \\nBank yang sehat; dan \\nd. tidak termasuk dalam Daftar Tidak Lulus. \\n(2) Dalam hal pemilik Bank berbentuk badan hukum maka persyaratan \\nsebagaimana dimaksud pada ayat (1) berlaku bagi pemilik maupun \\npengurus dari badan hukum tersebut. \\n \\nPasal 18 \\n(1) Pihak-pihak yang dapat menjadi PSP Bank wajib memenuhi persyaratan: \\na. Integritas, yang paling kurang mencakup : \\n1. \\nmemiliki akhlak dan moral yang baik; \\n2. \\nmemiliki komitmen untuk mematuhi peraturan perundang-\\nundangan yang berlaku; \\n3. \\nmemiliki \\nkomitmen \\nyang \\ntinggi \\nterhadap \\npengembangan \\noperasional Bank yang sehat; dan \\n4.\\n\\nSource: [Peraturan Bank Indonesia No. 11/ 1 /PBI/2009](https://www.bi.go.id/id/publikasi/peraturan/Documents/8f80b714e8d24bcd85e5a759b9a30f83pbi_110109final.pdf#page=18)'),\n",
       "  Document(metadata={'file_id': '5792e51a', 'title': 'PERATURAN BANK INDONESIA NO. 11/ 1 /PBI/2009 - BANK UMUM', 'file_name': 'Peraturan Bank Indonesia No. 11/ 1 /PBI/2009', 'file_link': 'https://www.bi.go.id/id/publikasi/peraturan/Documents/8f80b714e8d24bcd85e5a759b9a30f83pbi_110109final.pdf', 'date': '27 Januari 2009', 'type_of_regulation': 'Peraturan Bank Indonesia', 'sector': 'Perbankan', 'standardized_extracted_file_name': '', 'standardized_file_name': 'pbi-11-27012009-peraturan_bank_indonesia_no_11__1__pbi_2009___bank_umum', 'page_number': 18}, page_content='- 18 - \\n \\n \\nPasal 17 \\n(1) Pihak-pihak yang dapat menjadi pemilik Bank wajib memenuhi syarat: \\na. memiliki akhlak dan moral yang baik; \\nb. memiliki komitmen untuk mematuhi peraturan perundang-undangan \\nyang berlaku; \\nc. memiliki komitmen yang tinggi terhadap pengembangan operasional \\nBank yang sehat; dan \\nd. tidak termasuk dalam Daftar Tidak Lulus. \\n(2) Dalam hal pemilik Bank berbentuk badan hukum maka persyaratan \\nsebagaimana dimaksud pada ayat (1) berlaku bagi pemilik maupun \\npengurus dari badan hukum tersebut. \\n \\nPasal 18 \\n(1) Pihak-pihak yang dapat menjadi PSP Bank wajib memenuhi persyaratan: \\na. Integritas, yang paling kurang mencakup : \\n1. \\nmemiliki akhlak dan moral yang baik; \\n2. \\nmemiliki komitmen untuk mematuhi peraturan perundang-\\nundangan yang berlaku; \\n3. \\nmemiliki \\nkomitmen \\nyang \\ntinggi \\nterhadap \\npengembangan \\noperasional Bank yang sehat; dan \\n4.\\n\\nSource: [Peraturan Bank Indonesia No. 11/ 1 /PBI/2009](https://www.bi.go.id/id/publikasi/peraturan/Documents/8f80b714e8d24bcd85e5a759b9a30f83pbi_110109final.pdf#page=18)'),\n",
       "  Document(metadata={'file_id': '79fd1127', 'title': 'PERATURAN BANK INDONESIA NOMOR 14/ 8 /PBI/2012 TANGGAL 13 JULI 2012 TENTANG KEPEMILIKAN SAHAM BANK UMUM', 'file_name': 'Peraturan Bank Indonesia Nomor 14/ 8 /PBI/2012', 'file_link': 'https://www.bi.go.id/id/publikasi/peraturan/Documents/015ad3f77e3846f3a2ea16e18d778ee2pbi_140813.pdf', 'date': '13 Juli 2012', 'type_of_regulation': 'Peraturan Bank Indonesia', 'sector': 'Perbankan', 'standardized_extracted_file_name': '', 'standardized_file_name': 'pbi-14-13072012-peraturan_bank_indonesia_nomor_14__8__pbi_2012_tanggal_13_juli_2012_tentang_kepemilikan_saham_bank_umum', 'page_number': 12}, page_content='- 12 - \\n \\n \\ndapat memiliki saham Bank lebih dari batas maksimum \\nkepemilikan saham sebagaimana dimaksud dalam Pasal 2 dan \\nPasal 4 dalam jangka waktu tertentu. \\n(2) \\nPemegang saham sebagaimana dimaksud pada ayat (1) wajib \\nmenyesuaikan   dengan   batas   maksimum   kepemilikan   saham  \\nsebagaimana dimaksud dalam Pasal 2 dan Pasal 4 dengan jangka \\nwaktu sebagai berikut:  \\na. \\npaling lama 20 (dua puluh) tahun sejak membeli Bank \\ndimaksud, bagi: \\n1. \\nBank dalam penanganan atau penyelamatan oleh \\nLembaga Penjamin Simpanan; dan \\n2. \\nBank dalam pengawasan khusus; dan \\nb. \\npaling lama 15 (lima belas) tahun sejak membeli Bank \\ndimaksud, bagi Bank dalam pengawasan intensif. \\n \\nPasal 15 \\n(1) \\nPemegang saham pada Bank yang melakukan penggabungan atau \\npeleburan, dapat memiliki saham Bank hasil penggabungan atau \\npeleburan lebih dari batas maksimum kepemilikan saham\\n\\nSource: [Peraturan Bank Indonesia Nomor 14/ 8 /PBI/2012](https://www.bi.go.id/id/publikasi/peraturan/Documents/015ad3f77e3846f3a2ea16e18d778ee2pbi_140813.pdf#page=12)'),\n",
       "  Document(metadata={'file_id': '5792e51a', 'title': 'PERATURAN BANK INDONESIA NO. 11/ 1 /PBI/2009 - BANK UMUM', 'file_name': 'Peraturan Bank Indonesia No. 11/ 1 /PBI/2009', 'file_link': 'https://www.bi.go.id/id/publikasi/peraturan/Documents/8f80b714e8d24bcd85e5a759b9a30f83pbi_110109final.pdf', 'date': '27 Januari 2009', 'type_of_regulation': 'Peraturan Bank Indonesia', 'sector': 'Perbankan', 'standardized_extracted_file_name': '', 'standardized_file_name': 'pbi-11-27012009-peraturan_bank_indonesia_no_11__1__pbi_2009___bank_umum', 'page_number': 6}, page_content='dana dimaksud diatur dengan undang-undang tersendiri. \\n \\nPasal 3 \\nBentuk hukum suatu Bank dapat berupa: \\na. \\nPerseroan Terbatas;  \\nb. \\nPerusahaan Daerah; atau \\nc. \\nKoperasi. \\n \\n \\n \\n \\nBAB II …\\n\\nSource: [Peraturan Bank Indonesia No. 11/ 1 /PBI/2009](https://www.bi.go.id/id/publikasi/peraturan/Documents/8f80b714e8d24bcd85e5a759b9a30f83pbi_110109final.pdf#page=6)'),\n",
       "  Document(metadata={'file_id': '10c94352', 'title': 'PERATURAN BANK INDONESIA NO. 11/ 3 /PBI/2009 - BANK UMUM SYARIAH', 'file_name': 'Peraturan Bank Indonesia No. 11/ 3 /PBI/2009', 'file_link': 'https://www.bi.go.id/id/publikasi/peraturan/Documents/7a8fdaf166194bfea1a4b63c40c03466pbi_110309final.pdf', 'date': '29 Januari 2009', 'type_of_regulation': 'Peraturan Bank Indonesia', 'sector': 'Perbankan', 'standardized_extracted_file_name': '', 'standardized_file_name': 'pbi-11-29012009-peraturan_bank_indonesia_no_11__3__pbi_2009___bank_umum_syariah', 'page_number': 12}, page_content='- 12 - \\nPasal 15 \\nSumber dana yang digunakan dalam rangka kepemilikan Bank \\ndilarang:  \\na. berasal dari pinjaman atau fasilitas pembiayaan dalam bentuk \\napapun dari bank dan/atau pihak lain; dan/atau \\nb. berasal dari dan untuk tujuan pencucian uang (money laundering). \\n \\nPasal 16 \\nPihak-pihak yang dapat menjadi pemilik Bank wajib memenuhi \\npersyaratan integritas, yang paling kurang mencakup: \\na. memiliki akhlak dan moral yang baik; \\nb. memiliki komitmen untuk mematuhi peraturan perbankan syariah \\ndan peraturan perundang-undangan lain yang berlaku; dan \\nc. memiliki komitmen yang tinggi terhadap pengembangan Bank \\nyang sehat dan tangguh (sustainable). \\n \\nPasal 17 \\n(1) Pihak-pihak yang dapat menjadi PSP Bank wajib memenuhi \\npersyaratan integritas dan kelayakan keuangan. \\n(2) Persyaratan dan tata cara penilaian pemenuhan persyaratan\\n\\nSource: [Peraturan Bank Indonesia No. 11/ 3 /PBI/2009](https://www.bi.go.id/id/publikasi/peraturan/Documents/7a8fdaf166194bfea1a4b63c40c03466pbi_110309final.pdf#page=12)'),\n",
       "  Document(metadata={'file_id': '10c94352', 'title': 'PERATURAN BANK INDONESIA NO. 11/ 3 /PBI/2009 - BANK UMUM SYARIAH', 'file_name': 'Peraturan Bank Indonesia No. 11/ 3 /PBI/2009', 'file_link': 'https://www.bi.go.id/id/publikasi/peraturan/Documents/7a8fdaf166194bfea1a4b63c40c03466pbi_110309final.pdf', 'date': '29 Januari 2009', 'type_of_regulation': 'Peraturan Bank Indonesia', 'sector': 'Perbankan', 'standardized_extracted_file_name': '', 'standardized_file_name': 'pbi-11-29012009-peraturan_bank_indonesia_no_11__3__pbi_2009___bank_umum_syariah', 'page_number': 11}, page_content='mencantumkan secara jelas kata Syariah sesudah kata Bank atau \\nsetelah nama bank pada penulisan namanya. \\n(2) Kewajiban sebagaimana dimaksud pada ayat (1) hanya berlaku \\nbagi Bank yang mendapatkan izin usaha setelah berlakunya \\nUndang-Undang Nomor 21 Tahun 2008 tentang Perbankan \\nSyariah. \\n \\nBAB III \\nKEPEMILIKAN DAN PERUBAHAN MODAL BANK \\nPasal 14 \\nKepemilikan Bank oleh badan hukum sebagaimana dimaksud dalam \\nPasal 6 ayat (1) paling tinggi sebesar modal sendiri bersih badan \\nhukum yang bersangkutan. \\nPasal 15 …\\n\\nSource: [Peraturan Bank Indonesia No. 11/ 3 /PBI/2009](https://www.bi.go.id/id/publikasi/peraturan/Documents/7a8fdaf166194bfea1a4b63c40c03466pbi_110309final.pdf#page=11)'),\n",
       "  Document(metadata={'file_id': 'bdfeb156', 'title': 'PERATURAN BANK INDONESIA NOMOR 14/9/PBI/2012 TANGGAL 26 JULI 2012 TENTANG UJI KEMAMPUAN DAN KEPATUTAN (FIT AND PROPER TEST) BPR', 'file_name': 'Peraturan Bank Indonesia Nomor 14/9/PBI/2012', 'file_link': 'https://www.bi.go.id/id/publikasi/peraturan/Documents/e69f93dbe878478a8c7d7d94d5a6325epbi_140913.pdf', 'date': '26 Juli 2012', 'type_of_regulation': 'Peraturan Bank Indonesia', 'sector': 'Perbankan', 'standardized_extracted_file_name': '', 'standardized_file_name': 'pbi-14_9_pbi_2012-26072012-peraturan_bank_indonesia_nomor_14_9_pbi_2012_tanggal_26_juli_2012_tentang_uji_kemampuan_dan_kepatutan_fit_and_proper_test_bpr', 'page_number': 64}, page_content='industri perbankan senantiasa dimiliki dan dikelola oleh pihak-pihak \\nyang memenuhi persyaratan maka sudah menjadi keharusan untuk \\ntidak memberikan ruang bagi pihak yang melakukan tindakan yang \\ndiindikasikan tidak memenuhi persyaratan kemampuan dan kepatutan. \\nBerdasarkan...\\n\\nSource: [Peraturan Bank Indonesia Nomor 14/9/PBI/2012](https://www.bi.go.id/id/publikasi/peraturan/Documents/e69f93dbe878478a8c7d7d94d5a6325epbi_140913.pdf#page=64)'),\n",
       "  Document(metadata={'file_id': '10c94352', 'title': 'PERATURAN BANK INDONESIA NO. 11/ 3 /PBI/2009 - BANK UMUM SYARIAH', 'file_name': 'Peraturan Bank Indonesia No. 11/ 3 /PBI/2009', 'file_link': 'https://www.bi.go.id/id/publikasi/peraturan/Documents/7a8fdaf166194bfea1a4b63c40c03466pbi_110309final.pdf', 'date': '29 Januari 2009', 'type_of_regulation': 'Peraturan Bank Indonesia', 'sector': 'Perbankan', 'standardized_extracted_file_name': '', 'standardized_file_name': 'pbi-11-29012009-peraturan_bank_indonesia_no_11__3__pbi_2009___bank_umum_syariah', 'page_number': 7}, page_content='- 7 - \\nBAB II \\nPERIZINAN \\nBagian Kesatu \\nPendirian Bank \\nPasal 4 \\n(1) Bank hanya dapat didirikan dan melakukan kegiatan usaha \\nsetelah memperoleh izin Bank Indonesia. \\n(2) Pemberian izin sebagaimana dimaksud pada ayat (1) dilakukan \\ndalam 2 (dua) tahap: \\na. persetujuan prinsip, yaitu persetujuan untuk melakukan \\npersiapan pendirian Bank; dan \\nb. izin usaha, yaitu izin yang diberikan untuk melakukan \\nkegiatan usaha Bank setelah persiapan sebagaimana \\ndimaksud dalam huruf a selesai dilakukan. \\n \\nPasal 5 \\nModal disetor untuk mendirikan Bank ditetapkan paling kurang \\nsebesar Rp1.000.000.000.000,00 (satu triliun rupiah). \\n \\nPasal 6 \\n(1) Bank hanya dapat didirikan dan/atau dimiliki oleh: \\na. warga negara Indonesia dan/atau badan hukum Indonesia;  \\nb. warga negara Indonesia dan/atau badan hukum Indonesia \\ndengan warga negara asing dan/atau badan hukum asing\\n\\nSource: [Peraturan Bank Indonesia No. 11/ 3 /PBI/2009](https://www.bi.go.id/id/publikasi/peraturan/Documents/7a8fdaf166194bfea1a4b63c40c03466pbi_110309final.pdf#page=7)'),\n",
       "  Document(metadata={'file_id': '5792e51a', 'title': 'PERATURAN BANK INDONESIA NO. 11/ 1 /PBI/2009 - BANK UMUM', 'file_name': 'Peraturan Bank Indonesia No. 11/ 1 /PBI/2009', 'file_link': 'https://www.bi.go.id/id/publikasi/peraturan/Documents/8f80b714e8d24bcd85e5a759b9a30f83pbi_110109final.pdf', 'date': '27 Januari 2009', 'type_of_regulation': 'Peraturan Bank Indonesia', 'sector': 'Perbankan', 'standardized_extracted_file_name': '', 'standardized_file_name': 'pbi-11-27012009-peraturan_bank_indonesia_no_11__1__pbi_2009___bank_umum', 'page_number': 6}, page_content='- 6 - \\n \\n \\nb.  memiliki saham perusahaan atau Bank kurang dari 25% (dua puluh \\nlima persen) dari jumlah saham yang dikeluarkan dan mempunyai hak \\nsuara namun yang bersangkutan dapat dibuktikan telah melakukan \\npengendalian perusahaan atau Bank, baik secara langsung maupun \\ntidak langsung. \\n12. Kelompok Usaha adalah : \\na. perorangan dan badan hukum; \\nb. beberapa orang; atau \\nc. beberapa badan hukum \\nyang memiliki keterkaitan kepengurusan, kepemilikan, dan/atau hubungan \\nkeuangan. \\n \\nPasal 2 \\nSetiap pihak yang melakukan kegiatan penghimpunan dana dari masyarakat \\ndalam bentuk simpanan wajib terlebih dahulu memperoleh izin usaha sebagai \\nBank dari Pimpinan Bank Indonesia, kecuali apabila kegiatan penghimpunan \\ndana dimaksud diatur dengan undang-undang tersendiri. \\n \\nPasal 3 \\nBentuk hukum suatu Bank dapat berupa: \\na. \\nPerseroan Terbatas;  \\nb. \\nPerusahaan Daerah; atau \\nc.\\n\\nSource: [Peraturan Bank Indonesia No. 11/ 1 /PBI/2009](https://www.bi.go.id/id/publikasi/peraturan/Documents/8f80b714e8d24bcd85e5a759b9a30f83pbi_110109final.pdf#page=6)'),\n",
       "  Document(metadata={'file_id': 'bdfeb156', 'title': 'PERATURAN BANK INDONESIA NOMOR 14/9/PBI/2012 TANGGAL 26 JULI 2012 TENTANG UJI KEMAMPUAN DAN KEPATUTAN (FIT AND PROPER TEST) BPR', 'file_name': 'Peraturan Bank Indonesia Nomor 14/9/PBI/2012', 'file_link': 'https://www.bi.go.id/id/publikasi/peraturan/Documents/e69f93dbe878478a8c7d7d94d5a6325epbi_140913.pdf', 'date': '26 Juli 2012', 'type_of_regulation': 'Peraturan Bank Indonesia', 'sector': 'Perbankan', 'standardized_extracted_file_name': '', 'standardized_file_name': 'pbi-14_9_pbi_2012-26072012-peraturan_bank_indonesia_nomor_14_9_pbi_2012_tanggal_26_juli_2012_tentang_uji_kemampuan_dan_kepatutan_fit_and_proper_test_bpr', 'page_number': 64}, page_content='industri perbankan senantiasa dimiliki dan dikelola oleh pihak-pihak \\nyang memenuhi persyaratan maka sudah menjadi keharusan untuk \\ntidak memberikan ruang bagi pihak yang melakukan tindakan yang \\ndiindikasikan tidak memenuhi persyaratan kemampuan dan kepatutan. \\nBerdasarkan...\\n\\nSource: [Peraturan Bank Indonesia Nomor 14/9/PBI/2012](https://www.bi.go.id/id/publikasi/peraturan/Documents/e69f93dbe878478a8c7d7d94d5a6325epbi_140913.pdf#page=64)'),\n",
       "  Document(metadata={'file_id': '10c94352', 'title': 'PERATURAN BANK INDONESIA NO. 11/ 3 /PBI/2009 - BANK UMUM SYARIAH', 'file_name': 'Peraturan Bank Indonesia No. 11/ 3 /PBI/2009', 'file_link': 'https://www.bi.go.id/id/publikasi/peraturan/Documents/7a8fdaf166194bfea1a4b63c40c03466pbi_110309final.pdf', 'date': '29 Januari 2009', 'type_of_regulation': 'Peraturan Bank Indonesia', 'sector': 'Perbankan', 'standardized_extracted_file_name': '', 'standardized_file_name': 'pbi-11-29012009-peraturan_bank_indonesia_no_11__3__pbi_2009___bank_umum_syariah', 'page_number': 11}, page_content='mencantumkan secara jelas kata Syariah sesudah kata Bank atau \\nsetelah nama bank pada penulisan namanya. \\n(2) Kewajiban sebagaimana dimaksud pada ayat (1) hanya berlaku \\nbagi Bank yang mendapatkan izin usaha setelah berlakunya \\nUndang-Undang Nomor 21 Tahun 2008 tentang Perbankan \\nSyariah. \\n \\nBAB III \\nKEPEMILIKAN DAN PERUBAHAN MODAL BANK \\nPasal 14 \\nKepemilikan Bank oleh badan hukum sebagaimana dimaksud dalam \\nPasal 6 ayat (1) paling tinggi sebesar modal sendiri bersih badan \\nhukum yang bersangkutan. \\nPasal 15 …\\n\\nSource: [Peraturan Bank Indonesia No. 11/ 3 /PBI/2009](https://www.bi.go.id/id/publikasi/peraturan/Documents/7a8fdaf166194bfea1a4b63c40c03466pbi_110309final.pdf#page=11)'),\n",
       "  Document(metadata={'file_id': '79fd1127', 'title': 'PERATURAN BANK INDONESIA NOMOR 14/ 8 /PBI/2012 TANGGAL 13 JULI 2012 TENTANG KEPEMILIKAN SAHAM BANK UMUM', 'file_name': 'Peraturan Bank Indonesia Nomor 14/ 8 /PBI/2012', 'file_link': 'https://www.bi.go.id/id/publikasi/peraturan/Documents/015ad3f77e3846f3a2ea16e18d778ee2pbi_140813.pdf', 'date': '13 Juli 2012', 'type_of_regulation': 'Peraturan Bank Indonesia', 'sector': 'Perbankan', 'standardized_extracted_file_name': '', 'standardized_file_name': 'pbi-14-13072012-peraturan_bank_indonesia_nomor_14__8__pbi_2012_tanggal_13_juli_2012_tentang_kepemilikan_saham_bank_umum', 'page_number': 8}, page_content='- 8 - \\n \\n \\nbersifat ekuitas yang diterbitkan oleh Bank yang akan \\ndimiliki;  \\ng. \\nkomitmen untuk memiliki Bank paling kurang dalam jangka  \\nwaktu tertentu; dan \\nh. \\nkomitmen untuk mendukung pengembangan perekonomian \\nIndonesia melalui Bank yang dimiliki. \\n  \\nPasal 7 \\nBank yang dapat dimiliki oleh badan hukum lembaga keuangan bank \\ndengan jumlah lebih dari 40% (empat puluh persen) dari Modal Bank \\nsebagaimana dimaksud dalam Pasal 6, paling kurang memenuhi \\nkriteria: \\na. \\nwajib melakukan go public untuk mencapai kepemilikan publik \\npaling kurang sebesar 20% (dua puluh persen) dari modal bank, \\nyang dilakukan paling lama 5 (lima) tahun sejak badan hukum \\nlembaga keuangan bank memiliki saham sesuai persetujuan Bank \\nIndonesia sebagaimana dimaksud dalam Pasal 6 ayat (1); dan \\nb. \\nwajib memiliki persetujuan untuk menerbitkan surat utang yang \\nbersifat ekuitas. \\n \\nPasal 8 \\n(1)\\n\\nSource: [Peraturan Bank Indonesia Nomor 14/ 8 /PBI/2012](https://www.bi.go.id/id/publikasi/peraturan/Documents/015ad3f77e3846f3a2ea16e18d778ee2pbi_140813.pdf#page=8)'),\n",
       "  Document(metadata={'file_id': '79fd1127', 'title': 'PERATURAN BANK INDONESIA NOMOR 14/ 8 /PBI/2012 TANGGAL 13 JULI 2012 TENTANG KEPEMILIKAN SAHAM BANK UMUM', 'file_name': 'Peraturan Bank Indonesia Nomor 14/ 8 /PBI/2012', 'file_link': 'https://www.bi.go.id/id/publikasi/peraturan/Documents/015ad3f77e3846f3a2ea16e18d778ee2pbi_140813.pdf', 'date': '13 Juli 2012', 'type_of_regulation': 'Peraturan Bank Indonesia', 'sector': 'Perbankan', 'standardized_extracted_file_name': '', 'standardized_file_name': 'pbi-14-13072012-peraturan_bank_indonesia_nomor_14__8__pbi_2012_tanggal_13_juli_2012_tentang_kepemilikan_saham_bank_umum', 'page_number': 6}, page_content='- 6 - \\n \\n \\nin concert) dengan atau tanpa perjanjian tertulis sehingga \\nsecara bersama-sama mempunyai hak opsi atau hak lainnya \\nuntuk memiliki saham Bank. \\n(2) \\nPemegang \\nsaham \\nyang \\nmemiliki \\nketerkaitan \\nsebagaimana \\ndimaksud pada ayat (1) ditetapkan sebagai satu pihak. \\n(3) \\nBatas maksimum kepemilikan saham bagi pemegang saham yang \\nditetapkan sebagai satu pihak sebagaimana dimaksud pada ayat \\n(2) adalah sebagai berikut: \\na. \\njumlah keseluruhan kepemilikan saham dalam satu pihak \\ntersebut sebesar batas kepemilikan yang tertinggi dari \\nkategori pemegang saham dalam satu pihak tersebut; dan  \\nb. \\nkomposisi kepemilikan masing-masing pemegang saham \\ndalam satu pihak tersebut paling tinggi sebesar batas \\nmaksimum kepemilikan sesuai kategori pemegang saham. \\n \\nPasal 5 \\n(1) \\nPemegang saham bank yang memenuhi kriteria sebagai pemegang\\n\\nSource: [Peraturan Bank Indonesia Nomor 14/ 8 /PBI/2012](https://www.bi.go.id/id/publikasi/peraturan/Documents/015ad3f77e3846f3a2ea16e18d778ee2pbi_140813.pdf#page=6)'),\n",
       "  Document(metadata={'file_id': 'a4e45afe', 'title': 'PERATURAN BANK INDONESIA NOMOR 14/24/PBI/2012 TANGGAL 26 DESEMBER 2012 TENTANG KEPEMILIKAN TUNGGAL PADA PERBANKAN INDONESIA', 'file_name': 'Peraturan Bank Indonesia Nomor 14/24/PBI/2012', 'file_link': 'https://www.bi.go.id/id/publikasi/peraturan/Documents/ddd3d69850064f899f61a3438adff47cpbi_142412merge1.PDF', 'date': '26 Desember 2012', 'type_of_regulation': 'Peraturan Bank Indonesia', 'sector': 'Perbankan', 'standardized_extracted_file_name': '', 'standardized_file_name': 'pbi-14_24_pbi_2012-26122012-peraturan_bank_indonesia_nomor_14_24_pbi_2012_tanggal_26_desember_2012_tentang_kepemilikan_tunggal_pada_perbankan_indonesia', 'page_number': 3}, page_content='perorangan dan/atau kelompok usaha yang: \\na.  memiliki saham Bank sebesar 25% (dua puluh lima \\nperseratus) atau lebih dari jumlah saham yang dikeluarkan \\nBank dan mempunyai hak suara; \\nb.  memiliki saham Bank kurang dari 25% (dua puluh lima \\nperseratus) dari jumlah saham yang dikeluarkan Bank dan \\nmempunyai hak suara namun dapat dibuktikan telah \\nmelakukan pengendalian Bank baik secara langsung maupun \\ntidak langsung. \\n \\n4. Perusahaan …\\n\\nSource: [Peraturan Bank Indonesia Nomor 14/24/PBI/2012](https://www.bi.go.id/id/publikasi/peraturan/Documents/ddd3d69850064f899f61a3438adff47cpbi_142412merge1.PDF#page=3)'),\n",
       "  Document(metadata={'Nomor Ketentuan': '11/1/PBI/2009', 'Ketentuan': 'Pasal 17 ', 'Referensi': '-', 'Kodifikasi Ketentuan': 'Bank Umum Konvensional', 'Jenis Ketentuan': 'PBI', 'Judul Ketentuan': 'Bank Umum', 'Tanggal Ketentuan': '2009/01/22'}, page_content='Nomor Ketentuan: 11/1/PBI/2009\\nKetentuan: Pasal 17 \\nmemiliki Isi ketentuan sebagai berikut: (1) Pihak-pihak yang dapat menjadi pemilik Bank wajib memenuhi syarat:\\na. memiliki akhlak dan moral yang baik;\\nb. memiliki komitmen untuk mematuhi peraturan perundang-undangan\\nyang berlaku;\\nc. memiliki komitmen yang tinggi terhadap pengembangan operasional\\nBank yang sehat; dan\\nd. tidak termasuk dalam Daftar Tidak Lulus.\\n(2) Dalam hal pemilik Bank berbentuk badan hukum maka persyaratan\\nsebagaimana dimaksud pada ayat (1) berlaku bagi pemilik maupun\\npengurus dari badan hukum tersebut.\\nserta memiliki penjelasan tambahan sebagai berikut: Cukup jelas.'),\n",
       "  Document(metadata={'Nomor Ketentuan': '11/1/PBI/2009', 'Ketentuan': 'Pasal 17 ', 'Referensi': '-', 'Kodifikasi Ketentuan': 'Bank Umum Konvensional', 'Jenis Ketentuan': 'PBI', 'Judul Ketentuan': 'Bank Umum', 'Tanggal Ketentuan': '2009/01/22'}, page_content='Nomor Ketentuan: 11/1/PBI/2009\\nKetentuan: Pasal 17 \\nmemiliki Isi ketentuan sebagai berikut: (1) Pihak-pihak yang dapat menjadi pemilik Bank wajib memenuhi syarat:\\na. memiliki akhlak dan moral yang baik;\\nb. memiliki komitmen untuk mematuhi peraturan perundang-undangan\\nyang berlaku;\\nc. memiliki komitmen yang tinggi terhadap pengembangan operasional\\nBank yang sehat; dan\\nd. tidak termasuk dalam Daftar Tidak Lulus.\\n(2) Dalam hal pemilik Bank berbentuk badan hukum maka persyaratan\\nsebagaimana dimaksud pada ayat (1) berlaku bagi pemilik maupun\\npengurus dari badan hukum tersebut.\\nserta memiliki penjelasan tambahan sebagai berikut: Cukup jelas.'),\n",
       "  Document(metadata={'Nomor Ketentuan': '11/1/PBI/2009', 'Ketentuan': 'Pasal 17 ', 'Referensi': '-', 'Kodifikasi Ketentuan': 'Bank Umum Konvensional', 'Jenis Ketentuan': 'PBI', 'Judul Ketentuan': 'Bank Umum', 'Tanggal Ketentuan': '2009/01/22'}, page_content='Nomor Ketentuan: 11/1/PBI/2009\\nKetentuan: Pasal 17 \\nmemiliki Isi ketentuan sebagai berikut: (1) Pihak-pihak yang dapat menjadi pemilik Bank wajib memenuhi syarat:\\na. memiliki akhlak dan moral yang baik;\\nb. memiliki komitmen untuk mematuhi peraturan perundang-undangan\\nyang berlaku;\\nc. memiliki komitmen yang tinggi terhadap pengembangan operasional\\nBank yang sehat; dan\\nd. tidak termasuk dalam Daftar Tidak Lulus.\\n(2) Dalam hal pemilik Bank berbentuk badan hukum maka persyaratan\\nsebagaimana dimaksud pada ayat (1) berlaku bagi pemilik maupun\\npengurus dari badan hukum tersebut.\\nserta memiliki penjelasan tambahan sebagai berikut: Cukup jelas.'),\n",
       "  Document(metadata={'Nomor Ketentuan': '12/POJK.03/2020', 'Ketentuan': 'Pasal 2 ', 'Referensi': '-', 'Kodifikasi Ketentuan': 'Bank Umum Syariah', 'Jenis Ketentuan': 'POJK', 'Judul Ketentuan': 'Konsolidasi Bank Umum', 'Tanggal Ketentuan': '2020/03/16'}, page_content='Nomor Ketentuan: 12/POJK.03/2020\\nKetentuan: Pasal 2 \\nmemiliki Isi ketentuan sebagai berikut: (1) PSP Bank dapat memiliki 1 (satu) Bank atau  beberapa Bank.\\n(2) PSP Bank sebagaimana dimaksud pada ayat (1) dapat terdiri atas: \\na. Bank;                                                                                                 \\nb. badan hukum lembaga keuangan bukan Bank;                                 \\nc. badan hukum bukan lembaga keuangan; atau  d. perorangan.\\nserta memiliki penjelasan tambahan sebagai berikut: Ayat (1) \\nCukup jelas.                                                                              \\nAyat (2) \\nHuruf a  \\nCukup jelas. \\nHuruf b \\nCukup jelas. \\nHuruf c \\nTermasuk badan hukum bukan lembaga keuangan yaitu pemerintah pusat, pemerintah daerah, dan Lembaga Penjamin Simpanan. \\nHuruf d Cukup jelas.'),\n",
       "  Document(metadata={'Nomor Ketentuan': '11/3/PBI/2009', 'Ketentuan': 'Pasal 6 ', 'Referensi': '-', 'Kodifikasi Ketentuan': 'Bank Umum Syariah', 'Jenis Ketentuan': 'PBI', 'Judul Ketentuan': 'Bank Umum Syariah', 'Tanggal Ketentuan': '2009/01/29'}, page_content='Nomor Ketentuan: 11/3/PBI/2009\\nKetentuan: Pasal 6 \\nmemiliki Isi ketentuan sebagai berikut: Pasal 6\\n(1) Bank hanya dapat didirikan dan/atau dimiliki oleh:\\na. warga negara Indonesia dan/atau badan hukum Indonesia;\\nb. warga negara Indonesia dan/atau badan hukum Indonesia dengan warga negara asing dan/atau badan hukum asing secara kemitraan; atau\\nc. pemerintah daerah.\\n(2) Kepemilikan oleh warga negara asing dan/atau badan hukum asing sebagaimana dimaksud pada ayat (1) huruf b paling banyak sebesar 99% (sembilan puluh sembilan persen) dari modal disetor Bank.\\nserta memiliki penjelasan tambahan sebagai berikut: Pasal 6\\nCukup jelas.'),\n",
       "  Document(metadata={'Nomor Ketentuan': '13/POJK.03/2021', 'Ketentuan': 'Pasal 29 ', 'Referensi': '-', 'Kodifikasi Ketentuan': 'Unit Usaha Syariah', 'Jenis Ketentuan': 'POJK', 'Judul Ketentuan': 'Penyelenggaraan Produk Bank Umum', 'Tanggal Ketentuan': '2021/07/30'}, page_content='yang dapat mempengaruhi komposisi kepemilikan\\ndan/atau permodalan Bank, wajib mengajukan\\npermohonan izin disertai dengan dokumen permohonan\\nsecara lengkap.\\n(5) Otoritas Jasa Keuangan memberikan izin atau menolak\\npermohonan izin penyelenggaraan kegiatan sebagaimana\\ndimaksud pada ayat (4) paling lama 14 (empat belas)\\nhari kerja setelah seluruh persyaratan dipenuhi dan\\ndokumen permohonan diterima secara lengkap oleh\\nOtoritas Jasa Keuangan.\\n(6) Bank yang tidak melaksanakan kewajiban sebagaimana\\ndimaksud pada ayat (4) dikenai sanksi administratif\\nberupa teguran tertulis dan denda sebesar\\nRp100.000.000,00 (seratus juta rupiah) per kegiatan\\nBank.\\nserta memiliki penjelasan tambahan sebagai berikut: Ayat (1)\\nCukup jelas.\\nAyat (2)\\nContoh kegiatan yang dilakukan untuk kepentingan Bank\\nsendiri:\\na. sekuritisasi aset;\\nb. transaksi derivatif untuk kepentingan Bank;\\nc. pinjaman yang diterima;\\nd. pembelian atau penjualan surat berharga;\\ne. penempatan pada Bank Indonesia;\\nf. penempatan pada bank lain;'),\n",
       "  Document(metadata={'Nomor Ketentuan': '56/POJK.03/2016', 'Ketentuan': 'Pasal 11 ', 'Referensi': '-', 'Kodifikasi Ketentuan': 'Bank Umum Konvensional', 'Jenis Ketentuan': 'POJK', 'Judul Ketentuan': 'Kepemilikan Saham Bank Umum', 'Tanggal Ketentuan': '2016/12/07'}, page_content='Nomor Ketentuan: 56/POJK.03/2016\\nKetentuan: Pasal 11 \\nmemiliki Isi ketentuan sebagai berikut: Pasal 11\\n(1) Pemegang saham yang akan memiliki:\\na. Bank dalam penanganan atau penyelamatan oleh Lembaga Penjamin Simpanan;\\nb. Bank dalam pengawasan khusus; atau\\nc. Bank dalam pengawasan intensif,\\ndapat memiliki saham Bank lebih dari batas maksimum kepemilikan saham sebagaimana dimaksud dalam Pasal 2 dan Pasal 4 dalam jangka waktu tertentu.\\n(2) Pemegang saham sebagaimana dimaksud pada ayat (1) wajib menyesuaikan dengan batas maksimum kepemilikan saham sebagaimana dimaksud dalam Pasal 2 dan Pasal 4 dengan jangka waktu:\\na. paling lama 20 (dua puluh) tahun sejak membeli:\\n1. Bank dalam penanganan atau penyelamatan oleh Lembaga Penjamin Simpanan; atau\\n2. Bank dalam pengawasan khusus; atau\\nb. paling lama 15 (lima belas) tahun sejak membeli Bank dalam pengawasan intensif.\\nserta memiliki penjelasan tambahan sebagai berikut: Pasal 11\\nAyat (1)\\nHuruf a\\nCukup jelas.\\nHuruf b'),\n",
       "  Document(metadata={'Nomor Ketentuan': '32/POJK.03/2016', 'Ketentuan': 'Pasal 44 ', 'Referensi': '6/POJK.03/2015 Pasal 44 ', 'Kodifikasi Ketentuan': 'Unit Usaha Syariah', 'Jenis Ketentuan': 'POJK', 'Judul Ketentuan': 'Perubahan Atas Peraturan Otoritas Jasa Keuangan Nomor 6POJK032015 Tentang Transparansi dan Publikasi Laporan Bank', 'Tanggal Ketentuan': '2016/08/08'}, page_content='a) Pemegang Saham Pengendali atau pemilik Bank; dan/atau\\nb) anggota Direksi, anggota Dewan Komisaris, atau Pejabat Eksekutif Bank.\\nserta memiliki penjelasan tambahan sebagai berikut: Pasal 44\\nCukup jelas.'),\n",
       "  Document(metadata={'Nomor Ketentuan': '56/POJK.03/2016', 'Ketentuan': 'Pasal 7 ', 'Referensi': '-', 'Kodifikasi Ketentuan': 'Bank Umum Konvensional', 'Jenis Ketentuan': 'POJK', 'Judul Ketentuan': 'Kepemilikan Saham Bank Umum', 'Tanggal Ketentuan': '2016/12/07'}, page_content='Nomor Ketentuan: 56/POJK.03/2016\\nKetentuan: Pasal 7 \\nmemiliki Isi ketentuan sebagai berikut: Pasal 7\\nBank yang dapat dimiliki oleh badan hukum lembaga keuangan bank dengan jumlah lebih dari 40% (empat puluh persen) dari Modal Bank sebagaimana dimaksud dalam Pasal 6 paling sedikit memenuhi kriteria:\\na. harus melakukan go public untuk mencapai kepemilikan publik paling sedikit sebesar 20% (dua puluh persen) dari Modal Bank, yang dilakukan paling lambat 5 (lima) tahun sejak badan hukum lembaga keuangan bank memiliki saham sesuai persetujuan Otoritas Jasa Keuangan sebagaimana dimaksud dalam Pasal 6 ayat (1); dan\\nb. harus memiliki persetujuan untuk menerbitkan surat utang yang bersifat ekuitas.\\nserta memiliki penjelasan tambahan sebagai berikut: Pasal 7\\nHuruf a\\nGo public dapat dilakukan melalui penawaran umum atau tanpa penawaran umum.\\nHuruf b'),\n",
       "  Document(metadata={'Nomor Ketentuan': '56/POJK.03/2016', 'Ketentuan': 'Pasal 7 ', 'Referensi': '-', 'Kodifikasi Ketentuan': 'Bank Umum Konvensional', 'Jenis Ketentuan': 'POJK', 'Judul Ketentuan': 'Kepemilikan Saham Bank Umum', 'Tanggal Ketentuan': '2016/12/07'}, page_content='Nomor Ketentuan: 56/POJK.03/2016\\nKetentuan: Pasal 7 \\nmemiliki Isi ketentuan sebagai berikut: Pasal 7\\nBank yang dapat dimiliki oleh badan hukum lembaga keuangan bank dengan jumlah lebih dari 40% (empat puluh persen) dari Modal Bank sebagaimana dimaksud dalam Pasal 6 paling sedikit memenuhi kriteria:\\na. harus melakukan go public untuk mencapai kepemilikan publik paling sedikit sebesar 20% (dua puluh persen) dari Modal Bank, yang dilakukan paling lambat 5 (lima) tahun sejak badan hukum lembaga keuangan bank memiliki saham sesuai persetujuan Otoritas Jasa Keuangan sebagaimana dimaksud dalam Pasal 6 ayat (1); dan\\nb. harus memiliki persetujuan untuk menerbitkan surat utang yang bersifat ekuitas.\\nserta memiliki penjelasan tambahan sebagai berikut: Pasal 7\\nHuruf a\\nGo public dapat dilakukan melalui penawaran umum atau tanpa penawaran umum.\\nHuruf b'),\n",
       "  Document(metadata={'Nomor Ketentuan': '13/27/PBI/2011', 'Ketentuan': 'Pasal 17 ', 'Referensi': '11/1/PBI/2009 Pasal 17 ', 'Kodifikasi Ketentuan': 'Bank Umum Konvensional', 'Jenis Ketentuan': 'PBI', 'Judul Ketentuan': 'Perubahan Atas Peraturan Bank Indonesia Nomor 111PBI2009 Tentang Bank Umum', 'Tanggal Ketentuan': '2011/12/28'}, page_content='Nomor Ketentuan: 13/27/PBI/2011\\nKetentuan: Pasal 17 \\nmemiliki Isi ketentuan sebagai berikut: Ketentuan Pasal 17 ayat (1) huruf a dan huruf c diubah, sehingga Pasal 17 berbunyi sebagai berikut:\\n                                         \\n(1) Pihak-pihak yang dapat menjadi pemilik Bank wajib memenuhi syarat:\\na. memiliki akhlak dan moral yang baik, antara lain ditunjukkan dengan sikap mematuhi ketentuan yang berlaku, termasuk tidak pernah dihukum karena terbukti melakukan Tindak Pidana Tertentu dalam waktu 20 (dua puluh) tahun terakhir;\\nb. memiliki komitmen untuk mematuhi peraturan perundang-undangan yang berlaku;\\nc. memiliki komitmen terhadap pengembangan operasional Bank yang sehat; dan\\nd. tidak termasuk dalam Daftar Tidak Lulus.\\n(2) Dalam hal pemilik Bank berbentuk badan hukum maka persyaratan sebagaimana dimaksud pada ayat (1) berlaku bagi pemilik maupun pengurus dari badan hukum tersebut.\\nserta memiliki penjelasan tambahan sebagai berikut: Cukup jelas.'),\n",
       "  Document(metadata={'Nomor Ketentuan': '11/3/PBI/2009', 'Ketentuan': 'Pasal 6 ', 'Referensi': '-', 'Kodifikasi Ketentuan': 'Bank Umum Syariah', 'Jenis Ketentuan': 'PBI', 'Judul Ketentuan': 'Bank Umum Syariah', 'Tanggal Ketentuan': '2009/01/29'}, page_content='Nomor Ketentuan: 11/3/PBI/2009\\nKetentuan: Pasal 6 \\nmemiliki Isi ketentuan sebagai berikut: Pasal 6\\n(1) Bank hanya dapat didirikan dan/atau dimiliki oleh:\\na. warga negara Indonesia dan/atau badan hukum Indonesia;\\nb. warga negara Indonesia dan/atau badan hukum Indonesia dengan warga negara asing dan/atau badan hukum asing secara kemitraan; atau\\nc. pemerintah daerah.\\n(2) Kepemilikan oleh warga negara asing dan/atau badan hukum asing sebagaimana dimaksud pada ayat (1) huruf b paling banyak sebesar 99% (sembilan puluh sembilan persen) dari modal disetor Bank.\\nserta memiliki penjelasan tambahan sebagai berikut: Pasal 6\\nCukup jelas.'),\n",
       "  Document(metadata={'Nomor Ketentuan': '11/1/PBI/2009', 'Ketentuan': 'Pasal 6 ', 'Referensi': '-', 'Kodifikasi Ketentuan': 'Bank Umum Konvensional', 'Jenis Ketentuan': 'PBI', 'Judul Ketentuan': 'Bank Umum', 'Tanggal Ketentuan': '2009/01/22'}, page_content='Nomor Ketentuan: 11/1/PBI/2009\\nKetentuan: Pasal 6 \\nmemiliki Isi ketentuan sebagai berikut: (1) Bank hanya dapat didirikan dan/atau dimiliki oleh:\\na. warga negara Indonesia dan/atau badan hukum Indonesia; atau\\nb. warga negara Indonesia dan/atau badan hukum Indonesia dengan warga negara asing dan/atau badan hukum asing secara kemitraan.\\n(2) Kepemilikan oleh warga negara asing dan/atau badan hukum asing sebagaimana dimaksud pada ayat (1) huruf b paling banyak sebesar 99% (sembilan puluh sembilan persen) dari modal disetor Bank.\\nserta memiliki penjelasan tambahan sebagai berikut: Cukup jelas.'),\n",
       "  Document(metadata={'Nomor Ketentuan': '56/POJK.03/2016', 'Ketentuan': 'Pasal 11 ', 'Referensi': '-', 'Kodifikasi Ketentuan': 'Bank Umum Konvensional', 'Jenis Ketentuan': 'POJK', 'Judul Ketentuan': 'Kepemilikan Saham Bank Umum', 'Tanggal Ketentuan': '2016/12/07'}, page_content='Nomor Ketentuan: 56/POJK.03/2016\\nKetentuan: Pasal 11 \\nmemiliki Isi ketentuan sebagai berikut: Pasal 11\\n(1) Pemegang saham yang akan memiliki:\\na. Bank dalam penanganan atau penyelamatan oleh Lembaga Penjamin Simpanan;\\nb. Bank dalam pengawasan khusus; atau\\nc. Bank dalam pengawasan intensif,\\ndapat memiliki saham Bank lebih dari batas maksimum kepemilikan saham sebagaimana dimaksud dalam Pasal 2 dan Pasal 4 dalam jangka waktu tertentu.\\n(2) Pemegang saham sebagaimana dimaksud pada ayat (1) wajib menyesuaikan dengan batas maksimum kepemilikan saham sebagaimana dimaksud dalam Pasal 2 dan Pasal 4 dengan jangka waktu:\\na. paling lama 20 (dua puluh) tahun sejak membeli:\\n1. Bank dalam penanganan atau penyelamatan oleh Lembaga Penjamin Simpanan; atau\\n2. Bank dalam pengawasan khusus; atau\\nb. paling lama 15 (lima belas) tahun sejak membeli Bank dalam pengawasan intensif.\\nserta memiliki penjelasan tambahan sebagai berikut: Pasal 11\\nAyat (1)\\nHuruf a\\nCukup jelas.\\nHuruf b'),\n",
       "  Document(metadata={'Nomor Ketentuan': '13/27/PBI/2011', 'Ketentuan': 'Pasal 17 ', 'Referensi': '11/1/PBI/2009 Pasal 17 ', 'Kodifikasi Ketentuan': 'Bank Umum Konvensional', 'Jenis Ketentuan': 'PBI', 'Judul Ketentuan': 'Perubahan Atas Peraturan Bank Indonesia Nomor 111PBI2009 Tentang Bank Umum', 'Tanggal Ketentuan': '2011/12/28'}, page_content='Nomor Ketentuan: 13/27/PBI/2011\\nKetentuan: Pasal 17 \\nmemiliki Isi ketentuan sebagai berikut: Ketentuan Pasal 17 ayat (1) huruf a dan huruf c diubah, sehingga Pasal 17 berbunyi sebagai berikut:\\n                                         \\n(1) Pihak-pihak yang dapat menjadi pemilik Bank wajib memenuhi syarat:\\na. memiliki akhlak dan moral yang baik, antara lain ditunjukkan dengan sikap mematuhi ketentuan yang berlaku, termasuk tidak pernah dihukum karena terbukti melakukan Tindak Pidana Tertentu dalam waktu 20 (dua puluh) tahun terakhir;\\nb. memiliki komitmen untuk mematuhi peraturan perundang-undangan yang berlaku;\\nc. memiliki komitmen terhadap pengembangan operasional Bank yang sehat; dan\\nd. tidak termasuk dalam Daftar Tidak Lulus.\\n(2) Dalam hal pemilik Bank berbentuk badan hukum maka persyaratan sebagaimana dimaksud pada ayat (1) berlaku bagi pemilik maupun pengurus dari badan hukum tersebut.\\nserta memiliki penjelasan tambahan sebagai berikut: Cukup jelas.'),\n",
       "  Document(metadata={'Nomor Ketentuan': '12/POJK.03/2021', 'Ketentuan': 'Pasal 36 ', 'Referensi': '-', 'Kodifikasi Ketentuan': 'Bank Umum Konvensional', 'Jenis Ketentuan': 'POJK', 'Judul Ketentuan': 'Bank Umum', 'Tanggal Ketentuan': '2021/07/30'}, page_content='Nomor Ketentuan: 12/POJK.03/2021\\nKetentuan: Pasal 36 \\nmemiliki Isi ketentuan sebagai berikut: (1) Pihak yang menjadi pemilik Bank BHI paling sedikit harus \\nmemenuhi persyaratan:\\na. memiliki akhlak dan moral yang baik;\\nb. memiliki komitmen untuk mematuhi ketentuan \\nperaturan perundang-undangan;\\nc. memiliki komitmen terhadap pengembangan Bank \\nBHI yang sehat; dan\\nd. tidak termasuk sebagai pihak yang dilarang menjadi \\npihak utama lembaga jasa keuangan.\\n(2) Dalam hal pihak yang memiliki saham Bank BHI \\nberbentuk badan hukum, persyaratan sebagaimana \\ndimaksud pada ayat (1) berlaku bagi pemilik maupun \\npengurus dari badan hukum yang bersangkutan.\\nserta memiliki penjelasan tambahan sebagai berikut: Ayat (1)\\nPemilik yaitu pemegang saham, PSP perseorangan dan/atau \\nbadan hukum, dan pemilik dan pengendali terakhir dari PSP \\nberupa badan hukum. \\nHuruf a\\nCukup jelas.\\nHuruf b\\nCukup jelas.\\nHuruf c\\nCukup jelas.\\nHuruf d\\nYang dimaksud dengan “pihak yang dilarang menjadi pihak')],\n",
       " 'context_text': ['Pihak-pihak yang dapat memiliki bank adalah pihak-pihak yang memenuhi persyaratan yang ditetapkan oleh Bank Indonesia, termasuk memiliki akhlak dan moral yang baik, komitmen untuk mematuhi peraturan perundang-undangan yang berlaku, memiliki komitmen yang tinggi terhadap pengembangan operasional bank yang sehat, dan tidak termasuk dalam daftar orang-orang yang dilarang menjadi pemegang saham dan/atau pengurus bank sesuai dengan ketentuan yang ditetapkan oleh Bank Indonesia.\\n\\nReference:\\n11/1/PBI/2009 (https://www.ojk.go.id/id/regulasi/Documents/Pages/PBI-tentang-Bank-Umum/153.pdf#page=18)\\n6/24/PBI/2004 (https://www.ojk.go.id/id/kanal/perbankan/regulasi/peraturan-bank-indonesia/Documents/317.pdf#page=19)\\n7 Tahun 1992 (https://www.ojk.go.id/id/regulasi/Documents/Pages/UU-Republik-Indonesia-tentang-Perbankan/UU%20Nomor%207%20Tahun%201992.pdf#page=45)',\n",
       "  'Pihak-pihak yang dapat memiliki bank adalah warga negara Indonesia dan/atau badan hukum Indonesia, warga negara Indonesia dan/atau badan hukum Indonesia dengan warga negara asing dan/atau badan hukum asing, serta perorangan dan/atau kelompok usaha yang memiliki saham bank sebesar 25% atau lebih dari jumlah saham yang dikeluarkan bank dan mempunyai hak suara.\\n\\nSource: \\nPeraturan Bank Indonesia No. 11/ 1 /PBI/2009 - BANK UMUM\\nPeraturan Bank Indonesia No. 11/ 3 /PBI/2009 - BANK UMUM SYARIAH\\nPeraturan Bank Indonesia No. 14/ 8 /PBI/2012 TANGGAL 13 JULI 2012 TENTANG KEPEMILIKAN SAHAM BANK UMUM\\nPeraturan Bank Indonesia No. 14/9/PBI/2012 TANGGAL 26 JULI 2012 TENTANG UJI KEMAMPUAN DAN KEPATUTAN (FIT AND PROPER TEST) BPR\\nPeraturan Bank Indonesia Nomor 14/24/PBI/2012 TANGGAL 26 DESEMBER 2012 TENTANG KEPEMILIKAN TUNGGAL PADA PERBANKAN INDONESIA',\n",
       "  'Berdasarkan konteks yang diberikan, siapa yang dapat memiliki bank tergantung pada jenis bank yang dimaksud. \\n\\nUntuk Bank Umum Konvensional, pemilik bank harus memenuhi syarat-syarat berikut:\\n- memiliki akhlak dan moral yang baik\\n- memiliki komitmen untuk mematuhi peraturan perundang-undangan yang berlaku\\n- memiliki komitmen yang tinggi terhadap pengembangan operasional Bank yang sehat\\n- tidak termasuk dalam Daftar Tidak Lulus (Dalam hal pemilik Bank berbentuk badan hukum, persyaratan tersebut berlaku bagi pemilik maupun pengurus dari badan hukum tersebut) (Referensi: 11/1/PBI/2009 Pasal 17)\\n\\nUntuk Bank Umum Syariah, pemilik bank harus memenuhi syarat-syarat berikut:\\n- warga negara Indonesia dan/atau badan hukum Indonesia\\n- warga negara Indonesia dan/atau badan hukum Indonesia dengan warga negara asing dan/atau badan hukum asing secara kemitraan\\n- pemerintah daerah (Referensi: 11/3/PBI/2009 Pasal 6)\\n\\nJadi, siapa yang dapat memiliki bank tergantung pada jenis bank yang dimaksud, baik itu individu maupun badan hukum yang memenuhi syarat-syarat yang telah ditentukan.'],\n",
       " 'answer': 'Siapa yang dapat memiliki bank tergantung pada jenis bank yang dimaksud. Untuk Bank Umum Konvensional, pemilik bank harus memenuhi syarat-syarat berikut: memiliki akhlak dan moral yang baik, memiliki komitmen untuk mematuhi peraturan perundang-undangan yang berlaku, memiliki komitmen yang tinggi terhadap pengembangan operasional Bank yang sehat, dan tidak termasuk dalam Daftar Tidak Lulus (Dalam hal pemilik Bank berbentuk badan hukum, persyaratan tersebut berlaku bagi pemilik maupun pengurus dari badan hukum tersebut) (Referensi: 11/1/PBI/2009 Pasal 17).\\n\\nSedangkan untuk Bank Umum Syariah, pemilik bank harus memenuhi syarat-syarat berikut: warga negara Indonesia dan/atau badan hukum Indonesia, warga negara Indonesia dan/atau badan hukum Indonesia dengan warga negara asing dan/atau badan hukum asing secara kemitraan, dan pemerintah daerah (Referensi: 11/3/PBI/2009 Pasal 6).\\n\\nPihak-pihak yang dapat memiliki bank adalah pihak-pihak yang memenuhi persyaratan yang ditetapkan oleh Bank Indonesia, termasuk memiliki akhlak dan moral yang baik, komitmen untuk mematuhi peraturan perundang-undangan yang berlaku, memiliki komitmen yang tinggi terhadap pengembangan operasional bank yang sehat, dan tidak termasuk dalam daftar orang-orang yang dilarang menjadi pemegang saham dan/atau pengurus bank sesuai dengan ketentuan yang ditetapkan oleh Bank Indonesia (Referensi: 11/1/PBI/2009 Pasal 17).\\n\\nPihak-pihak yang dapat memiliki bank menurut Bank Indonesia adalah warga negara Indonesia dan/atau badan hukum Indonesia, warga negara Indonesia dan/atau badan hukum Indonesia dengan warga negara asing dan/atau badan hukum asing, serta perorangan dan/atau kelompok usaha yang memiliki saham bank sebesar 25% atau lebih dari jumlah saham yang dikeluarkan bank dan mempunyai hak suara (Referensi: 14/8/PBI/2012 TANGGAL 13 JULI 2012 TENTANG KEPEMILIKAN SAHAM BANK UMUM).\\n\\nJadi, siapa yang dapat memiliki bank tergantung pada jenis bank yang dimaksud, baik itu individu maupun badan hukum yang memenuhi syarat-syarat yang telah ditentukan.'}"
      ]
     },
     "execution_count": 7,
     "metadata": {},
     "output_type": "execute_result"
    }
   ],
   "source": [
    "result"
   ]
  },
  {
   "cell_type": "code",
   "execution_count": 9,
   "metadata": {},
   "outputs": [
    {
     "data": {
      "text/plain": [
       "['Pihak-pihak yang dapat memiliki bank adalah pihak-pihak yang memenuhi persyaratan yang ditetapkan oleh Bank Indonesia, termasuk memiliki akhlak dan moral yang baik, komitmen untuk mematuhi peraturan perundang-undangan yang berlaku, memiliki komitmen yang tinggi terhadap pengembangan operasional bank yang sehat, dan tidak termasuk dalam daftar orang-orang yang dilarang menjadi pemegang saham dan/atau pengurus bank sesuai dengan ketentuan yang ditetapkan oleh Bank Indonesia.\\n\\nReference:\\n11/1/PBI/2009 (https://www.ojk.go.id/id/regulasi/Documents/Pages/PBI-tentang-Bank-Umum/153.pdf#page=18)\\n6/24/PBI/2004 (https://www.ojk.go.id/id/kanal/perbankan/regulasi/peraturan-bank-indonesia/Documents/317.pdf#page=19)\\n7 Tahun 1992 (https://www.ojk.go.id/id/regulasi/Documents/Pages/UU-Republik-Indonesia-tentang-Perbankan/UU%20Nomor%207%20Tahun%201992.pdf#page=45)',\n",
       " 'Pihak-pihak yang dapat memiliki bank adalah warga negara Indonesia dan/atau badan hukum Indonesia, warga negara Indonesia dan/atau badan hukum Indonesia dengan warga negara asing dan/atau badan hukum asing, serta perorangan dan/atau kelompok usaha yang memiliki saham bank sebesar 25% atau lebih dari jumlah saham yang dikeluarkan bank dan mempunyai hak suara.\\n\\nSource: \\nPeraturan Bank Indonesia No. 11/ 1 /PBI/2009 - BANK UMUM\\nPeraturan Bank Indonesia No. 11/ 3 /PBI/2009 - BANK UMUM SYARIAH\\nPeraturan Bank Indonesia No. 14/ 8 /PBI/2012 TANGGAL 13 JULI 2012 TENTANG KEPEMILIKAN SAHAM BANK UMUM\\nPeraturan Bank Indonesia No. 14/9/PBI/2012 TANGGAL 26 JULI 2012 TENTANG UJI KEMAMPUAN DAN KEPATUTAN (FIT AND PROPER TEST) BPR\\nPeraturan Bank Indonesia Nomor 14/24/PBI/2012 TANGGAL 26 DESEMBER 2012 TENTANG KEPEMILIKAN TUNGGAL PADA PERBANKAN INDONESIA',\n",
       " 'Berdasarkan konteks yang diberikan, siapa yang dapat memiliki bank tergantung pada jenis bank yang dimaksud. \\n\\nUntuk Bank Umum Konvensional, pemilik bank harus memenuhi syarat-syarat berikut:\\n- memiliki akhlak dan moral yang baik\\n- memiliki komitmen untuk mematuhi peraturan perundang-undangan yang berlaku\\n- memiliki komitmen yang tinggi terhadap pengembangan operasional Bank yang sehat\\n- tidak termasuk dalam Daftar Tidak Lulus (Dalam hal pemilik Bank berbentuk badan hukum, persyaratan tersebut berlaku bagi pemilik maupun pengurus dari badan hukum tersebut) (Referensi: 11/1/PBI/2009 Pasal 17)\\n\\nUntuk Bank Umum Syariah, pemilik bank harus memenuhi syarat-syarat berikut:\\n- warga negara Indonesia dan/atau badan hukum Indonesia\\n- warga negara Indonesia dan/atau badan hukum Indonesia dengan warga negara asing dan/atau badan hukum asing secara kemitraan\\n- pemerintah daerah (Referensi: 11/3/PBI/2009 Pasal 6)\\n\\nJadi, siapa yang dapat memiliki bank tergantung pada jenis bank yang dimaksud, baik itu individu maupun badan hukum yang memenuhi syarat-syarat yang telah ditentukan.']"
      ]
     },
     "execution_count": 9,
     "metadata": {},
     "output_type": "execute_result"
    }
   ],
   "source": [
    "result['context_text']"
   ]
  },
  {
   "cell_type": "code",
   "execution_count": null,
   "metadata": {},
   "outputs": [],
   "source": []
  }
 ],
 "metadata": {
  "kernelspec": {
   "display_name": "ocbc_env",
   "language": "python",
   "name": "python3"
  },
  "language_info": {
   "codemirror_mode": {
    "name": "ipython",
    "version": 3
   },
   "file_extension": ".py",
   "mimetype": "text/x-python",
   "name": "python",
   "nbconvert_exporter": "python",
   "pygments_lexer": "ipython3",
   "version": "3.9.19"
  }
 },
 "nbformat": 4,
 "nbformat_minor": 2
}

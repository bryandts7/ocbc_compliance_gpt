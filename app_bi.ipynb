{
 "cells": [
  {
   "cell_type": "markdown",
   "metadata": {},
   "source": [
    "# **Compliance GPT with LangChain**"
   ]
  },
  {
   "cell_type": "markdown",
   "metadata": {},
   "source": [
    "## **Setup**"
   ]
  },
  {
   "cell_type": "code",
   "execution_count": 1,
   "metadata": {},
   "outputs": [
    {
     "data": {
      "text/plain": [
       "True"
      ]
     },
     "execution_count": 1,
     "metadata": {},
     "output_type": "execute_result"
    }
   ],
   "source": [
    "import nest_asyncio\n",
    "nest_asyncio.apply()\n",
    "\n",
    "from dotenv import load_dotenv\n",
    "load_dotenv()"
   ]
  },
  {
   "cell_type": "markdown",
   "metadata": {},
   "source": [
    "## **Config**"
   ]
  },
  {
   "cell_type": "code",
   "execution_count": 2,
   "metadata": {},
   "outputs": [],
   "source": [
    "from utils.config import get_config\n",
    "from utils.models import ModelName, get_model\n",
    "\n",
    "config = get_config()"
   ]
  },
  {
   "cell_type": "code",
   "execution_count": 3,
   "metadata": {},
   "outputs": [],
   "source": [
    "USER_ID = 'arkan'\n",
    "CONVERSATION_ID = 'arkan-2021-07-01-01'"
   ]
  },
  {
   "cell_type": "markdown",
   "metadata": {},
   "source": [
    "## **Define Model**"
   ]
  },
  {
   "cell_type": "code",
   "execution_count": 4,
   "metadata": {},
   "outputs": [],
   "source": [
    "from utils.models import ModelName, LLMModelName, EmbeddingModelName, get_model\n",
    "\n",
    "model_name = ModelName.AZURE_OPENAI\n",
    "llm_model, embed_model = get_model(model_name=model_name, config=config, llm_model_name=LLMModelName.GPT_35_TURBO, embedding_model_name=EmbeddingModelName.EMBEDDING_ADA)"
   ]
  },
  {
   "cell_type": "markdown",
   "metadata": {},
   "source": [
    "## **Load Vector Store Index**"
   ]
  },
  {
   "cell_type": "code",
   "execution_count": 5,
   "metadata": {},
   "outputs": [
    {
     "name": "stderr",
     "output_type": "stream",
     "text": [
      "c:\\Users\\acer\\miniconda3\\envs\\chatbot-ocbc\\lib\\site-packages\\pinecone\\data\\index.py:1: TqdmWarning: IProgress not found. Please update jupyter and ipywidgets. See https://ipywidgets.readthedocs.io/en/stable/user_install.html\n",
      "  from tqdm.autonotebook import tqdm\n"
     ]
    }
   ],
   "source": [
    "from databases.vector_store import RedisIndexManager\n",
    "\n",
    "redis = RedisIndexManager(index_name='bi', embed_model=embed_model, config=config, db_id=0)\n",
    "vector_store = redis.load_vector_index()"
   ]
  },
  {
   "cell_type": "markdown",
   "metadata": {},
   "source": [
    "## **Get Retriever**"
   ]
  },
  {
   "cell_type": "code",
   "execution_count": 6,
   "metadata": {},
   "outputs": [],
   "source": [
    "from retriever.retriever_bi.retriever_bi import get_retriever_bi\n",
    "from retriever.retriever_ojk.retriever_ojk import get_retriever_ojk\n",
    "\n",
    "retriever = get_retriever_bi(vector_store=vector_store, top_n=4, top_k=20, llm_model=llm_model, embed_model=embed_model, config=config)\n",
    "retriever_ojk = get_retriever_ojk(vector_store=vector_store, top_n=4, top_k=20, llm_model=llm_model, embed_model=embed_model, config=config)"
   ]
  },
  {
   "cell_type": "code",
   "execution_count": 8,
   "metadata": {},
   "outputs": [
    {
     "ename": "TooManyRequestsError",
     "evalue": "status_code: 429, body: data=None message=\"You are using a Trial key, which is limited to 1000 API calls / month. You can continue to use the Trial key for free or upgrade to a Production key with higher rate limits at 'https://dashboard.cohere.com/api-keys'. Contact us on 'https://discord.gg/XW44jPfYJu' or email us at support@cohere.com with any questions\"",
     "output_type": "error",
     "traceback": [
      "\u001b[1;31m---------------------------------------------------------------------------\u001b[0m",
      "\u001b[1;31mTooManyRequestsError\u001b[0m                      Traceback (most recent call last)",
      "Cell \u001b[1;32mIn[8], line 1\u001b[0m\n\u001b[1;32m----> 1\u001b[0m \u001b[43mretriever\u001b[49m\u001b[38;5;241;43m.\u001b[39;49m\u001b[43minvoke\u001b[49m\u001b[43m(\u001b[49m\u001b[38;5;124;43m\"\u001b[39;49m\u001b[38;5;124;43mWhat is QRIS maximum transaction nominal?\u001b[39;49m\u001b[38;5;124;43m\"\u001b[39;49m\u001b[43m)\u001b[49m\n",
      "File \u001b[1;32mc:\\Users\\acer\\miniconda3\\envs\\chatbot-ocbc\\lib\\site-packages\\langchain_core\\retrievers.py:221\u001b[0m, in \u001b[0;36mBaseRetriever.invoke\u001b[1;34m(self, input, config, **kwargs)\u001b[0m\n\u001b[0;32m    219\u001b[0m \u001b[38;5;28;01mexcept\u001b[39;00m \u001b[38;5;167;01mException\u001b[39;00m \u001b[38;5;28;01mas\u001b[39;00m e:\n\u001b[0;32m    220\u001b[0m     run_manager\u001b[38;5;241m.\u001b[39mon_retriever_error(e)\n\u001b[1;32m--> 221\u001b[0m     \u001b[38;5;28;01mraise\u001b[39;00m e\n\u001b[0;32m    222\u001b[0m \u001b[38;5;28;01melse\u001b[39;00m:\n\u001b[0;32m    223\u001b[0m     run_manager\u001b[38;5;241m.\u001b[39mon_retriever_end(\n\u001b[0;32m    224\u001b[0m         result,\n\u001b[0;32m    225\u001b[0m     )\n",
      "File \u001b[1;32mc:\\Users\\acer\\miniconda3\\envs\\chatbot-ocbc\\lib\\site-packages\\langchain_core\\retrievers.py:214\u001b[0m, in \u001b[0;36mBaseRetriever.invoke\u001b[1;34m(self, input, config, **kwargs)\u001b[0m\n\u001b[0;32m    212\u001b[0m _kwargs \u001b[38;5;241m=\u001b[39m kwargs \u001b[38;5;28;01mif\u001b[39;00m \u001b[38;5;28mself\u001b[39m\u001b[38;5;241m.\u001b[39m_expects_other_args \u001b[38;5;28;01melse\u001b[39;00m {}\n\u001b[0;32m    213\u001b[0m \u001b[38;5;28;01mif\u001b[39;00m \u001b[38;5;28mself\u001b[39m\u001b[38;5;241m.\u001b[39m_new_arg_supported:\n\u001b[1;32m--> 214\u001b[0m     result \u001b[38;5;241m=\u001b[39m \u001b[38;5;28mself\u001b[39m\u001b[38;5;241m.\u001b[39m_get_relevant_documents(\n\u001b[0;32m    215\u001b[0m         \u001b[38;5;28minput\u001b[39m, run_manager\u001b[38;5;241m=\u001b[39mrun_manager, \u001b[38;5;241m*\u001b[39m\u001b[38;5;241m*\u001b[39m_kwargs\n\u001b[0;32m    216\u001b[0m     )\n\u001b[0;32m    217\u001b[0m \u001b[38;5;28;01melse\u001b[39;00m:\n\u001b[0;32m    218\u001b[0m     result \u001b[38;5;241m=\u001b[39m \u001b[38;5;28mself\u001b[39m\u001b[38;5;241m.\u001b[39m_get_relevant_documents(\u001b[38;5;28minput\u001b[39m, \u001b[38;5;241m*\u001b[39m\u001b[38;5;241m*\u001b[39m_kwargs)\n",
      "File \u001b[1;32mc:\\Users\\acer\\miniconda3\\envs\\chatbot-ocbc\\lib\\site-packages\\langchain\\retrievers\\contextual_compression.py:48\u001b[0m, in \u001b[0;36mContextualCompressionRetriever._get_relevant_documents\u001b[1;34m(self, query, run_manager, **kwargs)\u001b[0m\n\u001b[0;32m     44\u001b[0m docs \u001b[38;5;241m=\u001b[39m \u001b[38;5;28mself\u001b[39m\u001b[38;5;241m.\u001b[39mbase_retriever\u001b[38;5;241m.\u001b[39minvoke(\n\u001b[0;32m     45\u001b[0m     query, config\u001b[38;5;241m=\u001b[39m{\u001b[38;5;124m\"\u001b[39m\u001b[38;5;124mcallbacks\u001b[39m\u001b[38;5;124m\"\u001b[39m: run_manager\u001b[38;5;241m.\u001b[39mget_child()}, \u001b[38;5;241m*\u001b[39m\u001b[38;5;241m*\u001b[39mkwargs\n\u001b[0;32m     46\u001b[0m )\n\u001b[0;32m     47\u001b[0m \u001b[38;5;28;01mif\u001b[39;00m docs:\n\u001b[1;32m---> 48\u001b[0m     compressed_docs \u001b[38;5;241m=\u001b[39m \u001b[38;5;28;43mself\u001b[39;49m\u001b[38;5;241;43m.\u001b[39;49m\u001b[43mbase_compressor\u001b[49m\u001b[38;5;241;43m.\u001b[39;49m\u001b[43mcompress_documents\u001b[49m\u001b[43m(\u001b[49m\n\u001b[0;32m     49\u001b[0m \u001b[43m        \u001b[49m\u001b[43mdocs\u001b[49m\u001b[43m,\u001b[49m\u001b[43m \u001b[49m\u001b[43mquery\u001b[49m\u001b[43m,\u001b[49m\u001b[43m \u001b[49m\u001b[43mcallbacks\u001b[49m\u001b[38;5;241;43m=\u001b[39;49m\u001b[43mrun_manager\u001b[49m\u001b[38;5;241;43m.\u001b[39;49m\u001b[43mget_child\u001b[49m\u001b[43m(\u001b[49m\u001b[43m)\u001b[49m\n\u001b[0;32m     50\u001b[0m \u001b[43m    \u001b[49m\u001b[43m)\u001b[49m\n\u001b[0;32m     51\u001b[0m     \u001b[38;5;28;01mreturn\u001b[39;00m \u001b[38;5;28mlist\u001b[39m(compressed_docs)\n\u001b[0;32m     52\u001b[0m \u001b[38;5;28;01melse\u001b[39;00m:\n",
      "File \u001b[1;32mc:\\Users\\acer\\miniconda3\\envs\\chatbot-ocbc\\lib\\site-packages\\langchain_cohere\\rerank.py:106\u001b[0m, in \u001b[0;36mCohereRerank.compress_documents\u001b[1;34m(self, documents, query, callbacks)\u001b[0m\n\u001b[0;32m     94\u001b[0m \u001b[38;5;250m\u001b[39m\u001b[38;5;124;03m\"\"\"\u001b[39;00m\n\u001b[0;32m     95\u001b[0m \u001b[38;5;124;03mCompress documents using Cohere's rerank API.\u001b[39;00m\n\u001b[0;32m     96\u001b[0m \n\u001b[1;32m   (...)\u001b[0m\n\u001b[0;32m    103\u001b[0m \u001b[38;5;124;03m    A sequence of compressed documents.\u001b[39;00m\n\u001b[0;32m    104\u001b[0m \u001b[38;5;124;03m\"\"\"\u001b[39;00m\n\u001b[0;32m    105\u001b[0m compressed \u001b[38;5;241m=\u001b[39m []\n\u001b[1;32m--> 106\u001b[0m \u001b[38;5;28;01mfor\u001b[39;00m res \u001b[38;5;129;01min\u001b[39;00m \u001b[38;5;28;43mself\u001b[39;49m\u001b[38;5;241;43m.\u001b[39;49m\u001b[43mrerank\u001b[49m\u001b[43m(\u001b[49m\u001b[43mdocuments\u001b[49m\u001b[43m,\u001b[49m\u001b[43m \u001b[49m\u001b[43mquery\u001b[49m\u001b[43m)\u001b[49m:\n\u001b[0;32m    107\u001b[0m     doc \u001b[38;5;241m=\u001b[39m documents[res[\u001b[38;5;124m\"\u001b[39m\u001b[38;5;124mindex\u001b[39m\u001b[38;5;124m\"\u001b[39m]]\n\u001b[0;32m    108\u001b[0m     doc_copy \u001b[38;5;241m=\u001b[39m Document(doc\u001b[38;5;241m.\u001b[39mpage_content, metadata\u001b[38;5;241m=\u001b[39mdeepcopy(doc\u001b[38;5;241m.\u001b[39mmetadata))\n",
      "File \u001b[1;32mc:\\Users\\acer\\miniconda3\\envs\\chatbot-ocbc\\lib\\site-packages\\langchain_cohere\\rerank.py:73\u001b[0m, in \u001b[0;36mCohereRerank.rerank\u001b[1;34m(self, documents, query, rank_fields, model, top_n, max_chunks_per_doc)\u001b[0m\n\u001b[0;32m     71\u001b[0m model \u001b[38;5;241m=\u001b[39m model \u001b[38;5;129;01mor\u001b[39;00m \u001b[38;5;28mself\u001b[39m\u001b[38;5;241m.\u001b[39mmodel\n\u001b[0;32m     72\u001b[0m top_n \u001b[38;5;241m=\u001b[39m top_n \u001b[38;5;28;01mif\u001b[39;00m (top_n \u001b[38;5;129;01mis\u001b[39;00m \u001b[38;5;28;01mNone\u001b[39;00m \u001b[38;5;129;01mor\u001b[39;00m top_n \u001b[38;5;241m>\u001b[39m \u001b[38;5;241m0\u001b[39m) \u001b[38;5;28;01melse\u001b[39;00m \u001b[38;5;28mself\u001b[39m\u001b[38;5;241m.\u001b[39mtop_n\n\u001b[1;32m---> 73\u001b[0m results \u001b[38;5;241m=\u001b[39m \u001b[38;5;28;43mself\u001b[39;49m\u001b[38;5;241;43m.\u001b[39;49m\u001b[43mclient\u001b[49m\u001b[38;5;241;43m.\u001b[39;49m\u001b[43mrerank\u001b[49m\u001b[43m(\u001b[49m\n\u001b[0;32m     74\u001b[0m \u001b[43m    \u001b[49m\u001b[43mquery\u001b[49m\u001b[38;5;241;43m=\u001b[39;49m\u001b[43mquery\u001b[49m\u001b[43m,\u001b[49m\n\u001b[0;32m     75\u001b[0m \u001b[43m    \u001b[49m\u001b[43mdocuments\u001b[49m\u001b[38;5;241;43m=\u001b[39;49m\u001b[43mdocs\u001b[49m\u001b[43m,\u001b[49m\n\u001b[0;32m     76\u001b[0m \u001b[43m    \u001b[49m\u001b[43mmodel\u001b[49m\u001b[38;5;241;43m=\u001b[39;49m\u001b[43mmodel\u001b[49m\u001b[43m,\u001b[49m\n\u001b[0;32m     77\u001b[0m \u001b[43m    \u001b[49m\u001b[43mtop_n\u001b[49m\u001b[38;5;241;43m=\u001b[39;49m\u001b[43mtop_n\u001b[49m\u001b[43m,\u001b[49m\n\u001b[0;32m     78\u001b[0m \u001b[43m    \u001b[49m\u001b[43mrank_fields\u001b[49m\u001b[38;5;241;43m=\u001b[39;49m\u001b[43mrank_fields\u001b[49m\u001b[43m,\u001b[49m\n\u001b[0;32m     79\u001b[0m \u001b[43m    \u001b[49m\u001b[43mmax_chunks_per_doc\u001b[49m\u001b[38;5;241;43m=\u001b[39;49m\u001b[43mmax_chunks_per_doc\u001b[49m\u001b[43m,\u001b[49m\n\u001b[0;32m     80\u001b[0m \u001b[43m\u001b[49m\u001b[43m)\u001b[49m\n\u001b[0;32m     81\u001b[0m result_dicts \u001b[38;5;241m=\u001b[39m []\n\u001b[0;32m     82\u001b[0m \u001b[38;5;28;01mfor\u001b[39;00m res \u001b[38;5;129;01min\u001b[39;00m results\u001b[38;5;241m.\u001b[39mresults:\n",
      "File \u001b[1;32mc:\\Users\\acer\\miniconda3\\envs\\chatbot-ocbc\\lib\\site-packages\\cohere\\base_client.py:1626\u001b[0m, in \u001b[0;36mBaseCohere.rerank\u001b[1;34m(self, query, documents, model, top_n, rank_fields, return_documents, max_chunks_per_doc, request_options)\u001b[0m\n\u001b[0;32m   1622\u001b[0m     \u001b[38;5;28;01mraise\u001b[39;00m UnprocessableEntityError(\n\u001b[0;32m   1623\u001b[0m         typing\u001b[38;5;241m.\u001b[39mcast(UnprocessableEntityErrorBody, construct_type(type_\u001b[38;5;241m=\u001b[39mUnprocessableEntityErrorBody, object_\u001b[38;5;241m=\u001b[39m_response\u001b[38;5;241m.\u001b[39mjson()))  \u001b[38;5;66;03m# type: ignore\u001b[39;00m\n\u001b[0;32m   1624\u001b[0m     )\n\u001b[0;32m   1625\u001b[0m \u001b[38;5;28;01mif\u001b[39;00m _response\u001b[38;5;241m.\u001b[39mstatus_code \u001b[38;5;241m==\u001b[39m \u001b[38;5;241m429\u001b[39m:\n\u001b[1;32m-> 1626\u001b[0m     \u001b[38;5;28;01mraise\u001b[39;00m TooManyRequestsError(\n\u001b[0;32m   1627\u001b[0m         typing\u001b[38;5;241m.\u001b[39mcast(TooManyRequestsErrorBody, construct_type(type_\u001b[38;5;241m=\u001b[39mTooManyRequestsErrorBody, object_\u001b[38;5;241m=\u001b[39m_response\u001b[38;5;241m.\u001b[39mjson()))  \u001b[38;5;66;03m# type: ignore\u001b[39;00m\n\u001b[0;32m   1628\u001b[0m     )\n\u001b[0;32m   1629\u001b[0m \u001b[38;5;28;01mif\u001b[39;00m _response\u001b[38;5;241m.\u001b[39mstatus_code \u001b[38;5;241m==\u001b[39m \u001b[38;5;241m499\u001b[39m:\n\u001b[0;32m   1630\u001b[0m     \u001b[38;5;28;01mraise\u001b[39;00m ClientClosedRequestError(\n\u001b[0;32m   1631\u001b[0m         typing\u001b[38;5;241m.\u001b[39mcast(ClientClosedRequestErrorBody, construct_type(type_\u001b[38;5;241m=\u001b[39mClientClosedRequestErrorBody, object_\u001b[38;5;241m=\u001b[39m_response\u001b[38;5;241m.\u001b[39mjson()))  \u001b[38;5;66;03m# type: ignore\u001b[39;00m\n\u001b[0;32m   1632\u001b[0m     )\n",
      "\u001b[1;31mTooManyRequestsError\u001b[0m: status_code: 429, body: data=None message=\"You are using a Trial key, which is limited to 1000 API calls / month. You can continue to use the Trial key for free or upgrade to a Production key with higher rate limits at 'https://dashboard.cohere.com/api-keys'. Contact us on 'https://discord.gg/XW44jPfYJu' or email us at support@cohere.com with any questions\""
     ]
    }
   ],
   "source": [
    "retriever.invoke(\"What is QRIS maximum transaction nominal?\")"
   ]
  },
  {
   "cell_type": "markdown",
   "metadata": {},
   "source": [
    "## **Create Chain**"
   ]
  },
  {
   "cell_type": "code",
   "execution_count": null,
   "metadata": {},
   "outputs": [],
   "source": [
    "from constant.bi.prompt import CONTEXTUALIZE_Q_PROMPT_STR, QA_SYSTEM_PROMPT_STR\n",
    "from databases.chat_store import RedisChatStore\n",
    "from chain.chain_bi.chain_bi import create_bi_chain\n",
    "from chain.rag_chain import create_chain_with_chat_history\n",
    "\n",
    "chat_store = RedisChatStore(k=4, config=config, db_id=1)\n",
    "\n",
    "chain = create_bi_chain(\n",
    "    contextualize_q_prompt_str=CONTEXTUALIZE_Q_PROMPT_STR,\n",
    "    qa_system_prompt_str=QA_SYSTEM_PROMPT_STR,\n",
    "    retriever=retriever,\n",
    "    llm_model=llm_model,\n",
    "    # chat_store=chat_store\n",
    ")\n",
    "\n",
    "chain_history = create_chain_with_chat_history(\n",
    "    final_chain=chain,\n",
    "    chat_store=chat_store\n",
    ")"
   ]
  },
  {
   "cell_type": "markdown",
   "metadata": {},
   "source": [
    "## **Invoke**"
   ]
  },
  {
   "cell_type": "markdown",
   "metadata": {},
   "source": [
    "#### **With Question, Answer, and Context**"
   ]
  },
  {
   "cell_type": "code",
   "execution_count": null,
   "metadata": {},
   "outputs": [
    {
     "name": "stderr",
     "output_type": "stream",
     "text": [
      "Error in RootListenersTracer.on_chain_end callback: ResponseError(\"MISCONF Redis is configured to save RDB snapshots, but it's currently unable to persist to disk. Commands that may modify the data set are disabled, because this instance is configured to report errors during writes if RDB snapshotting fails (stop-writes-on-bgsave-error option). Please check the Redis logs for details about the RDB error.\")\n"
     ]
    },
    {
     "data": {
      "text/plain": [
       "{'rewrited question': 'What does QRIS stand for?',\n",
       " 'answer': 'QRIS stands for Quick Response Code Indonesian Standard.\\n\\nSource: [PERATURAN ANGGOTA DEWAN GUBERNUR NOMOR 21/18/PADG/2019 TENTANG IMPLEMENTASI STANDAR NASIONAL QUICK RESPONSE CODE UNTUK PEMBAYARAN](https://www.bi.go.id/id/publikasi/peraturan/Documents/faq_padg_211819.pdf)',\n",
       " 'context': '[\\n  {\\n    \"metadata\": {\\n      \"id\": \"doc:bi:e2f84f2b1e474d83a0a7ecc27cec266d\",\\n      \"file_id\": \"db344534\",\\n      \"title\": \"PERATURAN ANGGOTA DEWAN GUBERNUR NOMOR 21/18/PADG/2019 TENTANG IMPLEMENTASI STANDAR NASIONAL QUICK RESPONSE CODE UNTUK PEMBAYARAN.\",\\n      \"file_link\": \"https://www.bi.go.id/id/publikasi/peraturan/Documents/faq_padg_211819.pdf\",\\n      \"date\": \"21 Agustus 2019\",\\n      \"type_of_regulation\": \"Peraturan Anggota Dewan Gubernur\",\\n      \"sector\": \"Sistem Pembayaran Dan Pengelolaan Uang Rupiah\",\\n      \"standardized_extracted_file_name\": \"\",\\n      \"standardized_file_name\": \"padg-21_18_padg_2019-21082019-peraturan_anggota_dewan_gubernur_nomor_21_18_padg_2019_tentang_implementasi_standar_nasional_quick_response_code_untuk_pembayaran\",\\n      \"page_number\": \"1\",\\n      \"relevance_score\": 0.99915075\\n    },\\n    \"page_content\": \"StandarNasional QRCodePembayaran (Quick Response Code Indonesian Standard) yang umumnya disingkat sebagai QRIS adalah Standar QRCodePembayaran yang ditetapkan oleh Bank Indonesia untuk digunakan dalam memfasilitasi pembayaran di Indonesia.Perbedaan antara QRIS dengan QR CodePembayaran yang telah digunakan oleh industri saat ini adalah bahwa dengan dipergunakannya QRIS maka seluruh transaksi pembayaran dapat difasilitasi oleh satu QR CodePembayaran yang sama, yaitu QRIS, sekalipun instrumen pembayaran yang digunakan pengguna berbeda-beda. Hal ini dimungkinkan karena setiap aplikasi dari masing-masing Penerbit instrumen pembayaran dapat memindai dan membaca standar QRIS yang digunakan dalam QR CodePembayaran di merchant.2.\"\\n  },\\n  {\\n    \"metadata\": {\\n      \"id\": \"doc:bi:bd662a4f67604b52961dd5f791e3bbb1\",\\n      \"file_id\": \"db344534\",\\n      \"title\": \"PERATURAN ANGGOTA DEWAN GUBERNUR NOMOR 21/18/PADG/2019 TENTANG IMPLEMENTASI STANDAR NASIONAL QUICK RESPONSE CODE UNTUK PEMBAYARAN.\",\\n      \"file_link\": \"https://www.bi.go.id/id/publikasi/peraturan/Documents/faq_padg_211819.pdf\",\\n      \"date\": \"21 Agustus 2019\",\\n      \"type_of_regulation\": \"Peraturan Anggota Dewan Gubernur\",\\n      \"sector\": \"Sistem Pembayaran Dan Pengelolaan Uang Rupiah\",\\n      \"standardized_extracted_file_name\": \"\",\\n      \"standardized_file_name\": \"padg-21_18_padg_2019-21082019-peraturan_anggota_dewan_gubernur_nomor_21_18_padg_2019_tentang_implementasi_standar_nasional_quick_response_code_untuk_pembayaran\",\\n      \"page_number\": \"1\",\\n      \"relevance_score\": 0.94407386\\n    },\\n    \"page_content\": \"Manfaat apa yang diperoleh dari penggunaan QRIS?Manfaat dari sisi pengguna adalah bertambahnya fleksibilitas dalam memilih alternatif sumber dana dan/atau instrumen pembayaran yang dapatdigunakan dalam melakukan pembayarandi pedagang (merchant). Dari sisi pedagang (merchant),manfaat yang diperoleh adalahmeningkatnya kepraktisan karena hanya diperlukan 1 (satu) QR Codepembayaran dengan standar QRIS untuk dapat menerima pembayarandari berbagai macam sumber dana dan/atau instrumen pembayaran yang berbeda. Dari sisi industri secara keseluruhan, pengembangan QRIS mendukunginterkoneksi dan interoperabilitas sehingga dapat meminimalisir fragmentasi dan meningkatkan efisiensi.\"\\n  },\\n  {\\n    \"metadata\": {\\n      \"id\": \"doc:bi:fb7ceaa0e8d84bf0b093bad54a7b49ca\",\\n      \"file_id\": \"53c25b7a\",\\n      \"title\": \"PERATURAN ANGGOTA DEWAN GUBERNUR NOMOR 21/18/PADG/2019 TENTANG IMPLEMENTASI STANDAR NASIONAL QUICK RESPONSE CODE UNTUK PEMBAYARAN.\",\\n      \"file_link\": \"https://www.bi.go.id/id/publikasi/peraturan/Documents/padg_211819.pdf\",\\n      \"date\": \"21 Agustus 2019\",\\n      \"type_of_regulation\": \"Peraturan Anggota Dewan Gubernur\",\\n      \"sector\": \"Sistem Pembayaran Dan Pengelolaan Uang Rupiah\",\\n      \"standardized_extracted_file_name\": \"\",\\n      \"standardized_file_name\": \"padg-21_18_padg_2019-21082019-peraturan_anggota_dewan_gubernur_nomor_21_18_padg_2019_tentang_implementasi_standar_nasional_quick_response_code_untuk_pembayaran\",\\n      \"page_number\": \"26\",\\n      \"relevance_score\": 0.9408985\\n    },\\n    \"page_content\": \"8 \\\\ndalam QRIS dan cakupan sumber dana dan/atau instrumen \\\\npembayaran yang dapat digunakan. \\\\n \\\\nAyat (4) \\\\nYang dimaksud dengan \\\\u201cuji coba pemrosesan Transaksi QRIS\\\\u201d \\\\nadalah uji coba kelaikan QRIS yang diselenggarakan oleh \\\\nLembaga Standar dalam rangka penyusunan QRIS. \\\\nHuruf a \\\\n \\\\nHasil uji coba pemrosesan Transaksi QRIS paling sedikit \\\\nmemuat:  \\\\n1. \\\\nringkasan hasil uji coba; \\\\n2. \\\\ndeskripsi uji coba; dan \\\\n3. \\\\nrisiko dan mitigasi. \\\\nHuruf b \\\\n \\\\nAction plan penerapan QRIS paling sedikit memuat target \\\\nwaktu penyelesaian untuk: \\\\n1. \\\\nmigrasi dari QR Code Pembayaran proprietary ke QRIS \\\\n(jika ada); \\\\n2. \\\\npenyusunan prosedur operasional standar terkait \\\\nimplementasi QRIS; \\\\n3. \\\\npenyesuaian aplikasi dan sistem; dan \\\\n4. \\\\nsosialisasi kepada pengguna. \\\\n \\\\nAyat (5) \\\\nYang dimaksud dengan \\\\u201cpersetujuan untuk memproses transaksi \\\\nyang \\\\ndifasilitasi \\\\ndengan \\\\nQR \\\\nCode \\\\nPembayaran\\\\u201d \\\\nadalah \\\\npersetujuan yang diberikan oleh Bank Indonesia sebelum QRIS \\\\nditetapkan.\"\\n  },\\n  {\\n    \"metadata\": {\\n      \"file_id\": \"ddf6da4f\",\\n      \"title\": \"REGULATION OF BOARD OF MEMBER OF GOVERNORS NUMBER 21/18/PADG/2019 ON IMPLEMENTATION OF NATIONAL STANDARD ON QUICK RESPONSE CODE FOR PAYMENT\",\\n      \"file_link\": \"https://www.bi.go.id/en/publikasi/peraturan/Documents/PADG_211819.pdf\",\\n      \"date\": \"21 August 2019\",\\n      \"type_of_regulation\": \"Member Of The Board Of Governors Regulation\",\\n      \"sector\": \"Payment System And Rupiah Management\",\\n      \"standardized_extracted_file_name\": \"\",\\n      \"standardized_file_name\": \"padg-21_18_padg_2019-21082019-regulation_of_board_of_member_of_governors_number_21_18_padg_2019_on_implementation_of_national_standard_on_quick_response_code_for_payment\",\\n      \"page_number\": 24,\\n      \"relevance_score\": 0.8250265\\n    },\\n    \"page_content\": \"DOC NAME: REGULATION OF BOARD OF MEMBER OF GOVERNORS NUMBER 21/18/PADG/2019 ON IMPLEMENTATION OF NATIONAL STANDARD ON QUICK RESPONSE CODE FOR PAYMENT | Member Of The Board Of Governors Regulation\\\\n\\\\n7 \\\\n \\\\nArticle 11 \\\\n \\\\nParagraph (1) \\\\nThe approval applied is an approval for development of products \\\\nand activities of payment system service as referred to in the \\\\nprovisions of Bank Indonesia on implementation of payment \\\\ntransaction processing. \\\\n \\\\n \\\\nParagraph (2) \\\\n \\\\n \\\\nSufficiently clear. \\\\n \\\\n \\\\nParagraph (3) \\\\nThe commitment letter to implement QRIS shall at least contain a \\\\nstatement and commitment to implement QRIS and comply with \\\\nthe provisions of Bank Indonesia on  QRIS implementation. \\\\nThe recommendation letter from the Standard Agency shall at \\\\nleast contain recommendation that the Payment System Service \\\\nProvider is proven to have the capability to process QRIS \\\\nTransactions according to the technical and operational \\\\nspecifications designated in QRIS and scope of sources of fund \\\\nand/or payment instruments which may be used. \\\\n \\\\nParagraph (4) \\\\nThe term \\\\u201c user acceptance test of QRIS Transaction processing\\\\u201d \\\\nmeans user acceptance test of QRIS feasibility conducted by the \\\\nStandard Agency for QRIS  arrangement. \\\\nPoint a \\\\n \\\\nResult from user acceptance test of QRIS Transaction \\\\nprocessing shall at least contain:  \\\\n1. \\\\nsummary of user acceptance test result;  \\\\n2. \\\\n description of user acceptance test; and \\\\n3. \\\\nrisks and mitigation. \\\\nPoint b \\\\n \\\\nAction plan for QRIS implementation shall at least contain \\\\nthe target time to complete: \\\\n1. \\\\nmigration from proprietary QR Code Payment to QRIS (if \\\\nany); \\\\n2. \\\\narrangement of standard operating procedure for QRIS \\\\nimplementation; \\\\n\\\\n\"\\n  }\\n]'}"
      ]
     },
     "execution_count": 8,
     "metadata": {},
     "output_type": "execute_result"
    }
   ],
   "source": [
    "from chain.rag_chain import get_response\n",
    "\n",
    "response = get_response(\n",
    "    chain=chain_history,\n",
    "    question=\"What is QRIS maximum transaction nominal?\",\n",
    "    user_id=USER_ID,\n",
    "    conversation_id=CONVERSATION_ID\n",
    ")\n",
    "\n",
    "response"
   ]
  },
  {
   "cell_type": "code",
   "execution_count": 9,
   "metadata": {},
   "outputs": [
    {
     "name": "stdout",
     "output_type": "stream",
     "text": [
      "QRIS stands for Quick Response Code Indonesian Standard.\n",
      "\n",
      "Source: [PERATURAN ANGGOTA DEWAN GUBERNUR NOMOR 21/18/PADG/2019 TENTANG IMPLEMENTASI STANDAR NASIONAL QUICK RESPONSE CODE UNTUK PEMBAYARAN](https://www.bi.go.id/id/publikasi/peraturan/Documents/faq_padg_211819.pdf)\n"
     ]
    }
   ],
   "source": [
    "print(response['answer'])"
   ]
  },
  {
   "cell_type": "code",
   "execution_count": 10,
   "metadata": {},
   "outputs": [
    {
     "name": "stdout",
     "output_type": "stream",
     "text": [
      "[\n",
      "  {\n",
      "    \"metadata\": {\n",
      "      \"id\": \"doc:bi:e2f84f2b1e474d83a0a7ecc27cec266d\",\n",
      "      \"file_id\": \"db344534\",\n",
      "      \"title\": \"PERATURAN ANGGOTA DEWAN GUBERNUR NOMOR 21/18/PADG/2019 TENTANG IMPLEMENTASI STANDAR NASIONAL QUICK RESPONSE CODE UNTUK PEMBAYARAN.\",\n",
      "      \"file_link\": \"https://www.bi.go.id/id/publikasi/peraturan/Documents/faq_padg_211819.pdf\",\n",
      "      \"date\": \"21 Agustus 2019\",\n",
      "      \"type_of_regulation\": \"Peraturan Anggota Dewan Gubernur\",\n",
      "      \"sector\": \"Sistem Pembayaran Dan Pengelolaan Uang Rupiah\",\n",
      "      \"standardized_extracted_file_name\": \"\",\n",
      "      \"standardized_file_name\": \"padg-21_18_padg_2019-21082019-peraturan_anggota_dewan_gubernur_nomor_21_18_padg_2019_tentang_implementasi_standar_nasional_quick_response_code_untuk_pembayaran\",\n",
      "      \"page_number\": \"1\",\n",
      "      \"relevance_score\": 0.99915075\n",
      "    },\n",
      "    \"page_content\": \"StandarNasional QRCodePembayaran (Quick Response Code Indonesian Standard) yang umumnya disingkat sebagai QRIS adalah Standar QRCodePembayaran yang ditetapkan oleh Bank Indonesia untuk digunakan dalam memfasilitasi pembayaran di Indonesia.Perbedaan antara QRIS dengan QR CodePembayaran yang telah digunakan oleh industri saat ini adalah bahwa dengan dipergunakannya QRIS maka seluruh transaksi pembayaran dapat difasilitasi oleh satu QR CodePembayaran yang sama, yaitu QRIS, sekalipun instrumen pembayaran yang digunakan pengguna berbeda-beda. Hal ini dimungkinkan karena setiap aplikasi dari masing-masing Penerbit instrumen pembayaran dapat memindai dan membaca standar QRIS yang digunakan dalam QR CodePembayaran di merchant.2.\"\n",
      "  },\n",
      "  {\n",
      "    \"metadata\": {\n",
      "      \"id\": \"doc:bi:bd662a4f67604b52961dd5f791e3bbb1\",\n",
      "      \"file_id\": \"db344534\",\n",
      "      \"title\": \"PERATURAN ANGGOTA DEWAN GUBERNUR NOMOR 21/18/PADG/2019 TENTANG IMPLEMENTASI STANDAR NASIONAL QUICK RESPONSE CODE UNTUK PEMBAYARAN.\",\n",
      "      \"file_link\": \"https://www.bi.go.id/id/publikasi/peraturan/Documents/faq_padg_211819.pdf\",\n",
      "      \"date\": \"21 Agustus 2019\",\n",
      "      \"type_of_regulation\": \"Peraturan Anggota Dewan Gubernur\",\n",
      "      \"sector\": \"Sistem Pembayaran Dan Pengelolaan Uang Rupiah\",\n",
      "      \"standardized_extracted_file_name\": \"\",\n",
      "      \"standardized_file_name\": \"padg-21_18_padg_2019-21082019-peraturan_anggota_dewan_gubernur_nomor_21_18_padg_2019_tentang_implementasi_standar_nasional_quick_response_code_untuk_pembayaran\",\n",
      "      \"page_number\": \"1\",\n",
      "      \"relevance_score\": 0.94407386\n",
      "    },\n",
      "    \"page_content\": \"Manfaat apa yang diperoleh dari penggunaan QRIS?Manfaat dari sisi pengguna adalah bertambahnya fleksibilitas dalam memilih alternatif sumber dana dan/atau instrumen pembayaran yang dapatdigunakan dalam melakukan pembayarandi pedagang (merchant). Dari sisi pedagang (merchant),manfaat yang diperoleh adalahmeningkatnya kepraktisan karena hanya diperlukan 1 (satu) QR Codepembayaran dengan standar QRIS untuk dapat menerima pembayarandari berbagai macam sumber dana dan/atau instrumen pembayaran yang berbeda. Dari sisi industri secara keseluruhan, pengembangan QRIS mendukunginterkoneksi dan interoperabilitas sehingga dapat meminimalisir fragmentasi dan meningkatkan efisiensi.\"\n",
      "  },\n",
      "  {\n",
      "    \"metadata\": {\n",
      "      \"id\": \"doc:bi:fb7ceaa0e8d84bf0b093bad54a7b49ca\",\n",
      "      \"file_id\": \"53c25b7a\",\n",
      "      \"title\": \"PERATURAN ANGGOTA DEWAN GUBERNUR NOMOR 21/18/PADG/2019 TENTANG IMPLEMENTASI STANDAR NASIONAL QUICK RESPONSE CODE UNTUK PEMBAYARAN.\",\n",
      "      \"file_link\": \"https://www.bi.go.id/id/publikasi/peraturan/Documents/padg_211819.pdf\",\n",
      "      \"date\": \"21 Agustus 2019\",\n",
      "      \"type_of_regulation\": \"Peraturan Anggota Dewan Gubernur\",\n",
      "      \"sector\": \"Sistem Pembayaran Dan Pengelolaan Uang Rupiah\",\n",
      "      \"standardized_extracted_file_name\": \"\",\n",
      "      \"standardized_file_name\": \"padg-21_18_padg_2019-21082019-peraturan_anggota_dewan_gubernur_nomor_21_18_padg_2019_tentang_implementasi_standar_nasional_quick_response_code_untuk_pembayaran\",\n",
      "      \"page_number\": \"26\",\n",
      "      \"relevance_score\": 0.9408985\n",
      "    },\n",
      "    \"page_content\": \"8 \\ndalam QRIS dan cakupan sumber dana dan/atau instrumen \\npembayaran yang dapat digunakan. \\n \\nAyat (4) \\nYang dimaksud dengan \\u201cuji coba pemrosesan Transaksi QRIS\\u201d \\nadalah uji coba kelaikan QRIS yang diselenggarakan oleh \\nLembaga Standar dalam rangka penyusunan QRIS. \\nHuruf a \\n \\nHasil uji coba pemrosesan Transaksi QRIS paling sedikit \\nmemuat:  \\n1. \\nringkasan hasil uji coba; \\n2. \\ndeskripsi uji coba; dan \\n3. \\nrisiko dan mitigasi. \\nHuruf b \\n \\nAction plan penerapan QRIS paling sedikit memuat target \\nwaktu penyelesaian untuk: \\n1. \\nmigrasi dari QR Code Pembayaran proprietary ke QRIS \\n(jika ada); \\n2. \\npenyusunan prosedur operasional standar terkait \\nimplementasi QRIS; \\n3. \\npenyesuaian aplikasi dan sistem; dan \\n4. \\nsosialisasi kepada pengguna. \\n \\nAyat (5) \\nYang dimaksud dengan \\u201cpersetujuan untuk memproses transaksi \\nyang \\ndifasilitasi \\ndengan \\nQR \\nCode \\nPembayaran\\u201d \\nadalah \\npersetujuan yang diberikan oleh Bank Indonesia sebelum QRIS \\nditetapkan.\"\n",
      "  },\n",
      "  {\n",
      "    \"metadata\": {\n",
      "      \"file_id\": \"ddf6da4f\",\n",
      "      \"title\": \"REGULATION OF BOARD OF MEMBER OF GOVERNORS NUMBER 21/18/PADG/2019 ON IMPLEMENTATION OF NATIONAL STANDARD ON QUICK RESPONSE CODE FOR PAYMENT\",\n",
      "      \"file_link\": \"https://www.bi.go.id/en/publikasi/peraturan/Documents/PADG_211819.pdf\",\n",
      "      \"date\": \"21 August 2019\",\n",
      "      \"type_of_regulation\": \"Member Of The Board Of Governors Regulation\",\n",
      "      \"sector\": \"Payment System And Rupiah Management\",\n",
      "      \"standardized_extracted_file_name\": \"\",\n",
      "      \"standardized_file_name\": \"padg-21_18_padg_2019-21082019-regulation_of_board_of_member_of_governors_number_21_18_padg_2019_on_implementation_of_national_standard_on_quick_response_code_for_payment\",\n",
      "      \"page_number\": 24,\n",
      "      \"relevance_score\": 0.8250265\n",
      "    },\n",
      "    \"page_content\": \"DOC NAME: REGULATION OF BOARD OF MEMBER OF GOVERNORS NUMBER 21/18/PADG/2019 ON IMPLEMENTATION OF NATIONAL STANDARD ON QUICK RESPONSE CODE FOR PAYMENT | Member Of The Board Of Governors Regulation\\n\\n7 \\n \\nArticle 11 \\n \\nParagraph (1) \\nThe approval applied is an approval for development of products \\nand activities of payment system service as referred to in the \\nprovisions of Bank Indonesia on implementation of payment \\ntransaction processing. \\n \\n \\nParagraph (2) \\n \\n \\nSufficiently clear. \\n \\n \\nParagraph (3) \\nThe commitment letter to implement QRIS shall at least contain a \\nstatement and commitment to implement QRIS and comply with \\nthe provisions of Bank Indonesia on  QRIS implementation. \\nThe recommendation letter from the Standard Agency shall at \\nleast contain recommendation that the Payment System Service \\nProvider is proven to have the capability to process QRIS \\nTransactions according to the technical and operational \\nspecifications designated in QRIS and scope of sources of fund \\nand/or payment instruments which may be used. \\n \\nParagraph (4) \\nThe term \\u201c user acceptance test of QRIS Transaction processing\\u201d \\nmeans user acceptance test of QRIS feasibility conducted by the \\nStandard Agency for QRIS  arrangement. \\nPoint a \\n \\nResult from user acceptance test of QRIS Transaction \\nprocessing shall at least contain:  \\n1. \\nsummary of user acceptance test result;  \\n2. \\n description of user acceptance test; and \\n3. \\nrisks and mitigation. \\nPoint b \\n \\nAction plan for QRIS implementation shall at least contain \\nthe target time to complete: \\n1. \\nmigration from proprietary QR Code Payment to QRIS (if \\nany); \\n2. \\narrangement of standard operating procedure for QRIS \\nimplementation; \\n\\n\"\n",
      "  }\n",
      "]\n"
     ]
    }
   ],
   "source": [
    "print(response[\"context\"])"
   ]
  },
  {
   "cell_type": "markdown",
   "metadata": {},
   "source": [
    "#### **Streaming**"
   ]
  },
  {
   "cell_type": "code",
   "execution_count": null,
   "metadata": {},
   "outputs": [
    {
     "name": "stderr",
     "output_type": "stream",
     "text": [
      "Error in RootListenersTracer.on_chain_end callback: KeyError('answer')\n",
      "Error in callback coroutine: KeyError('answer')\n"
     ]
    },
    {
     "name": "stdout",
     "output_type": "stream",
     "text": [
      "Jumlah maksimum transaksi yang dapat dilakukan dengan QRIS adalah Rp5.000.000,00 (lima juta rupiah) per transaksi.\n",
      "\n",
      "Source: PERATURAN ANGGOTA DEWAN GUBERNUR NOMOR 23/8/PADG/2021 TENTANG PERUBAHAN ATAS PERATURAN ANGGOTA DEWAN GUBERNUR NOMOR 21/18/PADG/2019 TENTANG IMPLEMENTASI STANDAR NASIONAL QUICK RESPONSE CODE UNTUK PEMBAYARAN\n",
      "[Link to the regulation](https://www.bi.go.id/id/publikasi/peraturan/Documents/FAQ_PADG_230821.pdf#page=2)"
     ]
    }
   ],
   "source": [
    "from chain.rag_chain import print_answer_stream\n",
    "\n",
    "print_answer_stream(chain=chain_history, question=\"Berapa maksimum transaksi QRIS?\", user_id=USER_ID, conversation_id=CONVERSATION_ID)"
   ]
  },
  {
   "cell_type": "markdown",
   "metadata": {},
   "source": [
    "#### **Chat Store Monitor**"
   ]
  },
  {
   "cell_type": "code",
   "execution_count": null,
   "metadata": {},
   "outputs": [
    {
     "name": "stdout",
     "output_type": "stream",
     "text": [
      "Human: Berapa maksimum transaksi QRIS?\n",
      "AI: Jumlah maksimum transaksi yang dapat dilakukan dengan QRIS adalah Rp5.000.000,00 (lima juta rupiah) per transaksi.\n",
      "\n",
      "Source: PERATURAN ANGGOTA DEWAN GUBERNUR NOMOR 23/8/PADG/2021 TENTANG PERUBAHAN ATAS PERATURAN ANGGOTA DEWAN GUBERNUR NOMOR 21/18/PADG/2019 TENTANG IMPLEMENTASI STANDAR NASIONAL QUICK RESPONSE CODE UNTUK PEMBAYARAN\n",
      "[Link to the regulation](https://www.bi.go.id/id/publikasi/peraturan/Documents/FAQ_PADG_230821.pdf#page=2)\n"
     ]
    }
   ],
   "source": [
    "# to print chat history\n",
    "print(chat_store.get_session_history(user_id=USER_ID, conversation_id=CONVERSATION_ID))"
   ]
  },
  {
   "cell_type": "code",
   "execution_count": null,
   "metadata": {},
   "outputs": [],
   "source": [
    "# to make the chat history empty\n",
    "chat_store.clear_all()"
   ]
  }
 ],
 "metadata": {
  "kernelspec": {
   "display_name": "chatbot-all",
   "language": "python",
   "name": "python3"
  },
  "language_info": {
   "codemirror_mode": {
    "name": "ipython",
    "version": 3
   },
   "file_extension": ".py",
   "mimetype": "text/x-python",
   "name": "python",
   "nbconvert_exporter": "python",
   "pygments_lexer": "ipython3",
   "version": "3.9.19"
  }
 },
 "nbformat": 4,
 "nbformat_minor": 2
}

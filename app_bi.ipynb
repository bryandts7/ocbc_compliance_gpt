{
 "cells": [
  {
   "cell_type": "markdown",
   "metadata": {},
   "source": [
    "# **Compliance GPT with LangChain**"
   ]
  },
  {
   "cell_type": "markdown",
   "metadata": {},
   "source": [
    "## **Setup**"
   ]
  },
  {
   "cell_type": "code",
   "execution_count": 1,
   "metadata": {},
   "outputs": [
    {
     "data": {
      "text/plain": [
       "True"
      ]
     },
     "execution_count": 1,
     "metadata": {},
     "output_type": "execute_result"
    }
   ],
   "source": [
    "import nest_asyncio\n",
    "nest_asyncio.apply()\n",
    "\n",
    "from dotenv import load_dotenv\n",
    "load_dotenv()"
   ]
  },
  {
   "cell_type": "markdown",
   "metadata": {},
   "source": [
    "## **Config**"
   ]
  },
  {
   "cell_type": "code",
   "execution_count": 2,
   "metadata": {},
   "outputs": [],
   "source": [
    "from utils.config import get_config\n",
    "from utils.models import ModelName, get_model\n",
    "\n",
    "config = get_config()"
   ]
  },
  {
   "cell_type": "code",
   "execution_count": 15,
   "metadata": {},
   "outputs": [],
   "source": [
    "USER_ID = 'arkan'\n",
    "CONVERSATION_ID = 'arkan-2021-07-01-01'"
   ]
  },
  {
   "cell_type": "markdown",
   "metadata": {},
   "source": [
    "## **Define Model**"
   ]
  },
  {
   "cell_type": "code",
   "execution_count": 4,
   "metadata": {},
   "outputs": [],
   "source": [
    "model_name = ModelName.AZURE_OPENAI\n",
    "llm_model, embed_model = get_model(model_name=model_name, config=config)"
   ]
  },
  {
   "cell_type": "markdown",
   "metadata": {},
   "source": [
    "## **Load Vector Store Index**"
   ]
  },
  {
   "cell_type": "code",
   "execution_count": 5,
   "metadata": {},
   "outputs": [
    {
     "name": "stderr",
     "output_type": "stream",
     "text": [
      "c:\\Users\\arkan\\Downloads\\Work\\ocbc\\ocbc_compliance_gpt\\env\\lib\\site-packages\\pinecone\\data\\index.py:1: TqdmWarning: IProgress not found. Please update jupyter and ipywidgets. See https://ipywidgets.readthedocs.io/en/stable/user_install.html\n",
      "  from tqdm.autonotebook import tqdm\n"
     ]
    }
   ],
   "source": [
    "from databases.vector_store import RedisIndexManager\n",
    "\n",
    "redis = RedisIndexManager(index_name='bi', embed_model=embed_model, config=config, db_id=0)\n",
    "vector_store = redis.load_vector_index()"
   ]
  },
  {
   "cell_type": "markdown",
   "metadata": {},
   "source": [
    "## **Get Retriever**"
   ]
  },
  {
   "cell_type": "code",
   "execution_count": 10,
   "metadata": {},
   "outputs": [],
   "source": [
    "from retriever.retriever_bi.retriever_bi import get_retriever_bi\n",
    "\n",
    "retriever = get_retriever_bi(vector_store=vector_store, top_n=4, top_k=16, llm_model=llm_model, embed_model=embed_model, config=config)"
   ]
  },
  {
   "cell_type": "markdown",
   "metadata": {},
   "source": [
    "## **Create Chain**"
   ]
  },
  {
   "cell_type": "code",
   "execution_count": 11,
   "metadata": {},
   "outputs": [],
   "source": [
    "from constant.ojk.prompt import CONTEXTUALIZE_Q_PROMPT_STR, QA_SYSTEM_PROMPT_STR\n",
    "from databases.chat_store import RedisChatStore\n",
    "from chain.chain_bi.chain_bi import create_bi_chain\n",
    "from chain.rag_chain import create_chain_with_chat_history\n",
    "\n",
    "chat_store = RedisChatStore(k=4, config=config, db_id=1)\n",
    "\n",
    "chain = create_bi_chain(\n",
    "    contextualize_q_prompt_str=CONTEXTUALIZE_Q_PROMPT_STR,\n",
    "    qa_system_prompt_str=QA_SYSTEM_PROMPT_STR,\n",
    "    retriever=retriever,\n",
    "    llm_model=llm_model,\n",
    "    # chat_store=chat_store\n",
    ")\n",
    "\n",
    "chain_history = create_chain_with_chat_history(\n",
    "    final_chain=chain,\n",
    "    chat_store=chat_store\n",
    ")"
   ]
  },
  {
   "cell_type": "markdown",
   "metadata": {},
   "source": [
    "## **Invoke**"
   ]
  },
  {
   "cell_type": "markdown",
   "metadata": {},
   "source": [
    "#### **With Question, Answer, and Context**"
   ]
  },
  {
   "cell_type": "code",
   "execution_count": 12,
   "metadata": {},
   "outputs": [
    {
     "data": {
      "text/plain": [
       "{'rewrited question': 'Apa kepanjangan dari QRIS?',\n",
       " 'answer': 'QRIS merupakan kepanjangan dari Standar Nasional QRCodePembayaran (Quick Response Code Indonesian Standard).\\n\\nSumber: [Peraturan Anggota Dewan Gubernur Nomor 21/18/PADG/2019](https://www.bi.go.id/id/publikasi/peraturan/Documents/faq_padg_211819.pdf)',\n",
       " 'context': '[\\n  {\\n    \"metadata\": {\\n      \"id\": \"doc:bi:e2f84f2b1e474d83a0a7ecc27cec266d\",\\n      \"file_id\": \"db344534\",\\n      \"title\": \"PERATURAN ANGGOTA DEWAN GUBERNUR NOMOR 21/18/PADG/2019 TENTANG IMPLEMENTASI STANDAR NASIONAL QUICK RESPONSE CODE UNTUK PEMBAYARAN.\",\\n      \"file_link\": \"https://www.bi.go.id/id/publikasi/peraturan/Documents/faq_padg_211819.pdf\",\\n      \"date\": \"21 Agustus 2019\",\\n      \"type_of_regulation\": \"Peraturan Anggota Dewan Gubernur\",\\n      \"sector\": \"Sistem Pembayaran Dan Pengelolaan Uang Rupiah\",\\n      \"standardized_extracted_file_name\": \"\",\\n      \"standardized_file_name\": \"padg-21_18_padg_2019-21082019-peraturan_anggota_dewan_gubernur_nomor_21_18_padg_2019_tentang_implementasi_standar_nasional_quick_response_code_untuk_pembayaran\",\\n      \"page_number\": \"1\",\\n      \"relevance_score\": 0.8493475\\n    },\\n    \"page_content\": \"StandarNasional QRCodePembayaran (Quick Response Code Indonesian Standard) yang umumnya disingkat sebagai QRIS adalah Standar QRCodePembayaran yang ditetapkan oleh Bank Indonesia untuk digunakan dalam memfasilitasi pembayaran di Indonesia.Perbedaan antara QRIS dengan QR CodePembayaran yang telah digunakan oleh industri saat ini adalah bahwa dengan dipergunakannya QRIS maka seluruh transaksi pembayaran dapat difasilitasi oleh satu QR CodePembayaran yang sama, yaitu QRIS, sekalipun instrumen pembayaran yang digunakan pengguna berbeda-beda. Hal ini dimungkinkan karena setiap aplikasi dari masing-masing Penerbit instrumen pembayaran dapat memindai dan membaca standar QRIS yang digunakan dalam QR CodePembayaran di merchant.2.\"\\n  },\\n  {\\n    \"metadata\": {\\n      \"id\": \"doc:bi:bd662a4f67604b52961dd5f791e3bbb1\",\\n      \"file_id\": \"db344534\",\\n      \"title\": \"PERATURAN ANGGOTA DEWAN GUBERNUR NOMOR 21/18/PADG/2019 TENTANG IMPLEMENTASI STANDAR NASIONAL QUICK RESPONSE CODE UNTUK PEMBAYARAN.\",\\n      \"file_link\": \"https://www.bi.go.id/id/publikasi/peraturan/Documents/faq_padg_211819.pdf\",\\n      \"date\": \"21 Agustus 2019\",\\n      \"type_of_regulation\": \"Peraturan Anggota Dewan Gubernur\",\\n      \"sector\": \"Sistem Pembayaran Dan Pengelolaan Uang Rupiah\",\\n      \"standardized_extracted_file_name\": \"\",\\n      \"standardized_file_name\": \"padg-21_18_padg_2019-21082019-peraturan_anggota_dewan_gubernur_nomor_21_18_padg_2019_tentang_implementasi_standar_nasional_quick_response_code_untuk_pembayaran\",\\n      \"page_number\": \"1\",\\n      \"relevance_score\": 0.07490527\\n    },\\n    \"page_content\": \"Manfaat apa yang diperoleh dari penggunaan QRIS?Manfaat dari sisi pengguna adalah bertambahnya fleksibilitas dalam memilih alternatif sumber dana dan/atau instrumen pembayaran yang dapatdigunakan dalam melakukan pembayarandi pedagang (merchant). Dari sisi pedagang (merchant),manfaat yang diperoleh adalahmeningkatnya kepraktisan karena hanya diperlukan 1 (satu) QR Codepembayaran dengan standar QRIS untuk dapat menerima pembayarandari berbagai macam sumber dana dan/atau instrumen pembayaran yang berbeda. Dari sisi industri secara keseluruhan, pengembangan QRIS mendukunginterkoneksi dan interoperabilitas sehingga dapat meminimalisir fragmentasi dan meningkatkan efisiensi.\"\\n  },\\n  {\\n    \"metadata\": {\\n      \"id\": \"doc:bi:3d941e3412954b9e972c430839387a4d\",\\n      \"file_id\": \"ddf6da4f\",\\n      \"title\": \"REGULATION OF BOARD OF MEMBER OF GOVERNORS NUMBER 21/18/PADG/2019 ON IMPLEMENTATION OF NATIONAL STANDARD ON QUICK RESPONSE CODE FOR PAYMENT\",\\n      \"file_link\": \"https://www.bi.go.id/en/publikasi/peraturan/Documents/PADG_211819.pdf\",\\n      \"date\": \"21 August 2019\",\\n      \"type_of_regulation\": \"Member Of The Board Of Governors Regulation\",\\n      \"sector\": \"Payment System And Rupiah Management\",\\n      \"standardized_extracted_file_name\": \"\",\\n      \"standardized_file_name\": \"padg-21_18_padg_2019-21082019-regulation_of_board_of_member_of_governors_number_21_18_padg_2019_on_implementation_of_national_standard_on_quick_response_code_for_payment\",\\n      \"page_number\": \"5\",\\n      \"relevance_score\": 0.07068779\\n    },\\n    \"page_content\": \"5 \\\\nprovisions of Bank Indonesia on NPG. \\\\n(2) \\\\nQRIS is managed by a Standard Agency which designated \\\\nby Bank Indonesia as a Standard Agency in NPG for quick \\\\nresponse code technology. \\\\n(3) \\\\nQRIS consists of technical and operational specifications \\\\nwhich are contained in a QRIS document. \\\\n(4) \\\\nThe technical and operational specifications as referred to \\\\nin paragraph (3) consist of the specifications of: \\\\na. \\\\nquick response code for payment; \\\\nb. \\\\ninterconnection; and \\\\nc. \\\\nother technical and operational specifications. \\\\n \\\\nArticle 5 \\\\n \\\\n(1) \\\\n The Payment System Service Provider and another party \\\\nintending to obtain a copy of the QRIS document as \\\\nreferred to in Article 4 paragraph (3) must submit a written \\\\napplication to the Standard Agency. \\\\n(2) \\\\nThe Standard Agency must arrange and implement the \\\\nmechanism and procedure for distribution of copies of the \\\\nQRIS document as referred to in paragraph (1). \\\\n(3) \\\\nThe mechanism and procedure for distribution of copies of\"\\n  },\\n  {\\n    \"metadata\": {\\n      \"id\": \"doc:bi:fb7ceaa0e8d84bf0b093bad54a7b49ca\",\\n      \"file_id\": \"53c25b7a\",\\n      \"title\": \"PERATURAN ANGGOTA DEWAN GUBERNUR NOMOR 21/18/PADG/2019 TENTANG IMPLEMENTASI STANDAR NASIONAL QUICK RESPONSE CODE UNTUK PEMBAYARAN.\",\\n      \"file_link\": \"https://www.bi.go.id/id/publikasi/peraturan/Documents/padg_211819.pdf\",\\n      \"date\": \"21 Agustus 2019\",\\n      \"type_of_regulation\": \"Peraturan Anggota Dewan Gubernur\",\\n      \"sector\": \"Sistem Pembayaran Dan Pengelolaan Uang Rupiah\",\\n      \"standardized_extracted_file_name\": \"\",\\n      \"standardized_file_name\": \"padg-21_18_padg_2019-21082019-peraturan_anggota_dewan_gubernur_nomor_21_18_padg_2019_tentang_implementasi_standar_nasional_quick_response_code_untuk_pembayaran\",\\n      \"page_number\": \"26\",\\n      \"relevance_score\": 0.055515114\\n    },\\n    \"page_content\": \"8 \\\\ndalam QRIS dan cakupan sumber dana dan/atau instrumen \\\\npembayaran yang dapat digunakan. \\\\n \\\\nAyat (4) \\\\nYang dimaksud dengan \\\\u201cuji coba pemrosesan Transaksi QRIS\\\\u201d \\\\nadalah uji coba kelaikan QRIS yang diselenggarakan oleh \\\\nLembaga Standar dalam rangka penyusunan QRIS. \\\\nHuruf a \\\\n \\\\nHasil uji coba pemrosesan Transaksi QRIS paling sedikit \\\\nmemuat:  \\\\n1. \\\\nringkasan hasil uji coba; \\\\n2. \\\\ndeskripsi uji coba; dan \\\\n3. \\\\nrisiko dan mitigasi. \\\\nHuruf b \\\\n \\\\nAction plan penerapan QRIS paling sedikit memuat target \\\\nwaktu penyelesaian untuk: \\\\n1. \\\\nmigrasi dari QR Code Pembayaran proprietary ke QRIS \\\\n(jika ada); \\\\n2. \\\\npenyusunan prosedur operasional standar terkait \\\\nimplementasi QRIS; \\\\n3. \\\\npenyesuaian aplikasi dan sistem; dan \\\\n4. \\\\nsosialisasi kepada pengguna. \\\\n \\\\nAyat (5) \\\\nYang dimaksud dengan \\\\u201cpersetujuan untuk memproses transaksi \\\\nyang \\\\ndifasilitasi \\\\ndengan \\\\nQR \\\\nCode \\\\nPembayaran\\\\u201d \\\\nadalah \\\\npersetujuan yang diberikan oleh Bank Indonesia sebelum QRIS \\\\nditetapkan.\"\\n  }\\n]'}"
      ]
     },
     "execution_count": 12,
     "metadata": {},
     "output_type": "execute_result"
    }
   ],
   "source": [
    "from chain.rag_chain import get_response\n",
    "\n",
    "response = get_response(\n",
    "    chain=chain_history,\n",
    "    question=\"Apa kepanjangan dari QRIS?\",\n",
    "    user_id=USER_ID,\n",
    "    conversation_id=CONVERSATION_ID\n",
    ")\n",
    "\n",
    "response"
   ]
  },
  {
   "cell_type": "code",
   "execution_count": 13,
   "metadata": {},
   "outputs": [
    {
     "name": "stdout",
     "output_type": "stream",
     "text": [
      "QRIS merupakan kepanjangan dari Standar Nasional QRCodePembayaran (Quick Response Code Indonesian Standard).\n",
      "\n",
      "Sumber: [Peraturan Anggota Dewan Gubernur Nomor 21/18/PADG/2019](https://www.bi.go.id/id/publikasi/peraturan/Documents/faq_padg_211819.pdf)\n"
     ]
    }
   ],
   "source": [
    "print(response['answer'])"
   ]
  },
  {
   "cell_type": "code",
   "execution_count": 14,
   "metadata": {},
   "outputs": [
    {
     "name": "stdout",
     "output_type": "stream",
     "text": [
      "[\n",
      "  {\n",
      "    \"metadata\": {\n",
      "      \"id\": \"doc:bi:e2f84f2b1e474d83a0a7ecc27cec266d\",\n",
      "      \"file_id\": \"db344534\",\n",
      "      \"title\": \"PERATURAN ANGGOTA DEWAN GUBERNUR NOMOR 21/18/PADG/2019 TENTANG IMPLEMENTASI STANDAR NASIONAL QUICK RESPONSE CODE UNTUK PEMBAYARAN.\",\n",
      "      \"file_link\": \"https://www.bi.go.id/id/publikasi/peraturan/Documents/faq_padg_211819.pdf\",\n",
      "      \"date\": \"21 Agustus 2019\",\n",
      "      \"type_of_regulation\": \"Peraturan Anggota Dewan Gubernur\",\n",
      "      \"sector\": \"Sistem Pembayaran Dan Pengelolaan Uang Rupiah\",\n",
      "      \"standardized_extracted_file_name\": \"\",\n",
      "      \"standardized_file_name\": \"padg-21_18_padg_2019-21082019-peraturan_anggota_dewan_gubernur_nomor_21_18_padg_2019_tentang_implementasi_standar_nasional_quick_response_code_untuk_pembayaran\",\n",
      "      \"page_number\": \"1\",\n",
      "      \"relevance_score\": 0.8493475\n",
      "    },\n",
      "    \"page_content\": \"StandarNasional QRCodePembayaran (Quick Response Code Indonesian Standard) yang umumnya disingkat sebagai QRIS adalah Standar QRCodePembayaran yang ditetapkan oleh Bank Indonesia untuk digunakan dalam memfasilitasi pembayaran di Indonesia.Perbedaan antara QRIS dengan QR CodePembayaran yang telah digunakan oleh industri saat ini adalah bahwa dengan dipergunakannya QRIS maka seluruh transaksi pembayaran dapat difasilitasi oleh satu QR CodePembayaran yang sama, yaitu QRIS, sekalipun instrumen pembayaran yang digunakan pengguna berbeda-beda. Hal ini dimungkinkan karena setiap aplikasi dari masing-masing Penerbit instrumen pembayaran dapat memindai dan membaca standar QRIS yang digunakan dalam QR CodePembayaran di merchant.2.\"\n",
      "  },\n",
      "  {\n",
      "    \"metadata\": {\n",
      "      \"id\": \"doc:bi:bd662a4f67604b52961dd5f791e3bbb1\",\n",
      "      \"file_id\": \"db344534\",\n",
      "      \"title\": \"PERATURAN ANGGOTA DEWAN GUBERNUR NOMOR 21/18/PADG/2019 TENTANG IMPLEMENTASI STANDAR NASIONAL QUICK RESPONSE CODE UNTUK PEMBAYARAN.\",\n",
      "      \"file_link\": \"https://www.bi.go.id/id/publikasi/peraturan/Documents/faq_padg_211819.pdf\",\n",
      "      \"date\": \"21 Agustus 2019\",\n",
      "      \"type_of_regulation\": \"Peraturan Anggota Dewan Gubernur\",\n",
      "      \"sector\": \"Sistem Pembayaran Dan Pengelolaan Uang Rupiah\",\n",
      "      \"standardized_extracted_file_name\": \"\",\n",
      "      \"standardized_file_name\": \"padg-21_18_padg_2019-21082019-peraturan_anggota_dewan_gubernur_nomor_21_18_padg_2019_tentang_implementasi_standar_nasional_quick_response_code_untuk_pembayaran\",\n",
      "      \"page_number\": \"1\",\n",
      "      \"relevance_score\": 0.07490527\n",
      "    },\n",
      "    \"page_content\": \"Manfaat apa yang diperoleh dari penggunaan QRIS?Manfaat dari sisi pengguna adalah bertambahnya fleksibilitas dalam memilih alternatif sumber dana dan/atau instrumen pembayaran yang dapatdigunakan dalam melakukan pembayarandi pedagang (merchant). Dari sisi pedagang (merchant),manfaat yang diperoleh adalahmeningkatnya kepraktisan karena hanya diperlukan 1 (satu) QR Codepembayaran dengan standar QRIS untuk dapat menerima pembayarandari berbagai macam sumber dana dan/atau instrumen pembayaran yang berbeda. Dari sisi industri secara keseluruhan, pengembangan QRIS mendukunginterkoneksi dan interoperabilitas sehingga dapat meminimalisir fragmentasi dan meningkatkan efisiensi.\"\n",
      "  },\n",
      "  {\n",
      "    \"metadata\": {\n",
      "      \"id\": \"doc:bi:3d941e3412954b9e972c430839387a4d\",\n",
      "      \"file_id\": \"ddf6da4f\",\n",
      "      \"title\": \"REGULATION OF BOARD OF MEMBER OF GOVERNORS NUMBER 21/18/PADG/2019 ON IMPLEMENTATION OF NATIONAL STANDARD ON QUICK RESPONSE CODE FOR PAYMENT\",\n",
      "      \"file_link\": \"https://www.bi.go.id/en/publikasi/peraturan/Documents/PADG_211819.pdf\",\n",
      "      \"date\": \"21 August 2019\",\n",
      "      \"type_of_regulation\": \"Member Of The Board Of Governors Regulation\",\n",
      "      \"sector\": \"Payment System And Rupiah Management\",\n",
      "      \"standardized_extracted_file_name\": \"\",\n",
      "      \"standardized_file_name\": \"padg-21_18_padg_2019-21082019-regulation_of_board_of_member_of_governors_number_21_18_padg_2019_on_implementation_of_national_standard_on_quick_response_code_for_payment\",\n",
      "      \"page_number\": \"5\",\n",
      "      \"relevance_score\": 0.07068779\n",
      "    },\n",
      "    \"page_content\": \"5 \\nprovisions of Bank Indonesia on NPG. \\n(2) \\nQRIS is managed by a Standard Agency which designated \\nby Bank Indonesia as a Standard Agency in NPG for quick \\nresponse code technology. \\n(3) \\nQRIS consists of technical and operational specifications \\nwhich are contained in a QRIS document. \\n(4) \\nThe technical and operational specifications as referred to \\nin paragraph (3) consist of the specifications of: \\na. \\nquick response code for payment; \\nb. \\ninterconnection; and \\nc. \\nother technical and operational specifications. \\n \\nArticle 5 \\n \\n(1) \\n The Payment System Service Provider and another party \\nintending to obtain a copy of the QRIS document as \\nreferred to in Article 4 paragraph (3) must submit a written \\napplication to the Standard Agency. \\n(2) \\nThe Standard Agency must arrange and implement the \\nmechanism and procedure for distribution of copies of the \\nQRIS document as referred to in paragraph (1). \\n(3) \\nThe mechanism and procedure for distribution of copies of\"\n",
      "  },\n",
      "  {\n",
      "    \"metadata\": {\n",
      "      \"id\": \"doc:bi:fb7ceaa0e8d84bf0b093bad54a7b49ca\",\n",
      "      \"file_id\": \"53c25b7a\",\n",
      "      \"title\": \"PERATURAN ANGGOTA DEWAN GUBERNUR NOMOR 21/18/PADG/2019 TENTANG IMPLEMENTASI STANDAR NASIONAL QUICK RESPONSE CODE UNTUK PEMBAYARAN.\",\n",
      "      \"file_link\": \"https://www.bi.go.id/id/publikasi/peraturan/Documents/padg_211819.pdf\",\n",
      "      \"date\": \"21 Agustus 2019\",\n",
      "      \"type_of_regulation\": \"Peraturan Anggota Dewan Gubernur\",\n",
      "      \"sector\": \"Sistem Pembayaran Dan Pengelolaan Uang Rupiah\",\n",
      "      \"standardized_extracted_file_name\": \"\",\n",
      "      \"standardized_file_name\": \"padg-21_18_padg_2019-21082019-peraturan_anggota_dewan_gubernur_nomor_21_18_padg_2019_tentang_implementasi_standar_nasional_quick_response_code_untuk_pembayaran\",\n",
      "      \"page_number\": \"26\",\n",
      "      \"relevance_score\": 0.055515114\n",
      "    },\n",
      "    \"page_content\": \"8 \\ndalam QRIS dan cakupan sumber dana dan/atau instrumen \\npembayaran yang dapat digunakan. \\n \\nAyat (4) \\nYang dimaksud dengan \\u201cuji coba pemrosesan Transaksi QRIS\\u201d \\nadalah uji coba kelaikan QRIS yang diselenggarakan oleh \\nLembaga Standar dalam rangka penyusunan QRIS. \\nHuruf a \\n \\nHasil uji coba pemrosesan Transaksi QRIS paling sedikit \\nmemuat:  \\n1. \\nringkasan hasil uji coba; \\n2. \\ndeskripsi uji coba; dan \\n3. \\nrisiko dan mitigasi. \\nHuruf b \\n \\nAction plan penerapan QRIS paling sedikit memuat target \\nwaktu penyelesaian untuk: \\n1. \\nmigrasi dari QR Code Pembayaran proprietary ke QRIS \\n(jika ada); \\n2. \\npenyusunan prosedur operasional standar terkait \\nimplementasi QRIS; \\n3. \\npenyesuaian aplikasi dan sistem; dan \\n4. \\nsosialisasi kepada pengguna. \\n \\nAyat (5) \\nYang dimaksud dengan \\u201cpersetujuan untuk memproses transaksi \\nyang \\ndifasilitasi \\ndengan \\nQR \\nCode \\nPembayaran\\u201d \\nadalah \\npersetujuan yang diberikan oleh Bank Indonesia sebelum QRIS \\nditetapkan.\"\n",
      "  }\n",
      "]\n"
     ]
    }
   ],
   "source": [
    "print(response[\"context\"])"
   ]
  },
  {
   "cell_type": "markdown",
   "metadata": {},
   "source": [
    "#### **Streaming**"
   ]
  },
  {
   "cell_type": "code",
   "execution_count": 16,
   "metadata": {},
   "outputs": [
    {
     "name": "stderr",
     "output_type": "stream",
     "text": [
      "Error in RootListenersTracer.on_chain_end callback: KeyError('answer')\n",
      "Error in callback coroutine: KeyError('answer')\n"
     ]
    },
    {
     "name": "stdout",
     "output_type": "stream",
     "text": [
      "Jumlah maksimum transaksi yang dapat dilakukan dengan QRIS adalah Rp5.000.000,00 (lima juta rupiah) per transaksi.\n",
      "\n",
      "Source: PERATURAN ANGGOTA DEWAN GUBERNUR NOMOR 23/8/PADG/2021 TENTANG PERUBAHAN ATAS PERATURAN ANGGOTA DEWAN GUBERNUR NOMOR 21/18/PADG/2019 TENTANG IMPLEMENTASI STANDAR NASIONAL QUICK RESPONSE CODE UNTUK PEMBAYARAN\n",
      "[Link to the regulation](https://www.bi.go.id/id/publikasi/peraturan/Documents/FAQ_PADG_230821.pdf#page=2)"
     ]
    }
   ],
   "source": [
    "from chain.rag_chain import print_answer_stream\n",
    "\n",
    "print_answer_stream(chain=chain_history, question=\"Berapa maksimum transaksi QRIS?\", user_id=USER_ID, conversation_id=CONVERSATION_ID)"
   ]
  },
  {
   "cell_type": "markdown",
   "metadata": {},
   "source": [
    "#### **Chat Store Monitor**"
   ]
  },
  {
   "cell_type": "code",
   "execution_count": 17,
   "metadata": {},
   "outputs": [
    {
     "name": "stdout",
     "output_type": "stream",
     "text": [
      "Human: Berapa maksimum transaksi QRIS?\n",
      "AI: Jumlah maksimum transaksi yang dapat dilakukan dengan QRIS adalah Rp5.000.000,00 (lima juta rupiah) per transaksi.\n",
      "\n",
      "Source: PERATURAN ANGGOTA DEWAN GUBERNUR NOMOR 23/8/PADG/2021 TENTANG PERUBAHAN ATAS PERATURAN ANGGOTA DEWAN GUBERNUR NOMOR 21/18/PADG/2019 TENTANG IMPLEMENTASI STANDAR NASIONAL QUICK RESPONSE CODE UNTUK PEMBAYARAN\n",
      "[Link to the regulation](https://www.bi.go.id/id/publikasi/peraturan/Documents/FAQ_PADG_230821.pdf#page=2)\n"
     ]
    }
   ],
   "source": [
    "# to print chat history\n",
    "print(chat_store.get_session_history(user_id=USER_ID, conversation_id=CONVERSATION_ID))"
   ]
  },
  {
   "cell_type": "code",
   "execution_count": 31,
   "metadata": {},
   "outputs": [],
   "source": [
    "# to make the chat history empty\n",
    "chat_store.clear_all()"
   ]
  }
 ],
 "metadata": {
  "kernelspec": {
   "display_name": "chatbot-all",
   "language": "python",
   "name": "python3"
  },
  "language_info": {
   "codemirror_mode": {
    "name": "ipython",
    "version": 3
   },
   "file_extension": ".py",
   "mimetype": "text/x-python",
   "name": "python",
   "nbconvert_exporter": "python",
   "pygments_lexer": "ipython3",
   "version": "3.9.13"
  }
 },
 "nbformat": 4,
 "nbformat_minor": 2
}

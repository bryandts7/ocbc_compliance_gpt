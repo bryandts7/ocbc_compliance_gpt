{
 "cells": [
  {
   "cell_type": "markdown",
   "metadata": {},
   "source": [
    "# **Store Data to Vector Store (OJK)**"
   ]
  },
  {
   "cell_type": "markdown",
   "metadata": {},
   "source": [
    "Ini cara untuk storing ke Redis, tapi untuk [Load](#load) Document beda-beda untuk tiap data BI, OJK, dan SIKEPO. Jadi buat sendiri function `extract_all_documents_in_directory` nya"
   ]
  },
  {
   "cell_type": "markdown",
   "metadata": {},
   "source": [
    "## **Setup**"
   ]
  },
  {
   "cell_type": "code",
   "execution_count": 1,
   "metadata": {},
   "outputs": [],
   "source": [
    "# import nest_asyncio\n",
    "# nest_asyncio.apply()\n",
    "\n",
    "import warnings\n",
    "warnings.filterwarnings(\"ignore\")"
   ]
  },
  {
   "cell_type": "markdown",
   "metadata": {},
   "source": [
    "## **Config**"
   ]
  },
  {
   "cell_type": "code",
   "execution_count": 2,
   "metadata": {},
   "outputs": [],
   "source": [
    "from utils.config import get_config\n",
    "\n",
    "config = get_config()"
   ]
  },
  {
   "cell_type": "markdown",
   "metadata": {},
   "source": [
    "## **Define Model**"
   ]
  },
  {
   "cell_type": "code",
   "execution_count": 3,
   "metadata": {},
   "outputs": [],
   "source": [
    "from utils.models import ModelName, LLMModelName, EmbeddingModelName, get_model\n",
    "\n",
    "model_name = ModelName.OPENAI\n",
    "llm_model, embed_model = get_model(model_name=model_name, config=config, llm_model_name=LLMModelName.GPT_4O_MINI, embedding_model_name=EmbeddingModelName.EMBEDDING_3_SMALL)"
   ]
  },
  {
   "cell_type": "markdown",
   "metadata": {},
   "source": [
    "## **Indexing (All)**"
   ]
  },
  {
   "cell_type": "code",
   "execution_count": 4,
   "metadata": {},
   "outputs": [],
   "source": [
    "import pickle\n",
    "\n",
    "def clean_document_content(content):\n",
    "    return content.replace('\\x00', '')  # Remove NUL characters\n",
    "\n",
    "def load_from_pickle(filename):\n",
    "    file = open(f'data/pickles/{filename}.pkl','rb')\n",
    "    return pickle.load(file)"
   ]
  },
  {
   "cell_type": "markdown",
   "metadata": {},
   "source": [
    "## **Indexing**"
   ]
  },
  {
   "cell_type": "code",
   "execution_count": 5,
   "metadata": {},
   "outputs": [],
   "source": [
    "pickle_path = './data/pickles/'"
   ]
  },
  {
   "cell_type": "markdown",
   "metadata": {},
   "source": [
    "### **Load**\n",
    "\n",
    "Untuk SIKEPO dan BI beda cara extract documentsnya, file document_extractor buat sendiri :D."
   ]
  },
  {
   "cell_type": "code",
   "execution_count": 6,
   "metadata": {},
   "outputs": [],
   "source": [
    "LOAD_PICKLE = True\n",
    "\n",
    "documents = load_from_pickle('all_documents')"
   ]
  },
  {
   "cell_type": "markdown",
   "metadata": {},
   "source": [
    "### **Split**"
   ]
  },
  {
   "cell_type": "code",
   "execution_count": 7,
   "metadata": {},
   "outputs": [],
   "source": [
    "from utils.bi_documents_split import bi_document_splitter\n",
    "import pickle\n",
    "\n",
    "LOAD_PICKLE = True\n",
    "\n",
    "if not LOAD_PICKLE:\n",
    "    all_splits = bi_document_splitter(docs=documents)\n",
    "    all_splits_sorted = sorted(all_splits, key=lambda x: (x.metadata['file_id'], x.metadata.get('page_number', '0')))\n",
    "    for split in all_splits_sorted:\n",
    "        split.page_content = clean_document_content(split.page_content)\n",
    "    # Open a file and use dump()\n",
    "    with open(pickle_path + 'documents1.pkl', 'wb') as file:\n",
    "        # A new file will be created\n",
    "        pickle.dump(all_splits_sorted, file)\n",
    "\n",
    "# Open the file in binary mode \n",
    "with open(pickle_path + 'documents1.pkl', 'rb') as file:\n",
    "    # Call load method to deserialze \n",
    "    all_splits = pickle.load(file)"
   ]
  },
  {
   "cell_type": "code",
   "execution_count": 8,
   "metadata": {},
   "outputs": [
    {
     "data": {
      "text/plain": [
       "212890"
      ]
     },
     "execution_count": 8,
     "metadata": {},
     "output_type": "execute_result"
    }
   ],
   "source": [
    "len(all_splits)"
   ]
  },
  {
   "cell_type": "code",
   "execution_count": 12,
   "metadata": {},
   "outputs": [
    {
     "data": {
      "text/plain": [
       "{'file_id': '0025aefc',\n",
       " 'title': 'PERATURAN ANGGOTA DEWAN GUBERNUR NOMOR 21/1/PADG/2019 TANGGAL 17 JANUARI 2019 TENTANG PERUBAHAN ATAS PERATURAN ANGGOTA DEWAN GUBERNUR NOMOR 19/6/PADG/2017 TENTANG PINJAMAN LIKUIDITAS JANGKA PENDEK BAGI BANK UMUM KONVENSIONAL',\n",
       " 'file_name': 'PADG Nomor 21/1/PADG/2019',\n",
       " 'file_link': 'https://www.bi.go.id/id/publikasi/peraturan/Documents/PADG_210119.pdf',\n",
       " 'date': '17 Januari 2019',\n",
       " 'type_of_regulation': 'Peraturan Anggota Dewan Gubernur',\n",
       " 'sector': 'Makroprudensial',\n",
       " 'standardized_extracted_file_name': '',\n",
       " 'standardized_file_name': 'padg-21_1_padg_2019-17012019-peraturan_anggota_dewan_gubernur_nomor_21_1_padg_2019_tanggal_17_januari_2019_tentang_perubahan_atas_peraturan_anggota_dewan_gubernur_nomor_19_6_padg_2017_tentang_pinjaman_likuiditas_jangka_pendek_bagi_bank_umum_konvensional',\n",
       " 'page_number': 4}"
      ]
     },
     "execution_count": 12,
     "metadata": {},
     "output_type": "execute_result"
    }
   ],
   "source": [
    "all_splits[12].metadata"
   ]
  },
  {
   "cell_type": "markdown",
   "metadata": {},
   "source": [
    "### **Storing**"
   ]
  },
  {
   "cell_type": "code",
   "execution_count": 13,
   "metadata": {},
   "outputs": [
    {
     "name": "stdout",
     "output_type": "stream",
     "text": [
      "Start loading from idx: 0\n"
     ]
    },
    {
     "ename": "ConnectionTimeout",
     "evalue": "Connection timeout caused by: ConnectionTimeout(Connection timeout caused by: ConnectTimeoutError((<urllib3.connection.HTTPSConnection object at 0x000002319FAEE400>, 'Connection to 16.78.85.84 timed out. (connect timeout=10.0)')))",
     "output_type": "error",
     "traceback": [
      "\u001b[1;31m---------------------------------------------------------------------------\u001b[0m",
      "\u001b[1;31mConnectionTimeout\u001b[0m                         Traceback (most recent call last)",
      "Cell \u001b[1;32mIn[13], line 8\u001b[0m\n\u001b[0;32m      5\u001b[0m vector_store_manager \u001b[38;5;241m=\u001b[39m ElasticIndexManager(index_name\u001b[38;5;241m=\u001b[39m\u001b[38;5;124m'\u001b[39m\u001b[38;5;124mbi\u001b[39m\u001b[38;5;124m'\u001b[39m, embed_model\u001b[38;5;241m=\u001b[39membed_model, config\u001b[38;5;241m=\u001b[39mconfig)\n\u001b[0;32m      7\u001b[0m \u001b[38;5;66;03m# vector_store_manager.delete_index() # WARNING: This will delete the index\u001b[39;00m\n\u001b[1;32m----> 8\u001b[0m \u001b[43mvector_store_manager\u001b[49m\u001b[38;5;241;43m.\u001b[39;49m\u001b[43mstore_vector_index\u001b[49m\u001b[43m(\u001b[49m\u001b[43mdocs\u001b[49m\u001b[38;5;241;43m=\u001b[39;49m\u001b[43mall_splits\u001b[49m\u001b[43m,\u001b[49m\u001b[43m \u001b[49m\u001b[43mbatch_size\u001b[49m\u001b[38;5;241;43m=\u001b[39;49m\u001b[38;5;241;43m500\u001b[39;49m\u001b[43m)\u001b[49m\n\u001b[0;32m      9\u001b[0m vector_store \u001b[38;5;241m=\u001b[39m vector_store_manager\u001b[38;5;241m.\u001b[39mload_vector_index()\n",
      "File \u001b[1;32mc:\\Users\\arkan\\Downloads\\Work\\OCBC\\ocbc_compliance_gpt\\database\\vector_store\\vector_store.py:78\u001b[0m, in \u001b[0;36mElasticIndexManager.store_vector_index\u001b[1;34m(self, docs, batch_size)\u001b[0m\n\u001b[0;32m     75\u001b[0m     start_split_idx \u001b[38;5;241m=\u001b[39m \u001b[38;5;241m0\u001b[39m\n\u001b[0;32m     77\u001b[0m \u001b[38;5;28;01mif\u001b[39;00m start_split_idx \u001b[38;5;241m<\u001b[39m batch_size:\n\u001b[1;32m---> 78\u001b[0m     \u001b[38;5;28mself\u001b[39m\u001b[38;5;241m.\u001b[39mvector_store \u001b[38;5;241m=\u001b[39m \u001b[43mElasticsearchStore\u001b[49m\u001b[38;5;241;43m.\u001b[39;49m\u001b[43mfrom_documents\u001b[49m\u001b[43m(\u001b[49m\n\u001b[0;32m     79\u001b[0m \u001b[43m        \u001b[49m\u001b[43mdocuments\u001b[49m\u001b[38;5;241;43m=\u001b[39;49m\u001b[43mdocs\u001b[49m\u001b[43m[\u001b[49m\u001b[38;5;241;43m0\u001b[39;49m\u001b[43m:\u001b[49m\u001b[43mbatch_size\u001b[49m\u001b[43m]\u001b[49m\u001b[43m,\u001b[49m\n\u001b[0;32m     80\u001b[0m \u001b[43m        \u001b[49m\u001b[43membedding\u001b[49m\u001b[38;5;241;43m=\u001b[39;49m\u001b[38;5;28;43mself\u001b[39;49m\u001b[38;5;241;43m.\u001b[39;49m\u001b[43membed_model\u001b[49m\u001b[43m,\u001b[49m\n\u001b[0;32m     81\u001b[0m \u001b[43m        \u001b[49m\u001b[43mes_connection\u001b[49m\u001b[38;5;241;43m=\u001b[39;49m\u001b[38;5;28;43mself\u001b[39;49m\u001b[38;5;241;43m.\u001b[39;49m\u001b[43mes_client\u001b[49m\u001b[43m,\u001b[49m\n\u001b[0;32m     82\u001b[0m \u001b[43m        \u001b[49m\u001b[43mindex_name\u001b[49m\u001b[38;5;241;43m=\u001b[39;49m\u001b[38;5;28;43mself\u001b[39;49m\u001b[38;5;241;43m.\u001b[39;49m\u001b[43mindex_name\u001b[49m\n\u001b[0;32m     83\u001b[0m \u001b[43m    \u001b[49m\u001b[43m)\u001b[49m\n\u001b[0;32m     84\u001b[0m     time\u001b[38;5;241m.\u001b[39msleep(\u001b[38;5;241m4\u001b[39m)\n\u001b[0;32m     86\u001b[0m     last_split_idx \u001b[38;5;241m=\u001b[39m \u001b[38;5;28mmin\u001b[39m(batch_size, \u001b[38;5;28mlen\u001b[39m(docs))\n",
      "File \u001b[1;32mc:\\Users\\arkan\\Downloads\\Work\\OCBC\\ocbc_compliance_gpt\\env\\lib\\site-packages\\langchain_community\\vectorstores\\elasticsearch.py:1253\u001b[0m, in \u001b[0;36mElasticsearchStore.from_documents\u001b[1;34m(cls, documents, embedding, bulk_kwargs, **kwargs)\u001b[0m\n\u001b[0;32m   1249\u001b[0m elasticsearchStore \u001b[38;5;241m=\u001b[39m ElasticsearchStore\u001b[38;5;241m.\u001b[39m_create_cls_from_kwargs(\n\u001b[0;32m   1250\u001b[0m     embedding\u001b[38;5;241m=\u001b[39membedding, \u001b[38;5;241m*\u001b[39m\u001b[38;5;241m*\u001b[39mkwargs\n\u001b[0;32m   1251\u001b[0m )\n\u001b[0;32m   1252\u001b[0m \u001b[38;5;66;03m# Encode the provided texts and add them to the newly created index.\u001b[39;00m\n\u001b[1;32m-> 1253\u001b[0m \u001b[43melasticsearchStore\u001b[49m\u001b[38;5;241;43m.\u001b[39;49m\u001b[43madd_documents\u001b[49m\u001b[43m(\u001b[49m\u001b[43mdocuments\u001b[49m\u001b[43m,\u001b[49m\u001b[43m \u001b[49m\u001b[43mbulk_kwargs\u001b[49m\u001b[38;5;241;43m=\u001b[39;49m\u001b[43mbulk_kwargs\u001b[49m\u001b[43m)\u001b[49m\n\u001b[0;32m   1255\u001b[0m \u001b[38;5;28;01mreturn\u001b[39;00m elasticsearchStore\n",
      "File \u001b[1;32mc:\\Users\\arkan\\Downloads\\Work\\OCBC\\ocbc_compliance_gpt\\env\\lib\\site-packages\\langchain_core\\vectorstores\\base.py:491\u001b[0m, in \u001b[0;36mVectorStore.add_documents\u001b[1;34m(self, documents, **kwargs)\u001b[0m\n\u001b[0;32m    489\u001b[0m texts \u001b[38;5;241m=\u001b[39m [doc\u001b[38;5;241m.\u001b[39mpage_content \u001b[38;5;28;01mfor\u001b[39;00m doc \u001b[38;5;129;01min\u001b[39;00m documents]\n\u001b[0;32m    490\u001b[0m metadatas \u001b[38;5;241m=\u001b[39m [doc\u001b[38;5;241m.\u001b[39mmetadata \u001b[38;5;28;01mfor\u001b[39;00m doc \u001b[38;5;129;01min\u001b[39;00m documents]\n\u001b[1;32m--> 491\u001b[0m \u001b[38;5;28;01mreturn\u001b[39;00m \u001b[38;5;28mself\u001b[39m\u001b[38;5;241m.\u001b[39madd_texts(texts, metadatas, \u001b[38;5;241m*\u001b[39m\u001b[38;5;241m*\u001b[39mkwargs)\n",
      "File \u001b[1;32mc:\\Users\\arkan\\Downloads\\Work\\OCBC\\ocbc_compliance_gpt\\env\\lib\\site-packages\\langchain_community\\vectorstores\\elasticsearch.py:1053\u001b[0m, in \u001b[0;36mElasticsearchStore.add_texts\u001b[1;34m(self, texts, metadatas, ids, refresh_indices, create_index_if_not_exists, bulk_kwargs, **kwargs)\u001b[0m\n\u001b[0;32m   1048\u001b[0m \u001b[38;5;28;01melse\u001b[39;00m:\n\u001b[0;32m   1049\u001b[0m     \u001b[38;5;66;03m# the search_type doesn't require inference, so we don't need to\u001b[39;00m\n\u001b[0;32m   1050\u001b[0m     \u001b[38;5;66;03m# embed the texts.\u001b[39;00m\n\u001b[0;32m   1051\u001b[0m     embeddings \u001b[38;5;241m=\u001b[39m \u001b[38;5;28;01mNone\u001b[39;00m\n\u001b[1;32m-> 1053\u001b[0m \u001b[38;5;28;01mreturn\u001b[39;00m \u001b[38;5;28;43mself\u001b[39;49m\u001b[38;5;241;43m.\u001b[39;49m\u001b[43m__add\u001b[49m\u001b[43m(\u001b[49m\n\u001b[0;32m   1054\u001b[0m \u001b[43m    \u001b[49m\u001b[43mtexts\u001b[49m\u001b[43m,\u001b[49m\n\u001b[0;32m   1055\u001b[0m \u001b[43m    \u001b[49m\u001b[43membeddings\u001b[49m\u001b[43m,\u001b[49m\n\u001b[0;32m   1056\u001b[0m \u001b[43m    \u001b[49m\u001b[43mmetadatas\u001b[49m\u001b[38;5;241;43m=\u001b[39;49m\u001b[43mmetadatas\u001b[49m\u001b[43m,\u001b[49m\n\u001b[0;32m   1057\u001b[0m \u001b[43m    \u001b[49m\u001b[43mids\u001b[49m\u001b[38;5;241;43m=\u001b[39;49m\u001b[43mids\u001b[49m\u001b[43m,\u001b[49m\n\u001b[0;32m   1058\u001b[0m \u001b[43m    \u001b[49m\u001b[43mrefresh_indices\u001b[49m\u001b[38;5;241;43m=\u001b[39;49m\u001b[43mrefresh_indices\u001b[49m\u001b[43m,\u001b[49m\n\u001b[0;32m   1059\u001b[0m \u001b[43m    \u001b[49m\u001b[43mcreate_index_if_not_exists\u001b[49m\u001b[38;5;241;43m=\u001b[39;49m\u001b[43mcreate_index_if_not_exists\u001b[49m\u001b[43m,\u001b[49m\n\u001b[0;32m   1060\u001b[0m \u001b[43m    \u001b[49m\u001b[43mbulk_kwargs\u001b[49m\u001b[38;5;241;43m=\u001b[39;49m\u001b[43mbulk_kwargs\u001b[49m\u001b[43m,\u001b[49m\n\u001b[0;32m   1061\u001b[0m \u001b[43m    \u001b[49m\u001b[43mkwargs\u001b[49m\u001b[38;5;241;43m=\u001b[39;49m\u001b[43mkwargs\u001b[49m\u001b[43m,\u001b[49m\n\u001b[0;32m   1062\u001b[0m \u001b[43m\u001b[49m\u001b[43m)\u001b[49m\n",
      "File \u001b[1;32mc:\\Users\\arkan\\Downloads\\Work\\OCBC\\ocbc_compliance_gpt\\env\\lib\\site-packages\\langchain_community\\vectorstores\\elasticsearch.py:973\u001b[0m, in \u001b[0;36mElasticsearchStore.__add\u001b[1;34m(self, texts, embeddings, metadatas, ids, refresh_indices, create_index_if_not_exists, bulk_kwargs, **kwargs)\u001b[0m\n\u001b[0;32m    970\u001b[0m     \u001b[38;5;28;01melse\u001b[39;00m:\n\u001b[0;32m    971\u001b[0m         dims_length \u001b[38;5;241m=\u001b[39m \u001b[38;5;28;01mNone\u001b[39;00m\n\u001b[1;32m--> 973\u001b[0m     \u001b[38;5;28;43mself\u001b[39;49m\u001b[38;5;241;43m.\u001b[39;49m\u001b[43m_create_index_if_not_exists\u001b[49m\u001b[43m(\u001b[49m\n\u001b[0;32m    974\u001b[0m \u001b[43m        \u001b[49m\u001b[43mindex_name\u001b[49m\u001b[38;5;241;43m=\u001b[39;49m\u001b[38;5;28;43mself\u001b[39;49m\u001b[38;5;241;43m.\u001b[39;49m\u001b[43mindex_name\u001b[49m\u001b[43m,\u001b[49m\u001b[43m \u001b[49m\u001b[43mdims_length\u001b[49m\u001b[38;5;241;43m=\u001b[39;49m\u001b[43mdims_length\u001b[49m\n\u001b[0;32m    975\u001b[0m \u001b[43m    \u001b[49m\u001b[43m)\u001b[49m\n\u001b[0;32m    977\u001b[0m \u001b[38;5;28;01mfor\u001b[39;00m i, text \u001b[38;5;129;01min\u001b[39;00m \u001b[38;5;28menumerate\u001b[39m(texts):\n\u001b[0;32m    978\u001b[0m     metadata \u001b[38;5;241m=\u001b[39m metadatas[i] \u001b[38;5;28;01mif\u001b[39;00m metadatas \u001b[38;5;28;01melse\u001b[39;00m {}\n",
      "File \u001b[1;32mc:\\Users\\arkan\\Downloads\\Work\\OCBC\\ocbc_compliance_gpt\\env\\lib\\site-packages\\langchain_community\\vectorstores\\elasticsearch.py:917\u001b[0m, in \u001b[0;36mElasticsearchStore._create_index_if_not_exists\u001b[1;34m(self, index_name, dims_length)\u001b[0m\n\u001b[0;32m    907\u001b[0m \u001b[38;5;28;01mdef\u001b[39;00m \u001b[38;5;21m_create_index_if_not_exists\u001b[39m(\n\u001b[0;32m    908\u001b[0m     \u001b[38;5;28mself\u001b[39m, index_name: \u001b[38;5;28mstr\u001b[39m, dims_length: Optional[\u001b[38;5;28mint\u001b[39m] \u001b[38;5;241m=\u001b[39m \u001b[38;5;28;01mNone\u001b[39;00m\n\u001b[0;32m    909\u001b[0m ) \u001b[38;5;241m-\u001b[39m\u001b[38;5;241m>\u001b[39m \u001b[38;5;28;01mNone\u001b[39;00m:\n\u001b[0;32m    910\u001b[0m \u001b[38;5;250m    \u001b[39m\u001b[38;5;124;03m\"\"\"Create the Elasticsearch index if it doesn't already exist.\u001b[39;00m\n\u001b[0;32m    911\u001b[0m \n\u001b[0;32m    912\u001b[0m \u001b[38;5;124;03m    Args:\u001b[39;00m\n\u001b[0;32m    913\u001b[0m \u001b[38;5;124;03m        index_name: Name of the Elasticsearch index to create.\u001b[39;00m\n\u001b[0;32m    914\u001b[0m \u001b[38;5;124;03m        dims_length: Length of the embedding vectors.\u001b[39;00m\n\u001b[0;32m    915\u001b[0m \u001b[38;5;124;03m    \"\"\"\u001b[39;00m\n\u001b[1;32m--> 917\u001b[0m     \u001b[38;5;28;01mif\u001b[39;00m \u001b[38;5;28;43mself\u001b[39;49m\u001b[38;5;241;43m.\u001b[39;49m\u001b[43mclient\u001b[49m\u001b[38;5;241;43m.\u001b[39;49m\u001b[43mindices\u001b[49m\u001b[38;5;241;43m.\u001b[39;49m\u001b[43mexists\u001b[49m\u001b[43m(\u001b[49m\u001b[43mindex\u001b[49m\u001b[38;5;241;43m=\u001b[39;49m\u001b[43mindex_name\u001b[49m\u001b[43m)\u001b[49m:\n\u001b[0;32m    918\u001b[0m         logger\u001b[38;5;241m.\u001b[39mdebug(\u001b[38;5;124mf\u001b[39m\u001b[38;5;124m\"\u001b[39m\u001b[38;5;124mIndex \u001b[39m\u001b[38;5;132;01m{\u001b[39;00mindex_name\u001b[38;5;132;01m}\u001b[39;00m\u001b[38;5;124m already exists. Skipping creation.\u001b[39m\u001b[38;5;124m\"\u001b[39m)\n\u001b[0;32m    920\u001b[0m     \u001b[38;5;28;01melse\u001b[39;00m:\n",
      "File \u001b[1;32mc:\\Users\\arkan\\Downloads\\Work\\OCBC\\ocbc_compliance_gpt\\env\\lib\\site-packages\\elasticsearch\\_sync\\client\\utils.py:446\u001b[0m, in \u001b[0;36m_rewrite_parameters.<locals>.wrapper.<locals>.wrapped\u001b[1;34m(*args, **kwargs)\u001b[0m\n\u001b[0;32m    443\u001b[0m         \u001b[38;5;28;01mexcept\u001b[39;00m \u001b[38;5;167;01mKeyError\u001b[39;00m:\n\u001b[0;32m    444\u001b[0m             \u001b[38;5;28;01mpass\u001b[39;00m\n\u001b[1;32m--> 446\u001b[0m \u001b[38;5;28;01mreturn\u001b[39;00m api(\u001b[38;5;241m*\u001b[39margs, \u001b[38;5;241m*\u001b[39m\u001b[38;5;241m*\u001b[39mkwargs)\n",
      "File \u001b[1;32mc:\\Users\\arkan\\Downloads\\Work\\OCBC\\ocbc_compliance_gpt\\env\\lib\\site-packages\\elasticsearch\\_sync\\client\\indices.py:1238\u001b[0m, in \u001b[0;36mIndicesClient.exists\u001b[1;34m(self, index, allow_no_indices, error_trace, expand_wildcards, filter_path, flat_settings, human, ignore_unavailable, include_defaults, local, pretty)\u001b[0m\n\u001b[0;32m   1236\u001b[0m     __query[\u001b[38;5;124m\"\u001b[39m\u001b[38;5;124mpretty\u001b[39m\u001b[38;5;124m\"\u001b[39m] \u001b[38;5;241m=\u001b[39m pretty\n\u001b[0;32m   1237\u001b[0m __headers \u001b[38;5;241m=\u001b[39m {\u001b[38;5;124m\"\u001b[39m\u001b[38;5;124maccept\u001b[39m\u001b[38;5;124m\"\u001b[39m: \u001b[38;5;124m\"\u001b[39m\u001b[38;5;124mapplication/json\u001b[39m\u001b[38;5;124m\"\u001b[39m}\n\u001b[1;32m-> 1238\u001b[0m \u001b[38;5;28;01mreturn\u001b[39;00m \u001b[38;5;28;43mself\u001b[39;49m\u001b[38;5;241;43m.\u001b[39;49m\u001b[43mperform_request\u001b[49m\u001b[43m(\u001b[49m\u001b[43m  \u001b[49m\u001b[38;5;66;43;03m# type: ignore[return-value]\u001b[39;49;00m\n\u001b[0;32m   1239\u001b[0m \u001b[43m    \u001b[49m\u001b[38;5;124;43m\"\u001b[39;49m\u001b[38;5;124;43mHEAD\u001b[39;49m\u001b[38;5;124;43m\"\u001b[39;49m\u001b[43m,\u001b[49m\n\u001b[0;32m   1240\u001b[0m \u001b[43m    \u001b[49m\u001b[43m__path\u001b[49m\u001b[43m,\u001b[49m\n\u001b[0;32m   1241\u001b[0m \u001b[43m    \u001b[49m\u001b[43mparams\u001b[49m\u001b[38;5;241;43m=\u001b[39;49m\u001b[43m__query\u001b[49m\u001b[43m,\u001b[49m\n\u001b[0;32m   1242\u001b[0m \u001b[43m    \u001b[49m\u001b[43mheaders\u001b[49m\u001b[38;5;241;43m=\u001b[39;49m\u001b[43m__headers\u001b[49m\u001b[43m,\u001b[49m\n\u001b[0;32m   1243\u001b[0m \u001b[43m    \u001b[49m\u001b[43mendpoint_id\u001b[49m\u001b[38;5;241;43m=\u001b[39;49m\u001b[38;5;124;43m\"\u001b[39;49m\u001b[38;5;124;43mindices.exists\u001b[39;49m\u001b[38;5;124;43m\"\u001b[39;49m\u001b[43m,\u001b[49m\n\u001b[0;32m   1244\u001b[0m \u001b[43m    \u001b[49m\u001b[43mpath_parts\u001b[49m\u001b[38;5;241;43m=\u001b[39;49m\u001b[43m__path_parts\u001b[49m\u001b[43m,\u001b[49m\n\u001b[0;32m   1245\u001b[0m \u001b[43m\u001b[49m\u001b[43m)\u001b[49m\n",
      "File \u001b[1;32mc:\\Users\\arkan\\Downloads\\Work\\OCBC\\ocbc_compliance_gpt\\env\\lib\\site-packages\\elasticsearch\\_sync\\client\\_base.py:423\u001b[0m, in \u001b[0;36mNamespacedClient.perform_request\u001b[1;34m(self, method, path, params, headers, body, endpoint_id, path_parts)\u001b[0m\n\u001b[0;32m    410\u001b[0m \u001b[38;5;28;01mdef\u001b[39;00m \u001b[38;5;21mperform_request\u001b[39m(\n\u001b[0;32m    411\u001b[0m     \u001b[38;5;28mself\u001b[39m,\n\u001b[0;32m    412\u001b[0m     method: \u001b[38;5;28mstr\u001b[39m,\n\u001b[1;32m   (...)\u001b[0m\n\u001b[0;32m    421\u001b[0m     \u001b[38;5;66;03m# Use the internal clients .perform_request() implementation\u001b[39;00m\n\u001b[0;32m    422\u001b[0m     \u001b[38;5;66;03m# so we take advantage of their transport options.\u001b[39;00m\n\u001b[1;32m--> 423\u001b[0m     \u001b[38;5;28;01mreturn\u001b[39;00m \u001b[38;5;28;43mself\u001b[39;49m\u001b[38;5;241;43m.\u001b[39;49m\u001b[43m_client\u001b[49m\u001b[38;5;241;43m.\u001b[39;49m\u001b[43mperform_request\u001b[49m\u001b[43m(\u001b[49m\n\u001b[0;32m    424\u001b[0m \u001b[43m        \u001b[49m\u001b[43mmethod\u001b[49m\u001b[43m,\u001b[49m\n\u001b[0;32m    425\u001b[0m \u001b[43m        \u001b[49m\u001b[43mpath\u001b[49m\u001b[43m,\u001b[49m\n\u001b[0;32m    426\u001b[0m \u001b[43m        \u001b[49m\u001b[43mparams\u001b[49m\u001b[38;5;241;43m=\u001b[39;49m\u001b[43mparams\u001b[49m\u001b[43m,\u001b[49m\n\u001b[0;32m    427\u001b[0m \u001b[43m        \u001b[49m\u001b[43mheaders\u001b[49m\u001b[38;5;241;43m=\u001b[39;49m\u001b[43mheaders\u001b[49m\u001b[43m,\u001b[49m\n\u001b[0;32m    428\u001b[0m \u001b[43m        \u001b[49m\u001b[43mbody\u001b[49m\u001b[38;5;241;43m=\u001b[39;49m\u001b[43mbody\u001b[49m\u001b[43m,\u001b[49m\n\u001b[0;32m    429\u001b[0m \u001b[43m        \u001b[49m\u001b[43mendpoint_id\u001b[49m\u001b[38;5;241;43m=\u001b[39;49m\u001b[43mendpoint_id\u001b[49m\u001b[43m,\u001b[49m\n\u001b[0;32m    430\u001b[0m \u001b[43m        \u001b[49m\u001b[43mpath_parts\u001b[49m\u001b[38;5;241;43m=\u001b[39;49m\u001b[43mpath_parts\u001b[49m\u001b[43m,\u001b[49m\n\u001b[0;32m    431\u001b[0m \u001b[43m    \u001b[49m\u001b[43m)\u001b[49m\n",
      "File \u001b[1;32mc:\\Users\\arkan\\Downloads\\Work\\OCBC\\ocbc_compliance_gpt\\env\\lib\\site-packages\\elasticsearch\\_sync\\client\\_base.py:271\u001b[0m, in \u001b[0;36mBaseClient.perform_request\u001b[1;34m(self, method, path, params, headers, body, endpoint_id, path_parts)\u001b[0m\n\u001b[0;32m    255\u001b[0m \u001b[38;5;28;01mdef\u001b[39;00m \u001b[38;5;21mperform_request\u001b[39m(\n\u001b[0;32m    256\u001b[0m     \u001b[38;5;28mself\u001b[39m,\n\u001b[0;32m    257\u001b[0m     method: \u001b[38;5;28mstr\u001b[39m,\n\u001b[1;32m   (...)\u001b[0m\n\u001b[0;32m    264\u001b[0m     path_parts: Optional[Mapping[\u001b[38;5;28mstr\u001b[39m, Any]] \u001b[38;5;241m=\u001b[39m \u001b[38;5;28;01mNone\u001b[39;00m,\n\u001b[0;32m    265\u001b[0m ) \u001b[38;5;241m-\u001b[39m\u001b[38;5;241m>\u001b[39m ApiResponse[Any]:\n\u001b[0;32m    266\u001b[0m     \u001b[38;5;28;01mwith\u001b[39;00m \u001b[38;5;28mself\u001b[39m\u001b[38;5;241m.\u001b[39m_otel\u001b[38;5;241m.\u001b[39mspan(\n\u001b[0;32m    267\u001b[0m         method,\n\u001b[0;32m    268\u001b[0m         endpoint_id\u001b[38;5;241m=\u001b[39mendpoint_id,\n\u001b[0;32m    269\u001b[0m         path_parts\u001b[38;5;241m=\u001b[39mpath_parts \u001b[38;5;129;01mor\u001b[39;00m {},\n\u001b[0;32m    270\u001b[0m     ) \u001b[38;5;28;01mas\u001b[39;00m otel_span:\n\u001b[1;32m--> 271\u001b[0m         response \u001b[38;5;241m=\u001b[39m \u001b[38;5;28;43mself\u001b[39;49m\u001b[38;5;241;43m.\u001b[39;49m\u001b[43m_perform_request\u001b[49m\u001b[43m(\u001b[49m\n\u001b[0;32m    272\u001b[0m \u001b[43m            \u001b[49m\u001b[43mmethod\u001b[49m\u001b[43m,\u001b[49m\n\u001b[0;32m    273\u001b[0m \u001b[43m            \u001b[49m\u001b[43mpath\u001b[49m\u001b[43m,\u001b[49m\n\u001b[0;32m    274\u001b[0m \u001b[43m            \u001b[49m\u001b[43mparams\u001b[49m\u001b[38;5;241;43m=\u001b[39;49m\u001b[43mparams\u001b[49m\u001b[43m,\u001b[49m\n\u001b[0;32m    275\u001b[0m \u001b[43m            \u001b[49m\u001b[43mheaders\u001b[49m\u001b[38;5;241;43m=\u001b[39;49m\u001b[43mheaders\u001b[49m\u001b[43m,\u001b[49m\n\u001b[0;32m    276\u001b[0m \u001b[43m            \u001b[49m\u001b[43mbody\u001b[49m\u001b[38;5;241;43m=\u001b[39;49m\u001b[43mbody\u001b[49m\u001b[43m,\u001b[49m\n\u001b[0;32m    277\u001b[0m \u001b[43m            \u001b[49m\u001b[43motel_span\u001b[49m\u001b[38;5;241;43m=\u001b[39;49m\u001b[43motel_span\u001b[49m\u001b[43m,\u001b[49m\n\u001b[0;32m    278\u001b[0m \u001b[43m        \u001b[49m\u001b[43m)\u001b[49m\n\u001b[0;32m    279\u001b[0m         otel_span\u001b[38;5;241m.\u001b[39mset_elastic_cloud_metadata(response\u001b[38;5;241m.\u001b[39mmeta\u001b[38;5;241m.\u001b[39mheaders)\n\u001b[0;32m    280\u001b[0m         \u001b[38;5;28;01mreturn\u001b[39;00m response\n",
      "File \u001b[1;32mc:\\Users\\arkan\\Downloads\\Work\\OCBC\\ocbc_compliance_gpt\\env\\lib\\site-packages\\elasticsearch\\_sync\\client\\_base.py:316\u001b[0m, in \u001b[0;36mBaseClient._perform_request\u001b[1;34m(self, method, path, params, headers, body, otel_span)\u001b[0m\n\u001b[0;32m    313\u001b[0m \u001b[38;5;28;01melse\u001b[39;00m:\n\u001b[0;32m    314\u001b[0m     target \u001b[38;5;241m=\u001b[39m path\n\u001b[1;32m--> 316\u001b[0m meta, resp_body \u001b[38;5;241m=\u001b[39m \u001b[38;5;28;43mself\u001b[39;49m\u001b[38;5;241;43m.\u001b[39;49m\u001b[43mtransport\u001b[49m\u001b[38;5;241;43m.\u001b[39;49m\u001b[43mperform_request\u001b[49m\u001b[43m(\u001b[49m\n\u001b[0;32m    317\u001b[0m \u001b[43m    \u001b[49m\u001b[43mmethod\u001b[49m\u001b[43m,\u001b[49m\n\u001b[0;32m    318\u001b[0m \u001b[43m    \u001b[49m\u001b[43mtarget\u001b[49m\u001b[43m,\u001b[49m\n\u001b[0;32m    319\u001b[0m \u001b[43m    \u001b[49m\u001b[43mheaders\u001b[49m\u001b[38;5;241;43m=\u001b[39;49m\u001b[43mrequest_headers\u001b[49m\u001b[43m,\u001b[49m\n\u001b[0;32m    320\u001b[0m \u001b[43m    \u001b[49m\u001b[43mbody\u001b[49m\u001b[38;5;241;43m=\u001b[39;49m\u001b[43mbody\u001b[49m\u001b[43m,\u001b[49m\n\u001b[0;32m    321\u001b[0m \u001b[43m    \u001b[49m\u001b[43mrequest_timeout\u001b[49m\u001b[38;5;241;43m=\u001b[39;49m\u001b[38;5;28;43mself\u001b[39;49m\u001b[38;5;241;43m.\u001b[39;49m\u001b[43m_request_timeout\u001b[49m\u001b[43m,\u001b[49m\n\u001b[0;32m    322\u001b[0m \u001b[43m    \u001b[49m\u001b[43mmax_retries\u001b[49m\u001b[38;5;241;43m=\u001b[39;49m\u001b[38;5;28;43mself\u001b[39;49m\u001b[38;5;241;43m.\u001b[39;49m\u001b[43m_max_retries\u001b[49m\u001b[43m,\u001b[49m\n\u001b[0;32m    323\u001b[0m \u001b[43m    \u001b[49m\u001b[43mretry_on_status\u001b[49m\u001b[38;5;241;43m=\u001b[39;49m\u001b[38;5;28;43mself\u001b[39;49m\u001b[38;5;241;43m.\u001b[39;49m\u001b[43m_retry_on_status\u001b[49m\u001b[43m,\u001b[49m\n\u001b[0;32m    324\u001b[0m \u001b[43m    \u001b[49m\u001b[43mretry_on_timeout\u001b[49m\u001b[38;5;241;43m=\u001b[39;49m\u001b[38;5;28;43mself\u001b[39;49m\u001b[38;5;241;43m.\u001b[39;49m\u001b[43m_retry_on_timeout\u001b[49m\u001b[43m,\u001b[49m\n\u001b[0;32m    325\u001b[0m \u001b[43m    \u001b[49m\u001b[43mclient_meta\u001b[49m\u001b[38;5;241;43m=\u001b[39;49m\u001b[38;5;28;43mself\u001b[39;49m\u001b[38;5;241;43m.\u001b[39;49m\u001b[43m_client_meta\u001b[49m\u001b[43m,\u001b[49m\n\u001b[0;32m    326\u001b[0m \u001b[43m    \u001b[49m\u001b[43motel_span\u001b[49m\u001b[38;5;241;43m=\u001b[39;49m\u001b[43motel_span\u001b[49m\u001b[43m,\u001b[49m\n\u001b[0;32m    327\u001b[0m \u001b[43m\u001b[49m\u001b[43m)\u001b[49m\n\u001b[0;32m    329\u001b[0m \u001b[38;5;66;03m# HEAD with a 404 is returned as a normal response\u001b[39;00m\n\u001b[0;32m    330\u001b[0m \u001b[38;5;66;03m# since this is used as an 'exists' functionality.\u001b[39;00m\n\u001b[0;32m    331\u001b[0m \u001b[38;5;28;01mif\u001b[39;00m \u001b[38;5;129;01mnot\u001b[39;00m (method \u001b[38;5;241m==\u001b[39m \u001b[38;5;124m\"\u001b[39m\u001b[38;5;124mHEAD\u001b[39m\u001b[38;5;124m\"\u001b[39m \u001b[38;5;129;01mand\u001b[39;00m meta\u001b[38;5;241m.\u001b[39mstatus \u001b[38;5;241m==\u001b[39m \u001b[38;5;241m404\u001b[39m) \u001b[38;5;129;01mand\u001b[39;00m (\n\u001b[0;32m    332\u001b[0m     \u001b[38;5;129;01mnot\u001b[39;00m \u001b[38;5;241m200\u001b[39m \u001b[38;5;241m<\u001b[39m\u001b[38;5;241m=\u001b[39m meta\u001b[38;5;241m.\u001b[39mstatus \u001b[38;5;241m<\u001b[39m \u001b[38;5;241m299\u001b[39m\n\u001b[0;32m    333\u001b[0m     \u001b[38;5;129;01mand\u001b[39;00m (\n\u001b[1;32m   (...)\u001b[0m\n\u001b[0;32m    337\u001b[0m     )\n\u001b[0;32m    338\u001b[0m ):\n",
      "File \u001b[1;32mc:\\Users\\arkan\\Downloads\\Work\\OCBC\\ocbc_compliance_gpt\\env\\lib\\site-packages\\elastic_transport\\_transport.py:342\u001b[0m, in \u001b[0;36mTransport.perform_request\u001b[1;34m(self, method, target, body, headers, max_retries, retry_on_status, retry_on_timeout, request_timeout, client_meta, otel_span)\u001b[0m\n\u001b[0;32m    340\u001b[0m \u001b[38;5;28;01mtry\u001b[39;00m:\n\u001b[0;32m    341\u001b[0m     otel_span\u001b[38;5;241m.\u001b[39mset_node_metadata(node\u001b[38;5;241m.\u001b[39mhost, node\u001b[38;5;241m.\u001b[39mport, node\u001b[38;5;241m.\u001b[39mbase_url, target)\n\u001b[1;32m--> 342\u001b[0m     resp \u001b[38;5;241m=\u001b[39m \u001b[43mnode\u001b[49m\u001b[38;5;241;43m.\u001b[39;49m\u001b[43mperform_request\u001b[49m\u001b[43m(\u001b[49m\n\u001b[0;32m    343\u001b[0m \u001b[43m        \u001b[49m\u001b[43mmethod\u001b[49m\u001b[43m,\u001b[49m\n\u001b[0;32m    344\u001b[0m \u001b[43m        \u001b[49m\u001b[43mtarget\u001b[49m\u001b[43m,\u001b[49m\n\u001b[0;32m    345\u001b[0m \u001b[43m        \u001b[49m\u001b[43mbody\u001b[49m\u001b[38;5;241;43m=\u001b[39;49m\u001b[43mrequest_body\u001b[49m\u001b[43m,\u001b[49m\n\u001b[0;32m    346\u001b[0m \u001b[43m        \u001b[49m\u001b[43mheaders\u001b[49m\u001b[38;5;241;43m=\u001b[39;49m\u001b[43mrequest_headers\u001b[49m\u001b[43m,\u001b[49m\n\u001b[0;32m    347\u001b[0m \u001b[43m        \u001b[49m\u001b[43mrequest_timeout\u001b[49m\u001b[38;5;241;43m=\u001b[39;49m\u001b[43mrequest_timeout\u001b[49m\u001b[43m,\u001b[49m\n\u001b[0;32m    348\u001b[0m \u001b[43m    \u001b[49m\u001b[43m)\u001b[49m\n\u001b[0;32m    349\u001b[0m     _logger\u001b[38;5;241m.\u001b[39minfo(\n\u001b[0;32m    350\u001b[0m         \u001b[38;5;124m\"\u001b[39m\u001b[38;5;132;01m%s\u001b[39;00m\u001b[38;5;124m \u001b[39m\u001b[38;5;132;01m%s\u001b[39;00m\u001b[38;5;132;01m%s\u001b[39;00m\u001b[38;5;124m [status:\u001b[39m\u001b[38;5;132;01m%s\u001b[39;00m\u001b[38;5;124m duration:\u001b[39m\u001b[38;5;132;01m%.3f\u001b[39;00m\u001b[38;5;124ms]\u001b[39m\u001b[38;5;124m\"\u001b[39m\n\u001b[0;32m    351\u001b[0m         \u001b[38;5;241m%\u001b[39m (\n\u001b[1;32m   (...)\u001b[0m\n\u001b[0;32m    357\u001b[0m         )\n\u001b[0;32m    358\u001b[0m     )\n\u001b[0;32m    360\u001b[0m     \u001b[38;5;28;01mif\u001b[39;00m method \u001b[38;5;241m!=\u001b[39m \u001b[38;5;124m\"\u001b[39m\u001b[38;5;124mHEAD\u001b[39m\u001b[38;5;124m\"\u001b[39m:\n",
      "File \u001b[1;32mc:\\Users\\arkan\\Downloads\\Work\\OCBC\\ocbc_compliance_gpt\\env\\lib\\site-packages\\elastic_transport\\_node\\_http_urllib3.py:202\u001b[0m, in \u001b[0;36mUrllib3HttpNode.perform_request\u001b[1;34m(self, method, target, body, headers, request_timeout)\u001b[0m\n\u001b[0;32m    194\u001b[0m         err \u001b[38;5;241m=\u001b[39m \u001b[38;5;167;01mConnectionError\u001b[39;00m(\u001b[38;5;28mstr\u001b[39m(e), errors\u001b[38;5;241m=\u001b[39m(e,))\n\u001b[0;32m    195\u001b[0m     \u001b[38;5;28mself\u001b[39m\u001b[38;5;241m.\u001b[39m_log_request(\n\u001b[0;32m    196\u001b[0m         method\u001b[38;5;241m=\u001b[39mmethod,\n\u001b[0;32m    197\u001b[0m         target\u001b[38;5;241m=\u001b[39mtarget,\n\u001b[1;32m   (...)\u001b[0m\n\u001b[0;32m    200\u001b[0m         exception\u001b[38;5;241m=\u001b[39merr,\n\u001b[0;32m    201\u001b[0m     )\n\u001b[1;32m--> 202\u001b[0m     \u001b[38;5;28;01mraise\u001b[39;00m err \u001b[38;5;28;01mfrom\u001b[39;00m \u001b[38;5;28;01mNone\u001b[39;00m\n\u001b[0;32m    204\u001b[0m meta \u001b[38;5;241m=\u001b[39m ApiResponseMeta(\n\u001b[0;32m    205\u001b[0m     node\u001b[38;5;241m=\u001b[39m\u001b[38;5;28mself\u001b[39m\u001b[38;5;241m.\u001b[39mconfig,\n\u001b[0;32m    206\u001b[0m     duration\u001b[38;5;241m=\u001b[39mduration,\n\u001b[1;32m   (...)\u001b[0m\n\u001b[0;32m    209\u001b[0m     headers\u001b[38;5;241m=\u001b[39mresponse_headers,\n\u001b[0;32m    210\u001b[0m )\n\u001b[0;32m    211\u001b[0m \u001b[38;5;28mself\u001b[39m\u001b[38;5;241m.\u001b[39m_log_request(\n\u001b[0;32m    212\u001b[0m     method\u001b[38;5;241m=\u001b[39mmethod,\n\u001b[0;32m    213\u001b[0m     target\u001b[38;5;241m=\u001b[39mtarget,\n\u001b[1;32m   (...)\u001b[0m\n\u001b[0;32m    217\u001b[0m     response\u001b[38;5;241m=\u001b[39mdata,\n\u001b[0;32m    218\u001b[0m )\n",
      "\u001b[1;31mConnectionTimeout\u001b[0m: Connection timeout caused by: ConnectionTimeout(Connection timeout caused by: ConnectTimeoutError((<urllib3.connection.HTTPSConnection object at 0x000002319FAEE400>, 'Connection to 16.78.85.84 timed out. (connect timeout=10.0)')))"
     ]
    }
   ],
   "source": [
    "from database.vector_store.vector_store import ElasticIndexManager\n",
    "\n",
    "# vector_store_manager = RedisIndexManager(index_name='ojk', embed_model=embed_model, config=config, db_id=0)\n",
    "# vector_store_manager = PostgresIndexManager(index_name='ojk', embed_model=embed_model, config=config)\n",
    "vector_store_manager = ElasticIndexManager(index_name='bi', embed_model=embed_model, config=config)\n",
    "\n",
    "# vector_store_manager.delete_index() # WARNING: This will delete the index\n",
    "vector_store_manager.store_vector_index(docs=all_splits, batch_size=500)\n",
    "vector_store = vector_store_manager.load_vector_index()"
   ]
  },
  {
   "cell_type": "markdown",
   "metadata": {},
   "source": [
    "## **NYOBA2**"
   ]
  },
  {
   "cell_type": "code",
   "execution_count": 11,
   "metadata": {},
   "outputs": [
    {
     "data": {
      "text/plain": [
       "[Document(metadata={'doc_id': 4, 'title': 'Tata Cara dan Mekanisme Penyampaian Data Transaksi Pendanaan dan Pelaporan Penyelenggara Layanan Pendanaan Bersama Berbasis Teknologi Informasi (LPBBTI)', 'sector': 'IKNB', 'subsector': 'Peraturan Lainnya', 'regulation_type': 'Surat Edaran OJK', 'regulation_number': '1/SEOJK.06/2024', 'effective_date': '2024/07/01', 'file_url': 'https://www.ojk.go.id/id/regulasi/Documents/Pages/Tata-Cara-dan-Mekanisme-Penyampaian-Data-Transaksi-Pendanaan-dan-Pelaporan-Penyelenggara-Layanan-Pendanaan-Bersama-Berbasis/SEOJK%201-SEOJK.06-2024%20Tata%20Cara%20dan%20Mekanisme%20Penyampaian%20Data%20Transaksi%20Pendanaan%20dan%20Pelaporan%20Penyelenggara%20LPBBTI.pdf', 'page_number': 15}, page_content='No \\nKode Jenis Kelamin \\nPengisian \\n1 \\nBpk. Adiwena  \\nLaki-Laki \\n(sesuai dengan referensi) \\n2 \\nIbu Suci \\nWanita \\n(sesuai dengan referensi) \\n3 \\nPT ABC \\nkolom dikosongkan \\n \\n15. Alamat \\na. \\nKolom ini diisi dengan alamat rumah untuk perorangan dan alamat \\nkantor untuk Perusahan/lembaga. \\nb. \\nKolom ini bersifat mandatory (tidak dapat dikosongkan).\\n\\nSource: [1/SEOJK.06/2024](https://www.ojk.go.id/id/regulasi/Documents/Pages/Tata-Cara-dan-Mekanisme-Penyampaian-Data-Transaksi-Pendanaan-dan-Pelaporan-Penyelenggara-Layanan-Pendanaan-Bersama-Berbasis/SEOJK%201-SEOJK.06-2024%20Tata%20Cara%20dan%20Mekanisme%20Penyampaian%20Data%20Transaksi%20Pendanaan%20dan%20Pelaporan%20Penyelenggara%20LPBBTI.pdf#page=15)'),\n",
       " Document(metadata={'doc_id': 4, 'title': 'Tata Cara dan Mekanisme Penyampaian Data Transaksi Pendanaan dan Pelaporan Penyelenggara Layanan Pendanaan Bersama Berbasis Teknologi Informasi (LPBBTI)', 'sector': 'IKNB', 'subsector': 'Peraturan Lainnya', 'regulation_type': 'Surat Edaran OJK', 'regulation_number': '1/SEOJK.06/2024', 'effective_date': '2024/07/01', 'file_url': 'https://www.ojk.go.id/id/regulasi/Documents/Pages/Tata-Cara-dan-Mekanisme-Penyampaian-Data-Transaksi-Pendanaan-dan-Pelaporan-Penyelenggara-Layanan-Pendanaan-Bersama-Berbasis/SEOJK%201-SEOJK.06-2024%20Tata%20Cara%20dan%20Mekanisme%20Penyampaian%20Data%20Transaksi%20Pendanaan%20dan%20Pelaporan%20Penyelenggara%20LPBBTI.pdf', 'page_number': 15}, page_content='No \\nKode Jenis Kelamin \\nPengisian \\n1 \\nBpk. Adiwena  \\nLaki-Laki \\n(sesuai dengan referensi) \\n2 \\nIbu Suci \\nWanita \\n(sesuai dengan referensi) \\n3 \\nPT ABC \\nkolom dikosongkan \\n \\n15. Alamat \\na. \\nKolom ini diisi dengan alamat rumah untuk perorangan dan alamat \\nkantor untuk Perusahan/lembaga. \\nb. \\nKolom ini bersifat mandatory (tidak dapat dikosongkan).\\n\\nSource: [1/SEOJK.06/2024](https://www.ojk.go.id/id/regulasi/Documents/Pages/Tata-Cara-dan-Mekanisme-Penyampaian-Data-Transaksi-Pendanaan-dan-Pelaporan-Penyelenggara-Layanan-Pendanaan-Bersama-Berbasis/SEOJK%201-SEOJK.06-2024%20Tata%20Cara%20dan%20Mekanisme%20Penyampaian%20Data%20Transaksi%20Pendanaan%20dan%20Pelaporan%20Penyelenggara%20LPBBTI.pdf#page=15)'),\n",
       " Document(metadata={'doc_id': 4, 'title': 'Tata Cara dan Mekanisme Penyampaian Data Transaksi Pendanaan dan Pelaporan Penyelenggara Layanan Pendanaan Bersama Berbasis Teknologi Informasi (LPBBTI)', 'sector': 'IKNB', 'subsector': 'Peraturan Lainnya', 'regulation_type': 'Surat Edaran OJK', 'regulation_number': '1/SEOJK.06/2024', 'effective_date': '2024/07/01', 'file_url': 'https://www.ojk.go.id/id/regulasi/Documents/Pages/Tata-Cara-dan-Mekanisme-Penyampaian-Data-Transaksi-Pendanaan-dan-Pelaporan-Penyelenggara-Layanan-Pendanaan-Bersama-Berbasis/SEOJK%201-SEOJK.06-2024%20Tata%20Cara%20dan%20Mekanisme%20Penyampaian%20Data%20Transaksi%20Pendanaan%20dan%20Pelaporan%20Penyelenggara%20LPBBTI.pdf', 'page_number': 16}, page_content='2 \\nMr Park So Young sebagai warga negara \\nKorea \\nKR \\n \\n17. Kode_provinsi \\na. \\nKolom ini diisi sesuai dengan dua digit kode provinsi sesuai \\nkeputusan lembaga yang berwenang. \\nb. \\nKolom ini bersifat mandatory (tidak dapat dikosongkan). \\nc. \\nContoh pengisian data: \\nNo \\nKode Provinsi \\nPengisian \\n1 \\nBapak Adiwena tinggal di Sumatera Selatan \\n(kode:16) \\n16 \\n2 \\nIbu Azella tinggal di Jawa Barat (kode:32) \\n32 \\n18. Kode_kota \\na. \\nKolom ini diisi sesuai dengan empat digit kombinasi dari kode \\nprovinsi dan kode kota tanpa tanda hubung sesuai keputusan \\nlembaga yang berwenang. \\nb. \\nKolom ini bersifat mandatory (tidak dapat dikosongkan). \\nc. \\nContoh pengisian data: \\nNo \\nKode Provinsi \\nPengisian \\n1 \\nBapak Joko tinggal di kota Semarang (kode: \\n74) \\n3374 \\n2 \\nIbu Susi tinggal di kota Depok (kode:76) \\n3276 \\n \\n19. No_telepon \\na. \\nKolom ini diisi dengan no telepon pribadi untuk perorangan dan no\\n\\nSource: [1/SEOJK.06/2024](https://www.ojk.go.id/id/regulasi/Documents/Pages/Tata-Cara-dan-Mekanisme-Penyampaian-Data-Transaksi-Pendanaan-dan-Pelaporan-Penyelenggara-Layanan-Pendanaan-Bersama-Berbasis/SEOJK%201-SEOJK.06-2024%20Tata%20Cara%20dan%20Mekanisme%20Penyampaian%20Data%20Transaksi%20Pendanaan%20dan%20Pelaporan%20Penyelenggara%20LPBBTI.pdf#page=16)'),\n",
       " Document(metadata={'doc_id': 4, 'title': 'Tata Cara dan Mekanisme Penyampaian Data Transaksi Pendanaan dan Pelaporan Penyelenggara Layanan Pendanaan Bersama Berbasis Teknologi Informasi (LPBBTI)', 'sector': 'IKNB', 'subsector': 'Peraturan Lainnya', 'regulation_type': 'Surat Edaran OJK', 'regulation_number': '1/SEOJK.06/2024', 'effective_date': '2024/07/01', 'file_url': 'https://www.ojk.go.id/id/regulasi/Documents/Pages/Tata-Cara-dan-Mekanisme-Penyampaian-Data-Transaksi-Pendanaan-dan-Pelaporan-Penyelenggara-Layanan-Pendanaan-Bersama-Berbasis/SEOJK%201-SEOJK.06-2024%20Tata%20Cara%20dan%20Mekanisme%20Penyampaian%20Data%20Transaksi%20Pendanaan%20dan%20Pelaporan%20Penyelenggara%20LPBBTI.pdf', 'page_number': 16}, page_content='2 \\nMr Park So Young sebagai warga negara \\nKorea \\nKR \\n \\n17. Kode_provinsi \\na. \\nKolom ini diisi sesuai dengan dua digit kode provinsi sesuai \\nkeputusan lembaga yang berwenang. \\nb. \\nKolom ini bersifat mandatory (tidak dapat dikosongkan). \\nc. \\nContoh pengisian data: \\nNo \\nKode Provinsi \\nPengisian \\n1 \\nBapak Adiwena tinggal di Sumatera Selatan \\n(kode:16) \\n16 \\n2 \\nIbu Azella tinggal di Jawa Barat (kode:32) \\n32 \\n18. Kode_kota \\na. \\nKolom ini diisi sesuai dengan empat digit kombinasi dari kode \\nprovinsi dan kode kota tanpa tanda hubung sesuai keputusan \\nlembaga yang berwenang. \\nb. \\nKolom ini bersifat mandatory (tidak dapat dikosongkan). \\nc. \\nContoh pengisian data: \\nNo \\nKode Provinsi \\nPengisian \\n1 \\nBapak Joko tinggal di kota Semarang (kode: \\n74) \\n3374 \\n2 \\nIbu Susi tinggal di kota Depok (kode:76) \\n3276 \\n \\n19. No_telepon \\na. \\nKolom ini diisi dengan no telepon pribadi untuk perorangan dan no\\n\\nSource: [1/SEOJK.06/2024](https://www.ojk.go.id/id/regulasi/Documents/Pages/Tata-Cara-dan-Mekanisme-Penyampaian-Data-Transaksi-Pendanaan-dan-Pelaporan-Penyelenggara-Layanan-Pendanaan-Bersama-Berbasis/SEOJK%201-SEOJK.06-2024%20Tata%20Cara%20dan%20Mekanisme%20Penyampaian%20Data%20Transaksi%20Pendanaan%20dan%20Pelaporan%20Penyelenggara%20LPBBTI.pdf#page=16)')]"
      ]
     },
     "execution_count": 11,
     "metadata": {},
     "output_type": "execute_result"
    }
   ],
   "source": [
    "vector_store.as_retriever().invoke(\"Apa itu QRIS?\")"
   ]
  },
  {
   "cell_type": "code",
   "execution_count": 12,
   "metadata": {},
   "outputs": [],
   "source": [
    "from langchain_community.vectorstores.pgvector import PGVector\n",
    "from langchain.chains.query_constructor.base import AttributeInfo\n",
    "from langchain.chains.query_constructor.base import (\n",
    "    StructuredQueryOutputParser,\n",
    "    get_query_constructor_prompt,\n",
    ")\n",
    "from langchain_core.language_models.base import BaseLanguageModel\n",
    "from langchain.retrievers.self_query.base import SelfQueryRetriever\n",
    "from langchain_core.vectorstores import VectorStore\n",
    "from langchain.retrievers.self_query.elasticsearch import ElasticsearchTranslator\n",
    "from langchain_core.prompts import PromptTemplate\n",
    "from langchain_core.structured_query import Operator, Comparator\n",
    "\n",
    "# Define metadata field information\n",
    "metadata_field_info = [\n",
    "    AttributeInfo(\n",
    "        name=\"title\",\n",
    "        description=\"The title of the document of regulation\",\n",
    "        type=\"string\",\n",
    "    ),\n",
    "    AttributeInfo(\n",
    "        name=\"sector\",\n",
    "        description=\"\"\"The sector of the regulation\"\"\",\n",
    "        type=\"string\",\n",
    "    ),\n",
    "    AttributeInfo(\n",
    "        name=\"subsector\",\n",
    "        description=\"The subsector of the regulation\",\n",
    "        type=\"string\",\n",
    "    ),\n",
    "    AttributeInfo(\n",
    "        name=\"regulation_type\",\n",
    "        description=\"\"\"The type of the regulation\"\"\",\n",
    "        type=\"string\",\n",
    "    ),\n",
    "    AttributeInfo(\n",
    "        name=\"regulation_number\",\n",
    "        description=\"The number of the regulation\",\n",
    "        type=\"string\",\n",
    "    ),\n",
    "    AttributeInfo(\n",
    "        name=\"effective_date\",\n",
    "        description=\"The effective date of the regulation in string format 'YYYY/MM/DD'\",\n",
    "        type=\"string\",\n",
    "    ),\n",
    "]\n",
    "\n",
    "# Define document content description\n",
    "document_content_description = \"The content of the document\"\n",
    "\n",
    "# Define prompt\n",
    "SCHEMA = \"\"\"\\\n",
    "<< Structured Request Schema >>\n",
    "When responding use a markdown code snippet with a JSON object formatted in the following schema:\n",
    "\n",
    "```json\n",
    "{{{{\n",
    "    \"query\": string \\\\ text string to compare to document contents\n",
    "    \"filter\": string \\\\ logical condition statement for filtering documents\n",
    "}}}}\n",
    "```\n",
    "\n",
    "The query string should contain only text that is expected to match the contents of documents. Any conditions in the filter should not be mentioned in the query as well.\n",
    "\n",
    "A logical condition statement is composed of one or more comparison and logical operation statements.\n",
    "\n",
    "A comparison statement takes the form: `comp(attr, val)`:\n",
    "- `comp` ({allowed_comparators}): comparator\n",
    "- `attr` (string):  name of attribute to apply the comparison to\n",
    "- `val` (string): is the comparison value\n",
    "\n",
    "A logical operation statement takes the form `op(statement1, statement2, ...)`:\n",
    "- `op` ({allowed_operators}): logical operator\n",
    "- `statement1`, `statement2`, ... (comparison statements or logical operation statements): one or more statements to apply the operation to\n",
    "\n",
    "Make sure that you only use the comparators and logical operators listed above and no others.\n",
    "Make sure that filters only refer to attributes that exist in the data source.\n",
    "Make sure that filters only use the attributed names with its function names if there are functions applied on them.\n",
    "Make sure that filters take into account the descriptions of attributes and only make comparisons that are feasible given the type of data being stored.\n",
    "Make sure that filters are only used as needed. If there are no filters that should be applied return \"NO_FILTER\" for the filter value.\n",
    "Make sure that date attributes are compared using ASCII comparison operators with the date in the string format \"YYYY/MM/DD\".\n",
    "\"\"\"\n",
    "\n",
    "SCHEMA_PROMPT = PromptTemplate.from_template(SCHEMA)\n",
    "\n",
    "# prompt = get_query_constructor_prompt(\n",
    "#     document_contents=document_content_description,\n",
    "#     attribute_info=metadata_field_info,\n",
    "#     schema_prompt=SCHEMA_PROMPT,\n",
    "    \n",
    "# )\n",
    "# output_parser = StructuredQueryOutputParser.from_components()\n",
    "# query_constructor = prompt | llm_model | output_parser\n",
    "\n",
    "# query_constructor.invoke(\"Berikan dokumen yang berlaku pada tanggal 1 Januari 2023 hingga 1 Januari 2024\")\n",
    "\n",
    "\n",
    "\n",
    "# # Create query constructor\n",
    "# def self_query_ojk(llm_model: BaseLanguageModel, vector_store: VectorStore, search_type: str = \"similarity\") -> SelfQueryRetriever:\n",
    "#     retriever = SelfQueryRetriever.from_llm(\n",
    "#         document_contents=document_content_description,\n",
    "#         # enable_limit=False,\n",
    "#         use_original_query=True,\n",
    "#         llm=llm_model,\n",
    "#         vectorstore=vector_store,\n",
    "#         metadata_field_info=metadata_field_info,\n",
    "#         structured_query_translator=PGVectorTranslator(),\n",
    "#     )\n",
    "\n",
    "#     return retriever\n",
    "\n",
    "\n",
    "\n",
    "def self_query_ojk(llm_model: BaseLanguageModel, vector_store: VectorStore, search_type: str = \"similarity\") -> SelfQueryRetriever:\n",
    "    prompt = get_query_constructor_prompt(\n",
    "        document_contents=document_content_description,\n",
    "        attribute_info=metadata_field_info,\n",
    "        schema_prompt=SCHEMA_PROMPT,\n",
    "    )\n",
    "    output_parser = StructuredQueryOutputParser.from_components()\n",
    "    query_constructor = prompt | llm_model | output_parser\n",
    "\n",
    "    retriever = SelfQueryRetriever(\n",
    "        query_constructor=query_constructor,\n",
    "        vectorstore=vector_store,\n",
    "        search_type=search_type,\n",
    "        structured_query_translator=ElasticsearchTranslator(),\n",
    "        verbose=True,\n",
    "    )\n",
    "\n",
    "    return retriever\n",
    "\n",
    "retriever = self_query_ojk(llm_model=llm_model, vector_store=vector_store, search_type=\"similarity\")"
   ]
  },
  {
   "cell_type": "code",
   "execution_count": 15,
   "metadata": {},
   "outputs": [
    {
     "name": "stdout",
     "output_type": "stream",
     "text": [
      "\u001b[32;1m\u001b[1;3m[chain/start]\u001b[0m \u001b[1m[retriever:Retriever > chain:RunnableSequence] Entering Chain run with input:\n",
      "\u001b[0m{\n",
      "  \"query\": \"Berikan dokumen yang berlaku dari tahun 20023 hingga 2025\"\n",
      "}\n",
      "\u001b[32;1m\u001b[1;3m[chain/start]\u001b[0m \u001b[1m[retriever:Retriever > chain:RunnableSequence > prompt:FewShotPromptTemplate] Entering Prompt run with input:\n",
      "\u001b[0m{\n",
      "  \"query\": \"Berikan dokumen yang berlaku dari tahun 20023 hingga 2025\"\n",
      "}\n",
      "\u001b[36;1m\u001b[1;3m[chain/end]\u001b[0m \u001b[1m[retriever:Retriever > chain:RunnableSequence > prompt:FewShotPromptTemplate] [1ms] Exiting Prompt run with output:\n",
      "\u001b[0m[outputs]\n",
      "\u001b[32;1m\u001b[1;3m[llm/start]\u001b[0m \u001b[1m[retriever:Retriever > chain:RunnableSequence > llm:AzureChatOpenAI] Entering LLM run with input:\n",
      "\u001b[0m{\n",
      "  \"prompts\": [\n",
      "    \"Human: Your goal is to structure the user's query to match the request schema provided below.\\n\\n<< Structured Request Schema >>\\nWhen responding use a markdown code snippet with a JSON object formatted in the following schema:\\n\\n```json\\n{\\n    \\\"query\\\": string \\\\ text string to compare to document contents\\n    \\\"filter\\\": string \\\\ logical condition statement for filtering documents\\n}\\n```\\n\\nThe query string should contain only text that is expected to match the contents of documents. Any conditions in the filter should not be mentioned in the query as well.\\n\\nA logical condition statement is composed of one or more comparison and logical operation statements.\\n\\nA comparison statement takes the form: `comp(attr, val)`:\\n- `comp` (eq | ne | gt | gte | lt | lte | contain | like | in | nin): comparator\\n- `attr` (string):  name of attribute to apply the comparison to\\n- `val` (string): is the comparison value\\n\\nA logical operation statement takes the form `op(statement1, statement2, ...)`:\\n- `op` (and | or | not): logical operator\\n- `statement1`, `statement2`, ... (comparison statements or logical operation statements): one or more statements to apply the operation to\\n\\nMake sure that you only use the comparators and logical operators listed above and no others.\\nMake sure that filters only refer to attributes that exist in the data source.\\nMake sure that filters only use the attributed names with its function names if there are functions applied on them.\\nMake sure that filters take into account the descriptions of attributes and only make comparisons that are feasible given the type of data being stored.\\nMake sure that filters are only used as needed. If there are no filters that should be applied return \\\"NO_FILTER\\\" for the filter value.\\nMake sure that date attributes are compared using ASCII comparison operators with the date in the string format \\\"YYYY/MM/DD\\\".\\n\\n\\n<< Example 1. >>\\nData Source:\\n```json\\n{\\n    \\\"content\\\": \\\"Lyrics of a song\\\",\\n    \\\"attributes\\\": {\\n        \\\"artist\\\": {\\n            \\\"type\\\": \\\"string\\\",\\n            \\\"description\\\": \\\"Name of the song artist\\\"\\n        },\\n        \\\"length\\\": {\\n            \\\"type\\\": \\\"integer\\\",\\n            \\\"description\\\": \\\"Length of the song in seconds\\\"\\n        },\\n        \\\"genre\\\": {\\n            \\\"type\\\": \\\"string\\\",\\n            \\\"description\\\": \\\"The song genre, one of \\\"pop\\\", \\\"rock\\\" or \\\"rap\\\"\\\"\\n        }\\n    }\\n}\\n```\\n\\nUser Query:\\nWhat are songs by Taylor Swift or Katy Perry about teenage romance under 3 minutes long in the dance pop genre\\n\\nStructured Request:\\n```json\\n{\\n    \\\"query\\\": \\\"teenager love\\\",\\n    \\\"filter\\\": \\\"and(or(eq(\\\\\\\"artist\\\\\\\", \\\\\\\"Taylor Swift\\\\\\\"), eq(\\\\\\\"artist\\\\\\\", \\\\\\\"Katy Perry\\\\\\\")), lt(\\\\\\\"length\\\\\\\", 180), eq(\\\\\\\"genre\\\\\\\", \\\\\\\"pop\\\\\\\"))\\\"\\n}\\n```\\n\\n\\n<< Example 2. >>\\nData Source:\\n```json\\n{\\n    \\\"content\\\": \\\"Lyrics of a song\\\",\\n    \\\"attributes\\\": {\\n        \\\"artist\\\": {\\n            \\\"type\\\": \\\"string\\\",\\n            \\\"description\\\": \\\"Name of the song artist\\\"\\n        },\\n        \\\"length\\\": {\\n            \\\"type\\\": \\\"integer\\\",\\n            \\\"description\\\": \\\"Length of the song in seconds\\\"\\n        },\\n        \\\"genre\\\": {\\n            \\\"type\\\": \\\"string\\\",\\n            \\\"description\\\": \\\"The song genre, one of \\\"pop\\\", \\\"rock\\\" or \\\"rap\\\"\\\"\\n        }\\n    }\\n}\\n```\\n\\nUser Query:\\nWhat are songs that were not published on Spotify\\n\\nStructured Request:\\n```json\\n{\\n    \\\"query\\\": \\\"\\\",\\n    \\\"filter\\\": \\\"NO_FILTER\\\"\\n}\\n```\\n\\n\\n<< Example 3. >>\\nData Source:\\n```json\\n{\\n    \\\"content\\\": \\\"The content of the document\\\",\\n    \\\"attributes\\\": {\\n    \\\"title\\\": {\\n        \\\"description\\\": \\\"The title of the document of regulation\\\",\\n        \\\"type\\\": \\\"string\\\"\\n    },\\n    \\\"sector\\\": {\\n        \\\"description\\\": \\\"The sector of the regulation\\\",\\n        \\\"type\\\": \\\"string\\\"\\n    },\\n    \\\"subsector\\\": {\\n        \\\"description\\\": \\\"The subsector of the regulation\\\",\\n        \\\"type\\\": \\\"string\\\"\\n    },\\n    \\\"regulation_type\\\": {\\n        \\\"description\\\": \\\"The type of the regulation\\\",\\n        \\\"type\\\": \\\"string\\\"\\n    },\\n    \\\"regulation_number\\\": {\\n        \\\"description\\\": \\\"The number of the regulation\\\",\\n        \\\"type\\\": \\\"string\\\"\\n    },\\n    \\\"effective_date\\\": {\\n        \\\"description\\\": \\\"The effective date of the regulation in string format 'YYYY/MM/DD'\\\",\\n        \\\"type\\\": \\\"string\\\"\\n    }\\n}\\n}\\n```\\n\\nUser Query:\\nBerikan dokumen yang berlaku dari tahun 20023 hingga 2025\\n\\nStructured Request:\"\n",
      "  ]\n",
      "}\n",
      "\u001b[36;1m\u001b[1;3m[llm/end]\u001b[0m \u001b[1m[retriever:Retriever > chain:RunnableSequence > llm:AzureChatOpenAI] [1.94s] Exiting LLM run with output:\n",
      "\u001b[0m{\n",
      "  \"generations\": [\n",
      "    [\n",
      "      {\n",
      "        \"text\": \"```json\\n{\\n    \\\"query\\\": \\\"\\\",\\n    \\\"filter\\\": \\\"and(gte(\\\\\\\"effective_date\\\\\\\", \\\\\\\"2002/01/01\\\\\\\"), lte(\\\\\\\"effective_date\\\\\\\", \\\\\\\"2025/12/31\\\\\\\"))\\\"\\n}\\n```\",\n",
      "        \"generation_info\": {\n",
      "          \"finish_reason\": \"stop\",\n",
      "          \"logprobs\": null,\n",
      "          \"content_filter_results\": {\n",
      "            \"hate\": {\n",
      "              \"filtered\": false,\n",
      "              \"severity\": \"safe\"\n",
      "            },\n",
      "            \"self_harm\": {\n",
      "              \"filtered\": false,\n",
      "              \"severity\": \"safe\"\n",
      "            },\n",
      "            \"sexual\": {\n",
      "              \"filtered\": false,\n",
      "              \"severity\": \"safe\"\n",
      "            },\n",
      "            \"violence\": {\n",
      "              \"filtered\": false,\n",
      "              \"severity\": \"safe\"\n",
      "            }\n",
      "          }\n",
      "        },\n",
      "        \"type\": \"ChatGeneration\",\n",
      "        \"message\": {\n",
      "          \"lc\": 1,\n",
      "          \"type\": \"constructor\",\n",
      "          \"id\": [\n",
      "            \"langchain\",\n",
      "            \"schema\",\n",
      "            \"messages\",\n",
      "            \"AIMessage\"\n",
      "          ],\n",
      "          \"kwargs\": {\n",
      "            \"content\": \"```json\\n{\\n    \\\"query\\\": \\\"\\\",\\n    \\\"filter\\\": \\\"and(gte(\\\\\\\"effective_date\\\\\\\", \\\\\\\"2002/01/01\\\\\\\"), lte(\\\\\\\"effective_date\\\\\\\", \\\\\\\"2025/12/31\\\\\\\"))\\\"\\n}\\n```\",\n",
      "            \"response_metadata\": {\n",
      "              \"token_usage\": {\n",
      "                \"completion_tokens\": 47,\n",
      "                \"prompt_tokens\": 985,\n",
      "                \"total_tokens\": 1032\n",
      "              },\n",
      "              \"model_name\": \"gpt-35-turbo\",\n",
      "              \"system_fingerprint\": null,\n",
      "              \"prompt_filter_results\": [\n",
      "                {\n",
      "                  \"prompt_index\": 0,\n",
      "                  \"content_filter_results\": {\n",
      "                    \"hate\": {\n",
      "                      \"filtered\": false,\n",
      "                      \"severity\": \"safe\"\n",
      "                    },\n",
      "                    \"self_harm\": {\n",
      "                      \"filtered\": false,\n",
      "                      \"severity\": \"safe\"\n",
      "                    },\n",
      "                    \"sexual\": {\n",
      "                      \"filtered\": false,\n",
      "                      \"severity\": \"safe\"\n",
      "                    },\n",
      "                    \"violence\": {\n",
      "                      \"filtered\": false,\n",
      "                      \"severity\": \"safe\"\n",
      "                    }\n",
      "                  }\n",
      "                }\n",
      "              ],\n",
      "              \"finish_reason\": \"stop\",\n",
      "              \"logprobs\": null,\n",
      "              \"content_filter_results\": {\n",
      "                \"hate\": {\n",
      "                  \"filtered\": false,\n",
      "                  \"severity\": \"safe\"\n",
      "                },\n",
      "                \"self_harm\": {\n",
      "                  \"filtered\": false,\n",
      "                  \"severity\": \"safe\"\n",
      "                },\n",
      "                \"sexual\": {\n",
      "                  \"filtered\": false,\n",
      "                  \"severity\": \"safe\"\n",
      "                },\n",
      "                \"violence\": {\n",
      "                  \"filtered\": false,\n",
      "                  \"severity\": \"safe\"\n",
      "                }\n",
      "              }\n",
      "            },\n",
      "            \"type\": \"ai\",\n",
      "            \"id\": \"run-8772461a-a32d-46a3-87bc-16cf6d09fed0-0\",\n",
      "            \"usage_metadata\": {\n",
      "              \"input_tokens\": 985,\n",
      "              \"output_tokens\": 47,\n",
      "              \"total_tokens\": 1032\n",
      "            },\n",
      "            \"tool_calls\": [],\n",
      "            \"invalid_tool_calls\": []\n",
      "          }\n",
      "        }\n",
      "      }\n",
      "    ]\n",
      "  ],\n",
      "  \"llm_output\": {\n",
      "    \"token_usage\": {\n",
      "      \"completion_tokens\": 47,\n",
      "      \"prompt_tokens\": 985,\n",
      "      \"total_tokens\": 1032\n",
      "    },\n",
      "    \"model_name\": \"gpt-35-turbo\",\n",
      "    \"system_fingerprint\": null,\n",
      "    \"prompt_filter_results\": [\n",
      "      {\n",
      "        \"prompt_index\": 0,\n",
      "        \"content_filter_results\": {\n",
      "          \"hate\": {\n",
      "            \"filtered\": false,\n",
      "            \"severity\": \"safe\"\n",
      "          },\n",
      "          \"self_harm\": {\n",
      "            \"filtered\": false,\n",
      "            \"severity\": \"safe\"\n",
      "          },\n",
      "          \"sexual\": {\n",
      "            \"filtered\": false,\n",
      "            \"severity\": \"safe\"\n",
      "          },\n",
      "          \"violence\": {\n",
      "            \"filtered\": false,\n",
      "            \"severity\": \"safe\"\n",
      "          }\n",
      "        }\n",
      "      }\n",
      "    ]\n",
      "  },\n",
      "  \"run\": null\n",
      "}\n",
      "\u001b[32;1m\u001b[1;3m[chain/start]\u001b[0m \u001b[1m[retriever:Retriever > chain:RunnableSequence > parser:StructuredQueryOutputParser] Entering Parser run with input:\n",
      "\u001b[0m[inputs]\n",
      "\u001b[36;1m\u001b[1;3m[chain/end]\u001b[0m \u001b[1m[retriever:Retriever > chain:RunnableSequence > parser:StructuredQueryOutputParser] [2ms] Exiting Parser run with output:\n",
      "\u001b[0m[outputs]\n",
      "\u001b[36;1m\u001b[1;3m[chain/end]\u001b[0m \u001b[1m[retriever:Retriever > chain:RunnableSequence] [1.95s] Exiting Chain run with output:\n",
      "\u001b[0m[outputs]\n"
     ]
    },
    {
     "data": {
      "text/plain": [
       "[Document(metadata={'doc_id': 4, 'title': 'Tata Cara dan Mekanisme Penyampaian Data Transaksi Pendanaan dan Pelaporan Penyelenggara Layanan Pendanaan Bersama Berbasis Teknologi Informasi (LPBBTI)', 'sector': 'IKNB', 'subsector': 'Peraturan Lainnya', 'regulation_type': 'Surat Edaran OJK', 'regulation_number': '1/SEOJK.06/2024', 'effective_date': '2024/07/01', 'file_url': 'https://www.ojk.go.id/id/regulasi/Documents/Pages/Tata-Cara-dan-Mekanisme-Penyampaian-Data-Transaksi-Pendanaan-dan-Pelaporan-Penyelenggara-Layanan-Pendanaan-Bersama-Berbasis/SEOJK%201-SEOJK.06-2024%20Tata%20Cara%20dan%20Mekanisme%20Penyampaian%20Data%20Transaksi%20Pendanaan%20dan%20Pelaporan%20Penyelenggara%20LPBBTI.pdf', 'page_number': 15}, page_content='No \\nKode Jenis Kelamin \\nPengisian \\n1 \\nBpk. Adiwena  \\nLaki-Laki \\n(sesuai dengan referensi) \\n2 \\nIbu Suci \\nWanita \\n(sesuai dengan referensi) \\n3 \\nPT ABC \\nkolom dikosongkan \\n \\n15. Alamat \\na. \\nKolom ini diisi dengan alamat rumah untuk perorangan dan alamat \\nkantor untuk Perusahan/lembaga. \\nb. \\nKolom ini bersifat mandatory (tidak dapat dikosongkan).\\n\\nSource: [1/SEOJK.06/2024](https://www.ojk.go.id/id/regulasi/Documents/Pages/Tata-Cara-dan-Mekanisme-Penyampaian-Data-Transaksi-Pendanaan-dan-Pelaporan-Penyelenggara-Layanan-Pendanaan-Bersama-Berbasis/SEOJK%201-SEOJK.06-2024%20Tata%20Cara%20dan%20Mekanisme%20Penyampaian%20Data%20Transaksi%20Pendanaan%20dan%20Pelaporan%20Penyelenggara%20LPBBTI.pdf#page=15)'),\n",
       " Document(metadata={'doc_id': 4, 'title': 'Tata Cara dan Mekanisme Penyampaian Data Transaksi Pendanaan dan Pelaporan Penyelenggara Layanan Pendanaan Bersama Berbasis Teknologi Informasi (LPBBTI)', 'sector': 'IKNB', 'subsector': 'Peraturan Lainnya', 'regulation_type': 'Surat Edaran OJK', 'regulation_number': '1/SEOJK.06/2024', 'effective_date': '2024/07/01', 'file_url': 'https://www.ojk.go.id/id/regulasi/Documents/Pages/Tata-Cara-dan-Mekanisme-Penyampaian-Data-Transaksi-Pendanaan-dan-Pelaporan-Penyelenggara-Layanan-Pendanaan-Bersama-Berbasis/SEOJK%201-SEOJK.06-2024%20Tata%20Cara%20dan%20Mekanisme%20Penyampaian%20Data%20Transaksi%20Pendanaan%20dan%20Pelaporan%20Penyelenggara%20LPBBTI.pdf', 'page_number': 7}, page_content='bulanan \\nsesuai \\ndengan \\nbentuk, \\nsusunan, \\ndan \\ntata \\ncara \\npenyampaian yang diatur dalam Surat Edaran Otoritas Jasa \\nKeuangan ini untuk periode laporan bulan Februari 2024 sampai \\ndengan periode laporan bulan Juni 2024.\\n\\nSource: [1/SEOJK.06/2024](https://www.ojk.go.id/id/regulasi/Documents/Pages/Tata-Cara-dan-Mekanisme-Penyampaian-Data-Transaksi-Pendanaan-dan-Pelaporan-Penyelenggara-Layanan-Pendanaan-Bersama-Berbasis/SEOJK%201-SEOJK.06-2024%20Tata%20Cara%20dan%20Mekanisme%20Penyampaian%20Data%20Transaksi%20Pendanaan%20dan%20Pelaporan%20Penyelenggara%20LPBBTI.pdf#page=7)'),\n",
       " Document(metadata={'doc_id': 4, 'title': 'Tata Cara dan Mekanisme Penyampaian Data Transaksi Pendanaan dan Pelaporan Penyelenggara Layanan Pendanaan Bersama Berbasis Teknologi Informasi (LPBBTI)', 'sector': 'IKNB', 'subsector': 'Peraturan Lainnya', 'regulation_type': 'Surat Edaran OJK', 'regulation_number': '1/SEOJK.06/2024', 'effective_date': '2024/07/01', 'file_url': 'https://www.ojk.go.id/id/regulasi/Documents/Pages/Tata-Cara-dan-Mekanisme-Penyampaian-Data-Transaksi-Pendanaan-dan-Pelaporan-Penyelenggara-Layanan-Pendanaan-Bersama-Berbasis/SEOJK%201-SEOJK.06-2024%20Tata%20Cara%20dan%20Mekanisme%20Penyampaian%20Data%20Transaksi%20Pendanaan%20dan%20Pelaporan%20Penyelenggara%20LPBBTI.pdf', 'page_number': 12}, page_content='1 \\nPerorangan \\n2 \\nLembaga \\nb. \\nKolom ini bersifat mandatory (tidak dapat dikosongkan). \\nc. \\nContoh pengisian data: \\nNo \\nJenis Pengguna \\nPengisian \\n1 \\nDylan merupakan Borrower perorangan \\n1 \\n2 \\nPT XYZ merupakan Lender Lembaga \\n2 \\n \\n4. \\nNama_Pengguna \\na. \\nKolom ini diisi dengan nama Pengguna sesuai dengan nama lengkap \\ntanpa gelar sesuai dengan yang tercantum dalam dokumen identitas \\nPengguna. \\nb. \\nKolom ini bersifat mandatory (tidak dapat dikosongkan). \\nc. \\nContoh pengisian data:\\n\\nSource: [1/SEOJK.06/2024](https://www.ojk.go.id/id/regulasi/Documents/Pages/Tata-Cara-dan-Mekanisme-Penyampaian-Data-Transaksi-Pendanaan-dan-Pelaporan-Penyelenggara-Layanan-Pendanaan-Bersama-Berbasis/SEOJK%201-SEOJK.06-2024%20Tata%20Cara%20dan%20Mekanisme%20Penyampaian%20Data%20Transaksi%20Pendanaan%20dan%20Pelaporan%20Penyelenggara%20LPBBTI.pdf#page=12)'),\n",
       " Document(metadata={'doc_id': 4, 'title': 'Tata Cara dan Mekanisme Penyampaian Data Transaksi Pendanaan dan Pelaporan Penyelenggara Layanan Pendanaan Bersama Berbasis Teknologi Informasi (LPBBTI)', 'sector': 'IKNB', 'subsector': 'Peraturan Lainnya', 'regulation_type': 'Surat Edaran OJK', 'regulation_number': '1/SEOJK.06/2024', 'effective_date': '2024/07/01', 'file_url': 'https://www.ojk.go.id/id/regulasi/Documents/Pages/Tata-Cara-dan-Mekanisme-Penyampaian-Data-Transaksi-Pendanaan-dan-Pelaporan-Penyelenggara-Layanan-Pendanaan-Bersama-Berbasis/SEOJK%201-SEOJK.06-2024%20Tata%20Cara%20dan%20Mekanisme%20Penyampaian%20Data%20Transaksi%20Pendanaan%20dan%20Pelaporan%20Penyelenggara%20LPBBTI.pdf', 'page_number': 13}, page_content='Contoh pengisian data: \\nNo \\nStatus warga negara \\nPengisian \\n1 \\nBpk. Adiwena sebagai warga negara Indonesia ID \\n2 \\nMr Park sebagai warga negara Korea Selatan \\nKR \\n \\n8. \\nKode_jenis_tanda_pengenal \\na. \\nKolom ini diisi dengan kode jenis tanda pengenal sesuai referensi \\nsebagai berikut: \\nKode jenis tanda pengenal \\nJenis Tanda Pengenal \\n1 \\nKTP \\n2 \\nNPWP \\n3 \\nPASPOR \\n4 \\nKITAS\\n\\nSource: [1/SEOJK.06/2024](https://www.ojk.go.id/id/regulasi/Documents/Pages/Tata-Cara-dan-Mekanisme-Penyampaian-Data-Transaksi-Pendanaan-dan-Pelaporan-Penyelenggara-Layanan-Pendanaan-Bersama-Berbasis/SEOJK%201-SEOJK.06-2024%20Tata%20Cara%20dan%20Mekanisme%20Penyampaian%20Data%20Transaksi%20Pendanaan%20dan%20Pelaporan%20Penyelenggara%20LPBBTI.pdf#page=13)')]"
      ]
     },
     "execution_count": 15,
     "metadata": {},
     "output_type": "execute_result"
    }
   ],
   "source": [
    "# 2024-07-01\n",
    "from langchain.globals import set_debug\n",
    "\n",
    "set_debug(True)\n",
    "\n",
    "context = retriever.invoke('Berikan dokumen yang berlaku dari tahun 20023 hingga 2025')\n",
    "context"
   ]
  }
 ],
 "metadata": {
  "kernelspec": {
   "display_name": "chatbot-all",
   "language": "python",
   "name": "python3"
  },
  "language_info": {
   "codemirror_mode": {
    "name": "ipython",
    "version": 3
   },
   "file_extension": ".py",
   "mimetype": "text/x-python",
   "name": "python",
   "nbconvert_exporter": "python",
   "pygments_lexer": "ipython3",
   "version": "3.9.19"
  }
 },
 "nbformat": 4,
 "nbformat_minor": 2
}

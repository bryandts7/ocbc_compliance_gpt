{
 "cells": [
  {
   "cell_type": "markdown",
   "metadata": {},
   "source": [
    "# **Compliance GPT with LangChain**"
   ]
  },
  {
   "cell_type": "markdown",
   "metadata": {},
   "source": [
    "## **Setup**"
   ]
  },
  {
   "cell_type": "code",
   "execution_count": 1,
   "metadata": {},
   "outputs": [
    {
     "data": {
      "text/plain": [
       "True"
      ]
     },
     "execution_count": 1,
     "metadata": {},
     "output_type": "execute_result"
    }
   ],
   "source": [
    "import nest_asyncio\n",
    "nest_asyncio.apply()\n",
    "\n",
    "from dotenv import load_dotenv\n",
    "load_dotenv()"
   ]
  },
  {
   "cell_type": "markdown",
   "metadata": {},
   "source": [
    "## **Config**"
   ]
  },
  {
   "cell_type": "code",
   "execution_count": 2,
   "metadata": {},
   "outputs": [],
   "source": [
    "from utils.config import get_config\n",
    "from utils.models import ModelName, get_model\n",
    "\n",
    "config = get_config()"
   ]
  },
  {
   "cell_type": "code",
   "execution_count": 3,
   "metadata": {},
   "outputs": [],
   "source": [
    "USER_ID = 'arkan'\n",
    "CONVERSATION_ID = 'arkan-2021-07-01-01'"
   ]
  },
  {
   "cell_type": "markdown",
   "metadata": {},
   "source": [
    "## **Define Model**"
   ]
  },
  {
   "cell_type": "code",
   "execution_count": 4,
   "metadata": {},
   "outputs": [],
   "source": [
    "model_name = ModelName.AZURE_OPENAI\n",
    "llm_model, embed_model = get_model(model_name=model_name, config=config)"
   ]
  },
  {
   "cell_type": "markdown",
   "metadata": {},
   "source": [
    "## **Load Vector Store Index**"
   ]
  },
  {
   "cell_type": "code",
   "execution_count": 5,
   "metadata": {},
   "outputs": [
    {
     "name": "stderr",
     "output_type": "stream",
     "text": [
      "c:\\Users\\arkan\\Downloads\\Work\\ocbc\\ocbc_compliance_gpt\\env\\lib\\site-packages\\pinecone\\data\\index.py:1: TqdmWarning: IProgress not found. Please update jupyter and ipywidgets. See https://ipywidgets.readthedocs.io/en/stable/user_install.html\n",
      "  from tqdm.autonotebook import tqdm\n"
     ]
    }
   ],
   "source": [
    "from databases.vector_store import RedisIndexManager\n",
    "\n",
    "redis = RedisIndexManager(index_name='bi', embed_model=embed_model, config=config, db_id=0)\n",
    "vector_store = redis.load_vector_index()"
   ]
  },
  {
   "cell_type": "markdown",
   "metadata": {},
   "source": [
    "## **Get Retriever**"
   ]
  },
  {
   "cell_type": "code",
   "execution_count": 6,
   "metadata": {},
   "outputs": [],
   "source": [
    "from retriever.retriever_bi.retriever_bi import get_retriever_bi\n",
    "\n",
    "retriever = get_retriever_bi(vector_store=vector_store, top_n=4, top_k=16, llm_model=llm_model, embed_model=embed_model, config=config)"
   ]
  },
  {
   "cell_type": "markdown",
   "metadata": {},
   "source": [
    "## **Create Chain**"
   ]
  },
  {
   "cell_type": "code",
   "execution_count": 7,
   "metadata": {},
   "outputs": [],
   "source": [
    "from constant.ojk.prompt import CONTEXTUALIZE_Q_PROMPT_STR, QA_SYSTEM_PROMPT_STR\n",
    "from databases.chat_store import RedisChatStore\n",
    "from chain.chain_bi.chain_bi import create_bi_chain\n",
    "from chain.rag_chain import create_chain_with_chat_history\n",
    "\n",
    "chat_store = RedisChatStore(k=4, config=config, db_id=1)\n",
    "\n",
    "chain = create_bi_chain(\n",
    "    contextualize_q_prompt_str=CONTEXTUALIZE_Q_PROMPT_STR,\n",
    "    qa_system_prompt_str=QA_SYSTEM_PROMPT_STR,\n",
    "    retriever=retriever,\n",
    "    llm_model=llm_model,\n",
    "    # chat_store=chat_store\n",
    ")\n",
    "\n",
    "chain_history = create_chain_with_chat_history(\n",
    "    final_chain=chain,\n",
    "    chat_store=chat_store\n",
    ")"
   ]
  },
  {
   "cell_type": "markdown",
   "metadata": {},
   "source": [
    "## **Evaluation**"
   ]
  },
  {
   "cell_type": "markdown",
   "metadata": {},
   "source": [
    "#### **Get Response**"
   ]
  },
  {
   "cell_type": "code",
   "execution_count": 8,
   "metadata": {},
   "outputs": [
    {
     "data": {
      "text/plain": [
       "{'rewrited question': 'Berapa batas transaksi oleh qris?',\n",
       " 'answer': 'Batas transaksi oleh QRIS adalah paling banyak Rp2.000.000,00 (dua juta rupiah) per transaksi.\\n\\nSource: PERATURAN ANGGOTA DEWAN GUBERNUR NOMOR 21/18/PADG/2019 TENTANG IMPLEMENTASI STANDAR NASIONAL QUICK RESPONSE CODE UNTUK PEMBAYARAN.\\n[Link to the regulation](https://www.bi.go.id/id/publikasi/peraturan/Documents/faq_padg_211819.pdf#page=2)',\n",
       " 'context': '[\\n  {\\n    \"metadata\": {\\n      \"id\": \"doc:bi:16680d3178ab4c4a9db1be4bba33d38d\",\\n      \"file_id\": \"db344534\",\\n      \"title\": \"PERATURAN ANGGOTA DEWAN GUBERNUR NOMOR 21/18/PADG/2019 TENTANG IMPLEMENTASI STANDAR NASIONAL QUICK RESPONSE CODE UNTUK PEMBAYARAN.\",\\n      \"file_link\": \"https://www.bi.go.id/id/publikasi/peraturan/Documents/faq_padg_211819.pdf\",\\n      \"date\": \"21 Agustus 2019\",\\n      \"type_of_regulation\": \"Peraturan Anggota Dewan Gubernur\",\\n      \"sector\": \"Sistem Pembayaran Dan Pengelolaan Uang Rupiah\",\\n      \"standardized_extracted_file_name\": \"\",\\n      \"standardized_file_name\": \"padg-21_18_padg_2019-21082019-peraturan_anggota_dewan_gubernur_nomor_21_18_padg_2019_tentang_implementasi_standar_nasional_quick_response_code_untuk_pembayaran\",\\n      \"page_number\": \"2\",\\n      \"relevance_score\": 0.9999097\\n    },\\n    \"page_content\": \"Apa saja sumber dana dan/atau instrumen pembayaran yang dapat digunakan pada transaksi QRIS?Transaksi QRIS menggunakan sumber dana berupa simpanan dan/atau instrumen pembayaran berupa kartu debet, kartu kredit, dan/atau uang elektronik yang menggunakan media penyimpanan server based. Penggunaan sumber dana dan/atau instrumen pembayaran diterapkanberdasarkan usulan dari Lembaga Standar yang disetujui Bank Indonesia.9.\\\\n Berapa batas nominal transaksi menggunakan QRIS?Nominal Transaksi QRIS dibatasi paling banyak sebesar Rp2.000.000,00 (dua juta rupiah) per transaksi. Penerbit dapat menetapkan batas nominal kumulatif harian\"\\n  },\\n  {\\n    \"metadata\": {\\n      \"id\": \"doc:bi:d1fd494129e2412490ccfc80a39f2606\",\\n      \"file_id\": \"33c86041\",\\n      \"title\": \"PERATURAN ANGGOTA DEWAN GUBERNUR NOMOR 23/8/PADG/2021 TENTANG PERUBAHAN ATAS PERATURAN ANGGOTA DEWAN GUBERNUR NOMOR 21/18/PADG/2019 TENTANG IMPLEMENTASI STANDAR NASIONAL QUICK RESPONSE CODE UNTUK PEMBAYARAN\",\\n      \"file_link\": \"https://www.bi.go.id/id/publikasi/peraturan/Documents/FAQ_PADG_230821.pdf\",\\n      \"date\": \"30 April 2021\",\\n      \"type_of_regulation\": \"Peraturan Anggota Dewan Gubernur\",\\n      \"sector\": \"Sistem Pembayaran Dan Pengelolaan Uang Rupiah\",\\n      \"standardized_extracted_file_name\": \"\",\\n      \"standardized_file_name\": \"padg-23_8_padg_2021-30042021-peraturan_anggota_dewan_gubernur_nomor_23_8_padg_2021_tentang_perubahan_atas_peraturan_anggota_dewan_gubernur_nomor_21_18_padg_2019_tentang_implementasi_standar_nasional_quick_response_code_untuk_pembayaran\",\\n      \"page_number\": \"1\",\\n      \"relevance_score\": 0.9996303\\n    },\\n    \"page_content\": \"Pengaturan batas nominal transaksi saat ini sebesar Rp2.000.000,00 \\\\n(dua juta rupiah) mengakibatkan transaksi pembayaran lebih dari \\\\nnominal tersebut harus dilakukan dengan cara melakukan transaksi \\\\nlebih dari 1 (satu) kali, sehingga tidak praktis.  \\\\nd. \\\\nSelain itu, terdapat kebutuhan untuk transaksi QRIS dalam nominal \\\\nyang cukup besar seperti pembayaran tagihan pajak, tagihan listrik, \\\\npembelian produk artisan, donasi keagamaan, bisnis, laboratorium dan \\\\nperawatan kesehatan, rumah sakit, restoran, hotel, tiket pesawat, paket \\\\npariwisata, dan lainnya. \\\\n \\\\n2. Apa substansi pengaturan dalam Perubahan PADG QRIS ini? \\\\nBesaran \\\\nnominal \\\\ntransaksi \\\\nQRIS \\\\nyang \\\\nsaat \\\\nini \\\\ndiatur \\\\nsebesar \\\\nRp2.000.000,00 (dua juta rupiah) disesuaikan menjadi paling banyak \\\\nsebesar Rp5.000.000,00 (lima juta rupiah) per transaksi.\"\\n  },\\n  {\\n    \"metadata\": {\\n      \"id\": \"doc:bi:fb5f1bedfb5342db9ad9fe540261b53f\",\\n      \"file_id\": \"53c25b7a\",\\n      \"title\": \"PERATURAN ANGGOTA DEWAN GUBERNUR NOMOR 21/18/PADG/2019 TENTANG IMPLEMENTASI STANDAR NASIONAL QUICK RESPONSE CODE UNTUK PEMBAYARAN.\",\\n      \"file_link\": \"https://www.bi.go.id/id/publikasi/peraturan/Documents/padg_211819.pdf\",\\n      \"date\": \"21 Agustus 2019\",\\n      \"type_of_regulation\": \"Peraturan Anggota Dewan Gubernur\",\\n      \"sector\": \"Sistem Pembayaran Dan Pengelolaan Uang Rupiah\",\\n      \"standardized_extracted_file_name\": \"\",\\n      \"standardized_file_name\": \"padg-21_18_padg_2019-21082019-peraturan_anggota_dewan_gubernur_nomor_21_18_padg_2019_tentang_implementasi_standar_nasional_quick_response_code_untuk_pembayaran\",\\n      \"page_number\": \"6\",\\n      \"relevance_score\": 0.99960333\\n    },\\n    \"page_content\": \"(3) \\\\nUsulan dari Lembaga Standar sebagaimana dimaksud \\\\npada ayat (2) harus disampaikan kepada Bank Indonesia \\\\nuntuk memperoleh persetujuan. \\\\n \\\\nPasal 8  \\\\n(1) \\\\nNominal \\\\nTransaksi \\\\nQRIS \\\\ndibatasi \\\\npaling \\\\nbanyak \\\\nRp2.000.000,00 (dua juta rupiah) per transaksi. \\\\n(2) \\\\nPenerbit dapat menetapkan batas nominal kumulatif \\\\nharian dan/atau bulanan atas Transaksi QRIS yang \\\\ndilakukan oleh masing-masing Pengguna QRIS.  \\\\n(3) \\\\nBatas nominal kumulatif sebagaimana dimaksud pada \\\\nayat \\\\n(2) \\\\nditetapkan \\\\ndengan \\\\nmempertimbangkan \\\\nmanajemen risiko Penerbit. \\\\n \\\\nPasal 9  \\\\n(1) \\\\nSkema dan biaya pemrosesan Transaksi QRIS ditetapkan \\\\noleh Bank Indonesia.\"\\n  },\\n  {\\n    \"metadata\": {\\n      \"id\": \"doc:bi:f624898b802a48af99ba553696dcad05\",\\n      \"file_id\": \"ddf6da4f\",\\n      \"title\": \"REGULATION OF BOARD OF MEMBER OF GOVERNORS NUMBER 21/18/PADG/2019 ON IMPLEMENTATION OF NATIONAL STANDARD ON QUICK RESPONSE CODE FOR PAYMENT\",\\n      \"file_link\": \"https://www.bi.go.id/en/publikasi/peraturan/Documents/PADG_211819.pdf\",\\n      \"date\": \"21 August 2019\",\\n      \"type_of_regulation\": \"Member Of The Board Of Governors Regulation\",\\n      \"sector\": \"Payment System And Rupiah Management\",\\n      \"standardized_extracted_file_name\": \"\",\\n      \"standardized_file_name\": \"padg-21_18_padg_2019-21082019-regulation_of_board_of_member_of_governors_number_21_18_padg_2019_on_implementation_of_national_standard_on_quick_response_code_for_payment\",\\n      \"page_number\": \"6\",\\n      \"relevance_score\": 0.99608517\\n    },\\n    \"page_content\": \"6 \\\\nserver-based storage medium. \\\\n(2) \\\\nThe usage of sources of fund and/or payment instruments \\\\nas referred to in paragraph (1) is conducted based on the \\\\nproposal from Standard Agency.  \\\\n(3) \\\\nThe proposal from Standard Agency as referred to in \\\\nparagraph (2) must be submitted to Bank Indonesia for \\\\nobtaining an approval. \\\\n \\\\nArticle 8 \\\\n \\\\n(1) \\\\nQRIS Transaction nominal is limited to the highest of \\\\nRp2,000,000.00 (two million rupiah) per transaction. \\\\n(2) \\\\nThe  Issuer may determine the daily and/or monthly \\\\ncumulative nominal limit of QRIS Transactions made by \\\\neach QRIS User.   \\\\n(3) \\\\nThe cumulative nominal limit as referred to in paragraph \\\\n(2) is determined by considering risk management of the \\\\nIssuer. \\\\n \\\\nArticle 9 \\\\n \\\\n(1) \\\\nScheme and fee of QRIS Transaction processing is \\\\ndesignated  by Bank Indonesia. \\\\n(2) \\\\nIn designating the scheme and fee of QRIS Transaction \\\\nprocessing as referred to in paragraph (1), Bank Indonesia \\\\nmay consider recommendations from the Standard Agency.\"\\n  }\\n]'}"
      ]
     },
     "execution_count": 8,
     "metadata": {},
     "output_type": "execute_result"
    }
   ],
   "source": [
    "from chain.rag_chain import get_response\n",
    "\n",
    "response = get_response(\n",
    "    chain=chain_history,\n",
    "    question=\"Berapa batas transaksi oleh qris?\",\n",
    "    user_id=USER_ID,\n",
    "    conversation_id=CONVERSATION_ID\n",
    ")\n",
    "\n",
    "response"
   ]
  },
  {
   "cell_type": "markdown",
   "metadata": {},
   "source": [
    "#### **Chat Store Monitor**"
   ]
  },
  {
   "cell_type": "code",
   "execution_count": 9,
   "metadata": {},
   "outputs": [
    {
     "name": "stdout",
     "output_type": "stream",
     "text": [
      "Human: What is the maximum duration in working days within which Bank Indonesia must notify the Professional Certification Agency about the decision regarding their application as mentioned in Article 21?\n",
      "AI: The maximum duration in working days within which Bank Indonesia must notify the Professional Certification Agency about the decision regarding their application as mentioned in Article 21 is not mentioned in the provided context.\n",
      "Human: What is the minimum number of services that LAPS-SK must provide to obtain approval from Bank Indonesia?\n",
      "AI: LAPS-SK needs to provide 5 services to obtain approval from Bank Indonesia.\n",
      "\n",
      "Source: PBI LAPS-SK (Peraturan Bank Indonesia)\n",
      "Human: What is the effective date of the Bank Indonesia Regulation Number 17/2/PBI/2015 concerning Interbank Offered Rates?\n",
      "AI: Bank Indonesia Regulation Number 17/2/PBI/2015 does not exist in the provided context.\n",
      "Human: Berapa batas transaksi oleh qris?\n",
      "AI: Batas transaksi oleh QRIS adalah paling banyak Rp2.000.000,00 (dua juta rupiah) per transaksi.\n",
      "\n",
      "Source: PERATURAN ANGGOTA DEWAN GUBERNUR NOMOR 21/18/PADG/2019 TENTANG IMPLEMENTASI STANDAR NASIONAL QUICK RESPONSE CODE UNTUK PEMBAYARAN.\n",
      "[Link to the regulation](https://www.bi.go.id/id/publikasi/peraturan/Documents/faq_padg_211819.pdf#page=2)\n"
     ]
    }
   ],
   "source": [
    "# to print chat history\n",
    "print(chat_store.get_session_history(user_id=USER_ID, conversation_id=CONVERSATION_ID))"
   ]
  },
  {
   "cell_type": "code",
   "execution_count": 10,
   "metadata": {},
   "outputs": [],
   "source": [
    "# to make the chat history empty\n",
    "chat_store.clear_all()"
   ]
  },
  {
   "cell_type": "markdown",
   "metadata": {},
   "source": [
    "#### **Evaluation**"
   ]
  },
  {
   "cell_type": "code",
   "execution_count": 11,
   "metadata": {},
   "outputs": [],
   "source": [
    "from constant.bi.question import QA_PAIRS\n",
    "\n",
    "eval_questions = []\n",
    "eval_answers = []\n",
    "\n",
    "for lang in [\"EN\", \"ID\"]:\n",
    "  for k,v in QA_PAIRS[lang].items():\n",
    "    eval_questions.append(v[\"question\"])\n",
    "    eval_answers.append(v[\"answer\"])"
   ]
  },
  {
   "cell_type": "code",
   "execution_count": 12,
   "metadata": {},
   "outputs": [
    {
     "name": "stderr",
     "output_type": "stream",
     "text": [
      "Metadata key page_number not found in metadata. Setting to None. \n",
      "Metadata fields defined for this instance: ['file_id', 'title', 'file_name', 'file_link', 'date', 'type_of_regulation', 'sector', 'standardized_extracted_file_name', 'standardized_file_name', 'page_number']\n",
      "Metadata key page_number not found in metadata. Setting to None. \n",
      "Metadata fields defined for this instance: ['file_id', 'title', 'file_name', 'file_link', 'date', 'type_of_regulation', 'sector', 'standardized_extracted_file_name', 'standardized_file_name', 'page_number']\n",
      "Metadata key page_number not found in metadata. Setting to None. \n",
      "Metadata fields defined for this instance: ['file_id', 'title', 'file_name', 'file_link', 'date', 'type_of_regulation', 'sector', 'standardized_extracted_file_name', 'standardized_file_name', 'page_number']\n",
      "Metadata key page_number not found in metadata. Setting to None. \n",
      "Metadata fields defined for this instance: ['file_id', 'title', 'file_name', 'file_link', 'date', 'type_of_regulation', 'sector', 'standardized_extracted_file_name', 'standardized_file_name', 'page_number']\n",
      "Metadata key page_number not found in metadata. Setting to None. \n",
      "Metadata fields defined for this instance: ['file_id', 'title', 'file_name', 'file_link', 'date', 'type_of_regulation', 'sector', 'standardized_extracted_file_name', 'standardized_file_name', 'page_number']\n",
      "Metadata key page_number not found in metadata. Setting to None. \n",
      "Metadata fields defined for this instance: ['file_id', 'title', 'file_name', 'file_link', 'date', 'type_of_regulation', 'sector', 'standardized_extracted_file_name', 'standardized_file_name', 'page_number']\n"
     ]
    },
    {
     "ename": "KeyboardInterrupt",
     "evalue": "",
     "output_type": "error",
     "traceback": [
      "\u001b[1;31m---------------------------------------------------------------------------\u001b[0m",
      "\u001b[1;31mKeyboardInterrupt\u001b[0m                         Traceback (most recent call last)",
      "Cell \u001b[1;32mIn[12], line 11\u001b[0m\n\u001b[0;32m      8\u001b[0m ground_truths \u001b[38;5;241m=\u001b[39m eval_answers\n\u001b[0;32m     10\u001b[0m \u001b[38;5;28;01mfor\u001b[39;00m query \u001b[38;5;129;01min\u001b[39;00m queries:\n\u001b[1;32m---> 11\u001b[0m     result \u001b[38;5;241m=\u001b[39m \u001b[43mget_response\u001b[49m\u001b[43m(\u001b[49m\n\u001b[0;32m     12\u001b[0m \u001b[43m        \u001b[49m\u001b[43mchain\u001b[49m\u001b[38;5;241;43m=\u001b[39;49m\u001b[43mchain_history\u001b[49m\u001b[43m,\u001b[49m\n\u001b[0;32m     13\u001b[0m \u001b[43m        \u001b[49m\u001b[43mquestion\u001b[49m\u001b[38;5;241;43m=\u001b[39;49m\u001b[43mquery\u001b[49m\u001b[43m,\u001b[49m\n\u001b[0;32m     14\u001b[0m \u001b[43m        \u001b[49m\u001b[43muser_id\u001b[49m\u001b[38;5;241;43m=\u001b[39;49m\u001b[43mUSER_ID\u001b[49m\u001b[43m,\u001b[49m\n\u001b[0;32m     15\u001b[0m \u001b[43m        \u001b[49m\u001b[43mconversation_id\u001b[49m\u001b[38;5;241;43m=\u001b[39;49m\u001b[43mCONVERSATION_ID\u001b[49m\n\u001b[0;32m     16\u001b[0m \u001b[43m    \u001b[49m\u001b[43m)\u001b[49m\n\u001b[0;32m     18\u001b[0m     results\u001b[38;5;241m.\u001b[39mappend(result[\u001b[38;5;124m'\u001b[39m\u001b[38;5;124manswer\u001b[39m\u001b[38;5;124m'\u001b[39m])\n\u001b[0;32m     19\u001b[0m     sources \u001b[38;5;241m=\u001b[39m result[\u001b[38;5;124m\"\u001b[39m\u001b[38;5;124mcontext\u001b[39m\u001b[38;5;124m\"\u001b[39m]\n",
      "File \u001b[1;32mc:\\Users\\arkan\\Downloads\\Work\\ocbc\\ocbc_compliance_gpt\\chain\\rag_chain.py:76\u001b[0m, in \u001b[0;36mget_response\u001b[1;34m(question, chain, user_id, conversation_id)\u001b[0m\n\u001b[0;32m     75\u001b[0m \u001b[38;5;28;01mdef\u001b[39;00m \u001b[38;5;21mget_response\u001b[39m(question: \u001b[38;5;28mstr\u001b[39m, chain, user_id: \u001b[38;5;28mstr\u001b[39m, conversation_id: \u001b[38;5;28mstr\u001b[39m):\n\u001b[1;32m---> 76\u001b[0m     response \u001b[38;5;241m=\u001b[39m \u001b[43mchain\u001b[49m\u001b[38;5;241;43m.\u001b[39;49m\u001b[43minvoke\u001b[49m\u001b[43m(\u001b[49m\n\u001b[0;32m     77\u001b[0m \u001b[43m        \u001b[49m\u001b[43m{\u001b[49m\u001b[38;5;124;43m\"\u001b[39;49m\u001b[38;5;124;43mquestion\u001b[39;49m\u001b[38;5;124;43m\"\u001b[39;49m\u001b[43m:\u001b[49m\u001b[43m \u001b[49m\u001b[43mquestion\u001b[49m\u001b[43m}\u001b[49m\u001b[43m,\u001b[49m\n\u001b[0;32m     78\u001b[0m \u001b[43m        \u001b[49m\u001b[43mconfig\u001b[49m\u001b[38;5;241;43m=\u001b[39;49m\u001b[43m{\u001b[49m\n\u001b[0;32m     79\u001b[0m \u001b[43m            \u001b[49m\u001b[38;5;124;43m\"\u001b[39;49m\u001b[38;5;124;43mconfigurable\u001b[39;49m\u001b[38;5;124;43m\"\u001b[39;49m\u001b[43m:\u001b[49m\u001b[43m \u001b[49m\u001b[43m{\u001b[49m\u001b[38;5;124;43m\"\u001b[39;49m\u001b[38;5;124;43muser_id\u001b[39;49m\u001b[38;5;124;43m\"\u001b[39;49m\u001b[43m:\u001b[49m\u001b[43m \u001b[49m\u001b[43muser_id\u001b[49m\u001b[43m,\u001b[49m\u001b[43m \u001b[49m\u001b[38;5;124;43m\"\u001b[39;49m\u001b[38;5;124;43mconversation_id\u001b[39;49m\u001b[38;5;124;43m\"\u001b[39;49m\u001b[43m:\u001b[49m\u001b[43m \u001b[49m\u001b[43mconversation_id\u001b[49m\u001b[43m}\u001b[49m\n\u001b[0;32m     80\u001b[0m \u001b[43m        \u001b[49m\u001b[43m}\u001b[49m\u001b[43m,\u001b[49m\n\u001b[0;32m     81\u001b[0m \u001b[43m    \u001b[49m\u001b[43m)\u001b[49m\n\u001b[0;32m     82\u001b[0m     \u001b[38;5;28;01mreturn\u001b[39;00m response\n",
      "File \u001b[1;32mc:\\Users\\arkan\\Downloads\\Work\\ocbc\\ocbc_compliance_gpt\\env\\lib\\site-packages\\langchain_core\\runnables\\base.py:5057\u001b[0m, in \u001b[0;36mRunnableBindingBase.invoke\u001b[1;34m(self, input, config, **kwargs)\u001b[0m\n\u001b[0;32m   5051\u001b[0m \u001b[38;5;28;01mdef\u001b[39;00m \u001b[38;5;21minvoke\u001b[39m(\n\u001b[0;32m   5052\u001b[0m     \u001b[38;5;28mself\u001b[39m,\n\u001b[0;32m   5053\u001b[0m     \u001b[38;5;28minput\u001b[39m: Input,\n\u001b[0;32m   5054\u001b[0m     config: Optional[RunnableConfig] \u001b[38;5;241m=\u001b[39m \u001b[38;5;28;01mNone\u001b[39;00m,\n\u001b[0;32m   5055\u001b[0m     \u001b[38;5;241m*\u001b[39m\u001b[38;5;241m*\u001b[39mkwargs: Optional[Any],\n\u001b[0;32m   5056\u001b[0m ) \u001b[38;5;241m-\u001b[39m\u001b[38;5;241m>\u001b[39m Output:\n\u001b[1;32m-> 5057\u001b[0m     \u001b[38;5;28;01mreturn\u001b[39;00m \u001b[38;5;28mself\u001b[39m\u001b[38;5;241m.\u001b[39mbound\u001b[38;5;241m.\u001b[39minvoke(\n\u001b[0;32m   5058\u001b[0m         \u001b[38;5;28minput\u001b[39m,\n\u001b[0;32m   5059\u001b[0m         \u001b[38;5;28mself\u001b[39m\u001b[38;5;241m.\u001b[39m_merge_configs(config),\n\u001b[0;32m   5060\u001b[0m         \u001b[38;5;241m*\u001b[39m\u001b[38;5;241m*\u001b[39m{\u001b[38;5;241m*\u001b[39m\u001b[38;5;241m*\u001b[39m\u001b[38;5;28mself\u001b[39m\u001b[38;5;241m.\u001b[39mkwargs, \u001b[38;5;241m*\u001b[39m\u001b[38;5;241m*\u001b[39mkwargs},\n\u001b[0;32m   5061\u001b[0m     )\n",
      "File \u001b[1;32mc:\\Users\\arkan\\Downloads\\Work\\ocbc\\ocbc_compliance_gpt\\env\\lib\\site-packages\\langchain_core\\runnables\\base.py:5057\u001b[0m, in \u001b[0;36mRunnableBindingBase.invoke\u001b[1;34m(self, input, config, **kwargs)\u001b[0m\n\u001b[0;32m   5051\u001b[0m \u001b[38;5;28;01mdef\u001b[39;00m \u001b[38;5;21minvoke\u001b[39m(\n\u001b[0;32m   5052\u001b[0m     \u001b[38;5;28mself\u001b[39m,\n\u001b[0;32m   5053\u001b[0m     \u001b[38;5;28minput\u001b[39m: Input,\n\u001b[0;32m   5054\u001b[0m     config: Optional[RunnableConfig] \u001b[38;5;241m=\u001b[39m \u001b[38;5;28;01mNone\u001b[39;00m,\n\u001b[0;32m   5055\u001b[0m     \u001b[38;5;241m*\u001b[39m\u001b[38;5;241m*\u001b[39mkwargs: Optional[Any],\n\u001b[0;32m   5056\u001b[0m ) \u001b[38;5;241m-\u001b[39m\u001b[38;5;241m>\u001b[39m Output:\n\u001b[1;32m-> 5057\u001b[0m     \u001b[38;5;28;01mreturn\u001b[39;00m \u001b[38;5;28mself\u001b[39m\u001b[38;5;241m.\u001b[39mbound\u001b[38;5;241m.\u001b[39minvoke(\n\u001b[0;32m   5058\u001b[0m         \u001b[38;5;28minput\u001b[39m,\n\u001b[0;32m   5059\u001b[0m         \u001b[38;5;28mself\u001b[39m\u001b[38;5;241m.\u001b[39m_merge_configs(config),\n\u001b[0;32m   5060\u001b[0m         \u001b[38;5;241m*\u001b[39m\u001b[38;5;241m*\u001b[39m{\u001b[38;5;241m*\u001b[39m\u001b[38;5;241m*\u001b[39m\u001b[38;5;28mself\u001b[39m\u001b[38;5;241m.\u001b[39mkwargs, \u001b[38;5;241m*\u001b[39m\u001b[38;5;241m*\u001b[39mkwargs},\n\u001b[0;32m   5061\u001b[0m     )\n",
      "File \u001b[1;32mc:\\Users\\arkan\\Downloads\\Work\\ocbc\\ocbc_compliance_gpt\\env\\lib\\site-packages\\langchain_core\\runnables\\base.py:2875\u001b[0m, in \u001b[0;36mRunnableSequence.invoke\u001b[1;34m(self, input, config, **kwargs)\u001b[0m\n\u001b[0;32m   2873\u001b[0m             \u001b[38;5;28minput\u001b[39m \u001b[38;5;241m=\u001b[39m step\u001b[38;5;241m.\u001b[39minvoke(\u001b[38;5;28minput\u001b[39m, config, \u001b[38;5;241m*\u001b[39m\u001b[38;5;241m*\u001b[39mkwargs)\n\u001b[0;32m   2874\u001b[0m         \u001b[38;5;28;01melse\u001b[39;00m:\n\u001b[1;32m-> 2875\u001b[0m             \u001b[38;5;28minput\u001b[39m \u001b[38;5;241m=\u001b[39m \u001b[43mstep\u001b[49m\u001b[38;5;241;43m.\u001b[39;49m\u001b[43minvoke\u001b[49m\u001b[43m(\u001b[49m\u001b[38;5;28;43minput\u001b[39;49m\u001b[43m,\u001b[49m\u001b[43m \u001b[49m\u001b[43mconfig\u001b[49m\u001b[43m)\u001b[49m\n\u001b[0;32m   2876\u001b[0m \u001b[38;5;66;03m# finish the root run\u001b[39;00m\n\u001b[0;32m   2877\u001b[0m \u001b[38;5;28;01mexcept\u001b[39;00m \u001b[38;5;167;01mBaseException\u001b[39;00m \u001b[38;5;28;01mas\u001b[39;00m e:\n",
      "File \u001b[1;32mc:\\Users\\arkan\\Downloads\\Work\\ocbc\\ocbc_compliance_gpt\\env\\lib\\site-packages\\langchain_core\\runnables\\branch.py:239\u001b[0m, in \u001b[0;36mRunnableBranch.invoke\u001b[1;34m(self, input, config, **kwargs)\u001b[0m\n\u001b[0;32m    237\u001b[0m             \u001b[38;5;28;01mbreak\u001b[39;00m\n\u001b[0;32m    238\u001b[0m     \u001b[38;5;28;01melse\u001b[39;00m:\n\u001b[1;32m--> 239\u001b[0m         output \u001b[38;5;241m=\u001b[39m \u001b[38;5;28mself\u001b[39m\u001b[38;5;241m.\u001b[39mdefault\u001b[38;5;241m.\u001b[39minvoke(\n\u001b[0;32m    240\u001b[0m             \u001b[38;5;28minput\u001b[39m,\n\u001b[0;32m    241\u001b[0m             config\u001b[38;5;241m=\u001b[39mpatch_config(\n\u001b[0;32m    242\u001b[0m                 config, callbacks\u001b[38;5;241m=\u001b[39mrun_manager\u001b[38;5;241m.\u001b[39mget_child(tag\u001b[38;5;241m=\u001b[39m\u001b[38;5;124m\"\u001b[39m\u001b[38;5;124mbranch:default\u001b[39m\u001b[38;5;124m\"\u001b[39m)\n\u001b[0;32m    243\u001b[0m             ),\n\u001b[0;32m    244\u001b[0m             \u001b[38;5;241m*\u001b[39m\u001b[38;5;241m*\u001b[39mkwargs,\n\u001b[0;32m    245\u001b[0m         )\n\u001b[0;32m    246\u001b[0m \u001b[38;5;28;01mexcept\u001b[39;00m \u001b[38;5;167;01mBaseException\u001b[39;00m \u001b[38;5;28;01mas\u001b[39;00m e:\n\u001b[0;32m    247\u001b[0m     run_manager\u001b[38;5;241m.\u001b[39mon_chain_error(e)\n",
      "File \u001b[1;32mc:\\Users\\arkan\\Downloads\\Work\\ocbc\\ocbc_compliance_gpt\\env\\lib\\site-packages\\langchain_core\\runnables\\base.py:5057\u001b[0m, in \u001b[0;36mRunnableBindingBase.invoke\u001b[1;34m(self, input, config, **kwargs)\u001b[0m\n\u001b[0;32m   5051\u001b[0m \u001b[38;5;28;01mdef\u001b[39;00m \u001b[38;5;21minvoke\u001b[39m(\n\u001b[0;32m   5052\u001b[0m     \u001b[38;5;28mself\u001b[39m,\n\u001b[0;32m   5053\u001b[0m     \u001b[38;5;28minput\u001b[39m: Input,\n\u001b[0;32m   5054\u001b[0m     config: Optional[RunnableConfig] \u001b[38;5;241m=\u001b[39m \u001b[38;5;28;01mNone\u001b[39;00m,\n\u001b[0;32m   5055\u001b[0m     \u001b[38;5;241m*\u001b[39m\u001b[38;5;241m*\u001b[39mkwargs: Optional[Any],\n\u001b[0;32m   5056\u001b[0m ) \u001b[38;5;241m-\u001b[39m\u001b[38;5;241m>\u001b[39m Output:\n\u001b[1;32m-> 5057\u001b[0m     \u001b[38;5;28;01mreturn\u001b[39;00m \u001b[38;5;28mself\u001b[39m\u001b[38;5;241m.\u001b[39mbound\u001b[38;5;241m.\u001b[39minvoke(\n\u001b[0;32m   5058\u001b[0m         \u001b[38;5;28minput\u001b[39m,\n\u001b[0;32m   5059\u001b[0m         \u001b[38;5;28mself\u001b[39m\u001b[38;5;241m.\u001b[39m_merge_configs(config),\n\u001b[0;32m   5060\u001b[0m         \u001b[38;5;241m*\u001b[39m\u001b[38;5;241m*\u001b[39m{\u001b[38;5;241m*\u001b[39m\u001b[38;5;241m*\u001b[39m\u001b[38;5;28mself\u001b[39m\u001b[38;5;241m.\u001b[39mkwargs, \u001b[38;5;241m*\u001b[39m\u001b[38;5;241m*\u001b[39mkwargs},\n\u001b[0;32m   5061\u001b[0m     )\n",
      "File \u001b[1;32mc:\\Users\\arkan\\Downloads\\Work\\ocbc\\ocbc_compliance_gpt\\env\\lib\\site-packages\\langchain_core\\runnables\\base.py:2875\u001b[0m, in \u001b[0;36mRunnableSequence.invoke\u001b[1;34m(self, input, config, **kwargs)\u001b[0m\n\u001b[0;32m   2873\u001b[0m             \u001b[38;5;28minput\u001b[39m \u001b[38;5;241m=\u001b[39m step\u001b[38;5;241m.\u001b[39minvoke(\u001b[38;5;28minput\u001b[39m, config, \u001b[38;5;241m*\u001b[39m\u001b[38;5;241m*\u001b[39mkwargs)\n\u001b[0;32m   2874\u001b[0m         \u001b[38;5;28;01melse\u001b[39;00m:\n\u001b[1;32m-> 2875\u001b[0m             \u001b[38;5;28minput\u001b[39m \u001b[38;5;241m=\u001b[39m \u001b[43mstep\u001b[49m\u001b[38;5;241;43m.\u001b[39;49m\u001b[43minvoke\u001b[49m\u001b[43m(\u001b[49m\u001b[38;5;28;43minput\u001b[39;49m\u001b[43m,\u001b[49m\u001b[43m \u001b[49m\u001b[43mconfig\u001b[49m\u001b[43m)\u001b[49m\n\u001b[0;32m   2876\u001b[0m \u001b[38;5;66;03m# finish the root run\u001b[39;00m\n\u001b[0;32m   2877\u001b[0m \u001b[38;5;28;01mexcept\u001b[39;00m \u001b[38;5;167;01mBaseException\u001b[39;00m \u001b[38;5;28;01mas\u001b[39;00m e:\n",
      "File \u001b[1;32mc:\\Users\\arkan\\Downloads\\Work\\ocbc\\ocbc_compliance_gpt\\env\\lib\\site-packages\\langchain_core\\runnables\\base.py:3562\u001b[0m, in \u001b[0;36mRunnableParallel.invoke\u001b[1;34m(self, input, config)\u001b[0m\n\u001b[0;32m   3549\u001b[0m     \u001b[38;5;28;01mwith\u001b[39;00m get_executor_for_config(config) \u001b[38;5;28;01mas\u001b[39;00m executor:\n\u001b[0;32m   3550\u001b[0m         futures \u001b[38;5;241m=\u001b[39m [\n\u001b[0;32m   3551\u001b[0m             executor\u001b[38;5;241m.\u001b[39msubmit(\n\u001b[0;32m   3552\u001b[0m                 step\u001b[38;5;241m.\u001b[39minvoke,\n\u001b[1;32m   (...)\u001b[0m\n\u001b[0;32m   3560\u001b[0m             \u001b[38;5;28;01mfor\u001b[39;00m key, step \u001b[38;5;129;01min\u001b[39;00m steps\u001b[38;5;241m.\u001b[39mitems()\n\u001b[0;32m   3561\u001b[0m         ]\n\u001b[1;32m-> 3562\u001b[0m         output \u001b[38;5;241m=\u001b[39m {key: future\u001b[38;5;241m.\u001b[39mresult() \u001b[38;5;28;01mfor\u001b[39;00m key, future \u001b[38;5;129;01min\u001b[39;00m \u001b[38;5;28mzip\u001b[39m(steps, futures)}\n\u001b[0;32m   3563\u001b[0m \u001b[38;5;66;03m# finish the root run\u001b[39;00m\n\u001b[0;32m   3564\u001b[0m \u001b[38;5;28;01mexcept\u001b[39;00m \u001b[38;5;167;01mBaseException\u001b[39;00m \u001b[38;5;28;01mas\u001b[39;00m e:\n",
      "File \u001b[1;32mc:\\Users\\arkan\\Downloads\\Work\\ocbc\\ocbc_compliance_gpt\\env\\lib\\site-packages\\langchain_core\\runnables\\base.py:3562\u001b[0m, in \u001b[0;36m<dictcomp>\u001b[1;34m(.0)\u001b[0m\n\u001b[0;32m   3549\u001b[0m     \u001b[38;5;28;01mwith\u001b[39;00m get_executor_for_config(config) \u001b[38;5;28;01mas\u001b[39;00m executor:\n\u001b[0;32m   3550\u001b[0m         futures \u001b[38;5;241m=\u001b[39m [\n\u001b[0;32m   3551\u001b[0m             executor\u001b[38;5;241m.\u001b[39msubmit(\n\u001b[0;32m   3552\u001b[0m                 step\u001b[38;5;241m.\u001b[39minvoke,\n\u001b[1;32m   (...)\u001b[0m\n\u001b[0;32m   3560\u001b[0m             \u001b[38;5;28;01mfor\u001b[39;00m key, step \u001b[38;5;129;01min\u001b[39;00m steps\u001b[38;5;241m.\u001b[39mitems()\n\u001b[0;32m   3561\u001b[0m         ]\n\u001b[1;32m-> 3562\u001b[0m         output \u001b[38;5;241m=\u001b[39m {key: \u001b[43mfuture\u001b[49m\u001b[38;5;241;43m.\u001b[39;49m\u001b[43mresult\u001b[49m\u001b[43m(\u001b[49m\u001b[43m)\u001b[49m \u001b[38;5;28;01mfor\u001b[39;00m key, future \u001b[38;5;129;01min\u001b[39;00m \u001b[38;5;28mzip\u001b[39m(steps, futures)}\n\u001b[0;32m   3563\u001b[0m \u001b[38;5;66;03m# finish the root run\u001b[39;00m\n\u001b[0;32m   3564\u001b[0m \u001b[38;5;28;01mexcept\u001b[39;00m \u001b[38;5;167;01mBaseException\u001b[39;00m \u001b[38;5;28;01mas\u001b[39;00m e:\n",
      "File \u001b[1;32m~\\AppData\\Local\\Programs\\Python\\Python39\\lib\\concurrent\\futures\\_base.py:441\u001b[0m, in \u001b[0;36mFuture.result\u001b[1;34m(self, timeout)\u001b[0m\n\u001b[0;32m    438\u001b[0m \u001b[38;5;28;01melif\u001b[39;00m \u001b[38;5;28mself\u001b[39m\u001b[38;5;241m.\u001b[39m_state \u001b[38;5;241m==\u001b[39m FINISHED:\n\u001b[0;32m    439\u001b[0m     \u001b[38;5;28;01mreturn\u001b[39;00m \u001b[38;5;28mself\u001b[39m\u001b[38;5;241m.\u001b[39m__get_result()\n\u001b[1;32m--> 441\u001b[0m \u001b[38;5;28;43mself\u001b[39;49m\u001b[38;5;241;43m.\u001b[39;49m\u001b[43m_condition\u001b[49m\u001b[38;5;241;43m.\u001b[39;49m\u001b[43mwait\u001b[49m\u001b[43m(\u001b[49m\u001b[43mtimeout\u001b[49m\u001b[43m)\u001b[49m\n\u001b[0;32m    443\u001b[0m \u001b[38;5;28;01mif\u001b[39;00m \u001b[38;5;28mself\u001b[39m\u001b[38;5;241m.\u001b[39m_state \u001b[38;5;129;01min\u001b[39;00m [CANCELLED, CANCELLED_AND_NOTIFIED]:\n\u001b[0;32m    444\u001b[0m     \u001b[38;5;28;01mraise\u001b[39;00m CancelledError()\n",
      "File \u001b[1;32m~\\AppData\\Local\\Programs\\Python\\Python39\\lib\\threading.py:312\u001b[0m, in \u001b[0;36mCondition.wait\u001b[1;34m(self, timeout)\u001b[0m\n\u001b[0;32m    310\u001b[0m \u001b[38;5;28;01mtry\u001b[39;00m:    \u001b[38;5;66;03m# restore state no matter what (e.g., KeyboardInterrupt)\u001b[39;00m\n\u001b[0;32m    311\u001b[0m     \u001b[38;5;28;01mif\u001b[39;00m timeout \u001b[38;5;129;01mis\u001b[39;00m \u001b[38;5;28;01mNone\u001b[39;00m:\n\u001b[1;32m--> 312\u001b[0m         \u001b[43mwaiter\u001b[49m\u001b[38;5;241;43m.\u001b[39;49m\u001b[43macquire\u001b[49m\u001b[43m(\u001b[49m\u001b[43m)\u001b[49m\n\u001b[0;32m    313\u001b[0m         gotit \u001b[38;5;241m=\u001b[39m \u001b[38;5;28;01mTrue\u001b[39;00m\n\u001b[0;32m    314\u001b[0m     \u001b[38;5;28;01melse\u001b[39;00m:\n",
      "\u001b[1;31mKeyboardInterrupt\u001b[0m: "
     ]
    }
   ],
   "source": [
    "import time\n",
    "from datasets import Dataset\n",
    "from chain.rag_chain import get_response\n",
    "\n",
    "results = []\n",
    "contexts = []\n",
    "queries = eval_questions\n",
    "ground_truths = eval_answers\n",
    "\n",
    "for query in queries:\n",
    "    result = get_response(\n",
    "        chain=chain_history,\n",
    "        question=query,\n",
    "        user_id=USER_ID,\n",
    "        conversation_id=CONVERSATION_ID\n",
    "    )\n",
    "\n",
    "    results.append(result['answer'])\n",
    "    sources = result[\"context\"]\n",
    "    final_sources = list(eval(sources))\n",
    "    contents = []\n",
    "    for source in final_sources:\n",
    "        contents.append(source.get('page_content'))\n",
    "    contexts.append(contents)\n",
    "\n",
    "    time.sleep(3)\n",
    "\n",
    "d = {\n",
    "    \"question\": queries,\n",
    "    \"answer\": results,\n",
    "    \"contexts\": contexts,\n",
    "    \"ground_truth\": ground_truths\n",
    "}\n",
    "\n",
    "dataset = Dataset.from_dict(d)"
   ]
  },
  {
   "cell_type": "code",
   "execution_count": 13,
   "metadata": {},
   "outputs": [
    {
     "ename": "NameError",
     "evalue": "name 'd' is not defined",
     "output_type": "error",
     "traceback": [
      "\u001b[1;31m---------------------------------------------------------------------------\u001b[0m",
      "\u001b[1;31mNameError\u001b[0m                                 Traceback (most recent call last)",
      "Cell \u001b[1;32mIn[13], line 4\u001b[0m\n\u001b[0;32m      1\u001b[0m \u001b[38;5;28;01mimport\u001b[39;00m \u001b[38;5;21;01mjson\u001b[39;00m\n\u001b[0;32m      3\u001b[0m \u001b[38;5;28;01mwith\u001b[39;00m \u001b[38;5;28mopen\u001b[39m(\u001b[38;5;124m\"\u001b[39m\u001b[38;5;124m./constant/ojk/dict_eval.json\u001b[39m\u001b[38;5;124m\"\u001b[39m, \u001b[38;5;124m\"\u001b[39m\u001b[38;5;124mw\u001b[39m\u001b[38;5;124m\"\u001b[39m) \u001b[38;5;28;01mas\u001b[39;00m outfile: \n\u001b[1;32m----> 4\u001b[0m     json\u001b[38;5;241m.\u001b[39mdump(\u001b[43md\u001b[49m, outfile)\n",
      "\u001b[1;31mNameError\u001b[0m: name 'd' is not defined"
     ]
    }
   ],
   "source": [
    "import json\n",
    "\n",
    "with open(\"constant/bi/dict_eval.json\", \"w\") as outfile: \n",
    "    json.dump(d, outfile)"
   ]
  },
  {
   "cell_type": "code",
   "execution_count": null,
   "metadata": {},
   "outputs": [],
   "source": [
    "with open('./constant/bi/dict_eval.json') as json_file:\n",
    "    d = json.load(json_file)"
   ]
  },
  {
   "cell_type": "code",
   "execution_count": null,
   "metadata": {},
   "outputs": [],
   "source": [
    "dataset = Dataset.from_dict(d)\n",
    "\n",
    "df = dataset.to_pandas()\n",
    "df.head()"
   ]
  },
  {
   "cell_type": "code",
   "execution_count": null,
   "metadata": {},
   "outputs": [],
   "source": [
    "from ragas.metrics import faithfulness, answer_relevancy, context_precision, context_recall, answer_similarity, answer_correctness\n",
    "from ragas.metrics.critique import harmfulness\n",
    "from ragas import evaluate\n",
    "\n",
    "score = evaluate(dataset, metrics=[faithfulness, answer_relevancy, context_precision, context_recall, answer_similarity, answer_correctness, harmfulness], llm=llm_model, embeddings=embed_model)"
   ]
  },
  {
   "cell_type": "code",
   "execution_count": null,
   "metadata": {},
   "outputs": [],
   "source": [
    "import numpy as np\n",
    "\n",
    "result_dict = df.to_dict(orient='index')\n",
    "\n",
    "# Convert any ndarray objects to list\n",
    "for key in result_dict:\n",
    "    for subkey in result_dict[key]:\n",
    "        if isinstance(result_dict[key][subkey], (np.ndarray, list)):\n",
    "            result_dict[key][subkey] = result_dict[key][subkey].tolist() if isinstance(result_dict[key][subkey], np.ndarray) else result_dict[key][subkey]\n",
    "\n",
    "# Save the dictionary to a JSON file\n",
    "with open(\"eval_results.json\", \"w\") as file:\n",
    "    json.dump(result_dict, file, indent=4)"
   ]
  },
  {
   "cell_type": "code",
   "execution_count": null,
   "metadata": {},
   "outputs": [],
   "source": [
    "for key,val in score.items():\n",
    "    print(f\"{key}: {val}\")"
   ]
  }
 ],
 "metadata": {
  "kernelspec": {
   "display_name": "chatbot-all",
   "language": "python",
   "name": "python3"
  },
  "language_info": {
   "codemirror_mode": {
    "name": "ipython",
    "version": 3
   },
   "file_extension": ".py",
   "mimetype": "text/x-python",
   "name": "python",
   "nbconvert_exporter": "python",
   "pygments_lexer": "ipython3",
   "version": "3.9.13"
  }
 },
 "nbformat": 4,
 "nbformat_minor": 2
}

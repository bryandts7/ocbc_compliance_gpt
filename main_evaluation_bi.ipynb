{
 "cells": [
  {
   "cell_type": "markdown",
   "metadata": {},
   "source": [
    "# **Compliance GPT with LangChain**"
   ]
  },
  {
   "cell_type": "markdown",
   "metadata": {},
   "source": [
    "## **Setup**"
   ]
  },
  {
   "cell_type": "code",
   "execution_count": 1,
   "metadata": {},
   "outputs": [
    {
     "data": {
      "text/plain": [
       "True"
      ]
     },
     "execution_count": 1,
     "metadata": {},
     "output_type": "execute_result"
    }
   ],
   "source": [
    "import nest_asyncio\n",
    "nest_asyncio.apply()\n",
    "\n",
    "from dotenv import load_dotenv\n",
    "load_dotenv()"
   ]
  },
  {
   "cell_type": "markdown",
   "metadata": {},
   "source": [
    "## **Config**"
   ]
  },
  {
   "cell_type": "code",
   "execution_count": 2,
   "metadata": {},
   "outputs": [],
   "source": [
    "from utils.config import get_config\n",
    "from utils.models import ModelName, get_model\n",
    "\n",
    "config = get_config()"
   ]
  },
  {
   "cell_type": "code",
   "execution_count": 3,
   "metadata": {},
   "outputs": [],
   "source": [
    "USER_ID = 'arkan'\n",
    "CONVERSATION_ID = 'arkan-2021-07-01-01'"
   ]
  },
  {
   "cell_type": "markdown",
   "metadata": {},
   "source": [
    "## **Define Model**"
   ]
  },
  {
   "cell_type": "code",
   "execution_count": 4,
   "metadata": {},
   "outputs": [],
   "source": [
    "model_name = ModelName.AZURE_OPENAI\n",
    "llm_model, embed_model = get_model(model_name=model_name, config=config)"
   ]
  },
  {
   "cell_type": "markdown",
   "metadata": {},
   "source": [
    "## **Load Vector Store Index**"
   ]
  },
  {
   "cell_type": "code",
   "execution_count": 5,
   "metadata": {},
   "outputs": [
    {
     "name": "stderr",
     "output_type": "stream",
     "text": [
      "c:\\Users\\arkan\\Downloads\\Work\\ocbc\\ocbc_compliance_gpt\\env\\lib\\site-packages\\pinecone\\data\\index.py:1: TqdmWarning: IProgress not found. Please update jupyter and ipywidgets. See https://ipywidgets.readthedocs.io/en/stable/user_install.html\n",
      "  from tqdm.autonotebook import tqdm\n"
     ]
    }
   ],
   "source": [
    "from databases.vector_store import RedisIndexManager\n",
    "\n",
    "redis = RedisIndexManager(index_name='bi', embed_model=embed_model, config=config, db_id=0)\n",
    "vector_store = redis.load_vector_index()"
   ]
  },
  {
   "cell_type": "markdown",
   "metadata": {},
   "source": [
    "## **Get Retriever**"
   ]
  },
  {
   "cell_type": "code",
   "execution_count": 6,
   "metadata": {},
   "outputs": [],
   "source": [
    "from retriever.retriever_bi.retriever_bi import get_retriever_bi\n",
    "\n",
    "retriever = get_retriever_bi(vector_store=vector_store, top_n=4, top_k=16, llm_model=llm_model, embed_model=embed_model, config=config)"
   ]
  },
  {
   "cell_type": "markdown",
   "metadata": {},
   "source": [
    "## **Create Chain**"
   ]
  },
  {
   "cell_type": "code",
   "execution_count": 7,
   "metadata": {},
   "outputs": [],
   "source": [
    "from constant.ojk.prompt import CONTEXTUALIZE_Q_PROMPT_STR, QA_SYSTEM_PROMPT_STR\n",
    "from databases.chat_store import RedisChatStore\n",
    "from chain.chain_bi.chain_bi import create_bi_chain\n",
    "from chain.rag_chain import create_chain_with_chat_history\n",
    "\n",
    "chat_store = RedisChatStore(k=4, config=config, db_id=1)\n",
    "\n",
    "chain = create_bi_chain(\n",
    "    contextualize_q_prompt_str=CONTEXTUALIZE_Q_PROMPT_STR,\n",
    "    qa_system_prompt_str=QA_SYSTEM_PROMPT_STR,\n",
    "    retriever=retriever,\n",
    "    llm_model=llm_model,\n",
    "    # chat_store=chat_store\n",
    ")\n",
    "\n",
    "chain_history = create_chain_with_chat_history(\n",
    "    final_chain=chain,\n",
    "    chat_store=chat_store\n",
    ")"
   ]
  },
  {
   "cell_type": "markdown",
   "metadata": {},
   "source": [
    "## **Evaluation**"
   ]
  },
  {
   "cell_type": "markdown",
   "metadata": {},
   "source": [
    "#### **Get Response**"
   ]
  },
  {
   "cell_type": "code",
   "execution_count": 8,
   "metadata": {},
   "outputs": [
    {
     "data": {
      "text/plain": [
       "{'rewrited question': 'Berapa batas transaksi oleh qris?',\n",
       " 'answer': 'Batas transaksi oleh QRIS adalah paling banyak Rp2.000.000,00 (dua juta rupiah) per transaksi.\\n\\nSource: PERATURAN ANGGOTA DEWAN GUBERNUR NOMOR 21/18/PADG/2019 TENTANG IMPLEMENTASI STANDAR NASIONAL QUICK RESPONSE CODE UNTUK PEMBAYARAN.\\n[Link to the regulation](https://www.bi.go.id/id/publikasi/peraturan/Documents/faq_padg_211819.pdf#page=2)',\n",
       " 'context': '[\\n  {\\n    \"metadata\": {\\n      \"id\": \"doc:bi:16680d3178ab4c4a9db1be4bba33d38d\",\\n      \"file_id\": \"db344534\",\\n      \"title\": \"PERATURAN ANGGOTA DEWAN GUBERNUR NOMOR 21/18/PADG/2019 TENTANG IMPLEMENTASI STANDAR NASIONAL QUICK RESPONSE CODE UNTUK PEMBAYARAN.\",\\n      \"file_link\": \"https://www.bi.go.id/id/publikasi/peraturan/Documents/faq_padg_211819.pdf\",\\n      \"date\": \"21 Agustus 2019\",\\n      \"type_of_regulation\": \"Peraturan Anggota Dewan Gubernur\",\\n      \"sector\": \"Sistem Pembayaran Dan Pengelolaan Uang Rupiah\",\\n      \"standardized_extracted_file_name\": \"\",\\n      \"standardized_file_name\": \"padg-21_18_padg_2019-21082019-peraturan_anggota_dewan_gubernur_nomor_21_18_padg_2019_tentang_implementasi_standar_nasional_quick_response_code_untuk_pembayaran\",\\n      \"page_number\": \"2\",\\n      \"relevance_score\": 0.9999097\\n    },\\n    \"page_content\": \"Apa saja sumber dana dan/atau instrumen pembayaran yang dapat digunakan pada transaksi QRIS?Transaksi QRIS menggunakan sumber dana berupa simpanan dan/atau instrumen pembayaran berupa kartu debet, kartu kredit, dan/atau uang elektronik yang menggunakan media penyimpanan server based. Penggunaan sumber dana dan/atau instrumen pembayaran diterapkanberdasarkan usulan dari Lembaga Standar yang disetujui Bank Indonesia.9.\\\\n Berapa batas nominal transaksi menggunakan QRIS?Nominal Transaksi QRIS dibatasi paling banyak sebesar Rp2.000.000,00 (dua juta rupiah) per transaksi. Penerbit dapat menetapkan batas nominal kumulatif harian\"\\n  },\\n  {\\n    \"metadata\": {\\n      \"id\": \"doc:bi:d1fd494129e2412490ccfc80a39f2606\",\\n      \"file_id\": \"33c86041\",\\n      \"title\": \"PERATURAN ANGGOTA DEWAN GUBERNUR NOMOR 23/8/PADG/2021 TENTANG PERUBAHAN ATAS PERATURAN ANGGOTA DEWAN GUBERNUR NOMOR 21/18/PADG/2019 TENTANG IMPLEMENTASI STANDAR NASIONAL QUICK RESPONSE CODE UNTUK PEMBAYARAN\",\\n      \"file_link\": \"https://www.bi.go.id/id/publikasi/peraturan/Documents/FAQ_PADG_230821.pdf\",\\n      \"date\": \"30 April 2021\",\\n      \"type_of_regulation\": \"Peraturan Anggota Dewan Gubernur\",\\n      \"sector\": \"Sistem Pembayaran Dan Pengelolaan Uang Rupiah\",\\n      \"standardized_extracted_file_name\": \"\",\\n      \"standardized_file_name\": \"padg-23_8_padg_2021-30042021-peraturan_anggota_dewan_gubernur_nomor_23_8_padg_2021_tentang_perubahan_atas_peraturan_anggota_dewan_gubernur_nomor_21_18_padg_2019_tentang_implementasi_standar_nasional_quick_response_code_untuk_pembayaran\",\\n      \"page_number\": \"1\",\\n      \"relevance_score\": 0.9996303\\n    },\\n    \"page_content\": \"Pengaturan batas nominal transaksi saat ini sebesar Rp2.000.000,00 \\\\n(dua juta rupiah) mengakibatkan transaksi pembayaran lebih dari \\\\nnominal tersebut harus dilakukan dengan cara melakukan transaksi \\\\nlebih dari 1 (satu) kali, sehingga tidak praktis.  \\\\nd. \\\\nSelain itu, terdapat kebutuhan untuk transaksi QRIS dalam nominal \\\\nyang cukup besar seperti pembayaran tagihan pajak, tagihan listrik, \\\\npembelian produk artisan, donasi keagamaan, bisnis, laboratorium dan \\\\nperawatan kesehatan, rumah sakit, restoran, hotel, tiket pesawat, paket \\\\npariwisata, dan lainnya. \\\\n \\\\n2. Apa substansi pengaturan dalam Perubahan PADG QRIS ini? \\\\nBesaran \\\\nnominal \\\\ntransaksi \\\\nQRIS \\\\nyang \\\\nsaat \\\\nini \\\\ndiatur \\\\nsebesar \\\\nRp2.000.000,00 (dua juta rupiah) disesuaikan menjadi paling banyak \\\\nsebesar Rp5.000.000,00 (lima juta rupiah) per transaksi.\"\\n  },\\n  {\\n    \"metadata\": {\\n      \"id\": \"doc:bi:fb5f1bedfb5342db9ad9fe540261b53f\",\\n      \"file_id\": \"53c25b7a\",\\n      \"title\": \"PERATURAN ANGGOTA DEWAN GUBERNUR NOMOR 21/18/PADG/2019 TENTANG IMPLEMENTASI STANDAR NASIONAL QUICK RESPONSE CODE UNTUK PEMBAYARAN.\",\\n      \"file_link\": \"https://www.bi.go.id/id/publikasi/peraturan/Documents/padg_211819.pdf\",\\n      \"date\": \"21 Agustus 2019\",\\n      \"type_of_regulation\": \"Peraturan Anggota Dewan Gubernur\",\\n      \"sector\": \"Sistem Pembayaran Dan Pengelolaan Uang Rupiah\",\\n      \"standardized_extracted_file_name\": \"\",\\n      \"standardized_file_name\": \"padg-21_18_padg_2019-21082019-peraturan_anggota_dewan_gubernur_nomor_21_18_padg_2019_tentang_implementasi_standar_nasional_quick_response_code_untuk_pembayaran\",\\n      \"page_number\": \"6\",\\n      \"relevance_score\": 0.99960333\\n    },\\n    \"page_content\": \"(3) \\\\nUsulan dari Lembaga Standar sebagaimana dimaksud \\\\npada ayat (2) harus disampaikan kepada Bank Indonesia \\\\nuntuk memperoleh persetujuan. \\\\n \\\\nPasal 8  \\\\n(1) \\\\nNominal \\\\nTransaksi \\\\nQRIS \\\\ndibatasi \\\\npaling \\\\nbanyak \\\\nRp2.000.000,00 (dua juta rupiah) per transaksi. \\\\n(2) \\\\nPenerbit dapat menetapkan batas nominal kumulatif \\\\nharian dan/atau bulanan atas Transaksi QRIS yang \\\\ndilakukan oleh masing-masing Pengguna QRIS.  \\\\n(3) \\\\nBatas nominal kumulatif sebagaimana dimaksud pada \\\\nayat \\\\n(2) \\\\nditetapkan \\\\ndengan \\\\nmempertimbangkan \\\\nmanajemen risiko Penerbit. \\\\n \\\\nPasal 9  \\\\n(1) \\\\nSkema dan biaya pemrosesan Transaksi QRIS ditetapkan \\\\noleh Bank Indonesia.\"\\n  },\\n  {\\n    \"metadata\": {\\n      \"id\": \"doc:bi:f624898b802a48af99ba553696dcad05\",\\n      \"file_id\": \"ddf6da4f\",\\n      \"title\": \"REGULATION OF BOARD OF MEMBER OF GOVERNORS NUMBER 21/18/PADG/2019 ON IMPLEMENTATION OF NATIONAL STANDARD ON QUICK RESPONSE CODE FOR PAYMENT\",\\n      \"file_link\": \"https://www.bi.go.id/en/publikasi/peraturan/Documents/PADG_211819.pdf\",\\n      \"date\": \"21 August 2019\",\\n      \"type_of_regulation\": \"Member Of The Board Of Governors Regulation\",\\n      \"sector\": \"Payment System And Rupiah Management\",\\n      \"standardized_extracted_file_name\": \"\",\\n      \"standardized_file_name\": \"padg-21_18_padg_2019-21082019-regulation_of_board_of_member_of_governors_number_21_18_padg_2019_on_implementation_of_national_standard_on_quick_response_code_for_payment\",\\n      \"page_number\": \"6\",\\n      \"relevance_score\": 0.99608517\\n    },\\n    \"page_content\": \"6 \\\\nserver-based storage medium. \\\\n(2) \\\\nThe usage of sources of fund and/or payment instruments \\\\nas referred to in paragraph (1) is conducted based on the \\\\nproposal from Standard Agency.  \\\\n(3) \\\\nThe proposal from Standard Agency as referred to in \\\\nparagraph (2) must be submitted to Bank Indonesia for \\\\nobtaining an approval. \\\\n \\\\nArticle 8 \\\\n \\\\n(1) \\\\nQRIS Transaction nominal is limited to the highest of \\\\nRp2,000,000.00 (two million rupiah) per transaction. \\\\n(2) \\\\nThe  Issuer may determine the daily and/or monthly \\\\ncumulative nominal limit of QRIS Transactions made by \\\\neach QRIS User.   \\\\n(3) \\\\nThe cumulative nominal limit as referred to in paragraph \\\\n(2) is determined by considering risk management of the \\\\nIssuer. \\\\n \\\\nArticle 9 \\\\n \\\\n(1) \\\\nScheme and fee of QRIS Transaction processing is \\\\ndesignated  by Bank Indonesia. \\\\n(2) \\\\nIn designating the scheme and fee of QRIS Transaction \\\\nprocessing as referred to in paragraph (1), Bank Indonesia \\\\nmay consider recommendations from the Standard Agency.\"\\n  }\\n]'}"
      ]
     },
     "execution_count": 8,
     "metadata": {},
     "output_type": "execute_result"
    }
   ],
   "source": [
    "from chain.rag_chain import get_response\n",
    "\n",
    "response = get_response(\n",
    "    chain=chain_history,\n",
    "    question=\"Berapa batas transaksi oleh qris?\",\n",
    "    user_id=USER_ID,\n",
    "    conversation_id=CONVERSATION_ID\n",
    ")\n",
    "\n",
    "response"
   ]
  },
  {
   "cell_type": "markdown",
   "metadata": {},
   "source": [
    "#### **Chat Store Monitor**"
   ]
  },
  {
   "cell_type": "code",
   "execution_count": 9,
   "metadata": {},
   "outputs": [
    {
     "name": "stdout",
     "output_type": "stream",
     "text": [
      "Human: What is the maximum duration in working days within which Bank Indonesia must notify the Professional Certification Agency about the decision regarding their application as mentioned in Article 21?\n",
      "AI: The maximum duration in working days within which Bank Indonesia must notify the Professional Certification Agency about the decision regarding their application as mentioned in Article 21 is not mentioned in the provided context.\n",
      "Human: What is the minimum number of services that LAPS-SK must provide to obtain approval from Bank Indonesia?\n",
      "AI: LAPS-SK needs to provide 5 services to obtain approval from Bank Indonesia.\n",
      "\n",
      "Source: PBI LAPS-SK (Peraturan Bank Indonesia)\n",
      "Human: What is the effective date of the Bank Indonesia Regulation Number 17/2/PBI/2015 concerning Interbank Offered Rates?\n",
      "AI: Bank Indonesia Regulation Number 17/2/PBI/2015 does not exist in the provided context.\n",
      "Human: Berapa batas transaksi oleh qris?\n",
      "AI: Batas transaksi oleh QRIS adalah paling banyak Rp2.000.000,00 (dua juta rupiah) per transaksi.\n",
      "\n",
      "Source: PERATURAN ANGGOTA DEWAN GUBERNUR NOMOR 21/18/PADG/2019 TENTANG IMPLEMENTASI STANDAR NASIONAL QUICK RESPONSE CODE UNTUK PEMBAYARAN.\n",
      "[Link to the regulation](https://www.bi.go.id/id/publikasi/peraturan/Documents/faq_padg_211819.pdf#page=2)\n"
     ]
    }
   ],
   "source": [
    "# to print chat history\n",
    "print(chat_store.get_session_history(user_id=USER_ID, conversation_id=CONVERSATION_ID))"
   ]
  },
  {
   "cell_type": "code",
   "execution_count": 10,
   "metadata": {},
   "outputs": [],
   "source": [
    "# to make the chat history empty\n",
    "chat_store.clear_all()"
   ]
  },
  {
   "cell_type": "markdown",
   "metadata": {},
   "source": [
    "#### **Evaluation**"
   ]
  },
  {
   "cell_type": "code",
   "execution_count": 11,
   "metadata": {},
   "outputs": [],
   "source": [
    "from constant.bi.question import QA_PAIRS\n",
    "\n",
    "eval_questions = []\n",
    "eval_answers = []\n",
    "\n",
    "for lang in [\"EN\", \"ID\"]:\n",
    "  for k,v in QA_PAIRS[lang].items():\n",
    "    eval_questions.append(v[\"question\"])\n",
    "    eval_answers.append(v[\"answer\"])"
   ]
  },
  {
   "cell_type": "code",
   "execution_count": 12,
   "metadata": {},
   "outputs": [
    {
     "name": "stderr",
     "output_type": "stream",
     "text": [
      "Metadata key page_number not found in metadata. Setting to None. \n",
      "Metadata fields defined for this instance: ['file_id', 'title', 'file_name', 'file_link', 'date', 'type_of_regulation', 'sector', 'standardized_extracted_file_name', 'standardized_file_name', 'page_number']\n",
      "Metadata key page_number not found in metadata. Setting to None. \n",
      "Metadata fields defined for this instance: ['file_id', 'title', 'file_name', 'file_link', 'date', 'type_of_regulation', 'sector', 'standardized_extracted_file_name', 'standardized_file_name', 'page_number']\n",
      "Metadata key page_number not found in metadata. Setting to None. \n",
      "Metadata fields defined for this instance: ['file_id', 'title', 'file_name', 'file_link', 'date', 'type_of_regulation', 'sector', 'standardized_extracted_file_name', 'standardized_file_name', 'page_number']\n",
      "Metadata key page_number not found in metadata. Setting to None. \n",
      "Metadata fields defined for this instance: ['file_id', 'title', 'file_name', 'file_link', 'date', 'type_of_regulation', 'sector', 'standardized_extracted_file_name', 'standardized_file_name', 'page_number']\n",
      "Metadata key page_number not found in metadata. Setting to None. \n",
      "Metadata fields defined for this instance: ['file_id', 'title', 'file_name', 'file_link', 'date', 'type_of_regulation', 'sector', 'standardized_extracted_file_name', 'standardized_file_name', 'page_number']\n",
      "Metadata key page_number not found in metadata. Setting to None. \n",
      "Metadata fields defined for this instance: ['file_id', 'title', 'file_name', 'file_link', 'date', 'type_of_regulation', 'sector', 'standardized_extracted_file_name', 'standardized_file_name', 'page_number']\n"
     ]
    }
   ],
   "source": [
    "import time\n",
    "from datasets import Dataset\n",
    "from chain.rag_chain import get_response\n",
    "\n",
    "results = []\n",
    "contexts = []\n",
    "queries = eval_questions\n",
    "ground_truths = eval_answers\n",
    "\n",
    "for query in queries:\n",
    "    result = get_response(\n",
    "        chain=chain_history,\n",
    "        question=query,\n",
    "        user_id=USER_ID,\n",
    "        conversation_id=CONVERSATION_ID\n",
    "    )\n",
    "\n",
    "    results.append(result['answer'])\n",
    "    sources = result[\"context\"]\n",
    "    final_sources = list(eval(sources))\n",
    "    contents = []\n",
    "    for source in final_sources:\n",
    "        contents.append(source.get('page_content'))\n",
    "    contexts.append(contents)\n",
    "\n",
    "    time.sleep(3)\n",
    "\n",
    "d = {\n",
    "    \"question\": queries,\n",
    "    \"answer\": results,\n",
    "    \"contexts\": contexts,\n",
    "    \"ground_truth\": ground_truths\n",
    "}\n",
    "\n",
    "dataset = Dataset.from_dict(d)"
   ]
  },
  {
   "cell_type": "code",
   "execution_count": 13,
   "metadata": {},
   "outputs": [
    {
     "ename": "NameError",
     "evalue": "name 'd' is not defined",
     "output_type": "error",
     "traceback": [
      "\u001b[1;31m---------------------------------------------------------------------------\u001b[0m",
      "\u001b[1;31mNameError\u001b[0m                                 Traceback (most recent call last)",
      "Cell \u001b[1;32mIn[13], line 4\u001b[0m\n\u001b[0;32m      1\u001b[0m \u001b[38;5;28;01mimport\u001b[39;00m \u001b[38;5;21;01mjson\u001b[39;00m\n\u001b[0;32m      3\u001b[0m \u001b[38;5;28;01mwith\u001b[39;00m \u001b[38;5;28mopen\u001b[39m(\u001b[38;5;124m\"\u001b[39m\u001b[38;5;124m./constant/ojk/dict_eval.json\u001b[39m\u001b[38;5;124m\"\u001b[39m, \u001b[38;5;124m\"\u001b[39m\u001b[38;5;124mw\u001b[39m\u001b[38;5;124m\"\u001b[39m) \u001b[38;5;28;01mas\u001b[39;00m outfile: \n\u001b[1;32m----> 4\u001b[0m     json\u001b[38;5;241m.\u001b[39mdump(\u001b[43md\u001b[49m, outfile)\n",
      "\u001b[1;31mNameError\u001b[0m: name 'd' is not defined"
     ]
    }
   ],
   "source": [
    "import json\n",
    "\n",
    "with open(\"constant/bi/dict_eval.json\", \"w\") as outfile: \n",
    "    json.dump(d, outfile)"
   ]
  },
  {
   "cell_type": "code",
   "execution_count": null,
   "metadata": {},
   "outputs": [],
   "source": [
    "with open('./constant/bi/dict_eval.json') as json_file:\n",
    "    d = json.load(json_file)"
   ]
  },
  {
   "cell_type": "code",
   "execution_count": null,
   "metadata": {},
   "outputs": [],
   "source": [
    "dataset = Dataset.from_dict(d)\n",
    "\n",
    "df = dataset.to_pandas()\n",
    "df.head()"
   ]
  },
  {
   "cell_type": "code",
   "execution_count": null,
   "metadata": {},
   "outputs": [],
   "source": [
    "from ragas.metrics import faithfulness, answer_relevancy, context_precision, context_recall, answer_similarity, answer_correctness\n",
    "from ragas.metrics.critique import harmfulness\n",
    "from ragas import evaluate\n",
    "\n",
    "score = evaluate(dataset, metrics=[faithfulness, answer_relevancy, context_precision, context_recall, answer_similarity, answer_correctness, harmfulness], llm=llm_model, embeddings=embed_model)"
   ]
  },
  {
   "cell_type": "code",
   "execution_count": null,
   "metadata": {},
   "outputs": [],
   "source": [
    "import numpy as np\n",
    "\n",
    "result_dict = df.to_dict(orient='index')\n",
    "\n",
    "# Convert any ndarray objects to list\n",
    "for key in result_dict:\n",
    "    for subkey in result_dict[key]:\n",
    "        if isinstance(result_dict[key][subkey], (np.ndarray, list)):\n",
    "            result_dict[key][subkey] = result_dict[key][subkey].tolist() if isinstance(result_dict[key][subkey], np.ndarray) else result_dict[key][subkey]\n",
    "\n",
    "# Save the dictionary to a JSON file\n",
    "with open(\"eval_results.json\", \"w\") as file:\n",
    "    json.dump(result_dict, file, indent=4)"
   ]
  },
  {
   "cell_type": "code",
   "execution_count": null,
   "metadata": {},
   "outputs": [],
   "source": [
    "for key,val in score.items():\n",
    "    print(f\"{key}: {val}\")"
   ]
  }
 ],
 "metadata": {
  "kernelspec": {
   "display_name": "chatbot-all",
   "language": "python",
   "name": "python3"
  },
  "language_info": {
   "codemirror_mode": {
    "name": "ipython",
    "version": 3
   },
   "file_extension": ".py",
   "mimetype": "text/x-python",
   "name": "python",
   "nbconvert_exporter": "python",
   "pygments_lexer": "ipython3",
   "version": "3.9.13"
  }
 },
 "nbformat": 4,
 "nbformat_minor": 2
}

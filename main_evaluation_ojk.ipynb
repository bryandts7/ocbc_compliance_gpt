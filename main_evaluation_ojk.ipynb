{
 "cells": [
  {
   "cell_type": "markdown",
   "metadata": {},
   "source": [
    "# **Compliance GPT with LangChain**"
   ]
  },
  {
   "cell_type": "markdown",
   "metadata": {},
   "source": [
    "## **Setup**"
   ]
  },
  {
   "cell_type": "code",
   "execution_count": 1,
   "metadata": {},
   "outputs": [
    {
     "data": {
      "text/plain": [
       "True"
      ]
     },
     "execution_count": 1,
     "metadata": {},
     "output_type": "execute_result"
    }
   ],
   "source": [
    "import nest_asyncio\n",
    "nest_asyncio.apply()\n",
    "\n",
    "from dotenv import load_dotenv\n",
    "load_dotenv()"
   ]
  },
  {
   "cell_type": "markdown",
   "metadata": {},
   "source": [
    "## **Config**"
   ]
  },
  {
   "cell_type": "code",
   "execution_count": 2,
   "metadata": {},
   "outputs": [],
   "source": [
    "from utils.config import get_config\n",
    "\n",
    "config = get_config()"
   ]
  },
  {
   "cell_type": "code",
   "execution_count": 3,
   "metadata": {},
   "outputs": [],
   "source": [
    "USER_ID = 'xmriz'\n",
    "CONVERSATION_ID = 'xmriz-2021-07-01-01'"
   ]
  },
  {
   "cell_type": "markdown",
   "metadata": {},
   "source": [
    "## **Define Model**"
   ]
  },
  {
   "cell_type": "code",
   "execution_count": 4,
   "metadata": {},
   "outputs": [],
   "source": [
    "from utils.models import ModelName, LLMModelName, EmbeddingModelName, get_model\n",
    "\n",
    "model_name = ModelName.AZURE_OPENAI\n",
    "llm_model, embed_model = get_model(model_name=model_name, config=config, llm_model_name=LLMModelName.GPT_35_TURBO, embedding_model_name=EmbeddingModelName.EMBEDDING_ADA)"
   ]
  },
  {
   "cell_type": "markdown",
   "metadata": {},
   "source": [
    "## **Load Vector Store Index**"
   ]
  },
  {
   "cell_type": "code",
   "execution_count": 5,
   "metadata": {},
   "outputs": [
    {
     "name": "stderr",
     "output_type": "stream",
     "text": [
      "c:\\Users\\acer\\miniconda3\\envs\\chatbot-ocbc\\lib\\site-packages\\pinecone\\data\\index.py:1: TqdmWarning: IProgress not found. Please update jupyter and ipywidgets. See https://ipywidgets.readthedocs.io/en/stable/user_install.html\n",
      "  from tqdm.autonotebook import tqdm\n"
     ]
    }
   ],
   "source": [
    "from databases.vector_store import RedisIndexManager\n",
    "\n",
    "redis = RedisIndexManager(index_name='ojk', embed_model=embed_model, config=config, db_id=0)\n",
    "vector_store = redis.load_vector_index()"
   ]
  },
  {
   "cell_type": "markdown",
   "metadata": {},
   "source": [
    "## **Get Retriever**"
   ]
  },
  {
   "cell_type": "code",
   "execution_count": 6,
   "metadata": {},
   "outputs": [],
   "source": [
    "from retriever.retriever_ojk.retriever_ojk import get_retriever_ojk\n",
    "\n",
    "retriever = get_retriever_ojk(vector_store=vector_store, top_n=6, top_k=16, llm_model=llm_model, embed_model=embed_model, config=config)"
   ]
  },
  {
   "cell_type": "markdown",
   "metadata": {},
   "source": [
    "## **Create Chain**"
   ]
  },
  {
   "cell_type": "code",
   "execution_count": 7,
   "metadata": {},
   "outputs": [],
   "source": [
    "from constant.ojk.prompt import CONTEXTUALIZE_Q_PROMPT_STR, QA_SYSTEM_PROMPT_STR\n",
    "from databases.chat_store import MongoDBChatStore, RedisChatStore\n",
    "from chain.chain_ojk.chain_ojk import create_ojk_chain\n",
    "from chain.rag_chain import create_chain_with_chat_history\n",
    "\n",
    "chat_store = RedisChatStore(k=4, config=config, db_id=1)\n",
    "\n",
    "chain = create_ojk_chain(\n",
    "    contextualize_q_prompt_str=CONTEXTUALIZE_Q_PROMPT_STR,\n",
    "    qa_system_prompt_str=QA_SYSTEM_PROMPT_STR,\n",
    "    retriever=retriever,\n",
    "    llm_model=llm_model,\n",
    "    # chat_store=chat_store\n",
    ")\n",
    "\n",
    "chain_history = create_chain_with_chat_history(\n",
    "    final_chain=chain,\n",
    "    chat_store=chat_store\n",
    ")"
   ]
  },
  {
   "cell_type": "markdown",
   "metadata": {},
   "source": [
    "## **Evaluation**"
   ]
  },
  {
   "cell_type": "markdown",
   "metadata": {},
   "source": [
    "#### **Get Response**"
   ]
  },
  {
   "cell_type": "code",
   "execution_count": 9,
   "metadata": {},
   "outputs": [
    {
     "data": {
      "text/plain": [
       "{'rewrited question': 'Berapa besar premi asuransi SWDKLLJ yang harus dibayarkan oleh pemilik buldozer?',\n",
       " 'answer': 'Besar premi asuransi SWDKLLJ yang harus dibayarkan oleh pemilik buldozer sebesar Rp 20.000,00 (dua puluh ribu rupiah).\\n\\nSource: Peraturan Menteri Keuangan Nomor 36/PMK.010/2008 tentang Besar Santunan dan Sumbangan Wajib Dana Kecelakaan Lalu Lintas Jalan (https://www.ojk.go.id/id/regulasi/Documents/Pages/PMK-Nomor-36PMK.010-Tahun-2008-tentang-Besar-Santunan-dan-Sumbangan-Wajib-Dana-Kecelakaan-Lalu-Lintas-Jalan/menas13_1389258036.pdf#page=3)',\n",
       " 'context': '[\\n  {\\n    \"metadata\": {\\n      \"id\": \"doc:ojk:0d063bb180c64673a070b97e6d024c25\",\\n      \"title\": \"Peraturan Menteri Keuangan Nomor 36/PMK.010/2008 tentang Besar Santunan dan Sumbangan Wajib Dana Kecelakaan Lalu Lintas Jalan\",\\n      \"sector\": \"IKNB\",\\n      \"subsector\": \"Asuransi\",\\n      \"regulation_type\": \"Klasifikasi Bapepam\",\\n      \"regulation_number\": \"36/PMK.010/2008\",\\n      \"effective_date\": \"26 Februari 2008\",\\n      \"file_url\": \"https://www.ojk.go.id/id/regulasi/Documents/Pages/PMK-Nomor-36PMK.010-Tahun-2008-tentang-Besar-Santunan-dan-Sumbangan-Wajib-Dana-Kecelakaan-Lalu-Lintas-Jalan/menas13_1389258036.pdf\",\\n      \"doc_id\": \"1718\",\\n      \"page_number\": \"3\",\\n      \"relevance_score\": 0.12635334\\n    },\\n    \"page_content\": \"MENTERI KEUANGAN\\\\nREPUBLIK INDONESIA\\\\nmemperoleh santunan sebesar Rp 25.000.000,00 (dua puluh lima\\\\njuta rupiah).\\\\nb. Korban yang mengalami cacat tetap berhak memperoleh\\\\nsantunan yang besarnya dihitung berdasarkan angka prosentase\\\\n Korban yang memerlukan perawatan dan pengobatan berhak\\\\nrupiah).\\\\nPasal 3\\\\nDalam hal korban meninggal dunia akibat kecelakaan alat angkutan\\\\nlalu lintas jalan tidak mempunyai ahli waris, kepada pihak yang\\\\nmenyelenggarakan\\\\ndiberikan\\\\npenggantian\\\\nbiaya\\\\nPasal 4\\\\n(2) Besar SWDKLLJ sebagaimana dimaksud pada ayat (1) ditentukan\\\\nsebagai berikut:\\\\nSepeda motor di bawah 50 cc, mobil ambulance, mobil jenazah\\\\na.\\\\ndan mobil pemadam kebakaran dibebaskan dari kewajiban\\\\nmembayar SWDKLLJ.\\\\nb. Traktor, buidozer, forklift, mobil derek, excavator, crane dan\\\\nsejenisnya sebesar Rp 20.000,00 (dua puluh ribu rupiah):\\\\n Sepeda motor, sepeda kumbang dan scooter di atas 50 cc sampai\\\\n250 cc dan kendaraan bermotor roda tiga sebesar Rp 32.000,00\\\\n(tiga puluh dua ribu rupiah).\\\\nd.\"\\n  },\\n  {\\n    \"metadata\": {\\n      \"id\": \"doc:ojk:17bdeb77dce441a0939a142f156ecbfc\",\\n      \"title\": \"Peraturan Menteri Keuangan Nomor 36/PMK.010/2008 tentang Besar Santunan dan Sumbangan Wajib Dana Kecelakaan Lalu Lintas Jalan\",\\n      \"sector\": \"IKNB\",\\n      \"subsector\": \"Asuransi\",\\n      \"regulation_type\": \"Klasifikasi Bapepam\",\\n      \"regulation_number\": \"36/PMK.010/2008\",\\n      \"effective_date\": \"26 Februari 2008\",\\n      \"file_url\": \"https://www.ojk.go.id/id/regulasi/Documents/Pages/PMK-Nomor-36PMK.010-Tahun-2008-tentang-Besar-Santunan-dan-Sumbangan-Wajib-Dana-Kecelakaan-Lalu-Lintas-Jalan/menas13_1389258036.pdf\",\\n      \"doc_id\": \"1718\",\\n      \"page_number\": \"2\",\\n      \"relevance_score\": 0.006289902\\n    },\\n    \"page_content\": \"wajib\\\\nsebagaimana dimaksud dalam Undang-Undang Nomor 34 Tahun\\\\n1964 tentang Dana Kecelakaan Lalu Lintas Jalan juncto Peraturan\\\\nPelaksanaan Dana Kecelakaan Lalu Lintas Jalan.\\\\n2) SWDKLLJ merupakan premi asuransi yang dibayarkan oleh para\\\\npengusaha/pemilik alat angkutan lalu lintas jalan kepada\\\\nperusahaan yang menyelenggarakan Dana Kecelakaan Lalu Lintas\\\\nJalan.\\\\nPasal 2\\\\n(1 Korban kecelakaan alat angkutan lalu lintas jalan atau ahli warisnya\\\\nberhak atas santunan.\\\\nBesar santunan sebagaimana dimaksud pada ayat (1) ditentukan\\\\nsebagai berikut:\"\\n  },\\n  {\\n    \"metadata\": {\\n      \"id\": \"doc:ojk:8283ae279b9946a9b974df0e79b7aea2\",\\n      \"title\": \"Peraturan BAPEPAM tentang Referensi Unsur Premi Murni serta Unsur Biaya Administrasi dan Biaya Umum Lainnya pada Lini Usaha Asuransi Kendaraan Bermotor Tahun 2011\",\\n      \"sector\": \"IKNB\",\\n      \"subsector\": \"Asuransi\",\\n      \"regulation_type\": \"Peraturan Bapepam\",\\n      \"regulation_number\": \"PER-04/BL/2011\",\\n      \"effective_date\": \"18 Maret 2011\",\\n      \"file_url\": \"https://www.ojk.go.id/id/regulasi/Documents/Pages/Peraturan-BAPEPAM-tentang-Referensi-Unsur-Premi-Murni-serta-Unsur-Biaya-Administrasi-dan-Biaya-Umum-Lainnya/BAPEPAM%20PER-04BL2011.pdf\",\\n      \"doc_id\": \"1612\",\\n      \"page_number\": \"4\",\\n      \"relevance_score\": 0.0014607495\\n    },\\n    \"page_content\": \"berumur sampai dengan 3 (tiga) tahun. Untuk kendaraan berumur lebih dari    \\\\n3 (tiga) tahun, harus dikenakan premi tambahan yang wajar. \\\\n2. Untuk perluasan Strike, Riot, Civil Commotion (SRCC), Flood, Earthquake, dan \\\\nThird Party Liability (TPL) harus dikenakan premi tambahan. \\\\n3. Unsur premi murni di atas merupakan persentase dari uang pertanggungan. \\\\n4. Deductible minimum sebesar Rp200.000,00 (dua ratus ribu rupiah). \\\\n5. Premi murni paling sedikit 50% (lima puluh per seratus) dari premi bruto.\"\\n  },\\n  {\\n    \"metadata\": {\\n      \"id\": \"doc:ojk:ef0a7b90a8f24fa686c8a84282c00230\",\\n      \"title\": \"Peraturan Bank Indonesia Nomor 7/29/PBI/2005\",\\n      \"sector\": \"Perbankan\",\\n      \"subsector\": \"Bank Umum\",\\n      \"regulation_type\": \"PPBI\",\\n      \"regulation_number\": \"7/29/PBI/2005\",\\n      \"effective_date\": \"6 September 2005\",\\n      \"file_url\": \"https://www.ojk.go.id/id/regulasi/Documents/Pages/Peraturan-Bank-Indonesia-Nomor-729PBI2005/283.pdf\",\\n      \"doc_id\": \"1801\",\\n      \"page_number\": \"31\",\\n      \"relevance_score\": 0.0006986757\\n    },\\n    \"page_content\": \"sebesar \\\\nRp400.000.000.000,00 \\\\n(empat \\\\nratus \\\\nmiliar \\\\nrupiah), \\\\nyang \\\\nmerupakan \\\\nkewajiban memelihara tambahan GWM \\\\nberdasarkan DPK sebagaimana dimaksud \\\\ndalam Pasal 3 ayat (3) huruf c; ditambah \\\\ndengan \\\\nc. \\\\n5% \\\\n(lima \\\\nperseratus) \\\\ndari \\\\nRp20.000.000.000.000,00 \\\\n(dua \\\\npuluh \\\\ntriliun \\\\nrupiah) \\\\nyaitu \\\\nsebesar \\\\nRp1.000.000.000.000,00 \\\\n(satu \\\\ntriliun \\\\nrupiah), \\\\nyang \\\\nmerupakan \\\\nkewajiban \\\\nmemelihara tambahan GWM berdasarkan \\\\nLDR sebagaimana dimaksud dalam Pasal \\\\n3 ayat (4) huruf f. \\\\n \\\\n \\\\nSaldo \\\\u2026\"\\n  },\\n  {\\n    \"metadata\": {\\n      \"id\": \"doc:ojk:b1fe62420c634fbbbc28b613ff0ceba5\",\\n      \"title\": \"Penetapan Tarif Premi atau Kontribusi pada Lini Usaha Asuransi Harta Benda dan Asuransi Kendaraan Bermotor Tahun 2017\",\\n      \"sector\": \"IKNB\",\\n      \"subsector\": \"Asuransi\",\\n      \"regulation_type\": \"Surat Edaran OJK\",\\n      \"regulation_number\": \"6/SEOJK.05/2017\",\\n      \"effective_date\": \"12 September 2017\",\\n      \"file_url\": \"https://www.ojk.go.id/id/regulasi/Documents/Pages/SEOJK-Penetapan-Tarif-Premi-atau-Kontribusi-pada-Lini-Usaha-Asuransi-Harta-Benda-dan-Asuransi-Kendaraan-Bermotor-2017/SAL%20-%20SE%20OJK%20Tarif%20Premi.pdf\",\\n      \"doc_id\": \"890\",\\n      \"page_number\": \"14\",\\n      \"relevance_score\": 0.0005112579\\n    },\\n    \"page_content\": \"usaha Asuransi Kendaraan Bermotor harus memberlakukan \\\\nketentuan Risiko Sendiri (Deductible) sebesar 10% (sepuluh \\\\npersen) dari nilai ganti rugi yang disetujui, atau paling sedikit \\\\nRp500.000,00 (lima ratus ribu rupiah) per kejadian. \\\\n \\\\nVII. BIAYA AKUISISI \\\\n1. \\\\nPerusahaan dapat memberikan bagian dari tarif Premi atau \\\\nKontribusi berupa biaya akuisisi dalam bentuk komisi, diskon, \\\\ndan/atau bentuk lainnya kepada Perusahaan Pialang Asuransi, Agen \\\\nAsuransi, dan/atau pihak ketiga lainnya yang terkait dengan \\\\nperolehan bisnis asuransi, termasuk kepada pemegang polis, \\\\ntertanggung, atau peserta. \\\\n2. \\\\nDalam hal Perusahaan memberikan bagian dari tarif Premi atau \\\\nKontribusi berupa biaya akuisisi sebagaimana dimaksud pada angka \\\\n1, nilai Premi atau Kontribusi yang diterima Perusahaan setelah \\\\ndikurangi dengan biaya akuisisi dimaksud tidak boleh kurang dari: \\\\na. \\\\n85% dari tarif Premi atau Kontribusi yang dikenakan oleh \\\\nPerusahaan dengan tetap mengacu pada ketentuan penerapan\"\\n  },\\n  {\\n    \"metadata\": {\\n      \"id\": \"doc:ojk:1e06d609b33d4689b31ee4417d0810cc\",\\n      \"title\": \"Penetapan Tarif Premi atau Kontribusi pada Lini Usaha Asuransi Harta Benda dan Asuransi Kendaraan Bermotor Tahun 2017\",\\n      \"sector\": \"IKNB\",\\n      \"subsector\": \"Asuransi,  Peraturan Lainnya\",\\n      \"regulation_type\": \"Surat Edaran OJK\",\\n      \"regulation_number\": \"6/SEOJK.05/2017\",\\n      \"effective_date\": \"1 April 2017\",\\n      \"file_url\": \"https://www.ojk.go.id/id/regulasi/Documents/Pages/Penetapan-Tarif-Premi-atau-Kontribusi-pada-Lini-Usaha-Asuransi-Harta-Benda-dan-Asuransi-Kendaraan-Bermotor-Tahun-2017/SAL%20-%20Lampiran%20IV%20-%20KBM.pdf\",\\n      \"doc_id\": \"1000\",\\n      \"page_number\": \"4\",\\n      \"relevance_score\": 0.00017813111\\n    },\\n    \"page_content\": \"a. WILAYAH 1 : Sumatera dan Kepulauan di sekitarnya; \\\\nb. WILAYAH 2 : DKI Jakarta, Jawa Barat, dan Banten; dan \\\\nc. WILAYAH 3 : Selain WILAYAH 1 dan WILAYAH 2. \\\\n2. Perusahaan Asuransi Umum memberlakukan ketentuan Risiko Sendiri \\\\n(Deductible) minimum sebesar Rp300.000,00 setiap kejadian, kecuali untuk \\\\nkendaraan roda dua minimum sebesar Rp150.000,00. \\\\n3. Besaran Premi atau Kontribusi serta syarat dan ketentuan (terms & \\\\nconditions) untuk kendaraan yang memiliki profil khusus dengan portfolio \\\\ndengan risiko yang lebih tinggi seperti kendaraan truk tangki, taksi, \\\\nkendaraan dengan penggunaan komersial dan sejenisnya dapat ditentukan \\\\nberdasarkan pertimbangan profesional underwriter. \\\\n4. Penerapan Tarif Premi atau Kontribusi untuk Asuransi Kendaraan Bermotor \\\\ndengan penambahan manfaat berupa perluasan jaminan risiko sebagaimana \\\\ndimaksud dalam Tabel IV.B angka 5 dan angka 7 dihitung secara progresif. \\\\nContoh: \\\\na. Perluasan Jaminan Risiko berupa Tanggung Jawab Hukum terhadap\"\\n  }\\n]'}"
      ]
     },
     "execution_count": 9,
     "metadata": {},
     "output_type": "execute_result"
    }
   ],
   "source": [
    "from chain.rag_chain import get_response\n",
    "\n",
    "response = get_response(\n",
    "    chain=chain_history,\n",
    "    question=\"Berapa SWDKLLJ dari buldozer?\",\n",
    "    user_id=USER_ID,\n",
    "    conversation_id=CONVERSATION_ID\n",
    ")\n",
    "\n",
    "response"
   ]
  },
  {
   "cell_type": "markdown",
   "metadata": {},
   "source": [
    "#### **Chat Store Monitor**"
   ]
  },
  {
   "cell_type": "code",
   "execution_count": 10,
   "metadata": {},
   "outputs": [
    {
     "name": "stdout",
     "output_type": "stream",
     "text": [
      "Human: Apa itu SWDKLLJ?\n",
      "AI: SWDKLLJ merupakan premi asuransi yang dibayarkan oleh para pengusaha/pemilik alat angkutan lalu lintas jalan kepada perusahaan yang menyelenggarakan Dana Kecelakaan Lalu Lintas Jalan.\n",
      "\n",
      "Source: [36/PMK.010/2008](https://www.ojk.go.id/id/regulasi/Documents/Pages/PMK-Nomor-36PMK.010-Tahun-2008-tentang-Besar-Santunan-dan-Sumbangan-Wajib-Dana-Kecelakaan-Lalu-Lintas-Jalan/menas13_1389258036.pdf#page=2)\n",
      "Human: Berapa SWDKLLJ dari buldozer?\n",
      "AI: Besar premi asuransi SWDKLLJ yang harus dibayarkan oleh pemilik buldozer sebesar Rp 20.000,00 (dua puluh ribu rupiah).\n",
      "\n",
      "Source: Peraturan Menteri Keuangan Nomor 36/PMK.010/2008 tentang Besar Santunan dan Sumbangan Wajib Dana Kecelakaan Lalu Lintas Jalan\n",
      "https://www.ojk.go.id/id/regulasi/Documents/Pages/PMK-Nomor-36PMK.010-Tahun-2008-tentang-Besar-Santunan-dan-Sumbangan-Wajib-Dana-Kecelakaan-Lalu-Lintas-Jalan/menas13_1389258036.pdf#page=4\n",
      "Human: Bursa Efek wajib menyampaikan laporan realisasi anggaran kepada Bapepam melalui dewan komisaris dengan ketentuan apa?\n",
      "AI: Bursa Efek wajib menyampaikan laporan realisasi anggaran kepada Bapepam melalui dewan komisaris secara kumulatif triwulanan dan diterima oleh Bapepam selambat-lambatnya pada hari ke dua belas setelah berakhirnya triwulan yang bersangkutan.\n",
      "\n",
      "Source: KEP-05/PM/1996\n",
      "(https://www.ojk.go.id/id/regulasi/Documents/Pages/BAPEPAM-tentang-Tata-Cara-Penyusunan-serta-Pengajuan-Rencana-Anggaran-dan-Penggunaan-Laba-Bursa-Efek/IIIA4_Tata%20Cara%20Penyusunan-Pengajuan%20Rencana%20Anggaran%20dan%20Penggunaan%20Laba%20BE.pdf#page=5)\n",
      "Human: Berapa SWDKLLJ dari buldozer?\n",
      "AI: Besar premi asuransi SWDKLLJ yang harus dibayarkan oleh pemilik buldozer sebesar Rp 20.000,00 (dua puluh ribu rupiah).\n",
      "\n",
      "Source: Peraturan Menteri Keuangan Nomor 36/PMK.010/2008 tentang Besar Santunan dan Sumbangan Wajib Dana Kecelakaan Lalu Lintas Jalan (https://www.ojk.go.id/id/regulasi/Documents/Pages/PMK-Nomor-36PMK.010-Tahun-2008-tentang-Besar-Santunan-dan-Sumbangan-Wajib-Dana-Kecelakaan-Lalu-Lintas-Jalan/menas13_1389258036.pdf#page=3)\n"
     ]
    }
   ],
   "source": [
    "# to print chat history\n",
    "print(chat_store.get_session_history(user_id=USER_ID, conversation_id=CONVERSATION_ID))"
   ]
  },
  {
   "cell_type": "code",
   "execution_count": 11,
   "metadata": {},
   "outputs": [],
   "source": [
    "# to make the chat history empty\n",
    "chat_store.clear_all()"
   ]
  },
  {
   "cell_type": "markdown",
   "metadata": {},
   "source": [
    "#### **Evaluation**"
   ]
  },
  {
   "cell_type": "code",
   "execution_count": 12,
   "metadata": {},
   "outputs": [],
   "source": [
    "eval_questions = [\n",
    "    \"Apa itu SWDKLLJ?\",\n",
    "    \"Bursa Efek wajib menyampaikan laporan realisasi anggaran kepada Bapepam melalui dewan komisaris dengan ketentuan apa?\",\n",
    "    \"KEPUTUSAN KETUA BADAN PENGAWAS PASAR MODAL NOMOR KEP-06/PM/1996 tentang apa?\",\n",
    "    \"Siapa yang menandatangani keputusan ketua bapepam nomor kep-07/PM/1996?\",\n",
    "    \"Penolakan atas permohonan persetujuan mengenai pengajuan atau perubahan peraturan Lembaga Kliring dan Penjaminan dilakukan dengan menggunakan formulir nomor berapa?\",\n",
    "    \"Anggota Dewan Pengawas Syariah Perusahaan Pembiayaan dilarang untuk apa?\",\n",
    "    \"Berapa uang pertanggungan dan pertanggungan total loss only (tlo) untuk kategori 5?\",\n",
    "    \"Perusahaan wajib menyampaikan laporan hasil pengawasan Dewan Pengawas Syariah sebagaimana dimaksud dalam Pasal 2 dalam bentuk apa, kepada siapa, dan paling lambat kapan?\",\n",
    "    \"Batas tingkat solvabilitas minimum bagi perusahaan asuransi dan perusahaan reasuransi ditingkatkan berdasarkan apa?\",\n",
    "    \"Kapan PERATURAN KETUA BADAN PENGAWAS PASAR MODAL DAN LEMBAGA KEUANGAN NOMOR: PER- 10/BL/2012 mulai berlaku?\",\n",
    "    \"Apa itu Dana Tabarru’\",\n",
    "    \"Dalam rangka mendorong pertumbuhan industri Dana Pensiun, dipandang perlu mengubah ketentuan mengenai sanksi administratif berupa apa?\",\n",
    "    \"Laporan Tahunan dan Laporan Semester sekurang-kurangnya mencakup aspek apa saja?\",\n",
    "    \"Pendiri harus mengajukan permohonan tertulis kepada siapa untuk mendapatkan pengesahan pendirian Dana Pensiun Lembaga Keuangan?\",\n",
    "    \"Berapa tarif pemotongan pajak untuk penghasilan bruto di atas seratus juta sampai dengan dua ratus juta rupiah?\",\n",
    "    \"Apa yang dimaksud dengan 'telah beroperasi'?\",\n",
    "    \"Lembaga Jasa Keuangan Non-Bank yang tidak memenuhi ketentuan Pasal 2 dan Pasal 3 dalam Peraturan OJK ini, dikenakan sanksi administratif berupa apa saja?\",\n",
    "    \"Apa yang dimaksud dengan Lembaga Sertifikasi Profesi?\",\n",
    "    \"Apa pertimbangan profil risiko perusahaan?\",\n",
    "    \"LJKNB yang memiliki total aset lebih dari Rp500.000.000.000,00 (lima ratus miliar rupiah) sampai dengan Rp1.000.000.000.000,00 (satu triliun rupiah) wajib untuk apa?\",\n",
    "    \"Siapa presiden republik Indonesia yang menandatangani peraturan pemerintah republik Indonesia nomor 12 Tahun 2004?\",\n",
    "    \"Berapa jumlah modal yang disetor bursa efek?\",\n",
    "    \"Bagaimana norma pemeriksaan yang menyangkut pihak yang diperiksa?\",\n",
    "    \"Apa isi Pasal II PERATURAN PEMERINTAH REPUBLIK INDONESIA NOMOR 63 TAHUN 1999?\",\n",
    "    \"Berapa modal yang disetor bagi perusahaan Asuransi Jiwa yang seluruh pemiliknya warga negara Indonesia?\",\n",
    "    \"Apa itu Bank Perkreditan Rakyat?\",\n",
    "    \"Bagaimana pelaksanaan wawancara jika calon pemegang saham pengendali BPR adalah pemerintah?\",\n",
    "    \"Berapa modal yang disetor untuk mendirikan Bank Umum?\",\n",
    "    \"Bagaimana cara bank untuk meningkatkan good corporate governance?\",\n",
    "    \"Peraturan Bank Indonesia Nomor 7/33/PBI/2005 berisi pencabutan atas peraturan bank indonesia nomor berapa dan tentang apa?\",\n",
    "    \"Surat edaran bank indonesia no 15/14/DPNP ditujukan kepada siapa?\",\n",
    "    \"Apa isi ketentuan peralihan dari surat edaran No. 15/20/DKBU?\",\n",
    "    \"Surat edaran bank indonesia No. 15/22/DPbS mencabut surat edaran bank indonesia nomor berapa?\",\n",
    "    \"Kapan dan di mana Surat Edaran No. 15/25/DPNP mulai berlaku?\",\n",
    "    \"Bank Syariah wajib membentuk cadangan kerugian penurunan nilai (CKPN) atas apa?\",\n",
    "    \"Berapa penurunan IHSG BEI sejak tanggal 20 Mei 2013-27 Agustus 2013?\",\n",
    "    \"Berapa lama Pengguna S-INVEST yang bertindak sebagai Bank Kustodian melakukan uji coba penyampaian surat?\",\n",
    "    \"Apa judul regulasi nomor 1/SEOJK.04/2002?\",\n",
    "    \"Penilaian Faktor Profil Risiko, menjelaskan mengenai mekanisme penilaian faktor profil risiko, yang terdiri dari 9 jenis risiko, apa saja jenis risiko tersebut?\",\n",
    "    \"Sumber daya merupakan kriteria dalam melakukan penilaian terhadap lembaga pemeringkat yang digunakan untuk apa?\",\n",
    "    \"Asuransi dapat diberikan dalam bentuk apa saja?\",\n",
    "    \"Badan Supervisi terdiri dari berapa anggota?\",\n",
    "    \"Apa yang dimaksud dengan Dana Pensiun berdasarkan pasal 134 UU PPSK?\",\n",
    "    \"Tahun berapa krisis keuangan terbesar di Amerika Serikat pernah terjadi?\",\n",
    "    \"Siapa menteri keuangan yang mensahkan UU RI Nomor 84 Tahun 1958?\"\n",
    "]\n",
    "\n",
    "eval_answers = [\n",
    "    \"Sumbangan Wajib Dana Kecelakaan Lalu Lintas adalah sumbangan wajib sebagaimana dimaksud dalam Undang-Undang Nomor 34 Tahun 1964 tentang Dana Kecelakaan Lalu Lintas Jalan juncto Peraturan Pemerintah Nomor 18 Tahun 1965 tentang Ketentuan-Ketentuan Pelaksanaan Dana Kecelakaan Lalu Lintas Jalan\",\n",
    "    \"Bursa Efek wajib menyampaikan laporan realisasi anggaran kepada Bapepam melalui dewan komisaris, dengan ketentuan bahwa laporan tersebut disampaikan secara kumulatif triwulanan dan diterima oleh Bapepam selambat-lambatnya pada hari ke dua belas setelah berakhirnya triwulan yang bersangkutan\",\n",
    "    \"TATA CARA PEMBERIAN PERSETUJUAN ANGGARAN DASAR BURSA EFEK\",\n",
    "    \"I Putu Gede Ary Suta, Badan Pengawas Pasar Modal\",\n",
    "    \"Penolakan atas permohonan persetujuan mengenai pengajuan atau perubahan peraturan Lembaga Kliring dan Penjaminan dilakukan dengan menggunakan Formulir Nomor III.B.2-3 lampiran 3 peraturan ini.\",\n",
    "    \"Dilarang melakukan rangkap jabatan sebagai anggota direksi atau dewan komisaris pada Perusahaan Pembiayaan, Dilarang merangkap jabatan sebagai anggota Dewan Pengawas Syariah lebih dari 2 (dua) Perusahaan Pembiayaan lain.\",\n",
    "    \"Lebih dari Rp800.0000.000,00 dan 0,28%\",\n",
    "    \"Perusahaan wajib menyampaikan laporan hasil pengawasan Dewan Pengawas Syariah sebagaimana dimaksud dalam Pasal 2 dalam bentuk dokumen fisik (hardcopy) dan format digital (softcopy) kepada Biro Perasuransian Badan Pengawas Pasar Modal dan Lembaga Keuangan, paling lambat tanggal 31 Maret tahun berikutnya.\",\n",
    "    \"Batas tingkat solvabilitas minimum bagi perusahaan asuransi dan perusahaan reasuransi sebagaimana dimaksud dalam Pasal 3 Keputusan Menteri Keuangan Nomor 424/KMK.06/2003 tentang Kesehatan Keuangan Perusahaan Asuransi dan Perusahaan Reasuransi sebagaimana telah beberapa kali diubah terakhir dengan Peraturan Menteri Keuangan Nomor 158/PMK.010/2008, ditetapkan berdasarkan besarnya risiko kerugian yang mungkin timbul sebagai akibat dari deviasi dalam pengelolaan kekayaan dan kewajiban.\",\n",
    "    \"Peraturan Ketua ini mulai berlaku pada tanggal 1 Juni 2013.\",\n",
    "    \"Dana Tabarru’ adalah kumpulan dana yang berasal dari kontribusi para peserta, yang mekanisme penggunaannya sesuai dengan Akad Tabarru’ yang disepakati\",\n",
    "    \"Dalam rangka mendorong pertumbuhan industri Dana Pensiun, dipandang perlu mengubah ketentuan mengenai sanksi administratif berupa denda atas keterlambatan penyampaian laporan investasi sebagaimana telah ditetapkan dalam Peraturan Menteri Keuangan Nomor 199/PMK.010/2008 tentang Investasi Dana Pensiun\",\n",
    "    \"Operasional, keuangan, investasi, aktuaria, dan statistik\",\n",
    "    \"Pendiri harus mengajukan permohonan tertulis kepada Menteri c.q. Ketua Badan Pengawas Pasar Modal dan Lembaga Keuangan u.p. Kepala Biro Dana Pensiun, Badan Pengawas Pasar Modal dan Lembaga Keuangan untuk mendapatkan pengesahan pendirian Dana Pensiun Lembaga Keuangan\",\n",
    "    \"15%\",\n",
    "    \"Yang dimaksud dengan “telah beroperasi” adalah telah mendapatkan izin usaha bagi perusahaan asuransi jiwa, perusahaan asuransi umum, perusahaan reasuransi, dan lembaga penjaminan termasuk yang menyelenggarakan seluruh atau sebagian usahanya dengan prinsip syariah, atau telah memperoleh pengesahan bagi dana pensiun pemberi kerja.\",\n",
    "    \"Peringatan tertulis, penilaian kembali kemampuan dan kepatutan, larangan menjadi pemegang saham\",\n",
    "    \"Lembaga Sertifikasi Profesi adalah lembaga pelaksana kegiatan sertifikasi profesi yang memperoleh lisensi dari lembaga negara yang berwenang memberikan lisensi terhadap lembaga sertifikasi profesi di Indonesia.\",\n",
    "    \"Profil risiko Perusahaan mempertimbangkan antara lain letak geografis, produk Perusahaan, rencana bisnis, dan klaim experience dalam mengukur profil risiko serta mempertimbangkan hasil simulasi skenario perubahan (stress test). Selain itu Perusahaan dapat mempertimbangkan risiko lain yang mungkin timbul antara lain berasal dari rencana perubahan strategi dan/atau pengembangan bisnis Perusahaan.\",\n",
    "    \"Memiliki pusat data dan melakukan rekam cadang data aktivitas yang diproses menggunakan Teknologi Informasi yang dilakukan secara berkala\",\n",
    "    \"Megawati Soekarnoputri\",\n",
    "    \"Modal disetor Bursa Efek sekurang-kurangnya berjumlah Rp7.500.000.000,00 (tujuh miliar lima ratus juta rupiah).\",\n",
    "    \"Pihak yang diperiksa berhak meminta kepada Pemeriksa untuk memperlihatkan Surat Perintah Pemeriksaan dan Tanda Pengenal Pemeriksa, Pihak yang diperiksa berhak meminta kepada Pemeriksa untuk memberikan penjelasan tentang maksud dan tujuan pemeriksaan, dan Pihak yang diperiksa menandatangani surat pernyataan persetujuan tentang hasil pemeriksaan.\",\n",
    "    \"Bagi permohonan izin usaha Perusahaan Asuransi dan Perusahaan Reasuransi yang telah diajukan dan yang telah memperoleh izin prinsip sebelum Peraturan Pemerintah ini ditetapkan, persyaratan permodalan tetap diberlakukan berdasarkan persyaratan yang berlaku pada saat izin prinsip ditetapkan.\",\n",
    "    \"Rp. 2.000.000.000,-\",\n",
    "    \"Bank Perkreditan Rakyat, yang selanjutnya disebut BPR, adalah Bank Perkreditan Rakyat sebagaimana dimaksud dalam Pasal 1 angka 4 Undang Undang Nomor 7 Tahun 1992 tentang Perbankan sebagaimana telah diubah dengan Undang-undang Nomor 10 Tahun 1998, yang melaksanakan kegiatan usaha secara konvensional.\",\n",
    "    \"Dalam hal calon Pemegang Saham Pengendali BPR adalah pemerintah, maka pelaksanaan wawancara sebagaimana dimaksud dalam Pasal 8 ayat (1) huruf b hanya dilakukan apabila dianggap perlu.\",\n",
    "    \"Modal disetor untuk mendirikan Bank ditetapkan sekurang-kurangnya sebesar Rp3.000.000.000.000,00 (tiga triliun rupiah).\",\n",
    "    \"Bahwa dalam rangka meningkatkan good corporate governance, bank perlu menetapkan sasaran strategis dan seperangkat nilai perusahaan (corporate values) yang mengarahkan kegiatan operasional bank;\",\n",
    "    \"PERATURAN BANK INDONESIA NOMOR 5/17/PBI/2003 TENTANG PERSYARATAN DAN TATA CARA PELAKSANAAN JAMINAN PEMERINTAH TERHADAP KEWAJIBAN PEMBAYARAN BANK PERKREDITAN RAKYAT\",\n",
    "    \"Kepada SEMUA BANK UMUM YANG MELAKUKAN KEGIATAN USAHA SECARA KONVENSIONAL DI INDONESIA\",\n",
    "    \"A. Penyusunan dan penyampaian Laporan Bulanan dan/atau Koreksi Laporan Bulanan untuk posisi bulan sebelum bulan Agustus 2013 tetap berpedoman pada Surat Edaran Bank Indonesia Nomor 8/7/DPBPR tanggal 23 Februari 2006 perihal Laporan Bulanan Bank Perkreditan Rakyat sebagaimana telah diubah terakhir dengan Surat Edaran Bank Indonesia Nomor 12/15/DKBU tanggal 11 Juni 2010. B. BPR Pelapor melakukan uji coba penyampaian Laporan Bulanan untuk posisi bulan Juni dan Juli 2013 yang masing-masing disampaikan paling lambat pada akhir bulan berikutnya, dengan berpedoman pada Surat Edaran Bank Indonesia ini.\",\n",
    "    \"Dengan berlakunya Surat Edaran Bank Indonesia ini maka Surat Edaran Bank Indonesia Nomor 8/19/DPbS tanggal 24 Agustus 2006 perihal Pedoman Pengawasan Syariah dan Tata Cara Pelaporan Hasil Pengawasan bagi Dewan Pengawas Syariah dicabut dan dinyatakan tidak berlaku.\",\n",
    "    \"Jakarta, 9 Juli 2013\",\n",
    "    \"Bank Syariah wajib membentuk cadangan kerugian penurunan nilai (CKPN) atas aset keuangan dan aset non keuangan sesuai dengan standar akuntansi keuangan yang berlaku.\",\n",
    "    \"Berdasarkan pertimbangan sebagaimana dimaksud angka I, maka penurunan Indeks Harga Saham Gabungan Bursa Efek Indonesia sejak tanggal 20 Mei 2013 sampai dengan tanggal 27 Agustus 2013 ini sebesar 1.247,134 poin atau 23,91% (dua puluh tiga koma sembilan satu perseratus) ditetapkan sebagai Kondisi Lain sebagaimana dimaksud Pasal 1 angka 1 huruf b POJK Nomor 2/POJK.04/2013.\",\n",
    "    \"Pengguna S-INVEST yang bertindak sebagai Bank Kustodian melakukan uji coba penyampaian surat atau bukti konfirmasi dan laporan berkala Reksa Dana melalui S-INVEST dalam jangka waktu 12 (dua belas) bulan sejak ditetapkannya Surat Edaran Otoritas Jasa Keuangan ini\",\n",
    "    \"SURAT EDARAN OTORITAS JASA KEUANGAN REPUBLIK INDONESIA NOMOR 1/SEOJK.04/2022 TENTANG TATA CARA PERMOHONAN PERSETUJUAN SEBAGAI PENYEDIA SISTEM PENYELENGGARAAN RAPAT UMUM PEMEGANG SAHAM SECARA ELEKTRONIK (E-RUPS)\",\n",
    "    \"Risiko inheren atas risiko strategis, operasional, asuransi, kredit, pasar, likuiditas, hukum, kepatuhan, dan reputasi.\",\n",
    "    \"Kriteria ini digunakan untuk menilai kemampuan lembaga pemeringkat dalam memberikan jasa pemeringkatan, baik dari aspek sumber daya manusia (human resources), aspek sumber daya keuangan (financial resources), maupun dukungan pemegang saham, yang memungkinkan lembaga pemeringkat beroperasi secara independen dan profesional.\",\n",
    "    \"Asuransi atas risiko kegagalan Ekspor, atas risiko kegagalan bayar, atas investasi yang dilakukan oleh perusahaan Indonesia di luar negeri, dan/atau atas risiko politik di suatu negara yang menjadi tujuan ekspor\",\n",
    "    \"Badan Supervisi terdiri 5 (lima) orang anggota terdiri dari seorang Ketua merangkap anggota, dan 4 (empat) orang anggota yang dipilih oleh Dewan Perwakilan Rakyat dan diangkat oleh Presiden untuk masa jabatan 3 (tiga) tahun dan dapat dipilih kembali untuk satu kali masa jabatan berikutnya.\",\n",
    "    \"Berdasarkan Pasal 134 UU PPSK, Dana Pensiun adalah badan hukum yang mengelola dan menjalankan program yang menjanjikan manfaat pensiun. Selain manfaat pensiun, Dana Pensiun dapat menyelanggarakan manfaat lain sebagai manfaat tambahan sebagaimana diatur dalam peraturan perundang-undangan di bidang Dana Pensiun.\",\n",
    "    \"Krisis keuangan akhir-akhir ini di Amerika Serikat yang merupakan terbesar sejak krisis 1929\",\n",
    "    \"Soetikno Slamet\"\n",
    "]"
   ]
  },
  {
   "cell_type": "code",
   "execution_count": 13,
   "metadata": {},
   "outputs": [
    {
     "name": "stderr",
     "output_type": "stream",
     "text": [
      "Metadata key page_number not found in metadata. Setting to None. \n",
      "Metadata fields defined for this instance: ['title', 'sector', 'subsector', 'regulation_type', 'regulation_number', 'effective_date', 'file_url', 'doc_id', 'page_number']\n",
      "Metadata key page_number not found in metadata. Setting to None. \n",
      "Metadata fields defined for this instance: ['title', 'sector', 'subsector', 'regulation_type', 'regulation_number', 'effective_date', 'file_url', 'doc_id', 'page_number']\n"
     ]
    },
    {
     "ename": "OutputParserException",
     "evalue": "Parsing text\n```json\n{\n    \"query\": \"tarif pemotongan pajak\",\n    \"filter\": \"and(gte(\\\"penghasilan_bruto\\\", \\\"100000000\\\"), lte(\\\"penghasilan_bruto\\\", \\\"200000000\\\"))\"\n}\n```\n raised following error:\nReceived invalid attributes penghasilan_bruto. Allowed attributes are ['title', 'sector', 'subsector', 'regulation_type', 'regulation_number', 'effective_date']",
     "output_type": "error",
     "traceback": [
      "\u001b[1;31m---------------------------------------------------------------------------\u001b[0m",
      "\u001b[1;31mValueError\u001b[0m                                Traceback (most recent call last)",
      "File \u001b[1;32mc:\\Users\\acer\\miniconda3\\envs\\chatbot-ocbc\\lib\\site-packages\\langchain\\chains\\query_constructor\\base.py:57\u001b[0m, in \u001b[0;36mStructuredQueryOutputParser.parse\u001b[1;34m(self, text)\u001b[0m\n\u001b[0;32m     56\u001b[0m \u001b[38;5;28;01melse\u001b[39;00m:\n\u001b[1;32m---> 57\u001b[0m     parsed[\u001b[38;5;124m\"\u001b[39m\u001b[38;5;124mfilter\u001b[39m\u001b[38;5;124m\"\u001b[39m] \u001b[38;5;241m=\u001b[39m \u001b[38;5;28;43mself\u001b[39;49m\u001b[38;5;241;43m.\u001b[39;49m\u001b[43mast_parse\u001b[49m\u001b[43m(\u001b[49m\u001b[43mparsed\u001b[49m\u001b[43m[\u001b[49m\u001b[38;5;124;43m\"\u001b[39;49m\u001b[38;5;124;43mfilter\u001b[39;49m\u001b[38;5;124;43m\"\u001b[39;49m\u001b[43m]\u001b[49m\u001b[43m)\u001b[49m\n\u001b[0;32m     58\u001b[0m \u001b[38;5;28;01mif\u001b[39;00m \u001b[38;5;129;01mnot\u001b[39;00m parsed\u001b[38;5;241m.\u001b[39mget(\u001b[38;5;124m\"\u001b[39m\u001b[38;5;124mlimit\u001b[39m\u001b[38;5;124m\"\u001b[39m):\n",
      "File \u001b[1;32mc:\\Users\\acer\\miniconda3\\envs\\chatbot-ocbc\\lib\\site-packages\\lark\\lark.py:658\u001b[0m, in \u001b[0;36mLark.parse\u001b[1;34m(self, text, start, on_error)\u001b[0m\n\u001b[0;32m    641\u001b[0m \u001b[38;5;250m\u001b[39m\u001b[38;5;124;03m\"\"\"Parse the given text, according to the options provided.\u001b[39;00m\n\u001b[0;32m    642\u001b[0m \n\u001b[0;32m    643\u001b[0m \u001b[38;5;124;03mParameters:\u001b[39;00m\n\u001b[1;32m   (...)\u001b[0m\n\u001b[0;32m    656\u001b[0m \n\u001b[0;32m    657\u001b[0m \u001b[38;5;124;03m\"\"\"\u001b[39;00m\n\u001b[1;32m--> 658\u001b[0m \u001b[38;5;28;01mreturn\u001b[39;00m \u001b[38;5;28;43mself\u001b[39;49m\u001b[38;5;241;43m.\u001b[39;49m\u001b[43mparser\u001b[49m\u001b[38;5;241;43m.\u001b[39;49m\u001b[43mparse\u001b[49m\u001b[43m(\u001b[49m\u001b[43mtext\u001b[49m\u001b[43m,\u001b[49m\u001b[43m \u001b[49m\u001b[43mstart\u001b[49m\u001b[38;5;241;43m=\u001b[39;49m\u001b[43mstart\u001b[49m\u001b[43m,\u001b[49m\u001b[43m \u001b[49m\u001b[43mon_error\u001b[49m\u001b[38;5;241;43m=\u001b[39;49m\u001b[43mon_error\u001b[49m\u001b[43m)\u001b[49m\n",
      "File \u001b[1;32mc:\\Users\\acer\\miniconda3\\envs\\chatbot-ocbc\\lib\\site-packages\\lark\\parser_frontends.py:104\u001b[0m, in \u001b[0;36mParsingFrontend.parse\u001b[1;34m(self, text, start, on_error)\u001b[0m\n\u001b[0;32m    103\u001b[0m stream \u001b[38;5;241m=\u001b[39m \u001b[38;5;28mself\u001b[39m\u001b[38;5;241m.\u001b[39m_make_lexer_thread(text)\n\u001b[1;32m--> 104\u001b[0m \u001b[38;5;28;01mreturn\u001b[39;00m \u001b[38;5;28mself\u001b[39m\u001b[38;5;241m.\u001b[39mparser\u001b[38;5;241m.\u001b[39mparse(stream, chosen_start, \u001b[38;5;241m*\u001b[39m\u001b[38;5;241m*\u001b[39mkw)\n",
      "File \u001b[1;32mc:\\Users\\acer\\miniconda3\\envs\\chatbot-ocbc\\lib\\site-packages\\lark\\parsers\\lalr_parser.py:42\u001b[0m, in \u001b[0;36mLALR_Parser.parse\u001b[1;34m(self, lexer, start, on_error)\u001b[0m\n\u001b[0;32m     41\u001b[0m \u001b[38;5;28;01mtry\u001b[39;00m:\n\u001b[1;32m---> 42\u001b[0m     \u001b[38;5;28;01mreturn\u001b[39;00m \u001b[38;5;28;43mself\u001b[39;49m\u001b[38;5;241;43m.\u001b[39;49m\u001b[43mparser\u001b[49m\u001b[38;5;241;43m.\u001b[39;49m\u001b[43mparse\u001b[49m\u001b[43m(\u001b[49m\u001b[43mlexer\u001b[49m\u001b[43m,\u001b[49m\u001b[43m \u001b[49m\u001b[43mstart\u001b[49m\u001b[43m)\u001b[49m\n\u001b[0;32m     43\u001b[0m \u001b[38;5;28;01mexcept\u001b[39;00m UnexpectedInput \u001b[38;5;28;01mas\u001b[39;00m e:\n",
      "File \u001b[1;32mc:\\Users\\acer\\miniconda3\\envs\\chatbot-ocbc\\lib\\site-packages\\lark\\parsers\\lalr_parser.py:88\u001b[0m, in \u001b[0;36m_Parser.parse\u001b[1;34m(self, lexer, start, value_stack, state_stack, start_interactive)\u001b[0m\n\u001b[0;32m     87\u001b[0m     \u001b[38;5;28;01mreturn\u001b[39;00m InteractiveParser(\u001b[38;5;28mself\u001b[39m, parser_state, parser_state\u001b[38;5;241m.\u001b[39mlexer)\n\u001b[1;32m---> 88\u001b[0m \u001b[38;5;28;01mreturn\u001b[39;00m \u001b[38;5;28;43mself\u001b[39;49m\u001b[38;5;241;43m.\u001b[39;49m\u001b[43mparse_from_state\u001b[49m\u001b[43m(\u001b[49m\u001b[43mparser_state\u001b[49m\u001b[43m)\u001b[49m\n",
      "File \u001b[1;32mc:\\Users\\acer\\miniconda3\\envs\\chatbot-ocbc\\lib\\site-packages\\lark\\parsers\\lalr_parser.py:102\u001b[0m, in \u001b[0;36m_Parser.parse_from_state\u001b[1;34m(self, state, last_token)\u001b[0m\n\u001b[0;32m    101\u001b[0m     \u001b[38;5;28;01massert\u001b[39;00m token \u001b[38;5;129;01mis\u001b[39;00m \u001b[38;5;129;01mnot\u001b[39;00m \u001b[38;5;28;01mNone\u001b[39;00m\n\u001b[1;32m--> 102\u001b[0m     \u001b[43mstate\u001b[49m\u001b[38;5;241;43m.\u001b[39;49m\u001b[43mfeed_token\u001b[49m\u001b[43m(\u001b[49m\u001b[43mtoken\u001b[49m\u001b[43m)\u001b[49m\n\u001b[0;32m    104\u001b[0m end_token \u001b[38;5;241m=\u001b[39m Token\u001b[38;5;241m.\u001b[39mnew_borrow_pos(\u001b[38;5;124m'\u001b[39m\u001b[38;5;124m$END\u001b[39m\u001b[38;5;124m'\u001b[39m, \u001b[38;5;124m'\u001b[39m\u001b[38;5;124m'\u001b[39m, token) \u001b[38;5;28;01mif\u001b[39;00m token \u001b[38;5;28;01melse\u001b[39;00m Token(\u001b[38;5;124m'\u001b[39m\u001b[38;5;124m$END\u001b[39m\u001b[38;5;124m'\u001b[39m, \u001b[38;5;124m'\u001b[39m\u001b[38;5;124m'\u001b[39m, \u001b[38;5;241m0\u001b[39m, \u001b[38;5;241m1\u001b[39m, \u001b[38;5;241m1\u001b[39m)\n",
      "File \u001b[1;32mc:\\Users\\acer\\miniconda3\\envs\\chatbot-ocbc\\lib\\site-packages\\lark\\parsers\\lalr_parser_state.py:101\u001b[0m, in \u001b[0;36mParserState.feed_token\u001b[1;34m(self, token, is_end)\u001b[0m\n\u001b[0;32m     99\u001b[0m     s \u001b[38;5;241m=\u001b[39m []\n\u001b[1;32m--> 101\u001b[0m value \u001b[38;5;241m=\u001b[39m \u001b[43mcallbacks\u001b[49m\u001b[43m[\u001b[49m\u001b[43mrule\u001b[49m\u001b[43m]\u001b[49m\u001b[43m(\u001b[49m\u001b[43ms\u001b[49m\u001b[43m)\u001b[49m \u001b[38;5;28;01mif\u001b[39;00m callbacks \u001b[38;5;28;01melse\u001b[39;00m s\n\u001b[0;32m    103\u001b[0m _action, new_state \u001b[38;5;241m=\u001b[39m states[state_stack[\u001b[38;5;241m-\u001b[39m\u001b[38;5;241m1\u001b[39m]][rule\u001b[38;5;241m.\u001b[39morigin\u001b[38;5;241m.\u001b[39mname]\n",
      "File \u001b[1;32mc:\\Users\\acer\\miniconda3\\envs\\chatbot-ocbc\\lib\\site-packages\\lark\\parse_tree_builder.py:155\u001b[0m, in \u001b[0;36mChildFilterLALR_NoPlaceholders.__call__\u001b[1;34m(self, children)\u001b[0m\n\u001b[0;32m    154\u001b[0m         filtered\u001b[38;5;241m.\u001b[39mappend(children[i])\n\u001b[1;32m--> 155\u001b[0m \u001b[38;5;28;01mreturn\u001b[39;00m \u001b[38;5;28;43mself\u001b[39;49m\u001b[38;5;241;43m.\u001b[39;49m\u001b[43mnode_builder\u001b[49m\u001b[43m(\u001b[49m\u001b[43mfiltered\u001b[49m\u001b[43m)\u001b[49m\n",
      "File \u001b[1;32mc:\\Users\\acer\\miniconda3\\envs\\chatbot-ocbc\\lib\\site-packages\\lark\\parse_tree_builder.py:327\u001b[0m, in \u001b[0;36mapply_visit_wrapper.<locals>.f\u001b[1;34m(children)\u001b[0m\n\u001b[0;32m    325\u001b[0m \u001b[38;5;129m@wraps\u001b[39m(func)\n\u001b[0;32m    326\u001b[0m \u001b[38;5;28;01mdef\u001b[39;00m \u001b[38;5;21mf\u001b[39m(children):\n\u001b[1;32m--> 327\u001b[0m     \u001b[38;5;28;01mreturn\u001b[39;00m \u001b[43mwrapper\u001b[49m\u001b[43m(\u001b[49m\u001b[43mfunc\u001b[49m\u001b[43m,\u001b[49m\u001b[43m \u001b[49m\u001b[43mname\u001b[49m\u001b[43m,\u001b[49m\u001b[43m \u001b[49m\u001b[43mchildren\u001b[49m\u001b[43m,\u001b[49m\u001b[43m \u001b[49m\u001b[38;5;28;43;01mNone\u001b[39;49;00m\u001b[43m)\u001b[49m\n",
      "File \u001b[1;32mc:\\Users\\acer\\miniconda3\\envs\\chatbot-ocbc\\lib\\site-packages\\lark\\visitors.py:501\u001b[0m, in \u001b[0;36m_vargs_inline\u001b[1;34m(f, _data, children, _meta)\u001b[0m\n\u001b[0;32m    500\u001b[0m \u001b[38;5;28;01mdef\u001b[39;00m \u001b[38;5;21m_vargs_inline\u001b[39m(f, _data, children, _meta):\n\u001b[1;32m--> 501\u001b[0m     \u001b[38;5;28;01mreturn\u001b[39;00m \u001b[43mf\u001b[49m\u001b[43m(\u001b[49m\u001b[38;5;241;43m*\u001b[39;49m\u001b[43mchildren\u001b[49m\u001b[43m)\u001b[49m\n",
      "File \u001b[1;32mc:\\Users\\acer\\miniconda3\\envs\\chatbot-ocbc\\lib\\site-packages\\lark\\visitors.py:479\u001b[0m, in \u001b[0;36m_VArgsWrapper.__call__\u001b[1;34m(self, *args, **kwargs)\u001b[0m\n\u001b[0;32m    478\u001b[0m \u001b[38;5;28;01mdef\u001b[39;00m \u001b[38;5;21m__call__\u001b[39m(\u001b[38;5;28mself\u001b[39m, \u001b[38;5;241m*\u001b[39margs, \u001b[38;5;241m*\u001b[39m\u001b[38;5;241m*\u001b[39mkwargs):\n\u001b[1;32m--> 479\u001b[0m     \u001b[38;5;28;01mreturn\u001b[39;00m \u001b[38;5;28mself\u001b[39m\u001b[38;5;241m.\u001b[39mbase_func(\u001b[38;5;241m*\u001b[39margs, \u001b[38;5;241m*\u001b[39m\u001b[38;5;241m*\u001b[39mkwargs)\n",
      "File \u001b[1;32mc:\\Users\\acer\\miniconda3\\envs\\chatbot-ocbc\\lib\\site-packages\\langchain\\chains\\query_constructor\\parser.py:88\u001b[0m, in \u001b[0;36mQueryTransformer.func_call\u001b[1;34m(self, func_name, args)\u001b[0m\n\u001b[0;32m     87\u001b[0m \u001b[38;5;28;01mif\u001b[39;00m \u001b[38;5;28mself\u001b[39m\u001b[38;5;241m.\u001b[39mallowed_attributes \u001b[38;5;129;01mand\u001b[39;00m args[\u001b[38;5;241m0\u001b[39m] \u001b[38;5;129;01mnot\u001b[39;00m \u001b[38;5;129;01min\u001b[39;00m \u001b[38;5;28mself\u001b[39m\u001b[38;5;241m.\u001b[39mallowed_attributes:\n\u001b[1;32m---> 88\u001b[0m     \u001b[38;5;28;01mraise\u001b[39;00m \u001b[38;5;167;01mValueError\u001b[39;00m(\n\u001b[0;32m     89\u001b[0m         \u001b[38;5;124mf\u001b[39m\u001b[38;5;124m\"\u001b[39m\u001b[38;5;124mReceived invalid attributes \u001b[39m\u001b[38;5;132;01m{\u001b[39;00margs[\u001b[38;5;241m0\u001b[39m]\u001b[38;5;132;01m}\u001b[39;00m\u001b[38;5;124m. Allowed attributes are \u001b[39m\u001b[38;5;124m\"\u001b[39m\n\u001b[0;32m     90\u001b[0m         \u001b[38;5;124mf\u001b[39m\u001b[38;5;124m\"\u001b[39m\u001b[38;5;132;01m{\u001b[39;00m\u001b[38;5;28mself\u001b[39m\u001b[38;5;241m.\u001b[39mallowed_attributes\u001b[38;5;132;01m}\u001b[39;00m\u001b[38;5;124m\"\u001b[39m\n\u001b[0;32m     91\u001b[0m     )\n\u001b[0;32m     92\u001b[0m \u001b[38;5;28;01mreturn\u001b[39;00m Comparison(comparator\u001b[38;5;241m=\u001b[39mfunc, attribute\u001b[38;5;241m=\u001b[39margs[\u001b[38;5;241m0\u001b[39m], value\u001b[38;5;241m=\u001b[39margs[\u001b[38;5;241m1\u001b[39m])\n",
      "\u001b[1;31mValueError\u001b[0m: Received invalid attributes penghasilan_bruto. Allowed attributes are ['title', 'sector', 'subsector', 'regulation_type', 'regulation_number', 'effective_date']",
      "\nDuring handling of the above exception, another exception occurred:\n",
      "\u001b[1;31mOutputParserException\u001b[0m                     Traceback (most recent call last)",
      "Cell \u001b[1;32mIn[13], line 11\u001b[0m\n\u001b[0;32m      8\u001b[0m ground_truths \u001b[38;5;241m=\u001b[39m eval_answers\n\u001b[0;32m     10\u001b[0m \u001b[38;5;28;01mfor\u001b[39;00m query \u001b[38;5;129;01min\u001b[39;00m queries:\n\u001b[1;32m---> 11\u001b[0m     result \u001b[38;5;241m=\u001b[39m \u001b[43mget_response\u001b[49m\u001b[43m(\u001b[49m\n\u001b[0;32m     12\u001b[0m \u001b[43m        \u001b[49m\u001b[43mchain\u001b[49m\u001b[38;5;241;43m=\u001b[39;49m\u001b[43mchain_history\u001b[49m\u001b[43m,\u001b[49m\n\u001b[0;32m     13\u001b[0m \u001b[43m        \u001b[49m\u001b[43mquestion\u001b[49m\u001b[38;5;241;43m=\u001b[39;49m\u001b[43mquery\u001b[49m\u001b[43m,\u001b[49m\n\u001b[0;32m     14\u001b[0m \u001b[43m        \u001b[49m\u001b[43muser_id\u001b[49m\u001b[38;5;241;43m=\u001b[39;49m\u001b[43mUSER_ID\u001b[49m\u001b[43m,\u001b[49m\n\u001b[0;32m     15\u001b[0m \u001b[43m        \u001b[49m\u001b[43mconversation_id\u001b[49m\u001b[38;5;241;43m=\u001b[39;49m\u001b[43mCONVERSATION_ID\u001b[49m\n\u001b[0;32m     16\u001b[0m \u001b[43m    \u001b[49m\u001b[43m)\u001b[49m\n\u001b[0;32m     18\u001b[0m     results\u001b[38;5;241m.\u001b[39mappend(result[\u001b[38;5;124m'\u001b[39m\u001b[38;5;124manswer\u001b[39m\u001b[38;5;124m'\u001b[39m])\n\u001b[0;32m     19\u001b[0m     sources \u001b[38;5;241m=\u001b[39m result[\u001b[38;5;124m\"\u001b[39m\u001b[38;5;124mcontext\u001b[39m\u001b[38;5;124m\"\u001b[39m]\n",
      "File \u001b[1;32md:\\Coding\\git-repo\\github\\ocbc_chatbot\\ocbc_compliance_gpt\\chain\\rag_chain.py:76\u001b[0m, in \u001b[0;36mget_response\u001b[1;34m(question, chain, user_id, conversation_id)\u001b[0m\n\u001b[0;32m     75\u001b[0m \u001b[38;5;28;01mdef\u001b[39;00m \u001b[38;5;21mget_response\u001b[39m(question: \u001b[38;5;28mstr\u001b[39m, chain, user_id: \u001b[38;5;28mstr\u001b[39m, conversation_id: \u001b[38;5;28mstr\u001b[39m):\n\u001b[1;32m---> 76\u001b[0m     response \u001b[38;5;241m=\u001b[39m \u001b[43mchain\u001b[49m\u001b[38;5;241;43m.\u001b[39;49m\u001b[43minvoke\u001b[49m\u001b[43m(\u001b[49m\n\u001b[0;32m     77\u001b[0m \u001b[43m        \u001b[49m\u001b[43m{\u001b[49m\u001b[38;5;124;43m\"\u001b[39;49m\u001b[38;5;124;43mquestion\u001b[39;49m\u001b[38;5;124;43m\"\u001b[39;49m\u001b[43m:\u001b[49m\u001b[43m \u001b[49m\u001b[43mquestion\u001b[49m\u001b[43m}\u001b[49m\u001b[43m,\u001b[49m\n\u001b[0;32m     78\u001b[0m \u001b[43m        \u001b[49m\u001b[43mconfig\u001b[49m\u001b[38;5;241;43m=\u001b[39;49m\u001b[43m{\u001b[49m\n\u001b[0;32m     79\u001b[0m \u001b[43m            \u001b[49m\u001b[38;5;124;43m\"\u001b[39;49m\u001b[38;5;124;43mconfigurable\u001b[39;49m\u001b[38;5;124;43m\"\u001b[39;49m\u001b[43m:\u001b[49m\u001b[43m \u001b[49m\u001b[43m{\u001b[49m\u001b[38;5;124;43m\"\u001b[39;49m\u001b[38;5;124;43muser_id\u001b[39;49m\u001b[38;5;124;43m\"\u001b[39;49m\u001b[43m:\u001b[49m\u001b[43m \u001b[49m\u001b[43muser_id\u001b[49m\u001b[43m,\u001b[49m\u001b[43m \u001b[49m\u001b[38;5;124;43m\"\u001b[39;49m\u001b[38;5;124;43mconversation_id\u001b[39;49m\u001b[38;5;124;43m\"\u001b[39;49m\u001b[43m:\u001b[49m\u001b[43m \u001b[49m\u001b[43mconversation_id\u001b[49m\u001b[43m}\u001b[49m\n\u001b[0;32m     80\u001b[0m \u001b[43m        \u001b[49m\u001b[43m}\u001b[49m\u001b[43m,\u001b[49m\n\u001b[0;32m     81\u001b[0m \u001b[43m    \u001b[49m\u001b[43m)\u001b[49m\n\u001b[0;32m     82\u001b[0m     \u001b[38;5;28;01mreturn\u001b[39;00m response\n",
      "File \u001b[1;32mc:\\Users\\acer\\miniconda3\\envs\\chatbot-ocbc\\lib\\site-packages\\langchain_core\\runnables\\base.py:5055\u001b[0m, in \u001b[0;36mRunnableBindingBase.invoke\u001b[1;34m(self, input, config, **kwargs)\u001b[0m\n\u001b[0;32m   5049\u001b[0m \u001b[38;5;28;01mdef\u001b[39;00m \u001b[38;5;21minvoke\u001b[39m(\n\u001b[0;32m   5050\u001b[0m     \u001b[38;5;28mself\u001b[39m,\n\u001b[0;32m   5051\u001b[0m     \u001b[38;5;28minput\u001b[39m: Input,\n\u001b[0;32m   5052\u001b[0m     config: Optional[RunnableConfig] \u001b[38;5;241m=\u001b[39m \u001b[38;5;28;01mNone\u001b[39;00m,\n\u001b[0;32m   5053\u001b[0m     \u001b[38;5;241m*\u001b[39m\u001b[38;5;241m*\u001b[39mkwargs: Optional[Any],\n\u001b[0;32m   5054\u001b[0m ) \u001b[38;5;241m-\u001b[39m\u001b[38;5;241m>\u001b[39m Output:\n\u001b[1;32m-> 5055\u001b[0m     \u001b[38;5;28;01mreturn\u001b[39;00m \u001b[38;5;28mself\u001b[39m\u001b[38;5;241m.\u001b[39mbound\u001b[38;5;241m.\u001b[39minvoke(\n\u001b[0;32m   5056\u001b[0m         \u001b[38;5;28minput\u001b[39m,\n\u001b[0;32m   5057\u001b[0m         \u001b[38;5;28mself\u001b[39m\u001b[38;5;241m.\u001b[39m_merge_configs(config),\n\u001b[0;32m   5058\u001b[0m         \u001b[38;5;241m*\u001b[39m\u001b[38;5;241m*\u001b[39m{\u001b[38;5;241m*\u001b[39m\u001b[38;5;241m*\u001b[39m\u001b[38;5;28mself\u001b[39m\u001b[38;5;241m.\u001b[39mkwargs, \u001b[38;5;241m*\u001b[39m\u001b[38;5;241m*\u001b[39mkwargs},\n\u001b[0;32m   5059\u001b[0m     )\n",
      "File \u001b[1;32mc:\\Users\\acer\\miniconda3\\envs\\chatbot-ocbc\\lib\\site-packages\\langchain_core\\runnables\\base.py:5055\u001b[0m, in \u001b[0;36mRunnableBindingBase.invoke\u001b[1;34m(self, input, config, **kwargs)\u001b[0m\n\u001b[0;32m   5049\u001b[0m \u001b[38;5;28;01mdef\u001b[39;00m \u001b[38;5;21minvoke\u001b[39m(\n\u001b[0;32m   5050\u001b[0m     \u001b[38;5;28mself\u001b[39m,\n\u001b[0;32m   5051\u001b[0m     \u001b[38;5;28minput\u001b[39m: Input,\n\u001b[0;32m   5052\u001b[0m     config: Optional[RunnableConfig] \u001b[38;5;241m=\u001b[39m \u001b[38;5;28;01mNone\u001b[39;00m,\n\u001b[0;32m   5053\u001b[0m     \u001b[38;5;241m*\u001b[39m\u001b[38;5;241m*\u001b[39mkwargs: Optional[Any],\n\u001b[0;32m   5054\u001b[0m ) \u001b[38;5;241m-\u001b[39m\u001b[38;5;241m>\u001b[39m Output:\n\u001b[1;32m-> 5055\u001b[0m     \u001b[38;5;28;01mreturn\u001b[39;00m \u001b[38;5;28mself\u001b[39m\u001b[38;5;241m.\u001b[39mbound\u001b[38;5;241m.\u001b[39minvoke(\n\u001b[0;32m   5056\u001b[0m         \u001b[38;5;28minput\u001b[39m,\n\u001b[0;32m   5057\u001b[0m         \u001b[38;5;28mself\u001b[39m\u001b[38;5;241m.\u001b[39m_merge_configs(config),\n\u001b[0;32m   5058\u001b[0m         \u001b[38;5;241m*\u001b[39m\u001b[38;5;241m*\u001b[39m{\u001b[38;5;241m*\u001b[39m\u001b[38;5;241m*\u001b[39m\u001b[38;5;28mself\u001b[39m\u001b[38;5;241m.\u001b[39mkwargs, \u001b[38;5;241m*\u001b[39m\u001b[38;5;241m*\u001b[39mkwargs},\n\u001b[0;32m   5059\u001b[0m     )\n",
      "File \u001b[1;32mc:\\Users\\acer\\miniconda3\\envs\\chatbot-ocbc\\lib\\site-packages\\langchain_core\\runnables\\base.py:2873\u001b[0m, in \u001b[0;36mRunnableSequence.invoke\u001b[1;34m(self, input, config, **kwargs)\u001b[0m\n\u001b[0;32m   2871\u001b[0m             \u001b[38;5;28minput\u001b[39m \u001b[38;5;241m=\u001b[39m step\u001b[38;5;241m.\u001b[39minvoke(\u001b[38;5;28minput\u001b[39m, config, \u001b[38;5;241m*\u001b[39m\u001b[38;5;241m*\u001b[39mkwargs)\n\u001b[0;32m   2872\u001b[0m         \u001b[38;5;28;01melse\u001b[39;00m:\n\u001b[1;32m-> 2873\u001b[0m             \u001b[38;5;28minput\u001b[39m \u001b[38;5;241m=\u001b[39m \u001b[43mstep\u001b[49m\u001b[38;5;241;43m.\u001b[39;49m\u001b[43minvoke\u001b[49m\u001b[43m(\u001b[49m\u001b[38;5;28;43minput\u001b[39;49m\u001b[43m,\u001b[49m\u001b[43m \u001b[49m\u001b[43mconfig\u001b[49m\u001b[43m)\u001b[49m\n\u001b[0;32m   2874\u001b[0m \u001b[38;5;66;03m# finish the root run\u001b[39;00m\n\u001b[0;32m   2875\u001b[0m \u001b[38;5;28;01mexcept\u001b[39;00m \u001b[38;5;167;01mBaseException\u001b[39;00m \u001b[38;5;28;01mas\u001b[39;00m e:\n",
      "File \u001b[1;32mc:\\Users\\acer\\miniconda3\\envs\\chatbot-ocbc\\lib\\site-packages\\langchain_core\\runnables\\branch.py:239\u001b[0m, in \u001b[0;36mRunnableBranch.invoke\u001b[1;34m(self, input, config, **kwargs)\u001b[0m\n\u001b[0;32m    237\u001b[0m             \u001b[38;5;28;01mbreak\u001b[39;00m\n\u001b[0;32m    238\u001b[0m     \u001b[38;5;28;01melse\u001b[39;00m:\n\u001b[1;32m--> 239\u001b[0m         output \u001b[38;5;241m=\u001b[39m \u001b[38;5;28mself\u001b[39m\u001b[38;5;241m.\u001b[39mdefault\u001b[38;5;241m.\u001b[39minvoke(\n\u001b[0;32m    240\u001b[0m             \u001b[38;5;28minput\u001b[39m,\n\u001b[0;32m    241\u001b[0m             config\u001b[38;5;241m=\u001b[39mpatch_config(\n\u001b[0;32m    242\u001b[0m                 config, callbacks\u001b[38;5;241m=\u001b[39mrun_manager\u001b[38;5;241m.\u001b[39mget_child(tag\u001b[38;5;241m=\u001b[39m\u001b[38;5;124m\"\u001b[39m\u001b[38;5;124mbranch:default\u001b[39m\u001b[38;5;124m\"\u001b[39m)\n\u001b[0;32m    243\u001b[0m             ),\n\u001b[0;32m    244\u001b[0m             \u001b[38;5;241m*\u001b[39m\u001b[38;5;241m*\u001b[39mkwargs,\n\u001b[0;32m    245\u001b[0m         )\n\u001b[0;32m    246\u001b[0m \u001b[38;5;28;01mexcept\u001b[39;00m \u001b[38;5;167;01mBaseException\u001b[39;00m \u001b[38;5;28;01mas\u001b[39;00m e:\n\u001b[0;32m    247\u001b[0m     run_manager\u001b[38;5;241m.\u001b[39mon_chain_error(e)\n",
      "File \u001b[1;32mc:\\Users\\acer\\miniconda3\\envs\\chatbot-ocbc\\lib\\site-packages\\langchain_core\\runnables\\base.py:5055\u001b[0m, in \u001b[0;36mRunnableBindingBase.invoke\u001b[1;34m(self, input, config, **kwargs)\u001b[0m\n\u001b[0;32m   5049\u001b[0m \u001b[38;5;28;01mdef\u001b[39;00m \u001b[38;5;21minvoke\u001b[39m(\n\u001b[0;32m   5050\u001b[0m     \u001b[38;5;28mself\u001b[39m,\n\u001b[0;32m   5051\u001b[0m     \u001b[38;5;28minput\u001b[39m: Input,\n\u001b[0;32m   5052\u001b[0m     config: Optional[RunnableConfig] \u001b[38;5;241m=\u001b[39m \u001b[38;5;28;01mNone\u001b[39;00m,\n\u001b[0;32m   5053\u001b[0m     \u001b[38;5;241m*\u001b[39m\u001b[38;5;241m*\u001b[39mkwargs: Optional[Any],\n\u001b[0;32m   5054\u001b[0m ) \u001b[38;5;241m-\u001b[39m\u001b[38;5;241m>\u001b[39m Output:\n\u001b[1;32m-> 5055\u001b[0m     \u001b[38;5;28;01mreturn\u001b[39;00m \u001b[38;5;28mself\u001b[39m\u001b[38;5;241m.\u001b[39mbound\u001b[38;5;241m.\u001b[39minvoke(\n\u001b[0;32m   5056\u001b[0m         \u001b[38;5;28minput\u001b[39m,\n\u001b[0;32m   5057\u001b[0m         \u001b[38;5;28mself\u001b[39m\u001b[38;5;241m.\u001b[39m_merge_configs(config),\n\u001b[0;32m   5058\u001b[0m         \u001b[38;5;241m*\u001b[39m\u001b[38;5;241m*\u001b[39m{\u001b[38;5;241m*\u001b[39m\u001b[38;5;241m*\u001b[39m\u001b[38;5;28mself\u001b[39m\u001b[38;5;241m.\u001b[39mkwargs, \u001b[38;5;241m*\u001b[39m\u001b[38;5;241m*\u001b[39mkwargs},\n\u001b[0;32m   5059\u001b[0m     )\n",
      "File \u001b[1;32mc:\\Users\\acer\\miniconda3\\envs\\chatbot-ocbc\\lib\\site-packages\\langchain_core\\runnables\\base.py:2873\u001b[0m, in \u001b[0;36mRunnableSequence.invoke\u001b[1;34m(self, input, config, **kwargs)\u001b[0m\n\u001b[0;32m   2871\u001b[0m             \u001b[38;5;28minput\u001b[39m \u001b[38;5;241m=\u001b[39m step\u001b[38;5;241m.\u001b[39minvoke(\u001b[38;5;28minput\u001b[39m, config, \u001b[38;5;241m*\u001b[39m\u001b[38;5;241m*\u001b[39mkwargs)\n\u001b[0;32m   2872\u001b[0m         \u001b[38;5;28;01melse\u001b[39;00m:\n\u001b[1;32m-> 2873\u001b[0m             \u001b[38;5;28minput\u001b[39m \u001b[38;5;241m=\u001b[39m \u001b[43mstep\u001b[49m\u001b[38;5;241;43m.\u001b[39;49m\u001b[43minvoke\u001b[49m\u001b[43m(\u001b[49m\u001b[38;5;28;43minput\u001b[39;49m\u001b[43m,\u001b[49m\u001b[43m \u001b[49m\u001b[43mconfig\u001b[49m\u001b[43m)\u001b[49m\n\u001b[0;32m   2874\u001b[0m \u001b[38;5;66;03m# finish the root run\u001b[39;00m\n\u001b[0;32m   2875\u001b[0m \u001b[38;5;28;01mexcept\u001b[39;00m \u001b[38;5;167;01mBaseException\u001b[39;00m \u001b[38;5;28;01mas\u001b[39;00m e:\n",
      "File \u001b[1;32mc:\\Users\\acer\\miniconda3\\envs\\chatbot-ocbc\\lib\\site-packages\\langchain_core\\runnables\\base.py:3560\u001b[0m, in \u001b[0;36mRunnableParallel.invoke\u001b[1;34m(self, input, config)\u001b[0m\n\u001b[0;32m   3547\u001b[0m     \u001b[38;5;28;01mwith\u001b[39;00m get_executor_for_config(config) \u001b[38;5;28;01mas\u001b[39;00m executor:\n\u001b[0;32m   3548\u001b[0m         futures \u001b[38;5;241m=\u001b[39m [\n\u001b[0;32m   3549\u001b[0m             executor\u001b[38;5;241m.\u001b[39msubmit(\n\u001b[0;32m   3550\u001b[0m                 step\u001b[38;5;241m.\u001b[39minvoke,\n\u001b[1;32m   (...)\u001b[0m\n\u001b[0;32m   3558\u001b[0m             \u001b[38;5;28;01mfor\u001b[39;00m key, step \u001b[38;5;129;01min\u001b[39;00m steps\u001b[38;5;241m.\u001b[39mitems()\n\u001b[0;32m   3559\u001b[0m         ]\n\u001b[1;32m-> 3560\u001b[0m         output \u001b[38;5;241m=\u001b[39m {key: future\u001b[38;5;241m.\u001b[39mresult() \u001b[38;5;28;01mfor\u001b[39;00m key, future \u001b[38;5;129;01min\u001b[39;00m \u001b[38;5;28mzip\u001b[39m(steps, futures)}\n\u001b[0;32m   3561\u001b[0m \u001b[38;5;66;03m# finish the root run\u001b[39;00m\n\u001b[0;32m   3562\u001b[0m \u001b[38;5;28;01mexcept\u001b[39;00m \u001b[38;5;167;01mBaseException\u001b[39;00m \u001b[38;5;28;01mas\u001b[39;00m e:\n",
      "File \u001b[1;32mc:\\Users\\acer\\miniconda3\\envs\\chatbot-ocbc\\lib\\site-packages\\langchain_core\\runnables\\base.py:3560\u001b[0m, in \u001b[0;36m<dictcomp>\u001b[1;34m(.0)\u001b[0m\n\u001b[0;32m   3547\u001b[0m     \u001b[38;5;28;01mwith\u001b[39;00m get_executor_for_config(config) \u001b[38;5;28;01mas\u001b[39;00m executor:\n\u001b[0;32m   3548\u001b[0m         futures \u001b[38;5;241m=\u001b[39m [\n\u001b[0;32m   3549\u001b[0m             executor\u001b[38;5;241m.\u001b[39msubmit(\n\u001b[0;32m   3550\u001b[0m                 step\u001b[38;5;241m.\u001b[39minvoke,\n\u001b[1;32m   (...)\u001b[0m\n\u001b[0;32m   3558\u001b[0m             \u001b[38;5;28;01mfor\u001b[39;00m key, step \u001b[38;5;129;01min\u001b[39;00m steps\u001b[38;5;241m.\u001b[39mitems()\n\u001b[0;32m   3559\u001b[0m         ]\n\u001b[1;32m-> 3560\u001b[0m         output \u001b[38;5;241m=\u001b[39m {key: \u001b[43mfuture\u001b[49m\u001b[38;5;241;43m.\u001b[39;49m\u001b[43mresult\u001b[49m\u001b[43m(\u001b[49m\u001b[43m)\u001b[49m \u001b[38;5;28;01mfor\u001b[39;00m key, future \u001b[38;5;129;01min\u001b[39;00m \u001b[38;5;28mzip\u001b[39m(steps, futures)}\n\u001b[0;32m   3561\u001b[0m \u001b[38;5;66;03m# finish the root run\u001b[39;00m\n\u001b[0;32m   3562\u001b[0m \u001b[38;5;28;01mexcept\u001b[39;00m \u001b[38;5;167;01mBaseException\u001b[39;00m \u001b[38;5;28;01mas\u001b[39;00m e:\n",
      "File \u001b[1;32mc:\\Users\\acer\\miniconda3\\envs\\chatbot-ocbc\\lib\\concurrent\\futures\\_base.py:446\u001b[0m, in \u001b[0;36mFuture.result\u001b[1;34m(self, timeout)\u001b[0m\n\u001b[0;32m    444\u001b[0m     \u001b[38;5;28;01mraise\u001b[39;00m CancelledError()\n\u001b[0;32m    445\u001b[0m \u001b[38;5;28;01melif\u001b[39;00m \u001b[38;5;28mself\u001b[39m\u001b[38;5;241m.\u001b[39m_state \u001b[38;5;241m==\u001b[39m FINISHED:\n\u001b[1;32m--> 446\u001b[0m     \u001b[38;5;28;01mreturn\u001b[39;00m \u001b[38;5;28;43mself\u001b[39;49m\u001b[38;5;241;43m.\u001b[39;49m\u001b[43m__get_result\u001b[49m\u001b[43m(\u001b[49m\u001b[43m)\u001b[49m\n\u001b[0;32m    447\u001b[0m \u001b[38;5;28;01melse\u001b[39;00m:\n\u001b[0;32m    448\u001b[0m     \u001b[38;5;28;01mraise\u001b[39;00m \u001b[38;5;167;01mTimeoutError\u001b[39;00m()\n",
      "File \u001b[1;32mc:\\Users\\acer\\miniconda3\\envs\\chatbot-ocbc\\lib\\concurrent\\futures\\_base.py:391\u001b[0m, in \u001b[0;36mFuture.__get_result\u001b[1;34m(self)\u001b[0m\n\u001b[0;32m    389\u001b[0m \u001b[38;5;28;01mif\u001b[39;00m \u001b[38;5;28mself\u001b[39m\u001b[38;5;241m.\u001b[39m_exception:\n\u001b[0;32m    390\u001b[0m     \u001b[38;5;28;01mtry\u001b[39;00m:\n\u001b[1;32m--> 391\u001b[0m         \u001b[38;5;28;01mraise\u001b[39;00m \u001b[38;5;28mself\u001b[39m\u001b[38;5;241m.\u001b[39m_exception\n\u001b[0;32m    392\u001b[0m     \u001b[38;5;28;01mfinally\u001b[39;00m:\n\u001b[0;32m    393\u001b[0m         \u001b[38;5;66;03m# Break a reference cycle with the exception in self._exception\u001b[39;00m\n\u001b[0;32m    394\u001b[0m         \u001b[38;5;28mself\u001b[39m \u001b[38;5;241m=\u001b[39m \u001b[38;5;28;01mNone\u001b[39;00m\n",
      "File \u001b[1;32mc:\\Users\\acer\\miniconda3\\envs\\chatbot-ocbc\\lib\\concurrent\\futures\\thread.py:58\u001b[0m, in \u001b[0;36m_WorkItem.run\u001b[1;34m(self)\u001b[0m\n\u001b[0;32m     55\u001b[0m     \u001b[38;5;28;01mreturn\u001b[39;00m\n\u001b[0;32m     57\u001b[0m \u001b[38;5;28;01mtry\u001b[39;00m:\n\u001b[1;32m---> 58\u001b[0m     result \u001b[38;5;241m=\u001b[39m \u001b[38;5;28mself\u001b[39m\u001b[38;5;241m.\u001b[39mfn(\u001b[38;5;241m*\u001b[39m\u001b[38;5;28mself\u001b[39m\u001b[38;5;241m.\u001b[39margs, \u001b[38;5;241m*\u001b[39m\u001b[38;5;241m*\u001b[39m\u001b[38;5;28mself\u001b[39m\u001b[38;5;241m.\u001b[39mkwargs)\n\u001b[0;32m     59\u001b[0m \u001b[38;5;28;01mexcept\u001b[39;00m \u001b[38;5;167;01mBaseException\u001b[39;00m \u001b[38;5;28;01mas\u001b[39;00m exc:\n\u001b[0;32m     60\u001b[0m     \u001b[38;5;28mself\u001b[39m\u001b[38;5;241m.\u001b[39mfuture\u001b[38;5;241m.\u001b[39mset_exception(exc)\n",
      "File \u001b[1;32mc:\\Users\\acer\\miniconda3\\envs\\chatbot-ocbc\\lib\\site-packages\\langchain_core\\runnables\\base.py:2871\u001b[0m, in \u001b[0;36mRunnableSequence.invoke\u001b[1;34m(self, input, config, **kwargs)\u001b[0m\n\u001b[0;32m   2867\u001b[0m config \u001b[38;5;241m=\u001b[39m patch_config(\n\u001b[0;32m   2868\u001b[0m     config, callbacks\u001b[38;5;241m=\u001b[39mrun_manager\u001b[38;5;241m.\u001b[39mget_child(\u001b[38;5;124mf\u001b[39m\u001b[38;5;124m\"\u001b[39m\u001b[38;5;124mseq:step:\u001b[39m\u001b[38;5;132;01m{\u001b[39;00mi\u001b[38;5;241m+\u001b[39m\u001b[38;5;241m1\u001b[39m\u001b[38;5;132;01m}\u001b[39;00m\u001b[38;5;124m\"\u001b[39m)\n\u001b[0;32m   2869\u001b[0m )\n\u001b[0;32m   2870\u001b[0m \u001b[38;5;28;01mif\u001b[39;00m i \u001b[38;5;241m==\u001b[39m \u001b[38;5;241m0\u001b[39m:\n\u001b[1;32m-> 2871\u001b[0m     \u001b[38;5;28minput\u001b[39m \u001b[38;5;241m=\u001b[39m step\u001b[38;5;241m.\u001b[39minvoke(\u001b[38;5;28minput\u001b[39m, config, \u001b[38;5;241m*\u001b[39m\u001b[38;5;241m*\u001b[39mkwargs)\n\u001b[0;32m   2872\u001b[0m \u001b[38;5;28;01melse\u001b[39;00m:\n\u001b[0;32m   2873\u001b[0m     \u001b[38;5;28minput\u001b[39m \u001b[38;5;241m=\u001b[39m step\u001b[38;5;241m.\u001b[39minvoke(\u001b[38;5;28minput\u001b[39m, config)\n",
      "File \u001b[1;32mc:\\Users\\acer\\miniconda3\\envs\\chatbot-ocbc\\lib\\site-packages\\langchain_core\\retrievers.py:221\u001b[0m, in \u001b[0;36mBaseRetriever.invoke\u001b[1;34m(self, input, config, **kwargs)\u001b[0m\n\u001b[0;32m    219\u001b[0m \u001b[38;5;28;01mexcept\u001b[39;00m \u001b[38;5;167;01mException\u001b[39;00m \u001b[38;5;28;01mas\u001b[39;00m e:\n\u001b[0;32m    220\u001b[0m     run_manager\u001b[38;5;241m.\u001b[39mon_retriever_error(e)\n\u001b[1;32m--> 221\u001b[0m     \u001b[38;5;28;01mraise\u001b[39;00m e\n\u001b[0;32m    222\u001b[0m \u001b[38;5;28;01melse\u001b[39;00m:\n\u001b[0;32m    223\u001b[0m     run_manager\u001b[38;5;241m.\u001b[39mon_retriever_end(\n\u001b[0;32m    224\u001b[0m         result,\n\u001b[0;32m    225\u001b[0m     )\n",
      "File \u001b[1;32mc:\\Users\\acer\\miniconda3\\envs\\chatbot-ocbc\\lib\\site-packages\\langchain_core\\retrievers.py:214\u001b[0m, in \u001b[0;36mBaseRetriever.invoke\u001b[1;34m(self, input, config, **kwargs)\u001b[0m\n\u001b[0;32m    212\u001b[0m _kwargs \u001b[38;5;241m=\u001b[39m kwargs \u001b[38;5;28;01mif\u001b[39;00m \u001b[38;5;28mself\u001b[39m\u001b[38;5;241m.\u001b[39m_expects_other_args \u001b[38;5;28;01melse\u001b[39;00m {}\n\u001b[0;32m    213\u001b[0m \u001b[38;5;28;01mif\u001b[39;00m \u001b[38;5;28mself\u001b[39m\u001b[38;5;241m.\u001b[39m_new_arg_supported:\n\u001b[1;32m--> 214\u001b[0m     result \u001b[38;5;241m=\u001b[39m \u001b[38;5;28mself\u001b[39m\u001b[38;5;241m.\u001b[39m_get_relevant_documents(\n\u001b[0;32m    215\u001b[0m         \u001b[38;5;28minput\u001b[39m, run_manager\u001b[38;5;241m=\u001b[39mrun_manager, \u001b[38;5;241m*\u001b[39m\u001b[38;5;241m*\u001b[39m_kwargs\n\u001b[0;32m    216\u001b[0m     )\n\u001b[0;32m    217\u001b[0m \u001b[38;5;28;01melse\u001b[39;00m:\n\u001b[0;32m    218\u001b[0m     result \u001b[38;5;241m=\u001b[39m \u001b[38;5;28mself\u001b[39m\u001b[38;5;241m.\u001b[39m_get_relevant_documents(\u001b[38;5;28minput\u001b[39m, \u001b[38;5;241m*\u001b[39m\u001b[38;5;241m*\u001b[39m_kwargs)\n",
      "File \u001b[1;32mc:\\Users\\acer\\miniconda3\\envs\\chatbot-ocbc\\lib\\site-packages\\langchain\\retrievers\\contextual_compression.py:44\u001b[0m, in \u001b[0;36mContextualCompressionRetriever._get_relevant_documents\u001b[1;34m(self, query, run_manager, **kwargs)\u001b[0m\n\u001b[0;32m     29\u001b[0m \u001b[38;5;28;01mdef\u001b[39;00m \u001b[38;5;21m_get_relevant_documents\u001b[39m(\n\u001b[0;32m     30\u001b[0m     \u001b[38;5;28mself\u001b[39m,\n\u001b[0;32m     31\u001b[0m     query: \u001b[38;5;28mstr\u001b[39m,\n\u001b[1;32m   (...)\u001b[0m\n\u001b[0;32m     34\u001b[0m     \u001b[38;5;241m*\u001b[39m\u001b[38;5;241m*\u001b[39mkwargs: Any,\n\u001b[0;32m     35\u001b[0m ) \u001b[38;5;241m-\u001b[39m\u001b[38;5;241m>\u001b[39m List[Document]:\n\u001b[0;32m     36\u001b[0m \u001b[38;5;250m    \u001b[39m\u001b[38;5;124;03m\"\"\"Get documents relevant for a query.\u001b[39;00m\n\u001b[0;32m     37\u001b[0m \n\u001b[0;32m     38\u001b[0m \u001b[38;5;124;03m    Args:\u001b[39;00m\n\u001b[1;32m   (...)\u001b[0m\n\u001b[0;32m     42\u001b[0m \u001b[38;5;124;03m        Sequence of relevant documents\u001b[39;00m\n\u001b[0;32m     43\u001b[0m \u001b[38;5;124;03m    \"\"\"\u001b[39;00m\n\u001b[1;32m---> 44\u001b[0m     docs \u001b[38;5;241m=\u001b[39m \u001b[38;5;28mself\u001b[39m\u001b[38;5;241m.\u001b[39mbase_retriever\u001b[38;5;241m.\u001b[39minvoke(\n\u001b[0;32m     45\u001b[0m         query, config\u001b[38;5;241m=\u001b[39m{\u001b[38;5;124m\"\u001b[39m\u001b[38;5;124mcallbacks\u001b[39m\u001b[38;5;124m\"\u001b[39m: run_manager\u001b[38;5;241m.\u001b[39mget_child()}, \u001b[38;5;241m*\u001b[39m\u001b[38;5;241m*\u001b[39mkwargs\n\u001b[0;32m     46\u001b[0m     )\n\u001b[0;32m     47\u001b[0m     \u001b[38;5;28;01mif\u001b[39;00m docs:\n\u001b[0;32m     48\u001b[0m         compressed_docs \u001b[38;5;241m=\u001b[39m \u001b[38;5;28mself\u001b[39m\u001b[38;5;241m.\u001b[39mbase_compressor\u001b[38;5;241m.\u001b[39mcompress_documents(\n\u001b[0;32m     49\u001b[0m             docs, query, callbacks\u001b[38;5;241m=\u001b[39mrun_manager\u001b[38;5;241m.\u001b[39mget_child()\n\u001b[0;32m     50\u001b[0m         )\n",
      "File \u001b[1;32mc:\\Users\\acer\\miniconda3\\envs\\chatbot-ocbc\\lib\\site-packages\\langchain_core\\retrievers.py:221\u001b[0m, in \u001b[0;36mBaseRetriever.invoke\u001b[1;34m(self, input, config, **kwargs)\u001b[0m\n\u001b[0;32m    219\u001b[0m \u001b[38;5;28;01mexcept\u001b[39;00m \u001b[38;5;167;01mException\u001b[39;00m \u001b[38;5;28;01mas\u001b[39;00m e:\n\u001b[0;32m    220\u001b[0m     run_manager\u001b[38;5;241m.\u001b[39mon_retriever_error(e)\n\u001b[1;32m--> 221\u001b[0m     \u001b[38;5;28;01mraise\u001b[39;00m e\n\u001b[0;32m    222\u001b[0m \u001b[38;5;28;01melse\u001b[39;00m:\n\u001b[0;32m    223\u001b[0m     run_manager\u001b[38;5;241m.\u001b[39mon_retriever_end(\n\u001b[0;32m    224\u001b[0m         result,\n\u001b[0;32m    225\u001b[0m     )\n",
      "File \u001b[1;32mc:\\Users\\acer\\miniconda3\\envs\\chatbot-ocbc\\lib\\site-packages\\langchain_core\\retrievers.py:214\u001b[0m, in \u001b[0;36mBaseRetriever.invoke\u001b[1;34m(self, input, config, **kwargs)\u001b[0m\n\u001b[0;32m    212\u001b[0m _kwargs \u001b[38;5;241m=\u001b[39m kwargs \u001b[38;5;28;01mif\u001b[39;00m \u001b[38;5;28mself\u001b[39m\u001b[38;5;241m.\u001b[39m_expects_other_args \u001b[38;5;28;01melse\u001b[39;00m {}\n\u001b[0;32m    213\u001b[0m \u001b[38;5;28;01mif\u001b[39;00m \u001b[38;5;28mself\u001b[39m\u001b[38;5;241m.\u001b[39m_new_arg_supported:\n\u001b[1;32m--> 214\u001b[0m     result \u001b[38;5;241m=\u001b[39m \u001b[38;5;28mself\u001b[39m\u001b[38;5;241m.\u001b[39m_get_relevant_documents(\n\u001b[0;32m    215\u001b[0m         \u001b[38;5;28minput\u001b[39m, run_manager\u001b[38;5;241m=\u001b[39mrun_manager, \u001b[38;5;241m*\u001b[39m\u001b[38;5;241m*\u001b[39m_kwargs\n\u001b[0;32m    216\u001b[0m     )\n\u001b[0;32m    217\u001b[0m \u001b[38;5;28;01melse\u001b[39;00m:\n\u001b[0;32m    218\u001b[0m     result \u001b[38;5;241m=\u001b[39m \u001b[38;5;28mself\u001b[39m\u001b[38;5;241m.\u001b[39m_get_relevant_documents(\u001b[38;5;28minput\u001b[39m, \u001b[38;5;241m*\u001b[39m\u001b[38;5;241m*\u001b[39m_kwargs)\n",
      "File \u001b[1;32mc:\\Users\\acer\\miniconda3\\envs\\chatbot-ocbc\\lib\\site-packages\\langchain\\retrievers\\contextual_compression.py:44\u001b[0m, in \u001b[0;36mContextualCompressionRetriever._get_relevant_documents\u001b[1;34m(self, query, run_manager, **kwargs)\u001b[0m\n\u001b[0;32m     29\u001b[0m \u001b[38;5;28;01mdef\u001b[39;00m \u001b[38;5;21m_get_relevant_documents\u001b[39m(\n\u001b[0;32m     30\u001b[0m     \u001b[38;5;28mself\u001b[39m,\n\u001b[0;32m     31\u001b[0m     query: \u001b[38;5;28mstr\u001b[39m,\n\u001b[1;32m   (...)\u001b[0m\n\u001b[0;32m     34\u001b[0m     \u001b[38;5;241m*\u001b[39m\u001b[38;5;241m*\u001b[39mkwargs: Any,\n\u001b[0;32m     35\u001b[0m ) \u001b[38;5;241m-\u001b[39m\u001b[38;5;241m>\u001b[39m List[Document]:\n\u001b[0;32m     36\u001b[0m \u001b[38;5;250m    \u001b[39m\u001b[38;5;124;03m\"\"\"Get documents relevant for a query.\u001b[39;00m\n\u001b[0;32m     37\u001b[0m \n\u001b[0;32m     38\u001b[0m \u001b[38;5;124;03m    Args:\u001b[39;00m\n\u001b[1;32m   (...)\u001b[0m\n\u001b[0;32m     42\u001b[0m \u001b[38;5;124;03m        Sequence of relevant documents\u001b[39;00m\n\u001b[0;32m     43\u001b[0m \u001b[38;5;124;03m    \"\"\"\u001b[39;00m\n\u001b[1;32m---> 44\u001b[0m     docs \u001b[38;5;241m=\u001b[39m \u001b[38;5;28mself\u001b[39m\u001b[38;5;241m.\u001b[39mbase_retriever\u001b[38;5;241m.\u001b[39minvoke(\n\u001b[0;32m     45\u001b[0m         query, config\u001b[38;5;241m=\u001b[39m{\u001b[38;5;124m\"\u001b[39m\u001b[38;5;124mcallbacks\u001b[39m\u001b[38;5;124m\"\u001b[39m: run_manager\u001b[38;5;241m.\u001b[39mget_child()}, \u001b[38;5;241m*\u001b[39m\u001b[38;5;241m*\u001b[39mkwargs\n\u001b[0;32m     46\u001b[0m     )\n\u001b[0;32m     47\u001b[0m     \u001b[38;5;28;01mif\u001b[39;00m docs:\n\u001b[0;32m     48\u001b[0m         compressed_docs \u001b[38;5;241m=\u001b[39m \u001b[38;5;28mself\u001b[39m\u001b[38;5;241m.\u001b[39mbase_compressor\u001b[38;5;241m.\u001b[39mcompress_documents(\n\u001b[0;32m     49\u001b[0m             docs, query, callbacks\u001b[38;5;241m=\u001b[39mrun_manager\u001b[38;5;241m.\u001b[39mget_child()\n\u001b[0;32m     50\u001b[0m         )\n",
      "File \u001b[1;32mc:\\Users\\acer\\miniconda3\\envs\\chatbot-ocbc\\lib\\site-packages\\langchain_core\\retrievers.py:221\u001b[0m, in \u001b[0;36mBaseRetriever.invoke\u001b[1;34m(self, input, config, **kwargs)\u001b[0m\n\u001b[0;32m    219\u001b[0m \u001b[38;5;28;01mexcept\u001b[39;00m \u001b[38;5;167;01mException\u001b[39;00m \u001b[38;5;28;01mas\u001b[39;00m e:\n\u001b[0;32m    220\u001b[0m     run_manager\u001b[38;5;241m.\u001b[39mon_retriever_error(e)\n\u001b[1;32m--> 221\u001b[0m     \u001b[38;5;28;01mraise\u001b[39;00m e\n\u001b[0;32m    222\u001b[0m \u001b[38;5;28;01melse\u001b[39;00m:\n\u001b[0;32m    223\u001b[0m     run_manager\u001b[38;5;241m.\u001b[39mon_retriever_end(\n\u001b[0;32m    224\u001b[0m         result,\n\u001b[0;32m    225\u001b[0m     )\n",
      "File \u001b[1;32mc:\\Users\\acer\\miniconda3\\envs\\chatbot-ocbc\\lib\\site-packages\\langchain_core\\retrievers.py:214\u001b[0m, in \u001b[0;36mBaseRetriever.invoke\u001b[1;34m(self, input, config, **kwargs)\u001b[0m\n\u001b[0;32m    212\u001b[0m _kwargs \u001b[38;5;241m=\u001b[39m kwargs \u001b[38;5;28;01mif\u001b[39;00m \u001b[38;5;28mself\u001b[39m\u001b[38;5;241m.\u001b[39m_expects_other_args \u001b[38;5;28;01melse\u001b[39;00m {}\n\u001b[0;32m    213\u001b[0m \u001b[38;5;28;01mif\u001b[39;00m \u001b[38;5;28mself\u001b[39m\u001b[38;5;241m.\u001b[39m_new_arg_supported:\n\u001b[1;32m--> 214\u001b[0m     result \u001b[38;5;241m=\u001b[39m \u001b[38;5;28mself\u001b[39m\u001b[38;5;241m.\u001b[39m_get_relevant_documents(\n\u001b[0;32m    215\u001b[0m         \u001b[38;5;28minput\u001b[39m, run_manager\u001b[38;5;241m=\u001b[39mrun_manager, \u001b[38;5;241m*\u001b[39m\u001b[38;5;241m*\u001b[39m_kwargs\n\u001b[0;32m    216\u001b[0m     )\n\u001b[0;32m    217\u001b[0m \u001b[38;5;28;01melse\u001b[39;00m:\n\u001b[0;32m    218\u001b[0m     result \u001b[38;5;241m=\u001b[39m \u001b[38;5;28mself\u001b[39m\u001b[38;5;241m.\u001b[39m_get_relevant_documents(\u001b[38;5;28minput\u001b[39m, \u001b[38;5;241m*\u001b[39m\u001b[38;5;241m*\u001b[39m_kwargs)\n",
      "File \u001b[1;32mc:\\Users\\acer\\miniconda3\\envs\\chatbot-ocbc\\lib\\site-packages\\langchain\\retrievers\\merger_retriever.py:35\u001b[0m, in \u001b[0;36mMergerRetriever._get_relevant_documents\u001b[1;34m(self, query, run_manager)\u001b[0m\n\u001b[0;32m     24\u001b[0m \u001b[38;5;250m\u001b[39m\u001b[38;5;124;03m\"\"\"\u001b[39;00m\n\u001b[0;32m     25\u001b[0m \u001b[38;5;124;03mGet the relevant documents for a given query.\u001b[39;00m\n\u001b[0;32m     26\u001b[0m \n\u001b[1;32m   (...)\u001b[0m\n\u001b[0;32m     31\u001b[0m \u001b[38;5;124;03m    A list of relevant documents.\u001b[39;00m\n\u001b[0;32m     32\u001b[0m \u001b[38;5;124;03m\"\"\"\u001b[39;00m\n\u001b[0;32m     34\u001b[0m \u001b[38;5;66;03m# Merge the results of the retrievers.\u001b[39;00m\n\u001b[1;32m---> 35\u001b[0m merged_documents \u001b[38;5;241m=\u001b[39m \u001b[38;5;28;43mself\u001b[39;49m\u001b[38;5;241;43m.\u001b[39;49m\u001b[43mmerge_documents\u001b[49m\u001b[43m(\u001b[49m\u001b[43mquery\u001b[49m\u001b[43m,\u001b[49m\u001b[43m \u001b[49m\u001b[43mrun_manager\u001b[49m\u001b[43m)\u001b[49m\n\u001b[0;32m     37\u001b[0m \u001b[38;5;28;01mreturn\u001b[39;00m merged_documents\n",
      "File \u001b[1;32mc:\\Users\\acer\\miniconda3\\envs\\chatbot-ocbc\\lib\\site-packages\\langchain\\retrievers\\merger_retriever.py:74\u001b[0m, in \u001b[0;36mMergerRetriever.merge_documents\u001b[1;34m(self, query, run_manager)\u001b[0m\n\u001b[0;32m     63\u001b[0m \u001b[38;5;250m\u001b[39m\u001b[38;5;124;03m\"\"\"\u001b[39;00m\n\u001b[0;32m     64\u001b[0m \u001b[38;5;124;03mMerge the results of the retrievers.\u001b[39;00m\n\u001b[0;32m     65\u001b[0m \n\u001b[1;32m   (...)\u001b[0m\n\u001b[0;32m     70\u001b[0m \u001b[38;5;124;03m    A list of merged documents.\u001b[39;00m\n\u001b[0;32m     71\u001b[0m \u001b[38;5;124;03m\"\"\"\u001b[39;00m\n\u001b[0;32m     73\u001b[0m \u001b[38;5;66;03m# Get the results of all retrievers.\u001b[39;00m\n\u001b[1;32m---> 74\u001b[0m retriever_docs \u001b[38;5;241m=\u001b[39m [\n\u001b[0;32m     75\u001b[0m     retriever\u001b[38;5;241m.\u001b[39minvoke(\n\u001b[0;32m     76\u001b[0m         query,\n\u001b[0;32m     77\u001b[0m         config\u001b[38;5;241m=\u001b[39m{\n\u001b[0;32m     78\u001b[0m             \u001b[38;5;124m\"\u001b[39m\u001b[38;5;124mcallbacks\u001b[39m\u001b[38;5;124m\"\u001b[39m: run_manager\u001b[38;5;241m.\u001b[39mget_child(\u001b[38;5;124m\"\u001b[39m\u001b[38;5;124mretriever_\u001b[39m\u001b[38;5;132;01m{}\u001b[39;00m\u001b[38;5;124m\"\u001b[39m\u001b[38;5;241m.\u001b[39mformat(i \u001b[38;5;241m+\u001b[39m \u001b[38;5;241m1\u001b[39m))\n\u001b[0;32m     79\u001b[0m         },\n\u001b[0;32m     80\u001b[0m     )\n\u001b[0;32m     81\u001b[0m     \u001b[38;5;28;01mfor\u001b[39;00m i, retriever \u001b[38;5;129;01min\u001b[39;00m \u001b[38;5;28menumerate\u001b[39m(\u001b[38;5;28mself\u001b[39m\u001b[38;5;241m.\u001b[39mretrievers)\n\u001b[0;32m     82\u001b[0m ]\n\u001b[0;32m     84\u001b[0m \u001b[38;5;66;03m# Merge the results of the retrievers.\u001b[39;00m\n\u001b[0;32m     85\u001b[0m merged_documents \u001b[38;5;241m=\u001b[39m []\n",
      "File \u001b[1;32mc:\\Users\\acer\\miniconda3\\envs\\chatbot-ocbc\\lib\\site-packages\\langchain\\retrievers\\merger_retriever.py:75\u001b[0m, in \u001b[0;36m<listcomp>\u001b[1;34m(.0)\u001b[0m\n\u001b[0;32m     63\u001b[0m \u001b[38;5;250m\u001b[39m\u001b[38;5;124;03m\"\"\"\u001b[39;00m\n\u001b[0;32m     64\u001b[0m \u001b[38;5;124;03mMerge the results of the retrievers.\u001b[39;00m\n\u001b[0;32m     65\u001b[0m \n\u001b[1;32m   (...)\u001b[0m\n\u001b[0;32m     70\u001b[0m \u001b[38;5;124;03m    A list of merged documents.\u001b[39;00m\n\u001b[0;32m     71\u001b[0m \u001b[38;5;124;03m\"\"\"\u001b[39;00m\n\u001b[0;32m     73\u001b[0m \u001b[38;5;66;03m# Get the results of all retrievers.\u001b[39;00m\n\u001b[0;32m     74\u001b[0m retriever_docs \u001b[38;5;241m=\u001b[39m [\n\u001b[1;32m---> 75\u001b[0m     \u001b[43mretriever\u001b[49m\u001b[38;5;241;43m.\u001b[39;49m\u001b[43minvoke\u001b[49m\u001b[43m(\u001b[49m\n\u001b[0;32m     76\u001b[0m \u001b[43m        \u001b[49m\u001b[43mquery\u001b[49m\u001b[43m,\u001b[49m\n\u001b[0;32m     77\u001b[0m \u001b[43m        \u001b[49m\u001b[43mconfig\u001b[49m\u001b[38;5;241;43m=\u001b[39;49m\u001b[43m{\u001b[49m\n\u001b[0;32m     78\u001b[0m \u001b[43m            \u001b[49m\u001b[38;5;124;43m\"\u001b[39;49m\u001b[38;5;124;43mcallbacks\u001b[39;49m\u001b[38;5;124;43m\"\u001b[39;49m\u001b[43m:\u001b[49m\u001b[43m \u001b[49m\u001b[43mrun_manager\u001b[49m\u001b[38;5;241;43m.\u001b[39;49m\u001b[43mget_child\u001b[49m\u001b[43m(\u001b[49m\u001b[38;5;124;43m\"\u001b[39;49m\u001b[38;5;124;43mretriever_\u001b[39;49m\u001b[38;5;132;43;01m{}\u001b[39;49;00m\u001b[38;5;124;43m\"\u001b[39;49m\u001b[38;5;241;43m.\u001b[39;49m\u001b[43mformat\u001b[49m\u001b[43m(\u001b[49m\u001b[43mi\u001b[49m\u001b[43m \u001b[49m\u001b[38;5;241;43m+\u001b[39;49m\u001b[43m \u001b[49m\u001b[38;5;241;43m1\u001b[39;49m\u001b[43m)\u001b[49m\u001b[43m)\u001b[49m\n\u001b[0;32m     79\u001b[0m \u001b[43m        \u001b[49m\u001b[43m}\u001b[49m\u001b[43m,\u001b[49m\n\u001b[0;32m     80\u001b[0m \u001b[43m    \u001b[49m\u001b[43m)\u001b[49m\n\u001b[0;32m     81\u001b[0m     \u001b[38;5;28;01mfor\u001b[39;00m i, retriever \u001b[38;5;129;01min\u001b[39;00m \u001b[38;5;28menumerate\u001b[39m(\u001b[38;5;28mself\u001b[39m\u001b[38;5;241m.\u001b[39mretrievers)\n\u001b[0;32m     82\u001b[0m ]\n\u001b[0;32m     84\u001b[0m \u001b[38;5;66;03m# Merge the results of the retrievers.\u001b[39;00m\n\u001b[0;32m     85\u001b[0m merged_documents \u001b[38;5;241m=\u001b[39m []\n",
      "File \u001b[1;32mc:\\Users\\acer\\miniconda3\\envs\\chatbot-ocbc\\lib\\site-packages\\langchain_core\\retrievers.py:221\u001b[0m, in \u001b[0;36mBaseRetriever.invoke\u001b[1;34m(self, input, config, **kwargs)\u001b[0m\n\u001b[0;32m    219\u001b[0m \u001b[38;5;28;01mexcept\u001b[39;00m \u001b[38;5;167;01mException\u001b[39;00m \u001b[38;5;28;01mas\u001b[39;00m e:\n\u001b[0;32m    220\u001b[0m     run_manager\u001b[38;5;241m.\u001b[39mon_retriever_error(e)\n\u001b[1;32m--> 221\u001b[0m     \u001b[38;5;28;01mraise\u001b[39;00m e\n\u001b[0;32m    222\u001b[0m \u001b[38;5;28;01melse\u001b[39;00m:\n\u001b[0;32m    223\u001b[0m     run_manager\u001b[38;5;241m.\u001b[39mon_retriever_end(\n\u001b[0;32m    224\u001b[0m         result,\n\u001b[0;32m    225\u001b[0m     )\n",
      "File \u001b[1;32mc:\\Users\\acer\\miniconda3\\envs\\chatbot-ocbc\\lib\\site-packages\\langchain_core\\retrievers.py:214\u001b[0m, in \u001b[0;36mBaseRetriever.invoke\u001b[1;34m(self, input, config, **kwargs)\u001b[0m\n\u001b[0;32m    212\u001b[0m _kwargs \u001b[38;5;241m=\u001b[39m kwargs \u001b[38;5;28;01mif\u001b[39;00m \u001b[38;5;28mself\u001b[39m\u001b[38;5;241m.\u001b[39m_expects_other_args \u001b[38;5;28;01melse\u001b[39;00m {}\n\u001b[0;32m    213\u001b[0m \u001b[38;5;28;01mif\u001b[39;00m \u001b[38;5;28mself\u001b[39m\u001b[38;5;241m.\u001b[39m_new_arg_supported:\n\u001b[1;32m--> 214\u001b[0m     result \u001b[38;5;241m=\u001b[39m \u001b[38;5;28mself\u001b[39m\u001b[38;5;241m.\u001b[39m_get_relevant_documents(\n\u001b[0;32m    215\u001b[0m         \u001b[38;5;28minput\u001b[39m, run_manager\u001b[38;5;241m=\u001b[39mrun_manager, \u001b[38;5;241m*\u001b[39m\u001b[38;5;241m*\u001b[39m_kwargs\n\u001b[0;32m    216\u001b[0m     )\n\u001b[0;32m    217\u001b[0m \u001b[38;5;28;01melse\u001b[39;00m:\n\u001b[0;32m    218\u001b[0m     result \u001b[38;5;241m=\u001b[39m \u001b[38;5;28mself\u001b[39m\u001b[38;5;241m.\u001b[39m_get_relevant_documents(\u001b[38;5;28minput\u001b[39m, \u001b[38;5;241m*\u001b[39m\u001b[38;5;241m*\u001b[39m_kwargs)\n",
      "File \u001b[1;32mc:\\Users\\acer\\miniconda3\\envs\\chatbot-ocbc\\lib\\site-packages\\langchain\\retrievers\\self_query\\base.py:263\u001b[0m, in \u001b[0;36mSelfQueryRetriever._get_relevant_documents\u001b[1;34m(self, query, run_manager)\u001b[0m\n\u001b[0;32m    252\u001b[0m \u001b[38;5;28;01mdef\u001b[39;00m \u001b[38;5;21m_get_relevant_documents\u001b[39m(\n\u001b[0;32m    253\u001b[0m     \u001b[38;5;28mself\u001b[39m, query: \u001b[38;5;28mstr\u001b[39m, \u001b[38;5;241m*\u001b[39m, run_manager: CallbackManagerForRetrieverRun\n\u001b[0;32m    254\u001b[0m ) \u001b[38;5;241m-\u001b[39m\u001b[38;5;241m>\u001b[39m List[Document]:\n\u001b[0;32m    255\u001b[0m \u001b[38;5;250m    \u001b[39m\u001b[38;5;124;03m\"\"\"Get documents relevant for a query.\u001b[39;00m\n\u001b[0;32m    256\u001b[0m \n\u001b[0;32m    257\u001b[0m \u001b[38;5;124;03m    Args:\u001b[39;00m\n\u001b[1;32m   (...)\u001b[0m\n\u001b[0;32m    261\u001b[0m \u001b[38;5;124;03m        List of relevant documents\u001b[39;00m\n\u001b[0;32m    262\u001b[0m \u001b[38;5;124;03m    \"\"\"\u001b[39;00m\n\u001b[1;32m--> 263\u001b[0m     structured_query \u001b[38;5;241m=\u001b[39m \u001b[38;5;28;43mself\u001b[39;49m\u001b[38;5;241;43m.\u001b[39;49m\u001b[43mquery_constructor\u001b[49m\u001b[38;5;241;43m.\u001b[39;49m\u001b[43minvoke\u001b[49m\u001b[43m(\u001b[49m\n\u001b[0;32m    264\u001b[0m \u001b[43m        \u001b[49m\u001b[43m{\u001b[49m\u001b[38;5;124;43m\"\u001b[39;49m\u001b[38;5;124;43mquery\u001b[39;49m\u001b[38;5;124;43m\"\u001b[39;49m\u001b[43m:\u001b[49m\u001b[43m \u001b[49m\u001b[43mquery\u001b[49m\u001b[43m}\u001b[49m\u001b[43m,\u001b[49m\u001b[43m \u001b[49m\u001b[43mconfig\u001b[49m\u001b[38;5;241;43m=\u001b[39;49m\u001b[43m{\u001b[49m\u001b[38;5;124;43m\"\u001b[39;49m\u001b[38;5;124;43mcallbacks\u001b[39;49m\u001b[38;5;124;43m\"\u001b[39;49m\u001b[43m:\u001b[49m\u001b[43m \u001b[49m\u001b[43mrun_manager\u001b[49m\u001b[38;5;241;43m.\u001b[39;49m\u001b[43mget_child\u001b[49m\u001b[43m(\u001b[49m\u001b[43m)\u001b[49m\u001b[43m}\u001b[49m\n\u001b[0;32m    265\u001b[0m \u001b[43m    \u001b[49m\u001b[43m)\u001b[49m\n\u001b[0;32m    266\u001b[0m     \u001b[38;5;28;01mif\u001b[39;00m \u001b[38;5;28mself\u001b[39m\u001b[38;5;241m.\u001b[39mverbose:\n\u001b[0;32m    267\u001b[0m         logger\u001b[38;5;241m.\u001b[39minfo(\u001b[38;5;124mf\u001b[39m\u001b[38;5;124m\"\u001b[39m\u001b[38;5;124mGenerated Query: \u001b[39m\u001b[38;5;132;01m{\u001b[39;00mstructured_query\u001b[38;5;132;01m}\u001b[39;00m\u001b[38;5;124m\"\u001b[39m)\n",
      "File \u001b[1;32mc:\\Users\\acer\\miniconda3\\envs\\chatbot-ocbc\\lib\\site-packages\\langchain_core\\runnables\\base.py:5055\u001b[0m, in \u001b[0;36mRunnableBindingBase.invoke\u001b[1;34m(self, input, config, **kwargs)\u001b[0m\n\u001b[0;32m   5049\u001b[0m \u001b[38;5;28;01mdef\u001b[39;00m \u001b[38;5;21minvoke\u001b[39m(\n\u001b[0;32m   5050\u001b[0m     \u001b[38;5;28mself\u001b[39m,\n\u001b[0;32m   5051\u001b[0m     \u001b[38;5;28minput\u001b[39m: Input,\n\u001b[0;32m   5052\u001b[0m     config: Optional[RunnableConfig] \u001b[38;5;241m=\u001b[39m \u001b[38;5;28;01mNone\u001b[39;00m,\n\u001b[0;32m   5053\u001b[0m     \u001b[38;5;241m*\u001b[39m\u001b[38;5;241m*\u001b[39mkwargs: Optional[Any],\n\u001b[0;32m   5054\u001b[0m ) \u001b[38;5;241m-\u001b[39m\u001b[38;5;241m>\u001b[39m Output:\n\u001b[1;32m-> 5055\u001b[0m     \u001b[38;5;28;01mreturn\u001b[39;00m \u001b[38;5;28mself\u001b[39m\u001b[38;5;241m.\u001b[39mbound\u001b[38;5;241m.\u001b[39minvoke(\n\u001b[0;32m   5056\u001b[0m         \u001b[38;5;28minput\u001b[39m,\n\u001b[0;32m   5057\u001b[0m         \u001b[38;5;28mself\u001b[39m\u001b[38;5;241m.\u001b[39m_merge_configs(config),\n\u001b[0;32m   5058\u001b[0m         \u001b[38;5;241m*\u001b[39m\u001b[38;5;241m*\u001b[39m{\u001b[38;5;241m*\u001b[39m\u001b[38;5;241m*\u001b[39m\u001b[38;5;28mself\u001b[39m\u001b[38;5;241m.\u001b[39mkwargs, \u001b[38;5;241m*\u001b[39m\u001b[38;5;241m*\u001b[39mkwargs},\n\u001b[0;32m   5059\u001b[0m     )\n",
      "File \u001b[1;32mc:\\Users\\acer\\miniconda3\\envs\\chatbot-ocbc\\lib\\site-packages\\langchain_core\\runnables\\base.py:2873\u001b[0m, in \u001b[0;36mRunnableSequence.invoke\u001b[1;34m(self, input, config, **kwargs)\u001b[0m\n\u001b[0;32m   2871\u001b[0m             \u001b[38;5;28minput\u001b[39m \u001b[38;5;241m=\u001b[39m step\u001b[38;5;241m.\u001b[39minvoke(\u001b[38;5;28minput\u001b[39m, config, \u001b[38;5;241m*\u001b[39m\u001b[38;5;241m*\u001b[39mkwargs)\n\u001b[0;32m   2872\u001b[0m         \u001b[38;5;28;01melse\u001b[39;00m:\n\u001b[1;32m-> 2873\u001b[0m             \u001b[38;5;28minput\u001b[39m \u001b[38;5;241m=\u001b[39m \u001b[43mstep\u001b[49m\u001b[38;5;241;43m.\u001b[39;49m\u001b[43minvoke\u001b[49m\u001b[43m(\u001b[49m\u001b[38;5;28;43minput\u001b[39;49m\u001b[43m,\u001b[49m\u001b[43m \u001b[49m\u001b[43mconfig\u001b[49m\u001b[43m)\u001b[49m\n\u001b[0;32m   2874\u001b[0m \u001b[38;5;66;03m# finish the root run\u001b[39;00m\n\u001b[0;32m   2875\u001b[0m \u001b[38;5;28;01mexcept\u001b[39;00m \u001b[38;5;167;01mBaseException\u001b[39;00m \u001b[38;5;28;01mas\u001b[39;00m e:\n",
      "File \u001b[1;32mc:\\Users\\acer\\miniconda3\\envs\\chatbot-ocbc\\lib\\site-packages\\langchain_core\\output_parsers\\base.py:183\u001b[0m, in \u001b[0;36mBaseOutputParser.invoke\u001b[1;34m(self, input, config)\u001b[0m\n\u001b[0;32m    179\u001b[0m \u001b[38;5;28;01mdef\u001b[39;00m \u001b[38;5;21minvoke\u001b[39m(\n\u001b[0;32m    180\u001b[0m     \u001b[38;5;28mself\u001b[39m, \u001b[38;5;28minput\u001b[39m: Union[\u001b[38;5;28mstr\u001b[39m, BaseMessage], config: Optional[RunnableConfig] \u001b[38;5;241m=\u001b[39m \u001b[38;5;28;01mNone\u001b[39;00m\n\u001b[0;32m    181\u001b[0m ) \u001b[38;5;241m-\u001b[39m\u001b[38;5;241m>\u001b[39m T:\n\u001b[0;32m    182\u001b[0m     \u001b[38;5;28;01mif\u001b[39;00m \u001b[38;5;28misinstance\u001b[39m(\u001b[38;5;28minput\u001b[39m, BaseMessage):\n\u001b[1;32m--> 183\u001b[0m         \u001b[38;5;28;01mreturn\u001b[39;00m \u001b[38;5;28;43mself\u001b[39;49m\u001b[38;5;241;43m.\u001b[39;49m\u001b[43m_call_with_config\u001b[49m\u001b[43m(\u001b[49m\n\u001b[0;32m    184\u001b[0m \u001b[43m            \u001b[49m\u001b[38;5;28;43;01mlambda\u001b[39;49;00m\u001b[43m \u001b[49m\u001b[43minner_input\u001b[49m\u001b[43m:\u001b[49m\u001b[43m \u001b[49m\u001b[38;5;28;43mself\u001b[39;49m\u001b[38;5;241;43m.\u001b[39;49m\u001b[43mparse_result\u001b[49m\u001b[43m(\u001b[49m\n\u001b[0;32m    185\u001b[0m \u001b[43m                \u001b[49m\u001b[43m[\u001b[49m\u001b[43mChatGeneration\u001b[49m\u001b[43m(\u001b[49m\u001b[43mmessage\u001b[49m\u001b[38;5;241;43m=\u001b[39;49m\u001b[43minner_input\u001b[49m\u001b[43m)\u001b[49m\u001b[43m]\u001b[49m\n\u001b[0;32m    186\u001b[0m \u001b[43m            \u001b[49m\u001b[43m)\u001b[49m\u001b[43m,\u001b[49m\n\u001b[0;32m    187\u001b[0m \u001b[43m            \u001b[49m\u001b[38;5;28;43minput\u001b[39;49m\u001b[43m,\u001b[49m\n\u001b[0;32m    188\u001b[0m \u001b[43m            \u001b[49m\u001b[43mconfig\u001b[49m\u001b[43m,\u001b[49m\n\u001b[0;32m    189\u001b[0m \u001b[43m            \u001b[49m\u001b[43mrun_type\u001b[49m\u001b[38;5;241;43m=\u001b[39;49m\u001b[38;5;124;43m\"\u001b[39;49m\u001b[38;5;124;43mparser\u001b[39;49m\u001b[38;5;124;43m\"\u001b[39;49m\u001b[43m,\u001b[49m\n\u001b[0;32m    190\u001b[0m \u001b[43m        \u001b[49m\u001b[43m)\u001b[49m\n\u001b[0;32m    191\u001b[0m     \u001b[38;5;28;01melse\u001b[39;00m:\n\u001b[0;32m    192\u001b[0m         \u001b[38;5;28;01mreturn\u001b[39;00m \u001b[38;5;28mself\u001b[39m\u001b[38;5;241m.\u001b[39m_call_with_config(\n\u001b[0;32m    193\u001b[0m             \u001b[38;5;28;01mlambda\u001b[39;00m inner_input: \u001b[38;5;28mself\u001b[39m\u001b[38;5;241m.\u001b[39mparse_result([Generation(text\u001b[38;5;241m=\u001b[39minner_input)]),\n\u001b[0;32m    194\u001b[0m             \u001b[38;5;28minput\u001b[39m,\n\u001b[0;32m    195\u001b[0m             config,\n\u001b[0;32m    196\u001b[0m             run_type\u001b[38;5;241m=\u001b[39m\u001b[38;5;124m\"\u001b[39m\u001b[38;5;124mparser\u001b[39m\u001b[38;5;124m\"\u001b[39m,\n\u001b[0;32m    197\u001b[0m         )\n",
      "File \u001b[1;32mc:\\Users\\acer\\miniconda3\\envs\\chatbot-ocbc\\lib\\site-packages\\langchain_core\\runnables\\base.py:1783\u001b[0m, in \u001b[0;36mRunnable._call_with_config\u001b[1;34m(self, func, input, config, run_type, **kwargs)\u001b[0m\n\u001b[0;32m   1779\u001b[0m     context \u001b[38;5;241m=\u001b[39m copy_context()\n\u001b[0;32m   1780\u001b[0m     context\u001b[38;5;241m.\u001b[39mrun(_set_config_context, child_config)\n\u001b[0;32m   1781\u001b[0m     output \u001b[38;5;241m=\u001b[39m cast(\n\u001b[0;32m   1782\u001b[0m         Output,\n\u001b[1;32m-> 1783\u001b[0m         context\u001b[38;5;241m.\u001b[39mrun(\n\u001b[0;32m   1784\u001b[0m             call_func_with_variable_args,  \u001b[38;5;66;03m# type: ignore[arg-type]\u001b[39;00m\n\u001b[0;32m   1785\u001b[0m             func,  \u001b[38;5;66;03m# type: ignore[arg-type]\u001b[39;00m\n\u001b[0;32m   1786\u001b[0m             \u001b[38;5;28minput\u001b[39m,  \u001b[38;5;66;03m# type: ignore[arg-type]\u001b[39;00m\n\u001b[0;32m   1787\u001b[0m             config,\n\u001b[0;32m   1788\u001b[0m             run_manager,\n\u001b[0;32m   1789\u001b[0m             \u001b[38;5;241m*\u001b[39m\u001b[38;5;241m*\u001b[39mkwargs,\n\u001b[0;32m   1790\u001b[0m         ),\n\u001b[0;32m   1791\u001b[0m     )\n\u001b[0;32m   1792\u001b[0m \u001b[38;5;28;01mexcept\u001b[39;00m \u001b[38;5;167;01mBaseException\u001b[39;00m \u001b[38;5;28;01mas\u001b[39;00m e:\n\u001b[0;32m   1793\u001b[0m     run_manager\u001b[38;5;241m.\u001b[39mon_chain_error(e)\n",
      "File \u001b[1;32mc:\\Users\\acer\\miniconda3\\envs\\chatbot-ocbc\\lib\\site-packages\\langchain_core\\runnables\\config.py:383\u001b[0m, in \u001b[0;36mcall_func_with_variable_args\u001b[1;34m(func, input, config, run_manager, **kwargs)\u001b[0m\n\u001b[0;32m    381\u001b[0m \u001b[38;5;28;01mif\u001b[39;00m run_manager \u001b[38;5;129;01mis\u001b[39;00m \u001b[38;5;129;01mnot\u001b[39;00m \u001b[38;5;28;01mNone\u001b[39;00m \u001b[38;5;129;01mand\u001b[39;00m accepts_run_manager(func):\n\u001b[0;32m    382\u001b[0m     kwargs[\u001b[38;5;124m\"\u001b[39m\u001b[38;5;124mrun_manager\u001b[39m\u001b[38;5;124m\"\u001b[39m] \u001b[38;5;241m=\u001b[39m run_manager\n\u001b[1;32m--> 383\u001b[0m \u001b[38;5;28;01mreturn\u001b[39;00m func(\u001b[38;5;28minput\u001b[39m, \u001b[38;5;241m*\u001b[39m\u001b[38;5;241m*\u001b[39mkwargs)\n",
      "File \u001b[1;32mc:\\Users\\acer\\miniconda3\\envs\\chatbot-ocbc\\lib\\site-packages\\langchain_core\\output_parsers\\base.py:184\u001b[0m, in \u001b[0;36mBaseOutputParser.invoke.<locals>.<lambda>\u001b[1;34m(inner_input)\u001b[0m\n\u001b[0;32m    179\u001b[0m \u001b[38;5;28;01mdef\u001b[39;00m \u001b[38;5;21minvoke\u001b[39m(\n\u001b[0;32m    180\u001b[0m     \u001b[38;5;28mself\u001b[39m, \u001b[38;5;28minput\u001b[39m: Union[\u001b[38;5;28mstr\u001b[39m, BaseMessage], config: Optional[RunnableConfig] \u001b[38;5;241m=\u001b[39m \u001b[38;5;28;01mNone\u001b[39;00m\n\u001b[0;32m    181\u001b[0m ) \u001b[38;5;241m-\u001b[39m\u001b[38;5;241m>\u001b[39m T:\n\u001b[0;32m    182\u001b[0m     \u001b[38;5;28;01mif\u001b[39;00m \u001b[38;5;28misinstance\u001b[39m(\u001b[38;5;28minput\u001b[39m, BaseMessage):\n\u001b[0;32m    183\u001b[0m         \u001b[38;5;28;01mreturn\u001b[39;00m \u001b[38;5;28mself\u001b[39m\u001b[38;5;241m.\u001b[39m_call_with_config(\n\u001b[1;32m--> 184\u001b[0m             \u001b[38;5;28;01mlambda\u001b[39;00m inner_input: \u001b[38;5;28;43mself\u001b[39;49m\u001b[38;5;241;43m.\u001b[39;49m\u001b[43mparse_result\u001b[49m\u001b[43m(\u001b[49m\n\u001b[0;32m    185\u001b[0m \u001b[43m                \u001b[49m\u001b[43m[\u001b[49m\u001b[43mChatGeneration\u001b[49m\u001b[43m(\u001b[49m\u001b[43mmessage\u001b[49m\u001b[38;5;241;43m=\u001b[39;49m\u001b[43minner_input\u001b[49m\u001b[43m)\u001b[49m\u001b[43m]\u001b[49m\n\u001b[0;32m    186\u001b[0m \u001b[43m            \u001b[49m\u001b[43m)\u001b[49m,\n\u001b[0;32m    187\u001b[0m             \u001b[38;5;28minput\u001b[39m,\n\u001b[0;32m    188\u001b[0m             config,\n\u001b[0;32m    189\u001b[0m             run_type\u001b[38;5;241m=\u001b[39m\u001b[38;5;124m\"\u001b[39m\u001b[38;5;124mparser\u001b[39m\u001b[38;5;124m\"\u001b[39m,\n\u001b[0;32m    190\u001b[0m         )\n\u001b[0;32m    191\u001b[0m     \u001b[38;5;28;01melse\u001b[39;00m:\n\u001b[0;32m    192\u001b[0m         \u001b[38;5;28;01mreturn\u001b[39;00m \u001b[38;5;28mself\u001b[39m\u001b[38;5;241m.\u001b[39m_call_with_config(\n\u001b[0;32m    193\u001b[0m             \u001b[38;5;28;01mlambda\u001b[39;00m inner_input: \u001b[38;5;28mself\u001b[39m\u001b[38;5;241m.\u001b[39mparse_result([Generation(text\u001b[38;5;241m=\u001b[39minner_input)]),\n\u001b[0;32m    194\u001b[0m             \u001b[38;5;28minput\u001b[39m,\n\u001b[0;32m    195\u001b[0m             config,\n\u001b[0;32m    196\u001b[0m             run_type\u001b[38;5;241m=\u001b[39m\u001b[38;5;124m\"\u001b[39m\u001b[38;5;124mparser\u001b[39m\u001b[38;5;124m\"\u001b[39m,\n\u001b[0;32m    197\u001b[0m         )\n",
      "File \u001b[1;32mc:\\Users\\acer\\miniconda3\\envs\\chatbot-ocbc\\lib\\site-packages\\langchain_core\\output_parsers\\base.py:237\u001b[0m, in \u001b[0;36mBaseOutputParser.parse_result\u001b[1;34m(self, result, partial)\u001b[0m\n\u001b[0;32m    222\u001b[0m \u001b[38;5;28;01mdef\u001b[39;00m \u001b[38;5;21mparse_result\u001b[39m(\u001b[38;5;28mself\u001b[39m, result: List[Generation], \u001b[38;5;241m*\u001b[39m, partial: \u001b[38;5;28mbool\u001b[39m \u001b[38;5;241m=\u001b[39m \u001b[38;5;28;01mFalse\u001b[39;00m) \u001b[38;5;241m-\u001b[39m\u001b[38;5;241m>\u001b[39m T:\n\u001b[0;32m    223\u001b[0m \u001b[38;5;250m    \u001b[39m\u001b[38;5;124;03m\"\"\"Parse a list of candidate model Generations into a specific format.\u001b[39;00m\n\u001b[0;32m    224\u001b[0m \n\u001b[0;32m    225\u001b[0m \u001b[38;5;124;03m    The return value is parsed from only the first Generation in the result, which\u001b[39;00m\n\u001b[1;32m   (...)\u001b[0m\n\u001b[0;32m    235\u001b[0m \u001b[38;5;124;03m        Structured output.\u001b[39;00m\n\u001b[0;32m    236\u001b[0m \u001b[38;5;124;03m    \"\"\"\u001b[39;00m\n\u001b[1;32m--> 237\u001b[0m     \u001b[38;5;28;01mreturn\u001b[39;00m \u001b[38;5;28;43mself\u001b[39;49m\u001b[38;5;241;43m.\u001b[39;49m\u001b[43mparse\u001b[49m\u001b[43m(\u001b[49m\u001b[43mresult\u001b[49m\u001b[43m[\u001b[49m\u001b[38;5;241;43m0\u001b[39;49m\u001b[43m]\u001b[49m\u001b[38;5;241;43m.\u001b[39;49m\u001b[43mtext\u001b[49m\u001b[43m)\u001b[49m\n",
      "File \u001b[1;32mc:\\Users\\acer\\miniconda3\\envs\\chatbot-ocbc\\lib\\site-packages\\langchain\\chains\\query_constructor\\base.py:64\u001b[0m, in \u001b[0;36mStructuredQueryOutputParser.parse\u001b[1;34m(self, text)\u001b[0m\n\u001b[0;32m     60\u001b[0m     \u001b[38;5;28;01mreturn\u001b[39;00m StructuredQuery(\n\u001b[0;32m     61\u001b[0m         \u001b[38;5;241m*\u001b[39m\u001b[38;5;241m*\u001b[39m{k: v \u001b[38;5;28;01mfor\u001b[39;00m k, v \u001b[38;5;129;01min\u001b[39;00m parsed\u001b[38;5;241m.\u001b[39mitems() \u001b[38;5;28;01mif\u001b[39;00m k \u001b[38;5;129;01min\u001b[39;00m allowed_keys}\n\u001b[0;32m     62\u001b[0m     )\n\u001b[0;32m     63\u001b[0m \u001b[38;5;28;01mexcept\u001b[39;00m \u001b[38;5;167;01mException\u001b[39;00m \u001b[38;5;28;01mas\u001b[39;00m e:\n\u001b[1;32m---> 64\u001b[0m     \u001b[38;5;28;01mraise\u001b[39;00m OutputParserException(\n\u001b[0;32m     65\u001b[0m         \u001b[38;5;124mf\u001b[39m\u001b[38;5;124m\"\u001b[39m\u001b[38;5;124mParsing text\u001b[39m\u001b[38;5;130;01m\\n\u001b[39;00m\u001b[38;5;132;01m{\u001b[39;00mtext\u001b[38;5;132;01m}\u001b[39;00m\u001b[38;5;130;01m\\n\u001b[39;00m\u001b[38;5;124m raised following error:\u001b[39m\u001b[38;5;130;01m\\n\u001b[39;00m\u001b[38;5;132;01m{\u001b[39;00me\u001b[38;5;132;01m}\u001b[39;00m\u001b[38;5;124m\"\u001b[39m\n\u001b[0;32m     66\u001b[0m     )\n",
      "\u001b[1;31mOutputParserException\u001b[0m: Parsing text\n```json\n{\n    \"query\": \"tarif pemotongan pajak\",\n    \"filter\": \"and(gte(\\\"penghasilan_bruto\\\", \\\"100000000\\\"), lte(\\\"penghasilan_bruto\\\", \\\"200000000\\\"))\"\n}\n```\n raised following error:\nReceived invalid attributes penghasilan_bruto. Allowed attributes are ['title', 'sector', 'subsector', 'regulation_type', 'regulation_number', 'effective_date']"
     ]
    }
   ],
   "source": [
    "import time\n",
    "from datasets import Dataset\n",
    "from chain.rag_chain import get_response\n",
    "\n",
    "results = []\n",
    "contexts = []\n",
    "queries = eval_questions\n",
    "ground_truths = eval_answers\n",
    "\n",
    "for query in queries:\n",
    "    result = get_response(\n",
    "        chain=chain_history,\n",
    "        question=query,\n",
    "        user_id=USER_ID,\n",
    "        conversation_id=CONVERSATION_ID\n",
    "    )\n",
    "\n",
    "    results.append(result['answer'])\n",
    "    sources = result[\"context\"]\n",
    "    final_sources = list(eval(sources))\n",
    "    contents = []\n",
    "    for source in final_sources:\n",
    "        contents.append(source.get('page_content'))\n",
    "    contexts.append(contents)\n",
    "\n",
    "    time.sleep(3)\n",
    "\n",
    "d = {\n",
    "    \"question\": queries,\n",
    "    \"answer\": results,\n",
    "    \"contexts\": contexts,\n",
    "    \"ground_truth\": ground_truths\n",
    "}\n",
    "\n",
    "dataset = Dataset.from_dict(d)"
   ]
  },
  {
   "cell_type": "code",
   "execution_count": 13,
   "metadata": {},
   "outputs": [
    {
     "ename": "NameError",
     "evalue": "name 'd' is not defined",
     "output_type": "error",
     "traceback": [
      "\u001b[1;31m---------------------------------------------------------------------------\u001b[0m",
      "\u001b[1;31mNameError\u001b[0m                                 Traceback (most recent call last)",
      "Cell \u001b[1;32mIn[13], line 4\u001b[0m\n\u001b[0;32m      1\u001b[0m \u001b[38;5;28;01mimport\u001b[39;00m \u001b[38;5;21;01mjson\u001b[39;00m\n\u001b[0;32m      3\u001b[0m \u001b[38;5;28;01mwith\u001b[39;00m \u001b[38;5;28mopen\u001b[39m(\u001b[38;5;124m\"\u001b[39m\u001b[38;5;124m./constant/ojk/dict_eval.json\u001b[39m\u001b[38;5;124m\"\u001b[39m, \u001b[38;5;124m\"\u001b[39m\u001b[38;5;124mw\u001b[39m\u001b[38;5;124m\"\u001b[39m) \u001b[38;5;28;01mas\u001b[39;00m outfile: \n\u001b[1;32m----> 4\u001b[0m     json\u001b[38;5;241m.\u001b[39mdump(\u001b[43md\u001b[49m, outfile)\n",
      "\u001b[1;31mNameError\u001b[0m: name 'd' is not defined"
     ]
    }
   ],
   "source": [
    "import json\n",
    "\n",
    "with open(\"./constant/ojk/dict_eval.json\", \"w\") as outfile: \n",
    "    json.dump(d, outfile)"
   ]
  },
  {
   "cell_type": "code",
   "execution_count": null,
   "metadata": {},
   "outputs": [],
   "source": [
    "with open('./constant/ojk/dict_eval.json') as json_file:\n",
    "    d = json.load(json_file)"
   ]
  },
  {
   "cell_type": "code",
   "execution_count": null,
   "metadata": {},
   "outputs": [],
   "source": [
    "dataset = Dataset.from_dict(d)\n",
    "\n",
    "df = dataset.to_pandas()\n",
    "df.head()"
   ]
  },
  {
   "cell_type": "code",
   "execution_count": null,
   "metadata": {},
   "outputs": [],
   "source": [
    "from ragas.metrics import faithfulness, answer_relevancy, context_precision, context_recall, answer_similarity, answer_correctness\n",
    "from ragas.metrics.critique import harmfulness\n",
    "from ragas import evaluate\n",
    "\n",
    "score = evaluate(dataset, metrics=[faithfulness, answer_relevancy, context_precision, context_recall, answer_similarity, answer_correctness, harmfulness], llm=llm_model, embeddings=embed_model)"
   ]
  },
  {
   "cell_type": "code",
   "execution_count": null,
   "metadata": {},
   "outputs": [],
   "source": [
    "import numpy as np\n",
    "\n",
    "result_dict = df.to_dict(orient='index')\n",
    "\n",
    "# Convert any ndarray objects to list\n",
    "for key in result_dict:\n",
    "    for subkey in result_dict[key]:\n",
    "        if isinstance(result_dict[key][subkey], (np.ndarray, list)):\n",
    "            result_dict[key][subkey] = result_dict[key][subkey].tolist() if isinstance(result_dict[key][subkey], np.ndarray) else result_dict[key][subkey]\n",
    "\n",
    "# Save the dictionary to a JSON file\n",
    "with open(\"eval_results.json\", \"w\") as file:\n",
    "    json.dump(result_dict, file, indent=4)"
   ]
  },
  {
   "cell_type": "code",
   "execution_count": null,
   "metadata": {},
   "outputs": [],
   "source": [
    "for key,val in score.items():\n",
    "    print(f\"{key}: {val}\")"
   ]
  }
 ],
 "metadata": {
  "kernelspec": {
   "display_name": "chatbot-all",
   "language": "python",
   "name": "python3"
  },
  "language_info": {
   "codemirror_mode": {
    "name": "ipython",
    "version": 3
   },
   "file_extension": ".py",
   "mimetype": "text/x-python",
   "name": "python",
   "nbconvert_exporter": "python",
   "pygments_lexer": "ipython3",
   "version": "3.9.19"
  }
 },
 "nbformat": 4,
 "nbformat_minor": 2
}

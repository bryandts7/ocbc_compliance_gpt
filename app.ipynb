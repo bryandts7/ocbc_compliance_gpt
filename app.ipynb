{
 "cells": [
  {
   "cell_type": "markdown",
   "metadata": {},
   "source": [
    "# **Compliance GPT with LangChain**"
   ]
  },
  {
   "cell_type": "markdown",
   "metadata": {},
   "source": [
    "## **Setup**"
   ]
  },
  {
   "cell_type": "code",
   "execution_count": 1,
   "metadata": {},
   "outputs": [
    {
     "data": {
      "text/plain": [
       "True"
      ]
     },
     "execution_count": 1,
     "metadata": {},
     "output_type": "execute_result"
    }
   ],
   "source": [
    "import nest_asyncio\n",
    "nest_asyncio.apply()\n",
    "\n",
    "from dotenv import load_dotenv\n",
    "load_dotenv()"
   ]
  },
  {
   "cell_type": "markdown",
   "metadata": {},
   "source": [
    "## **Config**"
   ]
  },
  {
   "cell_type": "code",
   "execution_count": 2,
   "metadata": {},
   "outputs": [],
   "source": [
    "from utils.config import get_config\n",
    "from utils.models import ModelName, get_model\n",
    "\n",
    "config = get_config()"
   ]
  },
  {
   "cell_type": "code",
   "execution_count": 3,
   "metadata": {},
   "outputs": [],
   "source": [
    "USER_ID = 'xmriz'\n",
    "CONVERSATION_ID = 'xmriz-2021-07-01-01'"
   ]
  },
  {
   "cell_type": "markdown",
   "metadata": {},
   "source": [
    "## **Define Model**"
   ]
  },
  {
   "cell_type": "code",
   "execution_count": 4,
   "metadata": {},
   "outputs": [],
   "source": [
    "model_name = ModelName.AZURE_OPENAI\n",
    "llm_model, embed_model = get_model(model_name=model_name, config=config)"
   ]
  },
  {
   "cell_type": "markdown",
   "metadata": {},
   "source": [
    "## **Load Vector Store Index**"
   ]
  },
  {
   "cell_type": "code",
   "execution_count": 5,
   "metadata": {},
   "outputs": [],
   "source": [
    "from databases.vector_store import RedisIndexManager\n",
    "\n",
    "redis = RedisIndexManager(index_name='ojk', embed_model=embed_model, config=config, db_id=0)\n",
    "vector_store = redis.load_vector_index()"
   ]
  },
  {
   "cell_type": "markdown",
   "metadata": {},
   "source": [
    "## **Get Retriever**"
   ]
  },
  {
   "cell_type": "code",
   "execution_count": 6,
   "metadata": {},
   "outputs": [],
   "source": [
    "from retriever.retriever_ojk.retriever_ojk import get_retriever_ojk\n",
    "\n",
    "retriever_ojk = get_retriever_ojk(vector_store=vector_store, top_n=6, top_k=16, llm_model=llm_model, embed_model=embed_model, config=config)"
   ]
  },
  {
   "cell_type": "code",
   "execution_count": 7,
   "metadata": {},
   "outputs": [],
   "source": [
    "from retriever.retriever_sikepo.lotr_sikepo import lotr_sikepo\n",
    "\n",
    "redis_sikepo_ket = RedisIndexManager(index_name='sikepo-ketentuan-terkait', embed_model=embed_model, config=config, db_id=0)\n",
    "vector_store_ket = redis_sikepo_ket.load_vector_index()\n",
    "retriever_sikepo_ket = lotr_sikepo(vector_store=vector_store_ket, llm_model=llm_model, embed_model=embed_model, config=config)\n",
    "\n",
    "redis_sikepo_rek = RedisIndexManager(index_name='sikepo-rekam-jejak', embed_model=embed_model, config=config, db_id=0)\n",
    "vector_store_rek = redis_sikepo_rek.load_vector_index()\n",
    "retriever_sikepo_rek = lotr_sikepo(vector_store=vector_store_rek, llm_model=llm_model, embed_model=embed_model, config=config)"
   ]
  },
  {
   "cell_type": "markdown",
   "metadata": {},
   "source": [
    "## **Create Chain**"
   ]
  },
  {
   "cell_type": "code",
   "execution_count": 8,
   "metadata": {},
   "outputs": [],
   "source": [
    "# from constant.ojk.prompt import CONTEXTUALIZE_Q_PROMPT_STR, QA_SYSTEM_PROMPT_STR\n",
    "# from databases.chat_store import MongoDBChatStore, RedisChatStore\n",
    "# from chain.chain_ojk.chain_ojk import create_ojk_chain\n",
    "# from chain.rag_chain import create_chain_with_chat_history\n",
    "\n",
    "# chat_store = RedisChatStore(k=4, config=config, db_id=1)\n",
    "\n",
    "# chain = create_ojk_chain(\n",
    "#     contextualize_q_prompt_str=CONTEXTUALIZE_Q_PROMPT_STR,\n",
    "#     qa_system_prompt_str=QA_SYSTEM_PROMPT_STR,\n",
    "#     retriever=retriever,\n",
    "#     llm_model=llm_model,\n",
    "#     # chat_store=chat_store\n",
    "# )\n",
    "\n",
    "# chain_history = create_chain_with_chat_history(\n",
    "#     final_chain=chain,\n",
    "#     chat_store=chat_store\n",
    "# )"
   ]
  },
  {
   "cell_type": "code",
   "execution_count": 9,
   "metadata": {},
   "outputs": [
    {
     "name": "stdout",
     "output_type": "stream",
     "text": [
      "bolt://108.137.122.156:7687\n"
     ]
    },
    {
     "ename": "TypeError",
     "evalue": "Expected a Runnable, callable or dict.Instead got an unsupported type: <class 'str'>",
     "output_type": "error",
     "traceback": [
      "\u001b[1;31m---------------------------------------------------------------------------\u001b[0m",
      "\u001b[1;31mTypeError\u001b[0m                                 Traceback (most recent call last)",
      "Cell \u001b[1;32mIn[9], line 19\u001b[0m\n\u001b[0;32m     15\u001b[0m graph_chain \u001b[38;5;241m=\u001b[39m graph_rag_chain(llm_model, llm_model, graph)\n\u001b[0;32m     17\u001b[0m chat_store \u001b[38;5;241m=\u001b[39m RedisChatStore(k\u001b[38;5;241m=\u001b[39m\u001b[38;5;241m4\u001b[39m, config\u001b[38;5;241m=\u001b[39mconfig, db_id\u001b[38;5;241m=\u001b[39m\u001b[38;5;241m1\u001b[39m)\n\u001b[1;32m---> 19\u001b[0m chain \u001b[38;5;241m=\u001b[39m \u001b[43mcreate_chain\u001b[49m\u001b[43m(\u001b[49m\u001b[43mretriever_ojk\u001b[49m\u001b[43m,\u001b[49m\u001b[43m \u001b[49m\u001b[43mretriever_sikepo_rek\u001b[49m\u001b[43m,\u001b[49m\u001b[43m \u001b[49m\u001b[43mretriever_sikepo_ket\u001b[49m\u001b[43m,\u001b[49m\u001b[43m \u001b[49m\u001b[43mgraph_chain\u001b[49m\u001b[43m,\u001b[49m\u001b[43m \u001b[49m\u001b[43mllm_model\u001b[49m\u001b[43m)\u001b[49m\n\u001b[0;32m     21\u001b[0m chain_history \u001b[38;5;241m=\u001b[39m create_chain_with_chat_history(\n\u001b[0;32m     22\u001b[0m     final_chain\u001b[38;5;241m=\u001b[39mchain,\n\u001b[0;32m     23\u001b[0m     chat_store\u001b[38;5;241m=\u001b[39mchat_store\n\u001b[0;32m     24\u001b[0m )\n",
      "File \u001b[1;32md:\\OCBC_CRAYON_INTERNSHIP_DATA\\ocbc_compliance_gpt\\chain\\rag_chain.py:59\u001b[0m, in \u001b[0;36mcreate_chain\u001b[1;34m(retriever_ojk, retriever_sikepo_rekam, retriever_sikepo_ketentuan, graph_chain, llm_model, retriever_bi)\u001b[0m\n\u001b[0;32m     42\u001b[0m question_router \u001b[38;5;241m=\u001b[39m question_router_chain(llm_model, ROUTER_PROMPT)\n\u001b[0;32m     44\u001b[0m \u001b[38;5;66;03m# ketentuan_chain =   routing_ketentuan_chain(ojk_chain, llm_model) | RunnableBranch(\u001b[39;00m\n\u001b[0;32m     45\u001b[0m \u001b[38;5;66;03m#                         (lambda x: \"YES\" in x[\"is_answered\"], {\"answer\": itemgetter(\"answer\")} | RunnablePassthrough()),\u001b[39;00m\n\u001b[0;32m     46\u001b[0m \u001b[38;5;66;03m#                         (lambda x: \"NO\" in x[\"is_answered\"], routing_ketentuan_chain(bi_chain, llm_model) | RunnableBranch(\u001b[39;00m\n\u001b[1;32m   (...)\u001b[0m\n\u001b[0;32m     52\u001b[0m                         \n\u001b[0;32m     53\u001b[0m \u001b[38;5;66;03m#                     )\u001b[39;00m\n\u001b[0;32m     55\u001b[0m full_chain \u001b[38;5;241m=\u001b[39m {\n\u001b[0;32m     56\u001b[0m     \u001b[38;5;124m\"\u001b[39m\u001b[38;5;124mresult\u001b[39m\u001b[38;5;124m\"\u001b[39m:question_router,\n\u001b[0;32m     57\u001b[0m     \u001b[38;5;124m\"\u001b[39m\u001b[38;5;124mquestion\u001b[39m\u001b[38;5;124m\"\u001b[39m: itemgetter(\u001b[38;5;124m\"\u001b[39m\u001b[38;5;124mquestion\u001b[39m\u001b[38;5;124m\"\u001b[39m),\n\u001b[0;32m     58\u001b[0m     \u001b[38;5;124m\"\u001b[39m\u001b[38;5;124mchat_history\u001b[39m\u001b[38;5;124m\"\u001b[39m : itemgetter(\u001b[38;5;124m\"\u001b[39m\u001b[38;5;124mchat_history\u001b[39m\u001b[38;5;124m\"\u001b[39m)\n\u001b[1;32m---> 59\u001b[0m } \u001b[38;5;241m|\u001b[39m \u001b[43mRunnableBranch\u001b[49m\u001b[43m(\u001b[49m\n\u001b[0;32m     60\u001b[0m \u001b[43m    \u001b[49m\u001b[43m(\u001b[49m\u001b[38;5;28;43;01mlambda\u001b[39;49;00m\u001b[43m \u001b[49m\u001b[43mx\u001b[49m\u001b[43m:\u001b[49m\u001b[43m \u001b[49m\u001b[38;5;124;43m\"\u001b[39;49m\u001b[38;5;124;43mrekam_jejak\u001b[39;49m\u001b[38;5;124;43m\"\u001b[39;49m\u001b[43m \u001b[49m\u001b[38;5;129;43;01min\u001b[39;49;00m\u001b[43m \u001b[49m\u001b[43mx\u001b[49m\u001b[43m[\u001b[49m\u001b[38;5;124;43m\"\u001b[39;49m\u001b[38;5;124;43mresult\u001b[39;49m\u001b[38;5;124;43m\"\u001b[39;49m\u001b[43m]\u001b[49m\u001b[43m,\u001b[49m\u001b[43m \u001b[49m\u001b[43msikepo_rekam_chain\u001b[49m\u001b[43m)\u001b[49m\u001b[43m,\u001b[49m\n\u001b[0;32m     61\u001b[0m \u001b[43m    \u001b[49m\u001b[43m(\u001b[49m\u001b[38;5;28;43;01mlambda\u001b[39;49;00m\u001b[43m \u001b[49m\u001b[43mx\u001b[49m\u001b[43m:\u001b[49m\u001b[43m \u001b[49m\u001b[38;5;124;43m\"\u001b[39;49m\u001b[38;5;124;43mketentuan_terkait\u001b[39;49m\u001b[38;5;124;43m\"\u001b[39;49m\u001b[43m \u001b[49m\u001b[38;5;129;43;01min\u001b[39;49;00m\u001b[43m \u001b[49m\u001b[43mx\u001b[49m\u001b[43m[\u001b[49m\u001b[38;5;124;43m\"\u001b[39;49m\u001b[38;5;124;43mresult\u001b[39;49m\u001b[38;5;124;43m\"\u001b[39;49m\u001b[43m]\u001b[49m\u001b[43m,\u001b[49m\u001b[43m \u001b[49m\u001b[43msikepo_rekam_chain\u001b[49m\u001b[43m)\u001b[49m\u001b[43m,\u001b[49m\n\u001b[0;32m     62\u001b[0m \u001b[43m    \u001b[49m\u001b[43m{\u001b[49m\u001b[38;5;124;43m\"\u001b[39;49m\u001b[38;5;124;43manswer\u001b[39;49m\u001b[38;5;124;43m\"\u001b[39;49m\u001b[43m:\u001b[49m\u001b[43m \u001b[49m\u001b[38;5;124;43m\"\u001b[39;49m\u001b[38;5;124;43mno answer\u001b[39;49m\u001b[38;5;124;43m\"\u001b[39;49m\u001b[43m}\u001b[49m\u001b[43m,\u001b[49m\n\u001b[0;32m     63\u001b[0m \u001b[43m\u001b[49m\u001b[43m)\u001b[49m\n\u001b[0;32m     65\u001b[0m \u001b[38;5;28;01mreturn\u001b[39;00m full_chain\n",
      "File \u001b[1;32mc:\\Users\\Bryan Delton\\anaconda3\\envs\\ocbc_env\\lib\\site-packages\\langchain_core\\runnables\\branch.py:115\u001b[0m, in \u001b[0;36mRunnableBranch.__init__\u001b[1;34m(self, *branches)\u001b[0m\n\u001b[0;32m    106\u001b[0m \u001b[38;5;28;01mif\u001b[39;00m \u001b[38;5;129;01mnot\u001b[39;00m \u001b[38;5;28misinstance\u001b[39m(\n\u001b[0;32m    107\u001b[0m     default,\n\u001b[0;32m    108\u001b[0m     (Runnable, Callable, Mapping),  \u001b[38;5;66;03m# type: ignore[arg-type]\u001b[39;00m\n\u001b[0;32m    109\u001b[0m ):\n\u001b[0;32m    110\u001b[0m     \u001b[38;5;28;01mraise\u001b[39;00m \u001b[38;5;167;01mTypeError\u001b[39;00m(\n\u001b[0;32m    111\u001b[0m         \u001b[38;5;124m\"\u001b[39m\u001b[38;5;124mRunnableBranch default must be Runnable, callable or mapping.\u001b[39m\u001b[38;5;124m\"\u001b[39m\n\u001b[0;32m    112\u001b[0m     )\n\u001b[0;32m    114\u001b[0m default_ \u001b[38;5;241m=\u001b[39m cast(\n\u001b[1;32m--> 115\u001b[0m     Runnable[Input, Output], \u001b[43mcoerce_to_runnable\u001b[49m\u001b[43m(\u001b[49m\u001b[43mcast\u001b[49m\u001b[43m(\u001b[49m\u001b[43mRunnableLike\u001b[49m\u001b[43m,\u001b[49m\u001b[43m \u001b[49m\u001b[43mdefault\u001b[49m\u001b[43m)\u001b[49m\u001b[43m)\u001b[49m\n\u001b[0;32m    116\u001b[0m )\n\u001b[0;32m    118\u001b[0m _branches \u001b[38;5;241m=\u001b[39m []\n\u001b[0;32m    120\u001b[0m \u001b[38;5;28;01mfor\u001b[39;00m branch \u001b[38;5;129;01min\u001b[39;00m branches[:\u001b[38;5;241m-\u001b[39m\u001b[38;5;241m1\u001b[39m]:\n",
      "File \u001b[1;32mc:\\Users\\Bryan Delton\\anaconda3\\envs\\ocbc_env\\lib\\site-packages\\langchain_core\\runnables\\base.py:5513\u001b[0m, in \u001b[0;36mcoerce_to_runnable\u001b[1;34m(thing)\u001b[0m\n\u001b[0;32m   5511\u001b[0m     \u001b[38;5;28;01mreturn\u001b[39;00m RunnableLambda(cast(Callable[[Input], Output], thing))\n\u001b[0;32m   5512\u001b[0m \u001b[38;5;28;01melif\u001b[39;00m \u001b[38;5;28misinstance\u001b[39m(thing, \u001b[38;5;28mdict\u001b[39m):\n\u001b[1;32m-> 5513\u001b[0m     \u001b[38;5;28;01mreturn\u001b[39;00m cast(Runnable[Input, Output], \u001b[43mRunnableParallel\u001b[49m\u001b[43m(\u001b[49m\u001b[43mthing\u001b[49m\u001b[43m)\u001b[49m)\n\u001b[0;32m   5514\u001b[0m \u001b[38;5;28;01melse\u001b[39;00m:\n\u001b[0;32m   5515\u001b[0m     \u001b[38;5;28;01mraise\u001b[39;00m \u001b[38;5;167;01mTypeError\u001b[39;00m(\n\u001b[0;32m   5516\u001b[0m         \u001b[38;5;124mf\u001b[39m\u001b[38;5;124m\"\u001b[39m\u001b[38;5;124mExpected a Runnable, callable or dict.\u001b[39m\u001b[38;5;124m\"\u001b[39m\n\u001b[0;32m   5517\u001b[0m         \u001b[38;5;124mf\u001b[39m\u001b[38;5;124m\"\u001b[39m\u001b[38;5;124mInstead got an unsupported type: \u001b[39m\u001b[38;5;132;01m{\u001b[39;00m\u001b[38;5;28mtype\u001b[39m(thing)\u001b[38;5;132;01m}\u001b[39;00m\u001b[38;5;124m\"\u001b[39m\n\u001b[0;32m   5518\u001b[0m     )\n",
      "File \u001b[1;32mc:\\Users\\Bryan Delton\\anaconda3\\envs\\ocbc_env\\lib\\site-packages\\langchain_core\\runnables\\base.py:3383\u001b[0m, in \u001b[0;36mRunnableParallel.__init__\u001b[1;34m(self, steps__, **kwargs)\u001b[0m\n\u001b[0;32m   3380\u001b[0m merged \u001b[38;5;241m=\u001b[39m {\u001b[38;5;241m*\u001b[39m\u001b[38;5;241m*\u001b[39msteps__} \u001b[38;5;28;01mif\u001b[39;00m steps__ \u001b[38;5;129;01mis\u001b[39;00m \u001b[38;5;129;01mnot\u001b[39;00m \u001b[38;5;28;01mNone\u001b[39;00m \u001b[38;5;28;01melse\u001b[39;00m {}\n\u001b[0;32m   3381\u001b[0m merged\u001b[38;5;241m.\u001b[39mupdate(kwargs)\n\u001b[0;32m   3382\u001b[0m \u001b[38;5;28msuper\u001b[39m()\u001b[38;5;241m.\u001b[39m\u001b[38;5;21m__init__\u001b[39m(  \u001b[38;5;66;03m# type: ignore[call-arg]\u001b[39;00m\n\u001b[1;32m-> 3383\u001b[0m     steps__\u001b[38;5;241m=\u001b[39m{key: coerce_to_runnable(r) \u001b[38;5;28;01mfor\u001b[39;00m key, r \u001b[38;5;129;01min\u001b[39;00m merged\u001b[38;5;241m.\u001b[39mitems()}\n\u001b[0;32m   3384\u001b[0m )\n",
      "File \u001b[1;32mc:\\Users\\Bryan Delton\\anaconda3\\envs\\ocbc_env\\lib\\site-packages\\langchain_core\\runnables\\base.py:3383\u001b[0m, in \u001b[0;36m<dictcomp>\u001b[1;34m(.0)\u001b[0m\n\u001b[0;32m   3380\u001b[0m merged \u001b[38;5;241m=\u001b[39m {\u001b[38;5;241m*\u001b[39m\u001b[38;5;241m*\u001b[39msteps__} \u001b[38;5;28;01mif\u001b[39;00m steps__ \u001b[38;5;129;01mis\u001b[39;00m \u001b[38;5;129;01mnot\u001b[39;00m \u001b[38;5;28;01mNone\u001b[39;00m \u001b[38;5;28;01melse\u001b[39;00m {}\n\u001b[0;32m   3381\u001b[0m merged\u001b[38;5;241m.\u001b[39mupdate(kwargs)\n\u001b[0;32m   3382\u001b[0m \u001b[38;5;28msuper\u001b[39m()\u001b[38;5;241m.\u001b[39m\u001b[38;5;21m__init__\u001b[39m(  \u001b[38;5;66;03m# type: ignore[call-arg]\u001b[39;00m\n\u001b[1;32m-> 3383\u001b[0m     steps__\u001b[38;5;241m=\u001b[39m{key: \u001b[43mcoerce_to_runnable\u001b[49m\u001b[43m(\u001b[49m\u001b[43mr\u001b[49m\u001b[43m)\u001b[49m \u001b[38;5;28;01mfor\u001b[39;00m key, r \u001b[38;5;129;01min\u001b[39;00m merged\u001b[38;5;241m.\u001b[39mitems()}\n\u001b[0;32m   3384\u001b[0m )\n",
      "File \u001b[1;32mc:\\Users\\Bryan Delton\\anaconda3\\envs\\ocbc_env\\lib\\site-packages\\langchain_core\\runnables\\base.py:5515\u001b[0m, in \u001b[0;36mcoerce_to_runnable\u001b[1;34m(thing)\u001b[0m\n\u001b[0;32m   5513\u001b[0m     \u001b[38;5;28;01mreturn\u001b[39;00m cast(Runnable[Input, Output], RunnableParallel(thing))\n\u001b[0;32m   5514\u001b[0m \u001b[38;5;28;01melse\u001b[39;00m:\n\u001b[1;32m-> 5515\u001b[0m     \u001b[38;5;28;01mraise\u001b[39;00m \u001b[38;5;167;01mTypeError\u001b[39;00m(\n\u001b[0;32m   5516\u001b[0m         \u001b[38;5;124mf\u001b[39m\u001b[38;5;124m\"\u001b[39m\u001b[38;5;124mExpected a Runnable, callable or dict.\u001b[39m\u001b[38;5;124m\"\u001b[39m\n\u001b[0;32m   5517\u001b[0m         \u001b[38;5;124mf\u001b[39m\u001b[38;5;124m\"\u001b[39m\u001b[38;5;124mInstead got an unsupported type: \u001b[39m\u001b[38;5;132;01m{\u001b[39;00m\u001b[38;5;28mtype\u001b[39m(thing)\u001b[38;5;132;01m}\u001b[39;00m\u001b[38;5;124m\"\u001b[39m\n\u001b[0;32m   5518\u001b[0m     )\n",
      "\u001b[1;31mTypeError\u001b[0m: Expected a Runnable, callable or dict.Instead got an unsupported type: <class 'str'>"
     ]
    }
   ],
   "source": [
    "import os\n",
    "from databases.chat_store import RedisChatStore\n",
    "from chain.rag_chain import create_chain_with_chat_history, create_chain\n",
    "from retriever.retriever_sikepo.graph_cypher_retriever import graph_rag_chain\n",
    "from langchain_community.graphs import Neo4jGraph\n",
    "\n",
    "\n",
    "URL = os.getenv(\"NEO4J_GRAPH_URL\")\n",
    "USERNAME = os.getenv(\"NEO4J_USERNAME\")\n",
    "PASSWORD = os.getenv(\"NEO4J_PASSWORD\")\n",
    "\n",
    "print(URL)\n",
    "\n",
    "graph = Neo4jGraph(url=URL, username=USERNAME, password= PASSWORD)\n",
    "graph_chain = graph_rag_chain(llm_model, llm_model, graph)\n",
    "\n",
    "chat_store = RedisChatStore(k=4, config=config, db_id=1)\n",
    "\n",
    "chain = create_chain(retriever_ojk, retriever_sikepo_rek, retriever_sikepo_ket, graph_chain, llm_model)\n",
    "\n",
    "chain_history = create_chain_with_chat_history(\n",
    "    final_chain=chain,\n",
    "    chat_store=chat_store\n",
    ")"
   ]
  },
  {
   "cell_type": "markdown",
   "metadata": {},
   "source": [
    "## **Invoke**"
   ]
  },
  {
   "cell_type": "markdown",
   "metadata": {},
   "source": [
    "#### **With Question, Answer, and Context**"
   ]
  },
  {
   "cell_type": "code",
   "execution_count": 24,
   "metadata": {},
   "outputs": [
    {
     "ename": "KeyboardInterrupt",
     "evalue": "",
     "output_type": "error",
     "traceback": [
      "\u001b[1;31m---------------------------------------------------------------------------\u001b[0m",
      "\u001b[1;31mKeyboardInterrupt\u001b[0m                         Traceback (most recent call last)",
      "Cell \u001b[1;32mIn[24], line 3\u001b[0m\n\u001b[0;32m      1\u001b[0m \u001b[38;5;28;01mfrom\u001b[39;00m \u001b[38;5;21;01mchain\u001b[39;00m\u001b[38;5;21;01m.\u001b[39;00m\u001b[38;5;21;01mrag_chain\u001b[39;00m \u001b[38;5;28;01mimport\u001b[39;00m get_response\n\u001b[1;32m----> 3\u001b[0m response \u001b[38;5;241m=\u001b[39m \u001b[43mget_response\u001b[49m\u001b[43m(\u001b[49m\n\u001b[0;32m      4\u001b[0m \u001b[43m    \u001b[49m\u001b[43mchain\u001b[49m\u001b[38;5;241;43m=\u001b[39;49m\u001b[43mchain_history\u001b[49m\u001b[43m,\u001b[49m\n\u001b[0;32m      5\u001b[0m \u001b[43m    \u001b[49m\u001b[43mquestion\u001b[49m\u001b[38;5;241;43m=\u001b[39;49m\u001b[38;5;124;43m\"\u001b[39;49m\u001b[38;5;124;43mBErapa SWDKLLJ dari buldozer?\u001b[39;49m\u001b[38;5;124;43m\"\u001b[39;49m\u001b[43m,\u001b[49m\n\u001b[0;32m      6\u001b[0m \u001b[43m    \u001b[49m\u001b[43muser_id\u001b[49m\u001b[38;5;241;43m=\u001b[39;49m\u001b[43mUSER_ID\u001b[49m\u001b[43m,\u001b[49m\n\u001b[0;32m      7\u001b[0m \u001b[43m    \u001b[49m\u001b[43mconversation_id\u001b[49m\u001b[38;5;241;43m=\u001b[39;49m\u001b[43mCONVERSATION_ID\u001b[49m\n\u001b[0;32m      8\u001b[0m \u001b[43m)\u001b[49m\n\u001b[0;32m     10\u001b[0m response\n",
      "File \u001b[1;32md:\\Coding\\git-repo\\github\\ocbc_chatbot\\ocbc_compliance_gpt\\chain\\rag_chain.py:76\u001b[0m, in \u001b[0;36mget_response\u001b[1;34m(question, chain, user_id, conversation_id)\u001b[0m\n\u001b[0;32m     75\u001b[0m \u001b[38;5;28;01mdef\u001b[39;00m \u001b[38;5;21mget_response\u001b[39m(question: \u001b[38;5;28mstr\u001b[39m, chain, user_id: \u001b[38;5;28mstr\u001b[39m, conversation_id: \u001b[38;5;28mstr\u001b[39m):\n\u001b[1;32m---> 76\u001b[0m     response \u001b[38;5;241m=\u001b[39m \u001b[43mchain\u001b[49m\u001b[38;5;241;43m.\u001b[39;49m\u001b[43minvoke\u001b[49m\u001b[43m(\u001b[49m\n\u001b[0;32m     77\u001b[0m \u001b[43m        \u001b[49m\u001b[43m{\u001b[49m\u001b[38;5;124;43m\"\u001b[39;49m\u001b[38;5;124;43mquestion\u001b[39;49m\u001b[38;5;124;43m\"\u001b[39;49m\u001b[43m:\u001b[49m\u001b[43m \u001b[49m\u001b[43mquestion\u001b[49m\u001b[43m}\u001b[49m\u001b[43m,\u001b[49m\n\u001b[0;32m     78\u001b[0m \u001b[43m        \u001b[49m\u001b[43mconfig\u001b[49m\u001b[38;5;241;43m=\u001b[39;49m\u001b[43m{\u001b[49m\n\u001b[0;32m     79\u001b[0m \u001b[43m            \u001b[49m\u001b[38;5;124;43m\"\u001b[39;49m\u001b[38;5;124;43mconfigurable\u001b[39;49m\u001b[38;5;124;43m\"\u001b[39;49m\u001b[43m:\u001b[49m\u001b[43m \u001b[49m\u001b[43m{\u001b[49m\u001b[38;5;124;43m\"\u001b[39;49m\u001b[38;5;124;43muser_id\u001b[39;49m\u001b[38;5;124;43m\"\u001b[39;49m\u001b[43m:\u001b[49m\u001b[43m \u001b[49m\u001b[43muser_id\u001b[49m\u001b[43m,\u001b[49m\u001b[43m \u001b[49m\u001b[38;5;124;43m\"\u001b[39;49m\u001b[38;5;124;43mconversation_id\u001b[39;49m\u001b[38;5;124;43m\"\u001b[39;49m\u001b[43m:\u001b[49m\u001b[43m \u001b[49m\u001b[43mconversation_id\u001b[49m\u001b[43m}\u001b[49m\n\u001b[0;32m     80\u001b[0m \u001b[43m        \u001b[49m\u001b[43m}\u001b[49m\u001b[43m,\u001b[49m\n\u001b[0;32m     81\u001b[0m \u001b[43m    \u001b[49m\u001b[43m)\u001b[49m\n\u001b[0;32m     82\u001b[0m     \u001b[38;5;28;01mreturn\u001b[39;00m response\n",
      "File \u001b[1;32mc:\\Users\\acer\\miniconda3\\envs\\chatbot-ocbc\\lib\\site-packages\\langchain_core\\runnables\\base.py:5055\u001b[0m, in \u001b[0;36mRunnableBindingBase.invoke\u001b[1;34m(self, input, config, **kwargs)\u001b[0m\n\u001b[0;32m   5049\u001b[0m \u001b[38;5;28;01mdef\u001b[39;00m \u001b[38;5;21minvoke\u001b[39m(\n\u001b[0;32m   5050\u001b[0m     \u001b[38;5;28mself\u001b[39m,\n\u001b[0;32m   5051\u001b[0m     \u001b[38;5;28minput\u001b[39m: Input,\n\u001b[0;32m   5052\u001b[0m     config: Optional[RunnableConfig] \u001b[38;5;241m=\u001b[39m \u001b[38;5;28;01mNone\u001b[39;00m,\n\u001b[0;32m   5053\u001b[0m     \u001b[38;5;241m*\u001b[39m\u001b[38;5;241m*\u001b[39mkwargs: Optional[Any],\n\u001b[0;32m   5054\u001b[0m ) \u001b[38;5;241m-\u001b[39m\u001b[38;5;241m>\u001b[39m Output:\n\u001b[1;32m-> 5055\u001b[0m     \u001b[38;5;28;01mreturn\u001b[39;00m \u001b[38;5;28mself\u001b[39m\u001b[38;5;241m.\u001b[39mbound\u001b[38;5;241m.\u001b[39minvoke(\n\u001b[0;32m   5056\u001b[0m         \u001b[38;5;28minput\u001b[39m,\n\u001b[0;32m   5057\u001b[0m         \u001b[38;5;28mself\u001b[39m\u001b[38;5;241m.\u001b[39m_merge_configs(config),\n\u001b[0;32m   5058\u001b[0m         \u001b[38;5;241m*\u001b[39m\u001b[38;5;241m*\u001b[39m{\u001b[38;5;241m*\u001b[39m\u001b[38;5;241m*\u001b[39m\u001b[38;5;28mself\u001b[39m\u001b[38;5;241m.\u001b[39mkwargs, \u001b[38;5;241m*\u001b[39m\u001b[38;5;241m*\u001b[39mkwargs},\n\u001b[0;32m   5059\u001b[0m     )\n",
      "File \u001b[1;32mc:\\Users\\acer\\miniconda3\\envs\\chatbot-ocbc\\lib\\site-packages\\langchain_core\\runnables\\base.py:5055\u001b[0m, in \u001b[0;36mRunnableBindingBase.invoke\u001b[1;34m(self, input, config, **kwargs)\u001b[0m\n\u001b[0;32m   5049\u001b[0m \u001b[38;5;28;01mdef\u001b[39;00m \u001b[38;5;21minvoke\u001b[39m(\n\u001b[0;32m   5050\u001b[0m     \u001b[38;5;28mself\u001b[39m,\n\u001b[0;32m   5051\u001b[0m     \u001b[38;5;28minput\u001b[39m: Input,\n\u001b[0;32m   5052\u001b[0m     config: Optional[RunnableConfig] \u001b[38;5;241m=\u001b[39m \u001b[38;5;28;01mNone\u001b[39;00m,\n\u001b[0;32m   5053\u001b[0m     \u001b[38;5;241m*\u001b[39m\u001b[38;5;241m*\u001b[39mkwargs: Optional[Any],\n\u001b[0;32m   5054\u001b[0m ) \u001b[38;5;241m-\u001b[39m\u001b[38;5;241m>\u001b[39m Output:\n\u001b[1;32m-> 5055\u001b[0m     \u001b[38;5;28;01mreturn\u001b[39;00m \u001b[38;5;28mself\u001b[39m\u001b[38;5;241m.\u001b[39mbound\u001b[38;5;241m.\u001b[39minvoke(\n\u001b[0;32m   5056\u001b[0m         \u001b[38;5;28minput\u001b[39m,\n\u001b[0;32m   5057\u001b[0m         \u001b[38;5;28mself\u001b[39m\u001b[38;5;241m.\u001b[39m_merge_configs(config),\n\u001b[0;32m   5058\u001b[0m         \u001b[38;5;241m*\u001b[39m\u001b[38;5;241m*\u001b[39m{\u001b[38;5;241m*\u001b[39m\u001b[38;5;241m*\u001b[39m\u001b[38;5;28mself\u001b[39m\u001b[38;5;241m.\u001b[39mkwargs, \u001b[38;5;241m*\u001b[39m\u001b[38;5;241m*\u001b[39mkwargs},\n\u001b[0;32m   5059\u001b[0m     )\n",
      "File \u001b[1;32mc:\\Users\\acer\\miniconda3\\envs\\chatbot-ocbc\\lib\\site-packages\\langchain_core\\runnables\\base.py:2873\u001b[0m, in \u001b[0;36mRunnableSequence.invoke\u001b[1;34m(self, input, config, **kwargs)\u001b[0m\n\u001b[0;32m   2871\u001b[0m             \u001b[38;5;28minput\u001b[39m \u001b[38;5;241m=\u001b[39m step\u001b[38;5;241m.\u001b[39minvoke(\u001b[38;5;28minput\u001b[39m, config, \u001b[38;5;241m*\u001b[39m\u001b[38;5;241m*\u001b[39mkwargs)\n\u001b[0;32m   2872\u001b[0m         \u001b[38;5;28;01melse\u001b[39;00m:\n\u001b[1;32m-> 2873\u001b[0m             \u001b[38;5;28minput\u001b[39m \u001b[38;5;241m=\u001b[39m \u001b[43mstep\u001b[49m\u001b[38;5;241;43m.\u001b[39;49m\u001b[43minvoke\u001b[49m\u001b[43m(\u001b[49m\u001b[38;5;28;43minput\u001b[39;49m\u001b[43m,\u001b[49m\u001b[43m \u001b[49m\u001b[43mconfig\u001b[49m\u001b[43m)\u001b[49m\n\u001b[0;32m   2874\u001b[0m \u001b[38;5;66;03m# finish the root run\u001b[39;00m\n\u001b[0;32m   2875\u001b[0m \u001b[38;5;28;01mexcept\u001b[39;00m \u001b[38;5;167;01mBaseException\u001b[39;00m \u001b[38;5;28;01mas\u001b[39;00m e:\n",
      "File \u001b[1;32mc:\\Users\\acer\\miniconda3\\envs\\chatbot-ocbc\\lib\\site-packages\\langchain_core\\runnables\\branch.py:239\u001b[0m, in \u001b[0;36mRunnableBranch.invoke\u001b[1;34m(self, input, config, **kwargs)\u001b[0m\n\u001b[0;32m    237\u001b[0m             \u001b[38;5;28;01mbreak\u001b[39;00m\n\u001b[0;32m    238\u001b[0m     \u001b[38;5;28;01melse\u001b[39;00m:\n\u001b[1;32m--> 239\u001b[0m         output \u001b[38;5;241m=\u001b[39m \u001b[38;5;28mself\u001b[39m\u001b[38;5;241m.\u001b[39mdefault\u001b[38;5;241m.\u001b[39minvoke(\n\u001b[0;32m    240\u001b[0m             \u001b[38;5;28minput\u001b[39m,\n\u001b[0;32m    241\u001b[0m             config\u001b[38;5;241m=\u001b[39mpatch_config(\n\u001b[0;32m    242\u001b[0m                 config, callbacks\u001b[38;5;241m=\u001b[39mrun_manager\u001b[38;5;241m.\u001b[39mget_child(tag\u001b[38;5;241m=\u001b[39m\u001b[38;5;124m\"\u001b[39m\u001b[38;5;124mbranch:default\u001b[39m\u001b[38;5;124m\"\u001b[39m)\n\u001b[0;32m    243\u001b[0m             ),\n\u001b[0;32m    244\u001b[0m             \u001b[38;5;241m*\u001b[39m\u001b[38;5;241m*\u001b[39mkwargs,\n\u001b[0;32m    245\u001b[0m         )\n\u001b[0;32m    246\u001b[0m \u001b[38;5;28;01mexcept\u001b[39;00m \u001b[38;5;167;01mBaseException\u001b[39;00m \u001b[38;5;28;01mas\u001b[39;00m e:\n\u001b[0;32m    247\u001b[0m     run_manager\u001b[38;5;241m.\u001b[39mon_chain_error(e)\n",
      "File \u001b[1;32mc:\\Users\\acer\\miniconda3\\envs\\chatbot-ocbc\\lib\\site-packages\\langchain_core\\runnables\\base.py:5055\u001b[0m, in \u001b[0;36mRunnableBindingBase.invoke\u001b[1;34m(self, input, config, **kwargs)\u001b[0m\n\u001b[0;32m   5049\u001b[0m \u001b[38;5;28;01mdef\u001b[39;00m \u001b[38;5;21minvoke\u001b[39m(\n\u001b[0;32m   5050\u001b[0m     \u001b[38;5;28mself\u001b[39m,\n\u001b[0;32m   5051\u001b[0m     \u001b[38;5;28minput\u001b[39m: Input,\n\u001b[0;32m   5052\u001b[0m     config: Optional[RunnableConfig] \u001b[38;5;241m=\u001b[39m \u001b[38;5;28;01mNone\u001b[39;00m,\n\u001b[0;32m   5053\u001b[0m     \u001b[38;5;241m*\u001b[39m\u001b[38;5;241m*\u001b[39mkwargs: Optional[Any],\n\u001b[0;32m   5054\u001b[0m ) \u001b[38;5;241m-\u001b[39m\u001b[38;5;241m>\u001b[39m Output:\n\u001b[1;32m-> 5055\u001b[0m     \u001b[38;5;28;01mreturn\u001b[39;00m \u001b[38;5;28mself\u001b[39m\u001b[38;5;241m.\u001b[39mbound\u001b[38;5;241m.\u001b[39minvoke(\n\u001b[0;32m   5056\u001b[0m         \u001b[38;5;28minput\u001b[39m,\n\u001b[0;32m   5057\u001b[0m         \u001b[38;5;28mself\u001b[39m\u001b[38;5;241m.\u001b[39m_merge_configs(config),\n\u001b[0;32m   5058\u001b[0m         \u001b[38;5;241m*\u001b[39m\u001b[38;5;241m*\u001b[39m{\u001b[38;5;241m*\u001b[39m\u001b[38;5;241m*\u001b[39m\u001b[38;5;28mself\u001b[39m\u001b[38;5;241m.\u001b[39mkwargs, \u001b[38;5;241m*\u001b[39m\u001b[38;5;241m*\u001b[39mkwargs},\n\u001b[0;32m   5059\u001b[0m     )\n",
      "File \u001b[1;32mc:\\Users\\acer\\miniconda3\\envs\\chatbot-ocbc\\lib\\site-packages\\langchain_core\\runnables\\base.py:2873\u001b[0m, in \u001b[0;36mRunnableSequence.invoke\u001b[1;34m(self, input, config, **kwargs)\u001b[0m\n\u001b[0;32m   2871\u001b[0m             \u001b[38;5;28minput\u001b[39m \u001b[38;5;241m=\u001b[39m step\u001b[38;5;241m.\u001b[39minvoke(\u001b[38;5;28minput\u001b[39m, config, \u001b[38;5;241m*\u001b[39m\u001b[38;5;241m*\u001b[39mkwargs)\n\u001b[0;32m   2872\u001b[0m         \u001b[38;5;28;01melse\u001b[39;00m:\n\u001b[1;32m-> 2873\u001b[0m             \u001b[38;5;28minput\u001b[39m \u001b[38;5;241m=\u001b[39m \u001b[43mstep\u001b[49m\u001b[38;5;241;43m.\u001b[39;49m\u001b[43minvoke\u001b[49m\u001b[43m(\u001b[49m\u001b[38;5;28;43minput\u001b[39;49m\u001b[43m,\u001b[49m\u001b[43m \u001b[49m\u001b[43mconfig\u001b[49m\u001b[43m)\u001b[49m\n\u001b[0;32m   2874\u001b[0m \u001b[38;5;66;03m# finish the root run\u001b[39;00m\n\u001b[0;32m   2875\u001b[0m \u001b[38;5;28;01mexcept\u001b[39;00m \u001b[38;5;167;01mBaseException\u001b[39;00m \u001b[38;5;28;01mas\u001b[39;00m e:\n",
      "File \u001b[1;32mc:\\Users\\acer\\miniconda3\\envs\\chatbot-ocbc\\lib\\site-packages\\langchain_core\\runnables\\base.py:3560\u001b[0m, in \u001b[0;36mRunnableParallel.invoke\u001b[1;34m(self, input, config)\u001b[0m\n\u001b[0;32m   3547\u001b[0m     \u001b[38;5;28;01mwith\u001b[39;00m get_executor_for_config(config) \u001b[38;5;28;01mas\u001b[39;00m executor:\n\u001b[0;32m   3548\u001b[0m         futures \u001b[38;5;241m=\u001b[39m [\n\u001b[0;32m   3549\u001b[0m             executor\u001b[38;5;241m.\u001b[39msubmit(\n\u001b[0;32m   3550\u001b[0m                 step\u001b[38;5;241m.\u001b[39minvoke,\n\u001b[1;32m   (...)\u001b[0m\n\u001b[0;32m   3558\u001b[0m             \u001b[38;5;28;01mfor\u001b[39;00m key, step \u001b[38;5;129;01min\u001b[39;00m steps\u001b[38;5;241m.\u001b[39mitems()\n\u001b[0;32m   3559\u001b[0m         ]\n\u001b[1;32m-> 3560\u001b[0m         output \u001b[38;5;241m=\u001b[39m {key: future\u001b[38;5;241m.\u001b[39mresult() \u001b[38;5;28;01mfor\u001b[39;00m key, future \u001b[38;5;129;01min\u001b[39;00m \u001b[38;5;28mzip\u001b[39m(steps, futures)}\n\u001b[0;32m   3561\u001b[0m \u001b[38;5;66;03m# finish the root run\u001b[39;00m\n\u001b[0;32m   3562\u001b[0m \u001b[38;5;28;01mexcept\u001b[39;00m \u001b[38;5;167;01mBaseException\u001b[39;00m \u001b[38;5;28;01mas\u001b[39;00m e:\n",
      "File \u001b[1;32mc:\\Users\\acer\\miniconda3\\envs\\chatbot-ocbc\\lib\\site-packages\\langchain_core\\runnables\\base.py:3560\u001b[0m, in \u001b[0;36m<dictcomp>\u001b[1;34m(.0)\u001b[0m\n\u001b[0;32m   3547\u001b[0m     \u001b[38;5;28;01mwith\u001b[39;00m get_executor_for_config(config) \u001b[38;5;28;01mas\u001b[39;00m executor:\n\u001b[0;32m   3548\u001b[0m         futures \u001b[38;5;241m=\u001b[39m [\n\u001b[0;32m   3549\u001b[0m             executor\u001b[38;5;241m.\u001b[39msubmit(\n\u001b[0;32m   3550\u001b[0m                 step\u001b[38;5;241m.\u001b[39minvoke,\n\u001b[1;32m   (...)\u001b[0m\n\u001b[0;32m   3558\u001b[0m             \u001b[38;5;28;01mfor\u001b[39;00m key, step \u001b[38;5;129;01min\u001b[39;00m steps\u001b[38;5;241m.\u001b[39mitems()\n\u001b[0;32m   3559\u001b[0m         ]\n\u001b[1;32m-> 3560\u001b[0m         output \u001b[38;5;241m=\u001b[39m {key: \u001b[43mfuture\u001b[49m\u001b[38;5;241;43m.\u001b[39;49m\u001b[43mresult\u001b[49m\u001b[43m(\u001b[49m\u001b[43m)\u001b[49m \u001b[38;5;28;01mfor\u001b[39;00m key, future \u001b[38;5;129;01min\u001b[39;00m \u001b[38;5;28mzip\u001b[39m(steps, futures)}\n\u001b[0;32m   3561\u001b[0m \u001b[38;5;66;03m# finish the root run\u001b[39;00m\n\u001b[0;32m   3562\u001b[0m \u001b[38;5;28;01mexcept\u001b[39;00m \u001b[38;5;167;01mBaseException\u001b[39;00m \u001b[38;5;28;01mas\u001b[39;00m e:\n",
      "File \u001b[1;32mc:\\Users\\acer\\miniconda3\\envs\\chatbot-ocbc\\lib\\concurrent\\futures\\_base.py:441\u001b[0m, in \u001b[0;36mFuture.result\u001b[1;34m(self, timeout)\u001b[0m\n\u001b[0;32m    438\u001b[0m \u001b[38;5;28;01melif\u001b[39;00m \u001b[38;5;28mself\u001b[39m\u001b[38;5;241m.\u001b[39m_state \u001b[38;5;241m==\u001b[39m FINISHED:\n\u001b[0;32m    439\u001b[0m     \u001b[38;5;28;01mreturn\u001b[39;00m \u001b[38;5;28mself\u001b[39m\u001b[38;5;241m.\u001b[39m__get_result()\n\u001b[1;32m--> 441\u001b[0m \u001b[38;5;28;43mself\u001b[39;49m\u001b[38;5;241;43m.\u001b[39;49m\u001b[43m_condition\u001b[49m\u001b[38;5;241;43m.\u001b[39;49m\u001b[43mwait\u001b[49m\u001b[43m(\u001b[49m\u001b[43mtimeout\u001b[49m\u001b[43m)\u001b[49m\n\u001b[0;32m    443\u001b[0m \u001b[38;5;28;01mif\u001b[39;00m \u001b[38;5;28mself\u001b[39m\u001b[38;5;241m.\u001b[39m_state \u001b[38;5;129;01min\u001b[39;00m [CANCELLED, CANCELLED_AND_NOTIFIED]:\n\u001b[0;32m    444\u001b[0m     \u001b[38;5;28;01mraise\u001b[39;00m CancelledError()\n",
      "File \u001b[1;32mc:\\Users\\acer\\miniconda3\\envs\\chatbot-ocbc\\lib\\threading.py:312\u001b[0m, in \u001b[0;36mCondition.wait\u001b[1;34m(self, timeout)\u001b[0m\n\u001b[0;32m    310\u001b[0m \u001b[38;5;28;01mtry\u001b[39;00m:    \u001b[38;5;66;03m# restore state no matter what (e.g., KeyboardInterrupt)\u001b[39;00m\n\u001b[0;32m    311\u001b[0m     \u001b[38;5;28;01mif\u001b[39;00m timeout \u001b[38;5;129;01mis\u001b[39;00m \u001b[38;5;28;01mNone\u001b[39;00m:\n\u001b[1;32m--> 312\u001b[0m         \u001b[43mwaiter\u001b[49m\u001b[38;5;241;43m.\u001b[39;49m\u001b[43macquire\u001b[49m\u001b[43m(\u001b[49m\u001b[43m)\u001b[49m\n\u001b[0;32m    313\u001b[0m         gotit \u001b[38;5;241m=\u001b[39m \u001b[38;5;28;01mTrue\u001b[39;00m\n\u001b[0;32m    314\u001b[0m     \u001b[38;5;28;01melse\u001b[39;00m:\n",
      "\u001b[1;31mKeyboardInterrupt\u001b[0m: "
     ]
    }
   ],
   "source": [
    "from chain.rag_chain import get_response\n",
    "\n",
    "response = get_response(\n",
    "    chain=chain_history,\n",
    "    question=\"BErapa SWDKLLJ dari buldozer?\",\n",
    "    user_id=USER_ID,\n",
    "    conversation_id=CONVERSATION_ID\n",
    ")\n",
    "\n",
    "response"
   ]
  },
  {
   "cell_type": "code",
   "execution_count": 19,
   "metadata": {},
   "outputs": [
    {
     "name": "stdout",
     "output_type": "stream",
     "text": [
      "SWDKLLJ untuk sedan tidak ditemukan dalam konteks dan informasi metadata yang diberikan.\n"
     ]
    }
   ],
   "source": [
    "print(response['answer'])"
   ]
  },
  {
   "cell_type": "code",
   "execution_count": 16,
   "metadata": {},
   "outputs": [
    {
     "name": "stdout",
     "output_type": "stream",
     "text": [
      "[\n",
      "  {\n",
      "    \"metadata\": {\n",
      "      \"id\": \"doc:ojk:0d063bb180c64673a070b97e6d024c25\",\n",
      "      \"title\": \"Peraturan Menteri Keuangan Nomor 36/PMK.010/2008 tentang Besar Santunan dan Sumbangan Wajib Dana Kecelakaan Lalu Lintas Jalan\",\n",
      "      \"sector\": \"IKNB\",\n",
      "      \"subsector\": \"Asuransi\",\n",
      "      \"regulation_type\": \"Klasifikasi Bapepam\",\n",
      "      \"regulation_number\": \"36/PMK.010/2008\",\n",
      "      \"effective_date\": \"26 Februari 2008\",\n",
      "      \"file_url\": \"https://www.ojk.go.id/id/regulasi/Documents/Pages/PMK-Nomor-36PMK.010-Tahun-2008-tentang-Besar-Santunan-dan-Sumbangan-Wajib-Dana-Kecelakaan-Lalu-Lintas-Jalan/menas13_1389258036.pdf\",\n",
      "      \"doc_id\": \"1718\",\n",
      "      \"page_number\": \"3\",\n",
      "      \"relevance_score\": 0.2600135\n",
      "    },\n",
      "    \"page_content\": \"MENTERI KEUANGAN\\nREPUBLIK INDONESIA\\nmemperoleh santunan sebesar Rp 25.000.000,00 (dua puluh lima\\njuta rupiah).\\nb. Korban yang mengalami cacat tetap berhak memperoleh\\nsantunan yang besarnya dihitung berdasarkan angka prosentase\\n Korban yang memerlukan perawatan dan pengobatan berhak\\nrupiah).\\nPasal 3\\nDalam hal korban meninggal dunia akibat kecelakaan alat angkutan\\nlalu lintas jalan tidak mempunyai ahli waris, kepada pihak yang\\nmenyelenggarakan\\ndiberikan\\npenggantian\\nbiaya\\nPasal 4\\n(2) Besar SWDKLLJ sebagaimana dimaksud pada ayat (1) ditentukan\\nsebagai berikut:\\nSepeda motor di bawah 50 cc, mobil ambulance, mobil jenazah\\na.\\ndan mobil pemadam kebakaran dibebaskan dari kewajiban\\nmembayar SWDKLLJ.\\nb. Traktor, buidozer, forklift, mobil derek, excavator, crane dan\\nsejenisnya sebesar Rp 20.000,00 (dua puluh ribu rupiah):\\n Sepeda motor, sepeda kumbang dan scooter di atas 50 cc sampai\\n250 cc dan kendaraan bermotor roda tiga sebesar Rp 32.000,00\\n(tiga puluh dua ribu rupiah).\\nd.\"\n",
      "  },\n",
      "  {\n",
      "    \"metadata\": {\n",
      "      \"id\": \"doc:ojk:352a66c54a17471f86dd2a27fdd6fb1f\",\n",
      "      \"title\": \"Buku Panduan Akuntansi Perbankan Bagi Bank Umum Konvensional\",\n",
      "      \"sector\": \"Perbankan\",\n",
      "      \"subsector\": \"Bank Umum\",\n",
      "      \"regulation_type\": \"Surat Edaran OJK\",\n",
      "      \"regulation_number\": \"34/SEOJK.03/2021\",\n",
      "      \"effective_date\": \"31 Desember 2021\",\n",
      "      \"file_url\": \"https://www.ojk.go.id/id/regulasi/Documents/Pages/Buku-Panduan-Akuntansi-Perbankan-Bagi-Bank-Umum-Konvensional-/SEOJK%2034%20-%2003%20-%202021.pdf\",\n",
      "      \"doc_id\": \"325\",\n",
      "      \"page_number\": \"660\",\n",
      "      \"relevance_score\": 0.00039357558\n",
      "    },\n",
      "    \"page_content\": \"Rp16.150.000.000 \\n2022 \\nRp17.340.000.000 \\nRp1.020.000.000 \\nRp16.320.000.000 \\n \\nb. \\nKendaraan \\na) \\nJurnal penyesuaian tahun 2021 \\nPerhitungan akumulasi depresiasi dilakukan dengan metode \\njumlah neto (net-amount method). \\n(1)  \\nPada penyesuaian nilai buku, dicatat dalam jurnal: \\nDb. \\n \\nKr. \\nAkumulasi depresiasi aset tetap \\u2013 \\nKendaraan \\nAset tetap \\u2013 Kendaraan  \\nRp200.000.000 \\nRp200.000.000 \\n(2)  \\nPada saat revaluasi, dicatat dalam jurnal: \\nDb. \\nKr. \\nAset tetap \\u2013 Kendaraan \\nPenghasilan komprehensif lain - \\nSurplus revaluasi \\u2013 selisih nilai \\nwajar \\nCara Perhitungan \\n(a) Nilai buku kendaraan thn 2020 \\n=Rp1.000.000.000 \\n\\u2013 \\nRp200.000.000 \\n= \\nRp800.000.000. \\n(b)  \\nNilai \\nrevaluasi \\nkendaraan \\ntahun 2021 = Rp860.000.000. \\n(c)  \\nSurplus \\nrevaluasi \\n= \\nRp860.000.000 \\u2013 Rp800.000.000 \\n= Rp60.000.000. \\nRp60.000.000  \\nRp60.000.000 \\n(3)  \\nDepresiasi tahun 2021, dicatat dalam jurnal: \\nDb. \\n \\nKr. \\nBeban \\ndepresiasi \\naset \\ntetap \\n\\u2013 \\nKendaraan \\nAkumulasi depresiasi aset tetap \\u2013 \\nKendaraan\"\n",
      "  },\n",
      "  {\n",
      "    \"metadata\": {\n",
      "      \"id\": \"doc:ojk:2a1df080f2af41ccb6306a7c5b5eea3a\",\n",
      "      \"title\": \"Peraturan Bank Indonesia tentang Giro Wajib Minimum Bank Umum pada Bank Indonesia dalam Rupiah dan Valuta Asing\",\n",
      "      \"sector\": \"Perbankan\",\n",
      "      \"subsector\": \"Bank Umum\",\n",
      "      \"regulation_type\": \"PPBI\",\n",
      "      \"regulation_number\": \"12/19/PBI/2010\",\n",
      "      \"effective_date\": \"4 Oktober 2010\",\n",
      "      \"file_url\": \"https://www.ojk.go.id/id/regulasi/Documents/Pages/PBI-tentang-Giro-Wajib-Minimum-Bank-Umum-pada-Bank-Indonesia-dalam-Rupiah-dan-Valuta-Asing/107.pdf\",\n",
      "      \"doc_id\": \"1630\",\n",
      "      \"page_number\": \"47\",\n",
      "      \"relevance_score\": 9.838119e-05\n",
      "    },\n",
      "    \"page_content\": \"sejak tanggal 24 sampai dengan tanggal akhir bulan November adalah \\nsebesar: \\na. \\nGWM Primer dalam rupiah sebesar  8% (delapan persen) dari \\nDPK dalam rupiah, yaitu sebesar Rp4.400.000.000.000,00 \\n(empat triliun  empat ratus miliar rupiah); \\n \\n \\n \\nb.  GWM  . . .\"\n",
      "  },\n",
      "  {\n",
      "    \"metadata\": {\n",
      "      \"id\": \"doc:ojk:03daa818015d43deb54435423d25674b\",\n",
      "      \"title\": \"Peraturan Bank Indonesia tentang Kualitas Bank Umum yang Melaksanakan Kegiatan Usaha Berdasarkan Prinsip Syariah\",\n",
      "      \"sector\": \"Perbankan,  Syariah\",\n",
      "      \"subsector\": \"Bank Umum,  Perbankan Syariah\",\n",
      "      \"regulation_type\": \"PPBI\",\n",
      "      \"regulation_number\": \"8/21/PBI/2006\",\n",
      "      \"effective_date\": \"5 Oktober 2006\",\n",
      "      \"file_url\": \"https://www.ojk.go.id/id/regulasi/Documents/Pages/PBI-tentang-Kualitas-Bank-Umum-yang-Melaksanakan-Kegiatan-Usaha-Berdasarkan-Prinsip-Syariah/227.pdf\",\n",
      "      \"doc_id\": \"1764\",\n",
      "      \"page_number\": \"30\",\n",
      "      \"relevance_score\": 9.170197e-05\n",
      "    },\n",
      "    \"page_content\": \"kendaraan bermotor dan persediaan paling tinggi sebesar: \\n1) 70% (tujuh puluh perseratus) dari penilaian, untuk penilaian yang dilakukan \\nsebelum melampaui 12 (dua belas) bulan; \\n2) 50% (lima puluh perseratus) dari penilaian, untuk penilaian yang dilakukan \\nsetelah 12 (dua belas) bulan tetapi belum melampaui 18 (delapan belas) \\nbulan; \\n3) 30% (tiga puluh perseratus) dari penilaian, untuk penilaian yang dilakukan \\nsetelah melampaui 18 (delapan belas) bulan tetapi belum melampaui 30 \\n(tiga puluh) bulan; \\n4) 0% (nol perseratus) dari penilaian, untuk penilaian yang dilakukan setelah \\nmelampaui 30 (tiga puluh) bulan. \\n \\nPasal 43 \\nPenilaian terhadap agunan sebagaimana dimaksud dalam Pasal 42 wajib dilakukan \\ndengan cara: \\na. Untuk Surat Berharga Syariah dinilai dengan menggunakan Nilai Pasar yang \\ntercatat dipasar modal pada akhir bulan; \\nb. Untuk tanah dan rumah tinggal dinilai berdasarkan Nilai Pasar Wajar; \\nc. Untuk gedung, pesawat udara, kapal laut, kendaraan dan persediaan dinilai\"\n",
      "  },\n",
      "  {\n",
      "    \"metadata\": {\n",
      "      \"id\": \"doc:ojk:e710f845b6574fb48eab5c12f61d9664\",\n",
      "      \"title\": \"SEOJK tentang Pelaporan Data Risiko Asuransi\",\n",
      "      \"sector\": \"IKNB\",\n",
      "      \"subsector\": \"Asuransi\",\n",
      "      \"regulation_type\": \"Surat Edaran OJK\",\n",
      "      \"regulation_number\": \"28/SEOJK.05/2015\",\n",
      "      \"effective_date\": \"28 September 2015\",\n",
      "      \"file_url\": \"https://www.ojk.go.id/id/regulasi/Documents/Pages/SEOJK-tentang-Pelaporan-Data-Risiko-Asuransi/seojk%2028-2015.pdf\",\n",
      "      \"doc_id\": \"1339\",\n",
      "      \"page_number\": \"28\",\n",
      "      \"relevance_score\": 1.0370214e-05\n",
      "    },\n",
      "    \"page_content\": \"30 \\n31 \\nProvinsi Jambi \\n31 \\n32 \\nProvinsi Bengkulu \\n32 \\n33 \\nProvinsi Sumatera Selatan \\n33 \\n34 \\nProvinsi Lampung \\n34 \\n35 \\nProvinsi Kalimantan Utara \\n35 \\n36 \\nLain-lain  \\n99 \\n \\n10. \\nTahun Kendaraan  \\nTahun Kendaraan adalah tahun pembuatan kendaraan yang tercatat \\ndalam Surat Tanda Nomor Kendaraan (STNK), dengan format sebanyak 4 \\n(empat) digit. \\n11. \\nHarga Pertanggungan \\nHarga Pertanggungan adalah harga kendaraan saat baru atau taksiran \\nharga kendaraan apabila dibeli pada saat pertanggungan dimulai dengan \\nkondisi yang sama. Khusus untuk polis asuransi kendaraan bermotor\"\n",
      "  },\n",
      "  {\n",
      "    \"metadata\": {\n",
      "      \"id\": \"doc:ojk:9d14562866c1402ba9a2650fd207f0d7\",\n",
      "      \"title\": \"Bentuk dan Susunan Laporan Berkala Perusahaan Asuransi dan Perusahaan Reasuransi\",\n",
      "      \"sector\": \"IKNB\",\n",
      "      \"subsector\": \"Asuransi\",\n",
      "      \"regulation_type\": \"Surat Edaran OJK\",\n",
      "      \"regulation_number\": \"1/SEOJK.05/2018\",\n",
      "      \"effective_date\": \"24 Januari 2018\",\n",
      "      \"file_url\": \"https://www.ojk.go.id/id/regulasi/Documents/Pages/Bentuk-dan-Susunan-Laporan-Berkala-Perusahaan-Asuransi-dan-Perusahaan-Reasuransi/SEOJK%201-2018.pdf\",\n",
      "      \"doc_id\": \"843\",\n",
      "      \"page_number\": \"99\",\n",
      "      \"relevance_score\": 1.2580612e-06\n",
      "    },\n",
      "    \"page_content\": \"(SBN/SBI)\\nJangka \\nWaktu (hari)\\nKategori \\n(KSEI/BIS4)\\nNilai Pasar \\nJaminan Saat \\nPenempatan\\nSaldo Saat \\nPenempatan\\nSaldo SAK\\nSelisih \\nPenilaian SAK \\ndan SAP\\nAYD\\nSaldo SAK \\nLancar \\n(Kurang dari \\nsatu Tahun)\\nKeterangan\\nPERUSAHAAN ASURANSI UMUM DAN REASURANSI\\nREPO\\nRINCIAN 113\\nPer  Triwulan I Tahun 1900 \\n-40-\"\n",
      "  }\n",
      "]\n"
     ]
    }
   ],
   "source": [
    "print(response[\"context\"])"
   ]
  },
  {
   "cell_type": "markdown",
   "metadata": {},
   "source": [
    "#### **Streaming**"
   ]
  },
  {
   "cell_type": "code",
   "execution_count": 19,
   "metadata": {},
   "outputs": [
    {
     "name": "stdout",
     "output_type": "stream",
     "text": [
      "Saya minta maaf, tetapi pertanyaan yang Anda ajukan tidak terkait dengan konteks dan informasi metadata yang diberikan. Silakan ajukan pertanyaan lain yang terkait dengan kepatuhan perbankan di Indonesia."
     ]
    }
   ],
   "source": [
    "from chain.rag_chain import print_answer_stream\n",
    "\n",
    "print_answer_stream(chain=chain_history, question=\"Siapa itu lionel messi?\", user_id=USER_ID, conversation_id=CONVERSATION_ID)"
   ]
  },
  {
   "cell_type": "markdown",
   "metadata": {},
   "source": [
    "#### **Chat Store Monitor**"
   ]
  },
  {
   "cell_type": "code",
   "execution_count": 44,
   "metadata": {},
   "outputs": [
    {
     "name": "stdout",
     "output_type": "stream",
     "text": [
      "Human: Apa judul peraturan dengan nomor regulasi 3/SEOJK.03/2021?\n",
      "AI: Pelaporan dan Permintaan Informasi Debitur Melalui Sistem Layanan Informasi Keuangan (SEOJK SLIK) \n",
      "\n",
      "Sumber: [3/SEOJK.03/2021](https://www.ojk.go.id/id/regulasi/Documents/Pages/Pelaporan-dan-Permintaan-Informasi-Debitur-Melalui-Sistem-Layanan-Informasi-Keuangan--/SEOJK%20SLIK%2003-03-2021.pdf)\n",
      "Human: Apa judul peraturan dengan nomor regulasi 5 /SEOJK.05/2019?\n",
      "AI: Bentuk, Susunan, dan Tata Cara Penyampaian Laporan Berkala bagi Pelaku Usaha Pergadaian dan Perusahaan Pergadaian\n",
      "\n",
      "Source: [5/SEOJK.05/2019](https://www.ojk.go.id/id/regulasi/Documents/Pages/Bentuk,-Susunan,-dan-Tata-Cara-Penyampaian-Laporan-Berkala-bagi-Pelaku-Usaha-Pergadaian-dan-Perusahaan-Pergadaian/seojk%205-2019.pdf)\n",
      "Human: Berikan Petunjuk Pengisian Format Laporan Profil Perusahaan Pergadaian Swasta Syariah?\n",
      "AI: Format laporan profil perusahaan pergadaian swasta syariah diisi dengan informasi yang belum dimuat dan/atau tidak sama dengan laporan perusahaan pergadaian swasta (laporan induk) seperti informasi mengenai jumlah unit layanan (outlet), Dewan Pengawas Syariah, contact person, dan sumber daya manusia.\n",
      "\n",
      "Source: Surat Edaran OJK 5/SEOJK.05/2019\n",
      "URL: https://www.ojk.go.id/id/regulasi/Documents/Pages/Bentuk,-Susunan,-dan-Tata-Cara-Penyampaian-Laporan-Berkala-bagi-Pelaku-Usaha-Pergadaian-dan-Perusahaan-Pergadaian/seojk%205-2019.pdf\n",
      "Human: Berikan format lengkapnya?\n",
      "AI: Format lengkapnya adalah sebagai berikut:\n",
      "\n",
      "Format 1: Surat Permohonan Pendaftaran\n",
      "Format 2: Formulir Permohonan Pendaftaran\n",
      "Format 3: Daftar Riwayat Hidup\n",
      "Format 4: Surat Pernyataan Bermeterai yang Menyatakan Tidak Pernah Melakukan Perbuatan Tercela dan/atau Dihukum karena Terbukti Melakukan Tindak Pidana di Bidang Keuangan Serta Tidak Memiliki Kredit Macet\n",
      "\n",
      "Sumber: [29/SEOJK.05/2016](https://www.ojk.go.id/id/regulasi/Documents/Pages/SEOJK-tentang-Bentuk-dan-Tata-Cara-Permohonan.Penyampaian-Laporan.dan-Program-Pendidikan-Berkelanjutan/seojk%2029-2016.pdf)\n"
     ]
    }
   ],
   "source": [
    "# to print chat history\n",
    "print(chat_store.get_session_history(user_id=USER_ID, conversation_id=CONVERSATION_ID))"
   ]
  },
  {
   "cell_type": "code",
   "execution_count": 31,
   "metadata": {},
   "outputs": [],
   "source": [
    "# to make the chat history empty\n",
    "chat_store.clear_all()"
   ]
  }
 ],
 "metadata": {
  "kernelspec": {
   "display_name": "chatbot-all",
   "language": "python",
   "name": "python3"
  },
  "language_info": {
   "codemirror_mode": {
    "name": "ipython",
    "version": 3
   },
   "file_extension": ".py",
   "mimetype": "text/x-python",
   "name": "python",
   "nbconvert_exporter": "python",
   "pygments_lexer": "ipython3",
   "version": "3.9.19"
  }
 },
 "nbformat": 4,
 "nbformat_minor": 2
}

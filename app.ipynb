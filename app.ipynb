{
 "cells": [
  {
   "cell_type": "markdown",
   "metadata": {},
   "source": [
    "# **Compliance GPT with LangChain**"
   ]
  },
  {
   "cell_type": "markdown",
   "metadata": {},
   "source": [
    "## **Setup**"
   ]
  },
  {
   "cell_type": "code",
   "execution_count": 1,
   "metadata": {},
   "outputs": [
    {
     "data": {
      "text/plain": [
       "True"
      ]
     },
     "execution_count": 1,
     "metadata": {},
     "output_type": "execute_result"
    }
   ],
   "source": [
    "import nest_asyncio\n",
    "nest_asyncio.apply()\n",
    "\n",
    "from dotenv import load_dotenv\n",
    "load_dotenv()"
   ]
  },
  {
   "cell_type": "markdown",
   "metadata": {},
   "source": [
    "## **Config**"
   ]
  },
  {
   "cell_type": "code",
   "execution_count": 2,
   "metadata": {},
   "outputs": [],
   "source": [
    "from utils.config import get_config\n",
    "\n",
    "config = get_config()"
   ]
  },
  {
   "cell_type": "code",
   "execution_count": 3,
   "metadata": {},
   "outputs": [],
   "source": [
    "USER_ID = 'xmriz'\n",
    "CONVERSATION_ID = 'xmriz-2021-07-01-01'"
   ]
  },
  {
   "cell_type": "markdown",
   "metadata": {},
   "source": [
    "## **Define Model**"
   ]
  },
  {
   "cell_type": "code",
   "execution_count": 4,
   "metadata": {},
   "outputs": [],
   "source": [
    "from utils.models import ModelName, LLMModelName, EmbeddingModelName, get_model\n",
    "\n",
    "model_name = ModelName.AZURE_OPENAI\n",
    "llm_model, embed_model = get_model(model_name=model_name, config=config, llm_model_name=LLMModelName.GPT_35_TURBO, embedding_model_name=EmbeddingModelName.EMBEDDING_ADA)"
   ]
  },
  {
   "cell_type": "markdown",
   "metadata": {},
   "source": [
    "## **Load Vector Store Index**"
   ]
  },
  {
   "cell_type": "code",
   "execution_count": 5,
   "metadata": {},
   "outputs": [
    {
     "name": "stderr",
     "output_type": "stream",
     "text": [
      "c:\\Users\\acer\\miniconda3\\envs\\chatbot-ocbc\\lib\\site-packages\\pinecone\\data\\index.py:1: TqdmWarning: IProgress not found. Please update jupyter and ipywidgets. See https://ipywidgets.readthedocs.io/en/stable/user_install.html\n",
      "  from tqdm.autonotebook import tqdm\n"
     ]
    }
   ],
   "source": [
    "from databases.vector_store import RedisIndexManager, PineconeIndexManager\n",
    "\n",
    "# redis_ojk = RedisIndexManager(index_name='ojk', embed_model=embed_model, config=config, db_id=0)\n",
    "# vector_store_ojk = redis_ojk.load_vector_index()\n",
    "\n",
    "# redis_sikepo_ket = RedisIndexManager(index_name='sikepo-ketentuan-terkait', embed_model=embed_model, config=config, db_id=0)\n",
    "# vector_store_ket = redis_sikepo_ket.load_vector_index()\n",
    "\n",
    "# redis_sikepo_rek = RedisIndexManager(index_name='sikepo-rekam-jejak', embed_model=embed_model, config=config, db_id=0)\n",
    "# vector_store_rek = redis_sikepo_rek.load_vector_index()\n",
    "\n",
    "pinecone_ojk = PineconeIndexManager(index_name='ojk', embed_model=embed_model, config=config)\n",
    "vector_store_ojk = pinecone_ojk.load_vector_index()\n",
    "\n",
    "pinecone_ket = PineconeIndexManager(index_name='ketentuan-terkait', embed_model=embed_model, config=config)\n",
    "vector_store_ket = pinecone_ket.load_vector_index()\n",
    "\n",
    "pinecone_rek = PineconeIndexManager(index_name='rekam-jejak', embed_model=embed_model, config=config)\n",
    "vector_store_rek = pinecone_rek.load_vector_index()"
   ]
  },
  {
   "cell_type": "code",
   "execution_count": 6,
   "metadata": {},
   "outputs": [],
   "source": [
    "from databases.neo4j_graph_store import Neo4jGraphStore\n",
    "\n",
    "neo4j_sikepo = Neo4jGraphStore(config=config)\n",
    "graph = neo4j_sikepo.get_graph()"
   ]
  },
  {
   "cell_type": "markdown",
   "metadata": {},
   "source": [
    "## **Get Retriever**"
   ]
  },
  {
   "cell_type": "code",
   "execution_count": 7,
   "metadata": {},
   "outputs": [],
   "source": [
    "from retriever.retriever_ojk.retriever_ojk import get_retriever_ojk\n",
    "from retriever.retriever_sikepo.lotr_sikepo import lotr_sikepo\n",
    "\n",
    "retriever_ojk = get_retriever_ojk(vector_store=vector_store_ojk, top_n=5, top_k=16, llm_model=llm_model, embed_model=embed_model, config=config)\n",
    "retriever_sikepo_ket = lotr_sikepo(vector_store=vector_store_ket, llm_model=llm_model, embed_model=embed_model, config=config)\n",
    "retriever_sikepo_rek = lotr_sikepo(vector_store=vector_store_rek, llm_model=llm_model, embed_model=embed_model, config=config)"
   ]
  },
  {
   "cell_type": "markdown",
   "metadata": {},
   "source": [
    "## **Create Chain**"
   ]
  },
  {
   "cell_type": "code",
   "execution_count": 8,
   "metadata": {},
   "outputs": [],
   "source": [
    "from databases.chat_store import RedisChatStore, MongoDBChatStore\n",
    "\n",
    "# chat_store = RedisChatStore(k=4, config=config, db_id=1)\n",
    "chat_store = MongoDBChatStore(config=config, k=4)"
   ]
  },
  {
   "cell_type": "code",
   "execution_count": 9,
   "metadata": {},
   "outputs": [],
   "source": [
    "from chain.rag_chain import create_chain_with_chat_history, create_chain\n",
    "from retriever.retriever_sikepo.graph_cypher_retriever import graph_rag_chain\n",
    "\n",
    "\n",
    "graph_chain = graph_rag_chain(llm_model, llm_model, graph=graph)\n",
    "\n",
    "chain = create_chain(retriever_ojk, retriever_sikepo_rek, retriever_sikepo_ket, graph_chain, llm_model)\n",
    "\n",
    "chain_history = create_chain_with_chat_history(\n",
    "    final_chain=chain,\n",
    "    chat_store=chat_store,\n",
    ")"
   ]
  },
  {
   "cell_type": "markdown",
   "metadata": {},
   "source": [
    "## **Invoke**"
   ]
  },
  {
   "cell_type": "markdown",
   "metadata": {},
   "source": [
    "#### **Chat Store Monitor**"
   ]
  },
  {
   "cell_type": "code",
   "execution_count": 10,
   "metadata": {},
   "outputs": [
    {
     "name": "stdout",
     "output_type": "stream",
     "text": [
      "Human: Apa judul regulasi dengan nomor 66/POJK.04/2020?\n",
      "AI: Pedoman Kontrak Investasi Kolektif Pemupukan Dana Tabungan Perumahan Rakyat\n",
      "\n",
      "Source: [66/POJK.04/2020](https://www.ojk.go.id/id/regulasi/Documents/Pages/Pedoman-Kontrak-Investasi-Kolektif-Pemupukan--Dana-Tabungan-Perumahan-Rakyat/pojk%2066-2020.pdf)\n"
     ]
    }
   ],
   "source": [
    "# to print chat history\n",
    "print(chat_store.get_session_history(user_id=USER_ID, conversation_id=CONVERSATION_ID))"
   ]
  },
  {
   "cell_type": "code",
   "execution_count": 12,
   "metadata": {},
   "outputs": [],
   "source": [
    "# to make the chat history empty\n",
    "chat_store.clear_all()"
   ]
  },
  {
   "cell_type": "markdown",
   "metadata": {},
   "source": [
    "#### **With Question, Answer, and Context**"
   ]
  },
  {
   "cell_type": "code",
   "execution_count": 11,
   "metadata": {},
   "outputs": [
    {
     "name": "stderr",
     "output_type": "stream",
     "text": [
      "Error in RootListenersTracer.on_chain_end callback: ValueError()\n"
     ]
    },
    {
     "data": {
      "text/plain": [
       "{'question': 'Berapa SWDKLLJ dari buldozer?',\n",
       " 'answer': {'rewrited question': 'Berapa SWDKLLJ dari buldozer?',\n",
       "  'answer': 'Saya tidak tahu mengenai hal tersebut.',\n",
       "  'context': [Document(metadata={'Jenis Ketentuan': 'SEBI', 'Judul Ketentuan': 'Batas Maksimum Penyaluran Dana Bank Pembiayaan Rakyat Syariah', 'Ketentuan': 'Romawi III Sub 6', 'Kodifikasi Ketentuan': 'BPR Syariah', 'Nomor Ketentuan': '13/17/DPbS', 'Referensi': '-', 'Tanggal Ketentuan': '30 Mei 2011', 'relevance_score': 0.0002824081}, page_content='- Salam untuk pembelian beras jenis IR45 sebanyak 2 (dua) ton kepada nasabah D sebesar Rp50.000.000,00 (lima puluh juta rupiah), jangka waktu 6 (enam) bulan, tanggal akad 15 Maret 2011.\\n- Ijarah atas hak penggunaan kios yang diperoleh dari Tuan F dengan harga perolehan sewa sebesar Rp120.000.000,00 (seratus dua puluh juta rupiah) selama 2 (dua) tahun kepada nasabah E dan BPRS menetapkan pendapatan sewa (ujroh) sebesar Rp20.000.000,00 (dua puluh juta rupiah), jangka waktu 2 (dua) tahun, tanggal akad 22 Maret 2011.\\n- Musyarakah kepada BPRS “Y” sebesar Rp450.000.000,00 (empat ratus lima puluh juta rupiah), nisbah bagi hasil 20:80, jangka waktu 3 (tiga) tahun, tanggal akad 15 Maret 2011.'),\n",
       "   Document(metadata={'Jenis Ketentuan': 'POJK', 'Judul Ketentuan': 'Penilaian Kualitas Aset Bank Umum Syariah dan Unit Usaha Syariah', 'Ketentuan': 'Pasal 52 ', 'Kodifikasi Ketentuan': 'Bank Umum Syariah', 'Nomor Ketentuan': '2/POJK.03/2022', 'Referensi': '-', 'Tanggal Ketentuan': '07 Februari 2022', 'relevance_score': 0.00012533751}, page_content='c. tanah dan/atau bangunan bukan untuk tempat\\ntinggal, mesin yang dianggap sebagai satu\\nkesatuan dengan tanah, pesawat udara, kapal laut, kendaraan bermotor, persediaan, dan resi\\ngudang, paling tinggi:\\n1. 70% (tujuh puluh persen) dari penilaian\\napabila penilaian dilakukan dalam 12 (dua\\nbelas) bulan terakhir;\\n2. 50% (lima puluh persen) dari penilaian\\napabila penilaian yang dilakukan lebih dari 12\\n(dua belas) bulan sampai dengan 18 (delapan\\nbelas) bulan terakhir;\\n3. 30% (tiga puluh persen) dari penilaian apabila\\npenilaian yang dilakukan lebih dari 18\\n(delapan belas) bulan sampai dengan 24 (dua\\npuluh empat) bulan terakhir; atau\\n4. 0% (nol persen) dari penilaian apabila\\npenilaian yang dilakukan lebih dari 24 (dua\\npuluh empat) bulan terakhir.\\n(2) Dalam hal terdapat beberapa penilaian terhadap suatu\\nagunan untuk posisi yang sama baik yang dilakukan\\noleh penilai independen maupun penilai intern, Bank\\nwajib menggunakan nilai yang terendah.\\n(3) Berdasarkan pertimbangan tertentu, Otoritas Jasa'),\n",
       "   Document(metadata={'Jenis Ketentuan': 'SEBI', 'Judul Ketentuan': 'Insentif Dalam Rangka Konsolidasi Perbankan', 'Ketentuan': 'Huruf A Sub 3', 'Kodifikasi Ketentuan': 'Bank Umum Syariah', 'Nomor Ketentuan': '9/20/DPNP/2007', 'Referensi': '-', 'Tanggal Ketentuan': '24 September 2007', 'relevance_score': 1.9833367e-05}, page_content='g. Dalam hal Bank hasil Merger atau Konsolidasi belum dapat menyusun dan menyampaikan laporan gabungan kepada Bank Indonesia setelah tanggal berlakunya izin Merger atau Konsolidasi, maka perhitungan pemenuhan kewajiban GWM dan kelonggaran sementara sebesar 1% (satu perseratus) berdasarkan laporan dari masing-masing Bank peserta Merger atau Konsolidasi. Perhitungan DPK Bank hasil Merger atau Konsolidasi diperoleh dari penjumlahan rata-rata harian DPK masingmasing Bank peserta Merger atau Konsolidasi, sementara perhitungan LDR diperoleh dari rata-rata LDR masing-masing Bank peserta Merger atau Konsolidasi.\\nh. Contoh perhitungan mengenai kewajiban pemenuhan GWM dan kelonggaran sementara bagi Bank hasil Merger atau Konsolidasi dapat dilihat pada lampiran 1 Surat Edaran ini.'),\n",
       "   Document(metadata={'Jenis Ketentuan': 'SEOJK', 'Judul Ketentuan': 'Pemenuhan Ketentuan Bank Perkreditan Rakyat dan Transformasi Badan Kredit Desa yang Diberikan Status Sebagai Bank Perkreditan Rakyat', 'Ketentuan': 'Romawi IV Sub C', 'Kodifikasi Ketentuan': 'BPR Konvensional', 'Nomor Ketentuan': '19/SEOJK.03/2016', 'Referensi': '-', 'Tanggal Ketentuan': '10 Juni 2016', 'relevance_score': 6.439038e-06}, page_content='Nomor Ketentuan: 19/SEOJK.03/2016\\nKetentuan: Romawi IV Sub C\\nmemiliki Isi ketentuan sebagai berikut: C. Dalam rangka transformasi menjadi LKM sebagaimana dimaksud\\npada huruf A, BKD dapat melakukan peleburan yaitu proses peleburan 2 (dua) BKD atau lebih menjadi 1 (satu) LKM tanpa proses\\npemberesan. Tata cara untuk melakukan peleburan BKD menjadi LKM adalah sebagai berikut:\\n1. Kebijakan peleburan BKD menjadi LKM disepakati melalui musyawarah desa dan selanjutnya ditetapkan dalam Peraturan Desa.\\n2. Masing-masing Pelaksana Operasional BKD yang akan melakukan peleburan secara bersama-sama menyusun rancangan peleburan BKD yang memuat paling sedikit:\\na. nama dan tempat kedudukan BKD yang akan melakukan peleburan;\\nb. alasan dan penjelasan masing-masing Pelaksana Operasional BKD yang akan melakukan peleburan;\\nc. tata cara konversi kepemilikan dari masing-masing BKD yang akan melakukan peleburan;\\nd. rancangan anggaran dasar LKM hasil peleburan;'),\n",
       "   Document(metadata={'Jenis Ketentuan': 'POJK', 'Judul Ketentuan': 'Batas Maksimum Pemberian Kredit Bank Perkreditan Rakyat Dan Batas Maksimum Penyaluran Dana Bank Pembiayaan Rakyat Syariah', 'Ketentuan': 'Pasal 15 ', 'Kodifikasi Ketentuan': 'BPR Konvensional', 'Nomor Ketentuan': '23 Tahun 2022', 'Referensi': '-', 'Tanggal Ketentuan': '23 November 2022', 'relevance_score': 3.7558675e-06}, page_content='Ayat (3) Untuk Pelampauan BMPK atau BMPD yang disebabkan oleh penggabungan, peleburan, atau pengambilalihan, jangka waktu adalah 20 (dua puluh) hari kerja setelah akhir bulan laporan sejak disahkannya akta penggabungan, peleburan, atau pengambilalihan oleh instansi yang berwenang. Laporan BMPK atau BMPD merupakan bagian dari laporan bulanan BPR atau BPRS yang disampaikan melalui sistem pelaporan Otoritas Jasa Keuangan. Contoh: Akta penggabungan, peleburan, atau pengambilalihan BPR X disahkan oleh instansi yang berwenang pada tanggal 5 Agustus 2023. BPR X yang diwajibkan menyampaikan rencana tindak Pelampauan BMPK kepada Otoritas Jasa Keuangan paling lama 20 (dua puluh) hari kerja setelah tanggal 31 Agustus 2023, yaitu pada tanggal 28 September 2023. \\nAyat (4) Cukup jelas.')]},\n",
       " 'is_answered': 'NO',\n",
       " 'chat_history': [HumanMessage(content='Apa judul regulasi dengan nomor 66/POJK.04/2020?'),\n",
       "  AIMessage(content='Pedoman Kontrak Investasi Kolektif Pemupukan Dana Tabungan Perumahan Rakyat\\n\\nSource: [66/POJK.04/2020](https://www.ojk.go.id/id/regulasi/Documents/Pages/Pedoman-Kontrak-Investasi-Kolektif-Pemupukan--Dana-Tabungan-Perumahan-Rakyat/pojk%2066-2020.pdf)')]}"
      ]
     },
     "execution_count": 11,
     "metadata": {},
     "output_type": "execute_result"
    }
   ],
   "source": [
    "from chain.rag_chain import get_response\n",
    "\n",
    "response = get_response(\n",
    "    chain=chain_history,\n",
    "    question=\"Berapa SWDKLLJ dari buldozer?\",\n",
    "    user_id=USER_ID,\n",
    "    conversation_id=CONVERSATION_ID\n",
    ")\n",
    "\n",
    "response"
   ]
  },
  {
   "cell_type": "code",
   "execution_count": 17,
   "metadata": {},
   "outputs": [
    {
     "name": "stdout",
     "output_type": "stream",
     "text": [
      "[\n",
      "  {\n",
      "    \"metadata\": {\n",
      "      \"doc_id\": 159.0,\n",
      "      \"effective_date\": \"14 Juni 2023\",\n",
      "      \"file_url\": \"https://www.ojk.go.id/id/regulasi/Documents/Pages/POJK-APU-PPT-dan-PPPSPM-di-SJK/POJK%208%20TAHUN%202023%20-%20PENERAPAN%20PROGRAM%20APU%20PPT%20DAN%20PPSPM%20DI%20SJK.pdf\",\n",
      "      \"page_number\": 113.0,\n",
      "      \"regulation_number\": \"8 Tahun 2023\",\n",
      "      \"regulation_type\": \"Peraturan OJK\",\n",
      "      \"sector\": \"Perbankan,  Pasar Modal,  IKNB,  Syariah,  EPK\",\n",
      "      \"subsector\": \"Peraturan Lainnya\",\n",
      "      \"title\": \"Penerapan Program Anti Pencucian Uang, Pencegahan Pendanaan Terorisme, dan Pencegahan Pendanaan Proliferasi Senjata Pemusnah Massal di Sektor Jasa Keuangan\",\n",
      "      \"relevance_score\": 0.071073666\n",
      "    },\n",
      "    \"page_content\": \"kenakan selama tahun 2024 atas pelanggaran yang \\ndilakukan PJK tersebut di luar pelanggaran pelaporan \\nmenggunakan \\nperhitungan \\n1% \\n(satu \\npersen) \\ndikali \\nRp1.000.000.000,00 (satu miliar rupiah), yaitu sebesar \\nRp10.000.000,00 (sepuluh juta rupiah). \\n \\nKasus Kedua \\nBagi PJK yang memiliki laba bersih pada tahun 2023 sebesar \\nRp20.000.000.000.000,00 \\n(dua \\npuluh \\ntriliun \\nrupiah), \\nperhitungan \\n1% \\n(satu \\npersen) \\ndikali \\nRp20.000.000.000.000,00 (dua puluh triliun rupiah), yaitu \\nsebesar Rp200.000.000.000,00 (dua ratus miliar rupiah).\"\n",
      "  },\n",
      "  {\n",
      "    \"metadata\": {\n",
      "      \"doc_id\": 323.0,\n",
      "      \"effective_date\": \"6 Januari 2022\",\n",
      "      \"file_url\": \"https://www.ojk.go.id/id/regulasi/Documents/Pages/Layanan-Keuangan-Tanpa-Kantor-dalam-Rangka-Keuangan-Inklusif-/POJK%201%20-%2003%20-%202022.pdf\",\n",
      "      \"page_number\": 25.0,\n",
      "      \"regulation_number\": \"1/POJK.03/2022\",\n",
      "      \"regulation_type\": \"Peraturan OJK\",\n",
      "      \"sector\": \"Perbankan\",\n",
      "      \"subsector\": \"Peraturan Lainnya\",\n",
      "      \"title\": \"Layanan Keuangan Tanpa Kantor dalam Rangka Keuangan Inklusif\",\n",
      "      \"relevance_score\": 0.029986506\n",
      "    },\n",
      "    \"page_content\": \"a. \\nRp100.000,00 (seratus ribu rupiah) per hari kerja  \\nketerlambatan dan paling banyak Rp3.000.0000,00 \\n(tiga juta rupiah) bagi BPR dan BPRS yang memiliki \\nmodal inti kurang dari Rp50.000.000.000,00 (lima \\npuluh miliar rupiah); atau \\nb. \\nRp250.000,00 (dua ratus lima puluh ribu rupiah) per \\nhari \\nkerja \\nketerlambatan \\ndan \\npaling \\nbanyak \\nRp7.500.000,00 (tujuh juta lima ratus ribu rupiah)\"\n",
      "  },\n",
      "  {\n",
      "    \"metadata\": {\n",
      "      \"doc_id\": 159.0,\n",
      "      \"effective_date\": \"14 Juni 2023\",\n",
      "      \"file_url\": \"https://www.ojk.go.id/id/regulasi/Documents/Pages/POJK-APU-PPT-dan-PPPSPM-di-SJK/POJK%208%20TAHUN%202023%20-%20PENERAPAN%20PROGRAM%20APU%20PPT%20DAN%20PPSPM%20DI%20SJK.pdf\",\n",
      "      \"page_number\": 110.0,\n",
      "      \"regulation_number\": \"8 Tahun 2023\",\n",
      "      \"regulation_type\": \"Peraturan OJK\",\n",
      "      \"sector\": \"Perbankan,  Pasar Modal,  IKNB,  Syariah,  EPK\",\n",
      "      \"subsector\": \"Peraturan Lainnya\",\n",
      "      \"title\": \"Penerapan Program Anti Pencucian Uang, Pencegahan Pendanaan Terorisme, dan Pencegahan Pendanaan Proliferasi Senjata Pemusnah Massal di Sektor Jasa Keuangan\",\n",
      "      \"relevance_score\": 0.010248602\n",
      "    },\n",
      "    \"page_content\": \"dengan \\n10.000 \\n(sepuluh \\nribu) \\nlaporan, \\nyaitu \\nsebesar \\nRp30.000.000.000,00 (tiga puluh miliar rupiah). \\nNamun, dengan mempertimbangkan bahwa laba bersih yang \\ndiperoleh oleh PJK tersebut pada tahun 2022 adalah sebesar \\nRp8.000.000.000.000,00 (delapan triliun rupiah), dimana dengan \\nmenggunakan perhitungan 0,5% (nol koma lima persen) dikali \\nRp8.000.000.000.000,00 \\n(delapan \\ntriliun \\nrupiah), \\nakan \\ndidapatkan nilai sebesar Rp40.000.000.000,00 (empat puluh \\nmiliar rupiah), maka Otoritas Jasa Keuangan akan mengenakan \\nsanksi denda sebesar Rp25.000.000.000,00 (dua puluh lima \\nmiliar rupiah).\"\n",
      "  },\n",
      "  {\n",
      "    \"metadata\": {\n",
      "      \"doc_id\": 715.0,\n",
      "      \"effective_date\": \"2 Oktober 2019\",\n",
      "      \"file_url\": \"https://www.ojk.go.id/id/regulasi/Documents/Pages/Laporan-Bulanan-Bank-Pembiayaan-Rakyat-Syariah/seojk%2018-2019.pdf\",\n",
      "      \"page_number\": 77.0,\n",
      "      \"regulation_number\": \"18/SEOJK.03/2019\",\n",
      "      \"regulation_type\": \"Surat Edaran OJK\",\n",
      "      \"sector\": \"Perbankan\",\n",
      "      \"subsector\": \"BPR\",\n",
      "      \"title\": \"Laporan Bulanan Bank Pembiayaan Rakyat Syariah\",\n",
      "      \"relevance_score\": 0.0062170783\n",
      "    },\n",
      "    \"page_content\": \"44000 \\n  \\n2. Rugi Tahun Berjalan  \\n44100 \\n  \\nK. \\nTaksiran Pajak Penghasilan \\n45000 \\n  \\nL. \\nPajak Tangguhan \\n46000 \\n  \\n1. Pendapatan Pajak Tangguhan \\n46100 \\n  \\n2. Beban Pajak Tangguhan  \\n46200 \\n  \\nM. \\nZakat  \\n47000 \\n  \\nN. \\nLaba Rugi Bersih \\n48000 \\n  \\n1. Laba Bersih \\n48100 \\n  \\n2. Rugi Bersih \\n48200\"\n",
      "  },\n",
      "  {\n",
      "    \"metadata\": {\n",
      "      \"doc_id\": 82.0,\n",
      "      \"effective_date\": \"13 Desember 2023\",\n",
      "      \"file_url\": \"https://www.ojk.go.id/id/regulasi/Documents/Pages/Produk-Asuransi-yang-Dikaitkan-dengan-Kredit-atau-Pembiayaan-Syariah-dan-Produk-Suretyship-atau-Suretyship-Syariah/POJK%2020%20Tahun%202023%20Produk%20Asuransi%20Yang%20Dikaitkan%20Dengan%20Kredit%20Atau%20Pembiayaan%20Syariah%20Dan%20Produk%20Suretyship%20Atau%20Suretyship%20Syariah.pdf\",\n",
      "      \"page_number\": 31.0,\n",
      "      \"regulation_number\": \"20 Tahun 2023\",\n",
      "      \"regulation_type\": \"Peraturan OJK\",\n",
      "      \"sector\": \"IKNB\",\n",
      "      \"subsector\": \"IKNB Syariah,  Asuransi\",\n",
      "      \"title\": \"Produk Asuransi yang Dikaitkan dengan Kredit atau Pembiayaan Syariah dan Produk Suretyship atau Suretyship Syariah\",\n",
      "      \"relevance_score\": 0.005448068\n",
      "    },\n",
      "    \"page_content\": \"Rp2.000.000.000,00 (dua miliar rupiah); \\n- \\nMaksimal nilai pertanggungan/manfaat bruto 10% (sepuluh \\npersen) x Rp100.000.000.000,00 (seratus miliar rupiah) = \\nRp10.000.000.000,00 (sepuluh miliar rupiah); \\n- \\nnilai \\npertanggungan/manfaat \\nbruto \\nDebitur \\nA \\nRp10.000.000.000,00 \\n(sepuluh \\nmiliar \\nrupiah) \\n- \\nRp2.000.000.000,00 (dua miliar rupiah) = Rp8.000.000.000,00 \\n(delapan miliar rupiah); \\n- \\nKarena nilai pertanggungan/manfaat bruto dari Perusahaan \\nlebih besar dari nilai pertanggungan bruto Debitur A, maka \\nPerusahaan diperkenankan untuk menutup pertanggungan \\nrisiko Debitur A; \\n- \\nMaksimal \\nnilai \\nretensi \\nsendiri \\n5% \\n(lima \\npersen) \\nx \\nRp100.000.000.000,00 \\n(seratus \\nmiliar \\nrupiah) \\n= \\nRp5.000.000.000,00 (lima miliar rupiah). \\n \\nPasal 7 \\nCukup jelas. \\n \\nPasal 8 \\nCukup jelas. \\n \\nPasal 9 \\nCukup jelas. \\n \\nPasal 10  \\nAyat (1) \\nCukup jelas. \\nAyat (2) \\nCukup jelas. \\nAyat (3) \\nHuruf a \\nYang dimaksud dengan \\u201cmeninggal dunia\\u201d adalah\"\n",
      "  }\n",
      "]\n"
     ]
    }
   ],
   "source": [
    "print(response['context'])"
   ]
  },
  {
   "cell_type": "markdown",
   "metadata": {},
   "source": [
    "#### **Streaming**"
   ]
  },
  {
   "cell_type": "code",
   "execution_count": 19,
   "metadata": {},
   "outputs": [
    {
     "name": "stdout",
     "output_type": "stream",
     "text": [
      "Saya minta maaf, tetapi pertanyaan yang Anda ajukan tidak terkait dengan konteks dan informasi metadata yang diberikan. Silakan ajukan pertanyaan lain yang terkait dengan kepatuhan perbankan di Indonesia."
     ]
    }
   ],
   "source": [
    "# from chain.rag_chain import print_answer_stream\n",
    "\n",
    "# print_answer_stream(chain=chain_history, question=\"Siapa itu lionel messi?\", user_id=USER_ID, conversation_id=CONVERSATION_ID)"
   ]
  }
 ],
 "metadata": {
  "kernelspec": {
   "display_name": "chatbot-all",
   "language": "python",
   "name": "python3"
  },
  "language_info": {
   "codemirror_mode": {
    "name": "ipython",
    "version": 3
   },
   "file_extension": ".py",
   "mimetype": "text/x-python",
   "name": "python",
   "nbconvert_exporter": "python",
   "pygments_lexer": "ipython3",
   "version": "3.9.19"
  }
 },
 "nbformat": 4,
 "nbformat_minor": 2
}

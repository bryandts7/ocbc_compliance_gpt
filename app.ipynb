{
 "cells": [
  {
   "cell_type": "markdown",
   "metadata": {},
   "source": [
    "# **Compliance GPT with LangChain**"
   ]
  },
  {
   "cell_type": "markdown",
   "metadata": {},
   "source": [
    "## **Setup**"
   ]
  },
  {
   "cell_type": "code",
   "execution_count": 14,
   "metadata": {},
   "outputs": [],
   "source": [
    "# import nest_asyncio\n",
    "# nest_asyncio.apply()\n",
    "\n",
    "import warnings\n",
    "warnings.filterwarnings(\"ignore\")"
   ]
  },
  {
   "cell_type": "markdown",
   "metadata": {},
   "source": [
    "## **Config**"
   ]
  },
  {
   "cell_type": "code",
   "execution_count": 15,
   "metadata": {},
   "outputs": [],
   "source": [
    "from utils.config import get_config\n",
    "\n",
    "config = get_config()"
   ]
  },
  {
   "cell_type": "code",
   "execution_count": 16,
   "metadata": {},
   "outputs": [],
   "source": [
    "USER_ID = 'xmriz'\n",
    "CONVERSATION_ID = 'xmriz-2021-07-01-01'"
   ]
  },
  {
   "cell_type": "markdown",
   "metadata": {},
   "source": [
    "## **Define Model**"
   ]
  },
  {
   "cell_type": "code",
   "execution_count": 17,
   "metadata": {},
   "outputs": [],
   "source": [
    "from utils.models import ModelName, LLMModelName, EmbeddingModelName, get_model\n",
    "\n",
    "model_name = ModelName.OPENAI\n",
    "llm_model, embed_model = get_model(model_name=model_name, config=config, llm_model_name=LLMModelName.GPT_4O_MINI, embedding_model_name=EmbeddingModelName.EMBEDDING_3_SMALL)"
   ]
  },
  {
   "cell_type": "markdown",
   "metadata": {},
   "source": [
    "## **Load Vector Store Index**"
   ]
  },
  {
   "cell_type": "code",
   "execution_count": 18,
   "metadata": {},
   "outputs": [
    {
     "name": "stdout",
     "output_type": "stream",
     "text": [
      "Loaded index 'bi'.\n",
      "Loaded index 'ojk'.\n",
      "Loaded index 'sikepo-ketentuan-terkait'.\n",
      "Loaded index 'sikepo-rekam-jejak'.\n"
     ]
    }
   ],
   "source": [
    "from database.vector_store.vector_store import RedisIndexManager, PineconeIndexManager, PostgresIndexManager, ElasticIndexManager\n",
    "\n",
    "# es_bi = ElasticIndexManager(index_name='bi', embed_model=embed_model, config=config)\n",
    "# vector_store_bi = es_bi.load_vector_index()\n",
    "\n",
    "# es_ojk = ElasticIndexManager(index_name='ojk', embed_model=embed_model, config=config)\n",
    "# vector_store_ojk = es_ojk.load_vector_index()\n",
    "\n",
    "# es_ket = ElasticIndexManager(index_name='sikepo-rekam-jejak', embed_model=embed_model, config=config)\n",
    "# vector_store_ket = es_ket.load_vector_index()\n",
    "\n",
    "# es_rek = ElasticIndexManager(index_name='sikepo-ketentuan-terkait', embed_model=embed_model, config=config)\n",
    "# vector_store_rek = es_rek.load_vector_index()\n",
    "\n",
    "# postgres_bi = PostgresIndexManager(index_name='bi', embed_model=embed_model, config=config)\n",
    "# vector_store_bi = postgres_bi.load_vector_index()\n",
    "\n",
    "# postgres_ojk = PostgresIndexManager(index_name='ojk', embed_model=embed_model, config=config)\n",
    "# vector_store_ojk = postgres_ojk.load_vector_index()\n",
    "\n",
    "# postgres_ket = PostgresIndexManager(index_name='ketentuan-terkait', embed_model=embed_model, config=config)\n",
    "# vector_store_ket = postgres_ket.load_vector_index()\n",
    "\n",
    "# postgres_rek = PostgresIndexManager(index_name='rekam-jejak', embed_model=embed_model, config=config)\n",
    "# vector_store_rek = postgres_rek.load_vector_index()\n",
    "\n",
    "redis_bi = RedisIndexManager(index_name='bi', embed_model=embed_model, config=config, db_id=0)\n",
    "vector_store_bi = redis_bi.load_vector_index()\n",
    "\n",
    "redis_ojk = RedisIndexManager(index_name='ojk', embed_model=embed_model, config=config, db_id=0)\n",
    "vector_store_ojk = redis_ojk.load_vector_index()\n",
    "\n",
    "redis_sikepo_ket = RedisIndexManager(index_name='sikepo-ketentuan-terkait', embed_model=embed_model, config=config, db_id=0)\n",
    "vector_store_ket = redis_sikepo_ket.load_vector_index()\n",
    "\n",
    "redis_sikepo_rek = RedisIndexManager(index_name='sikepo-rekam-jejak', embed_model=embed_model, config=config, db_id=0)\n",
    "vector_store_rek = redis_sikepo_rek.load_vector_index()\n",
    "\n",
    "# pinecone_ojk = PineconeIndexManager(index_name='ojk', embed_model=embed_model, config=config)\n",
    "# vector_store_ojk = pinecone_ojk.load_vector_index()\n",
    "\n",
    "# pinecone_bi = PineconeIndexManager(index_name='bi', embed_model=embed_model, config=config)\n",
    "# vector_store_bi = pinecone_bi.load_vector_index()\n",
    "\n",
    "# pinecone_ket = PineconeIndexManager(index_name='ketentuan-terkait', embed_model=embed_model, config=config)\n",
    "# vector_store_ket = pinecone_ket.load_vector_index()\n",
    "\n",
    "# pinecone_rek = PineconeIndexManager(index_name='rekam-jejak', embed_model=embed_model, config=config)\n",
    "# vector_store_rek = pinecone_rek.load_vector_index()"
   ]
  },
  {
   "cell_type": "code",
   "execution_count": 19,
   "metadata": {},
   "outputs": [],
   "source": [
    "from database.vector_store.neo4j_graph_store import Neo4jGraphStore\n",
    "\n",
    "neo4j_sikepo = Neo4jGraphStore(config=config)\n",
    "graph = neo4j_sikepo.get_graph()"
   ]
  },
  {
   "cell_type": "markdown",
   "metadata": {},
   "source": [
    "## **Get Retriever**"
   ]
  },
  {
   "cell_type": "code",
   "execution_count": 20,
   "metadata": {},
   "outputs": [],
   "source": [
    "from retriever.retriever_ojk.retriever_ojk import get_retriever_ojk\n",
    "from retriever.retriever_bi.retriever_bi import get_retriever_bi\n",
    "from retriever.retriever_sikepo.lotr_sikepo import lotr_sikepo\n",
    "\n",
    "top_n = 10\n",
    "\n",
    "retriever_ojk = get_retriever_ojk(vector_store=vector_store_ojk, top_n=top_n,\n",
    "                                  llm_model=llm_model, embed_model=embed_model, config=config)\n",
    "retriever_bi = get_retriever_bi(vector_store=vector_store_bi, top_n=top_n,\n",
    "                                llm_model=llm_model, embed_model=embed_model, config=config)\n",
    "retriever_sikepo_ket = lotr_sikepo(vector_store=vector_store_ket, top_n=top_n,\n",
    "                                   llm_model=llm_model, embed_model=embed_model, config=config)\n",
    "retriever_sikepo_rek = lotr_sikepo(vector_store=vector_store_rek, top_n=top_n,\n",
    "                                   llm_model=llm_model, embed_model=embed_model, config=config)"
   ]
  },
  {
   "cell_type": "code",
   "execution_count": 21,
   "metadata": {},
   "outputs": [],
   "source": [
    "# retriever_bi.invoke(\"What is the maximum transaction of QRIS?\")"
   ]
  },
  {
   "cell_type": "markdown",
   "metadata": {},
   "source": [
    "## **Create Chain**"
   ]
  },
  {
   "cell_type": "code",
   "execution_count": 22,
   "metadata": {},
   "outputs": [],
   "source": [
    "from database.chat_store import RedisChatStore, MongoDBChatStore, PostgresChatStore, ElasticChatStore\n",
    "\n",
    "# chat_store = ElasticChatStore(config=config, k=3)\n",
    "# chat_store = PostgresChatStore(config=config, k=3)\n",
    "chat_store = RedisChatStore(k=3, config=config, db_id=1)\n",
    "# chat_store = MongoDBChatStore(config=config, k=4)"
   ]
  },
  {
   "cell_type": "code",
   "execution_count": 23,
   "metadata": {},
   "outputs": [],
   "source": [
    "from chain.rag_chain import create_chain_with_chat_history, create_sequential_chain\n",
    "from chain.chain_sikepo.graph_cypher_sikepo_chain import graph_rag_chain\n",
    "\n",
    "\n",
    "graph_chain = graph_rag_chain(llm_model, llm_model, graph=graph)\n",
    "\n",
    "chain = create_sequential_chain(\n",
    "    llm_model=llm_model,\n",
    "    graph_chain=graph_chain,\n",
    "    retriever_ojk=retriever_ojk,\n",
    "    retriever_bi=retriever_sikepo_ket,\n",
    "    retriever_sikepo_ketentuan=retriever_sikepo_ket,\n",
    "    retriever_sikepo_rekam=retriever_sikepo_rek,\n",
    ")\n",
    "\n",
    "chain_history = create_chain_with_chat_history(\n",
    "    final_chain=chain,\n",
    "    chat_store=chat_store,\n",
    ")"
   ]
  },
  {
   "cell_type": "markdown",
   "metadata": {},
   "source": [
    "## **Invoke**"
   ]
  },
  {
   "cell_type": "markdown",
   "metadata": {},
   "source": [
    "#### **Chat Store Monitor**"
   ]
  },
  {
   "cell_type": "code",
   "execution_count": 24,
   "metadata": {},
   "outputs": [
    {
     "name": "stdout",
     "output_type": "stream",
     "text": [
      "Human: Apa itu Akad Tijarah?\n",
      "Human: Jika saya ingin membuat peraturan terkait bank digital peraturan apa yang perlu saya perhatikan?\n"
     ]
    }
   ],
   "source": [
    "# to print chat history\n",
    "print(chat_store.get_session_history(user_id=USER_ID, conversation_id=CONVERSATION_ID))"
   ]
  },
  {
   "cell_type": "code",
   "execution_count": 25,
   "metadata": {},
   "outputs": [],
   "source": [
    "# to make the chat history empty\n",
    "chat_store.clear_all()"
   ]
  },
  {
   "cell_type": "markdown",
   "metadata": {},
   "source": [
    "#### **With Question, Answer, and Context**"
   ]
  },
  {
   "cell_type": "code",
   "execution_count": 26,
   "metadata": {},
   "outputs": [],
   "source": [
    "# from chain.rag_chain import get_response\n",
    "\n",
    "# response = get_response(\n",
    "#     chain=chain_history,\n",
    "#     question=\"Apa itu Akad Tijarah?\",\n",
    "#     user_id=USER_ID,\n",
    "#     conversation_id=CONVERSATION_ID\n",
    "# )\n",
    "\n",
    "# response"
   ]
  },
  {
   "cell_type": "code",
   "execution_count": 27,
   "metadata": {},
   "outputs": [],
   "source": [
    "# print(response['answer'])\n"
   ]
  },
  {
   "cell_type": "code",
   "execution_count": 28,
   "metadata": {},
   "outputs": [],
   "source": [
    "# print(response['context'])"
   ]
  },
  {
   "cell_type": "markdown",
   "metadata": {},
   "source": [
    "#### **Streaming**"
   ]
  },
  {
   "cell_type": "code",
   "execution_count": 29,
   "metadata": {},
   "outputs": [
    {
     "name": "stderr",
     "output_type": "stream",
     "text": [
      "Failed to write data to connection ResolvedIPv4Address(('34.126.171.25', 7687)) (ResolvedIPv4Address(('34.126.171.25', 7687)))\n",
      "Failed to write data to connection IPv4Address(('76b9a325.databases.neo4j.io', 7687)) (ResolvedIPv4Address(('34.126.171.25', 7687)))\n",
      "Error in RootListenersTracer.on_chain_end callback: KeyError('answer')\n",
      "Error in callback coroutine: KeyError('answer')\n"
     ]
    },
    {
     "name": "stdout",
     "output_type": "stream",
     "text": [
      "Jika Anda ingin membuat peraturan terkait bank digital, Anda perlu memperhatikan beberapa peraturan yang relevan, antara lain:\n",
      "\n",
      "1. **Peraturan Otoritas Jasa Keuangan (POJK) Nomor 21 Tahun 2023** tentang Layanan Digital oleh Bank Umum. Peraturan ini mengatur tentang pengembangan dan inovasi dalam memberikan layanan digital oleh bank, serta manajemen risiko, keamanan data nasabah, dan perlindungan konsumen. \n",
      "\n",
      "   Source: [21 Tahun 2023](https://www.ojk.go.id/id/regulasi/Documents/Pages/Layanan-Digital-oleh-Bank-Umum/POJK%2021%20Tahun%202023.%20Layanan%20Digital%20oleh%20Bank%20Umum.pdf) (halaman 1)\n",
      "\n",
      "2. **Peraturan Otoritas Jasa Keuangan (POJK) Nomor 12/POJK.03/2018** tentang Penyelenggaraan Layanan Perbankan Digital oleh Bank Umum. Peraturan ini perlu diperhatikan karena akan digantikan oleh POJK 21 Tahun 2023, namun masih relevan untuk memahami ketentuan yang ada sebelumnya.\n",
      "\n",
      "   Source: [12/POJK.03/2018](https://www.ojk.go.id/id/regulasi/Documents/Pages/Penyelenggaraan-Layanan-Perbankan-Digital-oleh-Bank-Umum/POJK%2012-2018.pdf) (halaman 2)\n",
      "\n",
      "3. **Undang-Undang Nomor 7 Tahun 1992** tentang Perbankan, yang menjadi dasar hukum bagi pengaturan perbankan di Indonesia.\n",
      "\n",
      "   Source: [21 Tahun 2023](https://www.ojk.go.id/id/regulasi/Documents/Pages/Layanan-Digital-oleh-Bank-Umum/POJK%2021%20Tahun%202023.%20Layanan%20Digital%20oleh%20Bank%20Umum.pdf) (halaman 1)\n",
      "\n",
      "4. **Undang-Undang Nomor 4 Tahun 2023** tentang Pengembangan dan Penguatan Sektor Keuangan, yang juga menjadi dasar hukum dalam pengaturan layanan digital oleh bank.\n",
      "\n",
      "   Source: [21 Tahun 2023](https://www.ojk.go.id/id/regulasi/Documents/Pages/Layanan-Digital-oleh-Bank-Umum/POJK%2021%20Tahun%202023.%20Layanan%20Digital%20oleh%20Bank%20Umum.pdf) (halaman 1)\n",
      "\n",
      "Memperhatikan peraturan-peraturan ini akan membantu dalam merumuskan kebijakan yang sesuai dengan regulasi yang berlaku di sektor perbankan digital di Indonesia."
     ]
    }
   ],
   "source": [
    "from chain.rag_chain import print_answer_stream\n",
    "\n",
    "question = \"Jika saya ingin membuat peraturan terkait bank digital peraturan apa yang perlu saya perhatikan?\"\n",
    "\n",
    "print_answer_stream(chain=chain_history, question=question, user_id=USER_ID, conversation_id=CONVERSATION_ID)"
   ]
  }
 ],
 "metadata": {
  "kernelspec": {
   "display_name": "chatbot-all",
   "language": "python",
   "name": "python3"
  },
  "language_info": {
   "codemirror_mode": {
    "name": "ipython",
    "version": 3
   },
   "file_extension": ".py",
   "mimetype": "text/x-python",
   "name": "python",
   "nbconvert_exporter": "python",
   "pygments_lexer": "ipython3",
   "version": "3.9.19"
  }
 },
 "nbformat": 4,
 "nbformat_minor": 2
}

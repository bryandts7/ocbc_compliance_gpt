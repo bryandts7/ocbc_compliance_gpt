{
 "cells": [
  {
   "cell_type": "markdown",
   "metadata": {},
   "source": [
    "# **Compliance GPT with LangChain**"
   ]
  },
  {
   "cell_type": "markdown",
   "metadata": {},
   "source": [
    "## **Setup**"
   ]
  },
  {
   "cell_type": "code",
   "execution_count": 1,
   "metadata": {},
   "outputs": [],
   "source": [
    "# import nest_asyncio\n",
    "# nest_asyncio.apply()"
   ]
  },
  {
   "cell_type": "markdown",
   "metadata": {},
   "source": [
    "## **Config**"
   ]
  },
  {
   "cell_type": "code",
   "execution_count": 2,
   "metadata": {},
   "outputs": [],
   "source": [
    "from utils.config import get_config\n",
    "\n",
    "config = get_config()"
   ]
  },
  {
   "cell_type": "code",
   "execution_count": 3,
   "metadata": {},
   "outputs": [],
   "source": [
    "USER_ID = 'xmriz'\n",
    "CONVERSATION_ID = 'xmriz-2021-07-01-01'"
   ]
  },
  {
   "cell_type": "markdown",
   "metadata": {},
   "source": [
    "## **Define Model**"
   ]
  },
  {
   "cell_type": "code",
   "execution_count": 4,
   "metadata": {},
   "outputs": [],
   "source": [
    "from utils.models import ModelName, LLMModelName, EmbeddingModelName, get_model\n",
    "\n",
    "model_name = ModelName.AZURE_OPENAI\n",
    "llm_model, embed_model = get_model(model_name=model_name, config=config, llm_model_name=LLMModelName.GPT_35_TURBO, embedding_model_name=EmbeddingModelName.EMBEDDING_3_SMALL)"
   ]
  },
  {
   "cell_type": "markdown",
   "metadata": {},
   "source": [
    "## **Load Vector Store Index**"
   ]
  },
  {
   "cell_type": "code",
   "execution_count": 5,
   "metadata": {},
   "outputs": [
    {
     "name": "stderr",
     "output_type": "stream",
     "text": [
      "c:\\Users\\acer\\miniconda3\\envs\\chatbot-ocbc\\lib\\site-packages\\pinecone\\data\\index.py:1: TqdmWarning: IProgress not found. Please update jupyter and ipywidgets. See https://ipywidgets.readthedocs.io/en/stable/user_install.html\n",
      "  from tqdm.autonotebook import tqdm\n"
     ]
    }
   ],
   "source": [
    "from database.vector_store.vector_store import RedisIndexManager, PineconeIndexManager\n",
    "\n",
    "\n",
    "redis_bi = RedisIndexManager(index_name='bi', embed_model=embed_model, config=config, db_id=0)\n",
    "vector_store_bi = redis_bi.load_vector_index()\n",
    "\n",
    "redis_ojk = RedisIndexManager(index_name='ojk', embed_model=embed_model, config=config, db_id=0)\n",
    "vector_store_ojk = redis_ojk.load_vector_index()\n",
    "\n",
    "redis_sikepo_ket = RedisIndexManager(index_name='sikepo-ketentuan-terkait', embed_model=embed_model, config=config, db_id=0)\n",
    "vector_store_ket = redis_sikepo_ket.load_vector_index()\n",
    "\n",
    "redis_sikepo_rek = RedisIndexManager(index_name='sikepo-rekam-jejak', embed_model=embed_model, config=config, db_id=0)\n",
    "vector_store_rek = redis_sikepo_rek.load_vector_index()\n",
    "\n",
    "# pinecone_ojk = PineconeIndexManager(index_name='ojk', embed_model=embed_model, config=config)\n",
    "# vector_store_ojk = pinecone_ojk.load_vector_index()\n",
    "\n",
    "# pinecone_bi = PineconeIndexManager(index_name='bi', embed_model=embed_model, config=config)\n",
    "# vector_store_bi = pinecone_bi.load_vector_index()\n",
    "\n",
    "# pinecone_ket = PineconeIndexManager(index_name='ketentuan-terkait', embed_model=embed_model, config=config)\n",
    "# vector_store_ket = pinecone_ket.load_vector_index()\n",
    "\n",
    "# pinecone_rek = PineconeIndexManager(index_name='rekam-jejak', embed_model=embed_model, config=config)\n",
    "# vector_store_rek = pinecone_rek.load_vector_index()"
   ]
  },
  {
   "cell_type": "code",
   "execution_count": 6,
   "metadata": {},
   "outputs": [],
   "source": [
    "from database.vector_store.neo4j_graph_store import Neo4jGraphStore\n",
    "\n",
    "neo4j_sikepo = Neo4jGraphStore(config=config)\n",
    "graph = neo4j_sikepo.get_graph()"
   ]
  },
  {
   "cell_type": "markdown",
   "metadata": {},
   "source": [
    "## **Get Retriever**"
   ]
  },
  {
   "cell_type": "code",
   "execution_count": 7,
   "metadata": {},
   "outputs": [],
   "source": [
    "from retriever.retriever_ojk.retriever_ojk import get_retriever_ojk\n",
    "from retriever.retriever_bi.retriever_bi import get_retriever_bi\n",
    "from retriever.retriever_sikepo.lotr_sikepo import lotr_sikepo\n",
    "\n",
    "retriever_bi = get_retriever_bi(vector_store=vector_store_bi, top_n=6, top_k=16, llm_model=llm_model, embed_model=embed_model, config=config)\n",
    "retriever_ojk = get_retriever_ojk(vector_store=vector_store_ojk, top_n=6, top_k=16, llm_model=llm_model, embed_model=embed_model, config=config)\n",
    "retriever_sikepo_ket = lotr_sikepo(vector_store=vector_store_ket, llm_model=llm_model, embed_model=embed_model, config=config)\n",
    "retriever_sikepo_rek = lotr_sikepo(vector_store=vector_store_rek, llm_model=llm_model, embed_model=embed_model, config=config)"
   ]
  },
  {
   "cell_type": "code",
   "execution_count": 8,
   "metadata": {},
   "outputs": [
    {
     "data": {
      "text/plain": [
       "[Document(metadata={'id': 'doc:ojk:661f27d6f65e4a81b951c1c0162833e3', 'title': 'Peraturan Menteri Keuangan Nomor 36/PMK.010/2008 tentang Besar Santunan dan Sumbangan Wajib Dana Kecelakaan Lalu Lintas Jalan', 'sector': 'IKNB', 'subsector': 'Asuransi', 'regulation_type': 'Klasifikasi Bapepam', 'regulation_number': '36/PMK.010/2008', 'effective_date': '26 Februari 2008', 'file_url': 'https://www.ojk.go.id/id/regulasi/Documents/Pages/PMK-Nomor-36PMK.010-Tahun-2008-tentang-Besar-Santunan-dan-Sumbangan-Wajib-Dana-Kecelakaan-Lalu-Lintas-Jalan/menas13_1389258036.pdf', 'doc_id': '1718', 'page_number': '3', 'relevance_score': 0.8283842}, page_content='MENTERI KEUANGAN\\nREPUBLIK INDONESIA\\nmemperoleh santunan sebesar Rp 25.000.000,00 (dua puluh lima\\njuta rupiah).\\nb. Korban yang mengalami cacat tetap berhak memperoleh\\nsantunan yang besarnya dihitung berdasarkan angka prosentase\\n Korban yang memerlukan perawatan dan pengobatan berhak\\nrupiah).\\nPasal 3\\nDalam hal korban meninggal dunia akibat kecelakaan alat angkutan\\nlalu lintas jalan tidak mempunyai ahli waris, kepada pihak yang\\nmenyelenggarakan\\ndiberikan\\npenggantian\\nbiaya\\nPasal 4\\n(2) Besar SWDKLLJ sebagaimana dimaksud pada ayat (1) ditentukan\\nsebagai berikut:\\nSepeda motor di bawah 50 cc, mobil ambulance, mobil jenazah\\na.\\ndan mobil pemadam kebakaran dibebaskan dari kewajiban\\nmembayar SWDKLLJ.\\nb. Traktor, buidozer, forklift, mobil derek, excavator, crane dan\\nsejenisnya sebesar Rp 20.000,00 (dua puluh ribu rupiah):\\n Sepeda motor, sepeda kumbang dan scooter di atas 50 cc sampai\\n250 cc dan kendaraan bermotor roda tiga sebesar Rp 32.000,00\\n(tiga puluh dua ribu rupiah).\\nd.'),\n",
       " Document(metadata={'id': 'doc:ojk:bd3b8f5e0e4e4cc3b20ae6220801595f', 'title': 'Buku Panduan Akuntansi Perbankan Bagi Bank Umum Konvensional', 'sector': 'Perbankan', 'subsector': 'Bank Umum', 'regulation_type': 'Surat Edaran OJK', 'regulation_number': '34/SEOJK.03/2021', 'effective_date': '31 Desember 2021', 'file_url': 'https://www.ojk.go.id/id/regulasi/Documents/Pages/Buku-Panduan-Akuntansi-Perbankan-Bagi-Bank-Umum-Konvensional-/SEOJK%2034%20-%2003%20-%202021.pdf', 'doc_id': '325', 'page_number': '721', 'relevance_score': 0.0002082501}, page_content='480.000.000 \\n480.000.000 \\n/600.000.000 x \\n500.000.000 \\n400.000.000 \\nPemeliharaan \\n4 x \\n30.000.000 \\n120.000.000 \\n120.000.000 \\n/600.000.000 x \\n500.000.000 \\n100.000.000 \\nTotal \\n600.000.000 \\n \\n500.000.000 \\nc. \\nAlokasi untuk Sewa eskalator Rp400.000.000 dan komponen \\nnonSewa Rp100.000.000.'),\n",
       " Document(metadata={'id': 'doc:ojk:9902886649cb4dc191c6b8aa66056013', 'title': 'Surat Edaran Otoritas Jasa Keuangan Nomor 46/SEOJK.03/2016', 'sector': 'NO DATA', 'subsector': 'NO DATA', 'regulation_type': 'NO DATA', 'regulation_number': '46/SEOJK.03/2016', 'effective_date': '15 Desember 2016', 'file_url': 'https://www.ojk.go.id/id/kanal/perbankan/regulasi/surat-edaran-ojk/Documents/SEOJK%20BPRS%20-%20Lampiran%20I.pdf', 'doc_id': '2699', 'page_number': '27', 'relevance_score': 4.4694072e-05}, page_content='Selatan \\n4 \\nRp3.5 \\n300 Sumatera \\nSelatan \\nKab. Ogan \\nKomering Ilir \\nKantor \\nRegional \\n7 \\nSumatera \\nBagian \\nSelatan \\n4 \\nRp3.5 \\n301 Sumatera \\nSelatan \\nKota \\nLubuklinggau \\nKantor \\nRegional \\n7 \\nSumatera \\nBagian \\nSelatan \\n4 \\nRp3.5 \\n302 Sumatera \\nSelatan \\nKab. Musi \\nBanyuasin \\nKantor \\nRegional \\n7 \\nSumatera \\nBagian \\nSelatan \\n4 \\nRp3.5 \\n303 Sumatera \\nSelatan \\nKab. Lematang \\nIlir Ogan Tengah \\nKantor \\nRegional \\n7 \\nSumatera \\nBagian \\nSelatan \\n4 \\nRp3.5 \\n304 Sumatera \\nUtara \\nKab. Pakpak \\nBharat \\nKantor \\nRegional \\n5 \\nSumatera \\nBagian \\nUtara \\n4 \\nRp3.5'),\n",
       " Document(metadata={'id': 'doc:ojk:cc59fe78c64c4834ad7984ca918cd31b', 'title': 'Laporan Bulanan Bank Perkreditan Rakyat', 'sector': 'Perbankan', 'subsector': 'BPR', 'regulation_type': 'Surat Edaran OJK', 'regulation_number': '8/SEOJK.03/2019', 'effective_date': '20 Juni 2019', 'file_url': 'https://www.ojk.go.id/id/regulasi/Documents/Pages/Laporan-Bulanan-Bank-Perkreditan-Rakyat/seojk%208-2019.pdf', 'doc_id': '750', 'page_number': '241', 'relevance_score': 3.619467e-05}, page_content='612200 \\n375.  \\nAngkutan Udara Berjadwal  \\n621000 \\n376.  \\nAngkutan Udara Tidak Berjadwal  \\n622000 \\n377.  \\nAngkutan Udara Khusus  \\n623000 \\n378.  \\nJasa Pelayanan Bongkar Muat Barang  \\n631000 \\n379.  \\nPergudangan, Jasa Cold Storage, dan Jasa Wilayah \\nBerikat  \\n632000 \\n380.  \\nJasa Penunjang Angkutan Kecuali Jasa Bongkar Muat \\ndan Pergudangan  \\n633000 \\n381.  \\nJasa Perjalanan Wisata  \\n634000'),\n",
       " Document(metadata={'id': 'doc:ojk:034b1ecdede24487b231b87a2e64625e', 'title': 'Laporan Bulanan Bank Pembiayaan Rakyat Syariah', 'sector': 'Perbankan', 'subsector': 'Perbankan Syariah', 'regulation_type': 'Surat Edaran OJK', 'regulation_number': '3/SEOJK.03/2023', 'effective_date': '12 Januari 2023', 'file_url': 'https://www.ojk.go.id/id/regulasi/Documents/Pages/Laporan-Bulanan-Bank-Pembiayaan-Rakyat-Syariah-2023/SEOJK%203%20-%2003%20-%202023.pdf', 'doc_id': '189', 'page_number': '525', 'relevance_score': 3.400182e-05}, page_content='ini juga mencakup tenaga paramedik yang mungkin bekerja terpisah \\ndari dokter medis, kegiatan labolarorium medis darah, sperma, bank \\norgan transplant dan lain-lain. Golongan ini juga mencakup kegiatan \\nangkutan ambulans untuk pasien yang seringkali disediakan dalam'),\n",
       " Document(metadata={'id': 'doc:ojk:184728dfff714b96884bb64087808e9b', 'title': 'Peraturan Menteri Keuangan Nomor 01/PMK.010/2011 tentang Perubahan Atas Peraturan Menteri Keuangan Nomor 74/PMK.010/2007 tentang Penyelenggaraan Pertanggungan Asuransi Pada Lini Usaha Asuransi Kendaraan Bermotor', 'sector': 'IKNB', 'subsector': 'Asuransi', 'regulation_type': 'Peraturan/Keputusan Mentri', 'regulation_number': '01/PMK.010/2011', 'effective_date': '4 Januari 2011', 'file_url': 'https://www.ojk.go.id/id/regulasi/Documents/Pages/PMK-Nomor-01PMK.010-Tahun-2011-tentang-Perubahan-Atas-PMK-Nomor-74PMK.010-Tahun-2007/menas6_1389242661.pdf', 'doc_id': '1623', 'page_number': '28', 'relevance_score': 9.00981e-06}, page_content='MENTERI KEUANGAN\\nREPUBLIK INDONESIA\\n SCANIA\\n265\\n SCANIA BUS\\n266\\n66099\\nLainnya\\n79001\\nLainnya\\nLainnya\\n80001\\n268\\nDELTA\\n DAIHATSU\\n269\\nDAIHATSU\\nZebra Pick Up\\n270\\n80099\\nDAIHATSU\\nLainnya\\n271\\n81\\n272\\n81\\n002\\n273\\n81\\n003\\nSeri FM\\nSeri SG\\n81\\n004\\nHINO\\n81005\\n275\\nDUTRO\\n099\\nHINO\\n276\\n81\\nLainnya\\n277\\n001\\n82\\n002\\n278\\n82\\n ISUZU\\n279\\nISUZU\\n82003\\nISUZU\\n82\\n099\\n83001\\nFUSO\\n282\\n002\\n83003\\n283\\nTRONTON\\n83004\\n284\\nMITSUBISHI\\nKuda Pick Up\\nLainnya\\n285\\n83\\nMITSUBISHI\\n84\\nNISSAN\\nCDA\\n286\\n287\\nCKA\\n84003\\nNISSAN\\n288\\nCWA\\n84004\\nNISSAN\\nPKC\\n289\\nNISSAN\\nPKD\\n84005\\n291\\n84099\\nNISSAN\\nTOYOTA\\n292\\nDYNA RINO\\n85\\n001\\n293\\n85002\\nTOYOTA\\nDYNA 115 S\\n294\\n85003\\n295\\nTOYOTA\\n85.\\nLainnya\\nSCANIA\\nTRONTON\\n86\\n297\\n SCANIA\\nLainnya\\n86\\n298\\n99\\n001\\n Lainnya\\nMENTERI KEUANGAN\\n Salinan sesuai denganaslinya\\nttd.\\nKEPALA/B\\nAGUS D.W. MARTOWARDOJO\\nGIARTO')]"
      ]
     },
     "execution_count": 8,
     "metadata": {},
     "output_type": "execute_result"
    }
   ],
   "source": [
    "retriever_ojk.invoke(\"Berapa SWDKLLJ dari ambulans?\")"
   ]
  },
  {
   "cell_type": "markdown",
   "metadata": {},
   "source": [
    "## **Create Chain**"
   ]
  },
  {
   "cell_type": "code",
   "execution_count": 10,
   "metadata": {},
   "outputs": [],
   "source": [
    "from database.chat_store import RedisChatStore\n",
    "\n",
    "chat_store = RedisChatStore(k=3, config=config, db_id=1)\n",
    "# chat_store = MongoDBChatStore(config=config, k=4)"
   ]
  },
  {
   "cell_type": "code",
   "execution_count": 11,
   "metadata": {},
   "outputs": [],
   "source": [
    "from chain.rag_chain import create_chain_with_chat_history, create_chain\n",
    "from retriever.retriever_sikepo.graph_cypher_retriever import graph_rag_chain\n",
    "\n",
    "\n",
    "graph_chain = graph_rag_chain(llm_model, llm_model, graph=graph)\n",
    "\n",
    "chain = create_chain(\n",
    "    llm_model=llm_model,\n",
    "    graph_chain=graph_chain,\n",
    "    retriever_ojk=retriever_ojk,\n",
    "    retriever_bi=retriever_sikepo_ket,\n",
    "    retriever_sikepo_ketentuan=retriever_sikepo_ket,\n",
    "    retriever_sikepo_rekam=retriever_sikepo_rek,\n",
    ")\n",
    "\n",
    "chain_history = create_chain_with_chat_history(\n",
    "    final_chain=chain,\n",
    "    chat_store=chat_store,\n",
    ")"
   ]
  },
  {
   "cell_type": "markdown",
   "metadata": {},
   "source": [
    "## **Invoke**"
   ]
  },
  {
   "cell_type": "markdown",
   "metadata": {},
   "source": [
    "#### **Chat Store Monitor**"
   ]
  },
  {
   "cell_type": "code",
   "execution_count": 16,
   "metadata": {},
   "outputs": [
    {
     "name": "stdout",
     "output_type": "stream",
     "text": [
      "Human: Berapa SWDKLLJ dari ambulans?\n",
      "AI: SWDKLLJ yang harus dibayarkan oleh ambulans adalah Rp 0, karena ambulans dibebaskan dari kewajiban membayar SWDKLLJ.\n",
      "\n",
      "Source: [Peraturan Menteri Keuangan Nomor 36/PMK.010/2008](https://www.ojk.go.id/id/regulasi/Documents/Pages/PMK-Nomor-36PMK.010-Tahun-2008-tentang-Besar-Santunan-dan-Sumbangan-Wajib-Dana-Kecelakaan-Lalu-Lintas-Jalan/menas13_1389258036.pdf#page=4)\n",
      "Human: Apakah peraturan nomor 11/1/PBI/2009 masih berlaku?\n",
      "AI: Tidak, peraturan nomor 11/1/PBI/2009 tidak lagi berlaku. Peraturan ini telah digantikan oleh peraturan nomor 12/POJK.03/2021 yang berlaku sejak tanggal 30 Juli 2021. Peraturan nomor 11/1/PBI/2009 juga telah diubah oleh peraturan nomor 13/27/PBI/2011 yang berlaku sejak tanggal 28 Desember 2011.\n"
     ]
    }
   ],
   "source": [
    "# to print chat history\n",
    "print(chat_store.get_session_history(user_id=USER_ID, conversation_id=CONVERSATION_ID))"
   ]
  },
  {
   "cell_type": "code",
   "execution_count": 13,
   "metadata": {},
   "outputs": [],
   "source": [
    "# to make the chat history empty\n",
    "chat_store.clear_all()"
   ]
  },
  {
   "cell_type": "markdown",
   "metadata": {},
   "source": [
    "#### **With Question, Answer, and Context**"
   ]
  },
  {
   "cell_type": "code",
   "execution_count": 18,
   "metadata": {},
   "outputs": [
    {
     "data": {
      "text/plain": [
       "{'rewrited question': 'Berapa SWDKLLJ yang harus dibayarkan oleh mobil?',\n",
       " 'answer': 'SWDKLLJ yang harus dibayarkan oleh mobil tergantung pada jenis kendaraan. Berdasarkan konteks yang diberikan, SWDKLLJ untuk mobil penumpang angkutan umum sampai dengan 1600 cc adalah Rp150.000,00 (seratus lima puluh ribu rupiah). Untuk bus dan mikro bus bukan angkutan umum, SWDKLLJ sebesar Rp150.000,00 (seratus lima puluh ribu rupiah). Sedangkan untuk bus dan mikro bus angkutan umum, serta mobil penumpang angkutan umum lainnya di atas 1600 cc, SWDKLLJ sebesar Rp87.000,00 (delapan puluh tujuh ribu rupiah).\\n\\nSumber: [Peraturan Menteri Keuangan Nomor 36/PMK.010/2008](https://www.ojk.go.id/id/regulasi/Documents/Pages/PMK-Nomor-36PMK.010-Tahun-2008-tentang-Besar-Santunan-dan-Sumbangan-Wajib-Dana-Kecelakaan-Lalu-Lintas-Jalan/menas13_1389258036.pdf#page=4)',\n",
       " 'context': [Document(metadata={'id': 'doc:ojk:f2a71351bb304600a8921ed4cd14f42e', 'title': 'Peraturan Menteri Keuangan Nomor 36/PMK.010/2008 tentang Besar Santunan dan Sumbangan Wajib Dana Kecelakaan Lalu Lintas Jalan', 'sector': 'IKNB', 'subsector': 'Asuransi', 'regulation_type': 'Klasifikasi Bapepam', 'regulation_number': '36/PMK.010/2008', 'effective_date': '26 Februari 2008', 'file_url': 'https://www.ojk.go.id/id/regulasi/Documents/Pages/PMK-Nomor-36PMK.010-Tahun-2008-tentang-Besar-Santunan-dan-Sumbangan-Wajib-Dana-Kecelakaan-Lalu-Lintas-Jalan/menas13_1389258036.pdf', 'doc_id': '1718', 'page_number': '4', 'relevance_score': 0.97728425}, page_content='MENTERI KEUANGAN\\nREPUBLIK INDONESIA\\n-4-\\n Mobil penumpang angkutan umum sampai dengan 1600 cc\\ng. Bus dan mikro bus bukan angkutan umum sebesar Rp150.000,00\\n(seratus lima puluh ribu rupiah).\\nh. Bus dan.mikro bus angkutan umum, serta mobil penumpang\\nangkutan umum lainnya di atas 1600 cc sebesar Rp87.000,00\\n(delapan puluh tujuh ribu rupiah).\\nTruk, mobil tangki, mobil gandengan, mobil barang di atas 2400\\ncc, truk container dan sejenisnya sebesar Rp 160.000,00 (seratus\\n enam puluh ribu rupiah).\\nPasal 5\\nSetiap jenis kendaraan sebagaimana dimaksud dalam Pasal 4, dikenakan\\nbiaya\\n penggantian pembuatan\\n Kartu Dana/Sertifikat sebesar\\nRp 3.000,00 (tiga ribu rupiah).\\nPasal 6\\nTanda Nomor Kendaraan Bermotor sesuai dengan ketentuan\\nperaturan perundang-undangan yang berlaku.\\n2) Dalam hal pembayaran SWDKLLJ dilakukan setelah melewati batas\\n seharusnya dibayar dengan ketentuan denda yang dikenakan paling\\nbesar Rp100.000,00 (seratus ribu rupiah).'),\n",
       "  Document(metadata={'id': 'doc:ojk:661f27d6f65e4a81b951c1c0162833e3', 'title': 'Peraturan Menteri Keuangan Nomor 36/PMK.010/2008 tentang Besar Santunan dan Sumbangan Wajib Dana Kecelakaan Lalu Lintas Jalan', 'sector': 'IKNB', 'subsector': 'Asuransi', 'regulation_type': 'Klasifikasi Bapepam', 'regulation_number': '36/PMK.010/2008', 'effective_date': '26 Februari 2008', 'file_url': 'https://www.ojk.go.id/id/regulasi/Documents/Pages/PMK-Nomor-36PMK.010-Tahun-2008-tentang-Besar-Santunan-dan-Sumbangan-Wajib-Dana-Kecelakaan-Lalu-Lintas-Jalan/menas13_1389258036.pdf', 'doc_id': '1718', 'page_number': '3', 'relevance_score': 0.9729338}, page_content='MENTERI KEUANGAN\\nREPUBLIK INDONESIA\\nmemperoleh santunan sebesar Rp 25.000.000,00 (dua puluh lima\\njuta rupiah).\\nb. Korban yang mengalami cacat tetap berhak memperoleh\\nsantunan yang besarnya dihitung berdasarkan angka prosentase\\n Korban yang memerlukan perawatan dan pengobatan berhak\\nrupiah).\\nPasal 3\\nDalam hal korban meninggal dunia akibat kecelakaan alat angkutan\\nlalu lintas jalan tidak mempunyai ahli waris, kepada pihak yang\\nmenyelenggarakan\\ndiberikan\\npenggantian\\nbiaya\\nPasal 4\\n(2) Besar SWDKLLJ sebagaimana dimaksud pada ayat (1) ditentukan\\nsebagai berikut:\\nSepeda motor di bawah 50 cc, mobil ambulance, mobil jenazah\\na.\\ndan mobil pemadam kebakaran dibebaskan dari kewajiban\\nmembayar SWDKLLJ.\\nb. Traktor, buidozer, forklift, mobil derek, excavator, crane dan\\nsejenisnya sebesar Rp 20.000,00 (dua puluh ribu rupiah):\\n Sepeda motor, sepeda kumbang dan scooter di atas 50 cc sampai\\n250 cc dan kendaraan bermotor roda tiga sebesar Rp 32.000,00\\n(tiga puluh dua ribu rupiah).\\nd.'),\n",
       "  Document(metadata={'id': 'doc:ojk:a0f062388a8d4c5e983cbecc2652a289', 'title': 'Peraturan Menteri Keuangan Nomor 36/PMK.010/2008 tentang Besar Santunan dan Sumbangan Wajib Dana Kecelakaan Lalu Lintas Jalan', 'sector': 'IKNB', 'subsector': 'Asuransi', 'regulation_type': 'Klasifikasi Bapepam', 'regulation_number': '36/PMK.010/2008', 'effective_date': '26 Februari 2008', 'file_url': 'https://www.ojk.go.id/id/regulasi/Documents/Pages/PMK-Nomor-36PMK.010-Tahun-2008-tentang-Besar-Santunan-dan-Sumbangan-Wajib-Dana-Kecelakaan-Lalu-Lintas-Jalan/menas13_1389258036.pdf', 'doc_id': '1718', 'page_number': '4', 'relevance_score': 0.936285}, page_content='2) Dalam hal pembayaran SWDKLLJ dilakukan setelah melewati batas\\n seharusnya dibayar dengan ketentuan denda yang dikenakan paling\\nbesar Rp100.000,00 (seratus ribu rupiah).\\n(3) Dalam hal ketentuan mengenai batas waktu sebagaimana dimaksud\\ngeografis daerah setempat, Direksi perusahaan yang ditunjuk untuk\\nmenyelenggarakan Dana Kecelakaan Lalu Lintas Jalan diberi\\nbesarnya denda SWDKLLJ, dengan ketentuan batas waktu dimaksud\\npaling lama 15 (lima belas) hari kerja.'),\n",
       "  Document(metadata={'id': 'doc:ojk:578bacbcf3f94862a9aa5734b1d7add2', 'title': 'Peraturan BAPEPAM tentang Referensi Unsur Premi Murni serta Unsur Biaya Administrasi dan Biaya Umum Lainnya pada Lini Usaha Asuransi Kendaraan Bermotor Tahun 2011', 'sector': 'IKNB', 'subsector': 'Asuransi', 'regulation_type': 'Peraturan Bapepam', 'regulation_number': 'PER-04/BL/2011', 'effective_date': '18 Maret 2011', 'file_url': 'https://www.ojk.go.id/id/regulasi/Documents/Pages/Peraturan-BAPEPAM-tentang-Referensi-Unsur-Premi-Murni-serta-Unsur-Biaya-Administrasi-dan-Biaya-Umum-Lainnya/BAPEPAM%20PER-04BL2011.pdf', 'doc_id': '1612', 'page_number': '4', 'relevance_score': 0.004556114}, page_content='berumur sampai dengan 3 (tiga) tahun. Untuk kendaraan berumur lebih dari    \\n3 (tiga) tahun, harus dikenakan premi tambahan yang wajar. \\n2. Untuk perluasan Strike, Riot, Civil Commotion (SRCC), Flood, Earthquake, dan \\nThird Party Liability (TPL) harus dikenakan premi tambahan. \\n3. Unsur premi murni di atas merupakan persentase dari uang pertanggungan. \\n4. Deductible minimum sebesar Rp200.000,00 (dua ratus ribu rupiah). \\n5. Premi murni paling sedikit 50% (lima puluh per seratus) dari premi bruto.'),\n",
       "  Document(metadata={'id': 'doc:ojk:82cd726696b040338936f61f1cc8b118', 'title': 'SEOJK tentang Besaran Uang Muka (Down Payment/Urbun) Pembiayaan Kendaraan Bermotor untuk Pembiayaan Syariah', 'sector': 'IKNB,  Syariah', 'subsector': 'IKNB Syariah,  Lembaga Pembiayaan', 'regulation_type': 'Surat Edaran OJK', 'regulation_number': '48/SEOJK.05/2016', 'effective_date': '13 Desember 2016', 'file_url': 'https://www.ojk.go.id/id/regulasi/Documents/Pages/SEOJK-tentang-Besaran-Uang-Muka-(Down-Payment-atau-Urbun)-Pembiayaan-Kendaraan-Bermotor-untuk-Pembiayaan-Syariah/SEOJK%20DP%20Pembiayan%20Syariah.pdf', 'doc_id': '1097', 'page_number': '6', 'relevance_score': 0.0010403185}, page_content='penjaminan, fidusia, notaris, atau biaya lainnya. \\nContoh 1 (Biaya asuransi, penjaminan, atau biaya lainnya yang \\ndibayar tunai oleh Konsumen): \\nHarga kendaraan: Rp10.000.000,00 \\nPotongan harga (discount) dan potongan lainnya yang diberikan: \\nRp500.000,00 \\nBiaya asuransi, penjaminan, atau biaya lainnya yang dibayarkan oleh \\nKonsumen secara tunai: Rp1.000.000,00 \\nHarga \\njual \\nkendaraan: \\nRp10.000.000,00 \\n– \\nRp500.000,00 \\n= \\nRp9.500.000,00 \\nBagi Perusahaan Pembiayaan yang memenuhi kriteria sebagaimana \\ndimaksud dalam angka romawi II butir 3, Uang Muka (Down \\nPayment/Urbun) Pembiayaan Kendaraan Bermotor yang harus \\ndikenakan dan dibayar tunai sekaligus adalah 10%  x Rp9.500.000,00 \\n= Rp950.000,00'),\n",
       "  Document(metadata={'id': 'doc:ojk:d016bf74357a4bb5b3675962b8d19b7e', 'title': 'SEOJK tentang Besaran Uang Muka (Down Payment) Pembiayaan Kendaraan Bermotor bagi Perusahaan Pembiayaan', 'sector': 'IKNB', 'subsector': 'Lembaga Pembiayaan,  Lembaga Jasa Keuangan Khusus,  Lembaga Keuangan Mikro', 'regulation_type': 'Surat Edaran OJK', 'regulation_number': '19/SEOJK.05/2015', 'effective_date': '30 Juni 2015', 'file_url': 'https://www.ojk.go.id/id/regulasi/Documents/Pages/SEOJK-tentang-Besaran-Uang-Muka-(Down-Payment)-Pembiayaan-Kendaraan-Bermotor-bagi-Perusahaan-Pembiayaan/SEOJK-nomor-19-seojk-05-2015.pdf', 'doc_id': '1351', 'page_number': '6', 'relevance_score': 0.0003125878}, page_content=\"metadata={'doc_id': 1351, 'title': 'SEOJK tentang Besaran Uang Muka (Down Payment) Pembiayaan Kendaraan Bermotor bagi Perusahaan Pembiayaan', 'sector': 'IKNB', 'subsector': 'Lembaga Pembiayaan,  Lembaga Jasa Keuangan Khusus,  Lembaga Keuangan Mikro', 'regulation_type': 'Surat Edaran OJK', 'regulation_number': '19/SEOJK.05/2015', 'effective_date': '30 Juni 2015', 'file_url': 'https://www.ojk.go.id/id/regulasi/Documents/Pages/SEOJK-tentang-Besaran-Uang-Muka-(Down-Payment)-Pembiayaan-Kendaraan-Bermotor-bagi-Perusahaan-Pembiayaan/SEOJK-nomor-19-seojk-05-2015.pdf', 'page_number': 6}\\n- 6 - \\n \\n \\nharga \\njual \\nkendaraan \\n(Rp9.500.000,00) \\n– \\nuang \\nmuka \\n(Rp1.425.000,00) = Rp8.075.000,00 \\nContoh 2 (biaya asuransi, penjaminan, atau biaya lainnya tidak \\ndibayar tunai (angsuran) oleh Debitur):  \\nHarga motor: Rp10.000.000,00  \\nPotongan harga (discount) dan potongan lainnya yang diberikan: \\nRp500.000,00 \\nBiaya asuransi, penjaminan, atau biaya lainnya: Rp1.000.000,00\")]}"
      ]
     },
     "execution_count": 18,
     "metadata": {},
     "output_type": "execute_result"
    }
   ],
   "source": [
    "from chain.rag_chain import get_response\n",
    "\n",
    "response = get_response(\n",
    "    chain=chain_history,\n",
    "    question=\"Kalau mobil?\",\n",
    "    user_id=USER_ID,\n",
    "    conversation_id=CONVERSATION_ID\n",
    ")\n",
    "\n",
    "response"
   ]
  },
  {
   "cell_type": "code",
   "execution_count": 15,
   "metadata": {},
   "outputs": [
    {
     "name": "stdout",
     "output_type": "stream",
     "text": [
      "Dana Tanahud adalah kumpulan dana yang berasal dari kontribusi tanahud, hasil investasi dana tanahud, qardh dari Perusahaan kepada dana tanahud, dan/atau dana tanahud dari reasuradur, yang penggunaannya sesuai dengan perjanjian anuitas syariah untuk program pensiun atau perjanjian reasuransi syariah atas anuitas syariah untuk program pensiun.\n",
      "\n",
      "Source: [POJK tentang Penyelenggaraan Usaha Perusahaan Asuransi, Perusahaan Asuransi Syariah, Perusahaan Reasuransi, dan Perusahaan Reasuransi Syariah](https://www.ojk.go.id/id/regulasi/Documents/Pages/POJK-tentang--Penyelenggaraan-Usaha-Perusahaan-Asuransi,-Asuransi-Syariah,-Reasuransi,-dan-Reasuransi-Syariah/pojk%2069-2016.pdf#page=7)\n"
     ]
    }
   ],
   "source": [
    "print(response['answer'])\n"
   ]
  },
  {
   "cell_type": "code",
   "execution_count": 16,
   "metadata": {},
   "outputs": [
    {
     "name": "stdout",
     "output_type": "stream",
     "text": [
      "[\n",
      "  {\n",
      "    \"metadata\": {\n",
      "      \"id\": \"doc:ojk:35dce9bb283f49048c149b24356c12e0\",\n",
      "      \"title\": \"POJK tentang Penyelenggaraan Usaha Perusahaan Asuransi, Perusahaan Asuransi Syariah, Perusahaan Reasuransi, dan Perusahaan Reasuransi Syariah\",\n",
      "      \"sector\": \"IKNB,  Syariah\",\n",
      "      \"subsector\": \"IKNB Syariah,  Asuransi\",\n",
      "      \"regulation_type\": \"Peraturan OJK\",\n",
      "      \"regulation_number\": \"69/POJK.05/2016\",\n",
      "      \"effective_date\": \"28 Desember 2016\",\n",
      "      \"file_url\": \"https://www.ojk.go.id/id/regulasi/Documents/Pages/POJK-tentang--Penyelenggaraan-Usaha-Perusahaan-Asuransi,-Asuransi-Syariah,-Reasuransi,-dan-Reasuransi-Syariah/pojk%2069-2016.pdf\",\n",
      "      \"doc_id\": \"1060\",\n",
      "      \"page_number\": \"7\",\n",
      "      \"relevance_score\": 0.9914557\n",
      "    },\n",
      "    \"page_content\": \"Asuransi Syariah dan memenuhi persyaratan untuk \\nmewakili Perusahaan Asuransi atau Perusahaan \\nAsuransi Syariah memasarkan produk asuransi atau \\nproduk asuransi syariah sebagaimana dimaksud \\ndalam Undang-Undang Nomor 40 Tahun 2014 tentang \\nPerasuransian. \\n26. Dana Tabarru\\u2019 adalah kumpulan dana yang berasal \\ndari \\nkontribusi \\npara \\npeserta, \\nyang \\nmekanisme \\npenggunaannya sesuai dengan perjanjian asuransi \\nsyariah \\natau \\nperjanjian \\nreasuransi \\nsyariah \\nsebagaimana dimaksud dalam Undang-Undang Nomor \\n40 Tahun 2014 tentang Perasuransian. \\n27. Dana Tanahud adalah kumpulan dana yang berasal \\ndari kontribusi tanahud, hasil investasi dana tanahud, \\nqardh \\ndari \\nPerusahaan \\nkepada \\ndana \\ntanahud, \\ndan/atau \\ndana \\ntanahud \\ndari \\nreasuradur, \\nyang \\npenggunaannya sesuai dengan perjanjian anuitas \\nsyariah untuk program pensiun atau perjanjian \\nreasuransi \\nsyariah \\natas \\nanuitas \\nsyariah \\nuntuk \\nprogram pensiun. \\n28. Akad Hibah Tanahud adalah akad hibah sejumlah\"\n",
      "  },\n",
      "  {\n",
      "    \"metadata\": {\n",
      "      \"id\": \"doc:ojk:9753b165cefe4545bd316da934499efb\",\n",
      "      \"title\": \"Perubahan Kedua Atas Peraturan Otoritas Jasa Keuangan Nomor 72/POJK.05/2016 Tentang Kesehatan Keuangan Perusahaan Asuransi dan Perusahaan Reasuransi Dengan Prinsip Syariah\",\n",
      "      \"sector\": \"IKNB\",\n",
      "      \"subsector\": \"IKNB Syariah\",\n",
      "      \"regulation_type\": \"Peraturan OJK\",\n",
      "      \"regulation_number\": \"6 TAHUN 2023\",\n",
      "      \"effective_date\": \"6 April 2023\",\n",
      "      \"file_url\": \"https://www.ojk.go.id/id/regulasi/Documents/Pages/Kesehatan-Keuangan-Perusahaan-Asuransi-dan-Perusahaan-Reasuransi-Dengan-Prinsip-Syariah/POJK%20Nomor%206%20Tahun%202023.pdf\",\n",
      "      \"doc_id\": \"166\",\n",
      "      \"page_number\": \"5\",\n",
      "      \"relevance_score\": 0.98347044\n",
      "    },\n",
      "    \"page_content\": \"tanahud, dan/atau dana tanahud dari reasuradur, \\nyang penggunaannya sesuai dengan akad hibah dana \\ntanahud. \\n16. Dana Perusahaan adalah kumpulan dana yang \\ndikelola Perusahaan, selain Dana Tabarru\\u2019, Dana \\nTanahud, dan dana investasi peserta. \\n17. Dana Investasi Peserta adalah dana investasi yang \\nberasal dari kontribusi pemegang polis atau peserta \\npada produk asuransi syariah yang memberikan \\nmanfaat berupa pembayaran dana yang besarnya \\ndidasarkan pada hasil pengelolaan dana. \\n18. Aset \\nYang \\nDiperkenankan \\nadalah \\naset \\nyang \\ndiperhitungkan \\ndalam \\nperhitungan \\ntingkat \\nsolvabilitas. \\n19. Qardh adalah pinjaman dari Dana Perusahaan \\nkepada Dana Tabarru\\u2019 dan/atau Dana Tanahud \\ndalam rangka menanggulangi ketidakcukupan aset \\nDana Tabarru\\u2019 dan/atau Dana Tanahud untuk \\nmembayar \\nsantunan/klaim/manfaat \\nkepada \\npemegang polis atau peserta. \\n20. Aset Yang Tersedia Untuk Qardh adalah bagian dari \\nAset Yang Diperkenankan dari Dana Perusahaan \\nyang disediakan untuk memberi Qardh kepada Dana\"\n",
      "  },\n",
      "  {\n",
      "    \"metadata\": {\n",
      "      \"id\": \"doc:ojk:59b9c9a6624f4ab7b747495797e8a9fe\",\n",
      "      \"title\": \"Pedoman Pembentukan Penyisihan Teknis bagi Perusahaan Asuransi dan Perusahaan Reasuransi dengan Prinsip Syariah\",\n",
      "      \"sector\": \"IKNB\",\n",
      "      \"subsector\": \"IKNB Syariah,  Asuransi\",\n",
      "      \"regulation_type\": \"Surat Edaran OJK\",\n",
      "      \"regulation_number\": \"28/SEOJK.05/2017\",\n",
      "      \"effective_date\": \"13 Juni 2017\",\n",
      "      \"file_url\": \"https://www.ojk.go.id/id/regulasi/Documents/Pages/SEOJK-Pedoman-Pembentukan-Penyisihan-Teknis-bagi-Perusahaan-Asuransi-dan-Perusahaan-Reasuransi-dengan-Prinsip-Syariah/seojk%2028-2017.pdf\",\n",
      "      \"doc_id\": \"981\",\n",
      "      \"page_number\": \"2\",\n",
      "      \"relevance_score\": 0.97923523\n",
      "    },\n",
      "    \"page_content\": \"syariah atas risiko yang dihadapi oleh Perusahaan Asuransi \\nSyariah, \\nperusahaan \\npenjaminan \\nsyariah, \\natau \\nPerusahaan \\nReasuransi \\nSyariah \\nlainnya, \\ntermasuk \\nUnit \\nSyariah \\ndari \\nperusahaan reasuransi. \\n7\\n. \\nDana Tabarru\\u2019 adalah kumpulan dana yang berasal dari kontribusi \\npara pemegang polis atau peserta, yang mekanisme penggunaannya \\nsesuai \\ndengan \\nperjanjian \\nasuransi \\nsyariah \\natau \\nperjanjian \\nreasuransi syariah sebagaimana dimaksud dalam Undang-Undang \\nNomor 40 Tahun 2014 tentang Perasuransian. \\n8\\n. \\nDana Tanahud adalah kumpulan dana yang berasal dari kontribusi \\npara pemegang   polis   atau   peserta anuitas program pensiun \\nsyariah, qardh dari dana perusahaan, dan/atau Dana Tanahud dari \\nreasuransi atas produk anuitas program pensiun syariah, beserta \\nhasil investasinya, yang penggunaannya sesuai dengan perjanjian   \\nanuitas   syariah   untuk   program   pensiun atau perjanjian \\nreasuransi syariah atas anuitas syariah untuk program pensiun. \\n9\\n. \\nDana \\nPerusahaan \\nadalah\"\n",
      "  },\n",
      "  {\n",
      "    \"metadata\": {\n",
      "      \"id\": \"doc:ojk:d71206d08aa14611b521bc2244feabd6\",\n",
      "      \"title\": \"POJK tentang Kesehatan Keuangan Perusahaan Asuransi dan Perusahaan Reasuransi dengan Prinsip Syariah\",\n",
      "      \"sector\": \"IKNB,  Syariah\",\n",
      "      \"subsector\": \"IKNB Syariah,  Asuransi\",\n",
      "      \"regulation_type\": \"Peraturan OJK\",\n",
      "      \"regulation_number\": \"72/POJK.05/2016\",\n",
      "      \"effective_date\": \"28 Desember 2016\",\n",
      "      \"file_url\": \"https://www.ojk.go.id/id/regulasi/Documents/Pages/POJK-tentang-Kesehatan-Keuangan-Perusahaan-Asuransi-dan-Perusahaan-Reasuransi-dengan-Prinsip-Syariah/pojk%2072-2016.pdf\",\n",
      "      \"doc_id\": \"1057\",\n",
      "      \"page_number\": \"4\",\n",
      "      \"relevance_score\": 0.97724086\n",
      "    },\n",
      "    \"page_content\": \"13. Surplus \\nUnderwriting \\nadalah \\nselisih \\nlebih \\ntotal \\nkontribusi pemegang polis atau peserta ke dalam dana \\ntabarru\\u2019 ditambah total recovery klaim dari reasuradur \\ndikurangi \\npembayaran \\nsantunan/klaim/manfaat, \\nkontribusi reasuransi, dan kenaikan penyisihan teknis, \\ndalam satu periode tertentu. \\n14. Dana Tabarru\\u2019 adalah kumpulan dana yang berasal \\ndari kontribusi para pemegang polis atau peserta, yang \\nmekanisme penggunaannya sesuai dengan perjanjian \\nasuransi syariah atau perjanjian reasuransi syariah \\nsebagaimana dimaksud dalam Undang-Undang Nomor \\n40 Tahun 2014 tentang Perasuransian. \\n15. Dana Tanahud adalah kumpulan dana yang berasal \\ndari kontribusi para pemegang polis atau peserta \\nanuitas program pensiun syariah, qardh dari dana \\nperusahaan, dan/atau Dana Tanahud dari reasuransi \\natas produk anuitas program pensiun syariah, beserta \\nhasil investasinya, yang penggunaannya sesuai dengan \\nperjanjian anuitas syariah untuk program pensiun\"\n",
      "  },\n",
      "  {\n",
      "    \"metadata\": {\n",
      "      \"id\": \"doc:ojk:b718bb30240a46a28625bab14f6cddce\",\n",
      "      \"title\": \"Bentuk dan Susunan Laporan Berkala Perusahaan Asuransi Syariah, Perusahaan Reasuransi Syariah, dan Unit Syariah\",\n",
      "      \"sector\": \"IKNB\",\n",
      "      \"subsector\": \"IKNB Syariah,  Asuransi\",\n",
      "      \"regulation_type\": \"Surat Edaran OJK\",\n",
      "      \"regulation_number\": \"2/SEOJK.05/2018\",\n",
      "      \"effective_date\": \"24 Januari 2018\",\n",
      "      \"file_url\": \"https://www.ojk.go.id/id/regulasi/Documents/Pages/Bentuk-dan-Susunan-Laporan-Berkala-Perusahaan-Asuransi-Syariah,-Perusahaan-Reasuransi-Syariah,-dan-Unit-Syariah/SEOJK%202-2018.pdf\",\n",
      "      \"doc_id\": \"842\",\n",
      "      \"page_number\": \"109\",\n",
      "      \"relevance_score\": 0.7354517\n",
      "    },\n",
      "    \"page_content\": \"Dana Tanahud , Dana Perusahaan, dan Dana Investasi Peserta PT ....., maka dengan ini Dewan\\nPengawas Syariah PT ..... menyatakan bahwa pengelolaan kekayaan dan kewajiban Dana Tabarru',  \\nDana Tanahud, Dana Perusahaan , dan Dana Investasi Peserta telah dilakukan sesuai prinsip Syariah\\nIslam.\\n-102-\"\n",
      "  },\n",
      "  {\n",
      "    \"metadata\": {\n",
      "      \"id\": \"doc:ojk:7698037e7d634bdd9bb7fb77155742a7\",\n",
      "      \"title\": \"POJK tentang Kesehatan Keuangan Perusahaan Asuransi dan Perusahaan Reasuransi dengan Prinsip Syariah\",\n",
      "      \"sector\": \"IKNB,  Syariah\",\n",
      "      \"subsector\": \"IKNB Syariah,  Asuransi\",\n",
      "      \"regulation_type\": \"Peraturan OJK\",\n",
      "      \"regulation_number\": \"72/POJK.05/2016\",\n",
      "      \"effective_date\": \"28 Desember 2016\",\n",
      "      \"file_url\": \"https://www.ojk.go.id/id/regulasi/Documents/Pages/POJK-tentang-Kesehatan-Keuangan-Perusahaan-Asuransi-dan-Perusahaan-Reasuransi-dengan-Prinsip-Syariah/pojk%2072-2016.pdf\",\n",
      "      \"doc_id\": \"1057\",\n",
      "      \"page_number\": \"37\",\n",
      "      \"relevance_score\": 0.22236222\n",
      "    },\n",
      "    \"page_content\": \"Dana Tabarru\\u2019 dan Dana Tanahud yang dapat terjadi \\ndi masa yang akan datang dengan menggunakan \\nasumsi estimasi sentral ditambah dengan marjin \\nrisiko. \\n(3) \\nPembentukan penyisihan atas kontribusi tabarru\\u2019 \\nyang \\nbelum \\nmerupakan \\npendapatan \\natau \\nhak \\nsebagaimana dimaksud pada ayat (1) huruf b wajib \\ndihitung berdasarkan kontribusi tabarru\\u2019 dengan \\nmemperhitungkan penyisihan atas seluruh risiko yang \\nbelum dijalani (unexpired risk reserve).\"\n",
      "  }\n",
      "]\n"
     ]
    }
   ],
   "source": [
    "print(response['context'])"
   ]
  },
  {
   "cell_type": "markdown",
   "metadata": {},
   "source": [
    "#### **Streaming**"
   ]
  },
  {
   "cell_type": "code",
   "execution_count": null,
   "metadata": {},
   "outputs": [
    {
     "name": "stdout",
     "output_type": "stream",
     "text": [
      "Saya minta maaf, tetapi pertanyaan yang Anda ajukan tidak terkait dengan konteks dan informasi metadata yang diberikan. Silakan ajukan pertanyaan lain yang terkait dengan kepatuhan perbankan di Indonesia."
     ]
    }
   ],
   "source": [
    "# from chain.rag_chain import print_answer_stream\n",
    "\n",
    "# print_answer_stream(chain=chain_history, question=\"Siapa itu lionel messi?\", user_id=USER_ID, conversation_id=CONVERSATION_ID)"
   ]
  }
 ],
 "metadata": {
  "kernelspec": {
   "display_name": "chatbot-all",
   "language": "python",
   "name": "python3"
  },
  "language_info": {
   "codemirror_mode": {
    "name": "ipython",
    "version": 3
   },
   "file_extension": ".py",
   "mimetype": "text/x-python",
   "name": "python",
   "nbconvert_exporter": "python",
   "pygments_lexer": "ipython3",
   "version": "3.9.19"
  }
 },
 "nbformat": 4,
 "nbformat_minor": 2
}

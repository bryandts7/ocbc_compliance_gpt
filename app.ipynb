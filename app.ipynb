{
 "cells": [
  {
   "cell_type": "markdown",
   "metadata": {},
   "source": [
    "# **Compliance GPT with LangChain**"
   ]
  },
  {
   "cell_type": "markdown",
   "metadata": {},
   "source": [
    "## **Setup**"
   ]
  },
  {
   "cell_type": "code",
   "execution_count": 1,
   "metadata": {},
   "outputs": [],
   "source": [
    "# import nest_asyncio\n",
    "# nest_asyncio.apply()\n",
    "\n",
    "import warnings\n",
    "warnings.filterwarnings(\"ignore\")"
   ]
  },
  {
   "cell_type": "markdown",
   "metadata": {},
   "source": [
    "## **Config**"
   ]
  },
  {
   "cell_type": "code",
   "execution_count": 2,
   "metadata": {},
   "outputs": [],
   "source": [
    "from utils.config import get_config\n",
    "\n",
    "config = get_config()"
   ]
  },
  {
   "cell_type": "code",
   "execution_count": 3,
   "metadata": {},
   "outputs": [],
   "source": [
    "USER_ID = 'xmriz'\n",
    "CONVERSATION_ID = 'conv_1'"
   ]
  },
  {
   "cell_type": "markdown",
   "metadata": {},
   "source": [
    "## **Define Model**"
   ]
  },
  {
   "cell_type": "code",
   "execution_count": 4,
   "metadata": {},
   "outputs": [],
   "source": [
    "from utils.models import ModelName, LLMModelName, EmbeddingModelName, get_model\n",
    "\n",
    "model_name = ModelName.AZURE_OPENAI\n",
    "llm_model, embed_model = get_model(model_name=model_name, config=config, llm_model_name=LLMModelName.GPT_35_TURBO, embedding_model_name=EmbeddingModelName.EMBEDDING_3_SMALL)"
   ]
  },
  {
   "cell_type": "markdown",
   "metadata": {},
   "source": [
    "## **Load Vector Store Index**"
   ]
  },
  {
   "cell_type": "code",
   "execution_count": 5,
   "metadata": {},
   "outputs": [
    {
     "name": "stderr",
     "output_type": "stream",
     "text": [
      "c:\\Users\\acer\\miniconda3\\envs\\chatbot-ocbc-new\\lib\\site-packages\\langchain_core\\_api\\deprecation.py:139: LangChainPendingDeprecationWarning: The class `ElasticsearchStore` will be deprecated in a future version. Use Use class in langchain-elasticsearch package instead.\n",
      "  warn_deprecated(\n"
     ]
    },
    {
     "name": "stdout",
     "output_type": "stream",
     "text": [
      "Loaded index 'bi'.\n",
      "Loaded index 'ojk'.\n",
      "Loaded index 'sikepo-rekam-jejak'.\n",
      "Loaded index 'sikepo-ketentuan-terkait'.\n"
     ]
    }
   ],
   "source": [
    "from database.vector_store.vector_store import RedisIndexManager, PineconeIndexManager, PostgresIndexManager, ElasticIndexManager\n",
    "\n",
    "es_bi = ElasticIndexManager(index_name='bi', embed_model=embed_model, config=config)\n",
    "vector_store_bi = es_bi.load_vector_index()\n",
    "\n",
    "es_ojk = ElasticIndexManager(index_name='ojk', embed_model=embed_model, config=config)\n",
    "vector_store_ojk = es_ojk.load_vector_index()\n",
    "\n",
    "es_ket = ElasticIndexManager(index_name='sikepo-rekam-jejak', embed_model=embed_model, config=config)\n",
    "vector_store_ket = es_ket.load_vector_index()\n",
    "\n",
    "es_rek = ElasticIndexManager(index_name='sikepo-ketentuan-terkait', embed_model=embed_model, config=config)\n",
    "vector_store_rek = es_rek.load_vector_index()\n",
    "\n",
    "# postgres_bi = PostgresIndexManager(index_name='bi', embed_model=embed_model, config=config)\n",
    "# vector_store_bi = postgres_bi.load_vector_index()\n",
    "\n",
    "# postgres_ojk = PostgresIndexManager(index_name='ojk', embed_model=embed_model, config=config)\n",
    "# vector_store_ojk = postgres_ojk.load_vector_index()\n",
    "\n",
    "# postgres_ket = PostgresIndexManager(index_name='ketentuan-terkait', embed_model=embed_model, config=config)\n",
    "# vector_store_ket = postgres_ket.load_vector_index()\n",
    "\n",
    "# postgres_rek = PostgresIndexManager(index_name='rekam-jejak', embed_model=embed_model, config=config)\n",
    "# vector_store_rek = postgres_rek.load_vector_index()\n",
    "\n",
    "# redis_bi = RedisIndexManager(index_name='bi', embed_model=embed_model, config=config, db_id=0)\n",
    "# vector_store_bi = redis_bi.load_vector_index()\n",
    "\n",
    "# redis_ojk = RedisIndexManager(index_name='ojk', embed_model=embed_model, config=config, db_id=0)\n",
    "# vector_store_ojk = redis_ojk.load_vector_index()\n",
    "\n",
    "# redis_sikepo_ket = RedisIndexManager(index_name='sikepo-ketentuan-terkait', embed_model=embed_model, config=config, db_id=0)\n",
    "# vector_store_ket = redis_sikepo_ket.load_vector_index()\n",
    "\n",
    "# redis_sikepo_rek = RedisIndexManager(index_name='sikepo-rekam-jejak', embed_model=embed_model, config=config, db_id=0)\n",
    "# vector_store_rek = redis_sikepo_rek.load_vector_index()\n",
    "\n",
    "# pinecone_ojk = PineconeIndexManager(index_name='ojk', embed_model=embed_model, config=config)\n",
    "# vector_store_ojk = pinecone_ojk.load_vector_index()\n",
    "\n",
    "# pinecone_bi = PineconeIndexManager(index_name='bi', embed_model=embed_model, config=config)\n",
    "# vector_store_bi = pinecone_bi.load_vector_index()\n",
    "\n",
    "# pinecone_ket = PineconeIndexManager(index_name='ketentuan-terkait', embed_model=embed_model, config=config)\n",
    "# vector_store_ket = pinecone_ket.load_vector_index()\n",
    "\n",
    "# pinecone_rek = PineconeIndexManager(index_name='rekam-jejak', embed_model=embed_model, config=config)\n",
    "# vector_store_rek = pinecone_rek.load_vector_index()"
   ]
  },
  {
   "cell_type": "code",
   "execution_count": 6,
   "metadata": {},
   "outputs": [],
   "source": [
    "from database.vector_store.neo4j_graph_store import Neo4jGraphStore\n",
    "\n",
    "neo4j_sikepo = Neo4jGraphStore(config=config)\n",
    "graph = neo4j_sikepo.get_graph()"
   ]
  },
  {
   "cell_type": "markdown",
   "metadata": {},
   "source": [
    "## **Get Retriever**"
   ]
  },
  {
   "cell_type": "code",
   "execution_count": 7,
   "metadata": {},
   "outputs": [],
   "source": [
    "from retriever.retriever_ojk.retriever_ojk import get_retriever_ojk\n",
    "from retriever.retriever_bi.retriever_bi import get_retriever_bi\n",
    "from retriever.retriever_sikepo.lotr_sikepo import lotr_sikepo\n",
    "\n",
    "top_n = 5\n",
    "\n",
    "retriever_ojk = get_retriever_ojk(vector_store=vector_store_ojk, top_n=top_n,\n",
    "                                  llm_model=llm_model, embed_model=embed_model, config=config)\n",
    "retriever_bi = get_retriever_bi(vector_store=vector_store_bi, top_n=top_n,\n",
    "                                llm_model=llm_model, embed_model=embed_model, config=config)\n",
    "retriever_sikepo_ket = lotr_sikepo(vector_store=vector_store_ket, top_n=top_n,\n",
    "                                   llm_model=llm_model, embed_model=embed_model, config=config)\n",
    "retriever_sikepo_rek = lotr_sikepo(vector_store=vector_store_rek, top_n=top_n,\n",
    "                                   llm_model=llm_model, embed_model=embed_model, config=config)"
   ]
  },
  {
   "cell_type": "code",
   "execution_count": 8,
   "metadata": {},
   "outputs": [],
   "source": [
    "# retriever_bi.invoke(\"What is the maximum transaction of QRIS?\")"
   ]
  },
  {
   "cell_type": "markdown",
   "metadata": {},
   "source": [
    "## **Create Chain**"
   ]
  },
  {
   "cell_type": "code",
   "execution_count": 9,
   "metadata": {},
   "outputs": [],
   "source": [
    "from database.chat_store import ElasticChatStore\n",
    "\n",
    "chat_store = ElasticChatStore(config=config, k=3)\n",
    "# chat_store = PostgresChatStore(config=config, k=3)\n",
    "# chat_store = RedisChatStore(k=3, config=config, db_id=1)\n",
    "# chat_store = MongoDBChatStore(config=config, k=4)"
   ]
  },
  {
   "cell_type": "code",
   "execution_count": 10,
   "metadata": {},
   "outputs": [],
   "source": [
    "from chain.rag_chain import create_chain_with_chat_history, create_sequential_chain\n",
    "from chain.chain_sikepo.graph_cypher_sikepo_chain import graph_rag_chain\n",
    "\n",
    "graph_chain = graph_rag_chain(llm_model, llm_model, graph=graph)\n",
    "\n",
    "chain = create_sequential_chain(\n",
    "    llm_model=llm_model,\n",
    "    graph_chain=graph_chain,\n",
    "    retriever_ojk=retriever_ojk,\n",
    "    retriever_bi=retriever_sikepo_ket,\n",
    "    retriever_sikepo_ketentuan=retriever_sikepo_ket,\n",
    "    retriever_sikepo_rekam=retriever_sikepo_rek,\n",
    ")\n",
    "\n",
    "chain_history = create_chain_with_chat_history(\n",
    "    final_chain=chain,\n",
    "    chat_store=chat_store,\n",
    ")"
   ]
  },
  {
   "cell_type": "markdown",
   "metadata": {},
   "source": [
    "## **Invoke**"
   ]
  },
  {
   "cell_type": "markdown",
   "metadata": {},
   "source": [
    "#### **Chat Store Monitor**"
   ]
  },
  {
   "cell_type": "code",
   "execution_count": 11,
   "metadata": {},
   "outputs": [],
   "source": [
    "# to print chat history\n",
    "# print(chat_store.get_session_history(user_id=USER_ID, conversation_id=CONVERSATION_ID))"
   ]
  },
  {
   "cell_type": "code",
   "execution_count": 12,
   "metadata": {},
   "outputs": [],
   "source": [
    "# chat_store.get_conversation_ids_by_user_id(user_id=USER_ID)"
   ]
  },
  {
   "cell_type": "code",
   "execution_count": 13,
   "metadata": {},
   "outputs": [],
   "source": [
    "# chat_store.get_conversation(user_id=USER_ID, conversation_id=CONVERSATION_ID)"
   ]
  },
  {
   "cell_type": "code",
   "execution_count": 18,
   "metadata": {},
   "outputs": [
    {
     "data": {
      "text/plain": [
       "[{'conversation_id': 'conv_1', 'title': 'Apa itu dana hibah?...'},\n",
       " {'conversation_id': 'conv_2', 'title': 'Apa itu dana tabarru?...'}]"
      ]
     },
     "execution_count": 18,
     "metadata": {},
     "output_type": "execute_result"
    }
   ],
   "source": [
    "chat_store.get_conversation_ids_by_user_id(user_id='xmriz')"
   ]
  },
  {
   "cell_type": "code",
   "execution_count": null,
   "metadata": {},
   "outputs": [],
   "source": [
    "# chat_store.clear_session_history_by_userid(user_id='budi')"
   ]
  },
  {
   "cell_type": "code",
   "execution_count": null,
   "metadata": {},
   "outputs": [],
   "source": [
    "# to make the chat history empty\n",
    "chat_store.clear_all()"
   ]
  },
  {
   "cell_type": "markdown",
   "metadata": {},
   "source": [
    "#### **With Question, Answer, and Context**"
   ]
  },
  {
   "cell_type": "code",
   "execution_count": 17,
   "metadata": {},
   "outputs": [
    {
     "data": {
      "text/plain": [
       "{'rewrited question': 'Apa itu dana tabarru?',\n",
       " 'answer': 'Dana tabarru adalah dana yang dikumpulkan oleh perusahaan asuransi syariah dari peserta atau pemegang polis untuk digunakan dalam membayar santunan atau klaim yang timbul akibat musibah sesuai dengan prinsip-prinsip syariah.\\n\\nSource: [10/SEOJK.05/2015](https://www.ojk.go.id/id/regulasi/Documents/Pages/SEOJK-tentang-Pedoman-Pembentukan-Penyisihan-Kontribusi-dan-Metode-Perhitungan-Penyisihan-Klaim-pada-Usaha-asuransi-Syariah/SEOJK%2010.%20%20Metode%20Perhitungan%20Penyisihan%20Klaim%20%20Asuransi%20Syariah.pdf#page=3)',\n",
       " 'context': [Document(metadata={'doc_id': 1365, 'title': 'SEOJK tentang Pedoman Pembentukan Penyisihan Kontribusi dan Metode Perhitungan Penyisihan Klaim pada Usaha asuransi Syariah atau Reasuransi Syariah', 'sector': 'IKNB', 'subsector': 'IKNB Syariah,  Asuransi', 'regulation_type': 'Surat Edaran OJK', 'regulation_number': '10/SEOJK.05/2015', 'effective_date': '2015/04/17', 'file_url': 'https://www.ojk.go.id/id/regulasi/Documents/Pages/SEOJK-tentang-Pedoman-Pembentukan-Penyisihan-Kontribusi-dan-Metode-Perhitungan-Penyisihan-Klaim-pada-Usaha-asuransi-Syariah/SEOJK%2010.%20%20Metode%20Perhitungan%20Penyisihan%20Klaim%20%20Asuransi%20Syariah.pdf', 'page_number': 3}, page_content='Tabarru’;  \\n2) pembayaran \\nbagi \\nhasil \\ninvestasi \\nDana \\nTabarru’ \\nkepada \\nPerusahaan dalam hal pengelolaan investasi Dana Tabarru’ \\nmenggunakan \\nakad \\nmudharabah \\natau \\nmudharabah \\nmusytarakah; dan  \\n \\n3) pembayaran Iuran Tabarru’ reasuransi.  \\n \\n \\n \\n \\n \\n2. Asumsi ...\\n\\nSource: [10/SEOJK.05/2015](https://www.ojk.go.id/id/regulasi/Documents/Pages/SEOJK-tentang-Pedoman-Pembentukan-Penyisihan-Kontribusi-dan-Metode-Perhitungan-Penyisihan-Klaim-pada-Usaha-asuransi-Syariah/SEOJK%2010.%20%20Metode%20Perhitungan%20Penyisihan%20Klaim%20%20Asuransi%20Syariah.pdf#page=3)'),\n",
       "  Document(metadata={'doc_id': 1365, 'title': 'SEOJK tentang Pedoman Pembentukan Penyisihan Kontribusi dan Metode Perhitungan Penyisihan Klaim pada Usaha asuransi Syariah atau Reasuransi Syariah', 'sector': 'IKNB', 'subsector': 'IKNB Syariah,  Asuransi', 'regulation_type': 'Surat Edaran OJK', 'regulation_number': '10/SEOJK.05/2015', 'effective_date': '2015/04/17', 'file_url': 'https://www.ojk.go.id/id/regulasi/Documents/Pages/SEOJK-tentang-Pedoman-Pembentukan-Penyisihan-Kontribusi-dan-Metode-Perhitungan-Penyisihan-Klaim-pada-Usaha-asuransi-Syariah/SEOJK%2010.%20%20Metode%20Perhitungan%20Penyisihan%20Klaim%20%20Asuransi%20Syariah.pdf', 'page_number': 3}, page_content='Tabarru’;  \\n2) pembayaran \\nbagi \\nhasil \\ninvestasi \\nDana \\nTabarru’ \\nkepada \\nPerusahaan dalam hal pengelolaan investasi Dana Tabarru’ \\nmenggunakan \\nakad \\nmudharabah \\natau \\nmudharabah \\nmusytarakah; dan  \\n \\n3) pembayaran Iuran Tabarru’ reasuransi.  \\n \\n \\n \\n \\n \\n2. Asumsi ...\\n\\nSource: [10/SEOJK.05/2015](https://www.ojk.go.id/id/regulasi/Documents/Pages/SEOJK-tentang-Pedoman-Pembentukan-Penyisihan-Kontribusi-dan-Metode-Perhitungan-Penyisihan-Klaim-pada-Usaha-asuransi-Syariah/SEOJK%2010.%20%20Metode%20Perhitungan%20Penyisihan%20Klaim%20%20Asuransi%20Syariah.pdf#page=3)'),\n",
       "  Document(metadata={'doc_id': 1365, 'title': 'SEOJK tentang Pedoman Pembentukan Penyisihan Kontribusi dan Metode Perhitungan Penyisihan Klaim pada Usaha asuransi Syariah atau Reasuransi Syariah', 'sector': 'IKNB', 'subsector': 'IKNB Syariah,  Asuransi', 'regulation_type': 'Surat Edaran OJK', 'regulation_number': '10/SEOJK.05/2015', 'effective_date': '2015/04/17', 'file_url': 'https://www.ojk.go.id/id/regulasi/Documents/Pages/SEOJK-tentang-Pedoman-Pembentukan-Penyisihan-Kontribusi-dan-Metode-Perhitungan-Penyisihan-Klaim-pada-Usaha-asuransi-Syariah/SEOJK%2010.%20%20Metode%20Perhitungan%20Penyisihan%20Klaim%20%20Asuransi%20Syariah.pdf', 'page_number': 3}, page_content='Tabarru’;  \\n2) pembayaran \\nbagi \\nhasil \\ninvestasi \\nDana \\nTabarru’ \\nkepada \\nPerusahaan dalam hal pengelolaan investasi Dana Tabarru’ \\nmenggunakan \\nakad \\nmudharabah \\natau \\nmudharabah \\nmusytarakah; dan  \\n \\n3) pembayaran Iuran Tabarru’ reasuransi.  \\n \\n \\n \\n \\n \\n2. Asumsi ...\\n\\nSource: [10/SEOJK.05/2015](https://www.ojk.go.id/id/regulasi/Documents/Pages/SEOJK-tentang-Pedoman-Pembentukan-Penyisihan-Kontribusi-dan-Metode-Perhitungan-Penyisihan-Klaim-pada-Usaha-asuransi-Syariah/SEOJK%2010.%20%20Metode%20Perhitungan%20Penyisihan%20Klaim%20%20Asuransi%20Syariah.pdf#page=3)'),\n",
       "  Document(metadata={'doc_id': 842, 'title': 'Bentuk dan Susunan Laporan Berkala Perusahaan Asuransi Syariah, Perusahaan Reasuransi Syariah, dan Unit Syariah', 'sector': 'IKNB', 'subsector': 'IKNB Syariah,  Asuransi', 'regulation_type': 'Surat Edaran OJK', 'regulation_number': '2/SEOJK.05/2018', 'effective_date': '2018/01/24', 'file_url': 'https://www.ojk.go.id/id/regulasi/Documents/Pages/Bentuk-dan-Susunan-Laporan-Berkala-Perusahaan-Asuransi-Syariah,-Perusahaan-Reasuransi-Syariah,-dan-Unit-Syariah/SEOJK%202-2018.pdf', 'page_number': 74}, page_content=\"DTUR-1\\n - \\n                                                                    \\n - \\n                                                                    \\n - \\n                                                                    \\n - \\n                                                                    \\n - \\n                                                                    \\n - \\n                                                                    \\n - \\n                                                                    \\n - \\n                                                                    \\nANALISIS DANA TABARRU\\nPERHITUNGAN LIABILITAS DANA TABARRU'\\nPer 31-Jan-1900\\n(dalam jutaan rupiah)\\nUraian\\nSaldo Buku Besar (SAK)\\nPenilaian Berdasarkan SAP\\nSelisih Penilaian SAK dan SAP\\nUtang\\n\\nSource: [2/SEOJK.05/2018](https://www.ojk.go.id/id/regulasi/Documents/Pages/Bentuk-dan-Susunan-Laporan-Berkala-Perusahaan-Asuransi-Syariah,-Perusahaan-Reasuransi-Syariah,-dan-Unit-Syariah/SEOJK%202-2018.pdf#page=74)\"),\n",
       "  Document(metadata={'doc_id': 1057, 'title': 'POJK tentang Kesehatan Keuangan Perusahaan Asuransi dan Perusahaan Reasuransi dengan Prinsip Syariah', 'sector': 'IKNB,  Syariah', 'subsector': 'IKNB Syariah,  Asuransi', 'regulation_type': 'Peraturan OJK', 'regulation_number': '72/POJK.05/2016', 'effective_date': '2016/12/28', 'file_url': 'https://www.ojk.go.id/id/regulasi/Documents/Pages/POJK-tentang-Kesehatan-Keuangan-Perusahaan-Asuransi-dan-Perusahaan-Reasuransi-dengan-Prinsip-Syariah/pojk%2072-2016.pdf', 'page_number': 8}, page_content='- 8 - \\n \\nTabarru’ harus dibukukan pada masing-masing Dana \\nTabarru’. \\n(2) \\nPerusahaan hanya dapat menggunakan Dana Tabarru’ \\nuntuk: \\na. \\npembayaran \\nsantunan/klaim/manfaat \\nkepada \\npemegang polis atau peserta yang mengalami \\nmusibah \\natau \\nPihak \\nlain \\nyang \\nberhak \\nberdasarkan polis asuransi syariah; \\nb. \\npembayaran \\nkontribusi \\ntabarru’ \\nkepada \\nreasuradur; \\nc. \\npembayaran kembali Qardh kepada Perusahaan;  \\nd. \\npengembalian Dana Tabarru’; dan/atau \\ne. \\nbiaya terkait pengelolaan aset Dana Tabarru’. \\n(3) \\nPengembalian Dana Tabarru’ sebagaimana dimaksud \\npada ayat (2) huruf d dapat dilakukan sebagai akibat \\ndari: \\na. \\npembatalan polis dalam tenggang waktu yang \\ndiperkenankan (freelook period); \\nb. \\npenghentian polis oleh pemegang polis atau \\npeserta sebelum masa asuransi berakhir; \\nc. \\npenghentian polis oleh Perusahaan sebelum masa \\nasuransi berakhir; dan/atau \\nd.\\n\\nSource: [72/POJK.05/2016](https://www.ojk.go.id/id/regulasi/Documents/Pages/POJK-tentang-Kesehatan-Keuangan-Perusahaan-Asuransi-dan-Perusahaan-Reasuransi-dengan-Prinsip-Syariah/pojk%2072-2016.pdf#page=8)'),\n",
       "  Document(metadata={'doc_id': 3102, 'title': 'Surat Edaran Bank Indonesia Nomor 7/9/DPNP', 'sector': None, 'subsector': None, 'regulation_type': None, 'regulation_number': '7/9/DPNP/2005', 'effective_date': '2005/03/31', 'file_url': 'https://www.ojk.go.id/Files/regulasi/perbankan/se-bi/2005/lamp_se_070905.zip', 'page_number': 44}, page_content='Adalah perjanjian antara penanam dana dan pengelola dana untuk \\nmelakukan kegiatan usaha tertentu, dengan pembagian keuntungan \\nantara kedua belah pihak berdasarkan nisbah yang telah disepakati \\nsebelumnya.. Yang  dilaporkan ke dalam jenis ini adalah mudharabah \\nmuthlaqah (investasi bebas penggunaan).  \\ni. Piutang murabahah \\nAdalah tagihan yang timbul dari transaksi perjanjian jual beli antara \\nbank dan nasabah di mana bank syariah membeli barang yang \\ndiperlukan oleh nasabah dan kemudian menjualnya kepada nasabah \\nyang bersangkutan sebesar harga perolehan ditambah dengan \\nmargin/keuntungan yang disepakati antara bank syariah dan nasabah.  \\nj. Piutang salam \\nAdalah tagihan yang timbul dari transaksi perjanjian jual beli barang \\ndengan \\ncara \\npemesanan \\ndengan \\nsyarat-syarat \\ntertentu \\ndan \\npembayaran harga terlebih dahulu. \\nk. Piutang istishna’\\n\\nSource: [7/9/DPNP/2005](https://www.ojk.go.id/Files/regulasi/perbankan/se-bi/2005/lamp_se_070905.zip#page=44)'),\n",
       "  Document(metadata={'doc_id': 166, 'title': 'Perubahan Kedua Atas Peraturan Otoritas Jasa Keuangan Nomor 72/POJK.05/2016 Tentang Kesehatan Keuangan Perusahaan Asuransi dan Perusahaan Reasuransi Dengan Prinsip Syariah', 'sector': 'IKNB', 'subsector': 'IKNB Syariah', 'regulation_type': 'Peraturan OJK', 'regulation_number': '6 TAHUN 2023', 'effective_date': '2023/04/06', 'file_url': 'https://www.ojk.go.id/id/regulasi/Documents/Pages/Kesehatan-Keuangan-Perusahaan-Asuransi-dan-Perusahaan-Reasuransi-Dengan-Prinsip-Syariah/POJK%20Nomor%206%20Tahun%202023.pdf', 'page_number': 84}, page_content=\"Tabarru' \\nDana \\nTanahud\\nPenyesuaian \\nGabungan \\nDana Investasi Peserta \\t\\nLaporan Kinerja Keuangan\\nBulan ... Tahun ....\\n            -                -                -                         -    \\n            -                -                -                    -                -                -    \\n                     -    \\n            -                -                -                    -    \\n            -                -                -                         -    \\n            -                -                -                    -                -                -                -                         -    \\n            -                -                -                    -    \\n            -                -                -                         -\\n\\nSource: [6 TAHUN 2023](https://www.ojk.go.id/id/regulasi/Documents/Pages/Kesehatan-Keuangan-Perusahaan-Asuransi-dan-Perusahaan-Reasuransi-Dengan-Prinsip-Syariah/POJK%20Nomor%206%20Tahun%202023.pdf#page=84)\"),\n",
       "  Document(metadata={'doc_id': 1365, 'title': 'SEOJK tentang Pedoman Pembentukan Penyisihan Kontribusi dan Metode Perhitungan Penyisihan Klaim pada Usaha asuransi Syariah atau Reasuransi Syariah', 'sector': 'IKNB', 'subsector': 'IKNB Syariah,  Asuransi', 'regulation_type': 'Surat Edaran OJK', 'regulation_number': '10/SEOJK.05/2015', 'effective_date': '2015/04/17', 'file_url': 'https://www.ojk.go.id/id/regulasi/Documents/Pages/SEOJK-tentang-Pedoman-Pembentukan-Penyisihan-Kontribusi-dan-Metode-Perhitungan-Penyisihan-Klaim-pada-Usaha-asuransi-Syariah/SEOJK%2010.%20%20Metode%20Perhitungan%20Penyisihan%20Klaim%20%20Asuransi%20Syariah.pdf', 'page_number': 3}, page_content='dan pengeluaran Dana Tabarru’ yang dapat terjadi di masa yang \\nakan datang dengan menggunakan asumsi estimasi sentral/asumsi \\nestimasi terbaik (best estimate) ditambah dengan marjin untuk risiko \\npemburukan \\n(margin \\nfor \\nadverse \\ndeviation), \\ndengan \\ntingkat \\nkeyakinan (confidence level) paling sedikit 75% (tujuh puluh lima \\npersen) pada level Perusahaan.  \\n \\nb. Penerimaan sebagaimana dimaksud pada huruf a meliputi:  \\n \\n1) Iuran Tabarru’; dan  \\n \\n2) pembayaran klaim reasuransi yang diterima dari reasuradur \\n(claim recovery).  \\n \\nc. Pengeluaran sebagaimana dimaksud pada huruf a meliputi:  \\n \\n1) seluruh pembayaran atau penggantian yang dijanjikan akan \\ndibayarkan kepada peserta atau penerima manfaat dari Dana  \\nTabarru’;  \\n2) pembayaran \\nbagi \\nhasil \\ninvestasi \\nDana \\nTabarru’ \\nkepada \\nPerusahaan dalam hal pengelolaan investasi Dana Tabarru’ \\nmenggunakan \\nakad \\nmudharabah \\natau\\n\\nSource: [10/SEOJK.05/2015](https://www.ojk.go.id/id/regulasi/Documents/Pages/SEOJK-tentang-Pedoman-Pembentukan-Penyisihan-Kontribusi-dan-Metode-Perhitungan-Penyisihan-Klaim-pada-Usaha-asuransi-Syariah/SEOJK%2010.%20%20Metode%20Perhitungan%20Penyisihan%20Klaim%20%20Asuransi%20Syariah.pdf#page=3)'),\n",
       "  Document(metadata={'doc_id': 842, 'title': 'Bentuk dan Susunan Laporan Berkala Perusahaan Asuransi Syariah, Perusahaan Reasuransi Syariah, dan Unit Syariah', 'sector': 'IKNB', 'subsector': 'IKNB Syariah,  Asuransi', 'regulation_type': 'Surat Edaran OJK', 'regulation_number': '2/SEOJK.05/2018', 'effective_date': '2018/01/24', 'file_url': 'https://www.ojk.go.id/id/regulasi/Documents/Pages/Bentuk-dan-Susunan-Laporan-Berkala-Perusahaan-Asuransi-Syariah,-Perusahaan-Reasuransi-Syariah,-dan-Unit-Syariah/SEOJK%202-2018.pdf', 'page_number': 74}, page_content=\"DTUR-1\\n - \\n                                                                    \\n - \\n                                                                    \\n - \\n                                                                    \\n - \\n                                                                    \\n - \\n                                                                    \\n - \\n                                                                    \\n - \\n                                                                    \\n - \\n                                                                    \\nANALISIS DANA TABARRU\\nPERHITUNGAN LIABILITAS DANA TABARRU'\\nPer 31-Jan-1900\\n(dalam jutaan rupiah)\\nUraian\\nSaldo Buku Besar (SAK)\\nPenilaian Berdasarkan SAP\\nSelisih Penilaian SAK dan SAP\\nUtang\\n\\nSource: [2/SEOJK.05/2018](https://www.ojk.go.id/id/regulasi/Documents/Pages/Bentuk-dan-Susunan-Laporan-Berkala-Perusahaan-Asuransi-Syariah,-Perusahaan-Reasuransi-Syariah,-dan-Unit-Syariah/SEOJK%202-2018.pdf#page=74)\"),\n",
       "  Document(metadata={'doc_id': 434, 'title': 'Bentuk dan Susunan Laporan Berkala Perusahaan Asuransi Syariah, Perusahaan Reasuransi Syariah, dan Unit Syariah', 'sector': 'IKNB,  Syariah', 'subsector': 'IKNB Syariah,  Asuransi', 'regulation_type': 'Surat Edaran OJK', 'regulation_number': '10/SEOJK.05/2021', 'effective_date': '2021/03/01', 'file_url': 'https://www.ojk.go.id/id/regulasi/Documents/Pages/Bentuk-dan-Susunan-Laporan-Berkala-Perusahaan-Asuransi-Syariah,-Perusahaan-Reasuransi-Syariah,-dan-Unit-Syariah-/seojk%2010-2021.pdf', 'page_number': 139}, page_content='Dana Tabarru dan Tanahud\\nDana Perusahaan\\nPAYDI (digaransi)\\nFaktor\\nDana Tabarru dan Tanahud\\nDana Perusahaan\\nPAYDI (digaransi)\\n - \\n                                               \\n - \\n                            \\n - \\n                         \\n - \\n    \\n - \\n                                               \\n - \\n                            \\n - \\n                         \\n - \\n                                               \\n - \\n                            \\n - \\n                         \\n - \\n    \\n - \\n                                               \\n - \\n                            \\n - \\n                         \\n                                                   -                                    -                                  -    \\n0,0%\\n - \\n                                               \\n - \\n                            \\n - \\n                         \\n -\\n\\nSource: [10/SEOJK.05/2021](https://www.ojk.go.id/id/regulasi/Documents/Pages/Bentuk-dan-Susunan-Laporan-Berkala-Perusahaan-Asuransi-Syariah,-Perusahaan-Reasuransi-Syariah,-dan-Unit-Syariah-/seojk%2010-2021.pdf#page=139)'),\n",
       "  Document(metadata={'doc_id': 1642, 'title': 'Peraturan Menteri Keuangan Nomor 18/PMK.010/2010 tentang Penerapan Prinsip Dasar Penyelenggaraan Usaha Asuransi dan Usaha Reasuransi dengan Prinsip Syariah', 'sector': 'IKNB', 'subsector': 'IKNB Syariah,  Asuransi', 'regulation_type': 'Peraturan/Keputusan Mentri', 'regulation_number': '18/PMK.010/2010', 'effective_date': '2010/01/25', 'file_url': 'https://www.ojk.go.id/id/regulasi/Documents/Pages/PMK-Nomor-18PMK.010-Tahun-2010-tentang-Penerapan-Prinsip-Dasar-Penyelenggaraan-Usaha-Asuransi-dan-Usaha-Reasuransi/menas9_1389257513.pdf', 'page_number': 10}, page_content=\"REPUBLIK INDONESIA\\natau\\ntingkat solvabilitas Dana Tabarru' tidak memenuhi\\nketentuan peraturan perundang-undangan.\\n(2) Dalam hal terjadi kondisi sebagaimana dimaksud pada ayat (1)\\nhuruf a atau huruf b, Surplus Underoriting seluruhnya\\nditambahkan ke dalam Dana Tabarru'.\\nBAB VI\\nQARDH\\nPasal 15\\nTabarru' dalam hal:\\nminimum yang dipersyaratkan;\\nb. jumlah\\ninvestasi\\ndapat\\ndiperhitungkan dalam perhitungan tingkat kesehatan\\nkeuangan Dana Tabarru', lebih kecil dari jumlah\\npenyisihan/cadangan teknis dan kewajiban pembayaran\\nsantunan/klaim retensi sendiri dari Dana Tabarru';\\nc. terjadi selisih kurang atau defisit underwriting Dana Tabarru';\\nd. Dana Tabarru' tidak cukup\\n membayar\\n santunan/klaim kepada Peserta.\\n(2) Dalam hal Dana Tabarru' tidak cukup untuk membayar\\nsantunan/klaim kepada Peserta sebagaimana dimaksud pada\\nayat (1) huruf d, Qardh wajib disetorkan ke dalam Dana Tabarru\\nsecara tunai/kas.\\n\\nSource: [18/PMK.010/2010](https://www.ojk.go.id/id/regulasi/Documents/Pages/PMK-Nomor-18PMK.010-Tahun-2010-tentang-Penerapan-Prinsip-Dasar-Penyelenggaraan-Usaha-Asuransi-dan-Usaha-Reasuransi/menas9_1389257513.pdf#page=10)\"),\n",
       "  Document(metadata={'doc_id': 2805, 'title': 'Surat Edaran Bank Indonesia Nomor 15/26/DPbS', 'sector': None, 'subsector': None, 'regulation_type': None, 'regulation_number': '15/26/DPbS/2013', 'effective_date': '2013/07/10', 'file_url': 'https://www.ojk.go.id/Files/regulasi/perbankan/se-bi/2013/pedoman_se_1526_13.zip', 'page_number': 3}, page_content='Kr.   Dana syirkah temporer-tabungan/deposito mudharabah \\n02. Pada saat penarikan tabungan: \\nDb.  Dana syirkah temporer-tabungan/deposito mudharabah \\nKr.   Kas/pemindahbukuan/kliring \\n03. Pada saat dilakukan perhitungan bagi hasil: \\nDb. Bagian pihak ketiga atas pendapatan\\n\\nSource: [15/26/DPbS/2013](https://www.ojk.go.id/Files/regulasi/perbankan/se-bi/2013/pedoman_se_1526_13.zip#page=3)'),\n",
       "  Document(metadata={'doc_id': 1483, 'title': 'SEOJK tentang Laporan Bulanan Perusahaan Asuransi dan Perusahaan Reasuransi yang Menyelenggarakan Seluruh Usahanya dengan Prinsip Syariah dan Unit Syariah dari Perusahaan Asuransi dan Perusahaan Reasuransi', 'sector': 'IKNB', 'subsector': 'IKNB Syariah', 'regulation_type': 'Surat Edaran OJK', 'regulation_number': '4/SEOJK.05/2013', 'effective_date': '2013/11/25', 'file_url': 'https://www.ojk.go.id/id/regulasi/Documents/Pages/SEOJK-tentang-Laporan-Bulanan-Perusahaan-Asuransi-dan-Perusahaan-Reasuransi-yang-Menyelenggarakan-Prinsip-dan-Unit-Syariah/seojk%204-2013.pdf', 'page_number': 57}, page_content='-6- \\n \\n \\n \\n \\n \\ntabarru’ \\napabila \\npengelolaan \\ninvestasi \\ndana \\ntabarru’ \\nmenggunakan \\nakad \\nmudharabah \\natau \\nmudharabah \\nmusytarakah.  \\n(7) Utang zakat. \\n(8) Utang lain. \\n(9) Penyisihan kontribusi, yaitu penyisihan kontribusi untuk polis-\\npolis jangka panjang yang dihitung berdasarkan ketentuan \\nperaturan perundang-undangan yang berlaku.  \\n(10) Penyisihan kontribusi yang belum menjadi pendapatan/hak, \\nyaitu penyisihan kontribusi untuk polis-polis jangka pendek \\nyang dihitung berdasarkan ketentuan peraturan perundang-\\nundangan yang berlaku. \\n(11) Penyisihan klaim, yaitu penyisihan atas klaim yang masih dalam \\nproses dan klaim yang telah terjadi namun belum dilaporkan \\n(IBNR) \\nyang \\ndihitung \\nberdasarkan \\nketentuan \\nperaturan \\nperundang-undangan yang berlaku.  \\n(12) Qardh, yaitu pinjaman yang diberikan oleh perusahaan kepada \\ndana tabarru’.\\n\\nSource: [4/SEOJK.05/2013](https://www.ojk.go.id/id/regulasi/Documents/Pages/SEOJK-tentang-Laporan-Bulanan-Perusahaan-Asuransi-dan-Perusahaan-Reasuransi-yang-Menyelenggarakan-Prinsip-dan-Unit-Syariah/seojk%204-2013.pdf#page=57)'),\n",
       "  Document(metadata={'doc_id': 1642, 'title': 'Peraturan Menteri Keuangan Nomor 18/PMK.010/2010 tentang Penerapan Prinsip Dasar Penyelenggaraan Usaha Asuransi dan Usaha Reasuransi dengan Prinsip Syariah', 'sector': 'IKNB', 'subsector': 'IKNB Syariah,  Asuransi', 'regulation_type': 'Peraturan/Keputusan Mentri', 'regulation_number': '18/PMK.010/2010', 'effective_date': '2010/01/25', 'file_url': 'https://www.ojk.go.id/id/regulasi/Documents/Pages/PMK-Nomor-18PMK.010-Tahun-2010-tentang-Penerapan-Prinsip-Dasar-Penyelenggaraan-Usaha-Asuransi-dan-Usaha-Reasuransi/menas9_1389257513.pdf', 'page_number': 4}, page_content=\"Peserta.\\nPasal 4\\n(1) Kekayaan dan kewajiban Dana Tabarru' merupakan kekayaan\\ndan kewajiban para Peserta secara kolektif.\\ndimaksud pada ayat (1) hanya untuk:\\n a. pembayaran santunan kepada Peserta yang mengalami\\nmusibah atau pihak lain yang berhak;\\nb. pembayaran reasuransi;\\nd. pengembalian Dana Tabarru' akibat pembatalan polis dalam\\nperiode yang diperkenankan.\\n(3) Perusahaan wajib membentuk Dana Tabarru' untuk setiap lini\\nusaha.\\n\\nSource: [18/PMK.010/2010](https://www.ojk.go.id/id/regulasi/Documents/Pages/PMK-Nomor-18PMK.010-Tahun-2010-tentang-Penerapan-Prinsip-Dasar-Penyelenggaraan-Usaha-Asuransi-dan-Usaha-Reasuransi/menas9_1389257513.pdf#page=4)\"),\n",
       "  Document(metadata={'doc_id': 842, 'title': 'Bentuk dan Susunan Laporan Berkala Perusahaan Asuransi Syariah, Perusahaan Reasuransi Syariah, dan Unit Syariah', 'sector': 'IKNB', 'subsector': 'IKNB Syariah,  Asuransi', 'regulation_type': 'Surat Edaran OJK', 'regulation_number': '2/SEOJK.05/2018', 'effective_date': '2018/01/24', 'file_url': 'https://www.ojk.go.id/id/regulasi/Documents/Pages/Bentuk-dan-Susunan-Laporan-Berkala-Perusahaan-Asuransi-Syariah,-Perusahaan-Reasuransi-Syariah,-dan-Unit-Syariah/SEOJK%202-2018.pdf', 'page_number': 73}, page_content=\"- \\n                                                            \\n - \\n                                                            \\n - \\n                                                            \\n - \\n                                                            \\n - \\n                                                            \\n - \\n                                                            \\n - \\n                                                            \\n - \\n                                                            \\n - \\n                                                            \\n - \\n                                                            \\n - \\n                                                            \\n - \\n                                                            \\nANALISIS DANA TABARRU\\nPERHITUNGAN ASET DAN LIABILITAS DANA TABARRU'\\nPer 31-Jan-1900\\n(dalam jutaan rupiah)\\n\\nSource: [2/SEOJK.05/2018](https://www.ojk.go.id/id/regulasi/Documents/Pages/Bentuk-dan-Susunan-Laporan-Berkala-Perusahaan-Asuransi-Syariah,-Perusahaan-Reasuransi-Syariah,-dan-Unit-Syariah/SEOJK%202-2018.pdf#page=73)\"),\n",
       "  Document(metadata={'doc_id': 1057, 'title': 'POJK tentang Kesehatan Keuangan Perusahaan Asuransi dan Perusahaan Reasuransi dengan Prinsip Syariah', 'sector': 'IKNB,  Syariah', 'subsector': 'IKNB Syariah,  Asuransi', 'regulation_type': 'Peraturan OJK', 'regulation_number': '72/POJK.05/2016', 'effective_date': '2016/12/28', 'file_url': 'https://www.ojk.go.id/id/regulasi/Documents/Pages/POJK-tentang-Kesehatan-Keuangan-Perusahaan-Asuransi-dan-Perusahaan-Reasuransi-dengan-Prinsip-Syariah/pojk%2072-2016.pdf', 'page_number': 11}, page_content='ditambahkan ke dalam Dana Tabarru’. \\n(3) \\nKetentuan \\nsyarat \\npendistribusian \\nSurplus \\nUnderwriting sebagaimana dimaksud pada ayat (1) \\ndan ayat (2) wajib dimuat di dalam polis. \\n \\nBAB IV \\nQARDH \\n \\nPasal 8 \\n(1) \\nPerusahaan setiap saat wajib memiliki kemampuan \\nuntuk memberikan Qardh. \\n(2) \\nPerusahaan wajib menyediakan Aset Yang Tersedia \\nUntuk Qardh pada Dana Perusahaan dalam hal: \\na. \\nTingkat Solvabilitas Dana Tabarru’ dan Dana \\nTanahud \\nlebih \\nkecil \\ndari \\ntarget \\nTingkat \\nSolvabilitas Dana Tabarru’ dan Dana Tanahud \\ninternal; \\nb. \\nJumlah \\ninvestasi \\ndalam \\nAset \\nYang \\nDiperkenankan dari Dana Tabarru’ lebih kecil\\n\\nSource: [72/POJK.05/2016](https://www.ojk.go.id/id/regulasi/Documents/Pages/POJK-tentang-Kesehatan-Keuangan-Perusahaan-Asuransi-dan-Perusahaan-Reasuransi-dengan-Prinsip-Syariah/pojk%2072-2016.pdf#page=11)'),\n",
       "  Document(metadata={'doc_id': 842, 'title': 'Bentuk dan Susunan Laporan Berkala Perusahaan Asuransi Syariah, Perusahaan Reasuransi Syariah, dan Unit Syariah', 'sector': 'IKNB', 'subsector': 'IKNB Syariah,  Asuransi', 'regulation_type': 'Surat Edaran OJK', 'regulation_number': '2/SEOJK.05/2018', 'effective_date': '2018/01/24', 'file_url': 'https://www.ojk.go.id/id/regulasi/Documents/Pages/Bentuk-dan-Susunan-Laporan-Berkala-Perusahaan-Asuransi-Syariah,-Perusahaan-Reasuransi-Syariah,-dan-Unit-Syariah/SEOJK%202-2018.pdf', 'page_number': 74}, page_content=\"ANALISIS DANA TABARRU\\nPERHITUNGAN LIABILITAS DANA TABARRU'\\nPer 31-Jan-1900\\n(dalam jutaan rupiah)\\nUraian\\nSaldo Buku Besar (SAK)\\nPenilaian Berdasarkan SAP\\nSelisih Penilaian SAK dan SAP\\nUtang\\n                                                             -                                                                 -    \\nPenyisihan Kontribusi\\n                                                             -                                                                 -    \\nPenyisihan Kontribusi Yang Belum Merupakan \\n                                                             -                                                                 -    \\nJUMLAH LIABILITAS\\nPenyisihan Klaim\\n                                                             -                                                                 -    \\nPenyisihan atas Risiko Bencana (Catastrophic\\n\\nSource: [2/SEOJK.05/2018](https://www.ojk.go.id/id/regulasi/Documents/Pages/Bentuk-dan-Susunan-Laporan-Berkala-Perusahaan-Asuransi-Syariah,-Perusahaan-Reasuransi-Syariah,-dan-Unit-Syariah/SEOJK%202-2018.pdf#page=74)\"),\n",
       "  Document(metadata={'doc_id': 1198, 'title': 'Pelaporan Produk Asuransi Bagi Perusahaan Asuransi Syariah dan Perusahaan Asuransi yang Menyelenggarakan Sebagian Usahanya', 'sector': 'IKNB', 'subsector': 'Asuransi,  Peraturan Lainnya', 'regulation_type': 'Surat Edaran OJK', 'regulation_number': '18/SEOJK.05/2016', 'effective_date': '2016/06/01', 'file_url': 'https://www.ojk.go.id/id/regulasi/Documents/Pages/Pelaporan-Produk-Asuransi-Bagi-Perusahaan-Asuransi-Syariah-dan-Perusahaan-Asuransi-yang-Menyelenggarakan-Sebagian-Usahanya/Lamp%205%20-%20Deskripsi%20Produk%20Syariah.pdf', 'page_number': 9}, page_content=\"f. \\nBesaran ujrah atau \\nbagi hasil investasi \\ndari dana tabarru' \\natau yang sejenis \\nSebutkan besaran ujrah atau nisbah bagi \\nhasil investasi dana tabarru' atau yang \\nsejenis \\ng. Akad pengelolaan \\ninvestasi dana \\nSebutkan jenis akad yang digunakan\\n\\nSource: [18/SEOJK.05/2016](https://www.ojk.go.id/id/regulasi/Documents/Pages/Pelaporan-Produk-Asuransi-Bagi-Perusahaan-Asuransi-Syariah-dan-Perusahaan-Asuransi-yang-Menyelenggarakan-Sebagian-Usahanya/Lamp%205%20-%20Deskripsi%20Produk%20Syariah.pdf#page=9)\"),\n",
       "  Document(metadata={'doc_id': 1483, 'title': 'SEOJK tentang Laporan Bulanan Perusahaan Asuransi dan Perusahaan Reasuransi yang Menyelenggarakan Seluruh Usahanya dengan Prinsip Syariah dan Unit Syariah dari Perusahaan Asuransi dan Perusahaan Reasuransi', 'sector': 'IKNB', 'subsector': 'IKNB Syariah', 'regulation_type': 'Surat Edaran OJK', 'regulation_number': '4/SEOJK.05/2013', 'effective_date': '2013/11/25', 'file_url': 'https://www.ojk.go.id/id/regulasi/Documents/Pages/SEOJK-tentang-Laporan-Bulanan-Perusahaan-Asuransi-dan-Perusahaan-Reasuransi-yang-Menyelenggarakan-Prinsip-dan-Unit-Syariah/seojk%204-2013.pdf', 'page_number': 27}, page_content=\"(6) Tagihan bagi hasil pengelolaan investasi dana tabarru', yaitu \\ntagihan kepada dana tabarru’ atas bagi hasil investasi dana \\ntabarru’ \\napabila \\npengelolaan \\ninvestasi \\ndana \\ntabarru’ \\nmenggunakan akad mudharabah atau akad mudharabah \\nmusytarakah. \\n(7) Tagihan qardh, yaitu tagihan kepada dana tabarru’ atas qardh \\nyang diberikan perusahaan.  \\n(8) Bangunan...\\n\\nSource: [4/SEOJK.05/2013](https://www.ojk.go.id/id/regulasi/Documents/Pages/SEOJK-tentang-Laporan-Bulanan-Perusahaan-Asuransi-dan-Perusahaan-Reasuransi-yang-Menyelenggarakan-Prinsip-dan-Unit-Syariah/seojk%204-2013.pdf#page=27)\"),\n",
       "  Document(metadata={'doc_id': 1483, 'title': 'SEOJK tentang Laporan Bulanan Perusahaan Asuransi dan Perusahaan Reasuransi yang Menyelenggarakan Seluruh Usahanya dengan Prinsip Syariah dan Unit Syariah dari Perusahaan Asuransi dan Perusahaan Reasuransi', 'sector': 'IKNB', 'subsector': 'IKNB Syariah', 'regulation_type': 'Surat Edaran OJK', 'regulation_number': '4/SEOJK.05/2013', 'effective_date': '2013/11/25', 'file_url': 'https://www.ojk.go.id/id/regulasi/Documents/Pages/SEOJK-tentang-Laporan-Bulanan-Perusahaan-Asuransi-dan-Perusahaan-Reasuransi-yang-Menyelenggarakan-Prinsip-dan-Unit-Syariah/seojk%204-2013.pdf', 'page_number': 22}, page_content='-4- \\n \\n \\nyang berlaku mengenai jenis-jenis, syarat-syarat, cara penilaian dan \\nbatasan kekayaan dana tabarru’.  \\n4) Jumlah kekayaan dan kewajiban pada kolom Saldo SAP selanjutnya \\ndigunakan \\ndalam \\nperhitungkan \\npencapaian \\nsolvabilitas \\nDana \\nTabarru’ pada formulir Kesehatan Keuangan Dana Tabarru’.  \\n5) Penjelasan atas akun-akun yang disajikan: \\na) Akun-akun yang termasuk dalam kategori kekayaan investasi. \\nAkun-akun yang termasuk dalam kategori kekayaan investasi \\ndiklasifikasikan berdasarkan jenis investasi. Jenis investasi yang \\ntidak termasuk dalam jenis-jenis investasi yang diperkenankan \\ndikategorikan sebagai investasi lain. \\nb) Akun-akun yang termasuk dalam kategori non investasi.  \\nAkun yang termasuk dalam kategori kekayaan non investasi terdiri \\ndari: \\n(1) Kas dan bank. \\n(2) Tagihan kontribusi, yaitu tagihan kepada peserta/perusahaan\\n\\nSource: [4/SEOJK.05/2013](https://www.ojk.go.id/id/regulasi/Documents/Pages/SEOJK-tentang-Laporan-Bulanan-Perusahaan-Asuransi-dan-Perusahaan-Reasuransi-yang-Menyelenggarakan-Prinsip-dan-Unit-Syariah/seojk%204-2013.pdf#page=22)')]}"
      ]
     },
     "execution_count": 17,
     "metadata": {},
     "output_type": "execute_result"
    }
   ],
   "source": [
    "from chain.rag_chain import get_response\n",
    "\n",
    "response = get_response(\n",
    "    chain=chain_history,\n",
    "    question=\"Siapa lionel messi?\",\n",
    "    user_id=USER_ID,\n",
    "    conversation_id=\"conv_1\"\n",
    ")\n",
    "\n",
    "response"
   ]
  },
  {
   "cell_type": "code",
   "execution_count": null,
   "metadata": {},
   "outputs": [],
   "source": [
    "# print(response['answer'])\n"
   ]
  },
  {
   "cell_type": "code",
   "execution_count": null,
   "metadata": {},
   "outputs": [],
   "source": [
    "# print(response['context'])"
   ]
  },
  {
   "cell_type": "markdown",
   "metadata": {},
   "source": [
    "#### **Streaming**"
   ]
  },
  {
   "cell_type": "code",
   "execution_count": null,
   "metadata": {},
   "outputs": [
    {
     "name": "stderr",
     "output_type": "stream",
     "text": [
      "Failed to write data to connection ResolvedIPv4Address(('34.126.171.25', 7687)) (ResolvedIPv4Address(('34.126.171.25', 7687)))\n",
      "Failed to write data to connection IPv4Address(('76b9a325.databases.neo4j.io', 7687)) (ResolvedIPv4Address(('34.126.171.25', 7687)))\n",
      "Error in RootListenersTracer.on_chain_end callback: KeyError('answer')\n",
      "Error in callback coroutine: KeyError('answer')\n"
     ]
    },
    {
     "name": "stdout",
     "output_type": "stream",
     "text": [
      "Jika Anda ingin membuat peraturan terkait bank digital, Anda perlu memperhatikan beberapa peraturan yang relevan, antara lain:\n",
      "\n",
      "1. **Peraturan Otoritas Jasa Keuangan (POJK) Nomor 21 Tahun 2023** tentang Layanan Digital oleh Bank Umum. Peraturan ini mengatur tentang pengembangan dan inovasi dalam memberikan layanan digital oleh bank, serta manajemen risiko, keamanan data nasabah, dan perlindungan konsumen. \n",
      "\n",
      "   Source: [21 Tahun 2023](https://www.ojk.go.id/id/regulasi/Documents/Pages/Layanan-Digital-oleh-Bank-Umum/POJK%2021%20Tahun%202023.%20Layanan%20Digital%20oleh%20Bank%20Umum.pdf) (halaman 1)\n",
      "\n",
      "2. **Peraturan Otoritas Jasa Keuangan (POJK) Nomor 12/POJK.03/2018** tentang Penyelenggaraan Layanan Perbankan Digital oleh Bank Umum. Peraturan ini perlu diperhatikan karena akan digantikan oleh POJK 21 Tahun 2023, namun masih relevan untuk memahami ketentuan yang ada sebelumnya.\n",
      "\n",
      "   Source: [12/POJK.03/2018](https://www.ojk.go.id/id/regulasi/Documents/Pages/Penyelenggaraan-Layanan-Perbankan-Digital-oleh-Bank-Umum/POJK%2012-2018.pdf) (halaman 2)\n",
      "\n",
      "3. **Undang-Undang Nomor 7 Tahun 1992** tentang Perbankan, yang menjadi dasar hukum bagi pengaturan perbankan di Indonesia.\n",
      "\n",
      "   Source: [21 Tahun 2023](https://www.ojk.go.id/id/regulasi/Documents/Pages/Layanan-Digital-oleh-Bank-Umum/POJK%2021%20Tahun%202023.%20Layanan%20Digital%20oleh%20Bank%20Umum.pdf) (halaman 1)\n",
      "\n",
      "4. **Undang-Undang Nomor 4 Tahun 2023** tentang Pengembangan dan Penguatan Sektor Keuangan, yang juga menjadi dasar hukum dalam pengaturan layanan digital oleh bank.\n",
      "\n",
      "   Source: [21 Tahun 2023](https://www.ojk.go.id/id/regulasi/Documents/Pages/Layanan-Digital-oleh-Bank-Umum/POJK%2021%20Tahun%202023.%20Layanan%20Digital%20oleh%20Bank%20Umum.pdf) (halaman 1)\n",
      "\n",
      "Memperhatikan peraturan-peraturan ini akan membantu dalam merumuskan kebijakan yang sesuai dengan regulasi yang berlaku di sektor perbankan digital di Indonesia."
     ]
    }
   ],
   "source": [
    "# from chain.rag_chain import print_answer_stream\n",
    "\n",
    "# question = \"Jika saya ingin membuat peraturan terkait bank digital peraturan apa yang perlu saya perhatikan?\"\n",
    "\n",
    "# print_answer_stream(chain=chain_history, question=question, user_id=USER_ID, conversation_id=CONVERSATION_ID)"
   ]
  }
 ],
 "metadata": {
  "kernelspec": {
   "display_name": "chatbot-all",
   "language": "python",
   "name": "python3"
  },
  "language_info": {
   "codemirror_mode": {
    "name": "ipython",
    "version": 3
   },
   "file_extension": ".py",
   "mimetype": "text/x-python",
   "name": "python",
   "nbconvert_exporter": "python",
   "pygments_lexer": "ipython3",
   "version": "3.9.19"
  }
 },
 "nbformat": 4,
 "nbformat_minor": 2
}

{
 "cells": [
  {
   "cell_type": "markdown",
   "metadata": {},
   "source": [
    "# **Compliance GPT with LangChain**"
   ]
  },
  {
   "cell_type": "markdown",
   "metadata": {},
   "source": [
    "## **Setup**"
   ]
  },
  {
   "cell_type": "code",
   "execution_count": 1,
   "metadata": {},
   "outputs": [
    {
     "data": {
      "text/plain": [
       "True"
      ]
     },
     "execution_count": 1,
     "metadata": {},
     "output_type": "execute_result"
    }
   ],
   "source": [
    "import nest_asyncio\n",
    "nest_asyncio.apply()\n",
    "\n",
    "from dotenv import load_dotenv\n",
    "load_dotenv()"
   ]
  },
  {
   "cell_type": "markdown",
   "metadata": {},
   "source": [
    "## **Config**"
   ]
  },
  {
   "cell_type": "code",
   "execution_count": 2,
   "metadata": {},
   "outputs": [],
   "source": [
    "from utils.config import get_config\n",
    "\n",
    "config = get_config()"
   ]
  },
  {
   "cell_type": "code",
   "execution_count": 3,
   "metadata": {},
   "outputs": [],
   "source": [
    "USER_ID = 'xmriz'\n",
    "CONVERSATION_ID = 'xmriz-2021-07-01-01'"
   ]
  },
  {
   "cell_type": "markdown",
   "metadata": {},
   "source": [
    "## **Define Model**"
   ]
  },
  {
   "cell_type": "code",
   "execution_count": 4,
   "metadata": {},
   "outputs": [],
   "source": [
    "from utils.models import ModelName, LLMModelName, EmbeddingModelName, get_model\n",
    "\n",
    "model_name = ModelName.AZURE_OPENAI\n",
    "llm_model, embed_model = get_model(model_name=model_name, config=config, llm_model_name=LLMModelName.GPT_35_TURBO, embedding_model_name=EmbeddingModelName.EMBEDDING_ADA)"
   ]
  },
  {
   "cell_type": "markdown",
   "metadata": {},
   "source": [
    "## **Load Vector Store Index**"
   ]
  },
  {
   "cell_type": "code",
   "execution_count": 5,
   "metadata": {},
   "outputs": [
    {
     "name": "stderr",
     "output_type": "stream",
     "text": [
      "c:\\Users\\acer\\miniconda3\\envs\\chatbot-ocbc\\lib\\site-packages\\pinecone\\data\\index.py:1: TqdmWarning: IProgress not found. Please update jupyter and ipywidgets. See https://ipywidgets.readthedocs.io/en/stable/user_install.html\n",
      "  from tqdm.autonotebook import tqdm\n"
     ]
    }
   ],
   "source": [
    "from databases.vector_store import RedisIndexManager, PineconeIndexManager\n",
    "\n",
    "# redis_ojk = RedisIndexManager(index_name='ojk', embed_model=embed_model, config=config, db_id=0)\n",
    "# vector_store_ojk = redis_ojk.load_vector_index()\n",
    "\n",
    "# redis_sikepo_ket = RedisIndexManager(index_name='sikepo-ketentuan-terkait', embed_model=embed_model, config=config, db_id=0)\n",
    "# vector_store_ket = redis_sikepo_ket.load_vector_index()\n",
    "\n",
    "# redis_sikepo_rek = RedisIndexManager(index_name='sikepo-rekam-jejak', embed_model=embed_model, config=config, db_id=0)\n",
    "# vector_store_rek = redis_sikepo_rek.load_vector_index()\n",
    "\n",
    "pinecone_ojk = PineconeIndexManager(index_name='ojk', embed_model=embed_model, config=config)\n",
    "vector_store_ojk = pinecone_ojk.load_vector_index()\n",
    "\n",
    "pinecone_ket = PineconeIndexManager(index_name='ketentuan-terkait', embed_model=embed_model, config=config)\n",
    "vector_store_ket = pinecone_ket.load_vector_index()\n",
    "\n",
    "pinecone_rek = PineconeIndexManager(index_name='rekam-jejak', embed_model=embed_model, config=config)\n",
    "vector_store_rek = pinecone_rek.load_vector_index()"
   ]
  },
  {
   "cell_type": "code",
   "execution_count": 6,
   "metadata": {},
   "outputs": [],
   "source": [
    "from databases.neo4j_graph_store import Neo4jGraphStore\n",
    "\n",
    "neo4j_sikepo = Neo4jGraphStore(config=config)\n",
    "graph = neo4j_sikepo.get_graph()"
   ]
  },
  {
   "cell_type": "markdown",
   "metadata": {},
   "source": [
    "## **Get Retriever**"
   ]
  },
  {
   "cell_type": "code",
   "execution_count": 7,
   "metadata": {},
   "outputs": [],
   "source": [
    "from retriever.retriever_ojk.retriever_ojk import get_retriever_ojk\n",
    "from retriever.retriever_sikepo.lotr_sikepo import lotr_sikepo\n",
    "\n",
    "retriever_ojk = get_retriever_ojk(vector_store=vector_store_ojk, top_n=6, top_k=16, llm_model=llm_model, embed_model=embed_model, config=config)\n",
    "retriever_sikepo_ket = lotr_sikepo(vector_store=vector_store_ket, llm_model=llm_model, embed_model=embed_model, config=config)\n",
    "retriever_sikepo_rek = lotr_sikepo(vector_store=vector_store_rek, llm_model=llm_model, embed_model=embed_model, config=config)"
   ]
  },
  {
   "cell_type": "markdown",
   "metadata": {},
   "source": [
    "## **Create Chain**"
   ]
  },
  {
   "cell_type": "code",
   "execution_count": 8,
   "metadata": {},
   "outputs": [],
   "source": [
    "from databases.chat_store import RedisChatStore, MongoDBChatStore\n",
    "\n",
    "# chat_store = RedisChatStore(k=4, config=config, db_id=1)\n",
    "chat_store = MongoDBChatStore(config=config, k=4)"
   ]
  },
  {
   "cell_type": "code",
   "execution_count": 9,
   "metadata": {},
   "outputs": [],
   "source": [
    "from chain.rag_chain import create_chain_with_chat_history, create_chain\n",
    "from retriever.retriever_sikepo.graph_cypher_retriever import graph_rag_chain\n",
    "\n",
    "\n",
    "graph_chain = graph_rag_chain(llm_model, llm_model, graph=graph)\n",
    "\n",
    "chain = create_chain(retriever_ojk, retriever_sikepo_rek, retriever_sikepo_ket, graph_chain, llm_model)\n",
    "\n",
    "chain_history = create_chain_with_chat_history(\n",
    "    final_chain=chain,\n",
    "    chat_store=chat_store,\n",
    ")"
   ]
  },
  {
   "cell_type": "markdown",
   "metadata": {},
   "source": [
    "## **Invoke**"
   ]
  },
  {
   "cell_type": "markdown",
   "metadata": {},
   "source": [
    "#### **Chat Store Monitor**"
   ]
  },
  {
   "cell_type": "code",
   "execution_count": 10,
   "metadata": {},
   "outputs": [
    {
     "name": "stdout",
     "output_type": "stream",
     "text": [
      "\n"
     ]
    }
   ],
   "source": [
    "# to print chat history\n",
    "print(chat_store.get_session_history(user_id=USER_ID, conversation_id=CONVERSATION_ID))"
   ]
  },
  {
   "cell_type": "code",
   "execution_count": 31,
   "metadata": {},
   "outputs": [],
   "source": [
    "# to make the chat history empty\n",
    "chat_store.clear_all()"
   ]
  },
  {
   "cell_type": "markdown",
   "metadata": {},
   "source": [
    "#### **With Question, Answer, and Context**"
   ]
  },
  {
   "cell_type": "code",
   "execution_count": 11,
   "metadata": {},
   "outputs": [
    {
     "name": "stderr",
     "output_type": "stream",
     "text": [
      "Error in RootListenersTracer.on_chain_end callback: ValueError()\n"
     ]
    },
    {
     "data": {
      "text/plain": [
       "{'question': 'Berapa SWDKLLJ dari buldozer?',\n",
       " 'answer': {'rewrited question': 'Berapa jumlah SWDKLLJ yang harus dibayarkan untuk buldozer?',\n",
       "  'answer': 'Saya tidak dapat menemukan informasi mengenai jumlah SWDKLLJ yang harus dibayarkan untuk buldozer dalam konteks yang diberikan.',\n",
       "  'context': [Document(metadata={'Jenis Ketentuan': 'PBI', 'Judul Ketentuan': 'Bank Umum Syariah', 'Ketentuan': 'Pasal 76 ', 'Kodifikasi Ketentuan': 'Bank Umum Syariah', 'Nomor Ketentuan': '11/3/PBI/2009', 'Referensi': '-', 'Tanggal Ketentuan': '29 Januari 2009', 'relevance_score': 0.0060269516}, page_content='Jumlah kewajiban membayar=Rp30.000.000,00 x jumlah laporan atau pengumuman.\\nBank yang dikenakan sanksi tidak menyampaikan laporan atau pengumuman, tidak dikenakan sanksi keterlambatan penyampaian laporan atau pengumuman.\\nAyat (3)\\nCukup jelas.\\nAyat (4)\\nCukup jelas.\\nAyat (5)\\nCukup jelas.\\nAyat (6)\\nCukup jelas.'),\n",
       "   Document(metadata={'Jenis Ketentuan': 'POJK', 'Judul Ketentuan': 'Penilaian Kualitas Aset Bank Umum', 'Ketentuan': 'Pasal 49 ', 'Kodifikasi Ketentuan': 'Bank Umum Konvensional', 'Nomor Ketentuan': '40/POJK.03/2019', 'Referensi': '-', 'Tanggal Ketentuan': '19 Desember 2019', 'relevance_score': 0.005080037}, page_content='Apabila nilai pengikatan terhadap agunan dimaksud yaitu Rp60.000.000.000,00 (enam puluh miliar rupiah) maka agunan yang dapat diperhitungkan sebagai pengurang dalam perhitungan PPKA sebesar Rp60.000.000.000,00 (enam puluh miliar rupiah).'),\n",
       "   Document(metadata={'Jenis Ketentuan': 'SEBI', 'Judul Ketentuan': 'Batas Maksimum Penyaluran Dana Bank Pembiayaan Rakyat Syariah', 'Ketentuan': 'Romawi III Sub 6', 'Kodifikasi Ketentuan': 'BPR Syariah', 'Nomor Ketentuan': '13/17/DPbS', 'Referensi': '-', 'Tanggal Ketentuan': '30 Mei 2011', 'relevance_score': 0.003135836}, page_content='- Pembiayaan ijarah kepada Nasabah E dengan harga perolehan aktiva ijarah sebesar Rp120.000.000,00 (seratus dua puluh juta rupiah) dan akumulasi amortisasi sebesar Rp5.000.000,00 (lima juta rupiah).\\n- Pembiayaan musyarakah kepada BPRS “Y” sebesar Rp440.000.000,00 (empat ratus empat puluh juta rupiah).\\n- Penempatan Dana Antar Bank pada BPRS “Y” sebesar Rp50.000.000,00 (lima puluh juta rupiah).\\nPerhitungan Pelanggaran BMPD\\n1) Bulan Maret 2011: (Tabel dapat dilihat pada ketentuan utuh)'),\n",
       "   Document(metadata={'Jenis Ketentuan': 'PBI', 'Judul Ketentuan': 'Laporan Berkala Bank Umum', 'Ketentuan': 'Pasal 20 ', 'Kodifikasi Ketentuan': 'Unit Usaha Syariah', 'Nomor Ketentuan': '8/12/PBI/2006', 'Referensi': '-', 'Tanggal Ketentuan': '10 Juli 2006', 'relevance_score': 0.0014837189}, page_content='Sanksi kewajiban membayar yang dibebankan kepada Bank A adalah sebesar 3 (tiga) item x Rp50.000,00 (lima puluh ribu rupiah) Rp150.000,00 (seratus lima puluh ribu rupiah).\\nAyat (6)\\nCukup jelas.\\nAyat (7)\\nCukup jelas.'),\n",
       "   Document(metadata={'Jenis Ketentuan': 'POJK', 'Judul Ketentuan': 'Penerapan Program Anti Pencucian Uang dan Pencegahan Pendanaan Terorisme di Sektor Perbankan', 'Ketentuan': 'Pasal 40 ', 'Kodifikasi Ketentuan': 'Bank Umum Konvensional', 'Nomor Ketentuan': '12/POJK.01/2017', 'Referensi': '-', 'Tanggal Ketentuan': '16 Maret 2017', 'relevance_score': 0.0003668626}, page_content='4. peserta DPLK yang diikutsertakan oleh pemberi kerja atau peserta mandiri yang membayar iuran ke DPLK, yang jumlahnya paling banyak 20% (dua puluh persen) dari penghasilan setiap bulan atau lebih dari 20% (dua puluh persen) dari penghasilan tetapi tidak melebihi Rp5.000.000,00 (lima juta rupiah) setiap bulan;\\n5. produk asuransi yang tidak menjanjikan pengembalian dana sebelum atau setelah berakhirnya masa pertanggungan;\\n6. produk asuransi yang jumlah pembayaran premi regulernya apabila di setahunkan tidak melebihi Rp25.000.000,00 (dua puluh lima juta rupiah);\\n7. produk asuransi yang pembayaran premi tunggalnya tidak melebihi Rp25.000.000,00 (dua puluh lima juta rupiah);\\n8. pembiayaan yang dilakukan oleh perusahaan pembiayaan atau PMV yang nilainya tidak melebihi Rp50.000.000,00 (lima puluh juta rupiah);\\n9. calon Nasabah dan/atau Nasabah berupa perusahaan publik;'),\n",
       "   Document(metadata={'Jenis Ketentuan': 'SEBI', 'Judul Ketentuan': 'Batas Maksimum Penyaluran Dana Bank Pembiayaan Rakyat Syariah', 'Ketentuan': 'Romawi IV Sub 3', 'Kodifikasi Ketentuan': 'BPR Syariah', 'Nomor Ketentuan': '13/17/DPbS', 'Referensi': '-', 'Tanggal Ketentuan': '30 Mei 2011', 'relevance_score': 0.00014202364}, page_content='Nomor Ketentuan: 13/17/DPbS\\nKetentuan: Romawi IV Sub 3\\nmemiliki Isi ketentuan sebagai berikut: 3. Contoh Perhitungan Pelampauan BMPD karena penurunan modal:\\nBPRS ”X” melakukan Penyaluran Dana dalam bentuk Pembiayaan murabahah untuk pembelian mobil kepada Nasabah Penerima Fasilitas A (Pihak Tidak Terkait) pada tanggal 15 April 2011 dengan harga pokok sebesar Rp240.000.000,00 (dua ratus empat puluh juta rupiah) dengan margin sebesar Rp24.000.000,00 (dua puluh empat juta rupiah) selama jangka waktu 1 (satu) tahun. Pembiayaan murabahah diangsur setiap bulan sebesar Rp22.000.000,00 (dua puluh dua juta rupiah).\\nModal BPRS:\\n- per akhir Maret 2011 sebesar Rp1.500.000.000,00 (satu miliar lima ratus juta rupiah).\\n- per akhir April 2011 sebesar Rp1.350.000.000,00 (satu miliar tiga ratus lima puluh juta rupiah).\\n- per akhir Mei 2011 sebesar Rp1.200.000.000,00 (satu miliar dua ratus juta rupiah).\\n- per akhir Juni 2011 sebesar Rp800.000.000,00 (delapan ratus juta rupiah).')]},\n",
       " 'is_answered': 'NO',\n",
       " 'chat_history': []}"
      ]
     },
     "execution_count": 11,
     "metadata": {},
     "output_type": "execute_result"
    }
   ],
   "source": [
    "from chain.rag_chain import get_response\n",
    "\n",
    "response = get_response(\n",
    "    chain=chain_history,\n",
    "    question=\"Berapa SWDKLLJ dari buldozer?\",\n",
    "    user_id=USER_ID,\n",
    "    conversation_id=CONVERSATION_ID\n",
    ")\n",
    "\n",
    "response"
   ]
  },
  {
   "cell_type": "markdown",
   "metadata": {},
   "source": [
    "#### **Streaming**"
   ]
  },
  {
   "cell_type": "code",
   "execution_count": 19,
   "metadata": {},
   "outputs": [
    {
     "name": "stdout",
     "output_type": "stream",
     "text": [
      "Saya minta maaf, tetapi pertanyaan yang Anda ajukan tidak terkait dengan konteks dan informasi metadata yang diberikan. Silakan ajukan pertanyaan lain yang terkait dengan kepatuhan perbankan di Indonesia."
     ]
    }
   ],
   "source": [
    "# from chain.rag_chain import print_answer_stream\n",
    "\n",
    "# print_answer_stream(chain=chain_history, question=\"Siapa itu lionel messi?\", user_id=USER_ID, conversation_id=CONVERSATION_ID)"
   ]
  }
 ],
 "metadata": {
  "kernelspec": {
   "display_name": "chatbot-all",
   "language": "python",
   "name": "python3"
  },
  "language_info": {
   "codemirror_mode": {
    "name": "ipython",
    "version": 3
   },
   "file_extension": ".py",
   "mimetype": "text/x-python",
   "name": "python",
   "nbconvert_exporter": "python",
   "pygments_lexer": "ipython3",
   "version": "3.9.19"
  }
 },
 "nbformat": 4,
 "nbformat_minor": 2
}

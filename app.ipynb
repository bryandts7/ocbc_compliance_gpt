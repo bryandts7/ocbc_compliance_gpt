{
 "cells": [
  {
   "cell_type": "markdown",
   "metadata": {},
   "source": [
    "# **Compliance GPT with LangChain**"
   ]
  },
  {
   "cell_type": "markdown",
   "metadata": {},
   "source": [
    "## **Setup**"
   ]
  },
  {
   "cell_type": "code",
   "execution_count": 2,
   "metadata": {},
   "outputs": [
    {
     "data": {
      "text/plain": [
       "True"
      ]
     },
     "execution_count": 2,
     "metadata": {},
     "output_type": "execute_result"
    }
   ],
   "source": [
    "from dotenv import load_dotenv\n",
    "load_dotenv()"
   ]
  },
  {
   "cell_type": "markdown",
   "metadata": {},
   "source": [
    "## **Config**"
   ]
  },
  {
   "cell_type": "code",
   "execution_count": 3,
   "metadata": {},
   "outputs": [],
   "source": [
    "from utils.config import get_config\n",
    "from utils.models import ModelName, get_model\n",
    "\n",
    "config = get_config()"
   ]
  },
  {
   "cell_type": "code",
   "execution_count": 4,
   "metadata": {},
   "outputs": [],
   "source": [
    "USER_ID = 'xmriz'\n",
    "CONVERSATION_ID = 'xmriz-2021-07-01-01'"
   ]
  },
  {
   "cell_type": "markdown",
   "metadata": {},
   "source": [
    "## **Define Model**"
   ]
  },
  {
   "cell_type": "code",
   "execution_count": 5,
   "metadata": {},
   "outputs": [],
   "source": [
    "model_name = ModelName.AZURE_OPENAI\n",
    "llm_model, embed_model = get_model(model_name=model_name, config=config)"
   ]
  },
  {
   "cell_type": "markdown",
   "metadata": {},
   "source": [
    "## **Load Vector Store Index**"
   ]
  },
  {
   "cell_type": "code",
   "execution_count": 6,
   "metadata": {},
   "outputs": [
    {
     "name": "stderr",
     "output_type": "stream",
     "text": [
      "c:\\Users\\acer\\miniconda3\\envs\\chatbot-ocbc\\lib\\site-packages\\pinecone\\data\\index.py:1: TqdmWarning: IProgress not found. Please update jupyter and ipywidgets. See https://ipywidgets.readthedocs.io/en/stable/user_install.html\n",
      "  from tqdm.autonotebook import tqdm\n"
     ]
    }
   ],
   "source": [
    "from databases.vector_store import RedisIndexManager\n",
    "\n",
    "chat_store_ojk = RedisIndexManager(index_name='ojk', embed_model=embed_model, config=config, db_id=0)\n",
    "chat_store_bi = RedisIndexManager(index_name='bi', embed_model=embed_model, config=config, db_id=0)\n",
    "\n",
    "vector_store_ojk = chat_store_ojk.load_vector_index()\n",
    "vector_store_bi = chat_store_bi.load_vector_index()"
   ]
  },
  {
   "cell_type": "markdown",
   "metadata": {},
   "source": [
    "## **Get Retriever**"
   ]
  },
  {
   "cell_type": "code",
   "execution_count": 6,
   "metadata": {},
   "outputs": [],
   "source": [
    "from retriever.retriever_bi_ojk.retriever_bi_ojk import get_retriever_bi_ojk, get_combined_retriever_bi_ojk\n",
    "from langchain.chains.query_constructor.base import AttributeInfo\n",
    "\n",
    "\n",
    "# metadata_field_info_bi = [\n",
    "#     AttributeInfo(\n",
    "#         name=\"title\",\n",
    "#         description=\"The title of the document of regulation\",\n",
    "#         type=\"string\",\n",
    "#     ),\n",
    "#     AttributeInfo(\n",
    "#         name=\"date\",\n",
    "#         description=\"The date of the document of regulation\",\n",
    "#         type=\"string\",\n",
    "#     ),\n",
    "#     AttributeInfo(\n",
    "#         name=\"type_of_regulation\",\n",
    "#         description=\"The type of the regulation\",\n",
    "#         type=\"string\",\n",
    "#     ),\n",
    "#     AttributeInfo(\n",
    "#         name=\"sector\",\n",
    "#         description=\"The sector of the regulation\",\n",
    "#         type=\"string\",\n",
    "#     ),\n",
    "# ]\n",
    "\n",
    "# retriever_bi = get_retriever_bi_ojk(\n",
    "#     vector_store=vector_store_bi,\n",
    "#     embed_model=embed_model,\n",
    "#     llm_model=llm_model,\n",
    "#     config=config,\n",
    "#     top_k=20,\n",
    "#     top_n=6,\n",
    "#     metadata_field_info=metadata_field_info_bi,\n",
    "# )\n",
    "\n",
    "\n",
    "metadata_field_info_ojk = [\n",
    "    AttributeInfo(\n",
    "        name=\"title\",\n",
    "        description=\"The title of the document of regulation\",\n",
    "        type=\"string\",\n",
    "    ),\n",
    "    AttributeInfo(\n",
    "        name=\"sector\",\n",
    "        description=\"The sector of the regulation\",\n",
    "        type=\"string\",\n",
    "    ),\n",
    "    AttributeInfo(\n",
    "        name=\"subsector\",\n",
    "        description=\"The subsector of the regulation\",\n",
    "        type=\"string\",\n",
    "    ),\n",
    "    AttributeInfo(\n",
    "        name=\"regulation_type\",\n",
    "        description=\"The type of the regulation\",\n",
    "        type=\"string\",\n",
    "    ),\n",
    "    AttributeInfo(\n",
    "        name=\"regulation_number\",\n",
    "        description=\"The number of the regulation\",\n",
    "        type=\"string\",\n",
    "    ),\n",
    "    AttributeInfo(\n",
    "        name=\"effective_date\",\n",
    "        description=\"The effective date of the regulation\",\n",
    "        type=\"string\",\n",
    "    ),\n",
    "]\n",
    "\n",
    "retriever_ojk = get_retriever_bi_ojk(\n",
    "    vector_store=vector_store_ojk,\n",
    "    embed_model=embed_model,\n",
    "    llm_model=llm_model,\n",
    "    config=config,\n",
    "    top_k=20,\n",
    "    top_n=6,\n",
    ")\n",
    "\n",
    "# retriever = get_combined_retriever_bi_ojk(\n",
    "#     vector_store_ojk=vector_store_ojk,\n",
    "#     vector_store_bi=vector_store_bi,\n",
    "#     embed_model=embed_model,\n",
    "#     llm_model=llm_model,\n",
    "#     config=config,\n",
    "#     top_k=20,\n",
    "#     top_n=6,\n",
    "# )"
   ]
  },
  {
   "cell_type": "code",
   "execution_count": 7,
   "metadata": {},
   "outputs": [
    {
     "data": {
      "text/plain": [
       "[Document(metadata={'id': 'doc:ojk:4effeb544d3c4a2da39e713b48c8b8fc', 'title': 'Peraturan Bank Indonesia tentang Produk Bank Syariah dan Unit Usaha Syariah', 'sector': 'Perbankan,  Syariah', 'subsector': 'Bank Umum,  Perbankan Syariah', 'regulation_type': 'PPBI', 'regulation_number': '10/17/PBI/2008', 'effective_date': '28 Desember 2016', 'file_url': 'https://www.ojk.go.id/id/regulasi/Documents/Pages/PBI-tentang-Produk-Bank-Syariah-dan-Unit-Usaha-Syariah/169.pdf', 'doc_id': '1070', 'page_number': '4', 'relevance_score': 0.10894505}, page_content='dimaksud pada ayat (1) paling lambat 15 (lima belas) hari sejak \\nseluruh persyaratan dipenuhi dan dokumen pelaporan diterima \\nsecara lengkap. \\n(3) Bank dilarang mengeluarkan Produk baru dalam jangka waktu 15 \\n(lima belas) hari sebagaimana dimaksud pada ayat (2), apabila \\nbelum memperoleh penegasan tidak keberatan dari Bank \\nIndonesia. \\n(4) Apabila dalam jangka waktu 15 (lima belas) hari setelah seluruh \\npersyaratan dipenuhi dan dokumen pelaporan diterima secara \\nlengkap, Bank Indonesia tidak memberikan penegasan, maka \\nBank dapat mengeluarkan Produk baru dimaksud.  \\n \\nPasal 4 \\nBank Indonesia memberikan persetujuan atau penolakan atas \\npermohonan sebagaimana dimaksud pada Pasal 2 ayat (3) paling lambat \\n15 (lima belas) hari sejak seluruh persyaratan dipenuhi dan dokumen \\npelaporan diterima secara lengkap. \\n \\n \\nPasal 5 …'),\n",
       " Document(metadata={'id': 'doc:ojk:cc6c2abdaa5a46d9a0372401c57cf751', 'title': 'POJK tentang Perizinan Usaha dan Kelembagaan Perusahaan Pialang Asuransi, Perusahaan Palang Reasuransi, dan Perusahaan Penilai Kerugian Asuransi', 'sector': 'IKNB', 'subsector': 'Asuransi,  Lembaga Pembiayaan', 'regulation_type': 'Peraturan OJK', 'regulation_number': '68/POJK.05/2016', 'effective_date': '28 Desember 2016', 'file_url': 'https://www.ojk.go.id/id/regulasi/Documents/Pages/POJK-tentang-Perizinan-Usaha-dan-Kelembagaan-Perusahaan-Pialang-Asuransi,-Palang-Reasuransi,-dan-Penilai-Kerugian-Asuransi/pojk%2068-2016.pdf', 'doc_id': '1061', 'page_number': '27', 'relevance_score': 0.09825223}, page_content='sebagaimana \\ndimaksud \\ndalam Pasal 22 ayat (2) dalam jangka waktu paling \\nlama 20 (dua puluh) hari kerja sejak permohonan \\npendaftaran diterima. \\n(2) \\nPemohon harus menyampaikan kelengkapan dokumen \\nsebagaimana dimaksud pada ayat (1) paling lama 20 \\n(dua puluh) hari kerja sejak tanggal surat permintaan \\nkelengkapan dokumen dari OJK. \\n(3) \\nDalam hal pemohon telah menyampaikan kelengkapan \\ndokumen sebagaimana dimaksud pada ayat (2), OJK \\nmemberikan persetujuan atau penolakan sesuai dengan \\nketentuan sebagaimana dimaksud pada ayat (1). \\n(4) \\nDalam rangka memproses permohonan pendaftaran \\nsebagaimana dimaksud pada ayat (1), OJK melakukan \\npenelitian atas kelengkapan dokumen permohonan. \\n(5) \\nApabila dalam waktu 20 (dua puluh) hari kerja sejak \\ntanggal surat permintaan kelengkapan dokumen \\nsebagaimana dimaksud pada ayat (1), OJK belum \\nmenerima tanggapan atas permintaan kelengkapan \\ndokumen dimaksud, pemohon dianggap membatalkan \\npermohonan pendaftaran. \\n(6)'),\n",
       " Document(metadata={'id': 'doc:ojk:a4e8b6d830a54d798f268f2d766b762a', 'title': 'Bank Perantara', 'sector': 'Perbankan', 'subsector': 'Bank Umum', 'regulation_type': 'Peraturan OJK', 'regulation_number': '16/POJK.03/2017', 'effective_date': '7 April 2017', 'file_url': 'https://www.ojk.go.id/id/regulasi/Documents/Pages/Bank-Perantara/SAL%20POJK%2016%20Bank%20Perantara(1).pdf', 'doc_id': '992', 'page_number': '9', 'relevance_score': 0.07504073}, page_content='paling lama 30 (tiga puluh) hari kerja terhitung sejak \\nizin usaha diberikan oleh OJK. \\n(2) \\nPelaksanaan kegiatan usaha sebagaimana dimaksud \\npada ayat (1) harus dilaporkan oleh direksi Bank \\nPerantara kepada OJK paling lama 10 (sepuluh) hari \\nkerja \\nsetelah \\ntanggal \\npelaksanaan \\nkegiatan \\noperasional. \\n(3) \\nBerdasarkan permintaan LPS, OJK dapat memberikan \\npersetujuan untuk memperpanjang jangka waktu \\npelaksanaan kegiatan usaha sebagaimana dimaksud \\npada ayat (1). \\n \\nPasal 21  \\nDalam \\nkondisi \\ntertentu, \\nLPS \\ndapat \\nmengajukan \\npermohonan persetujuan prinsip dan izin usaha Bank \\nPerantara sebagaimana dimaksud dalam Pasal 6 pada \\nwaktu yang sama. \\n \\nPasal 22  \\nPermohonan persetujuan prinsip dan izin usaha Bank \\nPerantara pada waktu yang sama sebagaimana dimaksud \\ndalam Pasal 21 disertai dengan kelengkapan dokumen'),\n",
       " Document(metadata={'id': 'doc:ojk:614aa40e84e54722ac1bb29652d0daba', 'title': 'Pemanfaatan Tenaga Kerja Asing dan Program Alih Pengetahuan di Sektor Perbankan', 'sector': 'Perbankan', 'subsector': 'Bank Umum', 'regulation_type': 'Peraturan OJK', 'regulation_number': '37/POJK.03/2017', 'effective_date': '12 Juli 2017', 'file_url': 'https://www.ojk.go.id/id/regulasi/Documents/Pages/Pemanfaatan-Tenaga-Kerja-Asing-dan-Program-Alih-Pengetahuan-Sektor-Perbankan/SAL%20POJK%2037%20-%20TKA%20di%20perbankan.pdf', 'doc_id': '942', 'page_number': '14', 'relevance_score': 0.07263671}, page_content='lama \\n30 \\n(tiga \\npuluh) \\nhari \\nkerja \\nsejak \\ndokumen \\npermohonan diterima secara lengkap. \\n(5) \\nPengangkatan \\nTenaga Kerja Asing sebagai \\nPejabat \\nEksekutif sebagaimana dimaksud pada ayat (4) wajib \\ndilaporkan oleh Bank kepada Otoritas Jasa Keuangan \\npaling lama 10 (sepuluh) hari kerja setelah tanggal \\npengangkatan \\nefektif \\ndilampiri \\ndengan \\ndokumen \\npendukung. \\n \\nPasal 21 \\nPelaporan pemanfaatan Tenaga Kerja Asing sebagai Tenaga \\nAhli atau Konsultan sebagaimana dimaksud dalam Pasal 10 \\ndisampaikan kepada Otoritas Jasa Keuangan dengan alamat: \\na. \\nDepartemen Pengawasan Bank terkait atau Departemen \\nPerbankan Syariah, bagi Bank yang berkantor pusat atau \\nkantor cabang dari bank yang berkedudukan di luar \\nnegeri yang berada di wilayah Provinsi Daerah Khusus \\nIbukota Jakarta; atau \\nb. \\nKantor Regional Otoritas Jasa Keuangan atau Kantor \\nOtoritas Jasa Keuangan setempat sesuai wilayah tempat \\nkedudukan kantor pusat Bank. \\n \\nPasal 22 \\n(1)'),\n",
       " Document(metadata={'id': 'doc:ojk:f862896fc86745d1b236394b00871871', 'title': 'Perizinan Usaha dan Kelembagaan Lembaga Penjamin', 'sector': 'IKNB', 'subsector': 'Lembaga Jasa Keuangan Khusus,  Lembaga Kliring dan Penjaminan', 'regulation_type': 'Peraturan OJK', 'regulation_number': '1/POJK.05/2017', 'effective_date': '11 Januari 2017', 'file_url': 'https://www.ojk.go.id/id/regulasi/Documents/Pages/Perizinan-Usaha-dan-Kelembagaan-Lembaga-Penjamin/POJK%201-2017%20Perizinan%20dan%20Kelembagaan%20Lembaga%20Penjamin.pdf', 'doc_id': '1030', 'page_number': '78', 'relevance_score': 0.024516337}, page_content='(1) paling lama 20 (dua puluh) hari kerja sejak tanggal \\nsurat permintaan kelengkapan dokumen dari Otoritas \\nJasa Keuangan.  \\n(4) \\nDalam \\nhal \\nDireksi \\nLembaga \\nPenjamin \\ntelah \\nmenyampaikan \\nkelengkapan \\ndokumen \\nsebagaimana \\ndimaksud pada ayat (3), Otoritas Jasa Keuangan \\nmemberikan \\npersetujuan \\natau \\npenolakan \\nsesuai    \\ndengan ketentuan sebagaimana dimaksud pada ayat    \\n(1).'),\n",
       " Document(metadata={'id': 'doc:ojk:d0a1e48475864a3296830625048a27b2', 'title': 'Penilaian Kemampuan dan Kepatutan Bagi Pihak Utama Lembaga Jasa Keuangan Non-Bank', 'sector': 'IKNB', 'subsector': 'Dana Pensiun,  Lembaga Pembiayaan,  Peraturan Lainnya', 'regulation_type': 'Surat Edaran OJK', 'regulation_number': '31/SEOJK.05/2016', 'effective_date': '30 Agustus 2016', 'file_url': 'https://www.ojk.go.id/id/regulasi/Documents/Pages/Penilaian-Kemampuan-dan-Kepatutan-Bagi-Pihak-Utama-Lembaga-Jasa-Keuangan-Non-Bank/SEOJK%20Pedoman%20PKK%20IKNB.pdf', 'doc_id': '1154', 'page_number': '28', 'relevance_score': 0.01572399}, page_content='jangka waktu paling lama 20 (dua puluh) hari kerja. \\n5. \\nDalam hal LJKNB tidak menyampaikan kekurangan \\ndokumen persyaratan administratif dalam jangka waktu \\npaling lama 20 (dua puluh) hari kerja sebagaimana \\ndimaksud pada angka 4, LJKNB dianggap membatalkan \\npermohonan untuk memperoleh persetujuan menjadi \\nPihak Utama.  \\n6. \\nOJK \\nmenyampaikan \\nsurat \\npenolakan \\natas \\nsurat \\npermohonan untuk memperoleh persetujuan menjadi \\nPihak Utama yang diajukan oleh LJKNB apabila dokumen')]"
      ]
     },
     "execution_count": 7,
     "metadata": {},
     "output_type": "execute_result"
    }
   ],
   "source": [
    "retriever_ojk.invoke(\"Berapa lama waktu maksimum dalam hari kerja yang diberikan kepada Bank Indonesia untuk memberitahukan keputusan kepada Lembaga Sertifikasi Profesi tentang permohonannya sebagaimana dimaksud dalam Pasal 21??\")"
   ]
  },
  {
   "cell_type": "markdown",
   "metadata": {},
   "source": [
    "## **Create Chain**"
   ]
  },
  {
   "cell_type": "code",
   "execution_count": 13,
   "metadata": {},
   "outputs": [],
   "source": [
    "from constant.ojk.prompt import CONTEXTUALIZE_Q_PROMPT_STR, QA_SYSTEM_PROMPT_STR\n",
    "from databases.chat_store import RedisChatStore\n",
    "from chain.rag_chain import create_chain, create_chain_with_chat_history\n",
    "\n",
    "chat_store = RedisChatStore(k=5, config=config, db_id=1)\n",
    "\n",
    "chain = create_chain(\n",
    "    contextualize_q_prompt_str=CONTEXTUALIZE_Q_PROMPT_STR,\n",
    "    qa_system_prompt_str=QA_SYSTEM_PROMPT_STR,\n",
    "    retriever=retriever_ojk,\n",
    "    llm_model=llm_model,\n",
    ")\n",
    "\n",
    "chain_history = create_chain_with_chat_history(\n",
    "    final_chain=chain,\n",
    "    chat_store=chat_store,\n",
    ")"
   ]
  },
  {
   "cell_type": "markdown",
   "metadata": {},
   "source": [
    "## **Invoke**"
   ]
  },
  {
   "cell_type": "markdown",
   "metadata": {},
   "source": [
    "#### **With Question, Answer, and Context**"
   ]
  },
  {
   "cell_type": "code",
   "execution_count": 12,
   "metadata": {},
   "outputs": [
    {
     "data": {
      "text/plain": [
       "{'rewrited question': 'Berapa lama minimal jangka waktu untuk Rencana Bisnis Bank?',\n",
       " 'answer': 'Tidak ada informasi yang relevan dalam konteks yang diberikan mengenai jangka waktu minimal untuk Rencana Bisnis Bank.',\n",
       " 'context': '[\\n  {\\n    \"metadata\": {\\n      \"id\": \"doc:bi:a4cf4d51606f4a8e8d95b77327ee9068\",\\n      \"file_id\": \"33a9232e\",\\n      \"title\": \"SURAT EDARAN BANK INDONESIA NO.13/21/DSM TANGGAL 15 AGUSTUS 2011 PERIHAL PELAPORAN KEGIATAN LALU LINTAS DEVISA LEMBAGA BUKAN BANK\",\\n      \"file_link\": \"https://www.bi.go.id/id/publikasi/peraturan/Documents/7c3f7d4a743a483fa37cdbfe0bbd8134lamp_SE_132112.zip\",\\n      \"date\": \"15 Agustus 2011\",\\n      \"type_of_regulation\": \"Surat Edaran\",\\n      \"sector\": \"Moneter\",\\n      \"standardized_extracted_file_name\": \"sebi-13_21_dsm-15082011-surat_edaran_bank_indonesia_no13_21_dsm_tanggal_15_agustus_2011_perihal_pela-lamp_buku_pedoman\",\\n      \"standardized_file_name\": \"sebi-13_21_dsm-15082011-surat_edaran_bank_indonesia_no13_21_dsm_tanggal_15_agustus_2011_perihal_pelaporan_kegiatan_lalu_lintas_devisa_lembaga_bukan_bank\",\\n      \"relevance_score\": 0.00036117696\\n    },\\n    \"page_content\": \"Pembayaran konstruksi di luar negeri - sampai dengan 1 tahun 406101T Koreksi Kredit: Pembayaran konstruksi di luar negeri - lebih dari satu tahun 406102T Koreksi Kredit: Pembayaran asuransi jiwa - Pembayaran premi (premium earned) 407101T Koreksi\"\\n  },\\n  {\\n    \"metadata\": {\\n      \"id\": \"doc:bi:f86089f35ddd483ab464a9ac5d4d4cc9\",\\n      \"file_id\": \"32ce9fd6\",\\n      \"title\": \"SURAT EDARAN NOMOR 14/24/DSM PERIHAL PELAPORAN KEGIATAN LALU LINTAS DEVISA LEMBAGA BUKAN BANK\",\\n      \"file_link\": \"https://www.bi.go.id/id/publikasi/peraturan/Documents/dbf31ace5349419493988d278299b731lampiran_se_142412.zip\",\\n      \"date\": \"7 September 2012\",\\n      \"type_of_regulation\": \"Surat Edaran\",\\n      \"sector\": \"Moneter\",\\n      \"standardized_extracted_file_name\": \"sebi-14_24_dsm-07092012-surat_edaran_nomor_14_24_dsm_perihal_pelaporan_kegiatan_lalu_lintas_devisa_l-lampiran_3_buku_pedoman\",\\n      \"standardized_file_name\": \"sebi-14_24_dsm-07092012-surat_edaran_nomor_14_24_dsm_perihal_pelaporan_kegiatan_lalu_lintas_devisa_lembaga_bukan_bank\",\\n      \"relevance_score\": 0.00013238187\\n    },\\n    \"page_content\": \"telekomunikasi 305102T Adjusment Debet: Penerimaan komputer 309000T Adjusment Debet: Penerimaan informasi 309100T Adjusment Debet: Penerimaan konstruksi di Indonesia - sampai dengan 1 tahun 306201T Adjusment Debet: Penerimaan konstruksi di Indonesia\"\\n  },\\n  {\\n    \"metadata\": {\\n      \"id\": \"doc:bi:06f7b28833384e67a54a7dbcebc5a0ce\",\\n      \"file_id\": \"33a9232e\",\\n      \"title\": \"SURAT EDARAN BANK INDONESIA NO.13/21/DSM TANGGAL 15 AGUSTUS 2011 PERIHAL PELAPORAN KEGIATAN LALU LINTAS DEVISA LEMBAGA BUKAN BANK\",\\n      \"file_link\": \"https://www.bi.go.id/id/publikasi/peraturan/Documents/7c3f7d4a743a483fa37cdbfe0bbd8134lamp_SE_132112.zip\",\\n      \"date\": \"15 Agustus 2011\",\\n      \"type_of_regulation\": \"Surat Edaran\",\\n      \"sector\": \"Moneter\",\\n      \"standardized_extracted_file_name\": \"sebi-13_21_dsm-15082011-surat_edaran_bank_indonesia_no13_21_dsm_tanggal_15_agustus_2011_perihal_pela-lamp_buku_pedoman\",\\n      \"standardized_file_name\": \"sebi-13_21_dsm-15082011-surat_edaran_bank_indonesia_no13_21_dsm_tanggal_15_agustus_2011_perihal_pelaporan_kegiatan_lalu_lintas_devisa_lembaga_bukan_bank\",\\n      \"relevance_score\": 4.264747e-05\\n    },\\n    \"page_content\": \"telekomunikasi 105102T Pendapatan komputer 109000T Pendapatan informasi 109100T Pendapatan konstruksi di Indonesia - sampai dengan 1 tahun 106201T Pendapatan konstruksi di Indonesia - lebih dari satu tahun 106202T Pendapatan konstruksi di luar\"\\n  },\\n  {\\n    \"metadata\": {\\n      \"id\": \"doc:bi:8da3938760624c4b9bd3f417b4588d6f\",\\n      \"file_id\": \"caf38f50\",\\n      \"title\": \"SURAT EDARAN BANK INDONESIA NO.12/11/DPNP - PERUBAHAN KEDUA ATAS SE BI NO.3/30/DPNP TANGGAL 14 DESEMBER 2001 PERIHAL LAPORAN KEUANGAN PUBLIKASI TRIWULANAN DAN BULANAN BANK UMUM SERTA LAPORAN TERTENTU YANG DISAMPAIKAN KEPADA BANK INDONESIA\",\\n      \"file_link\": \"https://www.bi.go.id/id/publikasi/peraturan/Documents/ab76bd78981b43649d6bacf303ad84eelampiran_se_121112.zip\",\\n      \"date\": \"31 Maret 2010\",\\n      \"type_of_regulation\": \"Surat Edaran\",\\n      \"sector\": \"Perbankan\",\\n      \"standardized_extracted_file_name\": \"sebi-12_11_dpnp-31032010-surat_edaran_bank_indonesia_no12_11_dpnp___perubahan_kedua_atas_se_bi_no3_3-14_pedoman_rasio_keuangan\",\\n      \"standardized_file_name\": \"sebi-12_11_dpnp-31032010-surat_edaran_bank_indonesia_no12_11_dpnp___perubahan_kedua_atas_se_bi_no3_30_dpnp_tanggal_14_desember_2001_perihal_laporan_keuangan_publikasi_triwulanan_dan_bulanan_bank_umum_serta_laporan_tertentu_yang_disampaikan_kepada_bank_indonesia\",\\n      \"relevance_score\": 1.2508839e-05\\n    },\\n    \"page_content\": \"Total kredit\\\\n\\\\n\\\\n\\\\n\\\\n\\\\n\\\\t\\\\tKredit adalah kredit sebagaimana diatur dalam ketentuan Bank Indonesia mengenai penilaian kualitas aset bank umum. \\\\n\\\\n\\\\t\\\\tKredit bermasalah adalah kredit dengan kualitas kurang lancar, diragukan, dan macet.\"\\n  },\\n  {\\n    \"metadata\": {\\n      \"id\": \"doc:bi:230a569c73f743fbbd0003dc1ad926cc\",\\n      \"file_id\": \"6cd11e6f\",\\n      \"title\": \"SURAT EDARAN BANK INDONESIA NO.15/5/DSM TANGGAL 7 MARET 2013 PERIHAL PELAPORAN KEGIATAN LALU LINTAS DEVISA SELAIN UTANG LUAR NEGERI\",\\n      \"file_link\": \"https://www.bi.go.id/id/publikasi/peraturan/Documents/f16e4f7524784cf188b873895a89c833lampiran_se_150514.zip\",\\n      \"date\": \"7 Maret 2013\",\\n      \"type_of_regulation\": \"Surat Edaran\",\\n      \"sector\": \"Moneter\",\\n      \"standardized_extracted_file_name\": \"sebi-15_5_dsm-07032013-surat_edaran_bank_indonesia_no15_5_dsm_tanggal_7_maret_2013_perihal_pelaporan-lampiran_3_buku_pedoman_final\",\\n      \"standardized_file_name\": \"sebi-15_5_dsm-07032013-surat_edaran_bank_indonesia_no15_5_dsm_tanggal_7_maret_2013_perihal_pelaporan_kegiatan_lalu_lintas_devisa_selain_utang_luar_negeri\",\\n      \"relevance_score\": 1.0370214e-05\\n    },\\n    \"page_content\": \"Kredit: Pembayaran reasuransi - Komisi diterima (commission received) 407305T Adjusment Kredit: Pembayaran atas jasa penunjang asuransi (auxiliary insurance services) 407400T Adjusment Kredit: Pembayaran jasa keuangan 408000T Adjusment Kredit:\"\\n  },\\n  {\\n    \"metadata\": {\\n      \"id\": \"doc:bi:2f9dfc396cb047dda50ca7e2aa59f4d3\",\\n      \"file_id\": \"32ce9fd6\",\\n      \"title\": \"SURAT EDARAN NOMOR 14/24/DSM PERIHAL PELAPORAN KEGIATAN LALU LINTAS DEVISA LEMBAGA BUKAN BANK\",\\n      \"file_link\": \"https://www.bi.go.id/id/publikasi/peraturan/Documents/dbf31ace5349419493988d278299b731lampiran_se_142412.zip\",\\n      \"date\": \"7 September 2012\",\\n      \"type_of_regulation\": \"Surat Edaran\",\\n      \"sector\": \"Moneter\",\\n      \"standardized_extracted_file_name\": \"sebi-14_24_dsm-07092012-surat_edaran_nomor_14_24_dsm_perihal_pelaporan_kegiatan_lalu_lintas_devisa_l-lampiran_3_buku_pedoman\",\\n      \"standardized_file_name\": \"sebi-14_24_dsm-07092012-surat_edaran_nomor_14_24_dsm_perihal_pelaporan_kegiatan_lalu_lintas_devisa_lembaga_bukan_bank\",\\n      \"relevance_score\": 7.889263e-06\\n    },\\n    \"page_content\": \"3a DAFTAR SANDI TRANSAKSI PIUTANG USAHA FORM : C0005-C0006 Debet Premi Dibayar Dimuka (Prepaid Premiums) 124021A Debet Piutang Premi 124022A Debet Piutang Reasuransi 124023A Debet Piutang Retrosesi 124024A Debet Piutang Klaim (Claims Receivable)\"\\n  }\\n]'}"
      ]
     },
     "execution_count": 12,
     "metadata": {},
     "output_type": "execute_result"
    }
   ],
   "source": [
    "from chain.rag_chain import get_response\n",
    "\n",
    "response = get_response(\n",
    "    chain=chain_history,\n",
    "    question=\"What is the minimum term length for a Bank Business Plan?\",\n",
    "    user_id=USER_ID,\n",
    "    conversation_id=CONVERSATION_ID\n",
    ")\n",
    "\n",
    "response"
   ]
  },
  {
   "cell_type": "code",
   "execution_count": 11,
   "metadata": {},
   "outputs": [
    {
     "name": "stdout",
     "output_type": "stream",
     "text": [
      "[\n",
      "  {\n",
      "    \"metadata\": {\n",
      "      \"id\": \"doc:bi:9f525c3e76e44bb7bc1751f692dd6fa1\",\n",
      "      \"file_id\": \"2de48a27\",\n",
      "      \"title\": \"SURAT EDARAN BANK INDONESIA NO.15/5/DSM TANGGAL 7 MARET 2013 PERIHAL PELAPORAN KEGIATAN LALU LINTAS DEVISA SELAIN UTANG LUAR NEGERI\",\n",
      "      \"file_link\": \"https://www.bi.go.id/id/publikasi/peraturan/Documents/f16e4f7524784cf188b873895a89c833lampiran_se_150514.zip\",\n",
      "      \"date\": \"7 Maret 2013\",\n",
      "      \"type_of_regulation\": \"Surat Edaran\",\n",
      "      \"sector\": \"Moneter\",\n",
      "      \"standardized_extracted_file_name\": \"sebi-15_5_dsm-07032013-surat_edaran_bank_indonesia_no15_5_dsm_tanggal_7_maret_2013_perihal_pelaporan-lampiran_3_final\",\n",
      "      \"standardized_file_name\": \"sebi-15_5_dsm-07032013-surat_edaran_bank_indonesia_no15_5_dsm_tanggal_7_maret_2013_perihal_pelaporan_kegiatan_lalu_lintas_devisa_selain_utang_luar_negeri\",\n",
      "      \"relevance_score\": 0.0015669888\n",
      "    },\n",
      "    \"page_content\": \"Korea sebesar EUR500,000 Perusahaan R Ltd. tidak mendapatkan bunga dari simpanan pada France Denmark Oil Corp. tersebut.\"\n",
      "  },\n",
      "  {\n",
      "    \"metadata\": {\n",
      "      \"id\": \"doc:bi:a4cf4d51606f4a8e8d95b77327ee9068\",\n",
      "      \"file_id\": \"33a9232e\",\n",
      "      \"title\": \"SURAT EDARAN BANK INDONESIA NO.13/21/DSM TANGGAL 15 AGUSTUS 2011 PERIHAL PELAPORAN KEGIATAN LALU LINTAS DEVISA LEMBAGA BUKAN BANK\",\n",
      "      \"file_link\": \"https://www.bi.go.id/id/publikasi/peraturan/Documents/7c3f7d4a743a483fa37cdbfe0bbd8134lamp_SE_132112.zip\",\n",
      "      \"date\": \"15 Agustus 2011\",\n",
      "      \"type_of_regulation\": \"Surat Edaran\",\n",
      "      \"sector\": \"Moneter\",\n",
      "      \"standardized_extracted_file_name\": \"sebi-13_21_dsm-15082011-surat_edaran_bank_indonesia_no13_21_dsm_tanggal_15_agustus_2011_perihal_pela-lamp_buku_pedoman\",\n",
      "      \"standardized_file_name\": \"sebi-13_21_dsm-15082011-surat_edaran_bank_indonesia_no13_21_dsm_tanggal_15_agustus_2011_perihal_pelaporan_kegiatan_lalu_lintas_devisa_lembaga_bukan_bank\",\n",
      "      \"relevance_score\": 0.00056588\n",
      "    },\n",
      "    \"page_content\": \"Pembayaran konstruksi di luar negeri - sampai dengan 1 tahun 406101T Koreksi Kredit: Pembayaran konstruksi di luar negeri - lebih dari satu tahun 406102T Koreksi Kredit: Pembayaran asuransi jiwa - Pembayaran premi (premium earned) 407101T Koreksi\"\n",
      "  },\n",
      "  {\n",
      "    \"metadata\": {\n",
      "      \"id\": \"doc:bi:b3a790c6354245b89b3d8e3a4b975b93\",\n",
      "      \"file_id\": \"32ce9fd6\",\n",
      "      \"title\": \"SURAT EDARAN NOMOR 14/24/DSM PERIHAL PELAPORAN KEGIATAN LALU LINTAS DEVISA LEMBAGA BUKAN BANK\",\n",
      "      \"file_link\": \"https://www.bi.go.id/id/publikasi/peraturan/Documents/dbf31ace5349419493988d278299b731lampiran_se_142412.zip\",\n",
      "      \"date\": \"7 September 2012\",\n",
      "      \"type_of_regulation\": \"Surat Edaran\",\n",
      "      \"sector\": \"Moneter\",\n",
      "      \"standardized_extracted_file_name\": \"sebi-14_24_dsm-07092012-surat_edaran_nomor_14_24_dsm_perihal_pelaporan_kegiatan_lalu_lintas_devisa_l-lampiran_3_buku_pedoman\",\n",
      "      \"standardized_file_name\": \"sebi-14_24_dsm-07092012-surat_edaran_nomor_14_24_dsm_perihal_pelaporan_kegiatan_lalu_lintas_devisa_lembaga_bukan_bank\",\n",
      "      \"relevance_score\": 0.0003459916\n",
      "    },\n",
      "    \"page_content\": \"bisnis 203002T Pembayaran pendidikan/pelatihan 204000T Pembayaran telekomunikasi 205100T Pembayaran komputer 209000T Pembayaran informasi 209100T Pembayaran konstruksi di Indonesia - sampai dengan 1 tahun 206201T Pembayaran konstruksi di Indonesia -\"\n",
      "  },\n",
      "  {\n",
      "    \"metadata\": {\n",
      "      \"id\": \"doc:bi:86e3ff91ec3c4b09a92a17af063ede1c\",\n",
      "      \"file_id\": \"33a9232e\",\n",
      "      \"title\": \"SURAT EDARAN BANK INDONESIA NO.13/21/DSM TANGGAL 15 AGUSTUS 2011 PERIHAL PELAPORAN KEGIATAN LALU LINTAS DEVISA LEMBAGA BUKAN BANK\",\n",
      "      \"file_link\": \"https://www.bi.go.id/id/publikasi/peraturan/Documents/7c3f7d4a743a483fa37cdbfe0bbd8134lamp_SE_132112.zip\",\n",
      "      \"date\": \"15 Agustus 2011\",\n",
      "      \"type_of_regulation\": \"Surat Edaran\",\n",
      "      \"sector\": \"Moneter\",\n",
      "      \"standardized_extracted_file_name\": \"sebi-13_21_dsm-15082011-surat_edaran_bank_indonesia_no13_21_dsm_tanggal_15_agustus_2011_perihal_pela-lamp_buku_pedoman\",\n",
      "      \"standardized_file_name\": \"sebi-13_21_dsm-15082011-surat_edaran_bank_indonesia_no13_21_dsm_tanggal_15_agustus_2011_perihal_pelaporan_kegiatan_lalu_lintas_devisa_lembaga_bukan_bank\",\n",
      "      \"relevance_score\": 0.00010391068\n",
      "    },\n",
      "    \"page_content\": \"407304T Koreksi Kredit: Pembayaran reasuransi - Komisi diterima (commission received) 407305T Koreksi Kredit: Pembayaran atas jasa penunjang asuransi (auxiliary insurance services) 407400T Koreksi Kredit: Pembayaran jasa keuangan 408000T Koreksi\"\n",
      "  },\n",
      "  {\n",
      "    \"metadata\": {\n",
      "      \"id\": \"doc:bi:3effc60e2b9e45bca088e03562a5baeb\",\n",
      "      \"file_id\": \"eeed1daf\",\n",
      "      \"title\": \"SURAT EDARAN BANK INDONESIA NOMOR 18/23/DSTA TANGGAL 26 OKTOBER 2016 PERIHAL PEMANTAUAN KEGIATAN LALU LINTAS DEVISA BANK DAN NASABAH\",\n",
      "      \"file_link\": \"https://www.bi.go.id/id/publikasi/peraturan/Documents/Lampiran_SE_182316.zip\",\n",
      "      \"date\": \"31 Oktober 2016\",\n",
      "      \"type_of_regulation\": \"Surat Edaran\",\n",
      "      \"sector\": \"Moneter\",\n",
      "      \"standardized_extracted_file_name\": \"sebi-18_23_dsta-31102016-surat_edaran_bank_indonesia_nomor_18_23_dsta_tanggal_26_oktober_2016_periha-se_ekstern_lld_bank___lampiran_i___petunjuk_teknis_daftar_sandi\",\n",
      "      \"standardized_file_name\": \"sebi-18_23_dsta-31102016-surat_edaran_bank_indonesia_nomor_18_23_dsta_tanggal_26_oktober_2016_perihal_pemantauan_kegiatan_lalu_lintas_devisa_bank_dan_nasabah\",\n",
      "      \"relevance_score\": 6.2050494e-05\n",
      "    },\n",
      "    \"page_content\": \"optik, dan cetak; (3) portal pencarian web; dan  Merupakan nilai gross kontribusi yang dibayar oleh  (4) jasa berlangganan langsung surat kabar atau terbitan berkala. perusahaan dan/atau karyawan perusahaan kepada  dana pensiun. 10. Jasa konstruksi\"\n",
      "  },\n",
      "  {\n",
      "    \"metadata\": {\n",
      "      \"id\": \"doc:bi:97a5f74442934d3597200a1bda1d2205\",\n",
      "      \"file_id\": \"33a9232e\",\n",
      "      \"title\": \"SURAT EDARAN BANK INDONESIA NO.13/21/DSM TANGGAL 15 AGUSTUS 2011 PERIHAL PELAPORAN KEGIATAN LALU LINTAS DEVISA LEMBAGA BUKAN BANK\",\n",
      "      \"file_link\": \"https://www.bi.go.id/id/publikasi/peraturan/Documents/7c3f7d4a743a483fa37cdbfe0bbd8134lamp_SE_132112.zip\",\n",
      "      \"date\": \"15 Agustus 2011\",\n",
      "      \"type_of_regulation\": \"Surat Edaran\",\n",
      "      \"sector\": \"Moneter\",\n",
      "      \"standardized_extracted_file_name\": \"sebi-13_21_dsm-15082011-surat_edaran_bank_indonesia_no13_21_dsm_tanggal_15_agustus_2011_perihal_pela-lamp_buku_pedoman\",\n",
      "      \"standardized_file_name\": \"sebi-13_21_dsm-15082011-surat_edaran_bank_indonesia_no13_21_dsm_tanggal_15_agustus_2011_perihal_pelaporan_kegiatan_lalu_lintas_devisa_lembaga_bukan_bank\",\n",
      "      \"relevance_score\": 3.4808123e-05\n",
      "    },\n",
      "    \"page_content\": \"340014A koreksi kredit Kas dalam valas 440001A koreksi kredit Simpanan (Tabungan, deposito dan simpanan lainnya, kecuali giro) *) 440002A koreksi kredit Premi asuransi jiwa dibayar dimuka (untuk perusahaan non asuransi) 440003A koreksi kredit Premi\"\n",
      "  }\n",
      "]\n"
     ]
    }
   ],
   "source": [
    "print(response['context'])"
   ]
  },
  {
   "cell_type": "markdown",
   "metadata": {},
   "source": [
    "#### **Streaming**"
   ]
  },
  {
   "cell_type": "code",
   "execution_count": 10,
   "metadata": {},
   "outputs": [
    {
     "name": "stdout",
     "output_type": "stream",
     "text": [
      "Saya minta maaf, tetapi pertanyaan Anda tidak terkait dengan konteks yang diberikan. Konteks yang diberikan adalah tentang kepatuhan perbankan di Indonesia. Apakah ada pertanyaan lain yang dapat saya bantu jawab?"
     ]
    }
   ],
   "source": [
    "# from chain.chain_ojk.chain_ojk import print_answer_stream\n",
    "\n",
    "# print_answer_stream(chain=chain, question=\"Siapa itu lionel messi?\", user_id=USER_ID, conversation_id=CONVERSATION_ID)"
   ]
  },
  {
   "cell_type": "markdown",
   "metadata": {},
   "source": [
    "#### **Chat Store Monitor**"
   ]
  },
  {
   "cell_type": "code",
   "execution_count": 10,
   "metadata": {},
   "outputs": [
    {
     "name": "stdout",
     "output_type": "stream",
     "text": [
      "Human: Berapa limit transaksi dari QRIS?\n",
      "AI: Limit transaksi dari QRIS adalah paling banyak Rp5.000.000,00 (lima juta rupiah) pada setiap rekening. \n",
      "\n",
      "Source: Surat Edaran OJK 34/SEOJK.03/2021 (https://www.ojk.go.id/id/regulasi/Documents/Pages/Buku-Panduan-Akuntansi-Perbankan-Bagi-Bank-Umum-Konvensional-/SEOJK%2034%20-%2003%20-%202021.pdf#page=736)\n"
     ]
    }
   ],
   "source": [
    "# to print chat history\n",
    "print(chat_store.get_session_history(user_id=USER_ID, conversation_id=CONVERSATION_ID))"
   ]
  },
  {
   "cell_type": "code",
   "execution_count": 17,
   "metadata": {},
   "outputs": [],
   "source": [
    "# to make the chat history empty\n",
    "chat_store.clear_all()"
   ]
  },
  {
   "cell_type": "code",
   "execution_count": 9,
   "metadata": {},
   "outputs": [
    {
     "ename": "KeyboardInterrupt",
     "evalue": "",
     "output_type": "error",
     "traceback": [
      "\u001b[1;31m---------------------------------------------------------------------------\u001b[0m",
      "\u001b[1;31mKeyboardInterrupt\u001b[0m                         Traceback (most recent call last)",
      "Cell \u001b[1;32mIn[9], line 14\u001b[0m\n\u001b[0;32m     12\u001b[0m \u001b[38;5;28;01mfor\u001b[39;00m key \u001b[38;5;129;01min\u001b[39;00m keys:\n\u001b[0;32m     13\u001b[0m     \u001b[38;5;28;01mif\u001b[39;00m r\u001b[38;5;241m.\u001b[39mhexists(key, \u001b[38;5;124m'\u001b[39m\u001b[38;5;124mdoc_id\u001b[39m\u001b[38;5;124m'\u001b[39m):\n\u001b[1;32m---> 14\u001b[0m         doc_id \u001b[38;5;241m=\u001b[39m \u001b[43mr\u001b[49m\u001b[38;5;241;43m.\u001b[39;49m\u001b[43mhget\u001b[49m\u001b[43m(\u001b[49m\u001b[43mkey\u001b[49m\u001b[43m,\u001b[49m\u001b[43m \u001b[49m\u001b[38;5;124;43m'\u001b[39;49m\u001b[38;5;124;43mdoc_id\u001b[39;49m\u001b[38;5;124;43m'\u001b[39;49m\u001b[43m)\u001b[49m\n\u001b[0;32m     15\u001b[0m         \u001b[38;5;28;01mtry\u001b[39;00m:\n\u001b[0;32m     16\u001b[0m             \u001b[38;5;28;01mif\u001b[39;00m \u001b[38;5;28mint\u001b[39m(doc_id) \u001b[38;5;241m>\u001b[39m \u001b[38;5;241m1111\u001b[39m:\n",
      "File \u001b[1;32mc:\\Users\\acer\\miniconda3\\envs\\chatbot-ocbc\\lib\\site-packages\\redis\\commands\\core.py:4947\u001b[0m, in \u001b[0;36mHashCommands.hget\u001b[1;34m(self, name, key)\u001b[0m\n\u001b[0;32m   4939\u001b[0m \u001b[38;5;28;01mdef\u001b[39;00m \u001b[38;5;21mhget\u001b[39m(\n\u001b[0;32m   4940\u001b[0m     \u001b[38;5;28mself\u001b[39m, name: \u001b[38;5;28mstr\u001b[39m, key: \u001b[38;5;28mstr\u001b[39m\n\u001b[0;32m   4941\u001b[0m ) \u001b[38;5;241m-\u001b[39m\u001b[38;5;241m>\u001b[39m Union[Awaitable[Optional[\u001b[38;5;28mstr\u001b[39m]], Optional[\u001b[38;5;28mstr\u001b[39m]]:\n\u001b[0;32m   4942\u001b[0m \u001b[38;5;250m    \u001b[39m\u001b[38;5;124;03m\"\"\"\u001b[39;00m\n\u001b[0;32m   4943\u001b[0m \u001b[38;5;124;03m    Return the value of ``key`` within the hash ``name``\u001b[39;00m\n\u001b[0;32m   4944\u001b[0m \n\u001b[0;32m   4945\u001b[0m \u001b[38;5;124;03m    For more information see https://redis.io/commands/hget\u001b[39;00m\n\u001b[0;32m   4946\u001b[0m \u001b[38;5;124;03m    \"\"\"\u001b[39;00m\n\u001b[1;32m-> 4947\u001b[0m     \u001b[38;5;28;01mreturn\u001b[39;00m \u001b[38;5;28;43mself\u001b[39;49m\u001b[38;5;241;43m.\u001b[39;49m\u001b[43mexecute_command\u001b[49m\u001b[43m(\u001b[49m\u001b[38;5;124;43m\"\u001b[39;49m\u001b[38;5;124;43mHGET\u001b[39;49m\u001b[38;5;124;43m\"\u001b[39;49m\u001b[43m,\u001b[49m\u001b[43m \u001b[49m\u001b[43mname\u001b[49m\u001b[43m,\u001b[49m\u001b[43m \u001b[49m\u001b[43mkey\u001b[49m\u001b[43m)\u001b[49m\n",
      "File \u001b[1;32mc:\\Users\\acer\\miniconda3\\envs\\chatbot-ocbc\\lib\\site-packages\\redis\\client.py:545\u001b[0m, in \u001b[0;36mRedis.execute_command\u001b[1;34m(self, *args, **options)\u001b[0m\n\u001b[0;32m    542\u001b[0m conn \u001b[38;5;241m=\u001b[39m \u001b[38;5;28mself\u001b[39m\u001b[38;5;241m.\u001b[39mconnection \u001b[38;5;129;01mor\u001b[39;00m pool\u001b[38;5;241m.\u001b[39mget_connection(command_name, \u001b[38;5;241m*\u001b[39m\u001b[38;5;241m*\u001b[39moptions)\n\u001b[0;32m    544\u001b[0m \u001b[38;5;28;01mtry\u001b[39;00m:\n\u001b[1;32m--> 545\u001b[0m     \u001b[38;5;28;01mreturn\u001b[39;00m \u001b[43mconn\u001b[49m\u001b[38;5;241;43m.\u001b[39;49m\u001b[43mretry\u001b[49m\u001b[38;5;241;43m.\u001b[39;49m\u001b[43mcall_with_retry\u001b[49m\u001b[43m(\u001b[49m\n\u001b[0;32m    546\u001b[0m \u001b[43m        \u001b[49m\u001b[38;5;28;43;01mlambda\u001b[39;49;00m\u001b[43m:\u001b[49m\u001b[43m \u001b[49m\u001b[38;5;28;43mself\u001b[39;49m\u001b[38;5;241;43m.\u001b[39;49m\u001b[43m_send_command_parse_response\u001b[49m\u001b[43m(\u001b[49m\n\u001b[0;32m    547\u001b[0m \u001b[43m            \u001b[49m\u001b[43mconn\u001b[49m\u001b[43m,\u001b[49m\u001b[43m \u001b[49m\u001b[43mcommand_name\u001b[49m\u001b[43m,\u001b[49m\u001b[43m \u001b[49m\u001b[38;5;241;43m*\u001b[39;49m\u001b[43margs\u001b[49m\u001b[43m,\u001b[49m\u001b[43m \u001b[49m\u001b[38;5;241;43m*\u001b[39;49m\u001b[38;5;241;43m*\u001b[39;49m\u001b[43moptions\u001b[49m\n\u001b[0;32m    548\u001b[0m \u001b[43m        \u001b[49m\u001b[43m)\u001b[49m\u001b[43m,\u001b[49m\n\u001b[0;32m    549\u001b[0m \u001b[43m        \u001b[49m\u001b[38;5;28;43;01mlambda\u001b[39;49;00m\u001b[43m \u001b[49m\u001b[43merror\u001b[49m\u001b[43m:\u001b[49m\u001b[43m \u001b[49m\u001b[38;5;28;43mself\u001b[39;49m\u001b[38;5;241;43m.\u001b[39;49m\u001b[43m_disconnect_raise\u001b[49m\u001b[43m(\u001b[49m\u001b[43mconn\u001b[49m\u001b[43m,\u001b[49m\u001b[43m \u001b[49m\u001b[43merror\u001b[49m\u001b[43m)\u001b[49m\u001b[43m,\u001b[49m\n\u001b[0;32m    550\u001b[0m \u001b[43m    \u001b[49m\u001b[43m)\u001b[49m\n\u001b[0;32m    551\u001b[0m \u001b[38;5;28;01mfinally\u001b[39;00m:\n\u001b[0;32m    552\u001b[0m     \u001b[38;5;28;01mif\u001b[39;00m \u001b[38;5;129;01mnot\u001b[39;00m \u001b[38;5;28mself\u001b[39m\u001b[38;5;241m.\u001b[39mconnection:\n",
      "File \u001b[1;32mc:\\Users\\acer\\miniconda3\\envs\\chatbot-ocbc\\lib\\site-packages\\redis\\retry.py:46\u001b[0m, in \u001b[0;36mRetry.call_with_retry\u001b[1;34m(self, do, fail)\u001b[0m\n\u001b[0;32m     44\u001b[0m \u001b[38;5;28;01mwhile\u001b[39;00m \u001b[38;5;28;01mTrue\u001b[39;00m:\n\u001b[0;32m     45\u001b[0m     \u001b[38;5;28;01mtry\u001b[39;00m:\n\u001b[1;32m---> 46\u001b[0m         \u001b[38;5;28;01mreturn\u001b[39;00m \u001b[43mdo\u001b[49m\u001b[43m(\u001b[49m\u001b[43m)\u001b[49m\n\u001b[0;32m     47\u001b[0m     \u001b[38;5;28;01mexcept\u001b[39;00m \u001b[38;5;28mself\u001b[39m\u001b[38;5;241m.\u001b[39m_supported_errors \u001b[38;5;28;01mas\u001b[39;00m error:\n\u001b[0;32m     48\u001b[0m         failures \u001b[38;5;241m+\u001b[39m\u001b[38;5;241m=\u001b[39m \u001b[38;5;241m1\u001b[39m\n",
      "File \u001b[1;32mc:\\Users\\acer\\miniconda3\\envs\\chatbot-ocbc\\lib\\site-packages\\redis\\client.py:546\u001b[0m, in \u001b[0;36mRedis.execute_command.<locals>.<lambda>\u001b[1;34m()\u001b[0m\n\u001b[0;32m    542\u001b[0m conn \u001b[38;5;241m=\u001b[39m \u001b[38;5;28mself\u001b[39m\u001b[38;5;241m.\u001b[39mconnection \u001b[38;5;129;01mor\u001b[39;00m pool\u001b[38;5;241m.\u001b[39mget_connection(command_name, \u001b[38;5;241m*\u001b[39m\u001b[38;5;241m*\u001b[39moptions)\n\u001b[0;32m    544\u001b[0m \u001b[38;5;28;01mtry\u001b[39;00m:\n\u001b[0;32m    545\u001b[0m     \u001b[38;5;28;01mreturn\u001b[39;00m conn\u001b[38;5;241m.\u001b[39mretry\u001b[38;5;241m.\u001b[39mcall_with_retry(\n\u001b[1;32m--> 546\u001b[0m         \u001b[38;5;28;01mlambda\u001b[39;00m: \u001b[38;5;28mself\u001b[39m\u001b[38;5;241m.\u001b[39m_send_command_parse_response(\n\u001b[0;32m    547\u001b[0m             conn, command_name, \u001b[38;5;241m*\u001b[39margs, \u001b[38;5;241m*\u001b[39m\u001b[38;5;241m*\u001b[39moptions\n\u001b[0;32m    548\u001b[0m         ),\n\u001b[0;32m    549\u001b[0m         \u001b[38;5;28;01mlambda\u001b[39;00m error: \u001b[38;5;28mself\u001b[39m\u001b[38;5;241m.\u001b[39m_disconnect_raise(conn, error),\n\u001b[0;32m    550\u001b[0m     )\n\u001b[0;32m    551\u001b[0m \u001b[38;5;28;01mfinally\u001b[39;00m:\n\u001b[0;32m    552\u001b[0m     \u001b[38;5;28;01mif\u001b[39;00m \u001b[38;5;129;01mnot\u001b[39;00m \u001b[38;5;28mself\u001b[39m\u001b[38;5;241m.\u001b[39mconnection:\n",
      "File \u001b[1;32mc:\\Users\\acer\\miniconda3\\envs\\chatbot-ocbc\\lib\\site-packages\\redis\\client.py:522\u001b[0m, in \u001b[0;36mRedis._send_command_parse_response\u001b[1;34m(self, conn, command_name, *args, **options)\u001b[0m\n\u001b[0;32m    518\u001b[0m \u001b[38;5;250m\u001b[39m\u001b[38;5;124;03m\"\"\"\u001b[39;00m\n\u001b[0;32m    519\u001b[0m \u001b[38;5;124;03mSend a command and parse the response\u001b[39;00m\n\u001b[0;32m    520\u001b[0m \u001b[38;5;124;03m\"\"\"\u001b[39;00m\n\u001b[0;32m    521\u001b[0m conn\u001b[38;5;241m.\u001b[39msend_command(\u001b[38;5;241m*\u001b[39margs)\n\u001b[1;32m--> 522\u001b[0m \u001b[38;5;28;01mreturn\u001b[39;00m \u001b[38;5;28mself\u001b[39m\u001b[38;5;241m.\u001b[39mparse_response(conn, command_name, \u001b[38;5;241m*\u001b[39m\u001b[38;5;241m*\u001b[39moptions)\n",
      "File \u001b[1;32mc:\\Users\\acer\\miniconda3\\envs\\chatbot-ocbc\\lib\\site-packages\\redis\\client.py:562\u001b[0m, in \u001b[0;36mRedis.parse_response\u001b[1;34m(self, connection, command_name, **options)\u001b[0m\n\u001b[0;32m    560\u001b[0m         options\u001b[38;5;241m.\u001b[39mpop(NEVER_DECODE)\n\u001b[0;32m    561\u001b[0m     \u001b[38;5;28;01melse\u001b[39;00m:\n\u001b[1;32m--> 562\u001b[0m         response \u001b[38;5;241m=\u001b[39m \u001b[43mconnection\u001b[49m\u001b[38;5;241;43m.\u001b[39;49m\u001b[43mread_response\u001b[49m\u001b[43m(\u001b[49m\u001b[43m)\u001b[49m\n\u001b[0;32m    563\u001b[0m \u001b[38;5;28;01mexcept\u001b[39;00m ResponseError:\n\u001b[0;32m    564\u001b[0m     \u001b[38;5;28;01mif\u001b[39;00m EMPTY_RESPONSE \u001b[38;5;129;01min\u001b[39;00m options:\n",
      "File \u001b[1;32mc:\\Users\\acer\\miniconda3\\envs\\chatbot-ocbc\\lib\\site-packages\\redis\\connection.py:512\u001b[0m, in \u001b[0;36mAbstractConnection.read_response\u001b[1;34m(self, disable_decoding, disconnect_on_error, push_request)\u001b[0m\n\u001b[0;32m    508\u001b[0m         response \u001b[38;5;241m=\u001b[39m \u001b[38;5;28mself\u001b[39m\u001b[38;5;241m.\u001b[39m_parser\u001b[38;5;241m.\u001b[39mread_response(\n\u001b[0;32m    509\u001b[0m             disable_decoding\u001b[38;5;241m=\u001b[39mdisable_decoding, push_request\u001b[38;5;241m=\u001b[39mpush_request\n\u001b[0;32m    510\u001b[0m         )\n\u001b[0;32m    511\u001b[0m     \u001b[38;5;28;01melse\u001b[39;00m:\n\u001b[1;32m--> 512\u001b[0m         response \u001b[38;5;241m=\u001b[39m \u001b[38;5;28;43mself\u001b[39;49m\u001b[38;5;241;43m.\u001b[39;49m\u001b[43m_parser\u001b[49m\u001b[38;5;241;43m.\u001b[39;49m\u001b[43mread_response\u001b[49m\u001b[43m(\u001b[49m\u001b[43mdisable_decoding\u001b[49m\u001b[38;5;241;43m=\u001b[39;49m\u001b[43mdisable_decoding\u001b[49m\u001b[43m)\u001b[49m\n\u001b[0;32m    513\u001b[0m \u001b[38;5;28;01mexcept\u001b[39;00m socket\u001b[38;5;241m.\u001b[39mtimeout:\n\u001b[0;32m    514\u001b[0m     \u001b[38;5;28;01mif\u001b[39;00m disconnect_on_error:\n",
      "File \u001b[1;32mc:\\Users\\acer\\miniconda3\\envs\\chatbot-ocbc\\lib\\site-packages\\redis\\_parsers\\resp2.py:15\u001b[0m, in \u001b[0;36m_RESP2Parser.read_response\u001b[1;34m(self, disable_decoding)\u001b[0m\n\u001b[0;32m     13\u001b[0m pos \u001b[38;5;241m=\u001b[39m \u001b[38;5;28mself\u001b[39m\u001b[38;5;241m.\u001b[39m_buffer\u001b[38;5;241m.\u001b[39mget_pos() \u001b[38;5;28;01mif\u001b[39;00m \u001b[38;5;28mself\u001b[39m\u001b[38;5;241m.\u001b[39m_buffer \u001b[38;5;28;01melse\u001b[39;00m \u001b[38;5;28;01mNone\u001b[39;00m\n\u001b[0;32m     14\u001b[0m \u001b[38;5;28;01mtry\u001b[39;00m:\n\u001b[1;32m---> 15\u001b[0m     result \u001b[38;5;241m=\u001b[39m \u001b[38;5;28;43mself\u001b[39;49m\u001b[38;5;241;43m.\u001b[39;49m\u001b[43m_read_response\u001b[49m\u001b[43m(\u001b[49m\u001b[43mdisable_decoding\u001b[49m\u001b[38;5;241;43m=\u001b[39;49m\u001b[43mdisable_decoding\u001b[49m\u001b[43m)\u001b[49m\n\u001b[0;32m     16\u001b[0m \u001b[38;5;28;01mexcept\u001b[39;00m \u001b[38;5;167;01mBaseException\u001b[39;00m:\n\u001b[0;32m     17\u001b[0m     \u001b[38;5;28;01mif\u001b[39;00m \u001b[38;5;28mself\u001b[39m\u001b[38;5;241m.\u001b[39m_buffer:\n",
      "File \u001b[1;32mc:\\Users\\acer\\miniconda3\\envs\\chatbot-ocbc\\lib\\site-packages\\redis\\_parsers\\resp2.py:25\u001b[0m, in \u001b[0;36m_RESP2Parser._read_response\u001b[1;34m(self, disable_decoding)\u001b[0m\n\u001b[0;32m     24\u001b[0m \u001b[38;5;28;01mdef\u001b[39;00m \u001b[38;5;21m_read_response\u001b[39m(\u001b[38;5;28mself\u001b[39m, disable_decoding\u001b[38;5;241m=\u001b[39m\u001b[38;5;28;01mFalse\u001b[39;00m):\n\u001b[1;32m---> 25\u001b[0m     raw \u001b[38;5;241m=\u001b[39m \u001b[38;5;28;43mself\u001b[39;49m\u001b[38;5;241;43m.\u001b[39;49m\u001b[43m_buffer\u001b[49m\u001b[38;5;241;43m.\u001b[39;49m\u001b[43mreadline\u001b[49m\u001b[43m(\u001b[49m\u001b[43m)\u001b[49m\n\u001b[0;32m     26\u001b[0m     \u001b[38;5;28;01mif\u001b[39;00m \u001b[38;5;129;01mnot\u001b[39;00m raw:\n\u001b[0;32m     27\u001b[0m         \u001b[38;5;28;01mraise\u001b[39;00m \u001b[38;5;167;01mConnectionError\u001b[39;00m(SERVER_CLOSED_CONNECTION_ERROR)\n",
      "File \u001b[1;32mc:\\Users\\acer\\miniconda3\\envs\\chatbot-ocbc\\lib\\site-packages\\redis\\_parsers\\socket.py:115\u001b[0m, in \u001b[0;36mSocketBuffer.readline\u001b[1;34m(self)\u001b[0m\n\u001b[0;32m    112\u001b[0m data \u001b[38;5;241m=\u001b[39m buf\u001b[38;5;241m.\u001b[39mreadline()\n\u001b[0;32m    113\u001b[0m \u001b[38;5;28;01mwhile\u001b[39;00m \u001b[38;5;129;01mnot\u001b[39;00m data\u001b[38;5;241m.\u001b[39mendswith(SYM_CRLF):\n\u001b[0;32m    114\u001b[0m     \u001b[38;5;66;03m# there's more data in the socket that we need\u001b[39;00m\n\u001b[1;32m--> 115\u001b[0m     \u001b[38;5;28;43mself\u001b[39;49m\u001b[38;5;241;43m.\u001b[39;49m\u001b[43m_read_from_socket\u001b[49m\u001b[43m(\u001b[49m\u001b[43m)\u001b[49m\n\u001b[0;32m    116\u001b[0m     data \u001b[38;5;241m+\u001b[39m\u001b[38;5;241m=\u001b[39m buf\u001b[38;5;241m.\u001b[39mreadline()\n\u001b[0;32m    118\u001b[0m \u001b[38;5;28;01mreturn\u001b[39;00m data[:\u001b[38;5;241m-\u001b[39m\u001b[38;5;241m2\u001b[39m]\n",
      "File \u001b[1;32mc:\\Users\\acer\\miniconda3\\envs\\chatbot-ocbc\\lib\\site-packages\\redis\\_parsers\\socket.py:65\u001b[0m, in \u001b[0;36mSocketBuffer._read_from_socket\u001b[1;34m(self, length, timeout, raise_on_timeout)\u001b[0m\n\u001b[0;32m     63\u001b[0m \u001b[38;5;28;01mtry\u001b[39;00m:\n\u001b[0;32m     64\u001b[0m     \u001b[38;5;28;01mwhile\u001b[39;00m \u001b[38;5;28;01mTrue\u001b[39;00m:\n\u001b[1;32m---> 65\u001b[0m         data \u001b[38;5;241m=\u001b[39m \u001b[38;5;28;43mself\u001b[39;49m\u001b[38;5;241;43m.\u001b[39;49m\u001b[43m_sock\u001b[49m\u001b[38;5;241;43m.\u001b[39;49m\u001b[43mrecv\u001b[49m\u001b[43m(\u001b[49m\u001b[43msocket_read_size\u001b[49m\u001b[43m)\u001b[49m\n\u001b[0;32m     66\u001b[0m         \u001b[38;5;66;03m# an empty string indicates the server shutdown the socket\u001b[39;00m\n\u001b[0;32m     67\u001b[0m         \u001b[38;5;28;01mif\u001b[39;00m \u001b[38;5;28misinstance\u001b[39m(data, \u001b[38;5;28mbytes\u001b[39m) \u001b[38;5;129;01mand\u001b[39;00m \u001b[38;5;28mlen\u001b[39m(data) \u001b[38;5;241m==\u001b[39m \u001b[38;5;241m0\u001b[39m:\n",
      "\u001b[1;31mKeyboardInterrupt\u001b[0m: "
     ]
    }
   ],
   "source": [
    "import redis\n",
    "\n",
    "r = redis.Redis(host='108.137.122.156', port=6379, db=0)\n",
    "\n",
    "# Variabel untuk menghitung jumlah kunci yang memenuhi kriteria\n",
    "matching_keys_count = 0\n",
    "\n",
    "# Gunakan SCAN untuk mengiterasi semua kunci\n",
    "cursor = '0'\n",
    "while cursor != 0:\n",
    "    cursor, keys = r.scan(cursor=cursor, match='*', count=1000)\n",
    "    for key in keys:\n",
    "        if r.hexists(key, 'doc_id'):\n",
    "            doc_id = r.hget(key, 'doc_id')\n",
    "            try:\n",
    "                if int(doc_id) > 1111:\n",
    "                    matching_keys_count += 1\n",
    "            except ValueError:\n",
    "                continue\n",
    "\n",
    "print(f\"Jumlah kunci dengan doc_id > 1111: {matching_keys_count}\")"
   ]
  }
 ],
 "metadata": {
  "kernelspec": {
   "display_name": "chatbot-all",
   "language": "python",
   "name": "python3"
  },
  "language_info": {
   "codemirror_mode": {
    "name": "ipython",
    "version": 3
   },
   "file_extension": ".py",
   "mimetype": "text/x-python",
   "name": "python",
   "nbconvert_exporter": "python",
   "pygments_lexer": "ipython3",
   "version": "3.9.19"
  }
 },
 "nbformat": 4,
 "nbformat_minor": 2
}

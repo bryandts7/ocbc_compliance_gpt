{
 "cells": [
  {
   "cell_type": "markdown",
   "metadata": {},
   "source": [
    "# **Compliance GPT with LangChain**"
   ]
  },
  {
   "cell_type": "markdown",
   "metadata": {},
   "source": [
    "## **Setup**"
   ]
  },
  {
   "cell_type": "code",
   "execution_count": 1,
   "metadata": {},
   "outputs": [],
   "source": [
    "# import nest_asyncio\n",
    "# nest_asyncio.apply()\n",
    "\n",
    "import warnings\n",
    "warnings.filterwarnings(\"ignore\")"
   ]
  },
  {
   "cell_type": "markdown",
   "metadata": {},
   "source": [
    "## **Config**"
   ]
  },
  {
   "cell_type": "code",
   "execution_count": 2,
   "metadata": {},
   "outputs": [],
   "source": [
    "from utils.config import get_config\n",
    "\n",
    "config = get_config()"
   ]
  },
  {
   "cell_type": "code",
   "execution_count": 3,
   "metadata": {},
   "outputs": [],
   "source": [
    "USER_ID = 'xmriz'\n",
    "CONVERSATION_ID = 'xmriz-2021-07-01-01'"
   ]
  },
  {
   "cell_type": "markdown",
   "metadata": {},
   "source": [
    "## **Define Model**"
   ]
  },
  {
   "cell_type": "code",
   "execution_count": 4,
   "metadata": {},
   "outputs": [],
   "source": [
    "from utils.models import ModelName, LLMModelName, EmbeddingModelName, get_model\n",
    "\n",
    "model_name = ModelName.AZURE_OPENAI\n",
    "llm_model, embed_model = get_model(model_name=model_name, config=config, llm_model_name=LLMModelName.GPT_35_TURBO, embedding_model_name=EmbeddingModelName.EMBEDDING_3_SMALL)"
   ]
  },
  {
   "cell_type": "markdown",
   "metadata": {},
   "source": [
    "## **Load Vector Store Index**"
   ]
  },
  {
   "cell_type": "code",
   "execution_count": 5,
   "metadata": {},
   "outputs": [
    {
     "name": "stdout",
     "output_type": "stream",
     "text": [
      "Loaded index 'ojk'.\n",
      "Loaded index 'bi'.\n",
      "Loaded index 'ketentuan-terkait'.\n",
      "Loaded index 'rekam-jejak'.\n"
     ]
    }
   ],
   "source": [
    "from database.vector_store.vector_store import RedisIndexManager, PineconeIndexManager, PostgresIndexManager, ElasticIndexManager\n",
    "\n",
    "# es_bi = ElasticIndexManager(index_name='bi', embed_model=embed_model, config=config)\n",
    "# vector_store_bi = es_bi.load_vector_index()\n",
    "\n",
    "# es_ojk = ElasticIndexManager(index_name='ojk', embed_model=embed_model, config=config)\n",
    "# vector_store_ojk = es_ojk.load_vector_index()\n",
    "\n",
    "# es_ket = ElasticIndexManager(index_name='sikepo-rekam-jejak', embed_model=embed_model, config=config)\n",
    "# vector_store_ket = es_ket.load_vector_index()\n",
    "\n",
    "# es_rek = ElasticIndexManager(index_name='sikepo-ketentuan-terkait', embed_model=embed_model, config=config)\n",
    "# vector_store_rek = es_rek.load_vector_index()\n",
    "\n",
    "# postgres_bi = PostgresIndexManager(index_name='bi', embed_model=embed_model, config=config)\n",
    "# vector_store_bi = postgres_bi.load_vector_index()\n",
    "\n",
    "# postgres_ojk = PostgresIndexManager(index_name='ojk', embed_model=embed_model, config=config)\n",
    "# vector_store_ojk = postgres_ojk.load_vector_index()\n",
    "\n",
    "# postgres_ket = PostgresIndexManager(index_name='ketentuan-terkait', embed_model=embed_model, config=config)\n",
    "# vector_store_ket = postgres_ket.load_vector_index()\n",
    "\n",
    "# postgres_rek = PostgresIndexManager(index_name='rekam-jejak', embed_model=embed_model, config=config)\n",
    "# vector_store_rek = postgres_rek.load_vector_index()\n",
    "\n",
    "# redis_bi = RedisIndexManager(index_name='bi', embed_model=embed_model, config=config, db_id=0)\n",
    "# vector_store_bi = redis_bi.load_vector_index()\n",
    "\n",
    "# redis_ojk = RedisIndexManager(index_name='ojk', embed_model=embed_model, config=config, db_id=0)\n",
    "# vector_store_ojk = redis_ojk.load_vector_index()\n",
    "\n",
    "# redis_sikepo_ket = RedisIndexManager(index_name='sikepo-ketentuan-terkait', embed_model=embed_model, config=config, db_id=0)\n",
    "# vector_store_ket = redis_sikepo_ket.load_vector_index()\n",
    "\n",
    "# redis_sikepo_rek = RedisIndexManager(index_name='sikepo-rekam-jejak', embed_model=embed_model, config=config, db_id=0)\n",
    "# vector_store_rek = redis_sikepo_rek.load_vector_index()\n",
    "\n",
    "pinecone_ojk = PineconeIndexManager(index_name='ojk', embed_model=embed_model, config=config)\n",
    "vector_store_ojk = pinecone_ojk.load_vector_index()\n",
    "\n",
    "pinecone_bi = PineconeIndexManager(index_name='bi', embed_model=embed_model, config=config)\n",
    "vector_store_bi = pinecone_bi.load_vector_index()\n",
    "\n",
    "pinecone_ket = PineconeIndexManager(index_name='ketentuan-terkait', embed_model=embed_model, config=config)\n",
    "vector_store_ket = pinecone_ket.load_vector_index()\n",
    "\n",
    "pinecone_rek = PineconeIndexManager(index_name='rekam-jejak', embed_model=embed_model, config=config)\n",
    "vector_store_rek = pinecone_rek.load_vector_index()"
   ]
  },
  {
   "cell_type": "code",
   "execution_count": 6,
   "metadata": {},
   "outputs": [],
   "source": [
    "from database.vector_store.neo4j_graph_store import Neo4jGraphStore\n",
    "\n",
    "neo4j_sikepo = Neo4jGraphStore(config=config)\n",
    "graph = neo4j_sikepo.get_graph()"
   ]
  },
  {
   "cell_type": "markdown",
   "metadata": {},
   "source": [
    "## **Get Retriever**"
   ]
  },
  {
   "cell_type": "code",
   "execution_count": 7,
   "metadata": {},
   "outputs": [],
   "source": [
    "from retriever.retriever_ojk.retriever_ojk import get_retriever_ojk\n",
    "from retriever.retriever_bi.retriever_bi import get_retriever_bi\n",
    "from retriever.retriever_sikepo.lotr_sikepo import lotr_sikepo\n",
    "\n",
    "top_n = 5\n",
    "\n",
    "retriever_ojk = get_retriever_ojk(vector_store=vector_store_ojk, top_n=top_n,\n",
    "                                  llm_model=llm_model, embed_model=embed_model, config=config)\n",
    "retriever_bi = get_retriever_bi(vector_store=vector_store_bi, top_n=top_n,\n",
    "                                llm_model=llm_model, embed_model=embed_model, config=config)\n",
    "retriever_sikepo_ket = lotr_sikepo(vector_store=vector_store_ket, top_n=top_n,\n",
    "                                   llm_model=llm_model, embed_model=embed_model, config=config)\n",
    "retriever_sikepo_rek = lotr_sikepo(vector_store=vector_store_rek, top_n=top_n,\n",
    "                                   llm_model=llm_model, embed_model=embed_model, config=config)"
   ]
  },
  {
   "cell_type": "code",
   "execution_count": 8,
   "metadata": {},
   "outputs": [],
   "source": [
    "# retriever_bi.invoke(\"What is the maximum transaction of QRIS?\")"
   ]
  },
  {
   "cell_type": "markdown",
   "metadata": {},
   "source": [
    "## **Create Chain**"
   ]
  },
  {
   "cell_type": "code",
   "execution_count": 9,
   "metadata": {},
   "outputs": [],
   "source": [
    "from database.chat_store import RedisChatStore, MongoDBChatStore, PostgresChatStore, ElasticChatStore\n",
    "\n",
    "chat_store = ElasticChatStore(config=config, k=3)\n",
    "# chat_store = PostgresChatStore(config=config, k=3)\n",
    "# chat_store = RedisChatStore(k=3, config=config, db_id=1)\n",
    "# chat_store = MongoDBChatStore(config=config, k=4)"
   ]
  },
  {
   "cell_type": "code",
   "execution_count": 10,
   "metadata": {},
   "outputs": [],
   "source": [
    "from chain.rag_chain import create_chain_with_chat_history, create_sequential_chain\n",
    "from chain.chain_sikepo.graph_cypher_sikepo_chain import graph_rag_chain\n",
    "\n",
    "\n",
    "graph_chain = graph_rag_chain(llm_model, llm_model, graph=graph)\n",
    "\n",
    "chain = create_sequential_chain(\n",
    "    llm_model=llm_model,\n",
    "    graph_chain=graph_chain,\n",
    "    retriever_ojk=retriever_ojk,\n",
    "    retriever_bi=retriever_sikepo_ket,\n",
    "    retriever_sikepo_ketentuan=retriever_sikepo_ket,\n",
    "    retriever_sikepo_rekam=retriever_sikepo_rek,\n",
    ")\n",
    "\n",
    "chain_history = create_chain_with_chat_history(\n",
    "    final_chain=chain,\n",
    "    chat_store=chat_store,\n",
    ")"
   ]
  },
  {
   "cell_type": "markdown",
   "metadata": {},
   "source": [
    "## **Invoke**"
   ]
  },
  {
   "cell_type": "markdown",
   "metadata": {},
   "source": [
    "#### **Chat Store Monitor**"
   ]
  },
  {
   "cell_type": "code",
   "execution_count": 11,
   "metadata": {},
   "outputs": [
    {
     "name": "stdout",
     "output_type": "stream",
     "text": [
      "Human: Siapakah yang memiliki Bank?\n",
      "Human: berapa maksimum nominal transfer dari transfer BI fast\n",
      "Human: berapa maksimum nominal transfer dari transfer BI fast\n"
     ]
    }
   ],
   "source": [
    "# to print chat history\n",
    "print(chat_store.get_session_history(user_id=USER_ID, conversation_id=CONVERSATION_ID))"
   ]
  },
  {
   "cell_type": "code",
   "execution_count": 12,
   "metadata": {},
   "outputs": [
    {
     "data": {
      "text/plain": [
       "[{'type': 'human',\n",
       "  'content': 'Peraturan apa yang harus saya perhatikan tentang supply chain platform?'},\n",
       " {'type': 'ai',\n",
       "  'content': 'Tidak ada informasi yang relevan dalam konteks yang diberikan mengenai peraturan yang perlu diperhatikan dalam penggunaan platform rantai pasokan. Saya tidak tahu mengenai hal tersebut.'},\n",
       " {'type': 'human',\n",
       "  'content': 'Peraturan apa yang harus saya perhatikan tentang Kartu Kredit?'},\n",
       " {'type': 'ai',\n",
       "  'content': 'Peraturan yang harus Anda perhatikan tentang Kartu Kredit adalah Perubahan Kedua atas Surat Edaran Bank Indonesia Nomor 1431DPNP tanggal 31 Oktober. Nomor Ketentuan dari peraturan ini adalah 18/26/Dsta/2016 dan Ketentuannya terdapat dalam butir III.A.2.c. Ketentuan tersebut mengatur tentang penyelenggaraan kegiatan Alat Pembayaran Dengan Menggunakan Kartu (APMK) dan Uang Elektronik. Selain itu, Anda juga perlu memperhatikan Surat Edaran OJK Nomor 34/SEOJK.03/2021 yang mengatur tentang Buku Panduan Akuntansi Perbankan Bagi Bank Umum Konvensional. Peraturan ini memberikan panduan tentang penggunaan Kartu Kredit oleh pemegang kartu, termasuk layanan yang disediakan oleh bank, program pemberian dan penukaran poin penghargaan loyalitas, dan analisis terkait iuran tahunan. Anda dapat menemukan lebih banyak informasi mengenai peraturan ini di [34/SEOJK.03/2021](https://www.ojk.go.id/id/regulasi/Documents/Pages/Buku-Panduan-Akuntansi-Perbankan-Bagi-Bank-Umum-Konvensional-/SEOJK%2034%20-%2003%20-%202021.pdf#page=745). Selain itu, Peraturan Bank Indonesia No.14/2/PBI/2012 tanggal 6 Januari 2012 juga perlu diperhatikan. Peraturan ini mengatur tentang Penyelenggaraan Kegiatan Alat Pembayaran dengan Menggunakan Kartu. Anda dapat menemukan lebih banyak informasi mengenai peraturan ini di [Peraturan Bank Indonesia No.14/2/PBI/2012](https://www.bi.go.id/id/publikasi/peraturan/Documents/9ccbe574f04d4fc2aec9db3ed57cc77dpbi_140213.pdf).'},\n",
       " {'type': 'human', 'content': 'Berapa SWDKLLJ dari buldozer?'},\n",
       " {'type': 'ai',\n",
       "  'content': 'Maaf, informasi mengenai SWDKLLJ dari buldozer tidak tersedia dalam konteks yang diberikan. Berdasarkan sumber-sumber yang ada, tidak terdapat regulasi yang relevan yang dapat memberikan jawaban atas pertanyaan ini. Untuk informasi lebih lanjut, Anda dapat merujuk ke dokumen yang tersedia di Bank Indonesia, yang mencakup berbagai peraturan dan regulasi. Namun, saat ini tidak ada data spesifik yang dapat menjawab pertanyaan mengenai SWDKLLJ dari buldozer.'},\n",
       " {'type': 'human', 'content': 'Berapa SDKLLJ dari sedan?'},\n",
       " {'type': 'ai',\n",
       "  'content': 'Maaf, informasi mengenai SWDKLLJ dari buldozer tidak tersedia dalam konteks yang diberikan. Berdasarkan sumber-sumber yang ada, tidak terdapat regulasi yang relevan yang dapat memberikan jawaban atas pertanyaan ini. Untuk informasi lebih lanjut, Anda dapat merujuk ke dokumen yang tersedia di Bank Indonesia, yang mencakup berbagai peraturan dan regulasi. Namun, saat ini tidak ada data spesifik yang dapat menjawab pertanyaan mengenai SWDKLLJ dari buldozer.'},\n",
       " {'type': 'human',\n",
       "  'content': 'Peraturan apa yang harus saya perhatikan tentang Kartu Debit?'},\n",
       " {'type': 'ai',\n",
       "  'content': 'Peraturan yang harus Anda perhatikan tentang Kartu Debit adalah ketentuan yang diatur dalam beberapa dokumen resmi. Salah satunya adalah Nomor Ketentuan 16/SEOJK.03/2015 yang diterbitkan oleh Otoritas Jasa Keuangan (OJK) dengan judul \"Bank Perkreditan Rakyat\". Anda juga perlu memperhatikan Surat Edaran OJK No. 46/SEOJK.03/2016 yang mengatur Bank Perkreditan Rakyat Syariah (BPRS). Selain itu, terdapat Surat Edaran Bank Indonesia No. 10/3/UKMI/2008 dan Surat Edaran Bank Indonesia No. 14/26/DKBU/2012 yang juga berkaitan dengan peraturan mengenai Kartu Debit.\\n\\nUntuk informasi lebih lanjut, Anda dapat merujuk ke sumber-sumber berikut:\\n- [16/SEOJK.03/2015](https://www.ojk.go.id/id/regulasi/Documents/Pages/SEOJK-tentang-Bank-Perkreditan-Rakyat/SEOJK%2016-2015%20-%20BPR.pdf#page=62) (Sumber: OJK Website)\\n- [46/SEOJK.03/2016](https://www.ojk.go.id/id/regulasi/Documents/Pages/SEOJK-tentang-Bank-Perkreditan-Rakyat-Syariah/SEOJK%2046-2016%20-%20BPRS.pdf#page=52) (Sumber: OJK Website)\\n- [10/3/UKMI/2008](https://www.ojk.go.id/Files/regulasi/perbankan/se-bi/2008/lampiran4_se100308.zip#page=30) (Sumber: OJK Website)\\n- [14/26/DKBU/2012](https://www.ojk.go.id/Files/regulasi/perbankan/se-bi/2012/lamp_se_142612.pdf#page=29) (Sumber: OJK Website)\\n- [SE Bank Indonesia No. 11/10/DASP](https://www.bi.go.id/id/publikasi/peraturan/Documents/475456a0b7e343f382f9e61edfc5ac8cse_111009.pdf) (Sumber: Bank Indonesia Website)\\n\\nKetentuan-ketentuan tersebut menjelaskan bahwa Kartu Debit merupakan alat pembayaran dengan menggunakan kartu yang diatur dalam ketentuan Bank Indonesia yang mengatur mengenai penyelenggaraan, kegiatan alat pembayaran dengan menggunakan kartu, dan peraturan pelaksanaannya. Selain itu, Bank Perkreditan Rakyat (BPR) juga harus memiliki teknologi informasi yang memadai untuk penyelenggaraan kegiatan layanan dengan menggunakan kartu ATM dan/atau kartu debit. Teknologi informasi yang memadai mencakup sistem yang mampu melakukan pembukuan transaksi secara real-time, mekanisme pengamanan sistem, data, dan jaringan, serta mekanisme pemantauan dan evaluasi terhadap sarana teknologi informasi untuk penyelenggaraan layanan kepada nasabah.'},\n",
       " {'type': 'human',\n",
       "  'content': 'Peraturan apa yang harus saya perhatikan tentang Bank Digital?'},\n",
       " {'type': 'ai',\n",
       "  'content': 'Peraturan yang harus Anda perhatikan tentang Bank Digital adalah Pasal 24 dari POJK Nomor 12/POJK.03/2021. Ketentuan tersebut menyatakan bahwa Bank BHI yang beroperasi sebagai Bank Digital harus memenuhi persyaratan sebagai berikut: memiliki model bisnis dengan penggunaan teknologi yang inovatif dan aman dalam melayani kebutuhan nasabah, memiliki kemampuan untuk mengelola model bisnis perbankan digital yang pruden dan berkesinambungan, memiliki manajemen risiko secara memadai, memenuhi aspek tata kelola termasuk pemenuhan Direksi yang mempunyai kompetensi di bidang teknologi informasi dan kompetensi lain sesuai dengan ketentuan OJK mengenai penilaian kemampuan dan kepatutan bagi pihak utama lembaga jasa keuangan, menjalankan perlindungan terhadap keamanan data nasabah, dan memberikan upaya yang kontributif terhadap pengembangan ekosistem keuangan digital dan/atau inklusi keuangan.\\n\\nSelain itu, Anda juga perlu memperhatikan ketentuan Pasal 19 dari POJK Nomor 12/POJK.03/2018 yang mengatur penyelenggaraan Layanan Perbankan Digital oleh Bank Umum. Ketentuan tersebut menjelaskan persyaratan yang harus dipenuhi oleh Bank yang menyelenggarakan Layanan Perbankan Digital, termasuk penerapan manajemen risiko, perlindungan konsumen, dan kegiatan usaha berdasarkan modal inti bank.\\n\\nSelain peraturan dari OJK, Anda juga perlu memperhatikan Peraturan Bank Indonesia Nomor 22/23/PBI/2020 tentang Sistem Pembayaran. Meskipun tidak secara khusus mengatur tentang Bank Digital, peraturan ini penting karena mengatur tentang sistem pembayaran yang berkaitan dengan layanan perbankan digital. Anda dapat merujuk ke [Peraturan Bank Indonesia Nomor 22/23/PBI/2020](https://www.bi.go.id/id/publikasi/peraturan/Documents/PBI_222320.pdf) untuk informasi lebih lanjut mengenai peraturan ini.'},\n",
       " {'type': 'human', 'content': 'Siapa itu tuhan?'},\n",
       " {'type': 'ai',\n",
       "  'content': 'Maaf, informasi mengenai SWDKLLJ dari buldozer tidak tersedia dalam konteks yang diberikan. Berdasarkan sumber-sumber yang ada, tidak terdapat regulasi yang relevan yang dapat memberikan jawaban atas pertanyaan ini. Untuk informasi lebih lanjut, Anda dapat merujuk ke dokumen yang tersedia di Bank Indonesia, yang mencakup berbagai peraturan dan regulasi. Namun, saat ini tidak ada data spesifik yang dapat menjawab pertanyaan mengenai SWDKLLJ dari buldozer.'},\n",
       " {'type': 'human',\n",
       "  'content': 'Peraturan apa yang harus saya perhatikan tentang Bank Syariah?\\n'},\n",
       " {'type': 'ai',\n",
       "  'content': 'Peraturan yang harus Anda perhatikan tentang Bank Syariah adalah Pasal 18 dari POJK Nomor 24/POJK.03/2015. Pasal ini menyatakan bahwa bank wajib menerapkan Prinsip Syariah dalam menerbitkan Produk dan/atau melaksanakan Aktivitas. Pemenuhan penerapan Prinsip Syariah harus didukung dengan fatwa Dewan Syariah Nasional Majelis Ulama Indonesia yang menjadi dasar penerbitan Produk dan/atau pelaksanaan Aktivitas, serta opini dari Dewan Pengawas Syariah Bank terhadap Produk dan/atau Aktivitas. Selain itu, Anda juga perlu memperhatikan Undang-Undang Republik Indonesia Nomor 21 Tahun 2008 tentang Perbankan Syariah yang diatur oleh Otoritas Jasa Keuangan (OJK). Anda dapat merujuk ke sumber [21 Tahun 2008](https://www.ojk.go.id/id/regulasi/Documents/Pages/UU-Republik-Indonesia-Nomor-21-Tahun-2008-tentang-Perbankan-Syariah/UU%20Nomor%2021%20Tahun%202008.pdf) untuk informasi lebih lanjut mengenai peraturan ini. Selain itu, Peraturan Bank Indonesia Nomor 13/9/PBI/2011 tanggal 8 Februari 2011 juga perlu diperhatikan. Peraturan ini mengatur tentang Perubahan atas Peraturan Bank Indonesia No. 10/18/PBI/2008 tentang Restrukturisasi Pembiayaan bagi Bank Syariah dan Unit Usaha Syariah. Anda dapat merujuk ke sumber [Peraturan Bank Indonesia Nomor 13/9/PBI/2011](https://www.bi.go.id/id/publikasi/peraturan/Documents/188a03c9ce124c18a6dbf63758fbdeb9pbi_130912.pdf#page=1) untuk informasi lebih lanjut mengenai peraturan ini. Dengan memperhatikan peraturan-peraturan ini, Anda dapat memahami dan mematuhi ketentuan yang berlaku dalam industri perbankan syariah.'},\n",
       " {'type': 'human',\n",
       "  'content': 'Peraturan apa yang harus saya perhatikan tentang QRIS?'},\n",
       " {'type': 'ai',\n",
       "  'content': 'Peraturan yang harus Anda perhatikan tentang QRIS adalah Peraturan Anggota Dewan Gubernur Nomor 21/18/PADG/2019 tentang Implementasi Standar Nasional Quick Response Code untuk Pembayaran. Anda dapat menemukan informasi lebih lanjut mengenai peraturan ini di situs web Bank Indonesia. Sayangnya, tidak ada informasi yang relevan ditemukan di situs web OJK (Otoritas Jasa Keuangan) mengenai peraturan QRIS. Jadi, untuk informasi lebih lanjut, Anda dapat merujuk ke peraturan yang dikeluarkan oleh Bank Indonesia.'},\n",
       " {'type': 'human', 'content': 'Apa kepanjangan dari PAPSI?'},\n",
       " {'type': 'ai',\n",
       "  'content': 'Kepanjangan dari PAPSI adalah Perhimpunan Akuntan Publik Syariah Indonesia. Selain itu, PAPSI juga dapat merujuk pada Pedoman Akuntansi Perbankan Syariah Indonesia. Informasi lebih lanjut mengenai PAPSI dapat ditemukan dalam dokumen resmi yang diterbitkan oleh OJK dan BI, seperti yang tercantum dalam SEOJK Nomor 37/SEOJK.03/2015 dan SE No.15/26/DPbS.'},\n",
       " {'type': 'human',\n",
       "  'content': 'Peraturan apa yang harus saya perhatikan tentang Bank Digital?'},\n",
       " {'type': 'ai',\n",
       "  'content': 'Peraturan yang harus Anda perhatikan tentang Bank Digital adalah Pasal 24 dari POJK Nomor 12/POJK.03/2021. Ketentuan tersebut menyatakan bahwa Bank BHI yang beroperasi sebagai Bank Digital harus memenuhi persyaratan sebagai berikut: memiliki model bisnis dengan penggunaan teknologi yang inovatif dan aman dalam melayani kebutuhan nasabah, memiliki kemampuan untuk mengelola model bisnis perbankan digital yang pruden dan berkesinambungan, memiliki manajemen risiko secara memadai, memenuhi aspek tata kelola termasuk pemenuhan Direksi yang mempunyai kompetensi di bidang teknologi informasi dan kompetensi lain sesuai dengan ketentuan OJK mengenai penilaian kemampuan dan kepatutan bagi pihak utama lembaga jasa keuangan, menjalankan perlindungan terhadap keamanan data nasabah, dan memberikan upaya yang kontributif terhadap pengembangan ekosistem keuangan digital dan/atau inklusi keuangan.\\n\\nSelain itu, Anda juga perlu memperhatikan ketentuan Pasal 19 dari POJK Nomor 12/POJK.03/2018 yang mengatur penyelenggaraan Layanan Perbankan Digital oleh Bank Umum. Ketentuan tersebut menjelaskan persyaratan yang harus dipenuhi oleh Bank yang menyelenggarakan Layanan Perbankan Digital, termasuk penerapan manajemen risiko, perlindungan konsumen, dan kegiatan usaha berdasarkan modal inti bank.\\n\\nSelain peraturan dari OJK, Anda juga perlu memperhatikan Peraturan Bank Indonesia Nomor 22/23/PBI/2020 tentang Sistem Pembayaran. Meskipun tidak secara khusus mengatur tentang Bank Digital, peraturan ini penting karena mengatur tentang sistem pembayaran yang berkaitan dengan layanan perbankan digital. Anda dapat merujuk ke [Peraturan Bank Indonesia Nomor 22/23/PBI/2020](https://www.bi.go.id/id/publikasi/peraturan/Documents/PBI_222320.pdf) untuk informasi lebih lanjut mengenai peraturan ini.'},\n",
       " {'type': 'human',\n",
       "  'content': 'Peraturan apa yang harus saya perhatikan tentang Bank Digital?\\n\\n'},\n",
       " {'type': 'ai',\n",
       "  'content': 'Peraturan yang harus Anda perhatikan tentang Bank Digital adalah Pasal 24 dari POJK Nomor 12/POJK.03/2021. Ketentuan tersebut menyatakan bahwa Bank BHI yang beroperasi sebagai Bank Digital harus memenuhi persyaratan sebagai berikut: memiliki model bisnis dengan penggunaan teknologi yang inovatif dan aman dalam melayani kebutuhan nasabah, memiliki kemampuan untuk mengelola model bisnis perbankan digital yang pruden dan berkesinambungan, memiliki manajemen risiko secara memadai, memenuhi aspek tata kelola termasuk pemenuhan Direksi yang mempunyai kompetensi di bidang teknologi informasi dan kompetensi lain sesuai dengan ketentuan OJK mengenai penilaian kemampuan dan kepatutan bagi pihak utama lembaga jasa keuangan, menjalankan perlindungan terhadap keamanan data nasabah, dan memberikan upaya yang kontributif terhadap pengembangan ekosistem keuangan digital dan/atau inklusi keuangan.\\n\\nSelain itu, Anda juga perlu memperhatikan ketentuan Pasal 19 dari POJK Nomor 12/POJK.03/2018 yang mengatur penyelenggaraan Layanan Perbankan Digital oleh Bank Umum. Ketentuan tersebut menjelaskan persyaratan yang harus dipenuhi oleh Bank yang menyelenggarakan Layanan Perbankan Digital, termasuk penerapan manajemen risiko, perlindungan konsumen, dan kegiatan usaha berdasarkan modal inti bank.\\n\\nSelain peraturan dari OJK, Anda juga perlu memperhatikan Peraturan Bank Indonesia Nomor 22/23/PBI/2020 tentang Sistem Pembayaran. Meskipun tidak secara khusus mengatur tentang Bank Digital, peraturan ini penting karena mengatur tentang sistem pembayaran yang berkaitan dengan layanan perbankan digital. Anda dapat merujuk ke [Peraturan Bank Indonesia Nomor 22/23/PBI/2020](https://www.bi.go.id/id/publikasi/peraturan/Documents/PBI_222320.pdf) untuk informasi lebih lanjut mengenai peraturan ini.'},\n",
       " {'type': 'human', 'content': 'Siapa itu tuhan?'},\n",
       " {'type': 'ai',\n",
       "  'content': 'Maaf, informasi mengenai SWDKLLJ dari buldozer tidak tersedia dalam konteks yang diberikan. Berdasarkan sumber-sumber yang ada, tidak terdapat regulasi yang relevan yang dapat memberikan jawaban atas pertanyaan ini. Untuk informasi lebih lanjut, Anda dapat merujuk ke dokumen yang tersedia di Bank Indonesia, yang mencakup berbagai peraturan dan regulasi. Namun, saat ini tidak ada data spesifik yang dapat menjawab pertanyaan mengenai SWDKLLJ dari buldozer.'},\n",
       " {'type': 'human', 'content': 'Berapa SWDKLLJ dari buldozer?'},\n",
       " {'type': 'ai',\n",
       "  'content': 'Sesuai dengan informasi yang ditemukan dari sumber OJK (Otoritas Jasa Keuangan) Website, jumlah SWDKLLJ yang harus dibayarkan untuk buldozer sebesar Rp 20.000,00 (dua puluh ribu rupiah) [36/PMK.010/2008](https://www.ojk.go.id/id/regulasi/Documents/Pages/PMK-Nomor-36PMK.010-Tahun-2008-tentang-Besar-Santunan-dan-Sumbangan-Wajib-Dana-Kecelakaan-Lalu-Lintas-Jalan/menas13_1389258036.pdf#page=3). Meskipun demikian, tidak ada informasi yang relevan yang dapat ditemukan dari sumber SIKEPO Website maupun BI (Bank Indonesia) Website mengenai jumlah SWDKLLJ yang harus dibayarkan untuk buldozer dalam konteks yang diberikan.'},\n",
       " {'type': 'human',\n",
       "  'content': 'Peraturan apa yang harus saya perhatikan tentang Bank Syariah?\\n'},\n",
       " {'type': 'ai',\n",
       "  'content': 'Peraturan yang harus Anda perhatikan tentang Bank Syariah adalah Pasal 18 dari POJK Nomor 24/POJK.03/2015. Pasal ini menyatakan bahwa bank wajib menerapkan Prinsip Syariah dalam menerbitkan Produk dan/atau melaksanakan Aktivitas. Pemenuhan penerapan Prinsip Syariah harus didukung dengan fatwa Dewan Syariah Nasional Majelis Ulama Indonesia yang menjadi dasar penerbitan Produk dan/atau pelaksanaan Aktivitas, serta opini dari Dewan Pengawas Syariah Bank terhadap Produk dan/atau Aktivitas. Selain itu, Anda juga perlu memperhatikan Undang-Undang Republik Indonesia Nomor 21 Tahun 2008 tentang Perbankan Syariah yang diatur oleh Otoritas Jasa Keuangan (OJK). Anda dapat menemukan lebih banyak informasi mengenai peraturan ini di [sumber](https://www.ojk.go.id/id/regulasi/Documents/Pages/UU-Republik-Indonesia-Nomor-21-Tahun-2008-tentang-Perbankan-Syariah/UU%20Nomor%2021%20Tahun%202008.pdf). Selain itu, Peraturan Bank Indonesia Nomor 13/9/PBI/2011 tanggal 8 Februari 2011 juga perlu diperhatikan. Peraturan ini mengatur tentang Perubahan atas Peraturan Bank Indonesia No. 10/18/PBI/2008 tentang Restrukturisasi Pembiayaan bagi Bank Syariah dan Unit Usaha Syariah. Anda dapat menemukan lebih banyak informasi mengenai peraturan ini di [sumber](https://www.bi.go.id/id/publikasi/peraturan/Documents/188a03c9ce124c18a6dbf63758fbdeb9pbi_130912.pdf#page=1). Dengan memperhatikan peraturan-peraturan ini, Anda dapat memastikan bahwa Anda mematuhi ketentuan yang berlaku dalam menjalankan aktivitas perbankan syariah.'},\n",
       " {'type': 'human',\n",
       "  'content': 'Peraturan apa yang harus saya perhatikan tentang QRIS?'},\n",
       " {'type': 'ai',\n",
       "  'content': 'Peraturan yang harus Anda perhatikan tentang QRIS adalah Peraturan Anggota Dewan Gubernur Nomor 21/18/PADG/2019 tentang Implementasi Standar Nasional Quick Response Code untuk Pembayaran. Anda dapat menemukan informasi lebih lanjut mengenai peraturan ini di situs web Bank Indonesia. Sayangnya, tidak ada informasi yang relevan ditemukan di situs web OJK (Otoritas Jasa Keuangan) mengenai peraturan QRIS. Jadi, untuk informasi lebih lanjut, Anda dapat merujuk ke peraturan yang dikeluarkan oleh Bank Indonesia.'},\n",
       " {'type': 'human', 'content': 'Apa kepanjangan dari PAPSI?'},\n",
       " {'type': 'ai',\n",
       "  'content': 'Kepanjangan dari PAPSI adalah Perhimpunan Akuntan Publik Syariah Indonesia. Selain itu, PAPSI juga dapat merujuk pada Pedoman Akuntansi Perbankan Syariah Indonesia. Informasi lebih lanjut mengenai PAPSI dapat ditemukan dalam dokumen resmi yang diterbitkan oleh OJK dan BI, seperti pada SEOJK Nomor 37/SEOJK.03/2015 dan SE Nomor 15/26/DPbS.'},\n",
       " {'type': 'human',\n",
       "  'content': 'Peraturan apa yang harus saya perhatikan tentang supply chain platform?'},\n",
       " {'type': 'ai',\n",
       "  'content': 'Tidak ada informasi yang relevan dalam konteks yang diberikan tentang peraturan yang harus diperhatikan tentang platform rantai pasokan. Saya tidak tahu mengenai hal tersebut.'},\n",
       " {'type': 'human', 'content': 'Siapa aja sih yang boleh punya bank?'},\n",
       " {'type': 'ai',\n",
       "  'content': 'Berdasarkan informasi yang diberikan dari beberapa sumber, terdapat beberapa pihak yang diizinkan memiliki bank. Menurut SIKEPO Website, orang yang diizinkan memiliki bank adalah warga negara Indonesia dan/atau badan hukum Indonesia, warga negara Indonesia dan/atau badan hukum Indonesia dengan warga negara asing dan/atau badan hukum asing secara kemitraan, serta pemerintah daerah. Hal ini diatur dalam Nomor Ketentuan 11/3/PBI/2009, Pasal 6.\\n\\nSelain itu, menurut OJK (Otoritas Jasa Keuangan) Website, pihak-pihak yang diizinkan memiliki bank adalah mereka yang tidak termasuk dalam daftar orang-orang yang dilarang menjadi pemegang saham dan/atau pengurus bank sesuai dengan ketentuan yang ditetapkan oleh Bank Indonesia. Selain itu, menurut penilaian Bank Indonesia, pihak-pihak yang diizinkan memiliki bank adalah mereka yang memiliki integritas yang baik. Sumber: [6/24/PBI/2004](https://www.ojk.go.id/id/regulasi/Documents/Pages/Peraturan-Bank-Indonesia-Nomor-624PBI2004/317.pdf#page=19)\\n\\nSelanjutnya, menurut BI (Bank Indonesia) Website, pihak yang diizinkan memiliki bank adalah mereka yang memenuhi persyaratan yang ditetapkan oleh Peraturan Bank Indonesia Nomor 14/9/PBI/2012. Sayangnya, informasi lebih lanjut mengenai persyaratan tersebut tidak disebutkan dalam konteks yang diberikan. Sumber: [Peraturan Bank Indonesia Nomor 14/9/PBI/2012](https://www.bi.go.id/id/publikasi/peraturan/Documents/e69f93dbe878478a8c7d7d94d5a6325epbi_140913.pdf#page=64)\\n\\nDengan demikian, berdasarkan informasi dari SIKEPO Website, OJK Website, dan BI Website, dapat disimpulkan bahwa pihak-pihak yang diizinkan memiliki bank termasuk warga negara Indonesia dan/atau badan hukum Indonesia, warga negara Indonesia dan/atau badan hukum Indonesia dengan warga negara asing dan/atau badan hukum asing secara kemitraan, pemerintah daerah, serta mereka yang tidak termasuk dalam daftar orang-orang yang dilarang menjadi pemegang saham dan/atau pengurus bank sesuai dengan ketentuan yang ditetapkan oleh Bank Indonesia dan memiliki integritas yang baik. Persyaratan lebih lanjut dapat ditemukan dalam Peraturan Bank Indonesia Nomor 14/9/PBI/2012.'},\n",
       " {'type': 'human',\n",
       "  'content': 'Peraturan apa yang harus saya perhatikan tentang KPR Rumah?'},\n",
       " {'type': 'ai',\n",
       "  'content': 'Peraturan yang harus diperhatikan dalam KPR Rumah meliputi beberapa ketentuan yang berasal dari berbagai sumber. Salah satunya adalah Pasal 45 dari POJK Nomor 62/POJK.03/2020 yang mengatur persyaratan yang harus dipenuhi oleh pemilik Bank Perkreditan Rakyat (BPR) dalam memberikan KPR Rumah. Namun, informasi lebih lanjut mengenai ketentuan tersebut tidak diberikan dalam konteks yang diberikan.\\n\\nSelain itu, terdapat Surat Edaran Bank Indonesia Nomor 12/38/DPNP/2010 yang juga menjadi peraturan yang harus diperhatikan dalam KPR Rumah. Surat edaran ini mengatur tentang Pedoman Penyusunan Standard Operating Procedure (SOP) Administrasi Kredit Pemilikan Rumah dalam Rangka Sekuritisasi. Anda dapat menemukan lebih banyak informasi mengenai peraturan ini di [sumber](https://www.bi.go.id/id/publikasi/peraturan/Documents/768335eb0f2146d9ad5279c4ec055a7blampiran_se_123811.pdf).\\n\\nSelain itu, Peraturan OJK Nomor 11/POJK.03/2019 juga harus diperhatikan dalam KPR Rumah. Peraturan ini dikeluarkan oleh Otoritas Jasa Keuangan (OJK) dan berisi prinsip kehati-hatian dalam aktivitas sekuritisasi aset bagi Bank Umum. Anda dapat menemukan lebih banyak informasi mengenai peraturan ini di [sumber](https://www.ojk.go.id/id/regulasi/Documents/Pages/Prinsip-Kehati-Hatian-dalam-Aktivitas-Sekuritisasi-Aset-bagi-Bank-Umum/pojk%2011-2019.pdf#page=90).\\n\\nDengan demikian, peraturan yang harus diperhatikan dalam KPR Rumah mencakup Pasal 45 dari POJK Nomor 62/POJK.03/2020, Surat Edaran Bank Indonesia Nomor 12/38/DPNP/2010, dan Peraturan OJK Nomor 11/POJK.03/2019.'},\n",
       " {'type': 'human', 'content': 'Berapa SWDKLLJ dari Buldozer?'},\n",
       " {'type': 'ai',\n",
       "  'content': 'Sesuai dengan informasi yang diberikan, terdapat beberapa sumber yang memberikan informasi mengenai jumlah SWDKLLJ yang harus dibayarkan untuk buldozer. Menurut SIKEPO Website, tidak ada informasi yang dapat ditemukan mengenai jumlah SWDKLLJ yang harus dibayarkan untuk buldozer dalam konteks yang diberikan. Namun, menurut OJK (Otoritas Jasa Keuangan) Website, besaran SWDKLLJ untuk buldozer sebesar Rp 20.000,00 (dua puluh ribu rupiah). Informasi ini dapat ditemukan dalam [36/PMK.010/2008](https://www.ojk.go.id/id/regulasi/Documents/Pages/PMK-Nomor-36PMK.010-Tahun-2008-tentang-Besar-Santunan-dan-Sumbangan-Wajib-Dana-Kecelakaan-Lalu-Lintas-Jalan/menas13_1389258036.pdf#page=3). Namun, BI (Bank Indonesia) Website menyatakan bahwa tidak ada informasi yang relevan dalam konteks yang diberikan mengenai jumlah SWDKLLJ yang harus dibayarkan untuk buldozer. Oleh karena itu, berdasarkan sumber yang tersedia, besaran SWDKLLJ yang harus dibayarkan untuk buldozer adalah Rp 20.000,00 (dua puluh ribu rupiah) sesuai dengan peraturan [36/PMK.010/2008](https://www.ojk.go.id/id/regulasi/Documents/Pages/PMK-Nomor-36PMK.010-Tahun-2008-tentang-Besar-Santunan-dan-Sumbangan-Wajib-Dana-Kecelakaan-Lalu-Lintas-Jalan/menas13_1389258036.pdf#page=3) dari OJK.'},\n",
       " {'type': 'human', 'content': 'Berapa SWDKLLJ dari Scooter?'},\n",
       " {'type': 'ai',\n",
       "  'content': 'SWDKLLJ yang harus dibayarkan untuk Scooter sebesar Rp 32.000,00 (tiga puluh dua ribu rupiah) berdasarkan informasi yang diberikan oleh OJK (Otoritas Jasa Keuangan) Website. Hal ini sesuai dengan [36/PMK.010/2008](https://www.ojk.go.id/id/regulasi/Documents/Pages/PMK-Nomor-36PMK.010-Tahun-2008-tentang-Besar-Santunan-dan-Sumbangan-Wajib-Dana-Kecelakaan-Lalu-Lintas-Jalan/menas13_1389258036.pdf#page=3). Namun, tidak ada informasi yang menjelaskan tentang SWDKLLJ yang harus dibayarkan untuk Scooter dalam konteks yang diberikan pada SIKEPO Website dan BI (Bank Indonesia) Website.'},\n",
       " {'type': 'human', 'content': 'Berapa SWDKLLJ dari Ambulans?'},\n",
       " {'type': 'ai',\n",
       "  'content': 'Berdasarkan informasi yang diberikan, terdapat beberapa sumber yang memberikan konteks terkait SWDKLLJ yang harus dibayarkan untuk Ambulans. Menurut OJK (Otoritas Jasa Keuangan) Website, dalam [36/PMK.010/2008](https://www.ojk.go.id/id/regulasi/Documents/Pages/PMK-Nomor-36PMK.010-Tahun-2008-tentang-Besar-Santunan-dan-Sumbangan-Wajib-Dana-Kecelakaan-Lalu-Lintas-Jalan/menas13_1389258036.pdf#page=4), disebutkan bahwa SWDKLLJ yang harus dibayarkan untuk Ambulans adalah Rp 0,00 (nol rupiah). Namun, informasi ini tidak dapat dikonfirmasi oleh sumber lainnya.\\n\\nSementara itu, BI (Bank Indonesia) Website menyatakan bahwa informasi yang diberikan dalam konteks tidak mencakup informasi tentang SWDKLLJ yang harus dibayarkan untuk Ambulans. Oleh karena itu, tidak ada informasi yang dapat diperoleh dari sumber ini terkait dengan pertanyaan tersebut.\\n\\nDalam rangka memberikan konteks yang lebih lengkap, perlu dicatat bahwa SIKEPO Website menyatakan bahwa mereka tidak mengetahui informasi mengenai hal tersebut. Oleh karena itu, informasi yang diberikan oleh OJK (Otoritas Jasa Keuangan) Website menjadi satu-satunya sumber yang memberikan informasi terkait SWDKLLJ yang harus dibayarkan untuk Ambulans, yaitu sebesar Rp 0,00 (nol rupiah).'},\n",
       " {'type': 'human', 'content': 'Apa kepanjangan dari PAPSI?'},\n",
       " {'type': 'ai',\n",
       "  'content': 'Kepanjangan dari PAPSI adalah Perhimpunan Akuntan Publik Syariah Indonesia. Selain itu, PAPSI juga dapat merujuk pada Pedoman Akuntansi Perbankan Syariah Indonesia. Informasi lebih lanjut mengenai PAPSI dapat ditemukan dalam dokumen resmi yang diterbitkan oleh OJK dan BI, seperti pada SEOJK Nomor 37/SEOJK.03/2015 dan SE No.15/26/DPbS.'},\n",
       " {'type': 'human', 'content': 'Berapa SWDKLLJ dari Pick up?\\n'},\n",
       " {'type': 'ai',\n",
       "  'content': 'SWDKLLJ (Sumbangan Wajib Dana Kecelakaan Lalu Lintas Jalan) adalah kontribusi yang harus dibayarkan oleh pemilik kendaraan bermotor di Indonesia. Namun, informasi mengenai SWDKLLJ dari Pick up tidak ditemukan dalam sumber yang tersedia. Saya minta maaf, tetapi informasi yang diberikan dalam konteks tidak relevan dengan pertanyaan Anda tentang SWDKLLJ dari Pick up. Sumber yang disediakan oleh OJK (Otoritas Jasa Keuangan) tidak memberikan informasi mengenai SWDKLLJ dari Pick up. Selain itu, SIKEPO Website juga tidak memberikan informasi yang relevan terkait hal ini. Oleh karena itu, tidak ada informasi yang dapat saya berikan mengenai SWDKLLJ dari Pick up berdasarkan sumber-sumber yang tersedia.'},\n",
       " {'type': 'human', 'content': 'Apa kepanjangan dari PAPSI?'},\n",
       " {'type': 'ai',\n",
       "  'content': 'Kepanjangan dari PAPSI adalah \"Pedoman Akuntansi Perbankan Syariah Indonesia\". Hal ini dijelaskan dalam dokumen dengan Nomor Ketentuan 15/26/DPbS yang menyebutkan bahwa PAPSI 2013 merupakan pedoman dalam penyusunan dan penyajian laporan keuangan Bank Syariah. Selain itu, PAPSI juga dapat merujuk pada Perhimpunan Akuntan Publik Syariah Indonesia. Sumber-sumber yang menjelaskan hal ini termasuk dokumen dari Otoritas Jasa Keuangan (OJK) dan Bank Indonesia (BI), yang masing-masing memberikan penjelasan mengenai peran dan fungsi PAPSI dalam konteks akuntansi perbankan syariah. Untuk informasi lebih lanjut, Anda dapat merujuk pada dokumen SEOJK Nomor 37/SEOJK.03/2015 dan SE No.15/26/DPbS yang tersedia di situs resmi OJK dan BI.'},\n",
       " {'type': 'human', 'content': 'Apa kepanjangan dari pepsi?'},\n",
       " {'type': 'ai', 'content': 'Saya tidak tahu mengenai hal tersebut.'},\n",
       " {'type': 'human', 'content': 'Apa kepanjangan dari pepsi?'},\n",
       " {'type': 'ai',\n",
       "  'content': 'Saya tidak dapat memberikan jawaban untuk pertanyaan tersebut karena konteks yang diberikan tidak relevan dengan pertanyaan tentang kepanjangan dari \"pepsi\". Selain itu, saya juga tidak menemukan informasi mengenai kepanjangan dari \"pepsi\" dalam konteks yang diberikan. Oleh karena itu, saya tidak tahu mengenai hal tersebut.'},\n",
       " {'type': 'human', 'content': 'Apa kepanjangan dari pepsi?'},\n",
       " {'type': 'ai', 'content': 'Saya tidak tahu mengenai hal tersebut.'},\n",
       " {'type': 'human', 'content': 'Apa kepanjangan dari PAPSI?'},\n",
       " {'type': 'ai',\n",
       "  'content': 'Kepanjangan dari PAPSI adalah Perhimpunan Akuntan Publik Syariah Indonesia. Selain itu, PAPSI juga dapat merujuk pada Pedoman Akuntansi Perbankan Syariah Indonesia. Informasi lebih lanjut mengenai PAPSI dapat ditemukan dalam dokumen resmi yang diterbitkan oleh Otoritas Jasa Keuangan (OJK) dan Bank Indonesia. Untuk OJK, referensi dapat dilihat pada [SEOJK Nomor 37/SEOJK.03/2015](https://www.ojk.go.id/id/regulasi/otoritas-jasa-keuangan/surat-edaran-ojk-dan-dewan-komisioner/Documents/Pages/SEOJK-Nomor-37032015-produk-aktivititas-bprs/Kodifikasi%20Produk%20dan%20Aktivitas%20BPRS.pdf#page=55), sedangkan untuk Bank Indonesia, informasi lebih lanjut dapat ditemukan dalam [SE No.15/26/DPbS](https://www.bi.go.id/id/publikasi/peraturan/Documents/a2fd09a2656f43a68a68a6ec1daebff4FAQSE15_26_DPbS.pdf).'},\n",
       " {'type': 'human', 'content': 'berapa maksimum nominal transfer dari qris'},\n",
       " {'type': 'ai',\n",
       "  'content': 'Maksimum nominal transaksi menggunakan QRIS dibatasi paling banyak sebesar Rp5.000.000,00 (lima juta rupiah) per transaksi, sesuai dengan perubahan yang diatur dalam Peraturan Anggota Dewan Gubernur Nomor 23/8/PADG/2021. Informasi lebih lanjut mengenai regulasi ini dapat ditemukan dalam dokumen resmi yang diterbitkan oleh Bank Indonesia.'},\n",
       " {'type': 'human', 'content': 'berapa maksimum nominal transfer dari qris'},\n",
       " {'type': 'ai',\n",
       "  'content': 'Maksimum nominal transaksi menggunakan QRIS dibatasi paling banyak sebesar Rp5.000.000,00 (lima juta rupiah) per transaksi. Hal ini sesuai dengan perubahan yang diatur dalam Peraturan Anggota Dewan Gubernur Nomor 23/8/PADG/2021. Untuk informasi lebih lanjut, Anda dapat merujuk pada dokumen resmi yang tersedia di situs Bank Indonesia.'},\n",
       " {'type': 'human', 'content': 'berapa maksimum nominal transfer dari qris'},\n",
       " {'type': 'ai',\n",
       "  'content': 'Maksimum nominal transaksi menggunakan QRIS adalah sebesar Rp5.000.000,00 (lima juta rupiah) per transaksi, sesuai dengan Peraturan Anggota Dewan Gubernur Nomor 23/8/PADG/2021. Informasi ini menunjukkan batasan yang ditetapkan untuk transaksi melalui sistem QRIS, yang bertujuan untuk menjaga keamanan dan efisiensi dalam proses pembayaran digital. Untuk informasi lebih lanjut, Anda dapat merujuk pada dokumen resmi yang dapat diakses melalui [PADG Nomor 23/8/PADG/2021](https://www.bi.go.id/id/publikasi/peraturan/Documents/PADG_230821.pdf#page=1).'},\n",
       " {'type': 'human', 'content': 'berapa maksimum nominal transfer dari qris'},\n",
       " {'type': 'ai',\n",
       "  'content': 'Maksimum nominal transaksi menggunakan QRIS adalah sebesar Rp5.000.000,00 (lima juta rupiah) per transaksi. Informasi ini dapat ditemukan dalam Peraturan Anggota Dewan Gubernur Nomor 23/8/PADG/2021. Namun, tidak ada informasi lebih lanjut mengenai maksimum nominal transfer dari QRIS yang dapat ditemukan dalam konteks yang diberikan.'},\n",
       " {'type': 'human',\n",
       "  'content': 'berapa maksimum nominal transfer dari transfer BI fast'},\n",
       " {'type': 'ai',\n",
       "  'content': 'Maksimum nominal transaksi yang diproses melalui BI-FAST adalah Rp250.000.000,- per transaksi. Informasi ini dapat ditemukan dalam Peraturan Anggota Dewan Gubernur Nomor 17 Tahun 2023, yang menjelaskan ketentuan terkait transaksi melalui sistem BI-FAST. Namun, tidak ada informasi lebih lanjut mengenai maksimum nominal transfer dari transfer BI Fast yang tersedia dalam konteks lain.'},\n",
       " {'type': 'human',\n",
       "  'content': 'berapa maksimum nominal transfer dari transfer BI fast'},\n",
       " {'type': 'ai',\n",
       "  'content': 'Maksimum nominal transaksi yang diproses melalui BI-FAST adalah Rp250.000.000,- per transaksi. Informasi ini dapat ditemukan dalam Peraturan Anggota Dewan Gubernur Nomor 17 Tahun 2023 tentang Penyelenggaraan Bank Indonesia-Fast Payment, yang dapat diakses di halaman 20 dokumen tersebut. Namun, informasi lebih lanjut mengenai maksimum nominal transfer dari transfer BI Fast tidak tersedia dalam konteks yang diberikan oleh sumber lain.'},\n",
       " {'type': 'human',\n",
       "  'content': 'berapa maksimum nominal transfer dari transfer BI fast'},\n",
       " {'type': 'ai',\n",
       "  'content': 'Maksimum nominal transaksi yang diproses melalui BI-FAST adalah Rp250.000.000,- per transaksi. Informasi ini dapat ditemukan dalam Peraturan Anggota Dewan Gubernur Nomor 17 Tahun 2023 tentang Penyelenggaraan Bank Indonesia-Fast Payment, yang menjelaskan berbagai ketentuan terkait sistem pembayaran cepat yang disediakan oleh Bank Indonesia.'},\n",
       " {'type': 'human', 'content': 'Siapakah yang memiliki Bank?'},\n",
       " {'type': 'ai',\n",
       "  'content': 'Dalam konteks yang diberikan, tidak ada informasi yang menjelaskan secara spesifik siapa yang memiliki bank. Namun, terdapat beberapa ketentuan yang mengatur mengenai pihak-pihak yang dapat menjadi pemilik bank. Menurut Nomor Ketentuan 11/1/PBI/2009 Pasal 17 yang diterbitkan oleh Bank Indonesia, pihak-pihak yang dapat menjadi pemilik bank wajib memenuhi syarat tertentu. Syarat-syarat tersebut meliputi memiliki akhlak dan moral yang baik, memiliki komitmen untuk mematuhi peraturan perundang-undangan yang berlaku, memiliki komitmen yang tinggi terhadap pengembangan operasional bank yang sehat, dan tidak termasuk dalam Daftar Tidak Lulus.\\n\\nSelain itu, Otoritas Jasa Keuangan (OJK) juga memberikan informasi terkait pemilik bank. Menurut OJK, pihak-pihak yang dapat menjadi pemilik bank adalah pihak-pihak yang tidak termasuk dalam daftar orang-orang yang dilarang menjadi pemegang saham dan/atau pengurus bank sesuai dengan ketentuan yang ditetapkan oleh Bank Indonesia. Selain itu, menurut penilaian Bank Indonesia yang bersangkutan, pihak tersebut juga harus memiliki integritas yang baik. Informasi ini dapat ditemukan dalam [Peraturan Bank Indonesia Nomor 6/24/PBI/2004](https://www.ojk.go.id/id/regulasi/Documents/Pages/Peraturan-Bank-Indonesia-Nomor-624PBI2004/317.pdf#page=19).\\n\\nMeskipun demikian, dari sumber yang ada, tidak ada informasi yang secara spesifik menyebutkan siapa yang memiliki bank.'},\n",
       " {'type': 'human',\n",
       "  'content': 'berapa maksimum nominal transfer dari transfer BI fast'},\n",
       " {'type': 'ai',\n",
       "  'content': 'Maksimum nominal transaksi yang diproses melalui BI-FAST adalah Rp250.000.000,- per transaksi. Informasi ini dapat ditemukan dalam Peraturan Anggota Dewan Gubernur Nomor 17 Tahun 2023 tentang Penyelenggaraan Bank Indonesia-Fast Payment, yang dapat diakses di halaman 20 dokumen tersebut. Namun, informasi lebih lanjut mengenai maksimum nominal transfer dari transfer BI Fast tidak tersedia dalam konteks yang diberikan.'},\n",
       " {'type': 'human',\n",
       "  'content': 'berapa maksimum nominal transfer dari transfer BI fast'},\n",
       " {'type': 'ai',\n",
       "  'content': 'Maksimum nominal transaksi yang diproses melalui BI-FAST adalah Rp250.000.000,- per transaksi. Informasi ini dapat ditemukan dalam Peraturan Anggota Dewan Gubernur Nomor 17 Tahun 2023 tentang Penyelenggaraan Bank Indonesia-Fast Payment, yang dapat diakses di halaman 20 dokumen tersebut. Namun, informasi mengenai maksimum nominal transfer dari transfer BI Fast tidak tersedia dalam konteks yang diberikan oleh OJK.'}]"
      ]
     },
     "execution_count": 12,
     "metadata": {},
     "output_type": "execute_result"
    }
   ],
   "source": [
    "chat_store.get_conversation(user_id=USER_ID, conversation_id=CONVERSATION_ID)"
   ]
  },
  {
   "cell_type": "code",
   "execution_count": 12,
   "metadata": {},
   "outputs": [
    {
     "data": {
      "text/plain": [
       "['conv_1', 'conv_2']"
      ]
     },
     "execution_count": 12,
     "metadata": {},
     "output_type": "execute_result"
    }
   ],
   "source": [
    "chat_store.get_coversation_ids_by_user_id(user_id='budi')"
   ]
  },
  {
   "cell_type": "code",
   "execution_count": 20,
   "metadata": {},
   "outputs": [],
   "source": [
    "chat_store.clear_session_history_by_userid(user_id='budi')"
   ]
  },
  {
   "cell_type": "code",
   "execution_count": 19,
   "metadata": {},
   "outputs": [
    {
     "data": {
      "text/plain": [
       "{('budi', 'conv_1'): [HumanMessage(content='Apa itu Dana Tabarru?'),\n",
       "  HumanMessage(content='JIka saya ingin membuat bank apa yang perlu saya perhartikan?')],\n",
       " ('budi', 'conv_2'): [HumanMessage(content='Apa itu Akad Tijarah?'),\n",
       "  HumanMessage(content='apa itu dana tabarru?')]}"
      ]
     },
     "execution_count": 19,
     "metadata": {},
     "output_type": "execute_result"
    }
   ],
   "source": [
    "chat_store.get_all_history()"
   ]
  },
  {
   "cell_type": "code",
   "execution_count": 49,
   "metadata": {},
   "outputs": [],
   "source": [
    "# to make the chat history empty\n",
    "chat_store.clear_all()"
   ]
  },
  {
   "cell_type": "markdown",
   "metadata": {},
   "source": [
    "#### **With Question, Answer, and Context**"
   ]
  },
  {
   "cell_type": "code",
   "execution_count": 46,
   "metadata": {},
   "outputs": [
    {
     "name": "stderr",
     "output_type": "stream",
     "text": [
      "Failed to write data to connection ResolvedIPv4Address(('34.126.171.25', 7687)) (ResolvedIPv4Address(('34.126.171.25', 7687)))\n",
      "Failed to write data to connection IPv4Address(('76b9a325.databases.neo4j.io', 7687)) (ResolvedIPv4Address(('34.126.171.25', 7687)))\n"
     ]
    },
    {
     "data": {
      "text/plain": [
       "{'rewrited question': 'Apa yang dimaksud dengan Akad Tijarah?',\n",
       " 'answer': 'Akad Tijarah adalah akad antara peserta secara kolektif atau secara individu dan Perusahaan Asuransi Syariah, Perusahaan Reasuransi Syariah, atau Unit Syariah dengan tujuan komersial. \\n\\nSource: POJK tentang Penyelenggaraan Usaha Perusahaan Asuransi, Perusahaan Asuransi Syariah, Perusahaan Reasuransi, dan Perusahaan Reasuransi Syariah (69/POJK.05/2016) - page 8\\nURL: [https://www.ojk.go.id/id/regulasi/Documents/Pages/POJK-tentang--Penyelenggaraan-Usaha-Perusahaan-Asuransi,-Asuransi-Syariah,-Reasuransi,-dan-Reasuransi-Syariah/pojk%2069-2016.pdf]',\n",
       " 'context': [Document(metadata={'id': 'doc:ojk:dd3f2a5c040e4747898d01c48615e436', 'title': 'POJK tentang Penyelenggaraan Usaha Perusahaan Asuransi, Perusahaan Asuransi Syariah, Perusahaan Reasuransi, dan Perusahaan Reasuransi Syariah', 'sector': 'IKNB,  Syariah', 'subsector': 'IKNB Syariah,  Asuransi', 'regulation_type': 'Peraturan OJK', 'regulation_number': '69/POJK.05/2016', 'effective_date': '28 Desember 2016', 'file_url': 'https://www.ojk.go.id/id/regulasi/Documents/Pages/POJK-tentang--Penyelenggaraan-Usaha-Perusahaan-Asuransi,-Asuransi-Syariah,-Reasuransi,-dan-Reasuransi-Syariah/pojk%2069-2016.pdf', 'doc_id': '1060', 'page_number': '42', 'relevance_score': 0.99507546}, page_content='Pasal 54 \\n(1) \\nPolis asuransi syariah dan perjanjian reasuransi \\nsyariah wajib mengandung Akad Tabarru’ dan Akad \\nTijarah.  \\n(2) \\nPolis anuitas syariah untuk program pensiun wajib \\nmengandung Akad Hibah Tanahud dan Akad Tijarah.  \\n(3) \\nAkad Tijarah sebagaimana dimaksud dalam ayat (1) \\ndan ayat (2) dapat berupa Akad Wakalah bil Ujrah, \\nAkad \\nMudharabah, \\ndan/atau \\nAkad \\nMudharabah \\nMusytarakah. \\n(4) \\nPenggunaan salah satu Akad Tijarah sebagaimana \\ndimaksud pada ayat (3) wajib dilakukan secara \\nkonsisten sampai berakhirnya polis asuransi syariah. \\n(5) \\nDalam \\nhal \\ndisepakati \\nperubahan \\nAkad \\nTijarah, \\npenggunaan Akad Tijarah yang baru hanya dapat \\nditerapkan pada polis asuransi syariah yang baru. \\n(6) \\nDalam hal perubahan Akad Tijarah sebagaimana \\ndimaksud pada ayat (5) terjadi untuk pengelolaan \\ninvestasi \\nDana \\nTabarru’ \\natau \\nDana \\nTanahud, \\nPerusahaan Asuransi Syariah, Perusahaan Reasuransi \\nSyariah, atau Unit Syariah wajib memisahkan Dana \\nTabarru’ \\natau \\nDana \\nTanahud \\nyang'),\n",
       "  Document(metadata={'id': 'doc:ojk:bb7ca5e7ba01404a9b8b91700686f0c9', 'title': 'POJK tentang Penyelenggaraan Usaha Perusahaan Asuransi, Perusahaan Asuransi Syariah, Perusahaan Reasuransi, dan Perusahaan Reasuransi Syariah', 'sector': 'IKNB,  Syariah', 'subsector': 'IKNB Syariah,  Asuransi', 'regulation_type': 'Peraturan OJK', 'regulation_number': '69/POJK.05/2016', 'effective_date': '28 Desember 2016', 'file_url': 'https://www.ojk.go.id/id/regulasi/Documents/Pages/POJK-tentang--Penyelenggaraan-Usaha-Perusahaan-Asuransi,-Asuransi-Syariah,-Reasuransi,-dan-Reasuransi-Syariah/pojk%2069-2016.pdf', 'doc_id': '1060', 'page_number': '8', 'relevance_score': 0.9848693}, page_content='32. Akad Tijarah adalah Akad antara peserta secara \\nkolektif atau secara individu dan Perusahaan Asuransi \\nSyariah, Perusahaan Reasuransi Syariah, atau Unit \\nSyariah dengan tujuan komersial. \\n33. Akad Wakalah bil Ujrah adalah Akad Tijarah yang \\nmemberikan kuasa kepada Perusahaan Asuransi \\nSyariah, Perusahaan Reasuransi Syariah, atau  Unit \\nSyariah sebagai wakil peserta untuk mengelola Dana \\nTabarru’ dan/atau Dana Investasi Peserta, sesuai \\nkuasa atau wewenang yang diberikan, dengan imbalan \\nberupa ujrah (fee).   \\n34. Akad \\nMudharabah \\nadalah \\nAkad \\nTijarah \\nyang \\nmemberikan kuasa kepada Perusahaan Asuransi \\nSyariah, Perusahaan Reasuransi Syariah, atau  Unit \\nSyariah sebagai mudharib (pengelola dana) untuk \\nmengelola investasi Dana Tabarru’ dan/atau Dana \\nInvestasi Peserta, sesuai kuasa atau wewenang yang \\ndiberikan, dengan imbalan berupa bagi hasil (nisbah) \\nyang besarnya telah disepakati sebelumnya. \\n35. Akad Mudharabah Musytarakah adalah Akad Tijarah'),\n",
       "  Document(metadata={'id': 'doc:ojk:e4cc884e754145768176fd52c13e7986', 'title': 'Peraturan Menteri Keuangan Nomor 18/PMK.010/2010 tentang Penerapan Prinsip Dasar Penyelenggaraan Usaha Asuransi dan Usaha Reasuransi dengan Prinsip Syariah', 'sector': 'IKNB', 'subsector': 'IKNB Syariah,  Asuransi', 'regulation_type': 'Peraturan/Keputusan Mentri', 'regulation_number': '18/PMK.010/2010', 'effective_date': '25 Januari 2010', 'file_url': 'https://www.ojk.go.id/id/regulasi/Documents/Pages/PMK-Nomor-18PMK.010-Tahun-2010-tentang-Penerapan-Prinsip-Dasar-Penyelenggaraan-Usaha-Asuransi-dan-Usaha-Reasuransi/menas9_1389257513.pdf', 'doc_id': '1642', 'page_number': '7', 'relevance_score': 0.9828233}, page_content=\"MENTERI KEUANGAN\\nREPUBLIK INDONESIA\\n(3) Dalam hal disepakati perubahan Akad Tijarah, penggunaan\\nAkad Tijarah yang baru hanya dapat diterapkan pada polis\\nyang baru.\\n(4) Dalam hal perubahan Akad Tijarah sebagaimana dimaksud\\nPerusahaan wajib memisahkan Dana Tabarru' yang dikelola\\n berdasarkan Akad Tijarah yang lama dari Dana Tabarru' yang\\ndikelola berdasarkan Akad Tijarali yang baru.\\ndalam pengelolaan risiko dan pengelolaan investasi Dana\\nTabarru'.\\nPasal 10\\n(1) Akad Wakalah bil Ujrah sebagaimana dimaksud dalam Pasal 9\\nayat (1), wajib memuat sekurang-kurangnya:\\n a. objek yang dikuasakan pengeiolaannya;\\nb. hak dan kewajiban Peserta secara kolektif dan/atau Peserta\\nsecara individu sebagai muwakkil (pemberi kuasa);\\nkuasa) termasuk kewajiban Perusahaan untuk menanggung\\nseluruh kerugian yang terjadi dalam kegiatan pengelolaan\\nrisiko dan/atau kegiatan pengelolaan investasi yang\\ndiakibatkan oleh kesalahan yang disengaja, kelalaian, atau\\nwanprestasi yang dilakukan Perusahaan;\"),\n",
       "  Document(metadata={'id': 'doc:ojk:f1098476321f43d18cb7f68cbe8a54b4', 'title': 'Peraturan Menteri Keuangan Nomor 18/PMK.010/2010 tentang Penerapan Prinsip Dasar Penyelenggaraan Usaha Asuransi dan Usaha Reasuransi dengan Prinsip Syariah', 'sector': 'IKNB', 'subsector': 'IKNB Syariah,  Asuransi', 'regulation_type': 'Peraturan/Keputusan Mentri', 'regulation_number': '18/PMK.010/2010', 'effective_date': '25 Januari 2010', 'file_url': 'https://www.ojk.go.id/id/regulasi/Documents/Pages/PMK-Nomor-18PMK.010-Tahun-2010-tentang-Penerapan-Prinsip-Dasar-Penyelenggaraan-Usaha-Asuransi-dan-Usaha-Reasuransi/menas9_1389257513.pdf', 'doc_id': '1642', 'page_number': '3', 'relevance_score': 0.9580695}, page_content=\"MENTERI KEUANGAN\\nREPUBLIK INDONESIA\\n8. Akad Tijarah adalah Akad antara Peserta secara kolektif atau\\nsecara individu dan Perusahaan dengan tujuan komersial.\\n9.\\nkuasa kepada Perusahaan sebagai wakil Peserta untuk\\nmengelola Dana Tabarru' dan/atau Dana Investasi Peserta,\\n sesuai kuasa atau wewenang yang diberikan, dengan imbalan\\nberupa ujrah (fee).\\nkepada Perusahaan sebagai mudharib untuk mengelola investasi\\nDana Tabarru' dan/atau Dana Investasi Peserta, sesuai kuasa\\natau wewenang yang diberikan, dengan imbalan berupa bagi\\nhasil (nisbah) yang besarnya telah disepakati sebelumnya.\\nmemberikan kuasa kepada Perusahaan sebagai mudharib untuk\\nmengelola investasi Dana Tabarru' dan/atau Dana Investasi\\nPeserta, yang digabungkan dengan kekayaan Perusahaan,\\nsesuai kuasa atau wewenang yang diberikan, dengan imbalan\\nberupa bagi .hasil (nisbah) yang besarnya ditentukan)\\nberdasarkan komposisi kekayaan yang digabungkan dan telah\\ndisepakati sebelumnya.\"),\n",
       "  Document(metadata={'id': 'doc:ojk:6bd384f705dd4bfcbd8fd7db28d1f0bd', 'title': 'POJK tentang Penyelenggaraan Usaha Perusahaan Asuransi, Perusahaan Asuransi Syariah, Perusahaan Reasuransi, dan Perusahaan Reasuransi Syariah', 'sector': 'IKNB,  Syariah', 'subsector': 'IKNB Syariah,  Asuransi', 'regulation_type': 'Peraturan OJK', 'regulation_number': '69/POJK.05/2016', 'effective_date': '28 Desember 2016', 'file_url': 'https://www.ojk.go.id/id/regulasi/Documents/Pages/POJK-tentang--Penyelenggaraan-Usaha-Perusahaan-Asuransi,-Asuransi-Syariah,-Reasuransi,-dan-Reasuransi-Syariah/pojk%2069-2016.pdf', 'doc_id': '1060', 'page_number': '43', 'relevance_score': 0.9094255}, page_content='menjadi Akad Tijarah. \\n(2) \\nAkad Tabarru’ yang digunakan dalam polis asuransi \\nsyariah sebagaimana yang dimaksud pada ayat (1) \\nwajib memuat paling sedikit sebagai berikut: \\na. \\nkesepakatan para pemegang polis atau peserta \\nuntuk saling tolong menolong (ta’awuni); \\nb. \\nhak dan kewajiban masing-masing pemegang \\npolis atau peserta secara individu; \\nc. \\nhak dan kewajiban pemegang polis atau peserta \\nsecara kolektif dalam kelompok; \\nd. \\ncara dan waktu pembayaran kontribusi; \\ne. \\ncara dan waktu pembayaran santunan/klaim;')]}"
      ]
     },
     "execution_count": 46,
     "metadata": {},
     "output_type": "execute_result"
    }
   ],
   "source": [
    "from chain.rag_chain import get_response\n",
    "\n",
    "response = get_response(\n",
    "    chain=chain_history,\n",
    "    question=\"Apa itu Akad Tijarah?\",\n",
    "    user_id=USER_ID,\n",
    "    conversation_id=CONVERSATION_ID\n",
    ")\n",
    "\n",
    "response"
   ]
  },
  {
   "cell_type": "code",
   "execution_count": 27,
   "metadata": {},
   "outputs": [],
   "source": [
    "# print(response['answer'])\n"
   ]
  },
  {
   "cell_type": "code",
   "execution_count": 28,
   "metadata": {},
   "outputs": [],
   "source": [
    "# print(response['context'])"
   ]
  },
  {
   "cell_type": "markdown",
   "metadata": {},
   "source": [
    "#### **Streaming**"
   ]
  },
  {
   "cell_type": "code",
   "execution_count": 29,
   "metadata": {},
   "outputs": [
    {
     "name": "stderr",
     "output_type": "stream",
     "text": [
      "Failed to write data to connection ResolvedIPv4Address(('34.126.171.25', 7687)) (ResolvedIPv4Address(('34.126.171.25', 7687)))\n",
      "Failed to write data to connection IPv4Address(('76b9a325.databases.neo4j.io', 7687)) (ResolvedIPv4Address(('34.126.171.25', 7687)))\n",
      "Error in RootListenersTracer.on_chain_end callback: KeyError('answer')\n",
      "Error in callback coroutine: KeyError('answer')\n"
     ]
    },
    {
     "name": "stdout",
     "output_type": "stream",
     "text": [
      "Jika Anda ingin membuat peraturan terkait bank digital, Anda perlu memperhatikan beberapa peraturan yang relevan, antara lain:\n",
      "\n",
      "1. **Peraturan Otoritas Jasa Keuangan (POJK) Nomor 21 Tahun 2023** tentang Layanan Digital oleh Bank Umum. Peraturan ini mengatur tentang pengembangan dan inovasi dalam memberikan layanan digital oleh bank, serta manajemen risiko, keamanan data nasabah, dan perlindungan konsumen. \n",
      "\n",
      "   Source: [21 Tahun 2023](https://www.ojk.go.id/id/regulasi/Documents/Pages/Layanan-Digital-oleh-Bank-Umum/POJK%2021%20Tahun%202023.%20Layanan%20Digital%20oleh%20Bank%20Umum.pdf) (halaman 1)\n",
      "\n",
      "2. **Peraturan Otoritas Jasa Keuangan (POJK) Nomor 12/POJK.03/2018** tentang Penyelenggaraan Layanan Perbankan Digital oleh Bank Umum. Peraturan ini perlu diperhatikan karena akan digantikan oleh POJK 21 Tahun 2023, namun masih relevan untuk memahami ketentuan yang ada sebelumnya.\n",
      "\n",
      "   Source: [12/POJK.03/2018](https://www.ojk.go.id/id/regulasi/Documents/Pages/Penyelenggaraan-Layanan-Perbankan-Digital-oleh-Bank-Umum/POJK%2012-2018.pdf) (halaman 2)\n",
      "\n",
      "3. **Undang-Undang Nomor 7 Tahun 1992** tentang Perbankan, yang menjadi dasar hukum bagi pengaturan perbankan di Indonesia.\n",
      "\n",
      "   Source: [21 Tahun 2023](https://www.ojk.go.id/id/regulasi/Documents/Pages/Layanan-Digital-oleh-Bank-Umum/POJK%2021%20Tahun%202023.%20Layanan%20Digital%20oleh%20Bank%20Umum.pdf) (halaman 1)\n",
      "\n",
      "4. **Undang-Undang Nomor 4 Tahun 2023** tentang Pengembangan dan Penguatan Sektor Keuangan, yang juga menjadi dasar hukum dalam pengaturan layanan digital oleh bank.\n",
      "\n",
      "   Source: [21 Tahun 2023](https://www.ojk.go.id/id/regulasi/Documents/Pages/Layanan-Digital-oleh-Bank-Umum/POJK%2021%20Tahun%202023.%20Layanan%20Digital%20oleh%20Bank%20Umum.pdf) (halaman 1)\n",
      "\n",
      "Memperhatikan peraturan-peraturan ini akan membantu dalam merumuskan kebijakan yang sesuai dengan regulasi yang berlaku di sektor perbankan digital di Indonesia."
     ]
    }
   ],
   "source": [
    "# from chain.rag_chain import print_answer_stream\n",
    "\n",
    "# question = \"Jika saya ingin membuat peraturan terkait bank digital peraturan apa yang perlu saya perhatikan?\"\n",
    "\n",
    "# print_answer_stream(chain=chain_history, question=question, user_id=USER_ID, conversation_id=CONVERSATION_ID)"
   ]
  }
 ],
 "metadata": {
  "kernelspec": {
   "display_name": "chatbot-all",
   "language": "python",
   "name": "python3"
  },
  "language_info": {
   "codemirror_mode": {
    "name": "ipython",
    "version": 3
   },
   "file_extension": ".py",
   "mimetype": "text/x-python",
   "name": "python",
   "nbconvert_exporter": "python",
   "pygments_lexer": "ipython3",
   "version": "3.9.19"
  }
 },
 "nbformat": 4,
 "nbformat_minor": 2
}

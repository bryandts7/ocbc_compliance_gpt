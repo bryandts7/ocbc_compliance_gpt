{
 "cells": [
  {
   "cell_type": "markdown",
   "metadata": {},
   "source": [
    "# **Compliance GPT with LangChain**"
   ]
  },
  {
   "cell_type": "markdown",
   "metadata": {},
   "source": [
    "## **Setup**"
   ]
  },
  {
   "cell_type": "code",
   "execution_count": 26,
   "metadata": {},
   "outputs": [
    {
     "data": {
      "text/plain": [
       "True"
      ]
     },
     "execution_count": 26,
     "metadata": {},
     "output_type": "execute_result"
    }
   ],
   "source": [
    "import nest_asyncio\n",
    "nest_asyncio.apply()\n",
    "\n",
    "from dotenv import load_dotenv\n",
    "load_dotenv()"
   ]
  },
  {
   "cell_type": "markdown",
   "metadata": {},
   "source": [
    "## **Config**"
   ]
  },
  {
   "cell_type": "code",
   "execution_count": 27,
   "metadata": {},
   "outputs": [],
   "source": [
    "from utils.config import get_config\n",
    "\n",
    "config = get_config()"
   ]
  },
  {
   "cell_type": "code",
   "execution_count": 28,
   "metadata": {},
   "outputs": [],
   "source": [
    "USER_ID = 'xmriz'\n",
    "CONVERSATION_ID = 'xmriz-2021-07-01-01'"
   ]
  },
  {
   "cell_type": "markdown",
   "metadata": {},
   "source": [
    "## **Define Model**"
   ]
  },
  {
   "cell_type": "code",
   "execution_count": 29,
   "metadata": {},
   "outputs": [],
   "source": [
    "from utils.models import ModelName, LLMModelName, EmbeddingModelName, get_model\n",
    "\n",
    "model_name = ModelName.AZURE_OPENAI\n",
    "llm_model, embed_model = get_model(model_name=model_name, config=config, llm_model_name=LLMModelName.GPT_35_TURBO, embedding_model_name=EmbeddingModelName.EMBEDDING_3_SMALL)"
   ]
  },
  {
   "cell_type": "markdown",
   "metadata": {},
   "source": [
    "## **Load Vector Store Index**"
   ]
  },
  {
   "cell_type": "code",
   "execution_count": 30,
   "metadata": {},
   "outputs": [],
   "source": [
    "from databases.vector_store import RedisIndexManager, PineconeIndexManager\n",
    "\n",
    "redis_ojk = RedisIndexManager(index_name='ojk', embed_model=embed_model, config=config, db_id=0)\n",
    "vector_store_ojk = redis_ojk.load_vector_index()\n",
    "\n",
    "redis_bi = RedisIndexManager(index_name='bi', embed_model=embed_model, config=config, db_id=0)\n",
    "vector_store_bi = redis_bi.load_vector_index()\n",
    "\n",
    "redis_sikepo_ket = RedisIndexManager(index_name='sikepo-ketentuan-terkait', embed_model=embed_model, config=config, db_id=0)\n",
    "vector_store_ket = redis_sikepo_ket.load_vector_index()\n",
    "\n",
    "redis_sikepo_rek = RedisIndexManager(index_name='sikepo-rekam-jejak', embed_model=embed_model, config=config, db_id=0)\n",
    "vector_store_rek = redis_sikepo_rek.load_vector_index()\n",
    "\n",
    "# pinecone_ojk = PineconeIndexManager(index_name='ojk', embed_model=embed_model, config=config)\n",
    "# vector_store_ojk = pinecone_ojk.load_vector_index()\n",
    "\n",
    "# pinecone_ket = PineconeIndexManager(index_name='ketentuan-terkait', embed_model=embed_model, config=config)\n",
    "# vector_store_ket = pinecone_ket.load_vector_index()\n",
    "\n",
    "# pinecone_rek = PineconeIndexManager(index_name='rekam-jejak', embed_model=embed_model, config=config)\n",
    "# vector_store_rek = pinecone_rek.load_vector_index()"
   ]
  },
  {
   "cell_type": "code",
   "execution_count": 31,
   "metadata": {},
   "outputs": [],
   "source": [
    "from databases.neo4j_graph_store import Neo4jGraphStore\n",
    "\n",
    "neo4j_sikepo = Neo4jGraphStore(config=config)\n",
    "graph = neo4j_sikepo.get_graph()"
   ]
  },
  {
   "cell_type": "markdown",
   "metadata": {},
   "source": [
    "## **Get Retriever**"
   ]
  },
  {
   "cell_type": "code",
   "execution_count": 32,
   "metadata": {},
   "outputs": [],
   "source": [
    "from retriever.retriever_ojk.retriever_ojk import get_retriever_ojk\n",
    "from retriever.retriever_bi.retriever_bi import get_retriever_bi\n",
    "from retriever.retriever_sikepo.lotr_sikepo import lotr_sikepo\n",
    "\n",
    "retriever_ojk = get_retriever_ojk(vector_store=vector_store_ojk, top_n=6, top_k=16, llm_model=llm_model, embed_model=embed_model, config=config)\n",
    "retriever_bi = get_retriever_bi(vector_store=vector_store_bi, top_n=6, top_k=16, llm_model=llm_model, embed_model=embed_model, config=config)\n",
    "retriever_sikepo_ket = lotr_sikepo(vector_store=vector_store_ket, llm_model=llm_model, embed_model=embed_model, config=config)\n",
    "retriever_sikepo_rek = lotr_sikepo(vector_store=vector_store_rek, llm_model=llm_model, embed_model=embed_model, config=config)"
   ]
  },
  {
   "cell_type": "code",
   "execution_count": 33,
   "metadata": {},
   "outputs": [
    {
     "data": {
      "text/plain": [
       "[Document(page_content='MENTERI KEUANGAN\\nREPUBLIK INDONESIA\\nmemperoleh santunan sebesar Rp 25.000.000,00 (dua puluh lima\\njuta rupiah).\\nb. Korban yang mengalami cacat tetap berhak memperoleh\\nsantunan yang besarnya dihitung berdasarkan angka prosentase\\n Korban yang memerlukan perawatan dan pengobatan berhak\\nrupiah).\\nPasal 3\\nDalam hal korban meninggal dunia akibat kecelakaan alat angkutan\\nlalu lintas jalan tidak mempunyai ahli waris, kepada pihak yang\\nmenyelenggarakan\\ndiberikan\\npenggantian\\nbiaya\\nPasal 4\\n(2) Besar SWDKLLJ sebagaimana dimaksud pada ayat (1) ditentukan\\nsebagai berikut:\\nSepeda motor di bawah 50 cc, mobil ambulance, mobil jenazah\\na.\\ndan mobil pemadam kebakaran dibebaskan dari kewajiban\\nmembayar SWDKLLJ.\\nb. Traktor, buidozer, forklift, mobil derek, excavator, crane dan\\nsejenisnya sebesar Rp 20.000,00 (dua puluh ribu rupiah):\\n Sepeda motor, sepeda kumbang dan scooter di atas 50 cc sampai\\n250 cc dan kendaraan bermotor roda tiga sebesar Rp 32.000,00\\n(tiga puluh dua ribu rupiah).\\nd.', metadata={'id': 'doc:ojk:661f27d6f65e4a81b951c1c0162833e3', 'title': 'Peraturan Menteri Keuangan Nomor 36/PMK.010/2008 tentang Besar Santunan dan Sumbangan Wajib Dana Kecelakaan Lalu Lintas Jalan', 'sector': 'IKNB', 'subsector': 'Asuransi', 'regulation_type': 'Klasifikasi Bapepam', 'regulation_number': '36/PMK.010/2008', 'effective_date': '26 Februari 2008', 'file_url': 'https://www.ojk.go.id/id/regulasi/Documents/Pages/PMK-Nomor-36PMK.010-Tahun-2008-tentang-Besar-Santunan-dan-Sumbangan-Wajib-Dana-Kecelakaan-Lalu-Lintas-Jalan/menas13_1389258036.pdf', 'doc_id': '1718', 'page_number': '3', 'relevance_score': 0.74186105}),\n",
       " Document(page_content='2) Dalam hal pembayaran SWDKLLJ dilakukan setelah melewati batas\\n seharusnya dibayar dengan ketentuan denda yang dikenakan paling\\nbesar Rp100.000,00 (seratus ribu rupiah).\\n(3) Dalam hal ketentuan mengenai batas waktu sebagaimana dimaksud\\ngeografis daerah setempat, Direksi perusahaan yang ditunjuk untuk\\nmenyelenggarakan Dana Kecelakaan Lalu Lintas Jalan diberi\\nbesarnya denda SWDKLLJ, dengan ketentuan batas waktu dimaksud\\npaling lama 15 (lima belas) hari kerja.', metadata={'id': 'doc:ojk:a0f062388a8d4c5e983cbecc2652a289', 'title': 'Peraturan Menteri Keuangan Nomor 36/PMK.010/2008 tentang Besar Santunan dan Sumbangan Wajib Dana Kecelakaan Lalu Lintas Jalan', 'sector': 'IKNB', 'subsector': 'Asuransi', 'regulation_type': 'Klasifikasi Bapepam', 'regulation_number': '36/PMK.010/2008', 'effective_date': '26 Februari 2008', 'file_url': 'https://www.ojk.go.id/id/regulasi/Documents/Pages/PMK-Nomor-36PMK.010-Tahun-2008-tentang-Besar-Santunan-dan-Sumbangan-Wajib-Dana-Kecelakaan-Lalu-Lintas-Jalan/menas13_1389258036.pdf', 'doc_id': '1718', 'page_number': '4', 'relevance_score': 0.037256766}),\n",
       " Document(page_content='480.000.000 \\n480.000.000 \\n/600.000.000 x \\n500.000.000 \\n400.000.000 \\nPemeliharaan \\n4 x \\n30.000.000 \\n120.000.000 \\n120.000.000 \\n/600.000.000 x \\n500.000.000 \\n100.000.000 \\nTotal \\n600.000.000 \\n \\n500.000.000 \\nc. \\nAlokasi untuk Sewa eskalator Rp400.000.000 dan komponen \\nnonSewa Rp100.000.000.', metadata={'id': 'doc:ojk:bd3b8f5e0e4e4cc3b20ae6220801595f', 'title': 'Buku Panduan Akuntansi Perbankan Bagi Bank Umum Konvensional', 'sector': 'Perbankan', 'subsector': 'Bank Umum', 'regulation_type': 'Surat Edaran OJK', 'regulation_number': '34/SEOJK.03/2021', 'effective_date': '31 Desember 2021', 'file_url': 'https://www.ojk.go.id/id/regulasi/Documents/Pages/Buku-Panduan-Akuntansi-Perbankan-Bagi-Bank-Umum-Konvensional-/SEOJK%2034%20-%2003%20-%202021.pdf', 'doc_id': '325', 'page_number': '721', 'relevance_score': 0.0010566838}),\n",
       " Document(page_content='sebesar Rp1.500.000.000.000,00 (satu triliun lima ratus miliar rupiah) \\nsehingga  terdapat  kekurangan  pemenuhan  GWM Primer dan  GWM \\n \\n \\nLDR  . . .', metadata={'id': 'doc:ojk:b5268e4a1b8941feaef3c0c580bf24b0', 'title': 'Peraturan Bank Indonesia Nomor 12/19/PBI/2010', 'sector': 'NO DATA', 'subsector': 'NO DATA', 'regulation_type': 'NO DATA', 'regulation_number': '12/19/PBI/2010', 'effective_date': '4 Oktober 2010', 'file_url': 'https://www.ojk.go.id/id/kanal/perbankan/regulasi/peraturan-bank-indonesia/Documents/107.pdf', 'doc_id': '2409', 'page_number': '40', 'relevance_score': 0.0005316133}),\n",
       " Document(page_content='ruangan (AC) dan pemanas, air, gas dan pembuangan limbah, lift \\ndan lain-lain termasuk penambahan, perubahan, perawatan dan \\nperbaikan. \\nF.43.3. PENYELESAIAN KONSTRUKSI BANGUNAN \\n433000 \\nMencakup kegiatan penyelesaian interior dan eksterior bangunan, \\ntermasuk pemasangan pintu, jendela, tangga, peralatan lain dan \\nsejenisnya, langit-langit, lantai, dinding dan pembatas ruangan \\nyang dapat dipindah-pindah dan pekerjaan penyelesaian bangunan \\nlain yang tidak di klasifikasikan di tempat lain. Golongan ini juga \\nmencakup kegiatan instalasi interior toko, rumah bergerak, kapal \\ndan lain-lain. \\nF.43.9. KONSTRUKSI KHUSUS LAINNYA \\n  \\n  \\n- PENYEWAAN ALAT KONSTRUKSI DENGAN \\nOPERATOR \\n439050 \\nMencakup usaha penyewaan alat atau mesin konstruksi dan \\nperlengkapannya dengan operator. Penyewaan mesin konstruksi \\ndan perlengkapannya tanpa operator, lihat 7730. \\n- KONSTRUKSI KHUSUS LAINNYA YTDL \\n439090 \\nSudah jelas.', metadata={'id': 'doc:ojk:fbf22880b4424447aa916002e83dc321', 'title': 'Laporan Bulanan Bank Perkreditan Rakyat', 'sector': 'Perbankan', 'subsector': 'BPR', 'regulation_type': 'Surat Edaran OJK', 'regulation_number': '12/SEOJK.03/2022', 'effective_date': '19 Juli 2022', 'file_url': 'https://www.ojk.go.id/id/regulasi/Documents/Pages/Laporan-Bulanan-Bank-Perkreditan-Rakyat-SEOJK/SEOJK%2012%20-%2003%20-%202022.pdf', 'doc_id': '272', 'page_number': '334', 'relevance_score': 0.00017674513}),\n",
       " Document(page_content='0 \\n0 \\n2 \\n10000 \\n3580000 Lancar \\n0 \\n0 \\n3 \\n0 \\n3580000 Menunggak 10000 \\n1 \\n4 \\n20000 \\n3560000 Angsuran \\nke-4 + \\nTunggakan \\nPokok \\n0 \\n0 \\n5 \\n10000 \\n3550000 Lancar \\n0 \\n0 \\n6 \\n0 \\n3550000 Menunggak 10000 \\n1 \\n7 \\n0 \\n3550000 Menunggak 20000 \\n2', metadata={'id': 'doc:ojk:42b74c5753b14b29b477e58da1ce4583', 'title': 'Pelaporan dan Permintaan Informasi Debitur melalui Sistem Layanan Informasi Keuangan', 'sector': 'Perbankan', 'subsector': 'Bank Umum,  BPR,  Peraturan Lainnya', 'regulation_type': 'Surat Edaran OJK', 'regulation_number': '50/SEOJK.03/2017', 'effective_date': '27 September 2017', 'file_url': 'https://www.ojk.go.id/id/regulasi/Documents/Pages/Pelaporan-dan-Permintaan-Informasi-Debitur-melalui-SLIK/seojk%2050-2017.pdf', 'doc_id': '886', 'page_number': '291', 'relevance_score': 0.00016603847})]"
      ]
     },
     "execution_count": 33,
     "metadata": {},
     "output_type": "execute_result"
    }
   ],
   "source": [
    "retriever_ojk.invoke(\"Berapa SWDKLLJ dari buldozer?\")"
   ]
  },
  {
   "cell_type": "markdown",
   "metadata": {},
   "source": [
    "## **Create Chain**"
   ]
  },
  {
   "cell_type": "code",
   "execution_count": 34,
   "metadata": {},
   "outputs": [],
   "source": [
    "from databases.chat_store import RedisChatStore, MongoDBChatStore\n",
    "\n",
    "chat_store = RedisChatStore(k=3, config=config, db_id=1)\n",
    "# chat_store = MongoDBChatStore(config=config, k=4)"
   ]
  },
  {
   "cell_type": "code",
   "execution_count": 35,
   "metadata": {},
   "outputs": [],
   "source": [
    "from chain.rag_chain import create_chain_with_chat_history, create_chain\n",
    "from retriever.retriever_sikepo.graph_cypher_retriever import graph_rag_chain\n",
    "\n",
    "\n",
    "graph_chain = graph_rag_chain(llm_model, llm_model, graph=graph)\n",
    "\n",
    "chain = create_chain(\n",
    "    llm_model=llm_model,\n",
    "    graph_chain=graph_chain,\n",
    "    retriever_ojk=retriever_ojk,\n",
    "    retriever_bi=retriever_sikepo_ket,\n",
    "    retriever_sikepo_ketentuan=retriever_sikepo_ket,\n",
    "    retriever_sikepo_rekam=retriever_sikepo_rek,\n",
    ")\n",
    "\n",
    "chain_history = create_chain_with_chat_history(\n",
    "    final_chain=chain,\n",
    "    chat_store=chat_store,\n",
    ")"
   ]
  },
  {
   "cell_type": "markdown",
   "metadata": {},
   "source": [
    "## **Invoke**"
   ]
  },
  {
   "cell_type": "markdown",
   "metadata": {},
   "source": [
    "#### **Chat Store Monitor**"
   ]
  },
  {
   "cell_type": "code",
   "execution_count": 36,
   "metadata": {},
   "outputs": [
    {
     "name": "stdout",
     "output_type": "stream",
     "text": [
      "Human: berapa swdkllj dari buldozer?\n",
      "AI: Saya tidak tahu mengenai hal tersebut.\n"
     ]
    }
   ],
   "source": [
    "# to print chat history\n",
    "print(chat_store.get_session_history(user_id=USER_ID, conversation_id=CONVERSATION_ID))"
   ]
  },
  {
   "cell_type": "code",
   "execution_count": 39,
   "metadata": {},
   "outputs": [],
   "source": [
    "# to make the chat history empty\n",
    "chat_store.clear_all()"
   ]
  },
  {
   "cell_type": "markdown",
   "metadata": {},
   "source": [
    "#### **With Question, Answer, and Context**"
   ]
  },
  {
   "cell_type": "code",
   "execution_count": 38,
   "metadata": {},
   "outputs": [
    {
     "data": {
      "text/plain": [
       "{'answer': 'SWDKLLJ yang harus dibayarkan untuk buldozer sebesar Rp 20.000,00 (dua puluh ribu rupiah).\\n\\nSource: Peraturan Menteri Keuangan Nomor 36/PMK.010/2008 tentang Besar Santunan dan Sumbangan Wajib Dana Kecelakaan Lalu Lintas Jalan (https://www.ojk.go.id/id/regulasi/Documents/Pages/PMK-Nomor-36PMK.010-Tahun-2008-tentang-Besar-Santunan-dan-Sumbangan-Wajib-Dana-Kecelakaan-Lalu-Lintas-Jalan/menas13_1389258036.pdf#page=4)'}"
      ]
     },
     "execution_count": 38,
     "metadata": {},
     "output_type": "execute_result"
    }
   ],
   "source": [
    "from chain.rag_chain import get_response\n",
    "\n",
    "response = get_response(\n",
    "    chain=chain_history,\n",
    "    question=\"Berapa SWDKLLJ dari buldozer?\",\n",
    "    user_id=USER_ID,\n",
    "    conversation_id=CONVERSATION_ID\n",
    ")\n",
    "\n",
    "response"
   ]
  },
  {
   "cell_type": "code",
   "execution_count": 17,
   "metadata": {},
   "outputs": [
    {
     "name": "stdout",
     "output_type": "stream",
     "text": [
      "Tidak, peraturan 11/1/PBI/2009 tidak lagi berlaku. Peraturan ini telah digantikan oleh peraturan 12/POJK.03/2021 yang berlaku sejak 30 Juli 2021. Peraturan 11/1/PBI/2009 juga telah diubah oleh peraturan 13/27/PBI/2011 yang berlaku sejak 28 Desember 2011.\n"
     ]
    }
   ],
   "source": [
    "print(response['answer'])"
   ]
  },
  {
   "cell_type": "markdown",
   "metadata": {},
   "source": [
    "#### **Streaming**"
   ]
  },
  {
   "cell_type": "code",
   "execution_count": 19,
   "metadata": {},
   "outputs": [
    {
     "name": "stdout",
     "output_type": "stream",
     "text": [
      "Saya minta maaf, tetapi pertanyaan yang Anda ajukan tidak terkait dengan konteks dan informasi metadata yang diberikan. Silakan ajukan pertanyaan lain yang terkait dengan kepatuhan perbankan di Indonesia."
     ]
    }
   ],
   "source": [
    "# from chain.rag_chain import print_answer_stream\n",
    "\n",
    "# print_answer_stream(chain=chain_history, question=\"Siapa itu lionel messi?\", user_id=USER_ID, conversation_id=CONVERSATION_ID)"
   ]
  }
 ],
 "metadata": {
  "kernelspec": {
   "display_name": "chatbot-all",
   "language": "python",
   "name": "python3"
  },
  "language_info": {
   "codemirror_mode": {
    "name": "ipython",
    "version": 3
   },
   "file_extension": ".py",
   "mimetype": "text/x-python",
   "name": "python",
   "nbconvert_exporter": "python",
   "pygments_lexer": "ipython3",
   "version": "3.9.19"
  }
 },
 "nbformat": 4,
 "nbformat_minor": 2
}

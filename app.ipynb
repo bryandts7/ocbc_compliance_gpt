{
 "cells": [
  {
   "cell_type": "markdown",
   "metadata": {},
   "source": [
    "# **Compliance GPT with LangChain**"
   ]
  },
  {
   "cell_type": "markdown",
   "metadata": {},
   "source": [
    "## **Setup**"
   ]
  },
  {
   "cell_type": "code",
   "execution_count": 18,
   "metadata": {},
   "outputs": [],
   "source": [
    "# import nest_asyncio\n",
    "# nest_asyncio.apply()\n",
    "\n",
    "import warnings\n",
    "warnings.filterwarnings(\"ignore\")"
   ]
  },
  {
   "cell_type": "markdown",
   "metadata": {},
   "source": [
    "## **Config**"
   ]
  },
  {
   "cell_type": "code",
   "execution_count": 2,
   "metadata": {},
   "outputs": [],
   "source": [
    "from utils.config import get_config\n",
    "\n",
    "config = get_config()"
   ]
  },
  {
   "cell_type": "code",
   "execution_count": 3,
   "metadata": {},
   "outputs": [],
   "source": [
    "USER_ID = 'xmriz'\n",
    "CONVERSATION_ID = 'xmriz-2021-07-01-01'"
   ]
  },
  {
   "cell_type": "markdown",
   "metadata": {},
   "source": [
    "## **Define Model**"
   ]
  },
  {
   "cell_type": "code",
   "execution_count": 4,
   "metadata": {},
   "outputs": [],
   "source": [
    "from utils.models import ModelName, LLMModelName, EmbeddingModelName, get_model\n",
    "\n",
    "model_name = ModelName.AZURE_OPENAI\n",
    "llm_model, embed_model = get_model(model_name=model_name, config=config, llm_model_name=LLMModelName.GPT_35_TURBO, embedding_model_name=EmbeddingModelName.EMBEDDING_3_SMALL)"
   ]
  },
  {
   "cell_type": "markdown",
   "metadata": {},
   "source": [
    "## **Load Vector Store Index**"
   ]
  },
  {
   "cell_type": "code",
   "execution_count": 5,
   "metadata": {},
   "outputs": [
    {
     "name": "stderr",
     "output_type": "stream",
     "text": [
      "c:\\Users\\acer\\miniconda3\\envs\\chatbot-ocbc\\lib\\site-packages\\pinecone\\data\\index.py:1: TqdmWarning: IProgress not found. Please update jupyter and ipywidgets. See https://ipywidgets.readthedocs.io/en/stable/user_install.html\n",
      "  from tqdm.autonotebook import tqdm\n"
     ]
    },
    {
     "name": "stdout",
     "output_type": "stream",
     "text": [
      "Loaded index 'ojk'.\n",
      "Loaded index 'bi'.\n",
      "Loaded index 'ketentuan-terkait'.\n",
      "Loaded index 'rekam-jejak'.\n"
     ]
    }
   ],
   "source": [
    "from database.vector_store.vector_store import RedisIndexManager, PineconeIndexManager, PostgresIndexManager\n",
    "\n",
    "# postgres_bi = PostgresIndexManager(index_name='bi', embed_model=embed_model, config=config)\n",
    "# vector_store_bi = postgres_bi.load_vector_index()\n",
    "\n",
    "# postgres_ojk = PostgresIndexManager(index_name='ojk', embed_model=embed_model, config=config)\n",
    "# vector_store_ojk = postgres_ojk.load_vector_index()\n",
    "\n",
    "# postgres_ket = PostgresIndexManager(index_name='ketentuan-terkait', embed_model=embed_model, config=config)\n",
    "# vector_store_ket = postgres_ket.load_vector_index()\n",
    "\n",
    "# postgres_rek = PostgresIndexManager(index_name='rekam-jejak', embed_model=embed_model, config=config)\n",
    "# vector_store_rek = postgres_rek.load_vector_index()\n",
    "\n",
    "# redis_bi = RedisIndexManager(index_name='bi', embed_model=embed_model, config=config, db_id=0)\n",
    "# vector_store_bi = redis_bi.load_vector_index()\n",
    "\n",
    "# redis_ojk = RedisIndexManager(index_name='ojk', embed_model=embed_model, config=config, db_id=0)\n",
    "# vector_store_ojk = redis_ojk.load_vector_index()\n",
    "\n",
    "# redis_sikepo_ket = RedisIndexManager(index_name='sikepo-ketentuan-terkait', embed_model=embed_model, config=config, db_id=0)\n",
    "# vector_store_ket = redis_sikepo_ket.load_vector_index()\n",
    "\n",
    "# redis_sikepo_rek = RedisIndexManager(index_name='sikepo-rekam-jejak', embed_model=embed_model, config=config, db_id=0)\n",
    "# vector_store_rek = redis_sikepo_rek.load_vector_index()\n",
    "\n",
    "pinecone_ojk = PineconeIndexManager(index_name='ojk', embed_model=embed_model, config=config)\n",
    "vector_store_ojk = pinecone_ojk.load_vector_index()\n",
    "\n",
    "pinecone_bi = PineconeIndexManager(index_name='bi', embed_model=embed_model, config=config)\n",
    "vector_store_bi = pinecone_bi.load_vector_index()\n",
    "\n",
    "pinecone_ket = PineconeIndexManager(index_name='ketentuan-terkait', embed_model=embed_model, config=config)\n",
    "vector_store_ket = pinecone_ket.load_vector_index()\n",
    "\n",
    "pinecone_rek = PineconeIndexManager(index_name='rekam-jejak', embed_model=embed_model, config=config)\n",
    "vector_store_rek = pinecone_rek.load_vector_index()"
   ]
  },
  {
   "cell_type": "code",
   "execution_count": 6,
   "metadata": {},
   "outputs": [],
   "source": [
    "from database.vector_store.neo4j_graph_store import Neo4jGraphStore\n",
    "\n",
    "neo4j_sikepo = Neo4jGraphStore(config=config)\n",
    "graph = neo4j_sikepo.get_graph()"
   ]
  },
  {
   "cell_type": "markdown",
   "metadata": {},
   "source": [
    "## **Get Retriever**"
   ]
  },
  {
   "cell_type": "code",
   "execution_count": 7,
   "metadata": {},
   "outputs": [],
   "source": [
    "from retriever.retriever_ojk.retriever_ojk import get_retriever_ojk\n",
    "from retriever.retriever_bi.retriever_bi import get_retriever_bi\n",
    "from retriever.retriever_sikepo.lotr_sikepo import lotr_sikepo\n",
    "\n",
    "retriever_bi = get_retriever_bi(vector_store=vector_store_bi, top_n=6, top_k=16, llm_model=llm_model, embed_model=embed_model, config=config)\n",
    "retriever_ojk = get_retriever_ojk(vector_store=vector_store_ojk, top_n=6, top_k=16, llm_model=llm_model, embed_model=embed_model, config=config)\n",
    "retriever_sikepo_ket = lotr_sikepo(vector_store=vector_store_ket, llm_model=llm_model, embed_model=embed_model, config=config)\n",
    "retriever_sikepo_rek = lotr_sikepo(vector_store=vector_store_rek, llm_model=llm_model, embed_model=embed_model, config=config)"
   ]
  },
  {
   "cell_type": "code",
   "execution_count": 8,
   "metadata": {},
   "outputs": [],
   "source": [
    "# retriever_ojk.invoke(\"Berapa SWDKLLJ dari ambulans?\")"
   ]
  },
  {
   "cell_type": "markdown",
   "metadata": {},
   "source": [
    "## **Create Chain**"
   ]
  },
  {
   "cell_type": "code",
   "execution_count": 15,
   "metadata": {},
   "outputs": [
    {
     "name": "stderr",
     "output_type": "stream",
     "text": [
      "c:\\Users\\acer\\miniconda3\\envs\\chatbot-ocbc\\lib\\site-packages\\elasticsearch\\_sync\\client\\__init__.py:399: SecurityWarning: Connecting to 'https://localhost:9200' using TLS with verify_certs=False is insecure\n",
      "  _transport = transport_class(\n"
     ]
    }
   ],
   "source": [
    "from database.chat_store import RedisChatStore, MongoDBChatStore, PostgresChatStore, ElasticChatStore\n",
    "\n",
    "chat_store = ElasticChatStore(config=config, k=3)\n",
    "# chat_store = PostgresChatStore(config=config, k=3)\n",
    "# chat_store = RedisChatStore(k=3, config=config, db_id=1)\n",
    "# chat_store = MongoDBChatStore(config=config, k=4)"
   ]
  },
  {
   "cell_type": "code",
   "execution_count": 16,
   "metadata": {},
   "outputs": [],
   "source": [
    "from chain.rag_chain import create_chain_with_chat_history, create_chain\n",
    "from retriever.retriever_sikepo.graph_cypher_retriever import graph_rag_chain\n",
    "\n",
    "\n",
    "graph_chain = graph_rag_chain(llm_model, llm_model, graph=graph)\n",
    "\n",
    "chain = create_chain(\n",
    "    llm_model=llm_model,\n",
    "    graph_chain=graph_chain,\n",
    "    retriever_ojk=retriever_ojk,\n",
    "    retriever_bi=retriever_sikepo_ket,\n",
    "    retriever_sikepo_ketentuan=retriever_sikepo_ket,\n",
    "    retriever_sikepo_rekam=retriever_sikepo_rek,\n",
    ")\n",
    "\n",
    "chain_history = create_chain_with_chat_history(\n",
    "    final_chain=chain,\n",
    "    chat_store=chat_store,\n",
    ")"
   ]
  },
  {
   "cell_type": "markdown",
   "metadata": {},
   "source": [
    "## **Invoke**"
   ]
  },
  {
   "cell_type": "markdown",
   "metadata": {},
   "source": [
    "#### **Chat Store Monitor**"
   ]
  },
  {
   "cell_type": "code",
   "execution_count": 35,
   "metadata": {},
   "outputs": [
    {
     "name": "stdout",
     "output_type": "stream",
     "text": [
      "Human: Berapa SWDKLLJ dari motor?\n",
      "AI: Saya tidak tahu mengenai hal tersebut.\n",
      "Human: Kalau mobil?\n",
      "AI: Saya tidak tahu mengenai hal tersebut.\n"
     ]
    }
   ],
   "source": [
    "# to print chat history\n",
    "print(chat_store.get_session_history(user_id=USER_ID, conversation_id=CONVERSATION_ID))"
   ]
  },
  {
   "cell_type": "code",
   "execution_count": 30,
   "metadata": {},
   "outputs": [],
   "source": [
    "# to make the chat history empty\n",
    "chat_store.clear_all()"
   ]
  },
  {
   "cell_type": "markdown",
   "metadata": {},
   "source": [
    "#### **With Question, Answer, and Context**"
   ]
  },
  {
   "cell_type": "code",
   "execution_count": 36,
   "metadata": {},
   "outputs": [
    {
     "data": {
      "text/plain": [
       "{'rewrited question': 'Apa itu Becak?',\n",
       " 'answer': 'Saya tidak tahu mengenai hal tersebut.',\n",
       " 'context': [Document(metadata={'Jenis Ketentuan': 'SEOJK', 'Judul Ketentuan': 'Prinsip Kehatihatian Bagi Bank Umum yang Melakukan Penyerahan Sebagian Pelaksanaan Pekerjaan Kepada Pihak Lain', 'Ketentuan': 'Romawi III Sub 2', 'Kodifikasi Ketentuan': 'Bank Umum Syariah', 'Nomor Ketentuan': '11/SEOJK.03/2017', 'Referensi': '-', 'Tanggal Ketentuan': '17 Maret 2017', 'relevance_score': 0.016152835}, page_content='Contoh penyerahan pekerjaan kepada kantor pusat atau kantor wilayah Bank yang berkedudukan di luar negeri, perusahaan induk, dan/atau entitas lain dalam satu kelompok usaha yang bukan merupakan cakupan ketentuan Alih Daya antara lain: \\na. pekerjaan yang dilakukan sebagai bentuk pengawasan kantor pusat atau kantor wilayah Bank yang berkedudukan di luar negeri, atau perusahaan induk, misalnya pengawasan limit risiko pasar dan risiko kredit;\\nb. pekerjaan yang tidak dapat dilakukan oleh kantor cabang dari bank yang berkedudukan di luar negeri atau perusahaan anak Bank karena kurangnya keahlian pada bidang tertentu dan bersifat konsultansi, misalnya kaji ulang atas model pengukuran risiko dan tenaga auditor yang memiliki keahlian pada bidang tertentu (seperti bidang teknologi informasi); dan/atau'),\n",
       "  Document(metadata={'Jenis Ketentuan': 'SEBI', 'Judul Ketentuan': 'Batas Maksimum Pemberian Kredit Bank Umum', 'Ketentuan': 'Romawi III ', 'Kodifikasi Ketentuan': 'Bank Umum Syariah', 'Nomor Ketentuan': '7/14/DPNP/2005', 'Referensi': '-', 'Tanggal Ketentuan': '18 April 2005', 'relevance_score': 0.012624949}, page_content='opsi, maupun acting in concert. Walaupun tidak memiliki saham, pengendalian juga dapat dilakukan melalui kemampuan dalam penentuan kepengurusan maupun kemampuan dalam menentukan kebijakan operasional atau kebijakan keuangan Bank.'),\n",
       "  Document(metadata={'Jenis Ketentuan': 'POJK', 'Judul Ketentuan': 'Bank Umum', 'Ketentuan': 'Pasal 77 ', 'Kodifikasi Ketentuan': 'Bank Umum Konvensional', 'Nomor Ketentuan': '12/POJK.03/2021', 'Referensi': '-', 'Tanggal Ketentuan': '30 Juli 2021', 'relevance_score': 0.01102947}, page_content='melaksanakan persiapan operasional dalam rangka \\npemindahan alamat;\\nc. bagi pemindahan alamat kantor Bank BHI berupa \\nKantor di Luar Negeri, dilengkapi dengan dokumen \\ndari pejabat satuan kerja kepatuhan yang berwenang \\nyang menyatakan bahwa Bank BHI telah:\\n1) melakukan studi kelayakan yang paling sedikit \\nmemuat potensi ekonomi, peluang pasar, tingkat \\npersaingan yang sehat antar bank, dan tingkat \\nkejenuhan jumlah bank, untuk Kantor di Luar \\nNegeri selain kantor perwakilan;\\n2) melakukan analisis terkait kondisi bisnis Kantor \\ndi Luar Negeri selain kantor perwakilan setelah \\npemindahan alamat serta mitigasi yang \\ndiperlukan; dan\\n3) menyusun rencana penyelesaian hak dan \\nkewajiban Kantor di Luar Negeri kepada nasabah dan/atau pihak lain sehubungan dengan\\npemindahan alamat; dan\\nd. informasi tahapan yang akan dilakukan dalam \\npelaksanaan pemindahan alamat Kantor di Luar \\nNegeri secara tepat waktu yang mengacu pada proses \\ndan prosedur sebagaimana aturan otoritas negara \\nsetempat.'),\n",
       "  Document(metadata={'Jenis Ketentuan': 'PBI', 'Judul Ketentuan': 'Perubahan Atas Peraturan Bank Indonesia Nomor 73PBI2005 Tentang Batas Maksimum Pemberian Kredit', 'Ketentuan': 'Pasal 8 ', 'Kodifikasi Ketentuan': 'Bank Umum Syariah', 'Nomor Ketentuan': '8/13/PBI/2006', 'Referensi': '7/3/PBI/2005 Pasal 8 ', 'Tanggal Ketentuan': '05 Oktober 2006', 'relevance_score': 0.009522486}, page_content='2. saham Bank atau perusahaan/badan lain yang dimiliki oleh pihak yang dikendalikan oleh pengendali;\\n3. saham Bank atau perusahaan/badan lain yang dimiliki oleh pihak terafiliasi dari pengendali;\\n4. saham Bank atau perusahaan/badan lain yang dimiliki oleh anak perusahaan dari perusahaan/badan yang dikendalikan oleh pengendali;\\n5. saham Bank atau perusahaan/badan lain yang dimiliki oleh pihak-pihak yang bertindak untuk dan atas nama pengendali (saham nominee) berdasarkan atau tidak berdasarkan perjanjian tertentu;\\n6. saham Bank atau perusahaan/badan lain dimiliki oleh pihak lain yang pemindahtangannya memerlukan persetujuan dari pengendali;\\n7. saham perusahaan/badan lain yang dimiliki Bank melalui perusahaan/badan yang dikendalikan oleh Bank secara berjenjang sampai dengan perusahaan/badan terakhir (ultimate subsidiary);\\n8. saham Bank atau perusahaan/badan lain selain saham sebagaimana dimaksud pada angka 1 sampai dengan angka 7 yang dikendalikan oleh Bank atau pengendali.')]}"
      ]
     },
     "execution_count": 36,
     "metadata": {},
     "output_type": "execute_result"
    }
   ],
   "source": [
    "from chain.rag_chain import get_response\n",
    "\n",
    "response = get_response(\n",
    "    chain=chain_history,\n",
    "    question=\"Kalau Apa itu Becak?\",\n",
    "    user_id=USER_ID,\n",
    "    conversation_id=CONVERSATION_ID\n",
    ")\n",
    "\n",
    "response"
   ]
  },
  {
   "cell_type": "code",
   "execution_count": 15,
   "metadata": {},
   "outputs": [
    {
     "name": "stdout",
     "output_type": "stream",
     "text": [
      "Dana Tanahud adalah kumpulan dana yang berasal dari kontribusi tanahud, hasil investasi dana tanahud, qardh dari Perusahaan kepada dana tanahud, dan/atau dana tanahud dari reasuradur, yang penggunaannya sesuai dengan perjanjian anuitas syariah untuk program pensiun atau perjanjian reasuransi syariah atas anuitas syariah untuk program pensiun.\n",
      "\n",
      "Source: [POJK tentang Penyelenggaraan Usaha Perusahaan Asuransi, Perusahaan Asuransi Syariah, Perusahaan Reasuransi, dan Perusahaan Reasuransi Syariah](https://www.ojk.go.id/id/regulasi/Documents/Pages/POJK-tentang--Penyelenggaraan-Usaha-Perusahaan-Asuransi,-Asuransi-Syariah,-Reasuransi,-dan-Reasuransi-Syariah/pojk%2069-2016.pdf#page=7)\n"
     ]
    }
   ],
   "source": [
    "print(response['answer'])\n"
   ]
  },
  {
   "cell_type": "code",
   "execution_count": 16,
   "metadata": {},
   "outputs": [
    {
     "name": "stdout",
     "output_type": "stream",
     "text": [
      "[\n",
      "  {\n",
      "    \"metadata\": {\n",
      "      \"id\": \"doc:ojk:35dce9bb283f49048c149b24356c12e0\",\n",
      "      \"title\": \"POJK tentang Penyelenggaraan Usaha Perusahaan Asuransi, Perusahaan Asuransi Syariah, Perusahaan Reasuransi, dan Perusahaan Reasuransi Syariah\",\n",
      "      \"sector\": \"IKNB,  Syariah\",\n",
      "      \"subsector\": \"IKNB Syariah,  Asuransi\",\n",
      "      \"regulation_type\": \"Peraturan OJK\",\n",
      "      \"regulation_number\": \"69/POJK.05/2016\",\n",
      "      \"effective_date\": \"28 Desember 2016\",\n",
      "      \"file_url\": \"https://www.ojk.go.id/id/regulasi/Documents/Pages/POJK-tentang--Penyelenggaraan-Usaha-Perusahaan-Asuransi,-Asuransi-Syariah,-Reasuransi,-dan-Reasuransi-Syariah/pojk%2069-2016.pdf\",\n",
      "      \"doc_id\": \"1060\",\n",
      "      \"page_number\": \"7\",\n",
      "      \"relevance_score\": 0.9914557\n",
      "    },\n",
      "    \"page_content\": \"Asuransi Syariah dan memenuhi persyaratan untuk \\nmewakili Perusahaan Asuransi atau Perusahaan \\nAsuransi Syariah memasarkan produk asuransi atau \\nproduk asuransi syariah sebagaimana dimaksud \\ndalam Undang-Undang Nomor 40 Tahun 2014 tentang \\nPerasuransian. \\n26. Dana Tabarru\\u2019 adalah kumpulan dana yang berasal \\ndari \\nkontribusi \\npara \\npeserta, \\nyang \\nmekanisme \\npenggunaannya sesuai dengan perjanjian asuransi \\nsyariah \\natau \\nperjanjian \\nreasuransi \\nsyariah \\nsebagaimana dimaksud dalam Undang-Undang Nomor \\n40 Tahun 2014 tentang Perasuransian. \\n27. Dana Tanahud adalah kumpulan dana yang berasal \\ndari kontribusi tanahud, hasil investasi dana tanahud, \\nqardh \\ndari \\nPerusahaan \\nkepada \\ndana \\ntanahud, \\ndan/atau \\ndana \\ntanahud \\ndari \\nreasuradur, \\nyang \\npenggunaannya sesuai dengan perjanjian anuitas \\nsyariah untuk program pensiun atau perjanjian \\nreasuransi \\nsyariah \\natas \\nanuitas \\nsyariah \\nuntuk \\nprogram pensiun. \\n28. Akad Hibah Tanahud adalah akad hibah sejumlah\"\n",
      "  },\n",
      "  {\n",
      "    \"metadata\": {\n",
      "      \"id\": \"doc:ojk:9753b165cefe4545bd316da934499efb\",\n",
      "      \"title\": \"Perubahan Kedua Atas Peraturan Otoritas Jasa Keuangan Nomor 72/POJK.05/2016 Tentang Kesehatan Keuangan Perusahaan Asuransi dan Perusahaan Reasuransi Dengan Prinsip Syariah\",\n",
      "      \"sector\": \"IKNB\",\n",
      "      \"subsector\": \"IKNB Syariah\",\n",
      "      \"regulation_type\": \"Peraturan OJK\",\n",
      "      \"regulation_number\": \"6 TAHUN 2023\",\n",
      "      \"effective_date\": \"6 April 2023\",\n",
      "      \"file_url\": \"https://www.ojk.go.id/id/regulasi/Documents/Pages/Kesehatan-Keuangan-Perusahaan-Asuransi-dan-Perusahaan-Reasuransi-Dengan-Prinsip-Syariah/POJK%20Nomor%206%20Tahun%202023.pdf\",\n",
      "      \"doc_id\": \"166\",\n",
      "      \"page_number\": \"5\",\n",
      "      \"relevance_score\": 0.98347044\n",
      "    },\n",
      "    \"page_content\": \"tanahud, dan/atau dana tanahud dari reasuradur, \\nyang penggunaannya sesuai dengan akad hibah dana \\ntanahud. \\n16. Dana Perusahaan adalah kumpulan dana yang \\ndikelola Perusahaan, selain Dana Tabarru\\u2019, Dana \\nTanahud, dan dana investasi peserta. \\n17. Dana Investasi Peserta adalah dana investasi yang \\nberasal dari kontribusi pemegang polis atau peserta \\npada produk asuransi syariah yang memberikan \\nmanfaat berupa pembayaran dana yang besarnya \\ndidasarkan pada hasil pengelolaan dana. \\n18. Aset \\nYang \\nDiperkenankan \\nadalah \\naset \\nyang \\ndiperhitungkan \\ndalam \\nperhitungan \\ntingkat \\nsolvabilitas. \\n19. Qardh adalah pinjaman dari Dana Perusahaan \\nkepada Dana Tabarru\\u2019 dan/atau Dana Tanahud \\ndalam rangka menanggulangi ketidakcukupan aset \\nDana Tabarru\\u2019 dan/atau Dana Tanahud untuk \\nmembayar \\nsantunan/klaim/manfaat \\nkepada \\npemegang polis atau peserta. \\n20. Aset Yang Tersedia Untuk Qardh adalah bagian dari \\nAset Yang Diperkenankan dari Dana Perusahaan \\nyang disediakan untuk memberi Qardh kepada Dana\"\n",
      "  },\n",
      "  {\n",
      "    \"metadata\": {\n",
      "      \"id\": \"doc:ojk:59b9c9a6624f4ab7b747495797e8a9fe\",\n",
      "      \"title\": \"Pedoman Pembentukan Penyisihan Teknis bagi Perusahaan Asuransi dan Perusahaan Reasuransi dengan Prinsip Syariah\",\n",
      "      \"sector\": \"IKNB\",\n",
      "      \"subsector\": \"IKNB Syariah,  Asuransi\",\n",
      "      \"regulation_type\": \"Surat Edaran OJK\",\n",
      "      \"regulation_number\": \"28/SEOJK.05/2017\",\n",
      "      \"effective_date\": \"13 Juni 2017\",\n",
      "      \"file_url\": \"https://www.ojk.go.id/id/regulasi/Documents/Pages/SEOJK-Pedoman-Pembentukan-Penyisihan-Teknis-bagi-Perusahaan-Asuransi-dan-Perusahaan-Reasuransi-dengan-Prinsip-Syariah/seojk%2028-2017.pdf\",\n",
      "      \"doc_id\": \"981\",\n",
      "      \"page_number\": \"2\",\n",
      "      \"relevance_score\": 0.97923523\n",
      "    },\n",
      "    \"page_content\": \"syariah atas risiko yang dihadapi oleh Perusahaan Asuransi \\nSyariah, \\nperusahaan \\npenjaminan \\nsyariah, \\natau \\nPerusahaan \\nReasuransi \\nSyariah \\nlainnya, \\ntermasuk \\nUnit \\nSyariah \\ndari \\nperusahaan reasuransi. \\n7\\n. \\nDana Tabarru\\u2019 adalah kumpulan dana yang berasal dari kontribusi \\npara pemegang polis atau peserta, yang mekanisme penggunaannya \\nsesuai \\ndengan \\nperjanjian \\nasuransi \\nsyariah \\natau \\nperjanjian \\nreasuransi syariah sebagaimana dimaksud dalam Undang-Undang \\nNomor 40 Tahun 2014 tentang Perasuransian. \\n8\\n. \\nDana Tanahud adalah kumpulan dana yang berasal dari kontribusi \\npara pemegang   polis   atau   peserta anuitas program pensiun \\nsyariah, qardh dari dana perusahaan, dan/atau Dana Tanahud dari \\nreasuransi atas produk anuitas program pensiun syariah, beserta \\nhasil investasinya, yang penggunaannya sesuai dengan perjanjian   \\nanuitas   syariah   untuk   program   pensiun atau perjanjian \\nreasuransi syariah atas anuitas syariah untuk program pensiun. \\n9\\n. \\nDana \\nPerusahaan \\nadalah\"\n",
      "  },\n",
      "  {\n",
      "    \"metadata\": {\n",
      "      \"id\": \"doc:ojk:d71206d08aa14611b521bc2244feabd6\",\n",
      "      \"title\": \"POJK tentang Kesehatan Keuangan Perusahaan Asuransi dan Perusahaan Reasuransi dengan Prinsip Syariah\",\n",
      "      \"sector\": \"IKNB,  Syariah\",\n",
      "      \"subsector\": \"IKNB Syariah,  Asuransi\",\n",
      "      \"regulation_type\": \"Peraturan OJK\",\n",
      "      \"regulation_number\": \"72/POJK.05/2016\",\n",
      "      \"effective_date\": \"28 Desember 2016\",\n",
      "      \"file_url\": \"https://www.ojk.go.id/id/regulasi/Documents/Pages/POJK-tentang-Kesehatan-Keuangan-Perusahaan-Asuransi-dan-Perusahaan-Reasuransi-dengan-Prinsip-Syariah/pojk%2072-2016.pdf\",\n",
      "      \"doc_id\": \"1057\",\n",
      "      \"page_number\": \"4\",\n",
      "      \"relevance_score\": 0.97724086\n",
      "    },\n",
      "    \"page_content\": \"13. Surplus \\nUnderwriting \\nadalah \\nselisih \\nlebih \\ntotal \\nkontribusi pemegang polis atau peserta ke dalam dana \\ntabarru\\u2019 ditambah total recovery klaim dari reasuradur \\ndikurangi \\npembayaran \\nsantunan/klaim/manfaat, \\nkontribusi reasuransi, dan kenaikan penyisihan teknis, \\ndalam satu periode tertentu. \\n14. Dana Tabarru\\u2019 adalah kumpulan dana yang berasal \\ndari kontribusi para pemegang polis atau peserta, yang \\nmekanisme penggunaannya sesuai dengan perjanjian \\nasuransi syariah atau perjanjian reasuransi syariah \\nsebagaimana dimaksud dalam Undang-Undang Nomor \\n40 Tahun 2014 tentang Perasuransian. \\n15. Dana Tanahud adalah kumpulan dana yang berasal \\ndari kontribusi para pemegang polis atau peserta \\nanuitas program pensiun syariah, qardh dari dana \\nperusahaan, dan/atau Dana Tanahud dari reasuransi \\natas produk anuitas program pensiun syariah, beserta \\nhasil investasinya, yang penggunaannya sesuai dengan \\nperjanjian anuitas syariah untuk program pensiun\"\n",
      "  },\n",
      "  {\n",
      "    \"metadata\": {\n",
      "      \"id\": \"doc:ojk:b718bb30240a46a28625bab14f6cddce\",\n",
      "      \"title\": \"Bentuk dan Susunan Laporan Berkala Perusahaan Asuransi Syariah, Perusahaan Reasuransi Syariah, dan Unit Syariah\",\n",
      "      \"sector\": \"IKNB\",\n",
      "      \"subsector\": \"IKNB Syariah,  Asuransi\",\n",
      "      \"regulation_type\": \"Surat Edaran OJK\",\n",
      "      \"regulation_number\": \"2/SEOJK.05/2018\",\n",
      "      \"effective_date\": \"24 Januari 2018\",\n",
      "      \"file_url\": \"https://www.ojk.go.id/id/regulasi/Documents/Pages/Bentuk-dan-Susunan-Laporan-Berkala-Perusahaan-Asuransi-Syariah,-Perusahaan-Reasuransi-Syariah,-dan-Unit-Syariah/SEOJK%202-2018.pdf\",\n",
      "      \"doc_id\": \"842\",\n",
      "      \"page_number\": \"109\",\n",
      "      \"relevance_score\": 0.7354517\n",
      "    },\n",
      "    \"page_content\": \"Dana Tanahud , Dana Perusahaan, dan Dana Investasi Peserta PT ....., maka dengan ini Dewan\\nPengawas Syariah PT ..... menyatakan bahwa pengelolaan kekayaan dan kewajiban Dana Tabarru',  \\nDana Tanahud, Dana Perusahaan , dan Dana Investasi Peserta telah dilakukan sesuai prinsip Syariah\\nIslam.\\n-102-\"\n",
      "  },\n",
      "  {\n",
      "    \"metadata\": {\n",
      "      \"id\": \"doc:ojk:7698037e7d634bdd9bb7fb77155742a7\",\n",
      "      \"title\": \"POJK tentang Kesehatan Keuangan Perusahaan Asuransi dan Perusahaan Reasuransi dengan Prinsip Syariah\",\n",
      "      \"sector\": \"IKNB,  Syariah\",\n",
      "      \"subsector\": \"IKNB Syariah,  Asuransi\",\n",
      "      \"regulation_type\": \"Peraturan OJK\",\n",
      "      \"regulation_number\": \"72/POJK.05/2016\",\n",
      "      \"effective_date\": \"28 Desember 2016\",\n",
      "      \"file_url\": \"https://www.ojk.go.id/id/regulasi/Documents/Pages/POJK-tentang-Kesehatan-Keuangan-Perusahaan-Asuransi-dan-Perusahaan-Reasuransi-dengan-Prinsip-Syariah/pojk%2072-2016.pdf\",\n",
      "      \"doc_id\": \"1057\",\n",
      "      \"page_number\": \"37\",\n",
      "      \"relevance_score\": 0.22236222\n",
      "    },\n",
      "    \"page_content\": \"Dana Tabarru\\u2019 dan Dana Tanahud yang dapat terjadi \\ndi masa yang akan datang dengan menggunakan \\nasumsi estimasi sentral ditambah dengan marjin \\nrisiko. \\n(3) \\nPembentukan penyisihan atas kontribusi tabarru\\u2019 \\nyang \\nbelum \\nmerupakan \\npendapatan \\natau \\nhak \\nsebagaimana dimaksud pada ayat (1) huruf b wajib \\ndihitung berdasarkan kontribusi tabarru\\u2019 dengan \\nmemperhitungkan penyisihan atas seluruh risiko yang \\nbelum dijalani (unexpired risk reserve).\"\n",
      "  }\n",
      "]\n"
     ]
    }
   ],
   "source": [
    "print(response['context'])"
   ]
  },
  {
   "cell_type": "markdown",
   "metadata": {},
   "source": [
    "#### **Streaming**"
   ]
  },
  {
   "cell_type": "code",
   "execution_count": null,
   "metadata": {},
   "outputs": [
    {
     "name": "stdout",
     "output_type": "stream",
     "text": [
      "Saya minta maaf, tetapi pertanyaan yang Anda ajukan tidak terkait dengan konteks dan informasi metadata yang diberikan. Silakan ajukan pertanyaan lain yang terkait dengan kepatuhan perbankan di Indonesia."
     ]
    }
   ],
   "source": [
    "# from chain.rag_chain import print_answer_stream\n",
    "\n",
    "# print_answer_stream(chain=chain_history, question=\"Siapa itu lionel messi?\", user_id=USER_ID, conversation_id=CONVERSATION_ID)"
   ]
  }
 ],
 "metadata": {
  "kernelspec": {
   "display_name": "chatbot-all",
   "language": "python",
   "name": "python3"
  },
  "language_info": {
   "codemirror_mode": {
    "name": "ipython",
    "version": 3
   },
   "file_extension": ".py",
   "mimetype": "text/x-python",
   "name": "python",
   "nbconvert_exporter": "python",
   "pygments_lexer": "ipython3",
   "version": "3.9.19"
  }
 },
 "nbformat": 4,
 "nbformat_minor": 2
}

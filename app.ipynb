{
 "cells": [
  {
   "cell_type": "markdown",
   "metadata": {},
   "source": [
    "# **Compliance GPT with LangChain**"
   ]
  },
  {
   "cell_type": "markdown",
   "metadata": {},
   "source": [
    "## **Setup**"
   ]
  },
  {
   "cell_type": "code",
   "execution_count": 1,
   "metadata": {},
   "outputs": [
    {
     "data": {
      "text/plain": [
       "True"
      ]
     },
     "execution_count": 1,
     "metadata": {},
     "output_type": "execute_result"
    }
   ],
   "source": [
    "from dotenv import load_dotenv\n",
    "load_dotenv()"
   ]
  },
  {
   "cell_type": "markdown",
   "metadata": {},
   "source": [
    "## **Config**"
   ]
  },
  {
   "cell_type": "code",
   "execution_count": 2,
   "metadata": {},
   "outputs": [],
   "source": [
    "from utils.config import get_config\n",
    "from utils.models import ModelName, get_model\n",
    "\n",
    "config = get_config()"
   ]
  },
  {
   "cell_type": "code",
   "execution_count": 3,
   "metadata": {},
   "outputs": [],
   "source": [
    "USER_ID = 'xmriz'\n",
    "CONVERSATION_ID = 'xmriz-2021-07-01-01'"
   ]
  },
  {
   "cell_type": "markdown",
   "metadata": {},
   "source": [
    "## **Define Model**"
   ]
  },
  {
   "cell_type": "code",
   "execution_count": 4,
   "metadata": {},
   "outputs": [],
   "source": [
    "model_name = ModelName.AZURE_OPENAI\n",
    "llm_model, embed_model = get_model(model_name=model_name, config=config)"
   ]
  },
  {
   "cell_type": "markdown",
   "metadata": {},
   "source": [
    "## **Load Vector Store Index**"
   ]
  },
  {
   "cell_type": "code",
   "execution_count": 5,
   "metadata": {},
   "outputs": [
    {
     "name": "stderr",
     "output_type": "stream",
     "text": [
      "c:\\Users\\acer\\miniconda3\\envs\\chatbot-ocbc\\lib\\site-packages\\pinecone\\data\\index.py:1: TqdmWarning: IProgress not found. Please update jupyter and ipywidgets. See https://ipywidgets.readthedocs.io/en/stable/user_install.html\n",
      "  from tqdm.autonotebook import tqdm\n"
     ]
    }
   ],
   "source": [
    "from databases.vector_store import RedisIndexManager\n",
    "\n",
    "chat_store_ojk = RedisIndexManager(index_name='ojk', embed_model=embed_model, config=config, db_id=0)\n",
    "chat_store_bi = RedisIndexManager(index_name='bi', embed_model=embed_model, config=config, db_id=0)\n",
    "\n",
    "vector_store_ojk = chat_store_ojk.load_vector_index()\n",
    "vector_store_bi = chat_store_bi.load_vector_index()"
   ]
  },
  {
   "cell_type": "markdown",
   "metadata": {},
   "source": [
    "## **Get Retriever**"
   ]
  },
  {
   "cell_type": "code",
   "execution_count": 13,
   "metadata": {},
   "outputs": [],
   "source": [
    "from retriever.retriever_bi_ojk.retriever_bi_ojk import get_lotr_bi_ojk, get_retriever_bi_ojk\n",
    "\n",
    "retriever = get_retriever_bi_ojk(\n",
    "    vector_store=vector_store_ojk,\n",
    "    embed_model=embed_model,\n",
    "    llm_model=llm_model,\n",
    "    config=config,\n",
    "    top_k=20,\n",
    "    top_n=6,\n",
    ")\n",
    "\n",
    "# retriever = get_lotr_bi_ojk(\n",
    "#     vector_store_ojk=vector_store_ojk,\n",
    "#     # vector_store_bi=vector_store_bi,\n",
    "#     embed_model=embed_model,\n",
    "#     llm_model=llm_model,\n",
    "#     config=config,\n",
    "#     top_k=20,\n",
    "#     top_n=6,\n",
    "# )"
   ]
  },
  {
   "cell_type": "markdown",
   "metadata": {},
   "source": [
    "## **Create Chain**"
   ]
  },
  {
   "cell_type": "code",
   "execution_count": 14,
   "metadata": {},
   "outputs": [],
   "source": [
    "from constant.ojk.prompt import CONTEXTUALIZE_Q_PROMPT_STR, QA_SYSTEM_PROMPT_STR\n",
    "from databases.chat_store import RedisChatStore\n",
    "from chain.rag_chain import create_chain, create_chain_with_chat_history\n",
    "\n",
    "chat_store = RedisChatStore(k=5, config=config, db_id=1)\n",
    "\n",
    "chain = create_chain(\n",
    "    contextualize_q_prompt_str=CONTEXTUALIZE_Q_PROMPT_STR,\n",
    "    qa_system_prompt_str=QA_SYSTEM_PROMPT_STR,\n",
    "    retriever=retriever,\n",
    "    llm_model=llm_model,\n",
    ")\n",
    "\n",
    "chain_history = create_chain_with_chat_history(\n",
    "    final_chain=chain,\n",
    "    chat_store=chat_store,\n",
    ")"
   ]
  },
  {
   "cell_type": "markdown",
   "metadata": {},
   "source": [
    "## **Invoke**"
   ]
  },
  {
   "cell_type": "markdown",
   "metadata": {},
   "source": [
    "#### **With Question, Answer, and Context**"
   ]
  },
  {
   "cell_type": "code",
   "execution_count": 15,
   "metadata": {},
   "outputs": [
    {
     "data": {
      "text/plain": [
       "{'rewrited question': 'Apa judul peraturan dengan nomor regulasi 2/POJK.03/2021?',\n",
       " 'answer': 'Peraturan OJK Tentang Perubahan Kedua Atas Peraturan OJK Nomor 11-POJK.03-2020 \\n\\nSource: [Peraturan OJK Tentang Perubahan Kedua Atas Peraturan OJK Nomor 11-POJK.03-2020](https://www.ojk.go.id/id/regulasi/Documents/Pages/Peraturan-OJK-tentang-Perubahan-Kedua-Atas-POJK-Nomor-11-POJK.03',\n",
       " 'context': '[\\n  {\\n    \"metadata\": {\\n      \"id\": \"doc:ojk:dd6b5aa5239845bcb69e8a7d60db5eb7\",\\n      \"title\": \"Peraturan OJK tentang Perubahan Kedua Atas Peraturan OJK Nomor 34-POJK.03-2020\",\\n      \"sector\": \"Perbankan\",\\n      \"subsector\": \"BPR\",\\n      \"regulation_type\": \"Peraturan OJK\",\\n      \"regulation_number\": \"18/POJK.03/2021\",\\n      \"effective_date\": \"10 September 2021\",\\n      \"file_url\": \"https://www.ojk.go.id/id/regulasi/Documents/Pages/Peraturan-OJK-tentang-Perubahan-Kedua-Atas-Peraturan-OJK-Nomor-34-POJK.03-2020-/POJK%2018%20-%2003%20-%202021.pdf\",\\n      \"doc_id\": \"380\",\\n      \"page_number\": \"8\",\\n      \"relevance_score\": 0.9976495\\n    },\\n    \"page_content\": \"metadata={\\'doc_id\\': 380, \\'title\\': \\'Peraturan OJK tentang Perubahan Kedua Atas Peraturan OJK Nomor 34-POJK.03-2020\\', \\'sector\\': \\'Perbankan\\', \\'subsector\\': \\'BPR\\', \\'regulation_type\\': \\'Peraturan OJK\\', \\'regulation_number\\': \\'18/POJK.03/2021\\', \\'effective_date\\': \\'10 September 2021\\', \\'file_url\\': \\'https://www.ojk.go.id/id/regulasi/Documents/Pages/Peraturan-OJK-tentang-Perubahan-Kedua-Atas-Peraturan-OJK-Nomor-34-POJK.03-2020-/POJK%2018%20-%2003%20-%202021.pdf\\', \\'page_number\\': 8}\\\\n- 3 - \\\\n \\\\nAyat (2) \\\\nCukup jelas. \\\\nAngka 2 \\\\nPasal 10 \\\\nCukup jelas. \\\\n \\\\nPasal II \\\\nCukup jelas. \\\\n \\\\n \\\\nTAMBAHAN LEMBARAN NEGARA REPUBLIK INDONESIA NOMOR 6723\"\\n  },\\n  {\\n    \"metadata\": {\\n      \"id\": \"doc:ojk:1b3feeee4714434885de3f6ca8577f68\",\\n      \"title\": \"Peraturan OJK Tentang Perubahan Kedua Atas Peraturan OJK Nomor 11-POJK.03-2020\",\\n      \"sector\": \"Perbankan\",\\n      \"subsector\": \"Bank Umum\",\\n      \"regulation_type\": \"Peraturan OJK\",\\n      \"regulation_number\": \"17/POJK.03/2021\",\\n      \"effective_date\": \"10 September 2021\",\\n      \"file_url\": \"https://www.ojk.go.id/id/regulasi/Documents/Pages/Peraturan-OJK-tentang-Perubahan-Kedua-Atas-POJK-Nomor-11-POJK.03-2020-/POJK%2017%20-%2003%20-%202021.pdf\",\\n      \"doc_id\": \"382\",\\n      \"page_number\": \"2\",\\n      \"relevance_score\": 0.9968519\\n    },\\n    \"page_content\": \"metadata={\\'doc_id\\': 382, \\'title\\': \\'Peraturan OJK Tentang Perubahan Kedua Atas Peraturan OJK Nomor 11-POJK.03-2020\\', \\'sector\\': \\'Perbankan\\', \\'subsector\\': \\'Bank Umum\\', \\'regulation_type\\': \\'Peraturan OJK\\', \\'regulation_number\\': \\'17/POJK.03/2021\\', \\'effective_date\\': \\'10 September 2021\\', \\'file_url\\': \\'https://www.ojk.go.id/id/regulasi/Documents/Pages/Peraturan-OJK-tentang-Perubahan-Kedua-Atas-POJK-Nomor-11-POJK.03-2020-/POJK%2017%20-%2003%20-%202021.pdf\\', \\'page_number\\': 2}\\\\n- 2 - \\\\n \\\\n \\\\n \\\\n \\\\nintermediasi perbankan, mempersiapkan perbankan \\\\ndan debitur untuk kembali normal secara perlahan \\\\nsetelah kebijakan stimulus berakhir, serta menjaga \\\\nstabilitas sistem keuangan, perlu dilakukan langkah \\\\nantisipatif dan lanjutan berupa penyesuaian terhadap \\\\nPeraturan \\\\nOtoritas \\\\nJasa \\\\nKeuangan \\\\nNomor \\\\n11/POJK.03/2020 tentang Stimulus Perekonomian \\\\nNasional sebagai Kebijakan Countercyclical Dampak \\\\nPenyebaran Coronavirus Disease 2019 sebagaimana \\\\ntelah diubah dengan Peraturan Otoritas Jasa Keuangan\"\\n  },\\n  {\\n    \"metadata\": {\\n      \"id\": \"doc:ojk:36e09af5690c48f39217c979b0aa3638\",\\n      \"title\": \"Peraturan OJK tentang Perubahan Kedua Atas Peraturan OJK Nomor 34-POJK.03-2020\",\\n      \"sector\": \"Perbankan\",\\n      \"subsector\": \"BPR\",\\n      \"regulation_type\": \"Peraturan OJK\",\\n      \"regulation_number\": \"18/POJK.03/2021\",\\n      \"effective_date\": \"10 September 2021\",\\n      \"file_url\": \"https://www.ojk.go.id/id/regulasi/Documents/Pages/Peraturan-OJK-tentang-Perubahan-Kedua-Atas-Peraturan-OJK-Nomor-34-POJK.03-2020-/POJK%2018%20-%2003%20-%202021.pdf\",\\n      \"doc_id\": \"380\",\\n      \"page_number\": \"6\",\\n      \"relevance_score\": 0.99515146\\n    },\\n    \"page_content\": \"metadata={\\'doc_id\\': 380, \\'title\\': \\'Peraturan OJK tentang Perubahan Kedua Atas Peraturan OJK Nomor 34-POJK.03-2020\\', \\'sector\\': \\'Perbankan\\', \\'subsector\\': \\'BPR\\', \\'regulation_type\\': \\'Peraturan OJK\\', \\'regulation_number\\': \\'18/POJK.03/2021\\', \\'effective_date\\': \\'10 September 2021\\', \\'file_url\\': \\'https://www.ojk.go.id/id/regulasi/Documents/Pages/Peraturan-OJK-tentang-Perubahan-Kedua-Atas-Peraturan-OJK-Nomor-34-POJK.03-2020-/POJK%2018%20-%2003%20-%202021.pdf\\', \\'page_number\\': 6}\\\\n- 2 - \\\\n \\\\nPENJELASAN \\\\nATAS \\\\nPERATURAN OTORITAS JASA KEUANGAN \\\\nREPUBLIK INDONESIA \\\\nNOMOR 18 /POJK.03/2021 \\\\nTENTANG \\\\nPERUBAHAN KEDUA ATAS PERATURAN OTORITAS JASA KEUANGAN NOMOR \\\\n34/POJK.03/2020 TENTANG KEBIJAKAN BAGI BANK PERKREDITAN RAKYAT \\\\nDAN BANK PEMBIAYAAN RAKYAT SYARIAH SEBAGAI DAMPAK PENYEBARAN \\\\nCORONAVIRUS DISEASE 2019 \\\\n \\\\nI. \\\\nUMUM \\\\nSebagai respon atas dampak penyebaran Coronavirus Disease 2019 \\\\n(COVID-19), Otoritas Jasa Keuangan telah menerbitkan Peraturan Otoritas\"\\n  },\\n  {\\n    \"metadata\": {\\n      \"id\": \"doc:ojk:3efff169b6f74011945e83b47ba8353f\",\\n      \"title\": \"Pengembangan Kualitas Sumber Daya Manusia Bank Umum\",\\n      \"sector\": \"Perbankan\",\\n      \"subsector\": \"Bank Umum\",\\n      \"regulation_type\": \"Peraturan OJK\",\\n      \"regulation_number\": \"24 Tahun 2022\",\\n      \"effective_date\": \"5 Desember 2022\",\\n      \"file_url\": \"https://www.ojk.go.id/id/regulasi/Documents/Pages/Pengembangan-Kualitas-Sumber-Daya-Manusia-Bank-Umum-/POJK%2024%20Tahun%202022%20-%20Pengembangan%20Kualitas%20Sumber%20Daya%20Manusia%20Bank%20Umum.pdf\",\\n      \"doc_id\": \"227\",\\n      \"page_number\": \"9\",\\n      \"relevance_score\": 0.64074826\\n    },\\n    \"page_content\": \"Indonesia Nomor 5841) dan ketentuan pelaksanaannya; \\\\n2. \\\\nPeraturan \\\\nOtoritas \\\\nJasa \\\\nKeuangan  \\\\nNomor 9/POJK.03/2016 tentang Prinsip Kehati-hatian \\\\nbagi Bank Umum yang Melakukan Penyerahan \\\\nSebagian Pelaksanaan Pekerjaan kepada Pihak Lain \\\\n(Lembaran Negara Republik Indonesia Tahun 2016 \\\\nNomor 21, Tambahan Lembaran Negara Republik \\\\nIndonesia Nomor 5845); dan \\\\n3. \\\\nPeraturan \\\\nOtoritas \\\\nJasa \\\\nKeuangan \\\\nNomor \\\\n11/POJK.03/2020 tentang Stimulus Perekonomian \\\\nNasional sebagai Kebijakan Countercyclical Dampak \\\\nPenyebaran Coronavirus Disease 2019 (Lembaran \\\\nNegara Republik Indonesia Tahun 2020 Nomor 76, \\\\nTambahan Lembaran Negara Republik Indonesia Nomor \\\\n6480) sebagaimana telah beberapa kali diubah terakhir \\\\ndengan Peraturan Otoritas Jasa Keuangan Nomor \\\\n17/POJK.03/2021 tentang Perubahan Kedua atas \\\\nPeraturan \\\\nOtoritas \\\\nJasa \\\\nKeuangan \\\\nNomor \\\\n11/POJK.03/2020 tentang Stimulus Perekonomian \\\\nNasional sebagai Kebijakan Countercyclical Dampak \\\\nPenyebaran Coronavirus Disease 2019 (Lembaran\"\\n  },\\n  {\\n    \"metadata\": {\\n      \"id\": \"doc:ojk:3ebf69cebc6a4aabb259d10ba11c2d58\",\\n      \"title\": \"Peraturan Otoritas Jasa Keuangan Tentang Perubahan Atas POJK Penawaran Efek Melalui Layanan Urun Dana Berbasis TI\",\\n      \"sector\": \"Pasar Modal\",\\n      \"subsector\": \"Emiten dan Perusahaan Publik,  Peraturan Lainnya\",\\n      \"regulation_type\": \"Peraturan OJK\",\\n      \"regulation_number\": \"POJKNomor16/POJK.04/2021\",\\n      \"effective_date\": \"25 Agustus 2021\",\\n      \"file_url\": \"https://www.ojk.go.id/id/regulasi/Documents/Pages/Peraturan-Otoritas-Jasa-Keuangan-Tentang-Perubahan-Atas-POJK-Penawaran-Efek-Melalui-Layanan-Urun-Dana-Berbasis-TI/POJK%2016%20-%2004%20-%202021.pdf\",\\n      \"doc_id\": \"387\",\\n      \"page_number\": \"14\",\\n      \"relevance_score\": 0.50066185\\n    },\\n    \"page_content\": \"metadata={\\'doc_id\\': 387, \\'title\\': \\'Peraturan Otoritas Jasa Keuangan Tentang Perubahan Atas POJK Penawaran Efek Melalui Layanan Urun Dana Berbasis TI\\', \\'sector\\': \\'Pasar Modal\\', \\'subsector\\': \\'Emiten dan Perusahaan Publik,  Peraturan Lainnya\\', \\'regulation_type\\': \\'Peraturan OJK\\', \\'regulation_number\\': \\'POJKNomor16/POJK.04/2021\\', \\'effective_date\\': \\'25 Agustus 2021\\', \\'file_url\\': \\'https://www.ojk.go.id/id/regulasi/Documents/Pages/Peraturan-Otoritas-Jasa-Keuangan-Tentang-Perubahan-Atas-POJK-Penawaran-Efek-Melalui-Layanan-Urun-Dana-Berbasis-TI/POJK%2016%20-%2004%20-%202021.pdf\\', \\'page_number\\': 14}\\\\n- 2 - \\\\nPeraturan Otoritas Jasa Keuangan Nomor 57/POJK.04/2020 tentang \\\\nPenawaran Efek Melalui Layanan Urun Dana Berbasis Teknologi Informasi.   \\\\n \\\\nII. \\\\nPASAL DEMI PASAL \\\\n \\\\nPasal I \\\\nAngka 1 \\\\nPasal 6 \\\\nDihapus.  \\\\n \\\\nAngka 2 \\\\nPasal 13 \\\\nAyat (1) \\\\nHuruf a \\\\nCukup jelas. \\\\nHuruf b \\\\nCukup jelas. \\\\nHuruf c \\\\nAngka 1 \\\\nCukup jelas. \\\\nAngka 2 \\\\nCukup jelas. \\\\nAngka 3 \\\\nCukup jelas. \\\\nAngka 4\"\\n  },\\n  {\\n    \"metadata\": {\\n      \"id\": \"doc:ojk:ec19ff70bcd6490caae97e2a8f0002d0\",\\n      \"title\": \"Pelindungan Konsumen dan Masyarakat di Sektor Jasa Keuangan\",\\n      \"sector\": \"EPK\",\\n      \"subsector\": \"Peraturan Lainnya\",\\n      \"regulation_type\": \"Peraturan OJK\",\\n      \"regulation_number\": \"22 Tahun 2023\",\\n      \"effective_date\": \"22 Desember 2023\",\\n      \"file_url\": \"https://www.ojk.go.id/id/regulasi/Documents/Pages/Pelindungan-Konsumen-dan-Masyarakat-di-Sektor-Jasa-Keuangan/POJK%2022%20Tahun%202023%20Pelindungan%20Konsumen%20dan%20Masyarakat%20di%20Sektor%20Jasa%20Keuangan.pdf\",\\n      \"doc_id\": \"73\",\\n      \"page_number\": \"2\",\\n      \"relevance_score\": 0.13546064\\n    },\\n    \"page_content\": \"metadata={\\'doc_id\\': 73, \\'title\\': \\'Pelindungan Konsumen dan Masyarakat di Sektor Jasa Keuangan\\', \\'sector\\': \\'EPK\\', \\'subsector\\': \\'Peraturan Lainnya\\', \\'regulation_type\\': \\'Peraturan OJK\\', \\'regulation_number\\': \\'22 Tahun 2023\\', \\'effective_date\\': \\'22 Desember 2023\\', \\'file_url\\': \\'https://www.ojk.go.id/id/regulasi/Documents/Pages/Pelindungan-Konsumen-dan-Masyarakat-di-Sektor-Jasa-Keuangan/POJK%2022%20Tahun%202023%20Pelindungan%20Konsumen%20dan%20Masyarakat%20di%20Sektor%20Jasa%20Keuangan.pdf\\', \\'page_number\\': 2}\\\\n- 2 - \\\\n \\\\n \\\\n \\\\n2.  \\\\nUndang-Undang \\\\nNomor \\\\n4 \\\\nTahun \\\\n2023 \\\\ntentang \\\\nPengembangan \\\\ndan \\\\nPenguatan \\\\nSektor \\\\nKeuangan \\\\n(Lembaran Negara Republik Indonesia Tahun 2023 Nomor \\\\n4,  Tambahan Lembaran Negara Republik Indonesia \\\\nNomor 6845); \\\\n \\\\nMEMUTUSKAN: \\\\nMenetapkan :  PERATURAN \\\\nOTORITAS \\\\nJASA \\\\nKEUANGAN \\\\nTENTANG \\\\nPELINDUNGAN KONSUMEN DAN MASYARAKAT DI SEKTOR \\\\nJASA KEUANGAN. \\\\n \\\\nBAB I \\\\nKETENTUAN UMUM \\\\n \\\\nPasal 1 \\\\nDalam Peraturan Otoritas Jasa Keuangan ini yang dimaksud \\\\ndengan: \\\\n1.\"\\n  }\\n]'}"
      ]
     },
     "execution_count": 15,
     "metadata": {},
     "output_type": "execute_result"
    }
   ],
   "source": [
    "from chain.rag_chain import get_response\n",
    "\n",
    "response = get_response(\n",
    "    chain=chain_history,\n",
    "    question=\"Apa judul peraturan dengan nomor regulasi 2/POJK.03/2021?\",\n",
    "    user_id=USER_ID,\n",
    "    conversation_id=CONVERSATION_ID\n",
    ")\n",
    "\n",
    "response"
   ]
  },
  {
   "cell_type": "code",
   "execution_count": 16,
   "metadata": {},
   "outputs": [
    {
     "name": "stdout",
     "output_type": "stream",
     "text": [
      "[\n",
      "  {\n",
      "    \"metadata\": {\n",
      "      \"id\": \"doc:ojk:dd6b5aa5239845bcb69e8a7d60db5eb7\",\n",
      "      \"title\": \"Peraturan OJK tentang Perubahan Kedua Atas Peraturan OJK Nomor 34-POJK.03-2020\",\n",
      "      \"sector\": \"Perbankan\",\n",
      "      \"subsector\": \"BPR\",\n",
      "      \"regulation_type\": \"Peraturan OJK\",\n",
      "      \"regulation_number\": \"18/POJK.03/2021\",\n",
      "      \"effective_date\": \"10 September 2021\",\n",
      "      \"file_url\": \"https://www.ojk.go.id/id/regulasi/Documents/Pages/Peraturan-OJK-tentang-Perubahan-Kedua-Atas-Peraturan-OJK-Nomor-34-POJK.03-2020-/POJK%2018%20-%2003%20-%202021.pdf\",\n",
      "      \"doc_id\": \"380\",\n",
      "      \"page_number\": \"8\",\n",
      "      \"relevance_score\": 0.9976495\n",
      "    },\n",
      "    \"page_content\": \"metadata={'doc_id': 380, 'title': 'Peraturan OJK tentang Perubahan Kedua Atas Peraturan OJK Nomor 34-POJK.03-2020', 'sector': 'Perbankan', 'subsector': 'BPR', 'regulation_type': 'Peraturan OJK', 'regulation_number': '18/POJK.03/2021', 'effective_date': '10 September 2021', 'file_url': 'https://www.ojk.go.id/id/regulasi/Documents/Pages/Peraturan-OJK-tentang-Perubahan-Kedua-Atas-Peraturan-OJK-Nomor-34-POJK.03-2020-/POJK%2018%20-%2003%20-%202021.pdf', 'page_number': 8}\\n- 3 - \\n \\nAyat (2) \\nCukup jelas. \\nAngka 2 \\nPasal 10 \\nCukup jelas. \\n \\nPasal II \\nCukup jelas. \\n \\n \\nTAMBAHAN LEMBARAN NEGARA REPUBLIK INDONESIA NOMOR 6723\"\n",
      "  },\n",
      "  {\n",
      "    \"metadata\": {\n",
      "      \"id\": \"doc:ojk:1b3feeee4714434885de3f6ca8577f68\",\n",
      "      \"title\": \"Peraturan OJK Tentang Perubahan Kedua Atas Peraturan OJK Nomor 11-POJK.03-2020\",\n",
      "      \"sector\": \"Perbankan\",\n",
      "      \"subsector\": \"Bank Umum\",\n",
      "      \"regulation_type\": \"Peraturan OJK\",\n",
      "      \"regulation_number\": \"17/POJK.03/2021\",\n",
      "      \"effective_date\": \"10 September 2021\",\n",
      "      \"file_url\": \"https://www.ojk.go.id/id/regulasi/Documents/Pages/Peraturan-OJK-tentang-Perubahan-Kedua-Atas-POJK-Nomor-11-POJK.03-2020-/POJK%2017%20-%2003%20-%202021.pdf\",\n",
      "      \"doc_id\": \"382\",\n",
      "      \"page_number\": \"2\",\n",
      "      \"relevance_score\": 0.9968519\n",
      "    },\n",
      "    \"page_content\": \"metadata={'doc_id': 382, 'title': 'Peraturan OJK Tentang Perubahan Kedua Atas Peraturan OJK Nomor 11-POJK.03-2020', 'sector': 'Perbankan', 'subsector': 'Bank Umum', 'regulation_type': 'Peraturan OJK', 'regulation_number': '17/POJK.03/2021', 'effective_date': '10 September 2021', 'file_url': 'https://www.ojk.go.id/id/regulasi/Documents/Pages/Peraturan-OJK-tentang-Perubahan-Kedua-Atas-POJK-Nomor-11-POJK.03-2020-/POJK%2017%20-%2003%20-%202021.pdf', 'page_number': 2}\\n- 2 - \\n \\n \\n \\n \\nintermediasi perbankan, mempersiapkan perbankan \\ndan debitur untuk kembali normal secara perlahan \\nsetelah kebijakan stimulus berakhir, serta menjaga \\nstabilitas sistem keuangan, perlu dilakukan langkah \\nantisipatif dan lanjutan berupa penyesuaian terhadap \\nPeraturan \\nOtoritas \\nJasa \\nKeuangan \\nNomor \\n11/POJK.03/2020 tentang Stimulus Perekonomian \\nNasional sebagai Kebijakan Countercyclical Dampak \\nPenyebaran Coronavirus Disease 2019 sebagaimana \\ntelah diubah dengan Peraturan Otoritas Jasa Keuangan\"\n",
      "  },\n",
      "  {\n",
      "    \"metadata\": {\n",
      "      \"id\": \"doc:ojk:36e09af5690c48f39217c979b0aa3638\",\n",
      "      \"title\": \"Peraturan OJK tentang Perubahan Kedua Atas Peraturan OJK Nomor 34-POJK.03-2020\",\n",
      "      \"sector\": \"Perbankan\",\n",
      "      \"subsector\": \"BPR\",\n",
      "      \"regulation_type\": \"Peraturan OJK\",\n",
      "      \"regulation_number\": \"18/POJK.03/2021\",\n",
      "      \"effective_date\": \"10 September 2021\",\n",
      "      \"file_url\": \"https://www.ojk.go.id/id/regulasi/Documents/Pages/Peraturan-OJK-tentang-Perubahan-Kedua-Atas-Peraturan-OJK-Nomor-34-POJK.03-2020-/POJK%2018%20-%2003%20-%202021.pdf\",\n",
      "      \"doc_id\": \"380\",\n",
      "      \"page_number\": \"6\",\n",
      "      \"relevance_score\": 0.99515146\n",
      "    },\n",
      "    \"page_content\": \"metadata={'doc_id': 380, 'title': 'Peraturan OJK tentang Perubahan Kedua Atas Peraturan OJK Nomor 34-POJK.03-2020', 'sector': 'Perbankan', 'subsector': 'BPR', 'regulation_type': 'Peraturan OJK', 'regulation_number': '18/POJK.03/2021', 'effective_date': '10 September 2021', 'file_url': 'https://www.ojk.go.id/id/regulasi/Documents/Pages/Peraturan-OJK-tentang-Perubahan-Kedua-Atas-Peraturan-OJK-Nomor-34-POJK.03-2020-/POJK%2018%20-%2003%20-%202021.pdf', 'page_number': 6}\\n- 2 - \\n \\nPENJELASAN \\nATAS \\nPERATURAN OTORITAS JASA KEUANGAN \\nREPUBLIK INDONESIA \\nNOMOR 18 /POJK.03/2021 \\nTENTANG \\nPERUBAHAN KEDUA ATAS PERATURAN OTORITAS JASA KEUANGAN NOMOR \\n34/POJK.03/2020 TENTANG KEBIJAKAN BAGI BANK PERKREDITAN RAKYAT \\nDAN BANK PEMBIAYAAN RAKYAT SYARIAH SEBAGAI DAMPAK PENYEBARAN \\nCORONAVIRUS DISEASE 2019 \\n \\nI. \\nUMUM \\nSebagai respon atas dampak penyebaran Coronavirus Disease 2019 \\n(COVID-19), Otoritas Jasa Keuangan telah menerbitkan Peraturan Otoritas\"\n",
      "  },\n",
      "  {\n",
      "    \"metadata\": {\n",
      "      \"id\": \"doc:ojk:3efff169b6f74011945e83b47ba8353f\",\n",
      "      \"title\": \"Pengembangan Kualitas Sumber Daya Manusia Bank Umum\",\n",
      "      \"sector\": \"Perbankan\",\n",
      "      \"subsector\": \"Bank Umum\",\n",
      "      \"regulation_type\": \"Peraturan OJK\",\n",
      "      \"regulation_number\": \"24 Tahun 2022\",\n",
      "      \"effective_date\": \"5 Desember 2022\",\n",
      "      \"file_url\": \"https://www.ojk.go.id/id/regulasi/Documents/Pages/Pengembangan-Kualitas-Sumber-Daya-Manusia-Bank-Umum-/POJK%2024%20Tahun%202022%20-%20Pengembangan%20Kualitas%20Sumber%20Daya%20Manusia%20Bank%20Umum.pdf\",\n",
      "      \"doc_id\": \"227\",\n",
      "      \"page_number\": \"9\",\n",
      "      \"relevance_score\": 0.64074826\n",
      "    },\n",
      "    \"page_content\": \"Indonesia Nomor 5841) dan ketentuan pelaksanaannya; \\n2. \\nPeraturan \\nOtoritas \\nJasa \\nKeuangan  \\nNomor 9/POJK.03/2016 tentang Prinsip Kehati-hatian \\nbagi Bank Umum yang Melakukan Penyerahan \\nSebagian Pelaksanaan Pekerjaan kepada Pihak Lain \\n(Lembaran Negara Republik Indonesia Tahun 2016 \\nNomor 21, Tambahan Lembaran Negara Republik \\nIndonesia Nomor 5845); dan \\n3. \\nPeraturan \\nOtoritas \\nJasa \\nKeuangan \\nNomor \\n11/POJK.03/2020 tentang Stimulus Perekonomian \\nNasional sebagai Kebijakan Countercyclical Dampak \\nPenyebaran Coronavirus Disease 2019 (Lembaran \\nNegara Republik Indonesia Tahun 2020 Nomor 76, \\nTambahan Lembaran Negara Republik Indonesia Nomor \\n6480) sebagaimana telah beberapa kali diubah terakhir \\ndengan Peraturan Otoritas Jasa Keuangan Nomor \\n17/POJK.03/2021 tentang Perubahan Kedua atas \\nPeraturan \\nOtoritas \\nJasa \\nKeuangan \\nNomor \\n11/POJK.03/2020 tentang Stimulus Perekonomian \\nNasional sebagai Kebijakan Countercyclical Dampak \\nPenyebaran Coronavirus Disease 2019 (Lembaran\"\n",
      "  },\n",
      "  {\n",
      "    \"metadata\": {\n",
      "      \"id\": \"doc:ojk:3ebf69cebc6a4aabb259d10ba11c2d58\",\n",
      "      \"title\": \"Peraturan Otoritas Jasa Keuangan Tentang Perubahan Atas POJK Penawaran Efek Melalui Layanan Urun Dana Berbasis TI\",\n",
      "      \"sector\": \"Pasar Modal\",\n",
      "      \"subsector\": \"Emiten dan Perusahaan Publik,  Peraturan Lainnya\",\n",
      "      \"regulation_type\": \"Peraturan OJK\",\n",
      "      \"regulation_number\": \"POJKNomor16/POJK.04/2021\",\n",
      "      \"effective_date\": \"25 Agustus 2021\",\n",
      "      \"file_url\": \"https://www.ojk.go.id/id/regulasi/Documents/Pages/Peraturan-Otoritas-Jasa-Keuangan-Tentang-Perubahan-Atas-POJK-Penawaran-Efek-Melalui-Layanan-Urun-Dana-Berbasis-TI/POJK%2016%20-%2004%20-%202021.pdf\",\n",
      "      \"doc_id\": \"387\",\n",
      "      \"page_number\": \"14\",\n",
      "      \"relevance_score\": 0.50066185\n",
      "    },\n",
      "    \"page_content\": \"metadata={'doc_id': 387, 'title': 'Peraturan Otoritas Jasa Keuangan Tentang Perubahan Atas POJK Penawaran Efek Melalui Layanan Urun Dana Berbasis TI', 'sector': 'Pasar Modal', 'subsector': 'Emiten dan Perusahaan Publik,  Peraturan Lainnya', 'regulation_type': 'Peraturan OJK', 'regulation_number': 'POJKNomor16/POJK.04/2021', 'effective_date': '25 Agustus 2021', 'file_url': 'https://www.ojk.go.id/id/regulasi/Documents/Pages/Peraturan-Otoritas-Jasa-Keuangan-Tentang-Perubahan-Atas-POJK-Penawaran-Efek-Melalui-Layanan-Urun-Dana-Berbasis-TI/POJK%2016%20-%2004%20-%202021.pdf', 'page_number': 14}\\n- 2 - \\nPeraturan Otoritas Jasa Keuangan Nomor 57/POJK.04/2020 tentang \\nPenawaran Efek Melalui Layanan Urun Dana Berbasis Teknologi Informasi.   \\n \\nII. \\nPASAL DEMI PASAL \\n \\nPasal I \\nAngka 1 \\nPasal 6 \\nDihapus.  \\n \\nAngka 2 \\nPasal 13 \\nAyat (1) \\nHuruf a \\nCukup jelas. \\nHuruf b \\nCukup jelas. \\nHuruf c \\nAngka 1 \\nCukup jelas. \\nAngka 2 \\nCukup jelas. \\nAngka 3 \\nCukup jelas. \\nAngka 4\"\n",
      "  },\n",
      "  {\n",
      "    \"metadata\": {\n",
      "      \"id\": \"doc:ojk:ec19ff70bcd6490caae97e2a8f0002d0\",\n",
      "      \"title\": \"Pelindungan Konsumen dan Masyarakat di Sektor Jasa Keuangan\",\n",
      "      \"sector\": \"EPK\",\n",
      "      \"subsector\": \"Peraturan Lainnya\",\n",
      "      \"regulation_type\": \"Peraturan OJK\",\n",
      "      \"regulation_number\": \"22 Tahun 2023\",\n",
      "      \"effective_date\": \"22 Desember 2023\",\n",
      "      \"file_url\": \"https://www.ojk.go.id/id/regulasi/Documents/Pages/Pelindungan-Konsumen-dan-Masyarakat-di-Sektor-Jasa-Keuangan/POJK%2022%20Tahun%202023%20Pelindungan%20Konsumen%20dan%20Masyarakat%20di%20Sektor%20Jasa%20Keuangan.pdf\",\n",
      "      \"doc_id\": \"73\",\n",
      "      \"page_number\": \"2\",\n",
      "      \"relevance_score\": 0.13546064\n",
      "    },\n",
      "    \"page_content\": \"metadata={'doc_id': 73, 'title': 'Pelindungan Konsumen dan Masyarakat di Sektor Jasa Keuangan', 'sector': 'EPK', 'subsector': 'Peraturan Lainnya', 'regulation_type': 'Peraturan OJK', 'regulation_number': '22 Tahun 2023', 'effective_date': '22 Desember 2023', 'file_url': 'https://www.ojk.go.id/id/regulasi/Documents/Pages/Pelindungan-Konsumen-dan-Masyarakat-di-Sektor-Jasa-Keuangan/POJK%2022%20Tahun%202023%20Pelindungan%20Konsumen%20dan%20Masyarakat%20di%20Sektor%20Jasa%20Keuangan.pdf', 'page_number': 2}\\n- 2 - \\n \\n \\n \\n2.  \\nUndang-Undang \\nNomor \\n4 \\nTahun \\n2023 \\ntentang \\nPengembangan \\ndan \\nPenguatan \\nSektor \\nKeuangan \\n(Lembaran Negara Republik Indonesia Tahun 2023 Nomor \\n4,  Tambahan Lembaran Negara Republik Indonesia \\nNomor 6845); \\n \\nMEMUTUSKAN: \\nMenetapkan :  PERATURAN \\nOTORITAS \\nJASA \\nKEUANGAN \\nTENTANG \\nPELINDUNGAN KONSUMEN DAN MASYARAKAT DI SEKTOR \\nJASA KEUANGAN. \\n \\nBAB I \\nKETENTUAN UMUM \\n \\nPasal 1 \\nDalam Peraturan Otoritas Jasa Keuangan ini yang dimaksud \\ndengan: \\n1.\"\n",
      "  }\n",
      "]\n"
     ]
    }
   ],
   "source": [
    "print(response['context'])"
   ]
  },
  {
   "cell_type": "markdown",
   "metadata": {},
   "source": [
    "#### **Streaming**"
   ]
  },
  {
   "cell_type": "code",
   "execution_count": 10,
   "metadata": {},
   "outputs": [
    {
     "name": "stdout",
     "output_type": "stream",
     "text": [
      "Saya minta maaf, tetapi pertanyaan Anda tidak terkait dengan konteks yang diberikan. Konteks yang diberikan adalah tentang kepatuhan perbankan di Indonesia. Apakah ada pertanyaan lain yang dapat saya bantu jawab?"
     ]
    }
   ],
   "source": [
    "# from chain.chain_ojk.chain_ojk import print_answer_stream\n",
    "\n",
    "# print_answer_stream(chain=chain, question=\"Siapa itu lionel messi?\", user_id=USER_ID, conversation_id=CONVERSATION_ID)"
   ]
  },
  {
   "cell_type": "markdown",
   "metadata": {},
   "source": [
    "#### **Chat Store Monitor**"
   ]
  },
  {
   "cell_type": "code",
   "execution_count": 10,
   "metadata": {},
   "outputs": [
    {
     "name": "stdout",
     "output_type": "stream",
     "text": [
      "Human: Berapa limit transaksi dari QRIS?\n",
      "AI: Limit transaksi dari QRIS adalah paling banyak Rp5.000.000,00 (lima juta rupiah) pada setiap rekening. \n",
      "\n",
      "Source: Surat Edaran OJK 34/SEOJK.03/2021 (https://www.ojk.go.id/id/regulasi/Documents/Pages/Buku-Panduan-Akuntansi-Perbankan-Bagi-Bank-Umum-Konvensional-/SEOJK%2034%20-%2003%20-%202021.pdf#page=736)\n"
     ]
    }
   ],
   "source": [
    "# to print chat history\n",
    "print(chat_store.get_session_history(user_id=USER_ID, conversation_id=CONVERSATION_ID))"
   ]
  },
  {
   "cell_type": "code",
   "execution_count": 17,
   "metadata": {},
   "outputs": [],
   "source": [
    "# to make the chat history empty\n",
    "chat_store.clear_all()"
   ]
  }
 ],
 "metadata": {
  "kernelspec": {
   "display_name": "chatbot-all",
   "language": "python",
   "name": "python3"
  },
  "language_info": {
   "codemirror_mode": {
    "name": "ipython",
    "version": 3
   },
   "file_extension": ".py",
   "mimetype": "text/x-python",
   "name": "python",
   "nbconvert_exporter": "python",
   "pygments_lexer": "ipython3",
   "version": "3.9.19"
  }
 },
 "nbformat": 4,
 "nbformat_minor": 2
}

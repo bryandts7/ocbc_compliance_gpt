{
 "cells": [
  {
   "cell_type": "markdown",
   "metadata": {},
   "source": [
    "# **Compliance GPT with LangChain**"
   ]
  },
  {
   "cell_type": "markdown",
   "metadata": {},
   "source": [
    "## **Setup**"
   ]
  },
  {
   "cell_type": "code",
   "execution_count": 26,
   "metadata": {},
   "outputs": [
    {
     "data": {
      "text/plain": [
       "True"
      ]
     },
     "execution_count": 26,
     "metadata": {},
     "output_type": "execute_result"
    }
   ],
   "source": [
    "import nest_asyncio\n",
    "nest_asyncio.apply()\n",
    "\n",
    "from dotenv import load_dotenv\n",
    "load_dotenv()"
   ]
  },
  {
   "cell_type": "markdown",
   "metadata": {},
   "source": [
    "## **Config**"
   ]
  },
  {
   "cell_type": "code",
   "execution_count": 27,
   "metadata": {},
   "outputs": [],
   "source": [
    "from utils.config import get_config\n",
    "\n",
    "config = get_config()"
   ]
  },
  {
   "cell_type": "code",
   "execution_count": 28,
   "metadata": {},
   "outputs": [],
   "source": [
    "USER_ID = 'xmriz'\n",
    "CONVERSATION_ID = 'xmriz-2021-07-01-01'"
   ]
  },
  {
   "cell_type": "markdown",
   "metadata": {},
   "source": [
    "## **Define Model**"
   ]
  },
  {
   "cell_type": "code",
   "execution_count": 29,
   "metadata": {},
   "outputs": [],
   "source": [
    "from utils.models import ModelName, LLMModelName, EmbeddingModelName, get_model\n",
    "\n",
    "model_name = ModelName.AZURE_OPENAI\n",
    "llm_model, embed_model = get_model(model_name=model_name, config=config, llm_model_name=LLMModelName.GPT_35_TURBO, embedding_model_name=EmbeddingModelName.EMBEDDING_3_SMALL)"
   ]
  },
  {
   "cell_type": "markdown",
   "metadata": {},
   "source": [
    "## **Load Vector Store Index**"
   ]
  },
  {
   "cell_type": "code",
   "execution_count": 30,
   "metadata": {},
   "outputs": [],
   "source": [
    "from databases.vector_store import RedisIndexManager, PineconeIndexManager\n",
    "\n",
    "redis_ojk = RedisIndexManager(index_name='ojk', embed_model=embed_model, config=config, db_id=0)\n",
    "vector_store_ojk = redis_ojk.load_vector_index()\n",
    "\n",
    "redis_bi = RedisIndexManager(index_name='bi', embed_model=embed_model, config=config, db_id=0)\n",
    "vector_store_bi = redis_bi.load_vector_index()\n",
    "\n",
    "redis_sikepo_ket = RedisIndexManager(index_name='sikepo-ketentuan-terkait', embed_model=embed_model, config=config, db_id=0)\n",
    "vector_store_ket = redis_sikepo_ket.load_vector_index()\n",
    "\n",
    "redis_sikepo_rek = RedisIndexManager(index_name='sikepo-rekam-jejak', embed_model=embed_model, config=config, db_id=0)\n",
    "vector_store_rek = redis_sikepo_rek.load_vector_index()\n",
    "\n",
    "# pinecone_ojk = PineconeIndexManager(index_name='ojk', embed_model=embed_model, config=config)\n",
    "# vector_store_ojk = pinecone_ojk.load_vector_index()\n",
    "\n",
    "# pinecone_bi = PineconeIndexManager(index_name='bi', embed_model=embed_model, config=config)\n",
    "# vector_store_bi = pinecone_bi.load_vector_index()\n",
    "\n",
    "# pinecone_ket = PineconeIndexManager(index_name='ketentuan-terkait', embed_model=embed_model, config=config)\n",
    "# vector_store_ket = pinecone_ket.load_vector_index()\n",
    "\n",
    "# pinecone_rek = PineconeIndexManager(index_name='rekam-jejak', embed_model=embed_model, config=config)\n",
    "# vector_store_rek = pinecone_rek.load_vector_index()"
   ]
  },
  {
   "cell_type": "code",
   "execution_count": 31,
   "metadata": {},
   "outputs": [],
   "source": [
    "from databases.neo4j_graph_store import Neo4jGraphStore\n",
    "\n",
    "neo4j_sikepo = Neo4jGraphStore(config=config)\n",
    "graph = neo4j_sikepo.get_graph()"
   ]
  },
  {
   "cell_type": "markdown",
   "metadata": {},
   "source": [
    "## **Get Retriever**"
   ]
  },
  {
   "cell_type": "code",
   "execution_count": 32,
   "metadata": {},
   "outputs": [],
   "source": [
    "from retriever.retriever_ojk.retriever_ojk import get_retriever_ojk\n",
    "from retriever.retriever_bi.retriever_bi import get_retriever_bi\n",
    "from retriever.retriever_sikepo.lotr_sikepo import lotr_sikepo\n",
    "\n",
    "retriever_ojk = get_retriever_ojk(vector_store=vector_store_ojk, top_n=6, top_k=16, llm_model=llm_model, embed_model=embed_model, config=config)\n",
    "retriever_bi = get_retriever_bi(vector_store=vector_store_bi, top_n=6, top_k=16, llm_model=llm_model, embed_model=embed_model, config=config)\n",
    "retriever_sikepo_ket = lotr_sikepo(vector_store=vector_store_ket, llm_model=llm_model, embed_model=embed_model, config=config)\n",
    "retriever_sikepo_rek = lotr_sikepo(vector_store=vector_store_rek, llm_model=llm_model, embed_model=embed_model, config=config)"
   ]
  },
  {
   "cell_type": "code",
   "execution_count": 8,
   "metadata": {},
   "outputs": [],
   "source": [
    "# retriever_ojk.invoke(\"What is QRIS?\")"
   ]
  },
  {
   "cell_type": "markdown",
   "metadata": {},
   "source": [
    "## **Create Chain**"
   ]
  },
  {
   "cell_type": "code",
   "execution_count": 9,
   "metadata": {},
   "outputs": [],
   "source": [
    "from databases.chat_store import RedisChatStore, MongoDBChatStore\n",
    "\n",
    "chat_store = RedisChatStore(k=3, config=config, db_id=1)\n",
    "# chat_store = MongoDBChatStore(config=config, k=4)"
   ]
  },
  {
   "cell_type": "code",
   "execution_count": 10,
   "metadata": {},
   "outputs": [],
   "source": [
    "from chain.rag_chain import create_chain_with_chat_history, create_chain\n",
    "from retriever.retriever_sikepo.graph_cypher_retriever import graph_rag_chain\n",
    "\n",
    "\n",
    "graph_chain = graph_rag_chain(llm_model, llm_model, graph=graph)\n",
    "\n",
    "chain = create_chain(\n",
    "    llm_model=llm_model,\n",
    "    graph_chain=graph_chain,\n",
    "    retriever_ojk=retriever_ojk,\n",
    "    retriever_bi=retriever_sikepo_ket,\n",
    "    retriever_sikepo_ketentuan=retriever_sikepo_ket,\n",
    "    retriever_sikepo_rekam=retriever_sikepo_rek,\n",
    ")\n",
    "\n",
    "chain_history = create_chain_with_chat_history(\n",
    "    final_chain=chain,\n",
    "    chat_store=chat_store,\n",
    ")"
   ]
  },
  {
   "cell_type": "markdown",
   "metadata": {},
   "source": [
    "## **Invoke**"
   ]
  },
  {
   "cell_type": "markdown",
   "metadata": {},
   "source": [
    "#### **Chat Store Monitor**"
   ]
  },
  {
   "cell_type": "code",
   "execution_count": 11,
   "metadata": {},
   "outputs": [
    {
     "name": "stdout",
     "output_type": "stream",
     "text": [
      "\n"
     ]
    }
   ],
   "source": [
    "# to print chat history\n",
    "print(chat_store.get_session_history(user_id=USER_ID, conversation_id=CONVERSATION_ID))"
   ]
  },
  {
   "cell_type": "code",
   "execution_count": 39,
   "metadata": {},
   "outputs": [],
   "source": [
    "# to make the chat history empty\n",
    "chat_store.clear_all()"
   ]
  },
  {
   "cell_type": "markdown",
   "metadata": {},
   "source": [
    "#### **With Question, Answer, and Context**"
   ]
  },
  {
   "cell_type": "code",
   "execution_count": 15,
   "metadata": {},
   "outputs": [
    {
     "data": {
      "text/plain": [
       "{'answer': {'rewrited question': 'Berapa SWDKLLJ yang harus dibayarkan oleh ambulans?',\n",
       "  'answer': 'SWDKLLJ yang harus dibayarkan oleh ambulans adalah Rp 0, karena ambulans dibebaskan dari kewajiban membayar SWDKLLJ.\\n\\nSource: Peraturan Menteri Keuangan Nomor 36/PMK.010/2008 tentang Besar Santunan dan Sumbangan Wajib Dana Kecelakaan Lalu Lintas Jalan (https://www.ojk.go.id/id/regulasi/Documents/Pages/PMK-Nomor-36PMK.010-Tahun-2008-tentang-Besar-Santunan-dan-Sumbangan-Wajib-Dana-Kecelakaan-Lalu-Lintas-Jalan/menas13_1389258036.pdf#page=4)',\n",
       "  'context': '[\\n  {\\n    \"metadata\": {\\n      \"id\": \"doc:ojk:661f27d6f65e4a81b951c1c0162833e3\",\\n      \"title\": \"Peraturan Menteri Keuangan Nomor 36/PMK.010/2008 tentang Besar Santunan dan Sumbangan Wajib Dana Kecelakaan Lalu Lintas Jalan\",\\n      \"sector\": \"IKNB\",\\n      \"subsector\": \"Asuransi\",\\n      \"regulation_type\": \"Klasifikasi Bapepam\",\\n      \"regulation_number\": \"36/PMK.010/2008\",\\n      \"effective_date\": \"26 Februari 2008\",\\n      \"file_url\": \"https://www.ojk.go.id/id/regulasi/Documents/Pages/PMK-Nomor-36PMK.010-Tahun-2008-tentang-Besar-Santunan-dan-Sumbangan-Wajib-Dana-Kecelakaan-Lalu-Lintas-Jalan/menas13_1389258036.pdf\",\\n      \"doc_id\": \"1718\",\\n      \"page_number\": \"3\",\\n      \"relevance_score\": 0.9142907\\n    },\\n    \"page_content\": \"MENTERI KEUANGAN\\\\nREPUBLIK INDONESIA\\\\nmemperoleh santunan sebesar Rp 25.000.000,00 (dua puluh lima\\\\njuta rupiah).\\\\nb. Korban yang mengalami cacat tetap berhak memperoleh\\\\nsantunan yang besarnya dihitung berdasarkan angka prosentase\\\\n Korban yang memerlukan perawatan dan pengobatan berhak\\\\nrupiah).\\\\nPasal 3\\\\nDalam hal korban meninggal dunia akibat kecelakaan alat angkutan\\\\nlalu lintas jalan tidak mempunyai ahli waris, kepada pihak yang\\\\nmenyelenggarakan\\\\ndiberikan\\\\npenggantian\\\\nbiaya\\\\nPasal 4\\\\n(2) Besar SWDKLLJ sebagaimana dimaksud pada ayat (1) ditentukan\\\\nsebagai berikut:\\\\nSepeda motor di bawah 50 cc, mobil ambulance, mobil jenazah\\\\na.\\\\ndan mobil pemadam kebakaran dibebaskan dari kewajiban\\\\nmembayar SWDKLLJ.\\\\nb. Traktor, buidozer, forklift, mobil derek, excavator, crane dan\\\\nsejenisnya sebesar Rp 20.000,00 (dua puluh ribu rupiah):\\\\n Sepeda motor, sepeda kumbang dan scooter di atas 50 cc sampai\\\\n250 cc dan kendaraan bermotor roda tiga sebesar Rp 32.000,00\\\\n(tiga puluh dua ribu rupiah).\\\\nd.\"\\n  },\\n  {\\n    \"metadata\": {\\n      \"id\": \"doc:ojk:a0f062388a8d4c5e983cbecc2652a289\",\\n      \"title\": \"Peraturan Menteri Keuangan Nomor 36/PMK.010/2008 tentang Besar Santunan dan Sumbangan Wajib Dana Kecelakaan Lalu Lintas Jalan\",\\n      \"sector\": \"IKNB\",\\n      \"subsector\": \"Asuransi\",\\n      \"regulation_type\": \"Klasifikasi Bapepam\",\\n      \"regulation_number\": \"36/PMK.010/2008\",\\n      \"effective_date\": \"26 Februari 2008\",\\n      \"file_url\": \"https://www.ojk.go.id/id/regulasi/Documents/Pages/PMK-Nomor-36PMK.010-Tahun-2008-tentang-Besar-Santunan-dan-Sumbangan-Wajib-Dana-Kecelakaan-Lalu-Lintas-Jalan/menas13_1389258036.pdf\",\\n      \"doc_id\": \"1718\",\\n      \"page_number\": \"4\",\\n      \"relevance_score\": 0.5931969\\n    },\\n    \"page_content\": \"2) Dalam hal pembayaran SWDKLLJ dilakukan setelah melewati batas\\\\n seharusnya dibayar dengan ketentuan denda yang dikenakan paling\\\\nbesar Rp100.000,00 (seratus ribu rupiah).\\\\n(3) Dalam hal ketentuan mengenai batas waktu sebagaimana dimaksud\\\\ngeografis daerah setempat, Direksi perusahaan yang ditunjuk untuk\\\\nmenyelenggarakan Dana Kecelakaan Lalu Lintas Jalan diberi\\\\nbesarnya denda SWDKLLJ, dengan ketentuan batas waktu dimaksud\\\\npaling lama 15 (lima belas) hari kerja.\"\\n  },\\n  {\\n    \"metadata\": {\\n      \"id\": \"doc:ojk:f2a71351bb304600a8921ed4cd14f42e\",\\n      \"title\": \"Peraturan Menteri Keuangan Nomor 36/PMK.010/2008 tentang Besar Santunan dan Sumbangan Wajib Dana Kecelakaan Lalu Lintas Jalan\",\\n      \"sector\": \"IKNB\",\\n      \"subsector\": \"Asuransi\",\\n      \"regulation_type\": \"Klasifikasi Bapepam\",\\n      \"regulation_number\": \"36/PMK.010/2008\",\\n      \"effective_date\": \"26 Februari 2008\",\\n      \"file_url\": \"https://www.ojk.go.id/id/regulasi/Documents/Pages/PMK-Nomor-36PMK.010-Tahun-2008-tentang-Besar-Santunan-dan-Sumbangan-Wajib-Dana-Kecelakaan-Lalu-Lintas-Jalan/menas13_1389258036.pdf\",\\n      \"doc_id\": \"1718\",\\n      \"page_number\": \"4\",\\n      \"relevance_score\": 0.18025091\\n    },\\n    \"page_content\": \"MENTERI KEUANGAN\\\\nREPUBLIK INDONESIA\\\\n-4-\\\\n Mobil penumpang angkutan umum sampai dengan 1600 cc\\\\ng. Bus dan mikro bus bukan angkutan umum sebesar Rp150.000,00\\\\n(seratus lima puluh ribu rupiah).\\\\nh. Bus dan.mikro bus angkutan umum, serta mobil penumpang\\\\nangkutan umum lainnya di atas 1600 cc sebesar Rp87.000,00\\\\n(delapan puluh tujuh ribu rupiah).\\\\nTruk, mobil tangki, mobil gandengan, mobil barang di atas 2400\\\\ncc, truk container dan sejenisnya sebesar Rp 160.000,00 (seratus\\\\n enam puluh ribu rupiah).\\\\nPasal 5\\\\nSetiap jenis kendaraan sebagaimana dimaksud dalam Pasal 4, dikenakan\\\\nbiaya\\\\n penggantian pembuatan\\\\n Kartu Dana/Sertifikat sebesar\\\\nRp 3.000,00 (tiga ribu rupiah).\\\\nPasal 6\\\\nTanda Nomor Kendaraan Bermotor sesuai dengan ketentuan\\\\nperaturan perundang-undangan yang berlaku.\\\\n2) Dalam hal pembayaran SWDKLLJ dilakukan setelah melewati batas\\\\n seharusnya dibayar dengan ketentuan denda yang dikenakan paling\\\\nbesar Rp100.000,00 (seratus ribu rupiah).\"\\n  },\\n  {\\n    \"metadata\": {\\n      \"id\": \"doc:ojk:0401058c4c1c4af4b63696591a5de87b\",\\n      \"title\": \"Peraturan Menteri Keuangan Nomor 36/PMK.010/2008 tentang Besar Santunan dan Sumbangan Wajib Dana Kecelakaan Lalu Lintas Jalan\",\\n      \"sector\": \"IKNB\",\\n      \"subsector\": \"Asuransi\",\\n      \"regulation_type\": \"Klasifikasi Bapepam\",\\n      \"regulation_number\": \"36/PMK.010/2008\",\\n      \"effective_date\": \"26 Februari 2008\",\\n      \"file_url\": \"https://www.ojk.go.id/id/regulasi/Documents/Pages/PMK-Nomor-36PMK.010-Tahun-2008-tentang-Besar-Santunan-dan-Sumbangan-Wajib-Dana-Kecelakaan-Lalu-Lintas-Jalan/menas13_1389258036.pdf\",\\n      \"doc_id\": \"1718\",\\n      \"page_number\": \"2\",\\n      \"relevance_score\": 0.05033063\\n    },\\n    \"page_content\": \"wajib\\\\nsebagaimana dimaksud dalam Undang-Undang Nomor 34 Tahun\\\\n1964 tentang Dana Kecelakaan Lalu Lintas Jalan juncto Peraturan\\\\nPelaksanaan Dana Kecelakaan Lalu Lintas Jalan.\\\\n2) SWDKLLJ merupakan premi asuransi yang dibayarkan oleh para\\\\npengusaha/pemilik alat angkutan lalu lintas jalan kepada\\\\nperusahaan yang menyelenggarakan Dana Kecelakaan Lalu Lintas\\\\nJalan.\\\\nPasal 2\\\\n(1 Korban kecelakaan alat angkutan lalu lintas jalan atau ahli warisnya\\\\nberhak atas santunan.\\\\nBesar santunan sebagaimana dimaksud pada ayat (1) ditentukan\\\\nsebagai berikut:\"\\n  },\\n  {\\n    \"metadata\": {\\n      \"id\": \"doc:ojk:7d61a2cb5c1140aa9979cb03f2b8b5ec\",\\n      \"title\": \"Penetapan Tarif Premi atau Kontribusi pada Lini Usaha Asuransi Harta Benda dan Asuransi Kendaraan Bermotor Tahun 2017\",\\n      \"sector\": \"IKNB\",\\n      \"subsector\": \"Asuransi\",\\n      \"regulation_type\": \"Surat Edaran OJK\",\\n      \"regulation_number\": \"6/SEOJK.05/2017\",\\n      \"effective_date\": \"12 September 2017\",\\n      \"file_url\": \"https://www.ojk.go.id/id/regulasi/Documents/Pages/SEOJK-Penetapan-Tarif-Premi-atau-Kontribusi-pada-Lini-Usaha-Asuransi-Harta-Benda-dan-Asuransi-Kendaraan-Bermotor-2017/SAL%20-%20Lampiran%20IV%20-%20KBM.pdf\",\\n      \"doc_id\": \"894\",\\n      \"page_number\": \"5\",\\n      \"relevance_score\": 0.0008459375\\n    },\\n    \"page_content\": \"= Rp. 375.000,00 \\\\n0,75% \\\\nx Rp. 25.000.000,00 \\\\n \\\\n \\\\n \\\\n= Rp. 187.500,00 \\\\n0,375% \\\\nx Rp. 50.000.000,00 \\\\n \\\\n \\\\n \\\\n= Rp. 187.500,00 \\\\n0,25% \\\\nx Rp. 50.000.000,00 \\\\n \\\\n \\\\n \\\\n= Rp. 125.000,00 \\\\nTarif Premi atau Kontribusi Minimum \\\\n \\\\n \\\\n= Rp. 875.000,00 \\\\nc. Tanggung Jawab Hukum terhadap Penumpang \\\\n1) untuk UP Rp. 25.000.000,00 (dua puluh lima juta rupiah) \\\\n0,5% \\\\nx Rp. 25.000.000,00  \\\\n \\\\n \\\\n \\\\n= Rp. 125.000,00 \\\\nTarif Premi atau Kontribusi Minimum \\\\n \\\\n \\\\n= Rp. 125.000,00 \\\\n2) untuk UP Rp. 45.000.000,00 (empat puluh lima juta rupiah) \\\\n0,5% \\\\nx Rp. 25.000.000,00 \\\\n \\\\n \\\\n \\\\n= Rp. 125.000,00 \\\\n0,25% \\\\nx Rp. 20.000.000,00 \\\\n \\\\n \\\\n \\\\n= Rp.   50.000,00 \\\\nTarif Premi atau Kontribusi Minimum \\\\n \\\\n \\\\n= Rp. 175.000,00 \\\\n3) untuk UP Rp. 95.000.000,00 (sembilan puluh lima juta rupiah) \\\\n0,5% \\\\nx Rp. 25.000.000,00 \\\\n \\\\n \\\\n \\\\n= Rp. 125.000,00 \\\\n0,25% \\\\nx Rp. 25.000.000,00 \\\\n \\\\n \\\\n \\\\n= Rp.   62.500,00 \\\\n0,125% \\\\nx Rp. 45.000.000,00 \\\\n \\\\n \\\\n \\\\n= Rp.   56.250,00   \\\\nTarif Premi atau Kontribusi Minimum \\\\n \\\\n \\\\n= Rp. 243.750,00\"\\n  },\\n  {\\n    \"metadata\": {\\n      \"id\": \"doc:ojk:fe19fbb577ee433a959ade22c78238fa\",\\n      \"title\": \"Peraturan BAPEPAM tentang Referensi Premi Murni serta Unsur Biaya Administrasi dan Biaya Minimum Lainnya Pada Lini Usaha Asuransi Kendaraan Bermotor Tahun 2010\",\\n      \"sector\": \"IKNB\",\\n      \"subsector\": \"Asuransi\",\\n      \"regulation_type\": \"Peraturan Bapepam\",\\n      \"regulation_number\": \"PER-07/BL/2009\",\\n      \"effective_date\": \"31 Desember 2009\",\\n      \"file_url\": \"https://www.ojk.go.id/id/regulasi/Documents/Pages/Peraturan-BAPEPAM-tentang-Referensi-Premi-Murni-serta-Unsur-Biaya-Administrasi-dan-Biaya-Minimum-Lainnya-2009/BAPEPAM%20PER-07BL2009.pdf\",\\n      \"doc_id\": \"1644\",\\n      \"page_number\": \"4\",\\n      \"relevance_score\": 0.00026947915\\n    },\\n    \"page_content\": \"berumur sampai dengan 3 (tiga) tahun. Untuk kendaraan berumur lebih dari    \\\\n3 (tiga) tahun, harus dikenakan premi tambahan yang wajar. \\\\n2. Untuk perluasan Strike, Riot, Civil Commotion (SRCC), Flood, Earthquake, dan \\\\nThird Party Liability (TPL) harus dikenakan premi tambahan. \\\\n3. Unsur premi murni di atas merupakan persentase dari uang pertanggungan. \\\\n4. Deductible minimum sebesar Rp200.000,00 (dua ratus ribu rupiah). \\\\n5. Premi murni paling sedikit 50% (lima puluh per seratus) dari premi bruto.  \\\\nII. PREMI YANG DIBEBANKAN PADA TERTANGGUNG \\\\nPremi yang dibebankan pada tertanggung adalah premi murni ditambah biaya \\\\nadministrasi dan umum, biaya akuisisi, dan keuntungan perusahaan.\"\\n  }\\n]'}}"
      ]
     },
     "execution_count": 15,
     "metadata": {},
     "output_type": "execute_result"
    }
   ],
   "source": [
    "from chain.rag_chain import get_response\n",
    "\n",
    "response = get_response(\n",
    "    chain=chain_history,\n",
    "    question=\"Berapa SWDKLLJ dari ambulans?\",\n",
    "    user_id=USER_ID,\n",
    "    conversation_id=CONVERSATION_ID\n",
    ")\n",
    "\n",
    "response"
   ]
  },
  {
   "cell_type": "code",
   "execution_count": 15,
   "metadata": {},
   "outputs": [
    {
     "name": "stdout",
     "output_type": "stream",
     "text": [
      "Saya tidak tahu mengenai hal tersebut.\n"
     ]
    }
   ],
   "source": [
    "print(response['answer']['answer'])\n"
   ]
  },
  {
   "cell_type": "code",
   "execution_count": 14,
   "metadata": {},
   "outputs": [
    {
     "ename": "KeyError",
     "evalue": "'context'",
     "output_type": "error",
     "traceback": [
      "\u001b[1;31m---------------------------------------------------------------------------\u001b[0m",
      "\u001b[1;31mKeyError\u001b[0m                                  Traceback (most recent call last)",
      "Cell \u001b[1;32mIn[14], line 1\u001b[0m\n\u001b[1;32m----> 1\u001b[0m \u001b[38;5;28mprint\u001b[39m(\u001b[43mresponse\u001b[49m\u001b[43m[\u001b[49m\u001b[38;5;124;43m'\u001b[39;49m\u001b[38;5;124;43mcontext\u001b[39;49m\u001b[38;5;124;43m'\u001b[39;49m\u001b[43m]\u001b[49m)\n",
      "\u001b[1;31mKeyError\u001b[0m: 'context'"
     ]
    }
   ],
   "source": [
    "print(response['answer'])"
   ]
  },
  {
   "cell_type": "markdown",
   "metadata": {},
   "source": [
    "#### **Streaming**"
   ]
  },
  {
   "cell_type": "code",
   "execution_count": null,
   "metadata": {},
   "outputs": [
    {
     "name": "stdout",
     "output_type": "stream",
     "text": [
      "Saya minta maaf, tetapi pertanyaan yang Anda ajukan tidak terkait dengan konteks dan informasi metadata yang diberikan. Silakan ajukan pertanyaan lain yang terkait dengan kepatuhan perbankan di Indonesia."
     ]
    }
   ],
   "source": [
    "# from chain.rag_chain import print_answer_stream\n",
    "\n",
    "# print_answer_stream(chain=chain_history, question=\"Siapa itu lionel messi?\", user_id=USER_ID, conversation_id=CONVERSATION_ID)"
   ]
  }
 ],
 "metadata": {
  "kernelspec": {
   "display_name": "chatbot-all",
   "language": "python",
   "name": "python3"
  },
  "language_info": {
   "codemirror_mode": {
    "name": "ipython",
    "version": 3
   },
   "file_extension": ".py",
   "mimetype": "text/x-python",
   "name": "python",
   "nbconvert_exporter": "python",
   "pygments_lexer": "ipython3",
   "version": "3.9.19"
  }
 },
 "nbformat": 4,
 "nbformat_minor": 2
}

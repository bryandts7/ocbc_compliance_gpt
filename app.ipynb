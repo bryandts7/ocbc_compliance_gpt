{
 "cells": [
  {
   "cell_type": "markdown",
   "metadata": {},
   "source": [
    "# **Compliance GPT with LangChain**"
   ]
  },
  {
   "cell_type": "markdown",
   "metadata": {},
   "source": [
    "## **Setup**"
   ]
  },
  {
   "cell_type": "code",
   "execution_count": 1,
   "metadata": {},
   "outputs": [],
   "source": [
    "# import nest_asyncio\n",
    "# nest_asyncio.apply()\n",
    "\n",
    "import warnings\n",
    "warnings.filterwarnings(\"ignore\")"
   ]
  },
  {
   "cell_type": "markdown",
   "metadata": {},
   "source": [
    "## **Config**"
   ]
  },
  {
   "cell_type": "code",
   "execution_count": 2,
   "metadata": {},
   "outputs": [],
   "source": [
    "from utils.config import get_config\n",
    "\n",
    "config = get_config()"
   ]
  },
  {
   "cell_type": "code",
   "execution_count": 3,
   "metadata": {},
   "outputs": [],
   "source": [
    "USER_ID = 'budi'\n",
    "CONVERSATION_ID = 'xmriz-2021-07-01-01'"
   ]
  },
  {
   "cell_type": "markdown",
   "metadata": {},
   "source": [
    "## **Define Model**"
   ]
  },
  {
   "cell_type": "code",
   "execution_count": 4,
   "metadata": {},
   "outputs": [],
   "source": [
    "from utils.models import ModelName, LLMModelName, EmbeddingModelName, get_model\n",
    "\n",
    "model_name = ModelName.AZURE_OPENAI\n",
    "llm_model, embed_model = get_model(model_name=model_name, config=config, llm_model_name=LLMModelName.GPT_35_TURBO, embedding_model_name=EmbeddingModelName.EMBEDDING_3_SMALL)"
   ]
  },
  {
   "cell_type": "markdown",
   "metadata": {},
   "source": [
    "## **Load Vector Store Index**"
   ]
  },
  {
   "cell_type": "code",
   "execution_count": 5,
   "metadata": {},
   "outputs": [
    {
     "name": "stdout",
     "output_type": "stream",
     "text": [
      "Loaded index 'bi'.\n",
      "Loaded index 'ojk'.\n",
      "Loaded index 'sikepo-ketentuan-terkait'.\n",
      "Loaded index 'sikepo-rekam-jejak'.\n"
     ]
    }
   ],
   "source": [
    "from database.vector_store.vector_store import RedisIndexManager, PineconeIndexManager, PostgresIndexManager, ElasticIndexManager\n",
    "\n",
    "# es_bi = ElasticIndexManager(index_name='bi', embed_model=embed_model, config=config)\n",
    "# vector_store_bi = es_bi.load_vector_index()\n",
    "\n",
    "# es_ojk = ElasticIndexManager(index_name='ojk', embed_model=embed_model, config=config)\n",
    "# vector_store_ojk = es_ojk.load_vector_index()\n",
    "\n",
    "# es_ket = ElasticIndexManager(index_name='sikepo-rekam-jejak', embed_model=embed_model, config=config)\n",
    "# vector_store_ket = es_ket.load_vector_index()\n",
    "\n",
    "# es_rek = ElasticIndexManager(index_name='sikepo-ketentuan-terkait', embed_model=embed_model, config=config)\n",
    "# vector_store_rek = es_rek.load_vector_index()\n",
    "\n",
    "# postgres_bi = PostgresIndexManager(index_name='bi', embed_model=embed_model, config=config)\n",
    "# vector_store_bi = postgres_bi.load_vector_index()\n",
    "\n",
    "# postgres_ojk = PostgresIndexManager(index_name='ojk', embed_model=embed_model, config=config)\n",
    "# vector_store_ojk = postgres_ojk.load_vector_index()\n",
    "\n",
    "# postgres_ket = PostgresIndexManager(index_name='ketentuan-terkait', embed_model=embed_model, config=config)\n",
    "# vector_store_ket = postgres_ket.load_vector_index()\n",
    "\n",
    "# postgres_rek = PostgresIndexManager(index_name='rekam-jejak', embed_model=embed_model, config=config)\n",
    "# vector_store_rek = postgres_rek.load_vector_index()\n",
    "\n",
    "redis_bi = RedisIndexManager(index_name='bi', embed_model=embed_model, config=config, db_id=0)\n",
    "vector_store_bi = redis_bi.load_vector_index()\n",
    "\n",
    "redis_ojk = RedisIndexManager(index_name='ojk', embed_model=embed_model, config=config, db_id=0)\n",
    "vector_store_ojk = redis_ojk.load_vector_index()\n",
    "\n",
    "redis_sikepo_ket = RedisIndexManager(index_name='sikepo-ketentuan-terkait', embed_model=embed_model, config=config, db_id=0)\n",
    "vector_store_ket = redis_sikepo_ket.load_vector_index()\n",
    "\n",
    "redis_sikepo_rek = RedisIndexManager(index_name='sikepo-rekam-jejak', embed_model=embed_model, config=config, db_id=0)\n",
    "vector_store_rek = redis_sikepo_rek.load_vector_index()\n",
    "\n",
    "# pinecone_ojk = PineconeIndexManager(index_name='ojk', embed_model=embed_model, config=config)\n",
    "# vector_store_ojk = pinecone_ojk.load_vector_index()\n",
    "\n",
    "# pinecone_bi = PineconeIndexManager(index_name='bi', embed_model=embed_model, config=config)\n",
    "# vector_store_bi = pinecone_bi.load_vector_index()\n",
    "\n",
    "# pinecone_ket = PineconeIndexManager(index_name='ketentuan-terkait', embed_model=embed_model, config=config)\n",
    "# vector_store_ket = pinecone_ket.load_vector_index()\n",
    "\n",
    "# pinecone_rek = PineconeIndexManager(index_name='rekam-jejak', embed_model=embed_model, config=config)\n",
    "# vector_store_rek = pinecone_rek.load_vector_index()"
   ]
  },
  {
   "cell_type": "code",
   "execution_count": 6,
   "metadata": {},
   "outputs": [],
   "source": [
    "from database.vector_store.neo4j_graph_store import Neo4jGraphStore\n",
    "\n",
    "neo4j_sikepo = Neo4jGraphStore(config=config)\n",
    "graph = neo4j_sikepo.get_graph()"
   ]
  },
  {
   "cell_type": "markdown",
   "metadata": {},
   "source": [
    "## **Get Retriever**"
   ]
  },
  {
   "cell_type": "code",
   "execution_count": 7,
   "metadata": {},
   "outputs": [],
   "source": [
    "from retriever.retriever_ojk.retriever_ojk import get_retriever_ojk\n",
    "from retriever.retriever_bi.retriever_bi import get_retriever_bi\n",
    "from retriever.retriever_sikepo.lotr_sikepo import lotr_sikepo\n",
    "\n",
    "top_n = 5\n",
    "\n",
    "retriever_ojk = get_retriever_ojk(vector_store=vector_store_ojk, top_n=top_n,\n",
    "                                  llm_model=llm_model, embed_model=embed_model, config=config)\n",
    "retriever_bi = get_retriever_bi(vector_store=vector_store_bi, top_n=top_n,\n",
    "                                llm_model=llm_model, embed_model=embed_model, config=config)\n",
    "retriever_sikepo_ket = lotr_sikepo(vector_store=vector_store_ket, top_n=top_n,\n",
    "                                   llm_model=llm_model, embed_model=embed_model, config=config)\n",
    "retriever_sikepo_rek = lotr_sikepo(vector_store=vector_store_rek, top_n=top_n,\n",
    "                                   llm_model=llm_model, embed_model=embed_model, config=config)"
   ]
  },
  {
   "cell_type": "code",
   "execution_count": 8,
   "metadata": {},
   "outputs": [],
   "source": [
    "# retriever_bi.invoke(\"What is the maximum transaction of QRIS?\")"
   ]
  },
  {
   "cell_type": "markdown",
   "metadata": {},
   "source": [
    "## **Create Chain**"
   ]
  },
  {
   "cell_type": "code",
   "execution_count": 9,
   "metadata": {},
   "outputs": [],
   "source": [
    "from database.chat_store import RedisChatStore, MongoDBChatStore, PostgresChatStore, ElasticChatStore\n",
    "\n",
    "chat_store = ElasticChatStore(config=config, k=3)\n",
    "# chat_store = PostgresChatStore(config=config, k=3)\n",
    "# chat_store = RedisChatStore(k=3, config=config, db_id=1)\n",
    "# chat_store = MongoDBChatStore(config=config, k=4)"
   ]
  },
  {
   "cell_type": "code",
   "execution_count": 10,
   "metadata": {},
   "outputs": [],
   "source": [
    "from chain.rag_chain import create_chain_with_chat_history, create_sequential_chain\n",
    "from chain.chain_sikepo.graph_cypher_sikepo_chain import graph_rag_chain\n",
    "\n",
    "\n",
    "graph_chain = graph_rag_chain(llm_model, llm_model, graph=graph)\n",
    "\n",
    "chain = create_sequential_chain(\n",
    "    llm_model=llm_model,\n",
    "    graph_chain=graph_chain,\n",
    "    retriever_ojk=retriever_ojk,\n",
    "    retriever_bi=retriever_sikepo_ket,\n",
    "    retriever_sikepo_ketentuan=retriever_sikepo_ket,\n",
    "    retriever_sikepo_rekam=retriever_sikepo_rek,\n",
    ")\n",
    "\n",
    "chain_history = create_chain_with_chat_history(\n",
    "    final_chain=chain,\n",
    "    chat_store=chat_store,\n",
    ")"
   ]
  },
  {
   "cell_type": "markdown",
   "metadata": {},
   "source": [
    "## **Invoke**"
   ]
  },
  {
   "cell_type": "markdown",
   "metadata": {},
   "source": [
    "#### **Chat Store Monitor**"
   ]
  },
  {
   "cell_type": "code",
   "execution_count": 11,
   "metadata": {},
   "outputs": [
    {
     "name": "stdout",
     "output_type": "stream",
     "text": [
      "\n"
     ]
    }
   ],
   "source": [
    "# to print chat history\n",
    "print(chat_store.get_session_history(user_id=USER_ID, conversation_id=CONVERSATION_ID))"
   ]
  },
  {
   "cell_type": "code",
   "execution_count": 12,
   "metadata": {},
   "outputs": [
    {
     "data": {
      "text/plain": [
       "['conv_1', 'conv_2']"
      ]
     },
     "execution_count": 12,
     "metadata": {},
     "output_type": "execute_result"
    }
   ],
   "source": [
    "chat_store.get_coversation_ids_by_user_id(user_id='budi')"
   ]
  },
  {
   "cell_type": "code",
   "execution_count": 20,
   "metadata": {},
   "outputs": [],
   "source": [
    "chat_store.clear_session_history_by_userid(user_id='budi')"
   ]
  },
  {
   "cell_type": "code",
   "execution_count": 19,
   "metadata": {},
   "outputs": [
    {
     "data": {
      "text/plain": [
       "{('budi', 'conv_1'): [HumanMessage(content='Apa itu Dana Tabarru?'),\n",
       "  HumanMessage(content='JIka saya ingin membuat bank apa yang perlu saya perhartikan?')],\n",
       " ('budi', 'conv_2'): [HumanMessage(content='Apa itu Akad Tijarah?'),\n",
       "  HumanMessage(content='apa itu dana tabarru?')]}"
      ]
     },
     "execution_count": 19,
     "metadata": {},
     "output_type": "execute_result"
    }
   ],
   "source": [
    "chat_store.get_all_history()"
   ]
  },
  {
   "cell_type": "code",
   "execution_count": 49,
   "metadata": {},
   "outputs": [],
   "source": [
    "# to make the chat history empty\n",
    "chat_store.clear_all()"
   ]
  },
  {
   "cell_type": "markdown",
   "metadata": {},
   "source": [
    "#### **With Question, Answer, and Context**"
   ]
  },
  {
   "cell_type": "code",
   "execution_count": 46,
   "metadata": {},
   "outputs": [
    {
     "name": "stderr",
     "output_type": "stream",
     "text": [
      "Failed to write data to connection ResolvedIPv4Address(('34.126.171.25', 7687)) (ResolvedIPv4Address(('34.126.171.25', 7687)))\n",
      "Failed to write data to connection IPv4Address(('76b9a325.databases.neo4j.io', 7687)) (ResolvedIPv4Address(('34.126.171.25', 7687)))\n"
     ]
    },
    {
     "data": {
      "text/plain": [
       "{'rewrited question': 'Apa yang dimaksud dengan Akad Tijarah?',\n",
       " 'answer': 'Akad Tijarah adalah akad antara peserta secara kolektif atau secara individu dan Perusahaan Asuransi Syariah, Perusahaan Reasuransi Syariah, atau Unit Syariah dengan tujuan komersial. \\n\\nSource: POJK tentang Penyelenggaraan Usaha Perusahaan Asuransi, Perusahaan Asuransi Syariah, Perusahaan Reasuransi, dan Perusahaan Reasuransi Syariah (69/POJK.05/2016) - page 8\\nURL: [https://www.ojk.go.id/id/regulasi/Documents/Pages/POJK-tentang--Penyelenggaraan-Usaha-Perusahaan-Asuransi,-Asuransi-Syariah,-Reasuransi,-dan-Reasuransi-Syariah/pojk%2069-2016.pdf]',\n",
       " 'context': [Document(metadata={'id': 'doc:ojk:dd3f2a5c040e4747898d01c48615e436', 'title': 'POJK tentang Penyelenggaraan Usaha Perusahaan Asuransi, Perusahaan Asuransi Syariah, Perusahaan Reasuransi, dan Perusahaan Reasuransi Syariah', 'sector': 'IKNB,  Syariah', 'subsector': 'IKNB Syariah,  Asuransi', 'regulation_type': 'Peraturan OJK', 'regulation_number': '69/POJK.05/2016', 'effective_date': '28 Desember 2016', 'file_url': 'https://www.ojk.go.id/id/regulasi/Documents/Pages/POJK-tentang--Penyelenggaraan-Usaha-Perusahaan-Asuransi,-Asuransi-Syariah,-Reasuransi,-dan-Reasuransi-Syariah/pojk%2069-2016.pdf', 'doc_id': '1060', 'page_number': '42', 'relevance_score': 0.99507546}, page_content='Pasal 54 \\n(1) \\nPolis asuransi syariah dan perjanjian reasuransi \\nsyariah wajib mengandung Akad Tabarru’ dan Akad \\nTijarah.  \\n(2) \\nPolis anuitas syariah untuk program pensiun wajib \\nmengandung Akad Hibah Tanahud dan Akad Tijarah.  \\n(3) \\nAkad Tijarah sebagaimana dimaksud dalam ayat (1) \\ndan ayat (2) dapat berupa Akad Wakalah bil Ujrah, \\nAkad \\nMudharabah, \\ndan/atau \\nAkad \\nMudharabah \\nMusytarakah. \\n(4) \\nPenggunaan salah satu Akad Tijarah sebagaimana \\ndimaksud pada ayat (3) wajib dilakukan secara \\nkonsisten sampai berakhirnya polis asuransi syariah. \\n(5) \\nDalam \\nhal \\ndisepakati \\nperubahan \\nAkad \\nTijarah, \\npenggunaan Akad Tijarah yang baru hanya dapat \\nditerapkan pada polis asuransi syariah yang baru. \\n(6) \\nDalam hal perubahan Akad Tijarah sebagaimana \\ndimaksud pada ayat (5) terjadi untuk pengelolaan \\ninvestasi \\nDana \\nTabarru’ \\natau \\nDana \\nTanahud, \\nPerusahaan Asuransi Syariah, Perusahaan Reasuransi \\nSyariah, atau Unit Syariah wajib memisahkan Dana \\nTabarru’ \\natau \\nDana \\nTanahud \\nyang'),\n",
       "  Document(metadata={'id': 'doc:ojk:bb7ca5e7ba01404a9b8b91700686f0c9', 'title': 'POJK tentang Penyelenggaraan Usaha Perusahaan Asuransi, Perusahaan Asuransi Syariah, Perusahaan Reasuransi, dan Perusahaan Reasuransi Syariah', 'sector': 'IKNB,  Syariah', 'subsector': 'IKNB Syariah,  Asuransi', 'regulation_type': 'Peraturan OJK', 'regulation_number': '69/POJK.05/2016', 'effective_date': '28 Desember 2016', 'file_url': 'https://www.ojk.go.id/id/regulasi/Documents/Pages/POJK-tentang--Penyelenggaraan-Usaha-Perusahaan-Asuransi,-Asuransi-Syariah,-Reasuransi,-dan-Reasuransi-Syariah/pojk%2069-2016.pdf', 'doc_id': '1060', 'page_number': '8', 'relevance_score': 0.9848693}, page_content='32. Akad Tijarah adalah Akad antara peserta secara \\nkolektif atau secara individu dan Perusahaan Asuransi \\nSyariah, Perusahaan Reasuransi Syariah, atau Unit \\nSyariah dengan tujuan komersial. \\n33. Akad Wakalah bil Ujrah adalah Akad Tijarah yang \\nmemberikan kuasa kepada Perusahaan Asuransi \\nSyariah, Perusahaan Reasuransi Syariah, atau  Unit \\nSyariah sebagai wakil peserta untuk mengelola Dana \\nTabarru’ dan/atau Dana Investasi Peserta, sesuai \\nkuasa atau wewenang yang diberikan, dengan imbalan \\nberupa ujrah (fee).   \\n34. Akad \\nMudharabah \\nadalah \\nAkad \\nTijarah \\nyang \\nmemberikan kuasa kepada Perusahaan Asuransi \\nSyariah, Perusahaan Reasuransi Syariah, atau  Unit \\nSyariah sebagai mudharib (pengelola dana) untuk \\nmengelola investasi Dana Tabarru’ dan/atau Dana \\nInvestasi Peserta, sesuai kuasa atau wewenang yang \\ndiberikan, dengan imbalan berupa bagi hasil (nisbah) \\nyang besarnya telah disepakati sebelumnya. \\n35. Akad Mudharabah Musytarakah adalah Akad Tijarah'),\n",
       "  Document(metadata={'id': 'doc:ojk:e4cc884e754145768176fd52c13e7986', 'title': 'Peraturan Menteri Keuangan Nomor 18/PMK.010/2010 tentang Penerapan Prinsip Dasar Penyelenggaraan Usaha Asuransi dan Usaha Reasuransi dengan Prinsip Syariah', 'sector': 'IKNB', 'subsector': 'IKNB Syariah,  Asuransi', 'regulation_type': 'Peraturan/Keputusan Mentri', 'regulation_number': '18/PMK.010/2010', 'effective_date': '25 Januari 2010', 'file_url': 'https://www.ojk.go.id/id/regulasi/Documents/Pages/PMK-Nomor-18PMK.010-Tahun-2010-tentang-Penerapan-Prinsip-Dasar-Penyelenggaraan-Usaha-Asuransi-dan-Usaha-Reasuransi/menas9_1389257513.pdf', 'doc_id': '1642', 'page_number': '7', 'relevance_score': 0.9828233}, page_content=\"MENTERI KEUANGAN\\nREPUBLIK INDONESIA\\n(3) Dalam hal disepakati perubahan Akad Tijarah, penggunaan\\nAkad Tijarah yang baru hanya dapat diterapkan pada polis\\nyang baru.\\n(4) Dalam hal perubahan Akad Tijarah sebagaimana dimaksud\\nPerusahaan wajib memisahkan Dana Tabarru' yang dikelola\\n berdasarkan Akad Tijarah yang lama dari Dana Tabarru' yang\\ndikelola berdasarkan Akad Tijarali yang baru.\\ndalam pengelolaan risiko dan pengelolaan investasi Dana\\nTabarru'.\\nPasal 10\\n(1) Akad Wakalah bil Ujrah sebagaimana dimaksud dalam Pasal 9\\nayat (1), wajib memuat sekurang-kurangnya:\\n a. objek yang dikuasakan pengeiolaannya;\\nb. hak dan kewajiban Peserta secara kolektif dan/atau Peserta\\nsecara individu sebagai muwakkil (pemberi kuasa);\\nkuasa) termasuk kewajiban Perusahaan untuk menanggung\\nseluruh kerugian yang terjadi dalam kegiatan pengelolaan\\nrisiko dan/atau kegiatan pengelolaan investasi yang\\ndiakibatkan oleh kesalahan yang disengaja, kelalaian, atau\\nwanprestasi yang dilakukan Perusahaan;\"),\n",
       "  Document(metadata={'id': 'doc:ojk:f1098476321f43d18cb7f68cbe8a54b4', 'title': 'Peraturan Menteri Keuangan Nomor 18/PMK.010/2010 tentang Penerapan Prinsip Dasar Penyelenggaraan Usaha Asuransi dan Usaha Reasuransi dengan Prinsip Syariah', 'sector': 'IKNB', 'subsector': 'IKNB Syariah,  Asuransi', 'regulation_type': 'Peraturan/Keputusan Mentri', 'regulation_number': '18/PMK.010/2010', 'effective_date': '25 Januari 2010', 'file_url': 'https://www.ojk.go.id/id/regulasi/Documents/Pages/PMK-Nomor-18PMK.010-Tahun-2010-tentang-Penerapan-Prinsip-Dasar-Penyelenggaraan-Usaha-Asuransi-dan-Usaha-Reasuransi/menas9_1389257513.pdf', 'doc_id': '1642', 'page_number': '3', 'relevance_score': 0.9580695}, page_content=\"MENTERI KEUANGAN\\nREPUBLIK INDONESIA\\n8. Akad Tijarah adalah Akad antara Peserta secara kolektif atau\\nsecara individu dan Perusahaan dengan tujuan komersial.\\n9.\\nkuasa kepada Perusahaan sebagai wakil Peserta untuk\\nmengelola Dana Tabarru' dan/atau Dana Investasi Peserta,\\n sesuai kuasa atau wewenang yang diberikan, dengan imbalan\\nberupa ujrah (fee).\\nkepada Perusahaan sebagai mudharib untuk mengelola investasi\\nDana Tabarru' dan/atau Dana Investasi Peserta, sesuai kuasa\\natau wewenang yang diberikan, dengan imbalan berupa bagi\\nhasil (nisbah) yang besarnya telah disepakati sebelumnya.\\nmemberikan kuasa kepada Perusahaan sebagai mudharib untuk\\nmengelola investasi Dana Tabarru' dan/atau Dana Investasi\\nPeserta, yang digabungkan dengan kekayaan Perusahaan,\\nsesuai kuasa atau wewenang yang diberikan, dengan imbalan\\nberupa bagi .hasil (nisbah) yang besarnya ditentukan)\\nberdasarkan komposisi kekayaan yang digabungkan dan telah\\ndisepakati sebelumnya.\"),\n",
       "  Document(metadata={'id': 'doc:ojk:6bd384f705dd4bfcbd8fd7db28d1f0bd', 'title': 'POJK tentang Penyelenggaraan Usaha Perusahaan Asuransi, Perusahaan Asuransi Syariah, Perusahaan Reasuransi, dan Perusahaan Reasuransi Syariah', 'sector': 'IKNB,  Syariah', 'subsector': 'IKNB Syariah,  Asuransi', 'regulation_type': 'Peraturan OJK', 'regulation_number': '69/POJK.05/2016', 'effective_date': '28 Desember 2016', 'file_url': 'https://www.ojk.go.id/id/regulasi/Documents/Pages/POJK-tentang--Penyelenggaraan-Usaha-Perusahaan-Asuransi,-Asuransi-Syariah,-Reasuransi,-dan-Reasuransi-Syariah/pojk%2069-2016.pdf', 'doc_id': '1060', 'page_number': '43', 'relevance_score': 0.9094255}, page_content='menjadi Akad Tijarah. \\n(2) \\nAkad Tabarru’ yang digunakan dalam polis asuransi \\nsyariah sebagaimana yang dimaksud pada ayat (1) \\nwajib memuat paling sedikit sebagai berikut: \\na. \\nkesepakatan para pemegang polis atau peserta \\nuntuk saling tolong menolong (ta’awuni); \\nb. \\nhak dan kewajiban masing-masing pemegang \\npolis atau peserta secara individu; \\nc. \\nhak dan kewajiban pemegang polis atau peserta \\nsecara kolektif dalam kelompok; \\nd. \\ncara dan waktu pembayaran kontribusi; \\ne. \\ncara dan waktu pembayaran santunan/klaim;')]}"
      ]
     },
     "execution_count": 46,
     "metadata": {},
     "output_type": "execute_result"
    }
   ],
   "source": [
    "from chain.rag_chain import get_response\n",
    "\n",
    "response = get_response(\n",
    "    chain=chain_history,\n",
    "    question=\"Apa itu Akad Tijarah?\",\n",
    "    user_id=USER_ID,\n",
    "    conversation_id=CONVERSATION_ID\n",
    ")\n",
    "\n",
    "response"
   ]
  },
  {
   "cell_type": "code",
   "execution_count": 27,
   "metadata": {},
   "outputs": [],
   "source": [
    "# print(response['answer'])\n"
   ]
  },
  {
   "cell_type": "code",
   "execution_count": 28,
   "metadata": {},
   "outputs": [],
   "source": [
    "# print(response['context'])"
   ]
  },
  {
   "cell_type": "markdown",
   "metadata": {},
   "source": [
    "#### **Streaming**"
   ]
  },
  {
   "cell_type": "code",
   "execution_count": 29,
   "metadata": {},
   "outputs": [
    {
     "name": "stderr",
     "output_type": "stream",
     "text": [
      "Failed to write data to connection ResolvedIPv4Address(('34.126.171.25', 7687)) (ResolvedIPv4Address(('34.126.171.25', 7687)))\n",
      "Failed to write data to connection IPv4Address(('76b9a325.databases.neo4j.io', 7687)) (ResolvedIPv4Address(('34.126.171.25', 7687)))\n",
      "Error in RootListenersTracer.on_chain_end callback: KeyError('answer')\n",
      "Error in callback coroutine: KeyError('answer')\n"
     ]
    },
    {
     "name": "stdout",
     "output_type": "stream",
     "text": [
      "Jika Anda ingin membuat peraturan terkait bank digital, Anda perlu memperhatikan beberapa peraturan yang relevan, antara lain:\n",
      "\n",
      "1. **Peraturan Otoritas Jasa Keuangan (POJK) Nomor 21 Tahun 2023** tentang Layanan Digital oleh Bank Umum. Peraturan ini mengatur tentang pengembangan dan inovasi dalam memberikan layanan digital oleh bank, serta manajemen risiko, keamanan data nasabah, dan perlindungan konsumen. \n",
      "\n",
      "   Source: [21 Tahun 2023](https://www.ojk.go.id/id/regulasi/Documents/Pages/Layanan-Digital-oleh-Bank-Umum/POJK%2021%20Tahun%202023.%20Layanan%20Digital%20oleh%20Bank%20Umum.pdf) (halaman 1)\n",
      "\n",
      "2. **Peraturan Otoritas Jasa Keuangan (POJK) Nomor 12/POJK.03/2018** tentang Penyelenggaraan Layanan Perbankan Digital oleh Bank Umum. Peraturan ini perlu diperhatikan karena akan digantikan oleh POJK 21 Tahun 2023, namun masih relevan untuk memahami ketentuan yang ada sebelumnya.\n",
      "\n",
      "   Source: [12/POJK.03/2018](https://www.ojk.go.id/id/regulasi/Documents/Pages/Penyelenggaraan-Layanan-Perbankan-Digital-oleh-Bank-Umum/POJK%2012-2018.pdf) (halaman 2)\n",
      "\n",
      "3. **Undang-Undang Nomor 7 Tahun 1992** tentang Perbankan, yang menjadi dasar hukum bagi pengaturan perbankan di Indonesia.\n",
      "\n",
      "   Source: [21 Tahun 2023](https://www.ojk.go.id/id/regulasi/Documents/Pages/Layanan-Digital-oleh-Bank-Umum/POJK%2021%20Tahun%202023.%20Layanan%20Digital%20oleh%20Bank%20Umum.pdf) (halaman 1)\n",
      "\n",
      "4. **Undang-Undang Nomor 4 Tahun 2023** tentang Pengembangan dan Penguatan Sektor Keuangan, yang juga menjadi dasar hukum dalam pengaturan layanan digital oleh bank.\n",
      "\n",
      "   Source: [21 Tahun 2023](https://www.ojk.go.id/id/regulasi/Documents/Pages/Layanan-Digital-oleh-Bank-Umum/POJK%2021%20Tahun%202023.%20Layanan%20Digital%20oleh%20Bank%20Umum.pdf) (halaman 1)\n",
      "\n",
      "Memperhatikan peraturan-peraturan ini akan membantu dalam merumuskan kebijakan yang sesuai dengan regulasi yang berlaku di sektor perbankan digital di Indonesia."
     ]
    }
   ],
   "source": [
    "# from chain.rag_chain import print_answer_stream\n",
    "\n",
    "# question = \"Jika saya ingin membuat peraturan terkait bank digital peraturan apa yang perlu saya perhatikan?\"\n",
    "\n",
    "# print_answer_stream(chain=chain_history, question=question, user_id=USER_ID, conversation_id=CONVERSATION_ID)"
   ]
  }
 ],
 "metadata": {
  "kernelspec": {
   "display_name": "chatbot-all",
   "language": "python",
   "name": "python3"
  },
  "language_info": {
   "codemirror_mode": {
    "name": "ipython",
    "version": 3
   },
   "file_extension": ".py",
   "mimetype": "text/x-python",
   "name": "python",
   "nbconvert_exporter": "python",
   "pygments_lexer": "ipython3",
   "version": "3.9.19"
  }
 },
 "nbformat": 4,
 "nbformat_minor": 2
}

{
 "cells": [
  {
   "cell_type": "markdown",
   "metadata": {},
   "source": [
    "# **Compliance GPT with LangChain**"
   ]
  },
  {
   "cell_type": "markdown",
   "metadata": {},
   "source": [
    "## **Setup**"
   ]
  },
  {
   "cell_type": "code",
   "execution_count": 1,
   "metadata": {},
   "outputs": [
    {
     "data": {
      "text/plain": [
       "True"
      ]
     },
     "execution_count": 1,
     "metadata": {},
     "output_type": "execute_result"
    }
   ],
   "source": [
    "import nest_asyncio\n",
    "nest_asyncio.apply()\n",
    "\n",
    "from dotenv import load_dotenv\n",
    "load_dotenv()"
   ]
  },
  {
   "cell_type": "markdown",
   "metadata": {},
   "source": [
    "## **Config**"
   ]
  },
  {
   "cell_type": "code",
   "execution_count": 2,
   "metadata": {},
   "outputs": [],
   "source": [
    "from utils.config import get_config\n",
    "from utils.models import ModelName, get_model\n",
    "\n",
    "config = get_config()"
   ]
  },
  {
   "cell_type": "code",
   "execution_count": 3,
   "metadata": {},
   "outputs": [],
   "source": [
    "USER_ID = 'xmriz'\n",
    "CONVERSATION_ID = 'xmriz-2021-07-01-01'"
   ]
  },
  {
   "cell_type": "markdown",
   "metadata": {},
   "source": [
    "## **Define Model**"
   ]
  },
  {
   "cell_type": "code",
   "execution_count": 4,
   "metadata": {},
   "outputs": [],
   "source": [
    "model_name = ModelName.AZURE_OPENAI\n",
    "llm_model, embed_model = get_model(model_name=model_name, config=config)"
   ]
  },
  {
   "cell_type": "markdown",
   "metadata": {},
   "source": [
    "## **Load Vector Store Index**"
   ]
  },
  {
   "cell_type": "code",
   "execution_count": 5,
   "metadata": {},
   "outputs": [],
   "source": [
    "from databases.vector_store import RedisIndexManager\n",
    "\n",
    "redis = RedisIndexManager(index_name='test-ojk', embed_model=embed_model, config=config, db_id=0)\n",
    "vector_store = redis.load_vector_index()"
   ]
  },
  {
   "cell_type": "markdown",
   "metadata": {},
   "source": [
    "## **Get Retriever**"
   ]
  },
  {
   "cell_type": "code",
   "execution_count": 6,
   "metadata": {},
   "outputs": [],
   "source": [
    "from retriever.retriever_ojk.retriever_ojk import get_retriever_ojk\n",
    "\n",
    "retriever_ojk = get_retriever_ojk(vector_store=vector_store, top_n=6, top_k=16, llm_model=llm_model, embed_model=embed_model, config=config)"
   ]
  },
  {
   "cell_type": "code",
   "execution_count": 7,
   "metadata": {},
   "outputs": [],
   "source": [
    "from retriever.retriever_sikepo.lotr_sikepo import lotr_sikepo\n",
    "\n",
    "redis_sikepo_ket = RedisIndexManager(index_name='sikepo-ketentuan-terkait', embed_model=embed_model, config=config, db_id=0)\n",
    "vector_store_ket = redis_sikepo_ket.load_vector_index()\n",
    "retriever_sikepo_ket = lotr_sikepo(vector_store=vector_store_ket, llm_model=llm_model, embed_model=embed_model, config=config)\n",
    "\n",
    "redis_sikepo_rek = RedisIndexManager(index_name='sikepo-rekam-jejak', embed_model=embed_model, config=config, db_id=0)\n",
    "vector_store_rek = redis_sikepo_rek.load_vector_index()\n",
    "retriever_sikepo_rek = lotr_sikepo(vector_store=vector_store_rek, llm_model=llm_model, embed_model=embed_model, config=config)"
   ]
  },
  {
   "cell_type": "markdown",
   "metadata": {},
   "source": [
    "## **Create Chain**"
   ]
  },
  {
   "cell_type": "code",
   "execution_count": 8,
   "metadata": {},
   "outputs": [],
   "source": [
    "# from constant.ojk.prompt import CONTEXTUALIZE_Q_PROMPT_OJK, QA_SYSTEM_PROMPT_OJK\n",
    "# from databases.chat_store import MongoDBChatStore, RedisChatStore\n",
    "# from chain.chain_ojk.chain_ojk import create_ojk_chain\n",
    "# from chain.rag_chain import create_chain_with_chat_history\n",
    "# from chain.rag_chain import get_response\n",
    "\n",
    "# chat_store = RedisChatStore(k=4, config=config, db_id=1)\n",
    "\n",
    "# chain = create_ojk_chain(\n",
    "#     contextualize_q_prompt_str=CONTEXTUALIZE_Q_PROMPT_OJK,\n",
    "#     qa_system_prompt_str=QA_SYSTEM_PROMPT_OJK,\n",
    "#     retriever=retriever_ojk,\n",
    "#     llm_model=llm_model,\n",
    "#     # chat_store=chat_store\n",
    "# )\n",
    "\n",
    "# chain_history = create_chain_with_chat_history(\n",
    "#     final_chain=chain,\n",
    "#     chat_store=chat_store\n",
    "# )\n",
    "\n",
    "# response = get_response(\n",
    "#     chain=chain_history,\n",
    "#     question=\"BErapa SWDKLLJ dari buldozer?\",\n",
    "#     user_id=USER_ID,\n",
    "#     conversation_id=CONVERSATION_ID\n",
    "# )\n"
   ]
  },
  {
   "cell_type": "code",
   "execution_count": 9,
   "metadata": {},
   "outputs": [
    {
     "name": "stdout",
     "output_type": "stream",
     "text": [
      "bolt://108.137.122.156:7687\n"
     ]
    }
   ],
   "source": [
    "import os\n",
    "from databases.chat_store import RedisChatStore\n",
    "from chain.rag_chain import create_chain_with_chat_history, create_chain\n",
    "from retriever.retriever_sikepo.graph_cypher_retriever import graph_rag_chain\n",
    "from langchain_community.graphs import Neo4jGraph\n",
    "\n",
    "\n",
    "URL = os.getenv(\"NEO4J_GRAPH_URL\")\n",
    "USERNAME = os.getenv(\"NEO4J_USERNAME\")\n",
    "PASSWORD = os.getenv(\"NEO4J_PASSWORD\")\n",
    "\n",
    "print(URL)\n",
    "\n",
    "graph = Neo4jGraph(url=URL, username=USERNAME, password= PASSWORD)\n",
    "graph_chain = graph_rag_chain(llm_model, llm_model, graph)\n",
    "\n",
    "chat_store = RedisChatStore(k=4, config=config, db_id=1)\n",
    "\n",
    "chain = create_chain(retriever_ojk, retriever_sikepo_rek, retriever_sikepo_ket, graph_chain, llm_model)\n",
    "\n",
    "chain_history = create_chain_with_chat_history(\n",
    "    final_chain=chain,\n",
    "    chat_store=chat_store\n",
    ")"
   ]
  },
  {
   "cell_type": "markdown",
   "metadata": {},
   "source": [
    "## **Invoke**"
   ]
  },
  {
   "cell_type": "markdown",
   "metadata": {},
   "source": [
    "#### **With Question, Answer, and Context**"
   ]
  },
  {
   "cell_type": "code",
   "execution_count": 10,
   "metadata": {},
   "outputs": [
    {
     "name": "stderr",
     "output_type": "stream",
     "text": [
      "score_threshold is deprecated. Use distance_threshold instead.score_threshold should only be used in similarity_search_with_relevance_scores.score_threshold will be removed in a future release.\n",
      "score_threshold is deprecated. Use distance_threshold instead.score_threshold should only be used in similarity_search_with_relevance_scores.score_threshold will be removed in a future release.\n",
      "Error in RootListenersTracer.on_chain_end callback: ValueError()\n"
     ]
    },
    {
     "data": {
      "text/plain": [
       "{'question': 'BErapa SWDKLLJ dari buldozer?',\n",
       " 'answer': {'rewrited question': 'Berapa SWDKLLJ yang dimiliki oleh buldozer?',\n",
       "  'answer': 'Saya tidak tahu mengenai hal tersebut.',\n",
       "  'context': [Document(metadata={'id': 'doc:sikepo-ketentuan-terkait:d39ab4a1e111433ba615065f3e89b0e5', 'Nomor Ketentuan': '17/POJK.03/2018', 'Ketentuan': 'Pasal 12 Sub A', 'Referensi': '6/POJK.03/2016 Pasal 12 ', 'Kodifikasi Ketentuan': 'Bank Umum Konvensional', 'Jenis Ketentuan': 'POJK', 'Judul Ketentuan': 'Perubahan Atas Peraturan Otoritas Jasa Keuangan Nomor 6POJK032016 Tentang Kegiatan Usaha dan Jaringan Kantor Berdasarkan Modal Inti ', 'Tanggal Ketentuan': '16 Agustus 2018', 'Tanggal Ketentuan Unix': '1534352400', 'Tahun Ketentuan': '2018', 'relevance_score': 2.487649e-05}, page_content='Dalam hal Bank memiliki portofolio total kredit atau pembiayaan sebesar Rp1.000.000.000.000,00 (satu triliun rupiah), Bank dapat memperhitungkan portofolio kredit atau pembiayaan kepemilikan rumah paling banyak sebesar Rp120.000.000.000,00 (seratus dua puluh miliar rupiah), dalam pemenuhan kewajiban penyaluran kredit atau pembiayaan kepada usaha produktif dimaksud (12% x Rp1.000.000.000.000,00).'),\n",
       "   Document(metadata={'id': 'doc:sikepo-ketentuan-terkait:b8ad6022abeb48e8b575d0ec3a8dad29', 'Nomor Ketentuan': '41/POJK.03/2019', 'Ketentuan': 'Pasal 4 ', 'Referensi': '-', 'Kodifikasi Ketentuan': 'Bank Umum Konvensional', 'Jenis Ketentuan': 'POJK', 'Judul Ketentuan': 'Penggabungan Peleburan Pengambilalihan Integrasi dan Konversi Bank Umum', 'Tanggal Ketentuan': '23 Desember 2019', 'Tanggal Ketentuan Unix': '1577034000', 'Tahun Ketentuan': '2019', 'relevance_score': 7.3536053e-06}, page_content='Nomor Ketentuan: 41/POJK.03/2019\\nKetentuan: Pasal 4 \\nmemiliki Isi ketentuan sebagai berikut: (1) BUS dapat melakukan Pengambilalihan BUK dengan syarat permohonan izin Pengambilalihan diajukan kepada OJK bersamaan dengan permohonan izin perubahan kegiatan usaha BUK menjadi BUS.\\n(2) Izin Pengambilalihan hanya dapat diberikan setelah BUK memperoleh izin perubahan kegiatan usaha menjadi BUS sebagaimana dimaksud pada ayat (1).\\nserta memiliki penjelasan tambahan sebagai berikut: Ayat (1)\\nCukup jelas.\\nAyat (2)\\nBelum dapat diselesaikan karena hal-hal yang tidak dapat dihindari (keadaan kahar) atau pertimbangan lain yang dapat diterima oleh OJK.\\nKeadaan kahar antara lain kebakaran, kerusuhan massa, perang, konflik bersenjata, sabotase, dan bencana alam seperti gempa bumi atau banjir, yang dibenarkan oleh pejabat instansi yang berwenang dari daerah setempat.'),\n",
       "   Document(metadata={'id': 'doc:sikepo-ketentuan-terkait:93e1d288337648bb9b35a633fbe6feb9', 'Nomor Ketentuan': '41/POJK.03/2019', 'Ketentuan': 'Pasal 3 ', 'Referensi': '-', 'Kodifikasi Ketentuan': 'Bank Umum Konvensional', 'Jenis Ketentuan': 'POJK', 'Judul Ketentuan': 'Penggabungan Peleburan Pengambilalihan Integrasi dan Konversi Bank Umum', 'Tanggal Ketentuan': '23 Desember 2019', 'Tanggal Ketentuan Unix': '1577034000', 'Tahun Ketentuan': '2019', 'relevance_score': 6.1441747e-06}, page_content='Nomor Ketentuan: 41/POJK.03/2019\\nKetentuan: Pasal 3 \\nmemiliki Isi ketentuan sebagai berikut: (1) Penggabungan atau Peleburan dapat dilakukan antara:\\na. BUK dan BUK, menjadi BUK;\\nb. BUS dan BUS, menjadi BUS; atau\\nc. BUK dan BUS, menjadi BUS.\\n(2) Integrasi dapat dilakukan antara:\\na. KCBLN dan BUK menjadi BUK; atau\\nb. KCBLN dan BUS menjadi BUS.\\nserta memiliki penjelasan tambahan sebagai berikut: Cukup jelas.'),\n",
       "   Document(metadata={'id': 'doc:sikepo-ketentuan-terkait:12e5bc569bec4d149c7cc3bf5fb47574', 'Nomor Ketentuan': '13/3/DPM/2011', 'Ketentuan': 'Romawi VIII Sub 4', 'Referensi': '-', 'Kodifikasi Ketentuan': 'Bank Umum Konvensional', 'Jenis Ketentuan': 'SEBI', 'Judul Ketentuan': 'Laporan Harian Bank Umum', 'Tanggal Ketentuan': '04 Februari 2011', 'Tanggal Ketentuan Unix': '1296752400', 'Tahun Ketentuan': '2011', 'relevance_score': 3.8750914e-06}, page_content='Nomor Ketentuan: 13/3/DPM/2011\\nKetentuan: Romawi VIII Sub 4\\nmemiliki Isi ketentuan sebagai berikut: Biaya LHBU sebagaimana dimaksud pada angka 3 terdiri dari biaya lisensi sistem LHBU, biaya pemeliharaan sistem LHBU dan biaya perolehan informasi hasil olahan LHBU yang masing-masing besarnya ditetapkan dalam Surat Edaran Bank Indonesia yang mengatur mengenai biaya LHBU.'),\n",
       "   Document(metadata={'id': 'doc:sikepo-ketentuan-terkait:12a0f7faec8845778511adcd6d959acf', 'Nomor Ketentuan': '2/POJK.03/2022', 'Ketentuan': 'Pasal 19 ', 'Referensi': '-', 'Kodifikasi Ketentuan': 'Bank Umum Syariah', 'Jenis Ketentuan': 'POJK', 'Judul Ketentuan': 'Penilaian Kualitas Aset Bank Umum Syariah dan Unit Usaha Syariah', 'Tanggal Ketentuan': '07 Februari 2022', 'Tanggal Ketentuan Unix': '1644166800', 'Tahun Ketentuan': '2022', 'relevance_score': 2.0103746e-06}, page_content='disimpan di bank kustodian, Lembaga Penyimpanan dan\\nPenyelesaian, atau Bank Indonesia.\\nHuruf b\\nCukup jelas.\\nHuruf c\\nCukup jelas.\\nHuruf d\\nCukup jelas.'),\n",
       "   Document(metadata={'id': 'doc:sikepo-ketentuan-terkait:259f7e98a78d43f98bf0952debdf2a33', 'Nomor Ketentuan': '17/1/DSta/2015', 'Ketentuan': 'Bab 7 ', 'Referensi': '-', 'Kodifikasi Ketentuan': 'Bank Umum Konvensional', 'Jenis Ketentuan': 'SEBI', 'Judul Ketentuan': 'Perubahan Atas Surat Edaran Bank Indonesia Nomor 1431DPNP Tanggal 31 Oktober 2012 Perihal Laporan Kantor Pusat Bank Umum', 'Tanggal Ketentuan': '26 Januari 2015', 'Tanggal Ketentuan Unix': '1422205200', 'Tahun Ketentuan': '2015', 'relevance_score': 1.3287773e-06}, page_content='Nomor Ketentuan: 17/1/DSta/2015\\nKetentuan: Bab 7 \\nmemiliki Isi ketentuan sebagai berikut: 7. Diantara butir III.C.2 dan III.C.3 ditambahkan 1 (satu) butir, yakni\\nbutir III.C.2a yang berbunyi sebagai berikut:\\n2a. Bank Pelapor yang belum memperoleh penegasan dari Bank\\nIndonesia terhadap rencana penyelenggaraan kegiatan LKD, tidak\\nmenyampaikan Form 314, Form 315, Form 316, dan Form 317.\\nserta memiliki penjelasan tambahan sebagai berikut: Pedoman dapat dilihat pada ketentuan utuh')]},\n",
       " 'is_answered': 'NO',\n",
       " 'chat_history': []}"
      ]
     },
     "execution_count": 10,
     "metadata": {},
     "output_type": "execute_result"
    }
   ],
   "source": [
    "from chain.rag_chain import get_response\n",
    "\n",
    "response = get_response(\n",
    "    chain=chain_history,\n",
    "    question=\"BErapa SWDKLLJ dari buldozer?\",\n",
    "    user_id=USER_ID,\n",
    "    conversation_id=CONVERSATION_ID\n",
    ")\n",
    "\n",
    "response"
   ]
  },
  {
   "cell_type": "code",
   "execution_count": 10,
   "metadata": {},
   "outputs": [
    {
     "name": "stderr",
     "output_type": "stream",
     "text": [
      "score_threshold is deprecated. Use distance_threshold instead.score_threshold should only be used in similarity_search_with_relevance_scores.score_threshold will be removed in a future release.\n",
      "score_threshold is deprecated. Use distance_threshold instead.score_threshold should only be used in similarity_search_with_relevance_scores.score_threshold will be removed in a future release.\n",
      "Error in RootListenersTracer.on_chain_end callback: ValueError()\n"
     ]
    },
    {
     "data": {
      "text/plain": [
       "{'question': 'Siapa yang boleh mendirikan Bank?',\n",
       " 'answer': {'rewrited question': 'Siapa yang memiliki izin untuk mendirikan Bank?',\n",
       "  'answer': 'Bank hanya dapat didirikan dan melakukan kegiatan usaha dengan izin Gubernur Bank Indonesia. (PBI 11/1/PBI/2009 Pasal 4)',\n",
       "  'context': [Document(metadata={'id': 'doc:sikepo-ketentuan-terkait:6e330ec804e3419a83dbf696157e9cf0', 'Nomor Ketentuan': '11/1/PBI/2009', 'Ketentuan': 'Pasal 4 ', 'Referensi': '-', 'Kodifikasi Ketentuan': 'Bank Umum Konvensional', 'Jenis Ketentuan': 'PBI', 'Judul Ketentuan': 'Bank Umum', 'Tanggal Ketentuan': '22 Januari 2009', 'Tanggal Ketentuan Unix': '1232557200', 'Tahun Ketentuan': '2009', 'relevance_score': 0.9784671}, page_content='Nomor Ketentuan: 11/1/PBI/2009\\nKetentuan: Pasal 4 \\nmemiliki Isi ketentuan sebagai berikut: (1) Bank hanya dapat didirikan dan melakukan kegiatan usaha dengan izin Gubernur Bank Indonesia.\\n(2) Pemberian izin sebagaimana dimaksud pada ayat (1) dilakukan dalam 2 (dua) tahap:\\na. persetujuan prinsip, yaitu persetujuan untuk melakukan persiapan pendirian Bank; dan izin usaha, yaitu izin yang diberikan untuk melakukan kegiatan usaha Bank setelah persiapan sebagaimana dimaksud dalam huruf a selesai dilakukan.\\nserta memiliki penjelasan tambahan sebagai berikut: Cukup jelas.'),\n",
       "   Document(metadata={'id': 'doc:sikepo-ketentuan-terkait:46f8203096df4ade8d95f8b9e39ffe13', 'Nomor Ketentuan': '11/3/PBI/2009', 'Ketentuan': 'Pasal 4 ', 'Referensi': '-', 'Kodifikasi Ketentuan': 'Bank Umum Syariah', 'Jenis Ketentuan': 'PBI', 'Judul Ketentuan': 'Bank Umum Syariah', 'Tanggal Ketentuan': '29 Januari 2009', 'Tanggal Ketentuan Unix': '1233162000', 'Tahun Ketentuan': '2009', 'relevance_score': 0.8931231}, page_content='Nomor Ketentuan: 11/3/PBI/2009\\nKetentuan: Pasal 4 \\nmemiliki Isi ketentuan sebagai berikut: BAB II\\nPERIZINAN\\nBagian Kesatu\\nPendirian Bank\\nPasal 4\\n(1) Bank hanya dapat didirikan dan melakukan kegiatan usaha setelah memperoleh izin Bank Indonesia.\\n(2) Pemberian izin sebagaimana dimaksud pada ayat (1) dilakukan dalam 2 (dua) tahap:\\na. persetujuan prinsip, yaitu persetujuan untuk melakukan persiapan pendirian Bank; dan\\nb. izin usaha, yaitu izin yang diberikan untuk melakukan kegiatan usaha Bank setelah persiapan sebagaimana dimaksud dalam huruf a selesai dilakukan.\\nserta memiliki penjelasan tambahan sebagai berikut: Pasal 4\\nCukup jelas.'),\n",
       "   Document(metadata={'id': 'doc:sikepo-ketentuan-terkait:249033d1ac864669b81c18337759b42a', 'Nomor Ketentuan': '5 Tahun 2024', 'Ketentuan': 'Pasal 111 ', 'Referensi': '-', 'Kodifikasi Ketentuan': 'Bank Umum Konvensional', 'Jenis Ketentuan': 'POJK', 'Judul Ketentuan': 'Penetapan Status Pengawasan Dan Penanganan Permasalahan Bank Umum', 'Tanggal Ketentuan': '25 Maret 2024', 'Tanggal Ketentuan Unix': '1711299600', 'Tahun Ketentuan': '2024', 'relevance_score': 0.29168653}, page_content='Nomor Ketentuan: 5 Tahun 2024\\nKetentuan: Pasal 111 \\nmemiliki Isi ketentuan sebagai berikut: (1) Pemberian persetujuan atas permohonan pendirian Bank Perantara sebagaimana dimaksud dalam Pasal 110 diberikan oleh Otoritas Jasa Keuangan berupa: a. persetujuan prinsip; dan b. izin usaha, yang diterbitkan secara bersamaan. \\n(2) Dalam memberikan persetujuan sebagaimana dimaksud pada ayat (1), Otoritas Jasa Keuangan melakukan langkah sebagaimana dimaksud dalam Pasal 101, Pasal 107, dan Pasal 108.\\nserta memiliki penjelasan tambahan sebagai berikut: Cukup jelas.'),\n",
       "   Document(metadata={'id': 'doc:sikepo-ketentuan-terkait:2336de6039c7490696bfc5cf7ea0167d', 'Nomor Ketentuan': '13/POJK.03/2021', 'Ketentuan': 'Pasal 29 ', 'Referensi': '-', 'Kodifikasi Ketentuan': 'Bank Umum Konvensional', 'Jenis Ketentuan': 'POJK', 'Judul Ketentuan': 'Penyelenggaraan Produk Bank Umum', 'Tanggal Ketentuan': '30 Juli 2021', 'Tanggal Ketentuan Unix': '1627578000', 'Tahun Ketentuan': '2021', 'relevance_score': 0.2536761}, page_content='(4) Bank yang akan menyelenggarakan kegiatan yang dilakukan oleh Bank untuk kepentingan Bank sendiri yang dapat mempengaruhi komposisi kepemilikan dan/atau permodalan Bank, wajib mengajukan permohonan  izin disertai dengan dokumen permohonan secara lengkap. \\n(5) Otoritas Jasa Keuangan memberikan izin atau menolak permohonan izin penyelenggaraan kegiatan sebagaimana dimaksud pada ayat (4) paling lama 14 (empat belas)  hari kerja setelah seluruh persyaratan dipenuhi dan dokumen permohonan diterima secara lengkap oleh Otoritas Jasa Keuangan. \\n(6) Bank yang tidak melaksanakan kewajiban sebagaimana dimaksud pada ayat (4) dikenai sanksi administratif berupa teguran tertulis dan denda sebesar Rp100.000.000,00 (seratus juta rupiah) per kegiatan Bank.'),\n",
       "   Document(metadata={'id': 'doc:sikepo-ketentuan-terkait:e5ff2262b0314584a608cf827b4517f7', 'Nomor Ketentuan': '11/1/PBI/2009', 'Ketentuan': 'Pasal 10 ', 'Referensi': '-', 'Kodifikasi Ketentuan': 'Bank Umum Konvensional', 'Jenis Ketentuan': 'PBI', 'Judul Ketentuan': 'Bank Umum', 'Tanggal Ketentuan': '22 Januari 2009', 'Tanggal Ketentuan Unix': '1232557200', 'Tahun Ketentuan': '2009', 'relevance_score': 0.19253935}, page_content='Nomor Ketentuan: 11/1/PBI/2009\\nKetentuan: Pasal 10 \\nmemiliki Isi ketentuan sebagai berikut: Permohonan untuk mendapatkan izin usaha sebagaimana dimaksud dalam Pasal 4 ayat (2) huruf b diajukan oleh pihak yang telah mendapat persetujuan prinsip kepada Gubernur Bank Indonesia, disertai dengan:\\na. akta pendirian badan hukum, yang memuat Anggaran Dasar yang telah disahkan oleh instansi berwenang;\\nb. data kepemilikan sebagaimana dimaksud dalam Pasal 7 ayat (1) huruf b yang masing-masing disertai dengan dokumen sebagaimana dimaksud dalam Pasal 7 ayat (2), dalam hal terjadi perubahan kepemilikan;\\nc. daftar susunan Dewan Komisaris dan Direksi, disertai dengan:\\n1. contoh tanda tangan dan paraf;\\n2. identitas dan dokumen sebagaimana dimaksud dalam Pasal 7 ayat (1) huruf c, dalam hal terjadi perubahan; dan\\n3. fotokopi Kartu Izin Tinggal Terbatas (KITAS) atau Kartu Izin Tinggal Tetap (KITAP) dan fotokopi surat izin bekerja dari instansi berwenang,bagi warga negara asing:'),\n",
       "   Document(metadata={'id': 'doc:sikepo-ketentuan-terkait:2c70f849e46a43b6b8dc7a360c012918', 'Nomor Ketentuan': '22 Tahun 2022', 'Ketentuan': 'Pasal 18 ', 'Referensi': '-', 'Kodifikasi Ketentuan': 'Bank Umum Syariah', 'Jenis Ketentuan': 'POJK', 'Judul Ketentuan': 'Kegiatan Penyertaan Modal oleh Bank Umum', 'Tanggal Ketentuan': '02 November 2022', 'Tanggal Ketentuan Unix': '1667322000', 'Tahun Ketentuan': '2022', 'relevance_score': 0.08601588}, page_content='Nomor Ketentuan: 22 Tahun 2022\\nKetentuan: Pasal 18 \\nmemiliki Isi ketentuan sebagai berikut: Pasal 18\\n(1) Bank mengajukan permohonan izin sebagaimana dimaksud dalam Pasal 15 ayat (1) sebelum melakukan Penyertaan Modal disertai dengan dokumen permohonan secara lengkap.\\n(2) Format dan dokumen permohonan izin sebagaimana dimaksud pada ayat (1) tercantum dalam Lampiran yang merupakan bagian tidak terpisahkan dari Peraturan Otoritas Jasa Keuangan ini.\\n(3) Bank menyampaikan permohonan izin sebagaimana dimaksud pada ayat (1) disertai dengan surat\\npernyataan dari direksi Bank yang ditandatangani oleh direktur utama dan direktur yang membawahkan\\nfungsi kepatuhan Bank.\\n(4) Dalam hal terdapat kondisi tertentu yang menyebabkan direktur utama dan/atau direktur yang membawahkan fungsi kepatuhan Bank tidak dapat menandatangani surat pernyataan sebagaimana dimaksud pada ayat (3), surat pernyataan dapat ditandatangani oleh direksi lain sesuai dengan anggaran dasar Bank.'),\n",
       "   Document(metadata={'id': 'doc:sikepo-ketentuan-terkait:c143910a32264fc4a9c30f8dd8eb449e', 'Nomor Ketentuan': '59/POJK.03/2020', 'Ketentuan': 'Pasal 7 ', 'Referensi': '-', 'Kodifikasi Ketentuan': 'Bank Umum Syariah', 'Jenis Ketentuan': 'POJK', 'Judul Ketentuan': 'Persyaratan dan Tata Cara Pemisahan Unit Usaha Syariah', 'Tanggal Ketentuan': '16 Desember 2020', 'Tanggal Ketentuan Unix': '1608051600', 'Tahun Ketentuan': '2020', 'relevance_score': 0.04185213}, page_content='Nomor Ketentuan: 59/POJK.03/2020\\nKetentuan: Pasal 7 \\nmemiliki Isi ketentuan sebagai berikut: Pemberian izin pendirian BUS hasil Pemisahan sebagaimana dimaksud dalam Pasal 6 ayat (1) dilakukan dalam 2 (dua) tahap:\\na. persetujuan prinsip; dan\\nb. izin usaha,\\nsesuai dengan ketentuan peraturan perundang-undangan mengenai bank umum syariah, kecuali diatur khusus dalam Peraturan Otoritas Jasa Keuangan ini.\\nserta memiliki penjelasan tambahan sebagai berikut: Cukup jelas.')]},\n",
       " 'is_answered': 'YES',\n",
       " 'chat_history': []}"
      ]
     },
     "execution_count": 10,
     "metadata": {},
     "output_type": "execute_result"
    }
   ],
   "source": [
    "from chain.rag_chain import get_response\n",
    "\n",
    "response = get_response(\n",
    "    chain=chain_history,\n",
    "    question=\"Siapa yang boleh mendirikan Bank?\",\n",
    "    user_id=USER_ID,\n",
    "    conversation_id=CONVERSATION_ID\n",
    ")\n",
    "\n",
    "response"
   ]
  },
  {
   "cell_type": "code",
   "execution_count": 19,
   "metadata": {},
   "outputs": [
    {
     "name": "stdout",
     "output_type": "stream",
     "text": [
      "SWDKLLJ untuk sedan tidak ditemukan dalam konteks dan informasi metadata yang diberikan.\n"
     ]
    }
   ],
   "source": [
    "print(response['answer'])"
   ]
  },
  {
   "cell_type": "code",
   "execution_count": 16,
   "metadata": {},
   "outputs": [
    {
     "name": "stdout",
     "output_type": "stream",
     "text": [
      "[\n",
      "  {\n",
      "    \"metadata\": {\n",
      "      \"id\": \"doc:ojk:0d063bb180c64673a070b97e6d024c25\",\n",
      "      \"title\": \"Peraturan Menteri Keuangan Nomor 36/PMK.010/2008 tentang Besar Santunan dan Sumbangan Wajib Dana Kecelakaan Lalu Lintas Jalan\",\n",
      "      \"sector\": \"IKNB\",\n",
      "      \"subsector\": \"Asuransi\",\n",
      "      \"regulation_type\": \"Klasifikasi Bapepam\",\n",
      "      \"regulation_number\": \"36/PMK.010/2008\",\n",
      "      \"effective_date\": \"26 Februari 2008\",\n",
      "      \"file_url\": \"https://www.ojk.go.id/id/regulasi/Documents/Pages/PMK-Nomor-36PMK.010-Tahun-2008-tentang-Besar-Santunan-dan-Sumbangan-Wajib-Dana-Kecelakaan-Lalu-Lintas-Jalan/menas13_1389258036.pdf\",\n",
      "      \"doc_id\": \"1718\",\n",
      "      \"page_number\": \"3\",\n",
      "      \"relevance_score\": 0.2600135\n",
      "    },\n",
      "    \"page_content\": \"MENTERI KEUANGAN\\nREPUBLIK INDONESIA\\nmemperoleh santunan sebesar Rp 25.000.000,00 (dua puluh lima\\njuta rupiah).\\nb. Korban yang mengalami cacat tetap berhak memperoleh\\nsantunan yang besarnya dihitung berdasarkan angka prosentase\\n Korban yang memerlukan perawatan dan pengobatan berhak\\nrupiah).\\nPasal 3\\nDalam hal korban meninggal dunia akibat kecelakaan alat angkutan\\nlalu lintas jalan tidak mempunyai ahli waris, kepada pihak yang\\nmenyelenggarakan\\ndiberikan\\npenggantian\\nbiaya\\nPasal 4\\n(2) Besar SWDKLLJ sebagaimana dimaksud pada ayat (1) ditentukan\\nsebagai berikut:\\nSepeda motor di bawah 50 cc, mobil ambulance, mobil jenazah\\na.\\ndan mobil pemadam kebakaran dibebaskan dari kewajiban\\nmembayar SWDKLLJ.\\nb. Traktor, buidozer, forklift, mobil derek, excavator, crane dan\\nsejenisnya sebesar Rp 20.000,00 (dua puluh ribu rupiah):\\n Sepeda motor, sepeda kumbang dan scooter di atas 50 cc sampai\\n250 cc dan kendaraan bermotor roda tiga sebesar Rp 32.000,00\\n(tiga puluh dua ribu rupiah).\\nd.\"\n",
      "  },\n",
      "  {\n",
      "    \"metadata\": {\n",
      "      \"id\": \"doc:ojk:352a66c54a17471f86dd2a27fdd6fb1f\",\n",
      "      \"title\": \"Buku Panduan Akuntansi Perbankan Bagi Bank Umum Konvensional\",\n",
      "      \"sector\": \"Perbankan\",\n",
      "      \"subsector\": \"Bank Umum\",\n",
      "      \"regulation_type\": \"Surat Edaran OJK\",\n",
      "      \"regulation_number\": \"34/SEOJK.03/2021\",\n",
      "      \"effective_date\": \"31 Desember 2021\",\n",
      "      \"file_url\": \"https://www.ojk.go.id/id/regulasi/Documents/Pages/Buku-Panduan-Akuntansi-Perbankan-Bagi-Bank-Umum-Konvensional-/SEOJK%2034%20-%2003%20-%202021.pdf\",\n",
      "      \"doc_id\": \"325\",\n",
      "      \"page_number\": \"660\",\n",
      "      \"relevance_score\": 0.00039357558\n",
      "    },\n",
      "    \"page_content\": \"Rp16.150.000.000 \\n2022 \\nRp17.340.000.000 \\nRp1.020.000.000 \\nRp16.320.000.000 \\n \\nb. \\nKendaraan \\na) \\nJurnal penyesuaian tahun 2021 \\nPerhitungan akumulasi depresiasi dilakukan dengan metode \\njumlah neto (net-amount method). \\n(1)  \\nPada penyesuaian nilai buku, dicatat dalam jurnal: \\nDb. \\n \\nKr. \\nAkumulasi depresiasi aset tetap \\u2013 \\nKendaraan \\nAset tetap \\u2013 Kendaraan  \\nRp200.000.000 \\nRp200.000.000 \\n(2)  \\nPada saat revaluasi, dicatat dalam jurnal: \\nDb. \\nKr. \\nAset tetap \\u2013 Kendaraan \\nPenghasilan komprehensif lain - \\nSurplus revaluasi \\u2013 selisih nilai \\nwajar \\nCara Perhitungan \\n(a) Nilai buku kendaraan thn 2020 \\n=Rp1.000.000.000 \\n\\u2013 \\nRp200.000.000 \\n= \\nRp800.000.000. \\n(b)  \\nNilai \\nrevaluasi \\nkendaraan \\ntahun 2021 = Rp860.000.000. \\n(c)  \\nSurplus \\nrevaluasi \\n= \\nRp860.000.000 \\u2013 Rp800.000.000 \\n= Rp60.000.000. \\nRp60.000.000  \\nRp60.000.000 \\n(3)  \\nDepresiasi tahun 2021, dicatat dalam jurnal: \\nDb. \\n \\nKr. \\nBeban \\ndepresiasi \\naset \\ntetap \\n\\u2013 \\nKendaraan \\nAkumulasi depresiasi aset tetap \\u2013 \\nKendaraan\"\n",
      "  },\n",
      "  {\n",
      "    \"metadata\": {\n",
      "      \"id\": \"doc:ojk:2a1df080f2af41ccb6306a7c5b5eea3a\",\n",
      "      \"title\": \"Peraturan Bank Indonesia tentang Giro Wajib Minimum Bank Umum pada Bank Indonesia dalam Rupiah dan Valuta Asing\",\n",
      "      \"sector\": \"Perbankan\",\n",
      "      \"subsector\": \"Bank Umum\",\n",
      "      \"regulation_type\": \"PPBI\",\n",
      "      \"regulation_number\": \"12/19/PBI/2010\",\n",
      "      \"effective_date\": \"4 Oktober 2010\",\n",
      "      \"file_url\": \"https://www.ojk.go.id/id/regulasi/Documents/Pages/PBI-tentang-Giro-Wajib-Minimum-Bank-Umum-pada-Bank-Indonesia-dalam-Rupiah-dan-Valuta-Asing/107.pdf\",\n",
      "      \"doc_id\": \"1630\",\n",
      "      \"page_number\": \"47\",\n",
      "      \"relevance_score\": 9.838119e-05\n",
      "    },\n",
      "    \"page_content\": \"sejak tanggal 24 sampai dengan tanggal akhir bulan November adalah \\nsebesar: \\na. \\nGWM Primer dalam rupiah sebesar  8% (delapan persen) dari \\nDPK dalam rupiah, yaitu sebesar Rp4.400.000.000.000,00 \\n(empat triliun  empat ratus miliar rupiah); \\n \\n \\n \\nb.  GWM  . . .\"\n",
      "  },\n",
      "  {\n",
      "    \"metadata\": {\n",
      "      \"id\": \"doc:ojk:03daa818015d43deb54435423d25674b\",\n",
      "      \"title\": \"Peraturan Bank Indonesia tentang Kualitas Bank Umum yang Melaksanakan Kegiatan Usaha Berdasarkan Prinsip Syariah\",\n",
      "      \"sector\": \"Perbankan,  Syariah\",\n",
      "      \"subsector\": \"Bank Umum,  Perbankan Syariah\",\n",
      "      \"regulation_type\": \"PPBI\",\n",
      "      \"regulation_number\": \"8/21/PBI/2006\",\n",
      "      \"effective_date\": \"5 Oktober 2006\",\n",
      "      \"file_url\": \"https://www.ojk.go.id/id/regulasi/Documents/Pages/PBI-tentang-Kualitas-Bank-Umum-yang-Melaksanakan-Kegiatan-Usaha-Berdasarkan-Prinsip-Syariah/227.pdf\",\n",
      "      \"doc_id\": \"1764\",\n",
      "      \"page_number\": \"30\",\n",
      "      \"relevance_score\": 9.170197e-05\n",
      "    },\n",
      "    \"page_content\": \"kendaraan bermotor dan persediaan paling tinggi sebesar: \\n1) 70% (tujuh puluh perseratus) dari penilaian, untuk penilaian yang dilakukan \\nsebelum melampaui 12 (dua belas) bulan; \\n2) 50% (lima puluh perseratus) dari penilaian, untuk penilaian yang dilakukan \\nsetelah 12 (dua belas) bulan tetapi belum melampaui 18 (delapan belas) \\nbulan; \\n3) 30% (tiga puluh perseratus) dari penilaian, untuk penilaian yang dilakukan \\nsetelah melampaui 18 (delapan belas) bulan tetapi belum melampaui 30 \\n(tiga puluh) bulan; \\n4) 0% (nol perseratus) dari penilaian, untuk penilaian yang dilakukan setelah \\nmelampaui 30 (tiga puluh) bulan. \\n \\nPasal 43 \\nPenilaian terhadap agunan sebagaimana dimaksud dalam Pasal 42 wajib dilakukan \\ndengan cara: \\na. Untuk Surat Berharga Syariah dinilai dengan menggunakan Nilai Pasar yang \\ntercatat dipasar modal pada akhir bulan; \\nb. Untuk tanah dan rumah tinggal dinilai berdasarkan Nilai Pasar Wajar; \\nc. Untuk gedung, pesawat udara, kapal laut, kendaraan dan persediaan dinilai\"\n",
      "  },\n",
      "  {\n",
      "    \"metadata\": {\n",
      "      \"id\": \"doc:ojk:e710f845b6574fb48eab5c12f61d9664\",\n",
      "      \"title\": \"SEOJK tentang Pelaporan Data Risiko Asuransi\",\n",
      "      \"sector\": \"IKNB\",\n",
      "      \"subsector\": \"Asuransi\",\n",
      "      \"regulation_type\": \"Surat Edaran OJK\",\n",
      "      \"regulation_number\": \"28/SEOJK.05/2015\",\n",
      "      \"effective_date\": \"28 September 2015\",\n",
      "      \"file_url\": \"https://www.ojk.go.id/id/regulasi/Documents/Pages/SEOJK-tentang-Pelaporan-Data-Risiko-Asuransi/seojk%2028-2015.pdf\",\n",
      "      \"doc_id\": \"1339\",\n",
      "      \"page_number\": \"28\",\n",
      "      \"relevance_score\": 1.0370214e-05\n",
      "    },\n",
      "    \"page_content\": \"30 \\n31 \\nProvinsi Jambi \\n31 \\n32 \\nProvinsi Bengkulu \\n32 \\n33 \\nProvinsi Sumatera Selatan \\n33 \\n34 \\nProvinsi Lampung \\n34 \\n35 \\nProvinsi Kalimantan Utara \\n35 \\n36 \\nLain-lain  \\n99 \\n \\n10. \\nTahun Kendaraan  \\nTahun Kendaraan adalah tahun pembuatan kendaraan yang tercatat \\ndalam Surat Tanda Nomor Kendaraan (STNK), dengan format sebanyak 4 \\n(empat) digit. \\n11. \\nHarga Pertanggungan \\nHarga Pertanggungan adalah harga kendaraan saat baru atau taksiran \\nharga kendaraan apabila dibeli pada saat pertanggungan dimulai dengan \\nkondisi yang sama. Khusus untuk polis asuransi kendaraan bermotor\"\n",
      "  },\n",
      "  {\n",
      "    \"metadata\": {\n",
      "      \"id\": \"doc:ojk:9d14562866c1402ba9a2650fd207f0d7\",\n",
      "      \"title\": \"Bentuk dan Susunan Laporan Berkala Perusahaan Asuransi dan Perusahaan Reasuransi\",\n",
      "      \"sector\": \"IKNB\",\n",
      "      \"subsector\": \"Asuransi\",\n",
      "      \"regulation_type\": \"Surat Edaran OJK\",\n",
      "      \"regulation_number\": \"1/SEOJK.05/2018\",\n",
      "      \"effective_date\": \"24 Januari 2018\",\n",
      "      \"file_url\": \"https://www.ojk.go.id/id/regulasi/Documents/Pages/Bentuk-dan-Susunan-Laporan-Berkala-Perusahaan-Asuransi-dan-Perusahaan-Reasuransi/SEOJK%201-2018.pdf\",\n",
      "      \"doc_id\": \"843\",\n",
      "      \"page_number\": \"99\",\n",
      "      \"relevance_score\": 1.2580612e-06\n",
      "    },\n",
      "    \"page_content\": \"(SBN/SBI)\\nJangka \\nWaktu (hari)\\nKategori \\n(KSEI/BIS4)\\nNilai Pasar \\nJaminan Saat \\nPenempatan\\nSaldo Saat \\nPenempatan\\nSaldo SAK\\nSelisih \\nPenilaian SAK \\ndan SAP\\nAYD\\nSaldo SAK \\nLancar \\n(Kurang dari \\nsatu Tahun)\\nKeterangan\\nPERUSAHAAN ASURANSI UMUM DAN REASURANSI\\nREPO\\nRINCIAN 113\\nPer  Triwulan I Tahun 1900 \\n-40-\"\n",
      "  }\n",
      "]\n"
     ]
    }
   ],
   "source": [
    "print(response[\"context\"])"
   ]
  },
  {
   "cell_type": "markdown",
   "metadata": {},
   "source": [
    "#### **Streaming**"
   ]
  },
  {
   "cell_type": "code",
   "execution_count": 19,
   "metadata": {},
   "outputs": [
    {
     "name": "stdout",
     "output_type": "stream",
     "text": [
      "Saya minta maaf, tetapi pertanyaan yang Anda ajukan tidak terkait dengan konteks dan informasi metadata yang diberikan. Silakan ajukan pertanyaan lain yang terkait dengan kepatuhan perbankan di Indonesia."
     ]
    }
   ],
   "source": [
    "from chain.rag_chain import print_answer_stream\n",
    "\n",
    "print_answer_stream(chain=chain_history, question=\"Siapa itu lionel messi?\", user_id=USER_ID, conversation_id=CONVERSATION_ID)"
   ]
  },
  {
   "cell_type": "markdown",
   "metadata": {},
   "source": [
    "#### **Chat Store Monitor**"
   ]
  },
  {
   "cell_type": "code",
   "execution_count": 44,
   "metadata": {},
   "outputs": [
    {
     "name": "stdout",
     "output_type": "stream",
     "text": [
      "Human: Apa judul peraturan dengan nomor regulasi 3/SEOJK.03/2021?\n",
      "AI: Pelaporan dan Permintaan Informasi Debitur Melalui Sistem Layanan Informasi Keuangan (SEOJK SLIK) \n",
      "\n",
      "Sumber: [3/SEOJK.03/2021](https://www.ojk.go.id/id/regulasi/Documents/Pages/Pelaporan-dan-Permintaan-Informasi-Debitur-Melalui-Sistem-Layanan-Informasi-Keuangan--/SEOJK%20SLIK%2003-03-2021.pdf)\n",
      "Human: Apa judul peraturan dengan nomor regulasi 5 /SEOJK.05/2019?\n",
      "AI: Bentuk, Susunan, dan Tata Cara Penyampaian Laporan Berkala bagi Pelaku Usaha Pergadaian dan Perusahaan Pergadaian\n",
      "\n",
      "Source: [5/SEOJK.05/2019](https://www.ojk.go.id/id/regulasi/Documents/Pages/Bentuk,-Susunan,-dan-Tata-Cara-Penyampaian-Laporan-Berkala-bagi-Pelaku-Usaha-Pergadaian-dan-Perusahaan-Pergadaian/seojk%205-2019.pdf)\n",
      "Human: Berikan Petunjuk Pengisian Format Laporan Profil Perusahaan Pergadaian Swasta Syariah?\n",
      "AI: Format laporan profil perusahaan pergadaian swasta syariah diisi dengan informasi yang belum dimuat dan/atau tidak sama dengan laporan perusahaan pergadaian swasta (laporan induk) seperti informasi mengenai jumlah unit layanan (outlet), Dewan Pengawas Syariah, contact person, dan sumber daya manusia.\n",
      "\n",
      "Source: Surat Edaran OJK 5/SEOJK.05/2019\n",
      "URL: https://www.ojk.go.id/id/regulasi/Documents/Pages/Bentuk,-Susunan,-dan-Tata-Cara-Penyampaian-Laporan-Berkala-bagi-Pelaku-Usaha-Pergadaian-dan-Perusahaan-Pergadaian/seojk%205-2019.pdf\n",
      "Human: Berikan format lengkapnya?\n",
      "AI: Format lengkapnya adalah sebagai berikut:\n",
      "\n",
      "Format 1: Surat Permohonan Pendaftaran\n",
      "Format 2: Formulir Permohonan Pendaftaran\n",
      "Format 3: Daftar Riwayat Hidup\n",
      "Format 4: Surat Pernyataan Bermeterai yang Menyatakan Tidak Pernah Melakukan Perbuatan Tercela dan/atau Dihukum karena Terbukti Melakukan Tindak Pidana di Bidang Keuangan Serta Tidak Memiliki Kredit Macet\n",
      "\n",
      "Sumber: [29/SEOJK.05/2016](https://www.ojk.go.id/id/regulasi/Documents/Pages/SEOJK-tentang-Bentuk-dan-Tata-Cara-Permohonan.Penyampaian-Laporan.dan-Program-Pendidikan-Berkelanjutan/seojk%2029-2016.pdf)\n"
     ]
    }
   ],
   "source": [
    "# to print chat history\n",
    "print(chat_store.get_session_history(user_id=USER_ID, conversation_id=CONVERSATION_ID))"
   ]
  },
  {
   "cell_type": "code",
   "execution_count": 31,
   "metadata": {},
   "outputs": [],
   "source": [
    "# to make the chat history empty\n",
    "chat_store.clear_all()"
   ]
  }
 ],
 "metadata": {
  "kernelspec": {
   "display_name": "chatbot-all",
   "language": "python",
   "name": "python3"
  },
  "language_info": {
   "codemirror_mode": {
    "name": "ipython",
    "version": 3
   },
   "file_extension": ".py",
   "mimetype": "text/x-python",
   "name": "python",
   "nbconvert_exporter": "python",
   "pygments_lexer": "ipython3",
   "version": "3.9.19"
  }
 },
 "nbformat": 4,
 "nbformat_minor": 2
}

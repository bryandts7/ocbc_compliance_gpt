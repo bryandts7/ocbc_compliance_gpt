{
 "cells": [
  {
   "cell_type": "markdown",
   "metadata": {},
   "source": [
    "# **Compliance GPT with LangChain**"
   ]
  },
  {
   "cell_type": "markdown",
   "metadata": {},
   "source": [
    "## **Setup**"
   ]
  },
  {
   "cell_type": "code",
   "execution_count": 1,
   "metadata": {},
   "outputs": [],
   "source": [
    "# import nest_asyncio\n",
    "# nest_asyncio.apply()"
   ]
  },
  {
   "cell_type": "markdown",
   "metadata": {},
   "source": [
    "## **Config**"
   ]
  },
  {
   "cell_type": "code",
   "execution_count": 2,
   "metadata": {},
   "outputs": [],
   "source": [
    "from utils.config import get_config\n",
    "\n",
    "config = get_config()"
   ]
  },
  {
   "cell_type": "code",
   "execution_count": 3,
   "metadata": {},
   "outputs": [],
   "source": [
    "USER_ID = 'xmriz'\n",
    "CONVERSATION_ID = 'xmriz-2021-07-01-01'"
   ]
  },
  {
   "cell_type": "markdown",
   "metadata": {},
   "source": [
    "## **Define Model**"
   ]
  },
  {
   "cell_type": "code",
   "execution_count": 4,
   "metadata": {},
   "outputs": [],
   "source": [
    "from utils.models import ModelName, LLMModelName, EmbeddingModelName, get_model\n",
    "\n",
    "model_name = ModelName.AZURE_OPENAI\n",
    "llm_model, embed_model = get_model(model_name=model_name, config=config, llm_model_name=LLMModelName.GPT_35_TURBO, embedding_model_name=EmbeddingModelName.EMBEDDING_3_SMALL)"
   ]
  },
  {
   "cell_type": "markdown",
   "metadata": {},
   "source": [
    "## **Load Vector Store Index**"
   ]
  },
  {
   "cell_type": "code",
   "execution_count": 5,
   "metadata": {},
   "outputs": [
    {
     "name": "stderr",
     "output_type": "stream",
     "text": [
      "c:\\Users\\acer\\miniconda3\\envs\\chatbot-ocbc\\lib\\site-packages\\pinecone\\data\\index.py:1: TqdmWarning: IProgress not found. Please update jupyter and ipywidgets. See https://ipywidgets.readthedocs.io/en/stable/user_install.html\n",
      "  from tqdm.autonotebook import tqdm\n"
     ]
    }
   ],
   "source": [
    "from database.vector_store.vector_store import RedisIndexManager, PineconeIndexManager\n",
    "\n",
    "\n",
    "redis_bi = RedisIndexManager(index_name='bi', embed_model=embed_model, config=config, db_id=0)\n",
    "vector_store_bi = redis_bi.load_vector_index()\n",
    "\n",
    "redis_ojk = RedisIndexManager(index_name='ojk', embed_model=embed_model, config=config, db_id=0)\n",
    "vector_store_ojk = redis_ojk.load_vector_index()\n",
    "\n",
    "redis_sikepo_ket = RedisIndexManager(index_name='sikepo-ketentuan-terkait', embed_model=embed_model, config=config, db_id=0)\n",
    "vector_store_ket = redis_sikepo_ket.load_vector_index()\n",
    "\n",
    "redis_sikepo_rek = RedisIndexManager(index_name='sikepo-rekam-jejak', embed_model=embed_model, config=config, db_id=0)\n",
    "vector_store_rek = redis_sikepo_rek.load_vector_index()\n",
    "\n",
    "# pinecone_ojk = PineconeIndexManager(index_name='ojk', embed_model=embed_model, config=config)\n",
    "# vector_store_ojk = pinecone_ojk.load_vector_index()\n",
    "\n",
    "# pinecone_bi = PineconeIndexManager(index_name='bi', embed_model=embed_model, config=config)\n",
    "# vector_store_bi = pinecone_bi.load_vector_index()\n",
    "\n",
    "# pinecone_ket = PineconeIndexManager(index_name='ketentuan-terkait', embed_model=embed_model, config=config)\n",
    "# vector_store_ket = pinecone_ket.load_vector_index()\n",
    "\n",
    "# pinecone_rek = PineconeIndexManager(index_name='rekam-jejak', embed_model=embed_model, config=config)\n",
    "# vector_store_rek = pinecone_rek.load_vector_index()"
   ]
  },
  {
   "cell_type": "code",
   "execution_count": 6,
   "metadata": {},
   "outputs": [],
   "source": [
    "from database.vector_store.neo4j_graph_store import Neo4jGraphStore\n",
    "\n",
    "neo4j_sikepo = Neo4jGraphStore(config=config)\n",
    "graph = neo4j_sikepo.get_graph()"
   ]
  },
  {
   "cell_type": "markdown",
   "metadata": {},
   "source": [
    "## **Get Retriever**"
   ]
  },
  {
   "cell_type": "code",
   "execution_count": 7,
   "metadata": {},
   "outputs": [],
   "source": [
    "from retriever.retriever_ojk.retriever_ojk import get_retriever_ojk\n",
    "from retriever.retriever_bi.retriever_bi import get_retriever_bi\n",
    "from retriever.retriever_sikepo.lotr_sikepo import lotr_sikepo\n",
    "\n",
    "retriever_bi = get_retriever_bi(vector_store=vector_store_bi, top_n=6, top_k=16, llm_model=llm_model, embed_model=embed_model, config=config)\n",
    "retriever_ojk = get_retriever_ojk(vector_store=vector_store_ojk, top_n=6, top_k=16, llm_model=llm_model, embed_model=embed_model, config=config)\n",
    "retriever_sikepo_ket = lotr_sikepo(vector_store=vector_store_ket, llm_model=llm_model, embed_model=embed_model, config=config)\n",
    "retriever_sikepo_rek = lotr_sikepo(vector_store=vector_store_rek, llm_model=llm_model, embed_model=embed_model, config=config)"
   ]
  },
  {
   "cell_type": "code",
   "execution_count": 8,
   "metadata": {},
   "outputs": [
    {
     "name": "stderr",
     "output_type": "stream",
     "text": [
      "score_threshold is deprecated. Use distance_threshold instead.score_threshold should only be used in similarity_search_with_relevance_scores.score_threshold will be removed in a future release.\n",
      "score_threshold is deprecated. Use distance_threshold instead.score_threshold should only be used in similarity_search_with_relevance_scores.score_threshold will be removed in a future release.\n"
     ]
    },
    {
     "data": {
      "text/plain": [
       "[Document(metadata={'id': 'doc:sikepo-ketentuan-terkait:e5ff77ccf94c4a6ca4ddca6394ea301f', 'Nomor Ketentuan': '21 Tahun 2023', 'Ketentuan': 'Pasal 11 ', 'Referensi': '-', 'Kodifikasi Ketentuan': 'Bank Umum Konvensional', 'Jenis Ketentuan': 'POJK', 'Judul Ketentuan': 'Layanan Digital Oleh Bank Umum', 'Tanggal Ketentuan': '19 Desember 2023', 'Tanggal Ketentuan Unix': '1702918800', 'Tahun Ketentuan': '2023', 'relevance_score': 0.98005307}, page_content='serta memiliki penjelasan tambahan sebagai berikut: Yang dimaksud dengan \"produk Bank dasar\" adalah produk bank dasar sesuai dengan Peraturan Otoritas Jasa Keuangan mengenai penyelenggaraan produk bank umum. Layanan Digital yang perizinan sepenuhnya diatur oleh otoritas sistem pembayaran di Indonesia antara lain Quick Response Code Indonesian Standard/QRIS dan dompet elektronik. Contoh: 1. Bank telah memiliki Layanan Digital berupa aplikasi mobile banking yang telah dilengkapi dengan produk tabungan dan sebelumnya telah memperoleh izin dari Otoritas Jasa Keuangan atas Layanan Digital dimaksud, kemudian Bank menambahkan fitur Quick Response Code Indonesian Standard/QRIS dan kartu kredit virtual yang membutuhkan izin otoritas sistem pembayaran dalam aplikasi mobile banking yang telah ada. Penambahan fitur Quick Response Code Indonesian Standard/QRIS dan kartu kredit virtual dimaksud mengikuti mekanisme penyelenggaraan produk Bank dasar sesuai dengan Peraturan Otoritas Jasa Keuangan'),\n",
       " Document(metadata={'id': 'doc:sikepo-ketentuan-terkait:067e66ce26594f13b361f82cd52941d3', 'Nomor Ketentuan': '42/POJK.03/2015', 'Ketentuan': 'Pasal 9 ', 'Referensi': '-', 'Kodifikasi Ketentuan': 'Bank Umum Konvensional', 'Jenis Ketentuan': 'POJK', 'Judul Ketentuan': 'Kewajiban Pemenuhan Rasio Kecukupan Likuiditas Liquidity Coverage Ratio Bagi Bank Umum', 'Tanggal Ketentuan': '23 Desember 2015', 'Tanggal Ketentuan Unix': '1450803600', 'Tahun Ketentuan': '2015', 'relevance_score': 0.010529712}, page_content='Nomor Ketentuan: 42/POJK.03/2015\\nKetentuan: Pasal 9 \\nmemiliki Isi ketentuan sebagai berikut: (1) Persyaratan fundamental HQLA sebagaimana dimaksud dalam Pasal 8 huruf a yaitu:\\na. memiliki risiko yang rendah;\\nb. memiliki metode penilaian yang mudah dan pasti;\\nc. memiliki korelasi yang rendah dengan aset berisiko; dan\\nd. terdaftar di bursa yang diakui.\\n(2) Persyaratan HQLA terkait dengan karakteristik pasar sebagaimana dimaksud dalam Pasal 8 huruf b yaitu:\\na. memiliki pasar yang aktif dan memadai;\\nb. memiliki volatilitas pasar yang rendah; dan\\nc. secara historis merupakan aset yang diinginkan oleh pelaku pasar apabila terjadi krisis (terjadi flight to quality).\\n(3) Persyaratan operasional sebagaimana dimaksud dalam Pasal 8 huruf c yaitu:\\na. bebas dari segala klaim, kecuali aset yang disimpan atau diperjanjikan dengan Bank Indonesia namun belum digunakan untuk menghasilkan likuiditas;\\nb. tidak ditetapkan untuk tujuan menutup biaya operasional;'),\n",
       " Document(metadata={'id': 'doc:sikepo-ketentuan-terkait:3dc6f82bc3c4492592ce77c21c757ceb', 'Nomor Ketentuan': '10/35/DPbS', 'Ketentuan': 'Romawi VI ', 'Referensi': '-', 'Kodifikasi Ketentuan': 'BPR Syariah', 'Jenis Ketentuan': 'SEBI', 'Judul Ketentuan': 'Restrukturisasi Pembiayaan bagi Bank Pembiayaan Rakyat Syariah', 'Tanggal Ketentuan': '22 Oktober 2008', 'Tanggal Ketentuan Unix': '1224608400', 'Tahun Ketentuan': '2008', 'relevance_score': 0.008881675}, page_content='b. Persyaratan kembali (reconditioning).\\nRestrukturisasi yang dilakukan dengan menetapkan kembali syarat–syarat Pembiayaan antara lain spesifikasi barang, jumlah, jangka waktu, jadwal penyerahan, pemberian potongan piutang dan/atau lainnya tanpa menambah nilai barang yang harus diserahkan nasabah kepada BPRS.\\nc. Penataan kembali (restructuring) dengan penambahan dana.\\nRestrukturisasi yang dilakukan dengan menambah dana BPRS kepada nasabah agar kegiatan usaha nasabah dapat kembali berjalan dengan baik.\\n3. Piutang Qardh\\nPembiayaan dalam bentuk piutang qardh dapat dilakukan proses restrukturisasi dengan cara:\\na. Penjadwalan kembali (rescheduling).\\nRestrukturisasi yang dilakukan dengan memperpanjang jangka waktu jatuh tempo Pembiayaan tanpa mengubah sisa kewajiban nasabah yang harus dibayarkan kepada BPRS.\\nb. Persyaratan kembali (reconditioning).'),\n",
       " Document(metadata={'id': 'doc:sikepo-ketentuan-terkait:f1a3cb6919d444239272a39c0af75293', 'Nomor Ketentuan': '13/SEOJK.03/2019', 'Ketentuan': 'Romawi III Sub 1', 'Referensi': '-', 'Kodifikasi Ketentuan': 'BPR Syariah', 'Jenis Ketentuan': 'SEOJK', 'Judul Ketentuan': 'Penerapan Tata Kelola Bagi Bank Pembiayaan Rakyat Syariah', 'Tanggal Ketentuan': '28 Juni 2019', 'Tanggal Ketentuan Unix': '1561654800', 'Tahun Ketentuan': '2019', 'relevance_score': 0.0063143647}, page_content='Nomor Ketentuan: 13/SEOJK.03/2019\\nKetentuan: Romawi III Sub 1\\nmemiliki Isi ketentuan sebagai berikut: BPRS wajib menyampaikan laporan hasil penilaian sendiri (self assessment) penerapan tata kelola paling sedikit 1 (satu) kali dalam 1 (satu) tahun sebagaimana dimaksud dalam Pasal 92 POJK Tata Kelola BPRS. Hasil penilaian sendiri penerapan tata kelola merupakan bagian tidak terpisahkan dari Laporan Penerapan Tata Kelola.')]"
      ]
     },
     "execution_count": 8,
     "metadata": {},
     "output_type": "execute_result"
    }
   ],
   "source": [
    "retriever_sikepo_ket.invoke(\"What is QRIS?\")"
   ]
  },
  {
   "cell_type": "markdown",
   "metadata": {},
   "source": [
    "## **Create Chain**"
   ]
  },
  {
   "cell_type": "code",
   "execution_count": 9,
   "metadata": {},
   "outputs": [],
   "source": [
    "from database.chat_store import RedisChatStore, MongoDBChatStore\n",
    "\n",
    "chat_store = RedisChatStore(k=3, config=config, db_id=1)\n",
    "# chat_store = MongoDBChatStore(config=config, k=4)"
   ]
  },
  {
   "cell_type": "code",
   "execution_count": 10,
   "metadata": {},
   "outputs": [],
   "source": [
    "from chain.rag_chain import create_chain_with_chat_history, create_chain\n",
    "from retriever.retriever_sikepo.graph_cypher_retriever import graph_rag_chain\n",
    "\n",
    "\n",
    "graph_chain = graph_rag_chain(llm_model, llm_model, graph=graph)\n",
    "\n",
    "chain = create_chain(\n",
    "    llm_model=llm_model,\n",
    "    graph_chain=graph_chain,\n",
    "    retriever_ojk=retriever_ojk,\n",
    "    retriever_bi=retriever_sikepo_ket,\n",
    "    retriever_sikepo_ketentuan=retriever_sikepo_ket,\n",
    "    retriever_sikepo_rekam=retriever_sikepo_rek,\n",
    ")\n",
    "\n",
    "chain_history = create_chain_with_chat_history(\n",
    "    final_chain=chain,\n",
    "    chat_store=chat_store,\n",
    ")"
   ]
  },
  {
   "cell_type": "markdown",
   "metadata": {},
   "source": [
    "## **Invoke**"
   ]
  },
  {
   "cell_type": "markdown",
   "metadata": {},
   "source": [
    "#### **Chat Store Monitor**"
   ]
  },
  {
   "cell_type": "code",
   "execution_count": 11,
   "metadata": {},
   "outputs": [
    {
     "name": "stdout",
     "output_type": "stream",
     "text": [
      "\n"
     ]
    }
   ],
   "source": [
    "# to print chat history\n",
    "print(chat_store.get_session_history(user_id=USER_ID, conversation_id=CONVERSATION_ID))"
   ]
  },
  {
   "cell_type": "code",
   "execution_count": 12,
   "metadata": {},
   "outputs": [],
   "source": [
    "# to make the chat history empty\n",
    "chat_store.clear_all()"
   ]
  },
  {
   "cell_type": "markdown",
   "metadata": {},
   "source": [
    "#### **With Question, Answer, and Context**"
   ]
  },
  {
   "cell_type": "code",
   "execution_count": 14,
   "metadata": {},
   "outputs": [
    {
     "data": {
      "text/plain": [
       "{'rewrited question': 'Apa itu Dana Tanahud?',\n",
       " 'answer': 'Dana Tanahud adalah kumpulan dana yang berasal dari kontribusi tanahud, hasil investasi dana tanahud, qardh dari Perusahaan kepada dana tanahud, dan/atau dana tanahud dari reasuradur, yang penggunaannya sesuai dengan perjanjian anuitas syariah untuk program pensiun atau perjanjian reasuransi syariah atas anuitas syariah untuk program pensiun.\\n\\nSource: [POJK tentang Penyelenggaraan Usaha Perusahaan Asuransi, Perusahaan Asuransi Syariah, Perusahaan Reasuransi, dan Perusahaan Reasuransi Syariah](https://www.ojk.go.id/id/regulasi/Documents/Pages/POJK-tentang--Penyelenggaraan-Usaha-Perusahaan-Asuransi,-Asuransi-Syariah,-Reasuransi,-dan-Reasuransi-Syariah/pojk%2069-2016.pdf#page=7)',\n",
       " 'context': '[\\n  {\\n    \"metadata\": {\\n      \"id\": \"doc:ojk:35dce9bb283f49048c149b24356c12e0\",\\n      \"title\": \"POJK tentang Penyelenggaraan Usaha Perusahaan Asuransi, Perusahaan Asuransi Syariah, Perusahaan Reasuransi, dan Perusahaan Reasuransi Syariah\",\\n      \"sector\": \"IKNB,  Syariah\",\\n      \"subsector\": \"IKNB Syariah,  Asuransi\",\\n      \"regulation_type\": \"Peraturan OJK\",\\n      \"regulation_number\": \"69/POJK.05/2016\",\\n      \"effective_date\": \"28 Desember 2016\",\\n      \"file_url\": \"https://www.ojk.go.id/id/regulasi/Documents/Pages/POJK-tentang--Penyelenggaraan-Usaha-Perusahaan-Asuransi,-Asuransi-Syariah,-Reasuransi,-dan-Reasuransi-Syariah/pojk%2069-2016.pdf\",\\n      \"doc_id\": \"1060\",\\n      \"page_number\": \"7\",\\n      \"relevance_score\": 0.9914557\\n    },\\n    \"page_content\": \"Asuransi Syariah dan memenuhi persyaratan untuk \\\\nmewakili Perusahaan Asuransi atau Perusahaan \\\\nAsuransi Syariah memasarkan produk asuransi atau \\\\nproduk asuransi syariah sebagaimana dimaksud \\\\ndalam Undang-Undang Nomor 40 Tahun 2014 tentang \\\\nPerasuransian. \\\\n26. Dana Tabarru\\\\u2019 adalah kumpulan dana yang berasal \\\\ndari \\\\nkontribusi \\\\npara \\\\npeserta, \\\\nyang \\\\nmekanisme \\\\npenggunaannya sesuai dengan perjanjian asuransi \\\\nsyariah \\\\natau \\\\nperjanjian \\\\nreasuransi \\\\nsyariah \\\\nsebagaimana dimaksud dalam Undang-Undang Nomor \\\\n40 Tahun 2014 tentang Perasuransian. \\\\n27. Dana Tanahud adalah kumpulan dana yang berasal \\\\ndari kontribusi tanahud, hasil investasi dana tanahud, \\\\nqardh \\\\ndari \\\\nPerusahaan \\\\nkepada \\\\ndana \\\\ntanahud, \\\\ndan/atau \\\\ndana \\\\ntanahud \\\\ndari \\\\nreasuradur, \\\\nyang \\\\npenggunaannya sesuai dengan perjanjian anuitas \\\\nsyariah untuk program pensiun atau perjanjian \\\\nreasuransi \\\\nsyariah \\\\natas \\\\nanuitas \\\\nsyariah \\\\nuntuk \\\\nprogram pensiun. \\\\n28. Akad Hibah Tanahud adalah akad hibah sejumlah\"\\n  },\\n  {\\n    \"metadata\": {\\n      \"id\": \"doc:ojk:9753b165cefe4545bd316da934499efb\",\\n      \"title\": \"Perubahan Kedua Atas Peraturan Otoritas Jasa Keuangan Nomor 72/POJK.05/2016 Tentang Kesehatan Keuangan Perusahaan Asuransi dan Perusahaan Reasuransi Dengan Prinsip Syariah\",\\n      \"sector\": \"IKNB\",\\n      \"subsector\": \"IKNB Syariah\",\\n      \"regulation_type\": \"Peraturan OJK\",\\n      \"regulation_number\": \"6 TAHUN 2023\",\\n      \"effective_date\": \"6 April 2023\",\\n      \"file_url\": \"https://www.ojk.go.id/id/regulasi/Documents/Pages/Kesehatan-Keuangan-Perusahaan-Asuransi-dan-Perusahaan-Reasuransi-Dengan-Prinsip-Syariah/POJK%20Nomor%206%20Tahun%202023.pdf\",\\n      \"doc_id\": \"166\",\\n      \"page_number\": \"5\",\\n      \"relevance_score\": 0.98347044\\n    },\\n    \"page_content\": \"tanahud, dan/atau dana tanahud dari reasuradur, \\\\nyang penggunaannya sesuai dengan akad hibah dana \\\\ntanahud. \\\\n16. Dana Perusahaan adalah kumpulan dana yang \\\\ndikelola Perusahaan, selain Dana Tabarru\\\\u2019, Dana \\\\nTanahud, dan dana investasi peserta. \\\\n17. Dana Investasi Peserta adalah dana investasi yang \\\\nberasal dari kontribusi pemegang polis atau peserta \\\\npada produk asuransi syariah yang memberikan \\\\nmanfaat berupa pembayaran dana yang besarnya \\\\ndidasarkan pada hasil pengelolaan dana. \\\\n18. Aset \\\\nYang \\\\nDiperkenankan \\\\nadalah \\\\naset \\\\nyang \\\\ndiperhitungkan \\\\ndalam \\\\nperhitungan \\\\ntingkat \\\\nsolvabilitas. \\\\n19. Qardh adalah pinjaman dari Dana Perusahaan \\\\nkepada Dana Tabarru\\\\u2019 dan/atau Dana Tanahud \\\\ndalam rangka menanggulangi ketidakcukupan aset \\\\nDana Tabarru\\\\u2019 dan/atau Dana Tanahud untuk \\\\nmembayar \\\\nsantunan/klaim/manfaat \\\\nkepada \\\\npemegang polis atau peserta. \\\\n20. Aset Yang Tersedia Untuk Qardh adalah bagian dari \\\\nAset Yang Diperkenankan dari Dana Perusahaan \\\\nyang disediakan untuk memberi Qardh kepada Dana\"\\n  },\\n  {\\n    \"metadata\": {\\n      \"id\": \"doc:ojk:59b9c9a6624f4ab7b747495797e8a9fe\",\\n      \"title\": \"Pedoman Pembentukan Penyisihan Teknis bagi Perusahaan Asuransi dan Perusahaan Reasuransi dengan Prinsip Syariah\",\\n      \"sector\": \"IKNB\",\\n      \"subsector\": \"IKNB Syariah,  Asuransi\",\\n      \"regulation_type\": \"Surat Edaran OJK\",\\n      \"regulation_number\": \"28/SEOJK.05/2017\",\\n      \"effective_date\": \"13 Juni 2017\",\\n      \"file_url\": \"https://www.ojk.go.id/id/regulasi/Documents/Pages/SEOJK-Pedoman-Pembentukan-Penyisihan-Teknis-bagi-Perusahaan-Asuransi-dan-Perusahaan-Reasuransi-dengan-Prinsip-Syariah/seojk%2028-2017.pdf\",\\n      \"doc_id\": \"981\",\\n      \"page_number\": \"2\",\\n      \"relevance_score\": 0.97923523\\n    },\\n    \"page_content\": \"syariah atas risiko yang dihadapi oleh Perusahaan Asuransi \\\\nSyariah, \\\\nperusahaan \\\\npenjaminan \\\\nsyariah, \\\\natau \\\\nPerusahaan \\\\nReasuransi \\\\nSyariah \\\\nlainnya, \\\\ntermasuk \\\\nUnit \\\\nSyariah \\\\ndari \\\\nperusahaan reasuransi. \\\\n7\\\\n. \\\\nDana Tabarru\\\\u2019 adalah kumpulan dana yang berasal dari kontribusi \\\\npara pemegang polis atau peserta, yang mekanisme penggunaannya \\\\nsesuai \\\\ndengan \\\\nperjanjian \\\\nasuransi \\\\nsyariah \\\\natau \\\\nperjanjian \\\\nreasuransi syariah sebagaimana dimaksud dalam Undang-Undang \\\\nNomor 40 Tahun 2014 tentang Perasuransian. \\\\n8\\\\n. \\\\nDana Tanahud adalah kumpulan dana yang berasal dari kontribusi \\\\npara pemegang   polis   atau   peserta anuitas program pensiun \\\\nsyariah, qardh dari dana perusahaan, dan/atau Dana Tanahud dari \\\\nreasuransi atas produk anuitas program pensiun syariah, beserta \\\\nhasil investasinya, yang penggunaannya sesuai dengan perjanjian   \\\\nanuitas   syariah   untuk   program   pensiun atau perjanjian \\\\nreasuransi syariah atas anuitas syariah untuk program pensiun. \\\\n9\\\\n. \\\\nDana \\\\nPerusahaan \\\\nadalah\"\\n  },\\n  {\\n    \"metadata\": {\\n      \"id\": \"doc:ojk:d71206d08aa14611b521bc2244feabd6\",\\n      \"title\": \"POJK tentang Kesehatan Keuangan Perusahaan Asuransi dan Perusahaan Reasuransi dengan Prinsip Syariah\",\\n      \"sector\": \"IKNB,  Syariah\",\\n      \"subsector\": \"IKNB Syariah,  Asuransi\",\\n      \"regulation_type\": \"Peraturan OJK\",\\n      \"regulation_number\": \"72/POJK.05/2016\",\\n      \"effective_date\": \"28 Desember 2016\",\\n      \"file_url\": \"https://www.ojk.go.id/id/regulasi/Documents/Pages/POJK-tentang-Kesehatan-Keuangan-Perusahaan-Asuransi-dan-Perusahaan-Reasuransi-dengan-Prinsip-Syariah/pojk%2072-2016.pdf\",\\n      \"doc_id\": \"1057\",\\n      \"page_number\": \"4\",\\n      \"relevance_score\": 0.97724086\\n    },\\n    \"page_content\": \"13. Surplus \\\\nUnderwriting \\\\nadalah \\\\nselisih \\\\nlebih \\\\ntotal \\\\nkontribusi pemegang polis atau peserta ke dalam dana \\\\ntabarru\\\\u2019 ditambah total recovery klaim dari reasuradur \\\\ndikurangi \\\\npembayaran \\\\nsantunan/klaim/manfaat, \\\\nkontribusi reasuransi, dan kenaikan penyisihan teknis, \\\\ndalam satu periode tertentu. \\\\n14. Dana Tabarru\\\\u2019 adalah kumpulan dana yang berasal \\\\ndari kontribusi para pemegang polis atau peserta, yang \\\\nmekanisme penggunaannya sesuai dengan perjanjian \\\\nasuransi syariah atau perjanjian reasuransi syariah \\\\nsebagaimana dimaksud dalam Undang-Undang Nomor \\\\n40 Tahun 2014 tentang Perasuransian. \\\\n15. Dana Tanahud adalah kumpulan dana yang berasal \\\\ndari kontribusi para pemegang polis atau peserta \\\\nanuitas program pensiun syariah, qardh dari dana \\\\nperusahaan, dan/atau Dana Tanahud dari reasuransi \\\\natas produk anuitas program pensiun syariah, beserta \\\\nhasil investasinya, yang penggunaannya sesuai dengan \\\\nperjanjian anuitas syariah untuk program pensiun\"\\n  },\\n  {\\n    \"metadata\": {\\n      \"id\": \"doc:ojk:b718bb30240a46a28625bab14f6cddce\",\\n      \"title\": \"Bentuk dan Susunan Laporan Berkala Perusahaan Asuransi Syariah, Perusahaan Reasuransi Syariah, dan Unit Syariah\",\\n      \"sector\": \"IKNB\",\\n      \"subsector\": \"IKNB Syariah,  Asuransi\",\\n      \"regulation_type\": \"Surat Edaran OJK\",\\n      \"regulation_number\": \"2/SEOJK.05/2018\",\\n      \"effective_date\": \"24 Januari 2018\",\\n      \"file_url\": \"https://www.ojk.go.id/id/regulasi/Documents/Pages/Bentuk-dan-Susunan-Laporan-Berkala-Perusahaan-Asuransi-Syariah,-Perusahaan-Reasuransi-Syariah,-dan-Unit-Syariah/SEOJK%202-2018.pdf\",\\n      \"doc_id\": \"842\",\\n      \"page_number\": \"109\",\\n      \"relevance_score\": 0.7354517\\n    },\\n    \"page_content\": \"Dana Tanahud , Dana Perusahaan, dan Dana Investasi Peserta PT ....., maka dengan ini Dewan\\\\nPengawas Syariah PT ..... menyatakan bahwa pengelolaan kekayaan dan kewajiban Dana Tabarru\\',  \\\\nDana Tanahud, Dana Perusahaan , dan Dana Investasi Peserta telah dilakukan sesuai prinsip Syariah\\\\nIslam.\\\\n-102-\"\\n  },\\n  {\\n    \"metadata\": {\\n      \"id\": \"doc:ojk:7698037e7d634bdd9bb7fb77155742a7\",\\n      \"title\": \"POJK tentang Kesehatan Keuangan Perusahaan Asuransi dan Perusahaan Reasuransi dengan Prinsip Syariah\",\\n      \"sector\": \"IKNB,  Syariah\",\\n      \"subsector\": \"IKNB Syariah,  Asuransi\",\\n      \"regulation_type\": \"Peraturan OJK\",\\n      \"regulation_number\": \"72/POJK.05/2016\",\\n      \"effective_date\": \"28 Desember 2016\",\\n      \"file_url\": \"https://www.ojk.go.id/id/regulasi/Documents/Pages/POJK-tentang-Kesehatan-Keuangan-Perusahaan-Asuransi-dan-Perusahaan-Reasuransi-dengan-Prinsip-Syariah/pojk%2072-2016.pdf\",\\n      \"doc_id\": \"1057\",\\n      \"page_number\": \"37\",\\n      \"relevance_score\": 0.22236222\\n    },\\n    \"page_content\": \"Dana Tabarru\\\\u2019 dan Dana Tanahud yang dapat terjadi \\\\ndi masa yang akan datang dengan menggunakan \\\\nasumsi estimasi sentral ditambah dengan marjin \\\\nrisiko. \\\\n(3) \\\\nPembentukan penyisihan atas kontribusi tabarru\\\\u2019 \\\\nyang \\\\nbelum \\\\nmerupakan \\\\npendapatan \\\\natau \\\\nhak \\\\nsebagaimana dimaksud pada ayat (1) huruf b wajib \\\\ndihitung berdasarkan kontribusi tabarru\\\\u2019 dengan \\\\nmemperhitungkan penyisihan atas seluruh risiko yang \\\\nbelum dijalani (unexpired risk reserve).\"\\n  }\\n]'}"
      ]
     },
     "execution_count": 14,
     "metadata": {},
     "output_type": "execute_result"
    }
   ],
   "source": [
    "from chain.rag_chain import get_response\n",
    "\n",
    "response = get_response(\n",
    "    chain=chain_history,\n",
    "    question=\"Apa itu Dana Tanahud?\",\n",
    "    user_id=USER_ID,\n",
    "    conversation_id=CONVERSATION_ID\n",
    ")\n",
    "\n",
    "response"
   ]
  },
  {
   "cell_type": "code",
   "execution_count": 15,
   "metadata": {},
   "outputs": [
    {
     "name": "stdout",
     "output_type": "stream",
     "text": [
      "Dana Tanahud adalah kumpulan dana yang berasal dari kontribusi tanahud, hasil investasi dana tanahud, qardh dari Perusahaan kepada dana tanahud, dan/atau dana tanahud dari reasuradur, yang penggunaannya sesuai dengan perjanjian anuitas syariah untuk program pensiun atau perjanjian reasuransi syariah atas anuitas syariah untuk program pensiun.\n",
      "\n",
      "Source: [POJK tentang Penyelenggaraan Usaha Perusahaan Asuransi, Perusahaan Asuransi Syariah, Perusahaan Reasuransi, dan Perusahaan Reasuransi Syariah](https://www.ojk.go.id/id/regulasi/Documents/Pages/POJK-tentang--Penyelenggaraan-Usaha-Perusahaan-Asuransi,-Asuransi-Syariah,-Reasuransi,-dan-Reasuransi-Syariah/pojk%2069-2016.pdf#page=7)\n"
     ]
    }
   ],
   "source": [
    "print(response['answer'])\n"
   ]
  },
  {
   "cell_type": "code",
   "execution_count": 16,
   "metadata": {},
   "outputs": [
    {
     "name": "stdout",
     "output_type": "stream",
     "text": [
      "[\n",
      "  {\n",
      "    \"metadata\": {\n",
      "      \"id\": \"doc:ojk:35dce9bb283f49048c149b24356c12e0\",\n",
      "      \"title\": \"POJK tentang Penyelenggaraan Usaha Perusahaan Asuransi, Perusahaan Asuransi Syariah, Perusahaan Reasuransi, dan Perusahaan Reasuransi Syariah\",\n",
      "      \"sector\": \"IKNB,  Syariah\",\n",
      "      \"subsector\": \"IKNB Syariah,  Asuransi\",\n",
      "      \"regulation_type\": \"Peraturan OJK\",\n",
      "      \"regulation_number\": \"69/POJK.05/2016\",\n",
      "      \"effective_date\": \"28 Desember 2016\",\n",
      "      \"file_url\": \"https://www.ojk.go.id/id/regulasi/Documents/Pages/POJK-tentang--Penyelenggaraan-Usaha-Perusahaan-Asuransi,-Asuransi-Syariah,-Reasuransi,-dan-Reasuransi-Syariah/pojk%2069-2016.pdf\",\n",
      "      \"doc_id\": \"1060\",\n",
      "      \"page_number\": \"7\",\n",
      "      \"relevance_score\": 0.9914557\n",
      "    },\n",
      "    \"page_content\": \"Asuransi Syariah dan memenuhi persyaratan untuk \\nmewakili Perusahaan Asuransi atau Perusahaan \\nAsuransi Syariah memasarkan produk asuransi atau \\nproduk asuransi syariah sebagaimana dimaksud \\ndalam Undang-Undang Nomor 40 Tahun 2014 tentang \\nPerasuransian. \\n26. Dana Tabarru\\u2019 adalah kumpulan dana yang berasal \\ndari \\nkontribusi \\npara \\npeserta, \\nyang \\nmekanisme \\npenggunaannya sesuai dengan perjanjian asuransi \\nsyariah \\natau \\nperjanjian \\nreasuransi \\nsyariah \\nsebagaimana dimaksud dalam Undang-Undang Nomor \\n40 Tahun 2014 tentang Perasuransian. \\n27. Dana Tanahud adalah kumpulan dana yang berasal \\ndari kontribusi tanahud, hasil investasi dana tanahud, \\nqardh \\ndari \\nPerusahaan \\nkepada \\ndana \\ntanahud, \\ndan/atau \\ndana \\ntanahud \\ndari \\nreasuradur, \\nyang \\npenggunaannya sesuai dengan perjanjian anuitas \\nsyariah untuk program pensiun atau perjanjian \\nreasuransi \\nsyariah \\natas \\nanuitas \\nsyariah \\nuntuk \\nprogram pensiun. \\n28. Akad Hibah Tanahud adalah akad hibah sejumlah\"\n",
      "  },\n",
      "  {\n",
      "    \"metadata\": {\n",
      "      \"id\": \"doc:ojk:9753b165cefe4545bd316da934499efb\",\n",
      "      \"title\": \"Perubahan Kedua Atas Peraturan Otoritas Jasa Keuangan Nomor 72/POJK.05/2016 Tentang Kesehatan Keuangan Perusahaan Asuransi dan Perusahaan Reasuransi Dengan Prinsip Syariah\",\n",
      "      \"sector\": \"IKNB\",\n",
      "      \"subsector\": \"IKNB Syariah\",\n",
      "      \"regulation_type\": \"Peraturan OJK\",\n",
      "      \"regulation_number\": \"6 TAHUN 2023\",\n",
      "      \"effective_date\": \"6 April 2023\",\n",
      "      \"file_url\": \"https://www.ojk.go.id/id/regulasi/Documents/Pages/Kesehatan-Keuangan-Perusahaan-Asuransi-dan-Perusahaan-Reasuransi-Dengan-Prinsip-Syariah/POJK%20Nomor%206%20Tahun%202023.pdf\",\n",
      "      \"doc_id\": \"166\",\n",
      "      \"page_number\": \"5\",\n",
      "      \"relevance_score\": 0.98347044\n",
      "    },\n",
      "    \"page_content\": \"tanahud, dan/atau dana tanahud dari reasuradur, \\nyang penggunaannya sesuai dengan akad hibah dana \\ntanahud. \\n16. Dana Perusahaan adalah kumpulan dana yang \\ndikelola Perusahaan, selain Dana Tabarru\\u2019, Dana \\nTanahud, dan dana investasi peserta. \\n17. Dana Investasi Peserta adalah dana investasi yang \\nberasal dari kontribusi pemegang polis atau peserta \\npada produk asuransi syariah yang memberikan \\nmanfaat berupa pembayaran dana yang besarnya \\ndidasarkan pada hasil pengelolaan dana. \\n18. Aset \\nYang \\nDiperkenankan \\nadalah \\naset \\nyang \\ndiperhitungkan \\ndalam \\nperhitungan \\ntingkat \\nsolvabilitas. \\n19. Qardh adalah pinjaman dari Dana Perusahaan \\nkepada Dana Tabarru\\u2019 dan/atau Dana Tanahud \\ndalam rangka menanggulangi ketidakcukupan aset \\nDana Tabarru\\u2019 dan/atau Dana Tanahud untuk \\nmembayar \\nsantunan/klaim/manfaat \\nkepada \\npemegang polis atau peserta. \\n20. Aset Yang Tersedia Untuk Qardh adalah bagian dari \\nAset Yang Diperkenankan dari Dana Perusahaan \\nyang disediakan untuk memberi Qardh kepada Dana\"\n",
      "  },\n",
      "  {\n",
      "    \"metadata\": {\n",
      "      \"id\": \"doc:ojk:59b9c9a6624f4ab7b747495797e8a9fe\",\n",
      "      \"title\": \"Pedoman Pembentukan Penyisihan Teknis bagi Perusahaan Asuransi dan Perusahaan Reasuransi dengan Prinsip Syariah\",\n",
      "      \"sector\": \"IKNB\",\n",
      "      \"subsector\": \"IKNB Syariah,  Asuransi\",\n",
      "      \"regulation_type\": \"Surat Edaran OJK\",\n",
      "      \"regulation_number\": \"28/SEOJK.05/2017\",\n",
      "      \"effective_date\": \"13 Juni 2017\",\n",
      "      \"file_url\": \"https://www.ojk.go.id/id/regulasi/Documents/Pages/SEOJK-Pedoman-Pembentukan-Penyisihan-Teknis-bagi-Perusahaan-Asuransi-dan-Perusahaan-Reasuransi-dengan-Prinsip-Syariah/seojk%2028-2017.pdf\",\n",
      "      \"doc_id\": \"981\",\n",
      "      \"page_number\": \"2\",\n",
      "      \"relevance_score\": 0.97923523\n",
      "    },\n",
      "    \"page_content\": \"syariah atas risiko yang dihadapi oleh Perusahaan Asuransi \\nSyariah, \\nperusahaan \\npenjaminan \\nsyariah, \\natau \\nPerusahaan \\nReasuransi \\nSyariah \\nlainnya, \\ntermasuk \\nUnit \\nSyariah \\ndari \\nperusahaan reasuransi. \\n7\\n. \\nDana Tabarru\\u2019 adalah kumpulan dana yang berasal dari kontribusi \\npara pemegang polis atau peserta, yang mekanisme penggunaannya \\nsesuai \\ndengan \\nperjanjian \\nasuransi \\nsyariah \\natau \\nperjanjian \\nreasuransi syariah sebagaimana dimaksud dalam Undang-Undang \\nNomor 40 Tahun 2014 tentang Perasuransian. \\n8\\n. \\nDana Tanahud adalah kumpulan dana yang berasal dari kontribusi \\npara pemegang   polis   atau   peserta anuitas program pensiun \\nsyariah, qardh dari dana perusahaan, dan/atau Dana Tanahud dari \\nreasuransi atas produk anuitas program pensiun syariah, beserta \\nhasil investasinya, yang penggunaannya sesuai dengan perjanjian   \\nanuitas   syariah   untuk   program   pensiun atau perjanjian \\nreasuransi syariah atas anuitas syariah untuk program pensiun. \\n9\\n. \\nDana \\nPerusahaan \\nadalah\"\n",
      "  },\n",
      "  {\n",
      "    \"metadata\": {\n",
      "      \"id\": \"doc:ojk:d71206d08aa14611b521bc2244feabd6\",\n",
      "      \"title\": \"POJK tentang Kesehatan Keuangan Perusahaan Asuransi dan Perusahaan Reasuransi dengan Prinsip Syariah\",\n",
      "      \"sector\": \"IKNB,  Syariah\",\n",
      "      \"subsector\": \"IKNB Syariah,  Asuransi\",\n",
      "      \"regulation_type\": \"Peraturan OJK\",\n",
      "      \"regulation_number\": \"72/POJK.05/2016\",\n",
      "      \"effective_date\": \"28 Desember 2016\",\n",
      "      \"file_url\": \"https://www.ojk.go.id/id/regulasi/Documents/Pages/POJK-tentang-Kesehatan-Keuangan-Perusahaan-Asuransi-dan-Perusahaan-Reasuransi-dengan-Prinsip-Syariah/pojk%2072-2016.pdf\",\n",
      "      \"doc_id\": \"1057\",\n",
      "      \"page_number\": \"4\",\n",
      "      \"relevance_score\": 0.97724086\n",
      "    },\n",
      "    \"page_content\": \"13. Surplus \\nUnderwriting \\nadalah \\nselisih \\nlebih \\ntotal \\nkontribusi pemegang polis atau peserta ke dalam dana \\ntabarru\\u2019 ditambah total recovery klaim dari reasuradur \\ndikurangi \\npembayaran \\nsantunan/klaim/manfaat, \\nkontribusi reasuransi, dan kenaikan penyisihan teknis, \\ndalam satu periode tertentu. \\n14. Dana Tabarru\\u2019 adalah kumpulan dana yang berasal \\ndari kontribusi para pemegang polis atau peserta, yang \\nmekanisme penggunaannya sesuai dengan perjanjian \\nasuransi syariah atau perjanjian reasuransi syariah \\nsebagaimana dimaksud dalam Undang-Undang Nomor \\n40 Tahun 2014 tentang Perasuransian. \\n15. Dana Tanahud adalah kumpulan dana yang berasal \\ndari kontribusi para pemegang polis atau peserta \\nanuitas program pensiun syariah, qardh dari dana \\nperusahaan, dan/atau Dana Tanahud dari reasuransi \\natas produk anuitas program pensiun syariah, beserta \\nhasil investasinya, yang penggunaannya sesuai dengan \\nperjanjian anuitas syariah untuk program pensiun\"\n",
      "  },\n",
      "  {\n",
      "    \"metadata\": {\n",
      "      \"id\": \"doc:ojk:b718bb30240a46a28625bab14f6cddce\",\n",
      "      \"title\": \"Bentuk dan Susunan Laporan Berkala Perusahaan Asuransi Syariah, Perusahaan Reasuransi Syariah, dan Unit Syariah\",\n",
      "      \"sector\": \"IKNB\",\n",
      "      \"subsector\": \"IKNB Syariah,  Asuransi\",\n",
      "      \"regulation_type\": \"Surat Edaran OJK\",\n",
      "      \"regulation_number\": \"2/SEOJK.05/2018\",\n",
      "      \"effective_date\": \"24 Januari 2018\",\n",
      "      \"file_url\": \"https://www.ojk.go.id/id/regulasi/Documents/Pages/Bentuk-dan-Susunan-Laporan-Berkala-Perusahaan-Asuransi-Syariah,-Perusahaan-Reasuransi-Syariah,-dan-Unit-Syariah/SEOJK%202-2018.pdf\",\n",
      "      \"doc_id\": \"842\",\n",
      "      \"page_number\": \"109\",\n",
      "      \"relevance_score\": 0.7354517\n",
      "    },\n",
      "    \"page_content\": \"Dana Tanahud , Dana Perusahaan, dan Dana Investasi Peserta PT ....., maka dengan ini Dewan\\nPengawas Syariah PT ..... menyatakan bahwa pengelolaan kekayaan dan kewajiban Dana Tabarru',  \\nDana Tanahud, Dana Perusahaan , dan Dana Investasi Peserta telah dilakukan sesuai prinsip Syariah\\nIslam.\\n-102-\"\n",
      "  },\n",
      "  {\n",
      "    \"metadata\": {\n",
      "      \"id\": \"doc:ojk:7698037e7d634bdd9bb7fb77155742a7\",\n",
      "      \"title\": \"POJK tentang Kesehatan Keuangan Perusahaan Asuransi dan Perusahaan Reasuransi dengan Prinsip Syariah\",\n",
      "      \"sector\": \"IKNB,  Syariah\",\n",
      "      \"subsector\": \"IKNB Syariah,  Asuransi\",\n",
      "      \"regulation_type\": \"Peraturan OJK\",\n",
      "      \"regulation_number\": \"72/POJK.05/2016\",\n",
      "      \"effective_date\": \"28 Desember 2016\",\n",
      "      \"file_url\": \"https://www.ojk.go.id/id/regulasi/Documents/Pages/POJK-tentang-Kesehatan-Keuangan-Perusahaan-Asuransi-dan-Perusahaan-Reasuransi-dengan-Prinsip-Syariah/pojk%2072-2016.pdf\",\n",
      "      \"doc_id\": \"1057\",\n",
      "      \"page_number\": \"37\",\n",
      "      \"relevance_score\": 0.22236222\n",
      "    },\n",
      "    \"page_content\": \"Dana Tabarru\\u2019 dan Dana Tanahud yang dapat terjadi \\ndi masa yang akan datang dengan menggunakan \\nasumsi estimasi sentral ditambah dengan marjin \\nrisiko. \\n(3) \\nPembentukan penyisihan atas kontribusi tabarru\\u2019 \\nyang \\nbelum \\nmerupakan \\npendapatan \\natau \\nhak \\nsebagaimana dimaksud pada ayat (1) huruf b wajib \\ndihitung berdasarkan kontribusi tabarru\\u2019 dengan \\nmemperhitungkan penyisihan atas seluruh risiko yang \\nbelum dijalani (unexpired risk reserve).\"\n",
      "  }\n",
      "]\n"
     ]
    }
   ],
   "source": [
    "print(response['context'])"
   ]
  },
  {
   "cell_type": "markdown",
   "metadata": {},
   "source": [
    "#### **Streaming**"
   ]
  },
  {
   "cell_type": "code",
   "execution_count": null,
   "metadata": {},
   "outputs": [
    {
     "name": "stdout",
     "output_type": "stream",
     "text": [
      "Saya minta maaf, tetapi pertanyaan yang Anda ajukan tidak terkait dengan konteks dan informasi metadata yang diberikan. Silakan ajukan pertanyaan lain yang terkait dengan kepatuhan perbankan di Indonesia."
     ]
    }
   ],
   "source": [
    "# from chain.rag_chain import print_answer_stream\n",
    "\n",
    "# print_answer_stream(chain=chain_history, question=\"Siapa itu lionel messi?\", user_id=USER_ID, conversation_id=CONVERSATION_ID)"
   ]
  }
 ],
 "metadata": {
  "kernelspec": {
   "display_name": "chatbot-all",
   "language": "python",
   "name": "python3"
  },
  "language_info": {
   "codemirror_mode": {
    "name": "ipython",
    "version": 3
   },
   "file_extension": ".py",
   "mimetype": "text/x-python",
   "name": "python",
   "nbconvert_exporter": "python",
   "pygments_lexer": "ipython3",
   "version": "3.9.19"
  }
 },
 "nbformat": 4,
 "nbformat_minor": 2
}

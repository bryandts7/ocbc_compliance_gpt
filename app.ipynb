{
 "cells": [
  {
   "cell_type": "markdown",
   "metadata": {},
   "source": [
    "# **Compliance GPT with LangChain**"
   ]
  },
  {
   "cell_type": "markdown",
   "metadata": {},
   "source": [
    "## **Setup**"
   ]
  },
  {
   "cell_type": "code",
   "execution_count": 1,
   "metadata": {},
   "outputs": [
    {
     "data": {
      "text/plain": [
       "True"
      ]
     },
     "execution_count": 1,
     "metadata": {},
     "output_type": "execute_result"
    }
   ],
   "source": [
    "from dotenv import load_dotenv\n",
    "load_dotenv()"
   ]
  },
  {
   "cell_type": "markdown",
   "metadata": {},
   "source": [
    "## **Config**"
   ]
  },
  {
   "cell_type": "code",
   "execution_count": 2,
   "metadata": {},
   "outputs": [],
   "source": [
    "from utils.config import get_config\n",
    "from utils.models import ModelName, get_model\n",
    "\n",
    "config = get_config()"
   ]
  },
  {
   "cell_type": "code",
   "execution_count": 7,
   "metadata": {},
   "outputs": [],
   "source": [
    "USER_ID = 'xmriz'\n",
    "CONVERSATION_ID = 'xmriz-2021-07-01-01'"
   ]
  },
  {
   "cell_type": "markdown",
   "metadata": {},
   "source": [
    "## **Define Model**"
   ]
  },
  {
   "cell_type": "code",
   "execution_count": 3,
   "metadata": {},
   "outputs": [],
   "source": [
    "model_name = ModelName.AZURE_OPENAI\n",
    "llm_model, embed_model = get_model(model_name=model_name, config=config)"
   ]
  },
  {
   "cell_type": "markdown",
   "metadata": {},
   "source": [
    "## **Load Vector Store Index**"
   ]
  },
  {
   "cell_type": "code",
   "execution_count": 4,
   "metadata": {},
   "outputs": [
    {
     "name": "stderr",
     "output_type": "stream",
     "text": [
      "c:\\Users\\acer\\miniconda3\\envs\\chatbot-all\\lib\\site-packages\\pinecone\\data\\index.py:1: TqdmWarning: IProgress not found. Please update jupyter and ipywidgets. See https://ipywidgets.readthedocs.io/en/stable/user_install.html\n",
      "  from tqdm.autonotebook import tqdm\n"
     ]
    }
   ],
   "source": [
    "from databases.vector_store import RedisIndexManager\n",
    "\n",
    "redis = RedisIndexManager(index_name='ojk', embed_model=embed_model, config=config)\n",
    "vector_store = redis.load_vector_index()"
   ]
  },
  {
   "cell_type": "markdown",
   "metadata": {},
   "source": [
    "## **Get Retriever**"
   ]
  },
  {
   "cell_type": "code",
   "execution_count": 5,
   "metadata": {},
   "outputs": [],
   "source": [
    "from retriever.retriever_ojk import get_retriever_ojk\n",
    "\n",
    "retriever = get_retriever_ojk(vector_store=vector_store, top_n=7, top_k=20, llm_model=llm_model, embed_model=embed_model, config=config)"
   ]
  },
  {
   "cell_type": "markdown",
   "metadata": {},
   "source": [
    "## **Create Chain**"
   ]
  },
  {
   "cell_type": "code",
   "execution_count": 6,
   "metadata": {},
   "outputs": [],
   "source": [
    "from constant.ojk.prompt import CONTEXTUALIZE_Q_PROMPT_STR, QA_SYSTEM_PROMPT_STR\n",
    "from databases.chat_store import MongoDBChatStore, RedisChatStore\n",
    "from rag_chain import create_chain_with_chat_history\n",
    "\n",
    "chat_store = RedisChatStore(k=5, config=config)\n",
    "\n",
    "chain = create_chain_with_chat_history(\n",
    "    contextualize_q_prompt_str=CONTEXTUALIZE_Q_PROMPT_STR,\n",
    "    qa_system_prompt_str=QA_SYSTEM_PROMPT_STR,\n",
    "    retriever=retriever,\n",
    "    llm_model=llm_model,\n",
    "    chat_store=chat_store\n",
    ")"
   ]
  },
  {
   "cell_type": "markdown",
   "metadata": {},
   "source": [
    "## **Invoke**"
   ]
  },
  {
   "cell_type": "markdown",
   "metadata": {},
   "source": [
    "#### **With Question, Answer, and Context**"
   ]
  },
  {
   "cell_type": "code",
   "execution_count": 19,
   "metadata": {},
   "outputs": [
    {
     "data": {
      "text/plain": [
       "{'rewrited question': 'Apa yang diatur oleh peraturan pasar modal?',\n",
       " 'answer': 'Peraturan pasar modal mengatur tentang ketentuan umum, dasar penilaian investasi dana pensiun, dan ketentuan',\n",
       " 'context': '[\\n  {\\n    \"metadata\": {\\n      \"id\": \"doc:ojk:267dadf3bfc44d2bb31fb2075c7d6c9c\",\\n      \"title\": \"Dasar Penilaian Investasi Dana Pensiun\",\\n      \"sector\": \"IKNB\",\\n      \"subsector\": \"Dana Pensiun\",\\n      \"regulation_type\": \"Surat Edaran OJK\",\\n      \"regulation_number\": \"4/SEOJK.05/2024\",\\n      \"effective_date\": \"1 Juli 2024\",\\n      \"file_url\": \"https://www.ojk.go.id/id/regulasi/Documents/Pages/Dasar-Penilaian-Investasi-Dana-Pensiun/FAQ%20SEOJK%204-SEOJK.05-2024%20Dasar%20Penilaian%20Investasi%20Dana%20Pensiun.pdf\",\\n      \"doc_id\": \"3\",\\n      \"page_number\": \"1\",\\n      \"relevance_score\": 0.2791402\\n    },\\n    \"page_content\": \"2. \\\\nApa saja yang diatur dalam SEOJK ini? \\\\nPokok-pokok perubahan pengaturan dalam SEOJK ini meliputi: \\\\n1. \\\\nKetentuan Umum \\\\n2. \\\\nDasar Penilaian Investasi Dana Pensiun \\\\n3. \\\\nKetentuan Penutup \\\\n \\\\n3. \\\\nApa saja jenis investasi yang diatur dalam SEOJK ini yang menjadi dasar \\\\nbagi industri untuk melakukan penilaian? \\\\n1. \\\\ndeposito on call; \\\\n2. \\\\ndeposito berjangka; \\\\n3. \\\\nsertifikat deposito; \\\\n4. \\\\nsurat berharga; \\\\n5. \\\\nSurat Berharga Negara; \\\\n6. \\\\nsaham; \\\\n7. \\\\nobligasi korporasi; \\\\n8. \\\\nreksa dana; \\\\n9. \\\\nMTN; \\\\n10. efek beragun aset; \\\\n11. dana investasi real estat berbentuk kontrak investasi kolektif; \\\\n12. kontrak opsi dan kontrak berjangka efek yang diperdagangkan; \\\\n13. REPO;\"\\n  },\\n  {\\n    \"metadata\": {\\n      \"id\": \"doc:ojk:82a079b2d7e2445399d3d6acbd0676a8\",\\n      \"title\": \"Dasar Penilaian Investasi Dana Pensiun\",\\n      \"sector\": \"IKNB\",\\n      \"subsector\": \"Dana Pensiun\",\\n      \"regulation_type\": \"Surat Edaran OJK\",\\n      \"regulation_number\": \"4/SEOJK.05/2024\",\\n      \"effective_date\": \"1 Juli 2024\",\\n      \"file_url\": \"https://www.ojk.go.id/id/regulasi/Documents/Pages/Dasar-Penilaian-Investasi-Dana-Pensiun/SEOJK%204-SEOJK.05-2024%20Dasar%20Penilaian%20Investasi%20Dana%20Pensiun.pdf\",\\n      \"doc_id\": \"1\",\\n      \"page_number\": \"1\",\\n      \"relevance_score\": 0.17752552\\n    },\\n    \"page_content\": \"dalam bentuk simpanan dan menyalurkannya kepada masyarakat \\\\ndalam bentuk kredit atau pembiayaan dan/atau bentuk lainnya \\\\ndalam rangka meningkatkan taraf hidup rakyat sebagaimana \\\\ndimaksud dalam undang-undang mengenai perbankan. \\\\n8. \\\\nBursa Efek adalah penyelenggara pasar di pasar modal untuk \\\\ntransaksi bursa.\"\\n  },\\n  {\\n    \"metadata\": {\\n      \"id\": \"doc:ojk:322e2b545be84d2391bd0e98bf469e9b\",\\n      \"title\": \"Dasar Penilaian Investasi Dana Pensiun\",\\n      \"sector\": \"IKNB\",\\n      \"subsector\": \"Dana Pensiun\",\\n      \"regulation_type\": \"Surat Edaran OJK\",\\n      \"regulation_number\": \"4/SEOJK.05/2024\",\\n      \"effective_date\": \"1 Juli 2024\",\\n      \"file_url\": \"https://www.ojk.go.id/id/regulasi/Documents/Pages/Dasar-Penilaian-Investasi-Dana-Pensiun/FAQ%20SEOJK%204-SEOJK.05-2024%20Dasar%20Penilaian%20Investasi%20Dana%20Pensiun.pdf\",\\n      \"doc_id\": \"3\",\\n      \"page_number\": \"1\",\\n      \"relevance_score\": 0.06489012\\n    },\\n    \"page_content\": \"Keuangan Nomor 27 Tahun 2023 tentang Penyelenggaraan Usaha Dana \\\\nPensiun yang menyebabkan perlunya penyempurnaan pengaturan terkait \\\\ndasar penilaian investasi bagi industri dana pensiun. \\\\nb. \\\\nKetentuan yang diatur dalam SEOJK Nomor 9/SEOJK.05/2016 tentang \\\\nDasar Penilaian Investasi Dana Pensiun, Bentuk dan Susunan serta Tata \\\\nCara Penyampaian Laporan Investasi Tahunan Dana Pensiun (SEOJK \\\\n9/2016) sudah tidak relevan dikarenakan substansi pengaturan yang \\\\nsalah satunya mengatur mengenai bentuk, susunan serta tata cara \\\\npenyampaian laporan investasi tahunan dana pensiun telah dicabut \\\\ndengan terbitnya SEOJK Nomor 3/SEOJK.05/2019 tentang Bentuk dan \\\\nSusunan Laporan Berkala Dana Pensiun, sehingga SEOJK 9/2016 perlu \\\\ndicabut.  \\\\n \\\\n2. \\\\nApa saja yang diatur dalam SEOJK ini? \\\\nPokok-pokok perubahan pengaturan dalam SEOJK ini meliputi: \\\\n1. \\\\nKetentuan Umum \\\\n2. \\\\nDasar Penilaian Investasi Dana Pensiun \\\\n3. \\\\nKetentuan Penutup \\\\n \\\\n3.\"\\n  },\\n  {\\n    \"metadata\": {\\n      \"id\": \"doc:ojk:c420c81c40da43aba125bd75e9dc7fc0\",\\n      \"title\": \"Dasar Penilaian Investasi Dana Pensiun\",\\n      \"sector\": \"IKNB\",\\n      \"subsector\": \"Dana Pensiun\",\\n      \"regulation_type\": \"Surat Edaran OJK\",\\n      \"regulation_number\": \"4/SEOJK.05/2024\",\\n      \"effective_date\": \"1 Juli 2024\",\\n      \"file_url\": \"https://www.ojk.go.id/id/regulasi/Documents/Pages/Dasar-Penilaian-Investasi-Dana-Pensiun/SEOJK%204-SEOJK.05-2024%20Dasar%20Penilaian%20Investasi%20Dana%20Pensiun.pdf\",\\n      \"doc_id\": \"1\",\\n      \"page_number\": \"2\",\\n      \"relevance_score\": 0.0043483814\\n    },\\n    \"page_content\": \"1) \\\\nReksa Dana pasar uang, Reksa Dana pendapatan tetap, \\\\nReksa Dana campuran, dan Reksa Dana saham berdasar \\\\nnilai aktiva bersih; \\\\n2) \\\\nReksa Dana terproteksi, Reksa Dana dengan penjaminan, \\\\ndan Reksa Dana indeks berdasar nilai aktiva bersih; \\\\n3) \\\\nReksa \\\\nDana \\\\nberbentuk \\\\nkontrak \\\\ninvestasi \\\\nkolektif \\\\npenyertaan terbatas berdasar nilai aktiva bersih; dan \\\\n4) \\\\nReksa Dana yang saham atau unit penyertaannya \\\\ndiperdagangkan di Bursa Efek di Indonesia berdasar nilai \\\\npasar dengan menggunakan informasi harga penutupan \\\\nterakhir di Bursa Efek di Indonesia; \\\\ni. \\\\nMTN berdasar: \\\\n1) \\\\nnilai wajar yang ditetapkan oleh lembaga penilaian harga \\\\nefek yang telah memperoleh izin usaha dari Otoritas Jasa \\\\nKeuangan atau lembaga penilaian harga efek yang telah\"\\n  },\\n  {\\n    \"metadata\": {\\n      \"id\": \"doc:ojk:7500e1b16f2f481eb649c940e2314521\",\\n      \"title\": \"Dasar Penilaian Investasi Dana Pensiun\",\\n      \"sector\": \"IKNB\",\\n      \"subsector\": \"Dana Pensiun\",\\n      \"regulation_type\": \"Surat Edaran OJK\",\\n      \"regulation_number\": \"4/SEOJK.05/2024\",\\n      \"effective_date\": \"1 Juli 2024\",\\n      \"file_url\": \"https://www.ojk.go.id/id/regulasi/Documents/Pages/Dasar-Penilaian-Investasi-Dana-Pensiun/SEOJK%204-SEOJK.05-2024%20Dasar%20Penilaian%20Investasi%20Dana%20Pensiun.pdf\",\\n      \"doc_id\": \"1\",\\n      \"page_number\": \"2\",\\n      \"relevance_score\": 0.003692853\\n    },\\n    \"page_content\": \"nilai pasar; \\\\ne. \\\\nSurat Berharga Negara berdasar: \\\\n1) \\\\nnilai pasar dengan menggunakan informasi harga \\\\npenutupan terakhir di Bursa Efek di Indonesia atau nilai \\\\nwajar yang ditetapkan oleh lembaga penilaian harga efek \\\\nyang telah memperoleh izin usaha dari Otoritas Jasa \\\\nKeuangan atau lembaga penilaian harga efek yang telah \\\\ndiakui \\\\nsecara \\\\ninternasional, \\\\ndengan \\\\ntetap \\\\nmempertimbangkan kewajaran atas nilai yang digunakan; \\\\natau \\\\n2) \\\\nnilai perolehan yang diamortisasi (amortized cost), yaitu \\\\ndalam \\\\nhal \\\\nSurat \\\\nBerharga \\\\nNegara \\\\nmemiliki \\\\nnilai \\\\npenebusan tetap (fixed redemption value) dan diperoleh \\\\nuntuk dipadukan dengan kewajiban pembayaran manfaat \\\\npensiun, atau bagian spesifik dari program pensiun; \\\\nf. \\\\nsaham yang tercatat di Bursa Efek di Indonesia berdasar nilai \\\\npasar dengan menggunakan informasi harga penutupan \\\\nterakhir di Bursa Efek di Indonesia; \\\\ng. \\\\nobligasi korporasi yang tercatat di Bursa Efek di Indonesia \\\\nberdasar: \\\\n1) \\\\nnilai pasar dengan menggunakan informasi harga\"\\n  },\\n  {\\n    \"metadata\": {\\n      \"id\": \"doc:ojk:eb81c2d4126246dba41be1052a1947f7\",\\n      \"title\": \"Tata Cara dan Mekanisme Penyampaian Data Transaksi Pendanaan dan Pelaporan Penyelenggara Layanan Pendanaan Bersama Berbasis Teknologi Informasi (LPBBTI)\",\\n      \"sector\": \"IKNB\",\\n      \"subsector\": \"Peraturan Lainnya\",\\n      \"regulation_type\": \"Surat Edaran OJK\",\\n      \"regulation_number\": \"1/SEOJK.06/2024\",\\n      \"effective_date\": \"1 Juli 2024\",\\n      \"file_url\": \"https://www.ojk.go.id/id/regulasi/Documents/Pages/Tata-Cara-dan-Mekanisme-Penyampaian-Data-Transaksi-Pendanaan-dan-Pelaporan-Penyelenggara-Layanan-Pendanaan-Bersama-Berbasis/SEOJK%201-SEOJK.06-2024%20Tata%20Cara%20dan%20Mekanisme%20Penyampaian%20Data%20Transaksi%20Pendanaan%20dan%20Pelaporan%20Penyelenggara%20LPBBTI.pdf\",\\n      \"doc_id\": \"4\",\\n      \"page_number\": \"1\",\\n      \"relevance_score\": 0.0033504234\\n    },\\n    \"page_content\": \"SALINAN \\\\nSURAT EDARAN OTORITAS JASA KEUANGAN \\\\nREPUBLIK INDONESIA \\\\nNOMOR 1/SEOJK.06/2024 \\\\nTENTANG \\\\nTATA CARA DAN MEKANISME PANYAMPAIAN DATA TRANSAKSI \\\\nPENDANAAN DAN PELAPORAN PENYELENGGARA \\\\nLAYANAN PENDANAAN BERSAMA BERBASIS TEKNOLOGI INFORMASI \\\\n \\\\nSehubungan dengan amanat Pasal 44 ayat (2) dan Pasal 66 ayat (11) \\\\nPeraturan Otoritas Jasa Keuangan Nomor 10/POJK.05/2022 tentang \\\\nLayanan Pendanaan Bersama Berbasis Teknologi Informasi (Lembaran \\\\nNegara Republik Indonesia Tahun 2022 Nomor 2/OJK, Tambahan Lembaran \\\\nNegara Republik Indonesia Nomor 2/OJK), perlu untuk mengatur ketentuan \\\\nmengenai tata cara dan mekanisme penyampaian data transaksi pendanaan \\\\ndan pelaporan bagi Penyelenggara Layanan Pendanaan Bersama Berbasis \\\\nTeknologi Informasi dalam Surat Edaran Otoritas Jasa Keuangan sebagai \\\\nberikut: \\\\n \\\\nI. \\\\nKETENTUAN UMUM \\\\nDalam Surat Edaran Otoritas Jasa Keuangan ini yang dimaksud dengan: \\\\n1. \\\\nLayanan Pendanaan Bersama Berbasis Teknologi Informasi yang\"\\n  },\\n  {\\n    \"metadata\": {\\n      \"id\": \"doc:ojk:3d5da4bf32c24ad5887cdbf9a438c357\",\\n      \"title\": \"Tata Cara dan Mekanisme Penyampaian Data Transaksi Pendanaan dan Pelaporan Penyelenggara Layanan Pendanaan Bersama Berbasis Teknologi Informasi (LPBBTI)\",\\n      \"sector\": \"IKNB\",\\n      \"subsector\": \"Peraturan Lainnya\",\\n      \"regulation_type\": \"Surat Edaran OJK\",\\n      \"regulation_number\": \"1/SEOJK.06/2024\",\\n      \"effective_date\": \"1 Juli 2024\",\\n      \"file_url\": \"https://www.ojk.go.id/id/regulasi/Documents/Pages/Tata-Cara-dan-Mekanisme-Penyampaian-Data-Transaksi-Pendanaan-dan-Pelaporan-Penyelenggara-Layanan-Pendanaan-Bersama-Berbasis/SEOJK%201-SEOJK.06-2024%20Tata%20Cara%20dan%20Mekanisme%20Penyampaian%20Data%20Transaksi%20Pendanaan%20dan%20Pelaporan%20Penyelenggara%20LPBBTI.pdf\",\\n      \"doc_id\": \"4\",\\n      \"page_number\": \"78\",\\n      \"relevance_score\": 0.00039204178\\n    },\\n    \"page_content\": \"metadata={\\'doc_id\\': 4, \\'title\\': \\'Tata Cara dan Mekanisme Penyampaian Data Transaksi Pendanaan dan Pelaporan Penyelenggara Layanan Pendanaan Bersama Berbasis Teknologi Informasi (LPBBTI)\\', \\'sector\\': \\'IKNB\\', \\'subsector\\': \\'Peraturan Lainnya\\', \\'regulation_type\\': \\'Surat Edaran OJK\\', \\'regulation_number\\': \\'1/SEOJK.06/2024\\', \\'effective_date\\': \\'1 Juli 2024\\', \\'file_url\\': \\'https://www.ojk.go.id/id/regulasi/Documents/Pages/Tata-Cara-dan-Mekanisme-Penyampaian-Data-Transaksi-Pendanaan-dan-Pelaporan-Penyelenggara-Layanan-Pendanaan-Bersama-Berbasis/SEOJK%201-SEOJK.06-2024%20Tata%20Cara%20dan%20Mekanisme%20Penyampaian%20Data%20Transaksi%20Pendanaan%20dan%20Pelaporan%20Penyelenggara%20LPBBTI.pdf\\', \\'page_number\\': 78}\\\\n- 15 - \\\\n \\\\n \\\\nBAB III  \\\\nAKUNTANSI ASET \\\\n \\\\nA. Pengertian dan Karakteristik \\\\n1. Aset adalah sumber daya yang dikuasai oleh perusahaan sebagai \\\\nakibat dari peristiwa masa lalu dimana manfaat ekonomis di masa \\\\ndepan diharapkan akan diperoleh.\"\\n  }\\n]'}"
      ]
     },
     "execution_count": 19,
     "metadata": {},
     "output_type": "execute_result"
    }
   ],
   "source": [
    "from rag_chain import get_response\n",
    "\n",
    "response = get_response(\n",
    "    chain=chain,\n",
    "    question=\"Apa peraturan tentang pasar modal?\",\n",
    "    user_id=USER_ID,\n",
    "    conversation_id=CONVERSATION_ID\n",
    ")\n",
    "\n",
    "response"
   ]
  },
  {
   "cell_type": "markdown",
   "metadata": {},
   "source": [
    "#### **Streaming**"
   ]
  },
  {
   "cell_type": "code",
   "execution_count": 20,
   "metadata": {},
   "outputs": [
    {
     "name": "stdout",
     "output_type": "stream",
     "text": [
      "Maaf, pertanyaan yang Anda ajukan tidak terkait dengan konteks dan informasi metadata yang diberikan. Silakan ajukan pertanyaan lain yang terkait dengan kepatuhan perbankan di Indonesia."
     ]
    }
   ],
   "source": [
    "from rag_chain import print_answer_stream\n",
    "\n",
    "print_answer_stream(chain=chain, question=\"Siapa itu lionel messi?\", user_id=USER_ID, conversation_id=CONVERSATION_ID)"
   ]
  },
  {
   "cell_type": "markdown",
   "metadata": {},
   "source": [
    "#### **Chat Store Monitor**"
   ]
  },
  {
   "cell_type": "code",
   "execution_count": 21,
   "metadata": {},
   "outputs": [
    {
     "name": "stdout",
     "output_type": "stream",
     "text": [
      "Human: Apa peraturan tentang pasar modal?\n",
      "AI: Peraturan pasar modal mengatur tentang ketentuan umum, dasar penilaian investasi dana pensiun, dan ketentuan\n",
      "Human: Siapa itu lionel messi?\n",
      "AI: Maaf, pertanyaan yang Anda ajukan tidak terkait dengan konteks dan informasi metadata yang diberikan. Silakan ajukan pertanyaan lain yang terkait dengan kepatuhan perbankan di Indonesia.\n"
     ]
    }
   ],
   "source": [
    "# to print chat history\n",
    "print(chat_store.get_session_history(user_id=USER_ID, conversation_id=CONVERSATION_ID))"
   ]
  },
  {
   "cell_type": "code",
   "execution_count": 17,
   "metadata": {},
   "outputs": [],
   "source": [
    "# to make the chat history empty\n",
    "chat_store.clear_all()"
   ]
  }
 ],
 "metadata": {
  "kernelspec": {
   "display_name": "chatbot-all",
   "language": "python",
   "name": "python3"
  },
  "language_info": {
   "codemirror_mode": {
    "name": "ipython",
    "version": 3
   },
   "file_extension": ".py",
   "mimetype": "text/x-python",
   "name": "python",
   "nbconvert_exporter": "python",
   "pygments_lexer": "ipython3",
   "version": "3.9.19"
  }
 },
 "nbformat": 4,
 "nbformat_minor": 2
}

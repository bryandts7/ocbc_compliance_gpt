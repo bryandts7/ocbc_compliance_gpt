{
 "cells": [
  {
   "cell_type": "markdown",
   "metadata": {},
   "source": [
    "# **Compliance GPT with LangChain**"
   ]
  },
  {
   "cell_type": "markdown",
   "metadata": {},
   "source": [
    "## **Setup**"
   ]
  },
  {
   "cell_type": "code",
   "execution_count": 1,
   "metadata": {},
   "outputs": [],
   "source": [
    "# import nest_asyncio\n",
    "# nest_asyncio.apply()"
   ]
  },
  {
   "cell_type": "markdown",
   "metadata": {},
   "source": [
    "## **Config**"
   ]
  },
  {
   "cell_type": "code",
   "execution_count": 2,
   "metadata": {},
   "outputs": [],
   "source": [
    "from utils.config import get_config\n",
    "\n",
    "config = get_config()"
   ]
  },
  {
   "cell_type": "code",
   "execution_count": 3,
   "metadata": {},
   "outputs": [],
   "source": [
    "USER_ID = 'xmriz'\n",
    "CONVERSATION_ID = 'xmriz-2021-07-01-01'"
   ]
  },
  {
   "cell_type": "markdown",
   "metadata": {},
   "source": [
    "## **Define Model**"
   ]
  },
  {
   "cell_type": "code",
   "execution_count": 4,
   "metadata": {},
   "outputs": [],
   "source": [
    "from utils.models import ModelName, LLMModelName, EmbeddingModelName, get_model\n",
    "\n",
    "model_name = ModelName.AZURE_OPENAI\n",
    "llm_model, embed_model = get_model(model_name=model_name, config=config, llm_model_name=LLMModelName.GPT_35_TURBO, embedding_model_name=EmbeddingModelName.EMBEDDING_3_SMALL)"
   ]
  },
  {
   "cell_type": "markdown",
   "metadata": {},
   "source": [
    "## **Load Vector Store Index**"
   ]
  },
  {
   "cell_type": "code",
   "execution_count": 5,
   "metadata": {},
   "outputs": [
    {
     "name": "stderr",
     "output_type": "stream",
     "text": [
      "c:\\Users\\acer\\miniconda3\\envs\\chatbot-ocbc\\lib\\site-packages\\pinecone\\data\\index.py:1: TqdmWarning: IProgress not found. Please update jupyter and ipywidgets. See https://ipywidgets.readthedocs.io/en/stable/user_install.html\n",
      "  from tqdm.autonotebook import tqdm\n"
     ]
    }
   ],
   "source": [
    "from database.vector_store.vector_store import RedisIndexManager, PineconeIndexManager\n",
    "\n",
    "\n",
    "redis_bi = RedisIndexManager(index_name='bi', embed_model=embed_model, config=config, db_id=0)\n",
    "vector_store_bi = redis_bi.load_vector_index()\n",
    "\n",
    "redis_ojk = RedisIndexManager(index_name='ojk', embed_model=embed_model, config=config, db_id=0)\n",
    "vector_store_ojk = redis_ojk.load_vector_index()\n",
    "\n",
    "redis_sikepo_ket = RedisIndexManager(index_name='sikepo-ketentuan-terkait', embed_model=embed_model, config=config, db_id=0)\n",
    "vector_store_ket = redis_sikepo_ket.load_vector_index()\n",
    "\n",
    "redis_sikepo_rek = RedisIndexManager(index_name='sikepo-rekam-jejak', embed_model=embed_model, config=config, db_id=0)\n",
    "vector_store_rek = redis_sikepo_rek.load_vector_index()\n",
    "\n",
    "# pinecone_ojk = PineconeIndexManager(index_name='ojk', embed_model=embed_model, config=config)\n",
    "# vector_store_ojk = pinecone_ojk.load_vector_index()\n",
    "\n",
    "# pinecone_bi = PineconeIndexManager(index_name='bi', embed_model=embed_model, config=config)\n",
    "# vector_store_bi = pinecone_bi.load_vector_index()\n",
    "\n",
    "# pinecone_ket = PineconeIndexManager(index_name='ketentuan-terkait', embed_model=embed_model, config=config)\n",
    "# vector_store_ket = pinecone_ket.load_vector_index()\n",
    "\n",
    "# pinecone_rek = PineconeIndexManager(index_name='rekam-jejak', embed_model=embed_model, config=config)\n",
    "# vector_store_rek = pinecone_rek.load_vector_index()"
   ]
  },
  {
   "cell_type": "code",
   "execution_count": 6,
   "metadata": {},
   "outputs": [],
   "source": [
    "from database.vector_store.neo4j_graph_store import Neo4jGraphStore\n",
    "\n",
    "neo4j_sikepo = Neo4jGraphStore(config=config)\n",
    "graph = neo4j_sikepo.get_graph()"
   ]
  },
  {
   "cell_type": "markdown",
   "metadata": {},
   "source": [
    "## **Get Retriever**"
   ]
  },
  {
   "cell_type": "code",
   "execution_count": 7,
   "metadata": {},
   "outputs": [],
   "source": [
    "from retriever.retriever_ojk.retriever_ojk import get_retriever_ojk\n",
    "from retriever.retriever_bi.retriever_bi import get_retriever_bi\n",
    "from retriever.retriever_sikepo.lotr_sikepo import lotr_sikepo\n",
    "\n",
    "retriever_bi = get_retriever_bi(vector_store=vector_store_bi, top_n=6, top_k=16, llm_model=llm_model, embed_model=embed_model, config=config)\n",
    "retriever_ojk = get_retriever_ojk(vector_store=vector_store_ojk, top_n=6, top_k=16, llm_model=llm_model, embed_model=embed_model, config=config)\n",
    "retriever_sikepo_ket = lotr_sikepo(vector_store=vector_store_ket, llm_model=llm_model, embed_model=embed_model, config=config)\n",
    "retriever_sikepo_rek = lotr_sikepo(vector_store=vector_store_rek, llm_model=llm_model, embed_model=embed_model, config=config)"
   ]
  },
  {
   "cell_type": "code",
   "execution_count": 8,
   "metadata": {},
   "outputs": [],
   "source": [
    "# retriever_ojk.invoke(\"Berapa SWDKLLJ dari ambulans?\")"
   ]
  },
  {
   "cell_type": "markdown",
   "metadata": {},
   "source": [
    "## **Create Chain**"
   ]
  },
  {
   "cell_type": "code",
   "execution_count": 9,
   "metadata": {},
   "outputs": [
    {
     "name": "stdout",
     "output_type": "stream",
     "text": [
      "Database 'ocbc' created successfully.\n",
      "Table 'chat_history' created successfully (if it didn't exist).\n"
     ]
    }
   ],
   "source": [
    "from database.chat_store import RedisChatStore, MongoDBChatStore, PostgresChatStore\n",
    "\n",
    "chat_store = PostgresChatStore(config=config, k=3)\n",
    "# chat_store = RedisChatStore(k=3, config=config, db_id=1)\n",
    "# chat_store = MongoDBChatStore(config=config, k=4)"
   ]
  },
  {
   "cell_type": "code",
   "execution_count": 10,
   "metadata": {},
   "outputs": [],
   "source": [
    "from chain.rag_chain import create_chain_with_chat_history, create_chain\n",
    "from retriever.retriever_sikepo.graph_cypher_retriever import graph_rag_chain\n",
    "\n",
    "\n",
    "graph_chain = graph_rag_chain(llm_model, llm_model, graph=graph)\n",
    "\n",
    "chain = create_chain(\n",
    "    llm_model=llm_model,\n",
    "    graph_chain=graph_chain,\n",
    "    retriever_ojk=retriever_ojk,\n",
    "    retriever_bi=retriever_sikepo_ket,\n",
    "    retriever_sikepo_ketentuan=retriever_sikepo_ket,\n",
    "    retriever_sikepo_rekam=retriever_sikepo_rek,\n",
    ")\n",
    "\n",
    "chain_history = create_chain_with_chat_history(\n",
    "    final_chain=chain,\n",
    "    chat_store=chat_store,\n",
    ")"
   ]
  },
  {
   "cell_type": "markdown",
   "metadata": {},
   "source": [
    "## **Invoke**"
   ]
  },
  {
   "cell_type": "markdown",
   "metadata": {},
   "source": [
    "#### **Chat Store Monitor**"
   ]
  },
  {
   "cell_type": "code",
   "execution_count": 14,
   "metadata": {},
   "outputs": [
    {
     "name": "stdout",
     "output_type": "stream",
     "text": [
      "Human: Berapa SWDKLLJ dari buldozer?\n",
      "AI: SWDKLLJ yang harus dibayarkan untuk buldozer sebesar Rp 20.000,00 (dua puluh ribu rupiah).\n",
      "\n",
      "Sumber: [Peraturan Menteri Keuangan Nomor 36/PMK.010/2008](https://www.ojk.go.id/id/regulasi/Documents/Pages/PMK-Nomor-36PMK.010-Tahun-2008-tentang-Besar-Santunan-dan-Sumbangan-Wajib-Dana-Kecelakaan-Lalu-Lintas-Jalan/menas13_1389258036.pdf#page=4)\n"
     ]
    }
   ],
   "source": [
    "# to print chat history\n",
    "print(chat_store.get_session_history(user_id=USER_ID, conversation_id=CONVERSATION_ID))"
   ]
  },
  {
   "cell_type": "code",
   "execution_count": 12,
   "metadata": {},
   "outputs": [],
   "source": [
    "# to make the chat history empty\n",
    "chat_store.clear_all()"
   ]
  },
  {
   "cell_type": "markdown",
   "metadata": {},
   "source": [
    "#### **With Question, Answer, and Context**"
   ]
  },
  {
   "cell_type": "code",
   "execution_count": 15,
   "metadata": {},
   "outputs": [
    {
     "data": {
      "text/plain": [
       "{'rewrited question': 'Berapa SWDKLLJ yang harus dibayarkan untuk mobil?',\n",
       " 'answer': 'SWDKLLJ yang harus dibayarkan untuk mobil tergantung pada jenis mobil tersebut. Berdasarkan konteks yang diberikan, SWDKLLJ untuk mobil penumpang angkutan umum sampai dengan 1600 cc adalah Rp150.000,00. Untuk bus dan mikro bus bukan angkutan umum adalah Rp150.000,00. Sedangkan untuk bus dan mikro bus angkutan umum, serta mobil penumpang angkutan umum lainnya di atas 1600 cc adalah Rp87.000,00. Untuk truk, mobil tangki, mobil gandengan, mobil barang di atas 2400 cc, truk container, dan sejenisnya adalah Rp160.000,00.\\n\\nSumber: [Peraturan Menteri Keuangan Nomor 36/PMK.010/2008](https://www.ojk.go.id/id/regulasi/Documents/Pages/PMK-Nomor-36PMK.010-Tahun-2008-tentang-Besar-Santunan-dan-Sumbangan-Wajib-Dana-Kecelakaan-Lalu-Lintas-Jalan/menas13_1389258036.pdf#page=4)',\n",
       " 'context': [Document(metadata={'id': 'doc:ojk:f2a71351bb304600a8921ed4cd14f42e', 'title': 'Peraturan Menteri Keuangan Nomor 36/PMK.010/2008 tentang Besar Santunan dan Sumbangan Wajib Dana Kecelakaan Lalu Lintas Jalan', 'sector': 'IKNB', 'subsector': 'Asuransi', 'regulation_type': 'Klasifikasi Bapepam', 'regulation_number': '36/PMK.010/2008', 'effective_date': '26 Februari 2008', 'file_url': 'https://www.ojk.go.id/id/regulasi/Documents/Pages/PMK-Nomor-36PMK.010-Tahun-2008-tentang-Besar-Santunan-dan-Sumbangan-Wajib-Dana-Kecelakaan-Lalu-Lintas-Jalan/menas13_1389258036.pdf', 'doc_id': '1718', 'page_number': '4', 'relevance_score': 0.98076576}, page_content='MENTERI KEUANGAN\\nREPUBLIK INDONESIA\\n-4-\\n Mobil penumpang angkutan umum sampai dengan 1600 cc\\ng. Bus dan mikro bus bukan angkutan umum sebesar Rp150.000,00\\n(seratus lima puluh ribu rupiah).\\nh. Bus dan.mikro bus angkutan umum, serta mobil penumpang\\nangkutan umum lainnya di atas 1600 cc sebesar Rp87.000,00\\n(delapan puluh tujuh ribu rupiah).\\nTruk, mobil tangki, mobil gandengan, mobil barang di atas 2400\\ncc, truk container dan sejenisnya sebesar Rp 160.000,00 (seratus\\n enam puluh ribu rupiah).\\nPasal 5\\nSetiap jenis kendaraan sebagaimana dimaksud dalam Pasal 4, dikenakan\\nbiaya\\n penggantian pembuatan\\n Kartu Dana/Sertifikat sebesar\\nRp 3.000,00 (tiga ribu rupiah).\\nPasal 6\\nTanda Nomor Kendaraan Bermotor sesuai dengan ketentuan\\nperaturan perundang-undangan yang berlaku.\\n2) Dalam hal pembayaran SWDKLLJ dilakukan setelah melewati batas\\n seharusnya dibayar dengan ketentuan denda yang dikenakan paling\\nbesar Rp100.000,00 (seratus ribu rupiah).'),\n",
       "  Document(metadata={'id': 'doc:ojk:a0f062388a8d4c5e983cbecc2652a289', 'title': 'Peraturan Menteri Keuangan Nomor 36/PMK.010/2008 tentang Besar Santunan dan Sumbangan Wajib Dana Kecelakaan Lalu Lintas Jalan', 'sector': 'IKNB', 'subsector': 'Asuransi', 'regulation_type': 'Klasifikasi Bapepam', 'regulation_number': '36/PMK.010/2008', 'effective_date': '26 Februari 2008', 'file_url': 'https://www.ojk.go.id/id/regulasi/Documents/Pages/PMK-Nomor-36PMK.010-Tahun-2008-tentang-Besar-Santunan-dan-Sumbangan-Wajib-Dana-Kecelakaan-Lalu-Lintas-Jalan/menas13_1389258036.pdf', 'doc_id': '1718', 'page_number': '4', 'relevance_score': 0.9084556}, page_content='2) Dalam hal pembayaran SWDKLLJ dilakukan setelah melewati batas\\n seharusnya dibayar dengan ketentuan denda yang dikenakan paling\\nbesar Rp100.000,00 (seratus ribu rupiah).\\n(3) Dalam hal ketentuan mengenai batas waktu sebagaimana dimaksud\\ngeografis daerah setempat, Direksi perusahaan yang ditunjuk untuk\\nmenyelenggarakan Dana Kecelakaan Lalu Lintas Jalan diberi\\nbesarnya denda SWDKLLJ, dengan ketentuan batas waktu dimaksud\\npaling lama 15 (lima belas) hari kerja.'),\n",
       "  Document(metadata={'id': 'doc:ojk:564ad74cb30f4ff38b32df071a718de4', 'title': 'SEOJK tentang Besaran Uang Muka (Down Payment) Pembiayaan Kendaraan Bermotor bagi Perusahaan Pembiayaan', 'sector': 'IKNB', 'subsector': 'Lembaga Pembiayaan', 'regulation_type': 'Surat Edaran OJK', 'regulation_number': '47/SEOJK.05/2016', 'effective_date': '13 Desember 2016', 'file_url': 'https://www.ojk.go.id/id/regulasi/Documents/Pages/SEOJK-tentang-Besaran-Uang-Muka-(Down-Payment)-Pembiayaan-Kendaraan-Bermotor-bagi-Perusahaan-Pembiayaan-2016/SEOJK%20DP%20Pembiayan%20Konvensional.pdf', 'doc_id': '1098', 'page_number': '7', 'relevance_score': 0.004198795}, page_content='jual \\nkendaraan: \\nRp10.000.000,00 \\n– \\nRp500.000,00 \\n= \\nRp9.500.000,00 \\nBagi Perusahaan Pembiayaan yang memenuhi kriteria sebagaimana \\ndimaksud dalam angka romawi II butir 3, Uang Muka (Down Payment) \\nPembiayaan Kendaraan Bermotor yang harus dikenakan dan dibayar \\ntunai sekaligus adalah 15% x Rp9.500.000,00 = Rp1.425.000,00  \\n2. \\nPerhitungan besaran Uang Muka (Down Payment) Pembiayaan \\nKendaraan Bermotor sebagaimana dimaksud dalam angka romawi II \\ntidak termasuk angsuran pertama, biaya survei, provisi, asuransi, \\npenjaminan, fidusia, notaris, atau biaya lainnya. \\nContoh 1 (biaya asuransi, penjaminan, atau biaya lainnya yang dibayar \\ntunai oleh Debitur): \\nHarga kendaraan: Rp10.000.000,00 \\nPotongan harga (discount) dan potongan lainnya yang diberikan: \\nRp500.000,00 \\nBiaya asuransi, penjaminan, atau biaya lainnya yang dibayarkan oleh \\nDebitur secara tunai: Rp1.000.000,00 \\nHarga \\njual \\nkendaraan: \\nRp10.000.000,00 \\n– \\nRp500.000,00 \\n= \\nRp9.500.000,00'),\n",
       "  Document(metadata={'id': 'doc:ojk:44714d57c167423693c58a1879124379', 'title': 'Penyelenggaraan Usaha Perusahaan Pembiayaan Syariah dan Unit Usaha Syariah Perusahaan Pembiayaan', 'sector': 'IKNB', 'subsector': 'IKNB Syariah,  Lembaga Pembiayaan', 'regulation_type': 'Peraturan OJK', 'regulation_number': '10/POJK.05/2019', 'effective_date': '26 Februari 2019', 'file_url': 'https://www.ojk.go.id/id/regulasi/Documents/Pages/Penyelenggaraan-Usaha-Perusahaan-Pembiayaan-Syariah-dan-Unit-Usaha-Syariah-Perusahaan-Pembiayaan/pojk%2010-2019.pdf', 'doc_id': '765', 'page_number': '97', 'relevance_score': 0.0034698907}, page_content='Biaya asuransi syariah, penjaminan syariah, atau biaya lainnya \\nyang dibayarkan oleh Konsumen secara tunai: Rp1.000.000,00  \\nHarga jual kendaraan: Rp10.000.000,00 – Rp500.000,00 = \\nRp9.500.000,00  \\nBagi Perusahaan Pembiayaan Syariah yang memenuhi kriteria \\nsebagaimana dimaksud dalam Pasal 15 ayat (3), Uang Muka \\nPembiayaan Syariah Kendaraan Bermotor roda dua yang harus \\ndikenakan \\ndan \\ndibayar \\ntunai \\nsekaligus \\nadalah \\n10% \\nx \\nRp9.500.000,00 = Rp950.000,00 \\nBiaya yang dibayar oleh Konsumen secara tunai sekaligus (bila \\nbiaya asuransi syariah, penjaminan syariah, atau biaya lainnya \\nyang \\ndibayar \\ntunai \\noleh \\nKonsumen) \\n= \\nuang \\nmuka \\n(Rp950.000,00) + biaya asuransi syariah, penjaminan syariah, \\natau biaya lainnya (Rp1.000.000,00) = Rp1.950.000,00  \\nTotal Pembiayaan Syariah oleh Perusahaan Pembiayaan Syariah \\nkepada Konsumen = harga jual kendaraan (Rp9.500.000,00) – \\nuang muka (Rp950.000,00) = Rp8.550.000,00  \\nContoh 2 (biaya asuransi syariah, penjaminan syariah atau'),\n",
       "  Document(metadata={'id': 'doc:ojk:93a00ffc78ce4525af84134531a5b6f7', 'title': 'SEOJK tentang Besaran Uang Muka (Down Payment) Pembiayaan Kendaraan Bermotor bagi Perusahaan Pembiayaan', 'sector': 'IKNB', 'subsector': 'Lembaga Pembiayaan', 'regulation_type': 'Surat Edaran OJK', 'regulation_number': '47/SEOJK.05/2016', 'effective_date': '13 Desember 2016', 'file_url': 'https://www.ojk.go.id/id/regulasi/Documents/Pages/SEOJK-tentang-Besaran-Uang-Muka-(Down-Payment)-Pembiayaan-Kendaraan-Bermotor-bagi-Perusahaan-Pembiayaan-2016/SEOJK%20DP%20Pembiayan%20Konvensional.pdf', 'doc_id': '1098', 'page_number': '7', 'relevance_score': 0.0032476764}, page_content='Rp500.000,00 \\nBiaya asuransi, penjaminan, atau biaya lainnya yang dibayarkan oleh \\nDebitur secara tunai: Rp1.000.000,00 \\nHarga \\njual \\nkendaraan: \\nRp10.000.000,00 \\n– \\nRp500.000,00 \\n= \\nRp9.500.000,00 \\nBagi Perusahaan Pembiayaan yang memenuhi kriteria sebagaimana \\ndimaksud dalam angka romawi II butir 3, Uang Muka (Down Payment) \\nPembiayaan Kendaraan Bermotor yang harus dikenakan dan dibayar \\ntunai sekaligus adalah 15% x Rp9.500.000,00 = Rp1.425.000,00 \\nDengan demikian, biaya yang dibayar oleh Debitur secara tunai \\nsekaligus (biaya asuransi, penjaminan, atau biaya lainnya yang \\ndibayar tunai oleh Debitur) = uang muka (Rp1.425.000,00) + biaya \\nasuransi, penjaminan, atau biaya lainnya (Rp1.000.000,00) = \\nRp2.425.000,00 \\nTotal pembiayaan oleh Perusahaan Pembiayaan kepada Debitur = \\nharga jual kendaraan (Rp9.500.000,00) – uang muka (Rp1.425.000,00) \\n= Rp8.075.000,00'),\n",
       "  Document(metadata={'id': 'doc:ojk:141b1917fcd445c88e6d9058d6f71982', 'title': 'SEOJK tentang BEsaran Uang Muka (Down Payment) Pembiayaan Kendaraan Bermotor untuk Pembiayaan Syariah', 'sector': 'IKNB', 'subsector': 'IKNB Syariah,  Lembaga Pembiayaan,  Lembaga Jasa Keuangan Khusus,  Lembaga Keuangan Mikro', 'regulation_type': 'Surat Edaran OJK', 'regulation_number': '20/SEOJK.05/2015', 'effective_date': '30 Juni 2015', 'file_url': 'https://www.ojk.go.id/id/regulasi/Documents/Pages/SEOJK-tentang-BEsaran-Uang-Muka-(Down-Payment)-Pembiayaan-Kendaraan-Bermotor-untuk-Pembiayaan-Syariah/SEOJK-nomor-20-seojk-05-2015.pdf', 'doc_id': '1350', 'page_number': '6', 'relevance_score': 0.0009735438}, page_content='dibayar tunai oleh Konsumen): \\nHarga motor: Rp10.000.000,00 \\nPotongan harga (discount) dan potongan lainnya yang diberikan: \\nRp500.000,00 \\nBiaya asuransi, penjaminan, atau biaya lainnya yang dibayarkan \\noleh Konsumen secara tunai: Rp1.000.000,00  \\nHarga jual kendaraan: Rp10.000.000,00 – Rp500.000,00 = \\nRp9.500.000,00 \\nUang Muka (Down \\nPayment/Urbun) Pembiayaan Kendaraan \\nBermotor yang harus dikenakan dan dibayar tunai sekaligus \\nadalah 10%  x  Rp9.500.000,00 = Rp950.000,00 \\nBiaya yang dibayar oleh Konsumen secara tunai sekaligus (bila \\nbiaya asuransi, penjaminan, atau biaya lainnya yang dibayar tunai \\noleh ...')]}"
      ]
     },
     "execution_count": 15,
     "metadata": {},
     "output_type": "execute_result"
    }
   ],
   "source": [
    "from chain.rag_chain import get_response\n",
    "\n",
    "response = get_response(\n",
    "    chain=chain_history,\n",
    "    question=\"Kalau mobil?\",\n",
    "    user_id=USER_ID,\n",
    "    conversation_id=CONVERSATION_ID\n",
    ")\n",
    "\n",
    "response"
   ]
  },
  {
   "cell_type": "code",
   "execution_count": 15,
   "metadata": {},
   "outputs": [
    {
     "name": "stdout",
     "output_type": "stream",
     "text": [
      "Dana Tanahud adalah kumpulan dana yang berasal dari kontribusi tanahud, hasil investasi dana tanahud, qardh dari Perusahaan kepada dana tanahud, dan/atau dana tanahud dari reasuradur, yang penggunaannya sesuai dengan perjanjian anuitas syariah untuk program pensiun atau perjanjian reasuransi syariah atas anuitas syariah untuk program pensiun.\n",
      "\n",
      "Source: [POJK tentang Penyelenggaraan Usaha Perusahaan Asuransi, Perusahaan Asuransi Syariah, Perusahaan Reasuransi, dan Perusahaan Reasuransi Syariah](https://www.ojk.go.id/id/regulasi/Documents/Pages/POJK-tentang--Penyelenggaraan-Usaha-Perusahaan-Asuransi,-Asuransi-Syariah,-Reasuransi,-dan-Reasuransi-Syariah/pojk%2069-2016.pdf#page=7)\n"
     ]
    }
   ],
   "source": [
    "print(response['answer'])\n"
   ]
  },
  {
   "cell_type": "code",
   "execution_count": 16,
   "metadata": {},
   "outputs": [
    {
     "name": "stdout",
     "output_type": "stream",
     "text": [
      "[\n",
      "  {\n",
      "    \"metadata\": {\n",
      "      \"id\": \"doc:ojk:35dce9bb283f49048c149b24356c12e0\",\n",
      "      \"title\": \"POJK tentang Penyelenggaraan Usaha Perusahaan Asuransi, Perusahaan Asuransi Syariah, Perusahaan Reasuransi, dan Perusahaan Reasuransi Syariah\",\n",
      "      \"sector\": \"IKNB,  Syariah\",\n",
      "      \"subsector\": \"IKNB Syariah,  Asuransi\",\n",
      "      \"regulation_type\": \"Peraturan OJK\",\n",
      "      \"regulation_number\": \"69/POJK.05/2016\",\n",
      "      \"effective_date\": \"28 Desember 2016\",\n",
      "      \"file_url\": \"https://www.ojk.go.id/id/regulasi/Documents/Pages/POJK-tentang--Penyelenggaraan-Usaha-Perusahaan-Asuransi,-Asuransi-Syariah,-Reasuransi,-dan-Reasuransi-Syariah/pojk%2069-2016.pdf\",\n",
      "      \"doc_id\": \"1060\",\n",
      "      \"page_number\": \"7\",\n",
      "      \"relevance_score\": 0.9914557\n",
      "    },\n",
      "    \"page_content\": \"Asuransi Syariah dan memenuhi persyaratan untuk \\nmewakili Perusahaan Asuransi atau Perusahaan \\nAsuransi Syariah memasarkan produk asuransi atau \\nproduk asuransi syariah sebagaimana dimaksud \\ndalam Undang-Undang Nomor 40 Tahun 2014 tentang \\nPerasuransian. \\n26. Dana Tabarru\\u2019 adalah kumpulan dana yang berasal \\ndari \\nkontribusi \\npara \\npeserta, \\nyang \\nmekanisme \\npenggunaannya sesuai dengan perjanjian asuransi \\nsyariah \\natau \\nperjanjian \\nreasuransi \\nsyariah \\nsebagaimana dimaksud dalam Undang-Undang Nomor \\n40 Tahun 2014 tentang Perasuransian. \\n27. Dana Tanahud adalah kumpulan dana yang berasal \\ndari kontribusi tanahud, hasil investasi dana tanahud, \\nqardh \\ndari \\nPerusahaan \\nkepada \\ndana \\ntanahud, \\ndan/atau \\ndana \\ntanahud \\ndari \\nreasuradur, \\nyang \\npenggunaannya sesuai dengan perjanjian anuitas \\nsyariah untuk program pensiun atau perjanjian \\nreasuransi \\nsyariah \\natas \\nanuitas \\nsyariah \\nuntuk \\nprogram pensiun. \\n28. Akad Hibah Tanahud adalah akad hibah sejumlah\"\n",
      "  },\n",
      "  {\n",
      "    \"metadata\": {\n",
      "      \"id\": \"doc:ojk:9753b165cefe4545bd316da934499efb\",\n",
      "      \"title\": \"Perubahan Kedua Atas Peraturan Otoritas Jasa Keuangan Nomor 72/POJK.05/2016 Tentang Kesehatan Keuangan Perusahaan Asuransi dan Perusahaan Reasuransi Dengan Prinsip Syariah\",\n",
      "      \"sector\": \"IKNB\",\n",
      "      \"subsector\": \"IKNB Syariah\",\n",
      "      \"regulation_type\": \"Peraturan OJK\",\n",
      "      \"regulation_number\": \"6 TAHUN 2023\",\n",
      "      \"effective_date\": \"6 April 2023\",\n",
      "      \"file_url\": \"https://www.ojk.go.id/id/regulasi/Documents/Pages/Kesehatan-Keuangan-Perusahaan-Asuransi-dan-Perusahaan-Reasuransi-Dengan-Prinsip-Syariah/POJK%20Nomor%206%20Tahun%202023.pdf\",\n",
      "      \"doc_id\": \"166\",\n",
      "      \"page_number\": \"5\",\n",
      "      \"relevance_score\": 0.98347044\n",
      "    },\n",
      "    \"page_content\": \"tanahud, dan/atau dana tanahud dari reasuradur, \\nyang penggunaannya sesuai dengan akad hibah dana \\ntanahud. \\n16. Dana Perusahaan adalah kumpulan dana yang \\ndikelola Perusahaan, selain Dana Tabarru\\u2019, Dana \\nTanahud, dan dana investasi peserta. \\n17. Dana Investasi Peserta adalah dana investasi yang \\nberasal dari kontribusi pemegang polis atau peserta \\npada produk asuransi syariah yang memberikan \\nmanfaat berupa pembayaran dana yang besarnya \\ndidasarkan pada hasil pengelolaan dana. \\n18. Aset \\nYang \\nDiperkenankan \\nadalah \\naset \\nyang \\ndiperhitungkan \\ndalam \\nperhitungan \\ntingkat \\nsolvabilitas. \\n19. Qardh adalah pinjaman dari Dana Perusahaan \\nkepada Dana Tabarru\\u2019 dan/atau Dana Tanahud \\ndalam rangka menanggulangi ketidakcukupan aset \\nDana Tabarru\\u2019 dan/atau Dana Tanahud untuk \\nmembayar \\nsantunan/klaim/manfaat \\nkepada \\npemegang polis atau peserta. \\n20. Aset Yang Tersedia Untuk Qardh adalah bagian dari \\nAset Yang Diperkenankan dari Dana Perusahaan \\nyang disediakan untuk memberi Qardh kepada Dana\"\n",
      "  },\n",
      "  {\n",
      "    \"metadata\": {\n",
      "      \"id\": \"doc:ojk:59b9c9a6624f4ab7b747495797e8a9fe\",\n",
      "      \"title\": \"Pedoman Pembentukan Penyisihan Teknis bagi Perusahaan Asuransi dan Perusahaan Reasuransi dengan Prinsip Syariah\",\n",
      "      \"sector\": \"IKNB\",\n",
      "      \"subsector\": \"IKNB Syariah,  Asuransi\",\n",
      "      \"regulation_type\": \"Surat Edaran OJK\",\n",
      "      \"regulation_number\": \"28/SEOJK.05/2017\",\n",
      "      \"effective_date\": \"13 Juni 2017\",\n",
      "      \"file_url\": \"https://www.ojk.go.id/id/regulasi/Documents/Pages/SEOJK-Pedoman-Pembentukan-Penyisihan-Teknis-bagi-Perusahaan-Asuransi-dan-Perusahaan-Reasuransi-dengan-Prinsip-Syariah/seojk%2028-2017.pdf\",\n",
      "      \"doc_id\": \"981\",\n",
      "      \"page_number\": \"2\",\n",
      "      \"relevance_score\": 0.97923523\n",
      "    },\n",
      "    \"page_content\": \"syariah atas risiko yang dihadapi oleh Perusahaan Asuransi \\nSyariah, \\nperusahaan \\npenjaminan \\nsyariah, \\natau \\nPerusahaan \\nReasuransi \\nSyariah \\nlainnya, \\ntermasuk \\nUnit \\nSyariah \\ndari \\nperusahaan reasuransi. \\n7\\n. \\nDana Tabarru\\u2019 adalah kumpulan dana yang berasal dari kontribusi \\npara pemegang polis atau peserta, yang mekanisme penggunaannya \\nsesuai \\ndengan \\nperjanjian \\nasuransi \\nsyariah \\natau \\nperjanjian \\nreasuransi syariah sebagaimana dimaksud dalam Undang-Undang \\nNomor 40 Tahun 2014 tentang Perasuransian. \\n8\\n. \\nDana Tanahud adalah kumpulan dana yang berasal dari kontribusi \\npara pemegang   polis   atau   peserta anuitas program pensiun \\nsyariah, qardh dari dana perusahaan, dan/atau Dana Tanahud dari \\nreasuransi atas produk anuitas program pensiun syariah, beserta \\nhasil investasinya, yang penggunaannya sesuai dengan perjanjian   \\nanuitas   syariah   untuk   program   pensiun atau perjanjian \\nreasuransi syariah atas anuitas syariah untuk program pensiun. \\n9\\n. \\nDana \\nPerusahaan \\nadalah\"\n",
      "  },\n",
      "  {\n",
      "    \"metadata\": {\n",
      "      \"id\": \"doc:ojk:d71206d08aa14611b521bc2244feabd6\",\n",
      "      \"title\": \"POJK tentang Kesehatan Keuangan Perusahaan Asuransi dan Perusahaan Reasuransi dengan Prinsip Syariah\",\n",
      "      \"sector\": \"IKNB,  Syariah\",\n",
      "      \"subsector\": \"IKNB Syariah,  Asuransi\",\n",
      "      \"regulation_type\": \"Peraturan OJK\",\n",
      "      \"regulation_number\": \"72/POJK.05/2016\",\n",
      "      \"effective_date\": \"28 Desember 2016\",\n",
      "      \"file_url\": \"https://www.ojk.go.id/id/regulasi/Documents/Pages/POJK-tentang-Kesehatan-Keuangan-Perusahaan-Asuransi-dan-Perusahaan-Reasuransi-dengan-Prinsip-Syariah/pojk%2072-2016.pdf\",\n",
      "      \"doc_id\": \"1057\",\n",
      "      \"page_number\": \"4\",\n",
      "      \"relevance_score\": 0.97724086\n",
      "    },\n",
      "    \"page_content\": \"13. Surplus \\nUnderwriting \\nadalah \\nselisih \\nlebih \\ntotal \\nkontribusi pemegang polis atau peserta ke dalam dana \\ntabarru\\u2019 ditambah total recovery klaim dari reasuradur \\ndikurangi \\npembayaran \\nsantunan/klaim/manfaat, \\nkontribusi reasuransi, dan kenaikan penyisihan teknis, \\ndalam satu periode tertentu. \\n14. Dana Tabarru\\u2019 adalah kumpulan dana yang berasal \\ndari kontribusi para pemegang polis atau peserta, yang \\nmekanisme penggunaannya sesuai dengan perjanjian \\nasuransi syariah atau perjanjian reasuransi syariah \\nsebagaimana dimaksud dalam Undang-Undang Nomor \\n40 Tahun 2014 tentang Perasuransian. \\n15. Dana Tanahud adalah kumpulan dana yang berasal \\ndari kontribusi para pemegang polis atau peserta \\nanuitas program pensiun syariah, qardh dari dana \\nperusahaan, dan/atau Dana Tanahud dari reasuransi \\natas produk anuitas program pensiun syariah, beserta \\nhasil investasinya, yang penggunaannya sesuai dengan \\nperjanjian anuitas syariah untuk program pensiun\"\n",
      "  },\n",
      "  {\n",
      "    \"metadata\": {\n",
      "      \"id\": \"doc:ojk:b718bb30240a46a28625bab14f6cddce\",\n",
      "      \"title\": \"Bentuk dan Susunan Laporan Berkala Perusahaan Asuransi Syariah, Perusahaan Reasuransi Syariah, dan Unit Syariah\",\n",
      "      \"sector\": \"IKNB\",\n",
      "      \"subsector\": \"IKNB Syariah,  Asuransi\",\n",
      "      \"regulation_type\": \"Surat Edaran OJK\",\n",
      "      \"regulation_number\": \"2/SEOJK.05/2018\",\n",
      "      \"effective_date\": \"24 Januari 2018\",\n",
      "      \"file_url\": \"https://www.ojk.go.id/id/regulasi/Documents/Pages/Bentuk-dan-Susunan-Laporan-Berkala-Perusahaan-Asuransi-Syariah,-Perusahaan-Reasuransi-Syariah,-dan-Unit-Syariah/SEOJK%202-2018.pdf\",\n",
      "      \"doc_id\": \"842\",\n",
      "      \"page_number\": \"109\",\n",
      "      \"relevance_score\": 0.7354517\n",
      "    },\n",
      "    \"page_content\": \"Dana Tanahud , Dana Perusahaan, dan Dana Investasi Peserta PT ....., maka dengan ini Dewan\\nPengawas Syariah PT ..... menyatakan bahwa pengelolaan kekayaan dan kewajiban Dana Tabarru',  \\nDana Tanahud, Dana Perusahaan , dan Dana Investasi Peserta telah dilakukan sesuai prinsip Syariah\\nIslam.\\n-102-\"\n",
      "  },\n",
      "  {\n",
      "    \"metadata\": {\n",
      "      \"id\": \"doc:ojk:7698037e7d634bdd9bb7fb77155742a7\",\n",
      "      \"title\": \"POJK tentang Kesehatan Keuangan Perusahaan Asuransi dan Perusahaan Reasuransi dengan Prinsip Syariah\",\n",
      "      \"sector\": \"IKNB,  Syariah\",\n",
      "      \"subsector\": \"IKNB Syariah,  Asuransi\",\n",
      "      \"regulation_type\": \"Peraturan OJK\",\n",
      "      \"regulation_number\": \"72/POJK.05/2016\",\n",
      "      \"effective_date\": \"28 Desember 2016\",\n",
      "      \"file_url\": \"https://www.ojk.go.id/id/regulasi/Documents/Pages/POJK-tentang-Kesehatan-Keuangan-Perusahaan-Asuransi-dan-Perusahaan-Reasuransi-dengan-Prinsip-Syariah/pojk%2072-2016.pdf\",\n",
      "      \"doc_id\": \"1057\",\n",
      "      \"page_number\": \"37\",\n",
      "      \"relevance_score\": 0.22236222\n",
      "    },\n",
      "    \"page_content\": \"Dana Tabarru\\u2019 dan Dana Tanahud yang dapat terjadi \\ndi masa yang akan datang dengan menggunakan \\nasumsi estimasi sentral ditambah dengan marjin \\nrisiko. \\n(3) \\nPembentukan penyisihan atas kontribusi tabarru\\u2019 \\nyang \\nbelum \\nmerupakan \\npendapatan \\natau \\nhak \\nsebagaimana dimaksud pada ayat (1) huruf b wajib \\ndihitung berdasarkan kontribusi tabarru\\u2019 dengan \\nmemperhitungkan penyisihan atas seluruh risiko yang \\nbelum dijalani (unexpired risk reserve).\"\n",
      "  }\n",
      "]\n"
     ]
    }
   ],
   "source": [
    "print(response['context'])"
   ]
  },
  {
   "cell_type": "markdown",
   "metadata": {},
   "source": [
    "#### **Streaming**"
   ]
  },
  {
   "cell_type": "code",
   "execution_count": null,
   "metadata": {},
   "outputs": [
    {
     "name": "stdout",
     "output_type": "stream",
     "text": [
      "Saya minta maaf, tetapi pertanyaan yang Anda ajukan tidak terkait dengan konteks dan informasi metadata yang diberikan. Silakan ajukan pertanyaan lain yang terkait dengan kepatuhan perbankan di Indonesia."
     ]
    }
   ],
   "source": [
    "# from chain.rag_chain import print_answer_stream\n",
    "\n",
    "# print_answer_stream(chain=chain_history, question=\"Siapa itu lionel messi?\", user_id=USER_ID, conversation_id=CONVERSATION_ID)"
   ]
  }
 ],
 "metadata": {
  "kernelspec": {
   "display_name": "chatbot-all",
   "language": "python",
   "name": "python3"
  },
  "language_info": {
   "codemirror_mode": {
    "name": "ipython",
    "version": 3
   },
   "file_extension": ".py",
   "mimetype": "text/x-python",
   "name": "python",
   "nbconvert_exporter": "python",
   "pygments_lexer": "ipython3",
   "version": "3.9.19"
  }
 },
 "nbformat": 4,
 "nbformat_minor": 2
}

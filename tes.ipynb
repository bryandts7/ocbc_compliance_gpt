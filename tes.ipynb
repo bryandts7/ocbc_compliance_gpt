{
 "cells": [
  {
   "cell_type": "code",
   "execution_count": 1,
   "metadata": {},
   "outputs": [],
   "source": [
    "import pickle\n",
    "\n",
    "documents_dir = './data/documents1/'\n",
    "pickle_path = './data/pickles/'\n",
    "metadata_path = './data/metadata/files_metadata.csv'\n",
    "\n",
    "LOAD_PICKLE = True\n",
    "\n",
    "with open(pickle_path + 'documents1.pkl', 'rb') as file:\n",
    "    # Call load method to deserialze \n",
    "    all_splits = pickle.load(file)\n",
    "    # for split in all_splits:\n",
    "    #     split.page_content = clean_document_content(split.page_content)"
   ]
  },
  {
   "cell_type": "code",
   "execution_count": 2,
   "metadata": {},
   "outputs": [
    {
     "data": {
      "text/plain": [
       "132966"
      ]
     },
     "execution_count": 2,
     "metadata": {},
     "output_type": "execute_result"
    }
   ],
   "source": [
    "len(all_splits)"
   ]
  },
  {
   "cell_type": "code",
   "execution_count": 3,
   "metadata": {},
   "outputs": [
    {
     "data": {
      "text/plain": [
       "Document(metadata={'doc_id': 1, 'title': 'Dasar Penilaian Investasi Dana Pensiun', 'sector': 'IKNB', 'subsector': 'Dana Pensiun', 'regulation_type': 'Surat Edaran OJK', 'regulation_number': '4/SEOJK.05/2024', 'effective_date': '2024/07/01', 'file_url': 'https://www.ojk.go.id/id/regulasi/Documents/Pages/Dasar-Penilaian-Investasi-Dana-Pensiun/SEOJK%204-SEOJK.05-2024%20Dasar%20Penilaian%20Investasi%20Dana%20Pensiun.pdf', 'page_number': 1}, page_content='4. \\nReksa Dana adalah wadah yang dipergunakan untuk menghimpun \\ndana dari masyarakat pemodal untuk selanjutnya diinvestasikan \\ndalam portofolio efek oleh manajer investasi sebagaimana dimaksud \\ndalam undang-undang mengenai pasar modal. \\n5. \\nMedium Term Notes yang selanjutnya disingkat MTN adalah surat \\nutang yang diterbitkan oleh perusahaan dan memiliki jangka waktu  \\nsatu sampai dengan lima tahun. \\n6. \\nRepurchase Agreement yang selanjutnya disebut REPO adalah \\ntransaksi jual efek dengan janji beli kembali pada waktu dan harga \\nyang telah ditetapkan. \\n7. \\nBank adalah badan usaha yang menghimpun dana dari masyarakat \\ndalam bentuk simpanan dan menyalurkannya kepada masyarakat \\ndalam bentuk kredit atau pembiayaan dan/atau bentuk lainnya \\ndalam rangka meningkatkan taraf hidup rakyat sebagaimana \\ndimaksud dalam undang-undang mengenai perbankan. \\n8.\\n\\nSource: [4/SEOJK.05/2024](https://www.ojk.go.id/id/regulasi/Documents/Pages/Dasar-Penilaian-Investasi-Dana-Pensiun/SEOJK%204-SEOJK.05-2024%20Dasar%20Penilaian%20Investasi%20Dana%20Pensiun.pdf#page=1)')"
      ]
     },
     "execution_count": 3,
     "metadata": {},
     "output_type": "execute_result"
    }
   ],
   "source": [
    "all_splits[3]"
   ]
  }
 ],
 "metadata": {
  "kernelspec": {
   "display_name": "chatbot-ocbc",
   "language": "python",
   "name": "python3"
  },
  "language_info": {
   "codemirror_mode": {
    "name": "ipython",
    "version": 3
   },
   "file_extension": ".py",
   "mimetype": "text/x-python",
   "name": "python",
   "nbconvert_exporter": "python",
   "pygments_lexer": "ipython3",
   "version": "3.9.19"
  }
 },
 "nbformat": 4,
 "nbformat_minor": 2
}

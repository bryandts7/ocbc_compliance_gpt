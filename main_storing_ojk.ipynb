{
 "cells": [
  {
   "cell_type": "markdown",
   "metadata": {},
   "source": [
    "# **Store Data to Vector Store (OJK)**"
   ]
  },
  {
   "cell_type": "markdown",
   "metadata": {},
   "source": [
    "Ini cara untuk storing ke Redis, tapi untuk [Load](#load) Document beda-beda untuk tiap data BI, OJK, dan SIKEPO. Jadi buat sendiri function `extract_all_documents_in_directory` nya"
   ]
  },
  {
   "cell_type": "markdown",
   "metadata": {},
   "source": [
    "## **Setup**"
   ]
  },
  {
   "cell_type": "code",
   "execution_count": 1,
   "metadata": {},
   "outputs": [
    {
     "data": {
      "text/plain": [
       "True"
      ]
     },
     "execution_count": 1,
     "metadata": {},
     "output_type": "execute_result"
    }
   ],
   "source": [
    "from dotenv import load_dotenv\n",
    "load_dotenv()"
   ]
  },
  {
   "cell_type": "markdown",
   "metadata": {},
   "source": [
    "## **Config**"
   ]
  },
  {
   "cell_type": "code",
   "execution_count": 2,
   "metadata": {},
   "outputs": [],
   "source": [
    "from utils.config import get_config\n",
    "from utils.models import ModelName, get_model\n",
    "\n",
    "config = get_config()"
   ]
  },
  {
   "cell_type": "markdown",
   "metadata": {},
   "source": [
    "## **Define Model**"
   ]
  },
  {
   "cell_type": "code",
   "execution_count": 3,
   "metadata": {},
   "outputs": [],
   "source": [
    "model_name = ModelName.AZURE_OPENAI\n",
    "llm_model, embed_model = get_model(model_name=model_name, config=config)"
   ]
  },
  {
   "cell_type": "markdown",
   "metadata": {},
   "source": [
    "## **Indexing**"
   ]
  },
  {
   "cell_type": "code",
   "execution_count": 4,
   "metadata": {},
   "outputs": [],
   "source": [
    "documents_dir = './data/documents/'\n",
    "pickle_path = './data/pickles/'\n",
    "metadata_path = './data/metadata/files_metadata.csv'\n",
    "\n",
    "LOAD_PICKLE = True"
   ]
  },
  {
   "cell_type": "markdown",
   "metadata": {},
   "source": [
    "### **Load**\n",
    "\n",
    "Untuk SIKEPO dan BI beda cara extract documentsnya, file document_extractor buat sendiri :D."
   ]
  },
  {
   "cell_type": "code",
   "execution_count": 12,
   "metadata": {},
   "outputs": [],
   "source": [
    "from utils.documents_extractor.documents_extract_ojk import extract_all_documents_in_directory\n",
    "\n",
    "if not LOAD_PICKLE:\n",
    "    documents = extract_all_documents_in_directory(documents_dir, metadata_path, treshold=0.98)"
   ]
  },
  {
   "cell_type": "markdown",
   "metadata": {},
   "source": [
    "### **Split**"
   ]
  },
  {
   "cell_type": "code",
   "execution_count": 5,
   "metadata": {},
   "outputs": [],
   "source": [
    "from utils.documents_split import document_splitter\n",
    "import pickle\n",
    "\n",
    "\n",
    "if not LOAD_PICKLE:\n",
    "    all_splits = document_splitter(docs=documents)\n",
    "    all_splits1 = sorted(all_splits, key=lambda x: (x.metadata['doc_id'], x.metadata.get('page_number', '0')))\n",
    "    # Open a file and use dump() \n",
    "    with open(pickle_path + 'documents1.pkl', 'wb') as file:\n",
    "\n",
    "        # A new file will be created\n",
    "        pickle.dump(all_splits1, file) \n",
    "\n",
    "# Open the file in binary mode \n",
    "with open(pickle_path + 'documents1.pkl', 'rb') as file:\n",
    "    \n",
    "    # Call load method to deserialze \n",
    "    all_splits = pickle.load(file)"
   ]
  },
  {
   "cell_type": "code",
   "execution_count": 6,
   "metadata": {},
   "outputs": [
    {
     "data": {
      "text/plain": [
       "113052"
      ]
     },
     "execution_count": 6,
     "metadata": {},
     "output_type": "execute_result"
    }
   ],
   "source": [
    "len(all_splits)"
   ]
  },
  {
   "cell_type": "markdown",
   "metadata": {},
   "source": [
    "### **Storing**"
   ]
  },
  {
   "cell_type": "code",
   "execution_count": 10,
   "metadata": {},
   "outputs": [
    {
     "name": "stdout",
     "output_type": "stream",
     "text": [
      "Start loading from idx: 0\n",
      "Loaded 1-200 documents\n",
      "Loaded 201-300 documents\n"
     ]
    }
   ],
   "source": [
    "from databases.vector_store import RedisIndexManager\n",
    "\n",
    "redis = RedisIndexManager(index_name='ojk', embed_model=embed_model, config=config, db_id=0)\n",
    "\n",
    "redis.delete_all()\n",
    "redis.store_vector_index(docs=all_splits[0:300], batch_size=200) # Kalau error 'Redis failed to connect: Index does not exist.' ubah isi start_store_idx_indexname.txt menjadi 0\n",
    "vector_store = redis.load_vector_index()"
   ]
  },
  {
   "cell_type": "code",
   "execution_count": 16,
   "metadata": {},
   "outputs": [],
   "source": [
    "from retriever.retriever_ojk.retriever_ojk import get_retriever_ojk\n",
    "\n",
    "retriever = get_retriever_ojk(vector_store=vector_store, top_n=7, top_k=20, llm_model=llm_model, embed_model=embed_model, config=config)"
   ]
  },
  {
   "cell_type": "code",
   "execution_count": 17,
   "metadata": {},
   "outputs": [
    {
     "data": {
      "text/plain": [
       "[Document(metadata={'id': 'doc:ojk:187c4e6aa23c41d099e44c8f2056ed71', 'title': 'Dasar Penilaian Investasi Dana Pensiun', 'sector': 'IKNB', 'subsector': 'Dana Pensiun', 'regulation_type': 'Surat Edaran OJK', 'regulation_number': '4/SEOJK.05/2024', 'effective_date': '1 Juli 2024', 'file_url': 'https://www.ojk.go.id/id/regulasi/Documents/Pages/Dasar-Penilaian-Investasi-Dana-Pensiun/SEOJK%204-SEOJK.05-2024%20Dasar%20Penilaian%20Investasi%20Dana%20Pensiun.pdf', 'doc_id': '1', 'page_number': '1', 'relevance_score': 0.2107663}, page_content='sebagaimana dimaksud dalam undang-undang mengenai surat \\nutang negara dan surat berharga syariah negara sebagaimana \\ndimaksud dalam undang-undang mengenai surat berharga syariah \\nnegara. \\n4. \\nReksa Dana adalah wadah yang dipergunakan untuk menghimpun \\ndana dari masyarakat pemodal untuk selanjutnya diinvestasikan \\ndalam portofolio efek oleh manajer investasi sebagaimana dimaksud \\ndalam undang-undang mengenai pasar modal. \\n5. \\nMedium Term Notes yang selanjutnya disingkat MTN adalah surat \\nutang yang diterbitkan oleh perusahaan dan memiliki jangka waktu  \\nsatu sampai dengan lima tahun. \\n6. \\nRepurchase Agreement yang selanjutnya disebut REPO adalah \\ntransaksi jual efek dengan janji beli kembali pada waktu dan harga \\nyang telah ditetapkan. \\n7. \\nBank adalah badan usaha yang menghimpun dana dari masyarakat \\ndalam bentuk simpanan dan menyalurkannya kepada masyarakat \\ndalam bentuk kredit atau pembiayaan dan/atau bentuk lainnya \\ndalam rangka meningkatkan taraf hidup rakyat sebagaimana'),\n",
       " Document(metadata={'id': 'doc:ojk:82a079b2d7e2445399d3d6acbd0676a8', 'title': 'Dasar Penilaian Investasi Dana Pensiun', 'sector': 'IKNB', 'subsector': 'Dana Pensiun', 'regulation_type': 'Surat Edaran OJK', 'regulation_number': '4/SEOJK.05/2024', 'effective_date': '1 Juli 2024', 'file_url': 'https://www.ojk.go.id/id/regulasi/Documents/Pages/Dasar-Penilaian-Investasi-Dana-Pensiun/SEOJK%204-SEOJK.05-2024%20Dasar%20Penilaian%20Investasi%20Dana%20Pensiun.pdf', 'doc_id': '1', 'page_number': '1', 'relevance_score': 0.20979328}, page_content='dalam bentuk simpanan dan menyalurkannya kepada masyarakat \\ndalam bentuk kredit atau pembiayaan dan/atau bentuk lainnya \\ndalam rangka meningkatkan taraf hidup rakyat sebagaimana \\ndimaksud dalam undang-undang mengenai perbankan. \\n8. \\nBursa Efek adalah penyelenggara pasar di pasar modal untuk \\ntransaksi bursa.'),\n",
       " Document(metadata={'id': 'doc:ojk:c420c81c40da43aba125bd75e9dc7fc0', 'title': 'Dasar Penilaian Investasi Dana Pensiun', 'sector': 'IKNB', 'subsector': 'Dana Pensiun', 'regulation_type': 'Surat Edaran OJK', 'regulation_number': '4/SEOJK.05/2024', 'effective_date': '1 Juli 2024', 'file_url': 'https://www.ojk.go.id/id/regulasi/Documents/Pages/Dasar-Penilaian-Investasi-Dana-Pensiun/SEOJK%204-SEOJK.05-2024%20Dasar%20Penilaian%20Investasi%20Dana%20Pensiun.pdf', 'doc_id': '1', 'page_number': '2', 'relevance_score': 0.0023504829}, page_content='1) \\nReksa Dana pasar uang, Reksa Dana pendapatan tetap, \\nReksa Dana campuran, dan Reksa Dana saham berdasar \\nnilai aktiva bersih; \\n2) \\nReksa Dana terproteksi, Reksa Dana dengan penjaminan, \\ndan Reksa Dana indeks berdasar nilai aktiva bersih; \\n3) \\nReksa \\nDana \\nberbentuk \\nkontrak \\ninvestasi \\nkolektif \\npenyertaan terbatas berdasar nilai aktiva bersih; dan \\n4) \\nReksa Dana yang saham atau unit penyertaannya \\ndiperdagangkan di Bursa Efek di Indonesia berdasar nilai \\npasar dengan menggunakan informasi harga penutupan \\nterakhir di Bursa Efek di Indonesia; \\ni. \\nMTN berdasar: \\n1) \\nnilai wajar yang ditetapkan oleh lembaga penilaian harga \\nefek yang telah memperoleh izin usaha dari Otoritas Jasa \\nKeuangan atau lembaga penilaian harga efek yang telah'),\n",
       " Document(metadata={'id': 'doc:ojk:78b0c0d1573d4e21ba1a09ade6bad410', 'title': 'Tata Cara dan Mekanisme Penyampaian Data Transaksi Pendanaan dan Pelaporan Penyelenggara Layanan Pendanaan Bersama Berbasis Teknologi Informasi (LPBBTI)', 'sector': 'IKNB', 'subsector': 'Peraturan Lainnya', 'regulation_type': 'Surat Edaran OJK', 'regulation_number': '1/SEOJK.06/2024', 'effective_date': '1 Juli 2024', 'file_url': 'https://www.ojk.go.id/id/regulasi/Documents/Pages/Tata-Cara-dan-Mekanisme-Penyampaian-Data-Transaksi-Pendanaan-dan-Pelaporan-Penyelenggara-Layanan-Pendanaan-Bersama-Berbasis/SEOJK%201-SEOJK.06-2024%20Tata%20Cara%20dan%20Mekanisme%20Penyampaian%20Data%20Transaksi%20Pendanaan%20dan%20Pelaporan%20Penyelenggara%20LPBBTI.pdf', 'doc_id': '4', 'page_number': '8', 'relevance_score': 0.0013406205}, page_content='Mufli Asmawidjaja \\nIX. PENUTUP \\nKetentuan dalam Surat Edaran Otoritas Jasa Keuangan ini mulai \\nberlaku pada tanggal 1 Juli 2024. \\n \\n \\nDitetapkan di Jakarta \\npada tanggal 31 Januari 2024   \\n \\nKEPALA EKSEKUTIF PENGAWAS LEMBAGA \\nPEMBIAYAAN, \\nPERUSAHAAN \\nMODAL \\nVENTURA, LEMBAGA KEUANGAN MIKRO, \\nDAN LEMBAGA JASA KEUANGAN LAINNYA  \\nOTORITAS JASA KEUANGAN \\nREPUBLIK INDONESIA, \\n \\n \\n \\n \\nAGUSMAN \\n \\nttd \\nttd'),\n",
       " Document(metadata={'id': 'doc:ojk:7500e1b16f2f481eb649c940e2314521', 'title': 'Dasar Penilaian Investasi Dana Pensiun', 'sector': 'IKNB', 'subsector': 'Dana Pensiun', 'regulation_type': 'Surat Edaran OJK', 'regulation_number': '4/SEOJK.05/2024', 'effective_date': '1 Juli 2024', 'file_url': 'https://www.ojk.go.id/id/regulasi/Documents/Pages/Dasar-Penilaian-Investasi-Dana-Pensiun/SEOJK%204-SEOJK.05-2024%20Dasar%20Penilaian%20Investasi%20Dana%20Pensiun.pdf', 'doc_id': '1', 'page_number': '2', 'relevance_score': 0.0006986757}, page_content='nilai pasar; \\ne. \\nSurat Berharga Negara berdasar: \\n1) \\nnilai pasar dengan menggunakan informasi harga \\npenutupan terakhir di Bursa Efek di Indonesia atau nilai \\nwajar yang ditetapkan oleh lembaga penilaian harga efek \\nyang telah memperoleh izin usaha dari Otoritas Jasa \\nKeuangan atau lembaga penilaian harga efek yang telah \\ndiakui \\nsecara \\ninternasional, \\ndengan \\ntetap \\nmempertimbangkan kewajaran atas nilai yang digunakan; \\natau \\n2) \\nnilai perolehan yang diamortisasi (amortized cost), yaitu \\ndalam \\nhal \\nSurat \\nBerharga \\nNegara \\nmemiliki \\nnilai \\npenebusan tetap (fixed redemption value) dan diperoleh \\nuntuk dipadukan dengan kewajiban pembayaran manfaat \\npensiun, atau bagian spesifik dari program pensiun; \\nf. \\nsaham yang tercatat di Bursa Efek di Indonesia berdasar nilai \\npasar dengan menggunakan informasi harga penutupan \\nterakhir di Bursa Efek di Indonesia; \\ng. \\nobligasi korporasi yang tercatat di Bursa Efek di Indonesia \\nberdasar: \\n1) \\nnilai pasar dengan menggunakan informasi harga'),\n",
       " Document(metadata={'id': 'doc:ojk:a8f5f7c7d68e4edf9294a3cf83c27b65', 'title': 'Dasar Penilaian Investasi Dana Pensiun', 'sector': 'IKNB', 'subsector': 'Dana Pensiun', 'regulation_type': 'Surat Edaran OJK', 'regulation_number': '4/SEOJK.05/2024', 'effective_date': '1 Juli 2024', 'file_url': 'https://www.ojk.go.id/id/regulasi/Documents/Pages/Dasar-Penilaian-Investasi-Dana-Pensiun/SEOJK%204-SEOJK.05-2024%20Dasar%20Penilaian%20Investasi%20Dana%20Pensiun.pdf', 'doc_id': '1', 'page_number': '2', 'relevance_score': 0.0005193049}, page_content='terakhir di Bursa Efek di Indonesia; \\ng. \\nobligasi korporasi yang tercatat di Bursa Efek di Indonesia \\nberdasar: \\n1) \\nnilai pasar dengan menggunakan informasi harga \\npenutupan terakhir di Bursa Efek di Indonesia atau nilai \\nwajar yang ditetapkan oleh lembaga penilaian harga efek \\nyang telah memperoleh izin usaha dari Otoritas Jasa \\nKeuangan atau lembaga penilaian harga efek yang telah \\ndiakui \\nsecara \\ninternasional, \\ndengan \\ntetap \\nmempertimbangkan kewajaran atas nilai yang digunakan; \\natau \\n2) \\nnilai perolehan yang diamortisasi (amortized cost), yaitu \\ndalam hal obligasi korporasi memiliki nilai penebusan \\ntetap (fixed redemption value) dan diperoleh untuk \\ndipadukan dengan kewajiban pembayaran manfaat \\npensiun, atau bagian spesifik dari program pensiun; \\nh. \\nReksa Dana yang terdiri atas: \\n1) \\nReksa Dana pasar uang, Reksa Dana pendapatan tetap, \\nReksa Dana campuran, dan Reksa Dana saham berdasar \\nnilai aktiva bersih; \\n2) \\nReksa Dana terproteksi, Reksa Dana dengan penjaminan,'),\n",
       " Document(metadata={'id': 'doc:ojk:267dadf3bfc44d2bb31fb2075c7d6c9c', 'title': 'Dasar Penilaian Investasi Dana Pensiun', 'sector': 'IKNB', 'subsector': 'Dana Pensiun', 'regulation_type': 'Surat Edaran OJK', 'regulation_number': '4/SEOJK.05/2024', 'effective_date': '1 Juli 2024', 'file_url': 'https://www.ojk.go.id/id/regulasi/Documents/Pages/Dasar-Penilaian-Investasi-Dana-Pensiun/FAQ%20SEOJK%204-SEOJK.05-2024%20Dasar%20Penilaian%20Investasi%20Dana%20Pensiun.pdf', 'doc_id': '3', 'page_number': '1', 'relevance_score': 0.00039051395}, page_content='2. \\nApa saja yang diatur dalam SEOJK ini? \\nPokok-pokok perubahan pengaturan dalam SEOJK ini meliputi: \\n1. \\nKetentuan Umum \\n2. \\nDasar Penilaian Investasi Dana Pensiun \\n3. \\nKetentuan Penutup \\n \\n3. \\nApa saja jenis investasi yang diatur dalam SEOJK ini yang menjadi dasar \\nbagi industri untuk melakukan penilaian? \\n1. \\ndeposito on call; \\n2. \\ndeposito berjangka; \\n3. \\nsertifikat deposito; \\n4. \\nsurat berharga; \\n5. \\nSurat Berharga Negara; \\n6. \\nsaham; \\n7. \\nobligasi korporasi; \\n8. \\nreksa dana; \\n9. \\nMTN; \\n10. efek beragun aset; \\n11. dana investasi real estat berbentuk kontrak investasi kolektif; \\n12. kontrak opsi dan kontrak berjangka efek yang diperdagangkan; \\n13. REPO;')]"
      ]
     },
     "execution_count": 17,
     "metadata": {},
     "output_type": "execute_result"
    }
   ],
   "source": [
    "retriever.invoke(input='Berikan peraturan yang membahas mengenai pasar modal')"
   ]
  }
 ],
 "metadata": {
  "kernelspec": {
   "display_name": "chatbot-all",
   "language": "python",
   "name": "python3"
  },
  "language_info": {
   "codemirror_mode": {
    "name": "ipython",
    "version": 3
   },
   "file_extension": ".py",
   "mimetype": "text/x-python",
   "name": "python",
   "nbconvert_exporter": "python",
   "pygments_lexer": "ipython3",
   "version": "3.9.19"
  }
 },
 "nbformat": 4,
 "nbformat_minor": 2
}

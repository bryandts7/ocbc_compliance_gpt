{
 "cells": [
  {
   "cell_type": "markdown",
   "metadata": {},
   "source": [
    "# **Store Data to Vector Store (OJK)**"
   ]
  },
  {
   "cell_type": "markdown",
   "metadata": {},
   "source": [
    "Ini cara untuk storing ke Redis, tapi untuk [Load](#load) Document beda-beda untuk tiap data BI, OJK, dan SIKEPO. Jadi buat sendiri function `extract_all_documents_in_directory` nya"
   ]
  },
  {
   "cell_type": "markdown",
   "metadata": {},
   "source": [
    "## **Setup**"
   ]
  },
  {
   "cell_type": "code",
   "execution_count": 1,
   "metadata": {},
   "outputs": [
    {
     "data": {
      "text/plain": [
       "True"
      ]
     },
     "execution_count": 1,
     "metadata": {},
     "output_type": "execute_result"
    }
   ],
   "source": [
    "import nest_asyncio\n",
    "nest_asyncio.apply()\n",
    "\n",
    "from dotenv import load_dotenv\n",
    "load_dotenv()"
   ]
  },
  {
   "cell_type": "markdown",
   "metadata": {},
   "source": [
    "## **Config**"
   ]
  },
  {
   "cell_type": "code",
   "execution_count": 2,
   "metadata": {},
   "outputs": [],
   "source": [
    "from utils.config import get_config\n",
    "from utils.models import ModelName, get_model\n",
    "\n",
    "config = get_config()"
   ]
  },
  {
   "cell_type": "markdown",
   "metadata": {},
   "source": [
    "## **Define Model**"
   ]
  },
  {
   "cell_type": "code",
   "execution_count": 3,
   "metadata": {},
   "outputs": [],
   "source": [
    "model_name = ModelName.AZURE_OPENAI\n",
    "llm_model, embed_model = get_model(model_name=model_name, config=config)"
   ]
  },
  {
   "cell_type": "markdown",
   "metadata": {},
   "source": [
    "## **Indexing**"
   ]
  },
  {
   "cell_type": "code",
   "execution_count": 4,
   "metadata": {},
   "outputs": [],
   "source": [
    "documents_dir = './data/documents/'\n",
    "pickle_path = './data/pickles/'\n",
    "metadata_path = './data/metadata/files_metadata.csv'\n",
    "\n",
    "LOAD_PICKLE = True"
   ]
  },
  {
   "cell_type": "markdown",
   "metadata": {},
   "source": [
    "### **Load**\n",
    "\n",
    "Untuk SIKEPO dan BI beda cara extract documentsnya, file document_extractor buat sendiri :D."
   ]
  },
  {
   "cell_type": "code",
   "execution_count": 5,
   "metadata": {},
   "outputs": [],
   "source": [
    "from utils.documents_extractor.documents_extract_ojk import extract_all_documents_in_directory\n",
    "\n",
    "if not LOAD_PICKLE:\n",
    "    documents = extract_all_documents_in_directory(documents_dir, metadata_path, treshold=0.98)"
   ]
  },
  {
   "cell_type": "markdown",
   "metadata": {},
   "source": [
    "### **Split**"
   ]
  },
  {
   "cell_type": "code",
   "execution_count": 6,
   "metadata": {},
   "outputs": [],
   "source": [
    "from utils.documents_split import document_splitter\n",
    "import pickle\n",
    "\n",
    "\n",
    "if not LOAD_PICKLE:\n",
    "    all_splits = document_splitter(docs=documents)\n",
    "    all_splits1 = sorted(all_splits, key=lambda x: (x.metadata['doc_id'], x.metadata.get('page_number', '0')))\n",
    "    # Open a file and use dump() \n",
    "    with open(pickle_path + 'documents3.pkl', 'wb') as file:\n",
    "\n",
    "        # A new file will be created\n",
    "        pickle.dump(all_splits1, file) \n",
    "\n",
    "# Open the file in binary mode \n",
    "with open(pickle_path + 'documents3.pkl', 'rb') as file:\n",
    "    \n",
    "    # Call load method to deserialze \n",
    "    all_splits = pickle.load(file)"
   ]
  },
  {
   "cell_type": "code",
   "execution_count": 7,
   "metadata": {},
   "outputs": [
    {
     "data": {
      "text/plain": [
       "39109"
      ]
     },
     "execution_count": 7,
     "metadata": {},
     "output_type": "execute_result"
    }
   ],
   "source": [
    "len(all_splits)"
   ]
  },
  {
   "cell_type": "code",
   "execution_count": 16,
   "metadata": {},
   "outputs": [
    {
     "data": {
      "text/plain": [
       "Document(metadata={'doc_id': 2445, 'title': 'Peraturan Bank Indonesia Nomor 11/13/PBI/2009', 'sector': 'NO DATA', 'subsector': 'NO DATA', 'regulation_type': 'NO DATA', 'regulation_number': '11/13/PBI/2009', 'effective_date': '17 April 2009', 'file_url': 'https://www.ojk.go.id/id/kanal/perbankan/regulasi/peraturan-bank-indonesia/Documents/145.pdf', 'page_number': 33}, page_content=\"metadata={'doc_id': 2445, 'title': 'Peraturan Bank Indonesia Nomor 11/13/PBI/2009', 'sector': 'NO DATA', 'subsector': 'NO DATA', 'regulation_type': 'NO DATA', 'regulation_number': '11/13/PBI/2009', 'effective_date': '17 April 2009', 'file_url': 'https://www.ojk.go.id/id/kanal/perbankan/regulasi/peraturan-bank-indonesia/Documents/145.pdf', 'page_number': 33}\\n- 4 - \\nkepengurusan oleh Direksi dan tidak menghilangkan tanggung jawab \\nDireksi sebagai pemutus. \\n \\nPasal 7 \\n \\nHuruf a \\n \\nCukup jelas. \\nHuruf b \\n \\nCukup jelas. \\nHuruf c \\n \\nCukup jelas. \\nHuruf d \\n \\nYang dimaksud dengan hubungan keluarga sampai dengan derajat \\nkedua, baik horisontal maupun vertikal, adalah pihak-pihak sebagai \\nberikut: \\n1. \\norang tua kandung/tiri/angkat; \\n2. \\nsaudara kandung/tiri/angkat; \\n3. \\nanak kandung/tiri/angkat; \\n4. \\nkakek atau nenek kandung/tiri/angkat; \\n5. \\ncucu kandung/tiri/angkat; \\n6. \\nsaudara kandung/tiri/angkat dari orang tua; \\n7. suami …\")"
      ]
     },
     "execution_count": 16,
     "metadata": {},
     "output_type": "execute_result"
    }
   ],
   "source": [
    "all_splits[10195]"
   ]
  },
  {
   "cell_type": "markdown",
   "metadata": {},
   "source": [
    "### **Storing**"
   ]
  },
  {
   "cell_type": "code",
   "execution_count": 19,
   "metadata": {},
   "outputs": [
    {
     "name": "stdout",
     "output_type": "stream",
     "text": [
      "Start loading from idx: 38226\n",
      "Loaded 38227-38256 documents\n",
      "Loaded 38257-38286 documents\n",
      "Loaded 38287-38316 documents\n",
      "Loaded 38317-38346 documents\n",
      "Loaded 38347-38376 documents\n",
      "Loaded 38377-38406 documents\n",
      "Loaded 38407-38436 documents\n",
      "Loaded 38437-38466 documents\n",
      "Loaded 38467-38496 documents\n",
      "Loaded 38497-38526 documents\n",
      "Loaded 38527-38556 documents\n",
      "Loaded 38557-38586 documents\n",
      "Loaded 38587-38616 documents\n",
      "Loaded 38617-38646 documents\n",
      "Loaded 38647-38676 documents\n",
      "Loaded 38677-38706 documents\n",
      "Loaded 38707-38736 documents\n",
      "Loaded 38737-38766 documents\n",
      "Loaded 38767-38796 documents\n",
      "Loaded 38797-38826 documents\n",
      "Loaded 38827-38856 documents\n",
      "Loaded 38857-38886 documents\n",
      "Loaded 38887-38916 documents\n",
      "Loaded 38917-38946 documents\n",
      "Loaded 38947-38976 documents\n",
      "Loaded 38977-39006 documents\n",
      "Loaded 39007-39036 documents\n",
      "Loaded 39037-39066 documents\n",
      "Loaded 39067-39096 documents\n",
      "Loaded 39097-39109 documents\n"
     ]
    }
   ],
   "source": [
    "from databases.vector_store import RedisIndexManager\n",
    "\n",
    "redis = RedisIndexManager(index_name='ojk', embed_model=embed_model, config=config, db_id=0)\n",
    "# redis_bi = RedisIndexManager(index_name='bi', embed_model=embed_model, config=config, db_id=0)\n",
    "\n",
    "# redis.delete_index()\n",
    "redis.store_vector_index(docs=all_splits, batch_size=30) # Kalau error 'Redis failed to connect: Index does not exist.' ubah isi start_store_idx_indexname.txt menjadi 0\n",
    "vector_store = redis.load_vector_index()"
   ]
  },
  {
   "cell_type": "code",
   "execution_count": 7,
   "metadata": {},
   "outputs": [],
   "source": [
    "from retriever.retriever_bi_ojk.retriever_bi_ojk import get_combined_retriever_bi_ojk\n",
    "from retriever.retriever_bi.retriever_bi import get_retriever_bi\n",
    "\n",
    "# retriever = get_combined_retriever_bi_ojk(vector_store_bi=vector_store, vector_store_ojk=vector_store, top_n=7, top_k=20, llm_model=llm_model, embed_model=embed_model, config=config)"
   ]
  },
  {
   "cell_type": "code",
   "execution_count": null,
   "metadata": {},
   "outputs": [],
   "source": []
  }
 ],
 "metadata": {
  "kernelspec": {
   "display_name": "chatbot-all",
   "language": "python",
   "name": "python3"
  },
  "language_info": {
   "codemirror_mode": {
    "name": "ipython",
    "version": 3
   },
   "file_extension": ".py",
   "mimetype": "text/x-python",
   "name": "python",
   "nbconvert_exporter": "python",
   "pygments_lexer": "ipython3",
   "version": "3.9.19"
  }
 },
 "nbformat": 4,
 "nbformat_minor": 2
}

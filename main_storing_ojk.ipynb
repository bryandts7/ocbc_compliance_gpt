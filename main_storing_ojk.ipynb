{
 "cells": [
  {
   "cell_type": "markdown",
   "metadata": {},
   "source": [
    "# **Store Data to Vector Store (OJK)**"
   ]
  },
  {
   "cell_type": "markdown",
   "metadata": {},
   "source": [
    "Ini cara untuk storing ke Redis, tapi untuk [Load](#load) Document beda-beda untuk tiap data BI, OJK, dan SIKEPO. Jadi buat sendiri function `extract_all_documents_in_directory` nya"
   ]
  },
  {
   "cell_type": "markdown",
   "metadata": {},
   "source": [
    "## **Setup**"
   ]
  },
  {
   "cell_type": "code",
   "execution_count": 1,
   "metadata": {},
   "outputs": [
    {
     "data": {
      "text/plain": [
       "True"
      ]
     },
     "execution_count": 1,
     "metadata": {},
     "output_type": "execute_result"
    }
   ],
   "source": [
    "from dotenv import load_dotenv\n",
    "load_dotenv()"
   ]
  },
  {
   "cell_type": "markdown",
   "metadata": {},
   "source": [
    "## **Config**"
   ]
  },
  {
   "cell_type": "code",
   "execution_count": 2,
   "metadata": {},
   "outputs": [],
   "source": [
    "from utils.config import get_config\n",
    "from utils.models import ModelName, get_model\n",
    "\n",
    "config = get_config()"
   ]
  },
  {
   "cell_type": "markdown",
   "metadata": {},
   "source": [
    "## **Define Model**"
   ]
  },
  {
   "cell_type": "code",
   "execution_count": 3,
   "metadata": {},
   "outputs": [],
   "source": [
    "model_name = ModelName.AZURE_OPENAI\n",
    "llm_model, embed_model = get_model(model_name=model_name, config=config)"
   ]
  },
  {
   "cell_type": "markdown",
   "metadata": {},
   "source": [
    "## **Indexing**"
   ]
  },
  {
   "cell_type": "code",
   "execution_count": 4,
   "metadata": {},
   "outputs": [],
   "source": [
    "documents_dir = './data/documents/'\n",
    "pickle_path = './data/pickles/'\n",
    "metadata_path = './data/metadata/files_metadata.csv'\n",
    "\n",
    "LOAD_PICKLE = True"
   ]
  },
  {
   "cell_type": "markdown",
   "metadata": {},
   "source": [
    "### **Load**\n",
    "\n",
    "Untuk SIKEPO dan BI beda cara extract documentsnya, file document_extractor buat sendiri :D."
   ]
  },
  {
   "cell_type": "code",
   "execution_count": 5,
   "metadata": {},
   "outputs": [],
   "source": [
    "from utils.documents_extractor.documents_extract_ojk import extract_all_documents_in_directory\n",
    "\n",
    "if not LOAD_PICKLE:\n",
    "    documents = extract_all_documents_in_directory(documents_dir, metadata_path, treshold=0.98)"
   ]
  },
  {
   "cell_type": "markdown",
   "metadata": {},
   "source": [
    "### **Split**"
   ]
  },
  {
   "cell_type": "code",
   "execution_count": 6,
   "metadata": {},
   "outputs": [],
   "source": [
    "from utils.documents_split import document_splitter\n",
    "import pickle\n",
    "\n",
    "\n",
    "if not LOAD_PICKLE:\n",
    "    all_splits = document_splitter(docs=documents)\n",
    "    all_splits1 = sorted(all_splits, key=lambda x: (x.metadata['doc_id'], x.metadata.get('page_number', '0')))\n",
    "    # Open a file and use dump() \n",
    "    with open(pickle_path + 'documents1.pkl', 'wb') as file:\n",
    "\n",
    "        # A new file will be created\n",
    "        pickle.dump(all_splits1, file) \n",
    "\n",
    "# Open the file in binary mode \n",
    "with open(pickle_path + 'documents1.pkl', 'rb') as file:\n",
    "    \n",
    "    # Call load method to deserialze \n",
    "    all_splits = pickle.load(file)"
   ]
  },
  {
   "cell_type": "code",
   "execution_count": 7,
   "metadata": {},
   "outputs": [
    {
     "data": {
      "text/plain": [
       "113052"
      ]
     },
     "execution_count": 7,
     "metadata": {},
     "output_type": "execute_result"
    }
   ],
   "source": [
    "len(all_splits)"
   ]
  },
  {
   "cell_type": "markdown",
   "metadata": {},
   "source": [
    "### **Storing**"
   ]
  },
  {
   "cell_type": "code",
   "execution_count": 13,
   "metadata": {},
   "outputs": [
    {
     "name": "stdout",
     "output_type": "stream",
     "text": [
      "Start loading from idx: 1800\n",
      "Loaded 1801-2000 documents\n",
      "Loaded 2001-2200 documents\n",
      "Loaded 2201-2400 documents\n",
      "Loaded 2401-2600 documents\n",
      "Loaded 2601-2800 documents\n",
      "Loaded 2801-3000 documents\n",
      "Loaded 3001-3200 documents\n",
      "Loaded 3201-3400 documents\n",
      "Loaded 3401-3600 documents\n",
      "Loaded 3601-3800 documents\n",
      "Loaded 3801-4000 documents\n",
      "Loaded 4001-4200 documents\n",
      "Loaded 4201-4400 documents\n",
      "Loaded 4401-4600 documents\n",
      "Loaded 4601-4800 documents\n",
      "Loaded 4801-5000 documents\n",
      "Loaded 5001-5200 documents\n",
      "Loaded 5201-5400 documents\n",
      "Loaded 5401-5600 documents\n",
      "Loaded 5601-5800 documents\n",
      "Loaded 5801-6000 documents\n",
      "Loaded 6001-6200 documents\n",
      "Loaded 6201-6400 documents\n",
      "Loaded 6401-6600 documents\n",
      "Loaded 6601-6800 documents\n",
      "Loaded 6801-7000 documents\n",
      "Loaded 7001-7200 documents\n",
      "Loaded 7201-7400 documents\n",
      "Loaded 7401-7600 documents\n",
      "Loaded 7601-7800 documents\n",
      "Loaded 7801-8000 documents\n",
      "Loaded 8001-8200 documents\n",
      "Loaded 8201-8400 documents\n",
      "Loaded 8401-8600 documents\n",
      "Loaded 8601-8800 documents\n",
      "Loaded 8801-9000 documents\n",
      "Loaded 9001-9200 documents\n"
     ]
    }
   ],
   "source": [
    "from databases.vector_store import RedisIndexManager\n",
    "\n",
    "redis = RedisIndexManager(index_name='ojk', embed_model=embed_model, config=config, db_id=0)\n",
    "\n",
    "# redis.delete_index()\n",
    "redis.store_vector_index(docs=all_splits, batch_size=200) # Kalau error 'Redis failed to connect: Index does not exist.' ubah isi start_store_idx_indexname.txt menjadi 0\n",
    "vector_store = redis.load_vector_index()"
   ]
  },
  {
   "cell_type": "code",
   "execution_count": 22,
   "metadata": {},
   "outputs": [],
   "source": [
    "from retriever.retriever_ojk.retriever_ojk import get_retriever_ojk\n",
    "\n",
    "retriever = get_retriever_ojk(vector_store=vector_store, top_n=7, top_k=20, llm_model=llm_model, embed_model=embed_model, config=config)"
   ]
  },
  {
   "cell_type": "code",
   "execution_count": 23,
   "metadata": {},
   "outputs": [
    {
     "data": {
      "text/plain": [
       "[Document(metadata={'id': 'doc:ojk:d593f50a17224ad2b80567ba66972153', 'title': 'Perizinan Usaha dan Kelembagaan Perusahaan Pialang Asuransi, Perusahaan Pialang Reasuransi, dan Perusahaan Penilai Kerugian', 'sector': 'IKNB', 'subsector': 'Asuransi,  Peraturan Lainnya', 'regulation_type': 'Peraturan OJK', 'regulation_number': '24 Tahun 2023', 'effective_date': '22 Desember 2023', 'file_url': 'https://www.ojk.go.id/id/regulasi/Documents/Pages/Perizinan-Usaha-dan-Kelembagaan-Perusahaan-Pialang-Asuransi%2c-Perusahaan-Pialang-Reasuransi%2c-dan-Perusahaan-Penilai-Kerugian/POJK%2024%20Tahun%202023%20Perizinan%20Usaha%20dan%20Kelembagaan%20Perusahaan%20Pialang%20Asuransi%2c%20Perusahaan%20Pialang%20Reasuransi%2c%20dan%20Perusahaan%20Penilai%20Kerugian.pdf', 'doc_id': '67', 'page_number': '54', 'relevance_score': 0.993255}, page_content='ketentuan peraturan perundang-undangan di bidang pasar \\nmodal antara lain Peraturan Otoritas Jasa Keuangan mengenai \\npenyelenggaraan kegiatan di bidang pasar modal dan \\nPeraturan Otoritas Jasa Keuangan mengenai transaksi efek. \\nAyat (2) \\nHuruf a \\nCukup jelas. \\nHuruf b \\nCukup jelas. \\nHuruf c \\nAngka 1 \\nCukup jelas. \\nAngka 2 \\nPenyertaan \\nbadan \\nhukum \\nIndonesia \\npada \\nperusahaan \\nmelalui \\ntransaksi \\ndi \\nbursa \\nefek \\nmemperhatikan \\npersentase \\nkepemilikan \\nyang \\ndiperhitungkan \\ndalam \\nketentuan \\nperaturan \\nperundang-undangan di bidang pasar modal. \\nMisal, persentase kepemilikan yang ada di pasar \\nmodal hanya memperhitungkan kepemilikan saham \\ndi atas 5% (lima persen) maka dasar tersebut yang \\ndigunakan dalam menghitung kepemilikan asing di \\npasar modal. \\n \\nPasal 5 \\nAyat (1) \\nHuruf a \\nYang dimaksud dengan “perusahaan yang memiliki usaha \\nsejenis” adalah perusahaan pialang dengan perusahaan \\npialang lainnya, atau perusahaan penilai kerugian'),\n",
       " Document(metadata={'id': 'doc:ojk:eeee764e7a7a41bd90ba414a688f85a3', 'title': 'Pengguna Standar Akuntansi Keuangan Internasional di Pasar Modal', 'sector': 'Pasar Modal', 'subsector': 'Peraturan Lainnya', 'regulation_type': 'Peraturan OJK', 'regulation_number': '26 Tahun 2023', 'effective_date': '22 Desember 2023', 'file_url': 'https://www.ojk.go.id/id/regulasi/Documents/Pages/Pengguna-Standar-Akuntansi-Keuangan-Internasional-di-Pasar-Modal/POJK%2026%20Tahun%202023%20Pengguna%20Standar%20Akuntansi%20Keuangan%20Internasional%20di%20Pasar%20Modal.pdf', 'doc_id': '61', 'page_number': '1', 'relevance_score': 0.62909126}, page_content='sebagaimana \\ndimaksud dalam huruf a dan huruf b, perlu \\nmenetapkan Peraturan Otoritas Jasa Keuangan tentang \\nPengguna Standar Akuntansi Keuangan Internasional \\ndi Pasar Modal; \\n \\nMengingat \\n: 1. \\nUndang-Undang Nomor 8 Tahun 1995 tentang Pasar \\nModal (Lembaran Negara Republik Indonesia Tahun \\n1995 Nomor 64, Tambahan Lembaran Negara Republik \\nIndonesia Nomor 3608) sebagaimana telah diubah \\ndengan Undang-Undang Nomor 4 Tahun 2023 tentang \\nPengembangan \\ndan \\nPenguatan \\nSektor \\nKeuangan \\n(Lembaran Negara Republik Indonesia Tahun 2023 \\nNomor 4, Tambahan Lembaran Negara Republik \\nIndonesia Nomor 6845);'),\n",
       " Document(metadata={'id': 'doc:ojk:c25d4eb5398443c5b8acbf01fb4f8901', 'title': 'Pembelian Kembali Saham yang Dikeluarkan oleh Perusahaan Terbuka', 'sector': 'Pasar Modal', 'subsector': 'Peraturan Lainnya', 'regulation_type': 'Peraturan OJK', 'regulation_number': '29 Tahun 2023', 'effective_date': '29 Desember 2023', 'file_url': 'https://www.ojk.go.id/id/regulasi/Documents/Pages/Pembelian-Kembali-Saham-yang-Dikeluarkan-oleh-Perusahaan-Terbuka-/POJK%2029%20Tahun%202023%20Pembelian%20Kembali%20Saham%20Yang%20Dikeluarkan%20Oleh%20Perusahaan%20Terbuka.pdf', 'doc_id': '55', 'page_number': '1', 'relevance_score': 0.4414322}, page_content='Menimbang \\n: a. \\nbahwa untuk mewujudkan terciptanya kegiatan pasar \\nmodal yang teratur, wajar, dan efisien serta melindungi \\nkepentingan \\npemodal \\ndan \\nmasyarakat, \\ndiperlukan \\npengaturan atas seluruh kegiatan di sektor pasar modal; \\n \\n \\n \\nb. \\nbahwa \\nterdapat \\nkendala \\nimplementasi \\nketentuan \\nmengenai pembelian kembali saham perusahaan terbuka \\ndan pengalihan saham hasil pembelian kembali yang perlu \\nuntuk diatasi, salah satunya melalui penyesuaian \\nketentuan mengenai mekanisme pengalihan kembali \\nsaham dan penambahan opsi pengalihan saham hasil \\npembelian kembali dengan cara lain;  \\n \\n \\n \\nc. \\nbahwa \\nuntuk \\nmemberikan \\nkepastian \\nhukum \\ndan \\nmemberikan kejelasan mengenai pelaksanaan pembelian \\nkembali saham yang dikeluarkan oleh perusahaan \\nterbuka, perlu dilakukan penggantian terhadap Peraturan \\nOtoritas \\nJasa \\nKeuangan \\nNomor \\n30/POJK.04/2017 \\ntentang Pembelian Kembali Saham yang Dikeluarkan oleh \\nPerusahaan Terbuka; \\nd. \\nbahwa berdasarkan pertimbangan sebagaimana dimaksud'),\n",
       " Document(metadata={'id': 'doc:ojk:945ccc0637374f58ad587709aa7d9c66', 'title': 'Pengguna Standar Akuntansi Keuangan Internasional di Pasar Modal', 'sector': 'Pasar Modal', 'subsector': 'Peraturan Lainnya', 'regulation_type': 'Peraturan OJK', 'regulation_number': '26 Tahun 2023', 'effective_date': '22 Desember 2023', 'file_url': 'https://www.ojk.go.id/id/regulasi/Documents/Pages/Pengguna-Standar-Akuntansi-Keuangan-Internasional-di-Pasar-Modal/POJK%2026%20Tahun%202023%20Pengguna%20Standar%20Akuntansi%20Keuangan%20Internasional%20di%20Pasar%20Modal.pdf', 'doc_id': '61', 'page_number': '2', 'relevance_score': 0.12797922}, page_content='Penguatan \\nSektor \\nKeuangan \\n(Lembaran \\nNegara \\nRepublik Indonesia Tahun 2023 Nomor 4, Tambahan \\nLembaran Negara Republik Indonesia Nomor 6845); \\n \\nMEMUTUSKAN: \\nMenetapkan   : PERATURAN \\nOTORITAS \\nJASA \\nKEUANGAN \\nTENTANG \\nPENGGUNA \\nSTANDAR \\nAKUNTANSI \\nKEUANGAN \\nINTERNASIONAL DI PASAR MODAL. \\n \\n \\nBAB I \\nKETENTUAN UMUM \\n \\nPasal 1 \\nDalam Peraturan Otoritas Jasa Keuangan ini yang dimaksud \\ndengan: \\n1. \\nEmiten adalah pihak yang melakukan penawaran \\numum. \\n2. \\nPerusahaan Terbuka adalah Emiten yang telah \\nmelakukan penawaran umum efek bersifat ekuitas \\natau perusahaan publik. \\n3. \\nPerusahaan Terbuka Tercatat di Lebih dari 1 (satu) \\nNegara adalah perusahaan terbuka yang didirikan dan \\nberkedudukan \\ndi \\nIndonesia \\nyang \\nmelakukan \\npencatatan efek bersifat ekuitas di bursa efek di \\nIndonesia dan bursa efek di negara lain. \\n4. \\nKetentuan Akuntansi di Bidang Pasar Modal yang \\nselanjutnya disebut Ketentuan Akuntansi adalah \\nketentuan mengenai perlakuan akuntansi di pasar'),\n",
       " Document(metadata={'id': 'doc:ojk:ec96d6be0438489eacb5f151c689b086', 'title': 'Laporan Bulanan Badan Pengelola Tabungan Perumahan Rakyat', 'sector': 'IKNB', 'subsector': 'Peraturan Lainnya', 'regulation_type': 'Surat Edaran OJK', 'regulation_number': '2/SEOJK.06/2024', 'effective_date': '1 Mei 2024', 'file_url': 'https://www.ojk.go.id/id/regulasi/Documents/Pages/Laporan-Bulanan-Badan-Pengelola-Tabungan-Perumahan-Rakyat/SEOJK%202-SEOJK.06-2024%20Laporan%20Bulanan%20Badan%20Pengelola%20Tabungan%20Perumahan%20Rakyat.pdf', 'doc_id': '19', 'page_number': '29', 'relevance_score': 0.037116908}, page_content='instrumen investasi pasar uang dan pasar modal yang \\naman dan menguntungkan sesuai dengan ketentuan \\nperaturan perundang-undangan, di antaranya dalam \\nbentuk: \\na. \\nsertifikat deposito pada bank; \\nb. \\nsurat berharga yang diterbitkan oleh Bank Indonesia; \\nc. \\nsurat utang negara; \\nd. \\nsaham yang tercatat di bursa efek di Indonesia; \\ne. \\nobligasi korporasi yang tercatat di bursa efek di \\nIndonesia; dan/atau \\nf. \\nreksa dana; \\ng. \\nmedium term notes (MTN); \\nh. \\nefek beragun aset (EBA); \\ni. \\ndana investasi real estat (DIRE) berbentuk kontrak \\ninvestasi kolektif; \\nj. \\nkontrak opsi dan kontrak berjangka efek yang \\ndiperdagangkan di bursa efek di Indonesia; \\nk. \\nrepurchase agreement (REPO); \\nl. \\nobligasi daerah;  \\nm. \\ndana investasi infrastruktur berbentuk kontrak \\ninvestasi kolektif; \\nn. \\ninvestasi berdasarkan prinsip syariah; dan/atau \\no. \\ninvestasi lainnya. \\nNilai surat berharga tersebut disajikan sesuai dengan \\nketentuan Pernyataan Standar Akuntansi Keuangan \\n(PSAK) yang berlaku.'),\n",
       " Document(metadata={'id': 'doc:ojk:df4aba519f1d4d5c8426f904150153b7', 'title': 'Penetapan Status dan Tindak Lanjut Pengawasan Bank Perekonomian Rakyat dan Bank Perekonomian Rakyat Syariah', 'sector': 'Perbankan', 'subsector': 'BPR,  Perbankan Syariah', 'regulation_type': 'Peraturan OJK', 'regulation_number': '28 Tahun 2023', 'effective_date': '31 Desember 2023', 'file_url': 'https://www.ojk.go.id/id/regulasi/Documents/Pages/POJK-28-Tahun-2023-Penetapan-Status-dan-Tindak-Lanjut-Pengawasan-BPR-dan-BPRS/Salinan%20POJK%20Nomor%2028%20Tahun%202023.pdf', 'doc_id': '49', 'page_number': '11', 'relevance_score': 0.018334452}, page_content='undangan di bidang Pasar Modal mengenai hak \\nmemesan efek terlebih dahulu, transaksi material, \\ntransaksi \\nafiliasi, \\ndan/atau \\ntransaksi \\nyang \\nmengandung benturan kepentingan. \\n(2) \\nBPR atau BPR Syariah dalam penyehatan atau BPR \\natau BPR Syariah dalam resolusi yang merupakan \\nEmiten atau Perusahaan Publik yang tidak menerima \\npenempatan dana oleh Lembaga Penjamin Simpanan \\ndan diperintahkan oleh Lembaga Penjamin Simpanan \\ndan/atau Otoritas Jasa Keuangan untuk:'),\n",
       " Document(metadata={'id': 'doc:ojk:115e08c85b474952a1fe2b88dfc4c502', 'title': 'Penyelenggaraan Usaha Perusahaan Modal Ventura dan Perusahaan Modal Ventura Syariah', 'sector': 'IKNB', 'subsector': 'IKNB Syariah,  Lembaga Pembiayaan,  Peraturan Lainnya', 'regulation_type': 'Peraturan OJK', 'regulation_number': '25 Tahun 2023', 'effective_date': '22 Desember 2023', 'file_url': 'https://www.ojk.go.id/id/regulasi/Documents/Pages/Penyelenggaraan-Usaha-Perusahaan-Modal-Ventura-dan-Perusahaan-Modal-Ventura-Syariah/POJK%2025%20Tahun%202023%20Penyelenggaraan%20Usaha%20Perusahaan%20Modal%20Ventura%20dan%20Perusahaan%20Modal%20Ventura%20Syariah.pdf', 'doc_id': '64', 'page_number': '13', 'relevance_score': 0.0036076168}, page_content='pasar modal. \\n(3) \\nMekanisme pembubaran atau likuidasi sebagaimana \\ndimaksud pada ayat (1) huruf e dan aksi korporasi \\nlainnya sebagaimana dimaksud pada ayat (1) huruf f \\ndilaksanakan sesuai dengan ketentuan peraturan \\nperundang-undangan mengenai perseroan terbatas.  \\n \\nBagian Kedua \\nPengelolaan Dana Ventura \\n \\nPasal 19 \\nPerusahaan \\nberbentuk \\nventure \\ncapital \\ncorporation \\nsebagaimana dimaksud dalam Pasal 9 ayat (1) huruf a  \\nyang mengelola Dana Ventura wajib memperoleh izin dari \\nOtoritas Jasa Keuangan.')]"
      ]
     },
     "execution_count": 23,
     "metadata": {},
     "output_type": "execute_result"
    }
   ],
   "source": [
    "retriever.invoke(input='Berikan peraturan yang membahas mengenai pasar modal')"
   ]
  }
 ],
 "metadata": {
  "kernelspec": {
   "display_name": "chatbot-all",
   "language": "python",
   "name": "python3"
  },
  "language_info": {
   "codemirror_mode": {
    "name": "ipython",
    "version": 3
   },
   "file_extension": ".py",
   "mimetype": "text/x-python",
   "name": "python",
   "nbconvert_exporter": "python",
   "pygments_lexer": "ipython3",
   "version": "3.9.19"
  }
 },
 "nbformat": 4,
 "nbformat_minor": 2
}

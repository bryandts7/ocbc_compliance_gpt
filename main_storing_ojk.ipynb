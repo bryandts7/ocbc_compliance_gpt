{
 "cells": [
  {
   "cell_type": "markdown",
   "metadata": {},
   "source": [
    "# **Store Data to Vector Store (OJK)**"
   ]
  },
  {
   "cell_type": "markdown",
   "metadata": {},
   "source": [
    "Ini cara untuk storing ke Redis, tapi untuk [Load](#load) Document beda-beda untuk tiap data BI, OJK, dan SIKEPO. Jadi buat sendiri function `extract_all_documents_in_directory` nya"
   ]
  },
  {
   "cell_type": "markdown",
   "metadata": {},
   "source": [
    "## **Setup**"
   ]
  },
  {
   "cell_type": "code",
   "execution_count": 15,
   "metadata": {},
   "outputs": [],
   "source": [
    "# import nest_asyncio\n",
    "# nest_asyncio.apply()\n",
    "\n",
    "import warnings\n",
    "warnings.filterwarnings(\"ignore\")"
   ]
  },
  {
   "cell_type": "markdown",
   "metadata": {},
   "source": [
    "## **Config**"
   ]
  },
  {
   "cell_type": "code",
   "execution_count": 16,
   "metadata": {},
   "outputs": [],
   "source": [
    "from utils.config import get_config\n",
    "\n",
    "config = get_config()"
   ]
  },
  {
   "cell_type": "markdown",
   "metadata": {},
   "source": [
    "## **Define Model**"
   ]
  },
  {
   "cell_type": "code",
   "execution_count": 17,
   "metadata": {},
   "outputs": [],
   "source": [
    "from utils.models import ModelName, LLMModelName, EmbeddingModelName, get_model\n",
    "\n",
    "model_name = ModelName.OPENAI\n",
    "llm_model, embed_model = get_model(model_name=model_name, config=config, llm_model_name=LLMModelName.GPT_35_TURBO, embedding_model_name=EmbeddingModelName.EMBEDDING_3_SMALL)"
   ]
  },
  {
   "cell_type": "markdown",
   "metadata": {},
   "source": [
    "## **Indexing (All)**"
   ]
  },
  {
   "cell_type": "code",
   "execution_count": 4,
   "metadata": {},
   "outputs": [],
   "source": [
    "def clean_document_content(content):\n",
    "    return content.replace('\\x00', '')  # Remove NUL characters"
   ]
  },
  {
   "cell_type": "code",
   "execution_count": 5,
   "metadata": {},
   "outputs": [],
   "source": [
    "# from utils.documents_extractor.documents_extract_ojk import extract_all_documents_in_directory\n",
    "# from utils.documents_split import document_splitter\n",
    "# import pickle\n",
    "# import os\n",
    "\n",
    "# documents_dirs = ['./data/documents1/', './data/documents2/', './data/documents3/']\n",
    "# pickle_path = './data/pickles/'\n",
    "# metadata_path = './data/metadata/files_metadata.csv'\n",
    "\n",
    "# LOAD_PICKLE = False\n",
    "\n",
    "# for dir in documents_dirs:\n",
    "#     if not LOAD_PICKLE:\n",
    "#         documents = extract_all_documents_in_directory(dir, metadata_path, treshold=0.98)\n",
    "\n",
    "#     if not LOAD_PICKLE:\n",
    "#         all_splits = document_splitter(docs=documents)\n",
    "#         all_splits_sorted = sorted(all_splits, key=lambda x: (x.metadata['doc_id'], x.metadata.get('page_number', '0')))\n",
    "#         for split in all_splits_sorted:\n",
    "#             split.page_content = clean_document_content(split.page_content)\n",
    "\n",
    "#         # Determine the pickle file name based on the directory\n",
    "#         dir_name = os.path.basename(os.path.normpath(dir))\n",
    "#         file_pickle_name = f'{dir_name}.pkl'\n",
    "\n",
    "#         # Save the sorted splits to a pickle file\n",
    "#         with open(os.path.join(pickle_path, file_pickle_name), 'wb') as file:\n",
    "#             pickle.dump(all_splits_sorted, file)"
   ]
  },
  {
   "cell_type": "markdown",
   "metadata": {},
   "source": [
    "## **Indexing**"
   ]
  },
  {
   "cell_type": "code",
   "execution_count": 6,
   "metadata": {},
   "outputs": [],
   "source": [
    "documents_dir = './data/documents1/'\n",
    "pickle_path = './data/pickles/'\n",
    "metadata_path = './data/metadata/files_metadata.csv'\n",
    "\n",
    "LOAD_PICKLE = True"
   ]
  },
  {
   "cell_type": "markdown",
   "metadata": {},
   "source": [
    "### **Load**\n",
    "\n",
    "Untuk SIKEPO dan BI beda cara extract documentsnya, file document_extractor buat sendiri :D."
   ]
  },
  {
   "cell_type": "code",
   "execution_count": 7,
   "metadata": {},
   "outputs": [],
   "source": [
    "from utils.documents_extractor.documents_extract_ojk import extract_all_documents_in_directory\n",
    "\n",
    "if not LOAD_PICKLE:\n",
    "    documents = extract_all_documents_in_directory(documents_dir, metadata_path, treshold=0.98)"
   ]
  },
  {
   "cell_type": "markdown",
   "metadata": {},
   "source": [
    "### **Split**"
   ]
  },
  {
   "cell_type": "code",
   "execution_count": 21,
   "metadata": {},
   "outputs": [],
   "source": [
    "from utils.documents_split import document_splitter\n",
    "import pickle\n",
    "\n",
    "if not LOAD_PICKLE:\n",
    "    all_splits = document_splitter(docs=documents)\n",
    "    all_splits_sorted = sorted(all_splits, key=lambda x: (x.metadata['doc_id'], x.metadata.get('page_number', '0')))\n",
    "    for split in all_splits_sorted:\n",
    "        split.page_content = clean_document_content(split.page_content)\n",
    "    # Open a file and use dump()\n",
    "    with open(pickle_path + 'documents1.pkl', 'wb') as file:\n",
    "        # A new file will be created\n",
    "        pickle.dump(all_splits_sorted, file)\n",
    "\n",
    "# Open the file in binary mode \n",
    "with open(pickle_path + 'documents3.pkl', 'rb') as file:\n",
    "    # Call load method to deserialze \n",
    "    all_splits = pickle.load(file)"
   ]
  },
  {
   "cell_type": "code",
   "execution_count": 22,
   "metadata": {},
   "outputs": [
    {
     "data": {
      "text/plain": [
       "49201"
      ]
     },
     "execution_count": 22,
     "metadata": {},
     "output_type": "execute_result"
    }
   ],
   "source": [
    "len(all_splits)"
   ]
  },
  {
   "cell_type": "code",
   "execution_count": 23,
   "metadata": {},
   "outputs": [
    {
     "data": {
      "text/plain": [
       "{'doc_id': 2212,\n",
       " 'title': 'Surat Edaran Bank Indonesia Nomor 9/30/DPNP',\n",
       " 'sector': None,\n",
       " 'subsector': None,\n",
       " 'regulation_type': None,\n",
       " 'regulation_number': '9/30/DPNP/2007',\n",
       " 'effective_date': '2007/12/12',\n",
       " 'file_url': 'https://www.ojk.go.id/id/kanal/perbankan/regulasi/surat-edaran-bank-indonesia/Documents/187.pdf',\n",
       " 'page_number': 1}"
      ]
     },
     "execution_count": 23,
     "metadata": {},
     "output_type": "execute_result"
    }
   ],
   "source": [
    "all_splits[0].metadata"
   ]
  },
  {
   "cell_type": "markdown",
   "metadata": {},
   "source": [
    "### **Storing**"
   ]
  },
  {
   "cell_type": "code",
   "execution_count": 24,
   "metadata": {},
   "outputs": [
    {
     "name": "stdout",
     "output_type": "stream",
     "text": [
      "Start loading from idx: 0\n",
      "Loaded 1-500 documents\n",
      "Loaded 501-1000 documents\n",
      "Loaded 1001-1500 documents\n",
      "Loaded 1501-2000 documents\n",
      "Loaded 2001-2500 documents\n",
      "Loaded 2501-3000 documents\n",
      "Loaded 3001-3500 documents\n",
      "Loaded 3501-4000 documents\n",
      "Loaded 4001-4500 documents\n",
      "Loaded 4501-5000 documents\n",
      "Loaded 5001-5500 documents\n",
      "Loaded 5501-6000 documents\n",
      "Loaded 6001-6500 documents\n",
      "Loaded 6501-7000 documents\n",
      "Loaded 7001-7500 documents\n",
      "Loaded 7501-8000 documents\n",
      "Loaded 8001-8500 documents\n",
      "Loaded 8501-9000 documents\n",
      "Loaded 9001-9500 documents\n",
      "Loaded 9501-10000 documents\n",
      "Loaded 10001-10500 documents\n",
      "Loaded 10501-11000 documents\n",
      "Loaded 11001-11500 documents\n",
      "Loaded 11501-12000 documents\n",
      "Loaded 12001-12500 documents\n",
      "Loaded 12501-13000 documents\n",
      "Loaded 13001-13500 documents\n",
      "Loaded 13501-14000 documents\n",
      "Loaded 14001-14500 documents\n",
      "Loaded 14501-15000 documents\n",
      "Loaded 15001-15500 documents\n",
      "Loaded 15501-16000 documents\n",
      "Loaded 16001-16500 documents\n",
      "Loaded 16501-17000 documents\n",
      "Loaded 17001-17500 documents\n",
      "Loaded 17501-18000 documents\n",
      "Loaded 18001-18500 documents\n",
      "Loaded 18501-19000 documents\n",
      "Loaded 19001-19500 documents\n",
      "Loaded 19501-20000 documents\n",
      "Loaded 20001-20500 documents\n",
      "Loaded 20501-21000 documents\n",
      "Loaded 21001-21500 documents\n",
      "Loaded 21501-22000 documents\n",
      "Loaded 22001-22500 documents\n",
      "Loaded 22501-23000 documents\n",
      "Loaded 23001-23500 documents\n",
      "Loaded 23501-24000 documents\n",
      "Loaded 24001-24500 documents\n",
      "Loaded 24501-25000 documents\n",
      "Loaded 25001-25500 documents\n",
      "Loaded 25501-26000 documents\n",
      "Loaded 26001-26500 documents\n"
     ]
    },
    {
     "name": "stderr",
     "output_type": "stream",
     "text": [
      "[2024-07-31 18:04:59,465] [ WARNING] _node_pool.py:249 - Node <Urllib3HttpNode(https://16.78.85.84:9200)> has failed for 1 times in a row, putting on 1 second timeout\n",
      "[2024-07-31 18:04:59,466] [ WARNING] _transport.py:415 - Retrying request after failure (attempt 0 of 10)\n",
      "Traceback (most recent call last):\n",
      "  File \"c:\\Users\\acer\\miniconda3\\envs\\chatbot-ocbc\\lib\\site-packages\\elastic_transport\\_transport.py\", line 342, in perform_request\n",
      "    resp = node.perform_request(\n",
      "  File \"c:\\Users\\acer\\miniconda3\\envs\\chatbot-ocbc\\lib\\site-packages\\elastic_transport\\_node\\_http_urllib3.py\", line 202, in perform_request\n",
      "    raise err from None\n",
      "elastic_transport.ConnectionError: Connection error caused by: ProtocolError(('Connection aborted.', timeout('The write operation timed out')))\n",
      "[2024-07-31 18:05:07,211] [ WARNING] _node_pool.py:269 - Node <Urllib3HttpNode(https://16.78.85.84:9200)> has been marked alive after a successful request\n"
     ]
    },
    {
     "name": "stdout",
     "output_type": "stream",
     "text": [
      "Loaded 26501-27000 documents\n",
      "Loaded 27001-27500 documents\n",
      "Loaded 27501-28000 documents\n",
      "Loaded 28001-28500 documents\n",
      "Loaded 28501-29000 documents\n",
      "Loaded 29001-29500 documents\n",
      "Loaded 29501-30000 documents\n",
      "Loaded 30001-30500 documents\n",
      "Loaded 30501-31000 documents\n",
      "Loaded 31001-31500 documents\n",
      "Loaded 31501-32000 documents\n",
      "Loaded 32001-32500 documents\n",
      "Loaded 32501-33000 documents\n",
      "Loaded 33001-33500 documents\n",
      "Loaded 33501-34000 documents\n",
      "Loaded 34001-34500 documents\n",
      "Loaded 34501-35000 documents\n",
      "Loaded 35001-35500 documents\n",
      "Loaded 35501-36000 documents\n",
      "Loaded 36001-36500 documents\n",
      "Loaded 36501-37000 documents\n",
      "Loaded 37001-37500 documents\n",
      "Loaded 37501-38000 documents\n",
      "Loaded 38001-38500 documents\n",
      "Loaded 38501-39000 documents\n",
      "Loaded 39001-39500 documents\n",
      "Loaded 39501-40000 documents\n",
      "Loaded 40001-40500 documents\n",
      "Loaded 40501-41000 documents\n",
      "Loaded 41001-41500 documents\n",
      "Loaded 41501-42000 documents\n",
      "Loaded 42001-42500 documents\n",
      "Loaded 42501-43000 documents\n",
      "Loaded 43001-43500 documents\n",
      "Loaded 43501-44000 documents\n",
      "Loaded 44001-44500 documents\n",
      "Loaded 44501-45000 documents\n",
      "Loaded 45001-45500 documents\n",
      "Loaded 45501-46000 documents\n",
      "Loaded 46001-46500 documents\n",
      "Loaded 46501-47000 documents\n",
      "Loaded 47001-47500 documents\n",
      "Loaded 47501-48000 documents\n",
      "Loaded 48001-48500 documents\n",
      "Loaded 48501-49000 documents\n",
      "Loaded 49001-49201 documents\n",
      "Loaded index 'ojk'.\n"
     ]
    }
   ],
   "source": [
    "from database.vector_store.vector_store import ElasticIndexManager\n",
    "\n",
    "# vector_store_manager = RedisIndexManager(index_name='ojk', embed_model=embed_model, config=config, db_id=0)\n",
    "# vector_store_manager = PostgresIndexManager(index_name='ojk', embed_model=embed_model, config=config)\n",
    "vector_store_manager = ElasticIndexManager(index_name='ojk', embed_model=embed_model, config=config)\n",
    "\n",
    "# vector_store_manager.delete_index() # WARNING: This will delete the index\n",
    "vector_store_manager.store_vector_index(docs=all_splits, batch_size=500)\n",
    "vector_store = vector_store_manager.load_vector_index()"
   ]
  },
  {
   "cell_type": "markdown",
   "metadata": {},
   "source": [
    "## **NYOBA2**"
   ]
  },
  {
   "cell_type": "code",
   "execution_count": 11,
   "metadata": {},
   "outputs": [
    {
     "data": {
      "text/plain": [
       "[Document(metadata={'doc_id': 4, 'title': 'Tata Cara dan Mekanisme Penyampaian Data Transaksi Pendanaan dan Pelaporan Penyelenggara Layanan Pendanaan Bersama Berbasis Teknologi Informasi (LPBBTI)', 'sector': 'IKNB', 'subsector': 'Peraturan Lainnya', 'regulation_type': 'Surat Edaran OJK', 'regulation_number': '1/SEOJK.06/2024', 'effective_date': '2024/07/01', 'file_url': 'https://www.ojk.go.id/id/regulasi/Documents/Pages/Tata-Cara-dan-Mekanisme-Penyampaian-Data-Transaksi-Pendanaan-dan-Pelaporan-Penyelenggara-Layanan-Pendanaan-Bersama-Berbasis/SEOJK%201-SEOJK.06-2024%20Tata%20Cara%20dan%20Mekanisme%20Penyampaian%20Data%20Transaksi%20Pendanaan%20dan%20Pelaporan%20Penyelenggara%20LPBBTI.pdf', 'page_number': 15}, page_content='No \\nKode Jenis Kelamin \\nPengisian \\n1 \\nBpk. Adiwena  \\nLaki-Laki \\n(sesuai dengan referensi) \\n2 \\nIbu Suci \\nWanita \\n(sesuai dengan referensi) \\n3 \\nPT ABC \\nkolom dikosongkan \\n \\n15. Alamat \\na. \\nKolom ini diisi dengan alamat rumah untuk perorangan dan alamat \\nkantor untuk Perusahan/lembaga. \\nb. \\nKolom ini bersifat mandatory (tidak dapat dikosongkan).\\n\\nSource: [1/SEOJK.06/2024](https://www.ojk.go.id/id/regulasi/Documents/Pages/Tata-Cara-dan-Mekanisme-Penyampaian-Data-Transaksi-Pendanaan-dan-Pelaporan-Penyelenggara-Layanan-Pendanaan-Bersama-Berbasis/SEOJK%201-SEOJK.06-2024%20Tata%20Cara%20dan%20Mekanisme%20Penyampaian%20Data%20Transaksi%20Pendanaan%20dan%20Pelaporan%20Penyelenggara%20LPBBTI.pdf#page=15)'),\n",
       " Document(metadata={'doc_id': 4, 'title': 'Tata Cara dan Mekanisme Penyampaian Data Transaksi Pendanaan dan Pelaporan Penyelenggara Layanan Pendanaan Bersama Berbasis Teknologi Informasi (LPBBTI)', 'sector': 'IKNB', 'subsector': 'Peraturan Lainnya', 'regulation_type': 'Surat Edaran OJK', 'regulation_number': '1/SEOJK.06/2024', 'effective_date': '2024/07/01', 'file_url': 'https://www.ojk.go.id/id/regulasi/Documents/Pages/Tata-Cara-dan-Mekanisme-Penyampaian-Data-Transaksi-Pendanaan-dan-Pelaporan-Penyelenggara-Layanan-Pendanaan-Bersama-Berbasis/SEOJK%201-SEOJK.06-2024%20Tata%20Cara%20dan%20Mekanisme%20Penyampaian%20Data%20Transaksi%20Pendanaan%20dan%20Pelaporan%20Penyelenggara%20LPBBTI.pdf', 'page_number': 15}, page_content='No \\nKode Jenis Kelamin \\nPengisian \\n1 \\nBpk. Adiwena  \\nLaki-Laki \\n(sesuai dengan referensi) \\n2 \\nIbu Suci \\nWanita \\n(sesuai dengan referensi) \\n3 \\nPT ABC \\nkolom dikosongkan \\n \\n15. Alamat \\na. \\nKolom ini diisi dengan alamat rumah untuk perorangan dan alamat \\nkantor untuk Perusahan/lembaga. \\nb. \\nKolom ini bersifat mandatory (tidak dapat dikosongkan).\\n\\nSource: [1/SEOJK.06/2024](https://www.ojk.go.id/id/regulasi/Documents/Pages/Tata-Cara-dan-Mekanisme-Penyampaian-Data-Transaksi-Pendanaan-dan-Pelaporan-Penyelenggara-Layanan-Pendanaan-Bersama-Berbasis/SEOJK%201-SEOJK.06-2024%20Tata%20Cara%20dan%20Mekanisme%20Penyampaian%20Data%20Transaksi%20Pendanaan%20dan%20Pelaporan%20Penyelenggara%20LPBBTI.pdf#page=15)'),\n",
       " Document(metadata={'doc_id': 4, 'title': 'Tata Cara dan Mekanisme Penyampaian Data Transaksi Pendanaan dan Pelaporan Penyelenggara Layanan Pendanaan Bersama Berbasis Teknologi Informasi (LPBBTI)', 'sector': 'IKNB', 'subsector': 'Peraturan Lainnya', 'regulation_type': 'Surat Edaran OJK', 'regulation_number': '1/SEOJK.06/2024', 'effective_date': '2024/07/01', 'file_url': 'https://www.ojk.go.id/id/regulasi/Documents/Pages/Tata-Cara-dan-Mekanisme-Penyampaian-Data-Transaksi-Pendanaan-dan-Pelaporan-Penyelenggara-Layanan-Pendanaan-Bersama-Berbasis/SEOJK%201-SEOJK.06-2024%20Tata%20Cara%20dan%20Mekanisme%20Penyampaian%20Data%20Transaksi%20Pendanaan%20dan%20Pelaporan%20Penyelenggara%20LPBBTI.pdf', 'page_number': 16}, page_content='2 \\nMr Park So Young sebagai warga negara \\nKorea \\nKR \\n \\n17. Kode_provinsi \\na. \\nKolom ini diisi sesuai dengan dua digit kode provinsi sesuai \\nkeputusan lembaga yang berwenang. \\nb. \\nKolom ini bersifat mandatory (tidak dapat dikosongkan). \\nc. \\nContoh pengisian data: \\nNo \\nKode Provinsi \\nPengisian \\n1 \\nBapak Adiwena tinggal di Sumatera Selatan \\n(kode:16) \\n16 \\n2 \\nIbu Azella tinggal di Jawa Barat (kode:32) \\n32 \\n18. Kode_kota \\na. \\nKolom ini diisi sesuai dengan empat digit kombinasi dari kode \\nprovinsi dan kode kota tanpa tanda hubung sesuai keputusan \\nlembaga yang berwenang. \\nb. \\nKolom ini bersifat mandatory (tidak dapat dikosongkan). \\nc. \\nContoh pengisian data: \\nNo \\nKode Provinsi \\nPengisian \\n1 \\nBapak Joko tinggal di kota Semarang (kode: \\n74) \\n3374 \\n2 \\nIbu Susi tinggal di kota Depok (kode:76) \\n3276 \\n \\n19. No_telepon \\na. \\nKolom ini diisi dengan no telepon pribadi untuk perorangan dan no\\n\\nSource: [1/SEOJK.06/2024](https://www.ojk.go.id/id/regulasi/Documents/Pages/Tata-Cara-dan-Mekanisme-Penyampaian-Data-Transaksi-Pendanaan-dan-Pelaporan-Penyelenggara-Layanan-Pendanaan-Bersama-Berbasis/SEOJK%201-SEOJK.06-2024%20Tata%20Cara%20dan%20Mekanisme%20Penyampaian%20Data%20Transaksi%20Pendanaan%20dan%20Pelaporan%20Penyelenggara%20LPBBTI.pdf#page=16)'),\n",
       " Document(metadata={'doc_id': 4, 'title': 'Tata Cara dan Mekanisme Penyampaian Data Transaksi Pendanaan dan Pelaporan Penyelenggara Layanan Pendanaan Bersama Berbasis Teknologi Informasi (LPBBTI)', 'sector': 'IKNB', 'subsector': 'Peraturan Lainnya', 'regulation_type': 'Surat Edaran OJK', 'regulation_number': '1/SEOJK.06/2024', 'effective_date': '2024/07/01', 'file_url': 'https://www.ojk.go.id/id/regulasi/Documents/Pages/Tata-Cara-dan-Mekanisme-Penyampaian-Data-Transaksi-Pendanaan-dan-Pelaporan-Penyelenggara-Layanan-Pendanaan-Bersama-Berbasis/SEOJK%201-SEOJK.06-2024%20Tata%20Cara%20dan%20Mekanisme%20Penyampaian%20Data%20Transaksi%20Pendanaan%20dan%20Pelaporan%20Penyelenggara%20LPBBTI.pdf', 'page_number': 16}, page_content='2 \\nMr Park So Young sebagai warga negara \\nKorea \\nKR \\n \\n17. Kode_provinsi \\na. \\nKolom ini diisi sesuai dengan dua digit kode provinsi sesuai \\nkeputusan lembaga yang berwenang. \\nb. \\nKolom ini bersifat mandatory (tidak dapat dikosongkan). \\nc. \\nContoh pengisian data: \\nNo \\nKode Provinsi \\nPengisian \\n1 \\nBapak Adiwena tinggal di Sumatera Selatan \\n(kode:16) \\n16 \\n2 \\nIbu Azella tinggal di Jawa Barat (kode:32) \\n32 \\n18. Kode_kota \\na. \\nKolom ini diisi sesuai dengan empat digit kombinasi dari kode \\nprovinsi dan kode kota tanpa tanda hubung sesuai keputusan \\nlembaga yang berwenang. \\nb. \\nKolom ini bersifat mandatory (tidak dapat dikosongkan). \\nc. \\nContoh pengisian data: \\nNo \\nKode Provinsi \\nPengisian \\n1 \\nBapak Joko tinggal di kota Semarang (kode: \\n74) \\n3374 \\n2 \\nIbu Susi tinggal di kota Depok (kode:76) \\n3276 \\n \\n19. No_telepon \\na. \\nKolom ini diisi dengan no telepon pribadi untuk perorangan dan no\\n\\nSource: [1/SEOJK.06/2024](https://www.ojk.go.id/id/regulasi/Documents/Pages/Tata-Cara-dan-Mekanisme-Penyampaian-Data-Transaksi-Pendanaan-dan-Pelaporan-Penyelenggara-Layanan-Pendanaan-Bersama-Berbasis/SEOJK%201-SEOJK.06-2024%20Tata%20Cara%20dan%20Mekanisme%20Penyampaian%20Data%20Transaksi%20Pendanaan%20dan%20Pelaporan%20Penyelenggara%20LPBBTI.pdf#page=16)')]"
      ]
     },
     "execution_count": 11,
     "metadata": {},
     "output_type": "execute_result"
    }
   ],
   "source": [
    "vector_store.as_retriever().invoke(\"Berapa SWDKLLJ dari buldozer?\")"
   ]
  },
  {
   "cell_type": "code",
   "execution_count": 12,
   "metadata": {},
   "outputs": [],
   "source": [
    "from langchain_community.vectorstores.pgvector import PGVector\n",
    "from langchain.chains.query_constructor.base import AttributeInfo\n",
    "from langchain.chains.query_constructor.base import (\n",
    "    StructuredQueryOutputParser,\n",
    "    get_query_constructor_prompt,\n",
    ")\n",
    "from langchain_core.language_models.base import BaseLanguageModel\n",
    "from langchain.retrievers.self_query.base import SelfQueryRetriever\n",
    "from langchain_core.vectorstores import VectorStore\n",
    "from langchain.retrievers.self_query.elasticsearch import ElasticsearchTranslator\n",
    "from langchain_core.prompts import PromptTemplate\n",
    "from langchain_core.structured_query import Operator, Comparator\n",
    "\n",
    "# Define metadata field information\n",
    "metadata_field_info = [\n",
    "    AttributeInfo(\n",
    "        name=\"title\",\n",
    "        description=\"The title of the document of regulation\",\n",
    "        type=\"string\",\n",
    "    ),\n",
    "    AttributeInfo(\n",
    "        name=\"sector\",\n",
    "        description=\"\"\"The sector of the regulation\"\"\",\n",
    "        type=\"string\",\n",
    "    ),\n",
    "    AttributeInfo(\n",
    "        name=\"subsector\",\n",
    "        description=\"The subsector of the regulation\",\n",
    "        type=\"string\",\n",
    "    ),\n",
    "    AttributeInfo(\n",
    "        name=\"regulation_type\",\n",
    "        description=\"\"\"The type of the regulation\"\"\",\n",
    "        type=\"string\",\n",
    "    ),\n",
    "    AttributeInfo(\n",
    "        name=\"regulation_number\",\n",
    "        description=\"The number of the regulation\",\n",
    "        type=\"string\",\n",
    "    ),\n",
    "    AttributeInfo(\n",
    "        name=\"effective_date\",\n",
    "        description=\"The effective date of the regulation in string format 'YYYY/MM/DD'\",\n",
    "        type=\"string\",\n",
    "    ),\n",
    "]\n",
    "\n",
    "# Define document content description\n",
    "document_content_description = \"The content of the document\"\n",
    "\n",
    "# Define prompt\n",
    "SCHEMA = \"\"\"\\\n",
    "<< Structured Request Schema >>\n",
    "When responding use a markdown code snippet with a JSON object formatted in the following schema:\n",
    "\n",
    "```json\n",
    "{{{{\n",
    "    \"query\": string \\\\ text string to compare to document contents\n",
    "    \"filter\": string \\\\ logical condition statement for filtering documents\n",
    "}}}}\n",
    "```\n",
    "\n",
    "The query string should contain only text that is expected to match the contents of documents. Any conditions in the filter should not be mentioned in the query as well.\n",
    "\n",
    "A logical condition statement is composed of one or more comparison and logical operation statements.\n",
    "\n",
    "A comparison statement takes the form: `comp(attr, val)`:\n",
    "- `comp` ({allowed_comparators}): comparator\n",
    "- `attr` (string):  name of attribute to apply the comparison to\n",
    "- `val` (string): is the comparison value\n",
    "\n",
    "A logical operation statement takes the form `op(statement1, statement2, ...)`:\n",
    "- `op` ({allowed_operators}): logical operator\n",
    "- `statement1`, `statement2`, ... (comparison statements or logical operation statements): one or more statements to apply the operation to\n",
    "\n",
    "Make sure that you only use the comparators and logical operators listed above and no others.\n",
    "Make sure that filters only refer to attributes that exist in the data source.\n",
    "Make sure that filters only use the attributed names with its function names if there are functions applied on them.\n",
    "Make sure that filters take into account the descriptions of attributes and only make comparisons that are feasible given the type of data being stored.\n",
    "Make sure that filters are only used as needed. If there are no filters that should be applied return \"NO_FILTER\" for the filter value.\n",
    "Make sure that date attributes are compared using ASCII comparison operators with the date in the string format \"YYYY/MM/DD\".\n",
    "\"\"\"\n",
    "\n",
    "SCHEMA_PROMPT = PromptTemplate.from_template(SCHEMA)\n",
    "\n",
    "# prompt = get_query_constructor_prompt(\n",
    "#     document_contents=document_content_description,\n",
    "#     attribute_info=metadata_field_info,\n",
    "#     schema_prompt=SCHEMA_PROMPT,\n",
    "    \n",
    "# )\n",
    "# output_parser = StructuredQueryOutputParser.from_components()\n",
    "# query_constructor = prompt | llm_model | output_parser\n",
    "\n",
    "# query_constructor.invoke(\"Berikan dokumen yang berlaku pada tanggal 1 Januari 2023 hingga 1 Januari 2024\")\n",
    "\n",
    "\n",
    "\n",
    "# # Create query constructor\n",
    "# def self_query_ojk(llm_model: BaseLanguageModel, vector_store: VectorStore, search_type: str = \"similarity\") -> SelfQueryRetriever:\n",
    "#     retriever = SelfQueryRetriever.from_llm(\n",
    "#         document_contents=document_content_description,\n",
    "#         # enable_limit=False,\n",
    "#         use_original_query=True,\n",
    "#         llm=llm_model,\n",
    "#         vectorstore=vector_store,\n",
    "#         metadata_field_info=metadata_field_info,\n",
    "#         structured_query_translator=PGVectorTranslator(),\n",
    "#     )\n",
    "\n",
    "#     return retriever\n",
    "\n",
    "\n",
    "\n",
    "def self_query_ojk(llm_model: BaseLanguageModel, vector_store: VectorStore, search_type: str = \"similarity\") -> SelfQueryRetriever:\n",
    "    prompt = get_query_constructor_prompt(\n",
    "        document_contents=document_content_description,\n",
    "        attribute_info=metadata_field_info,\n",
    "        schema_prompt=SCHEMA_PROMPT,\n",
    "    )\n",
    "    output_parser = StructuredQueryOutputParser.from_components()\n",
    "    query_constructor = prompt | llm_model | output_parser\n",
    "\n",
    "    retriever = SelfQueryRetriever(\n",
    "        query_constructor=query_constructor,\n",
    "        vectorstore=vector_store,\n",
    "        search_type=search_type,\n",
    "        structured_query_translator=ElasticsearchTranslator(),\n",
    "        verbose=True,\n",
    "    )\n",
    "\n",
    "    return retriever\n",
    "\n",
    "retriever = self_query_ojk(llm_model=llm_model, vector_store=vector_store, search_type=\"similarity\")"
   ]
  },
  {
   "cell_type": "code",
   "execution_count": 15,
   "metadata": {},
   "outputs": [
    {
     "name": "stdout",
     "output_type": "stream",
     "text": [
      "\u001b[32;1m\u001b[1;3m[chain/start]\u001b[0m \u001b[1m[retriever:Retriever > chain:RunnableSequence] Entering Chain run with input:\n",
      "\u001b[0m{\n",
      "  \"query\": \"Berikan dokumen yang berlaku dari tahun 20023 hingga 2025\"\n",
      "}\n",
      "\u001b[32;1m\u001b[1;3m[chain/start]\u001b[0m \u001b[1m[retriever:Retriever > chain:RunnableSequence > prompt:FewShotPromptTemplate] Entering Prompt run with input:\n",
      "\u001b[0m{\n",
      "  \"query\": \"Berikan dokumen yang berlaku dari tahun 20023 hingga 2025\"\n",
      "}\n",
      "\u001b[36;1m\u001b[1;3m[chain/end]\u001b[0m \u001b[1m[retriever:Retriever > chain:RunnableSequence > prompt:FewShotPromptTemplate] [1ms] Exiting Prompt run with output:\n",
      "\u001b[0m[outputs]\n",
      "\u001b[32;1m\u001b[1;3m[llm/start]\u001b[0m \u001b[1m[retriever:Retriever > chain:RunnableSequence > llm:AzureChatOpenAI] Entering LLM run with input:\n",
      "\u001b[0m{\n",
      "  \"prompts\": [\n",
      "    \"Human: Your goal is to structure the user's query to match the request schema provided below.\\n\\n<< Structured Request Schema >>\\nWhen responding use a markdown code snippet with a JSON object formatted in the following schema:\\n\\n```json\\n{\\n    \\\"query\\\": string \\\\ text string to compare to document contents\\n    \\\"filter\\\": string \\\\ logical condition statement for filtering documents\\n}\\n```\\n\\nThe query string should contain only text that is expected to match the contents of documents. Any conditions in the filter should not be mentioned in the query as well.\\n\\nA logical condition statement is composed of one or more comparison and logical operation statements.\\n\\nA comparison statement takes the form: `comp(attr, val)`:\\n- `comp` (eq | ne | gt | gte | lt | lte | contain | like | in | nin): comparator\\n- `attr` (string):  name of attribute to apply the comparison to\\n- `val` (string): is the comparison value\\n\\nA logical operation statement takes the form `op(statement1, statement2, ...)`:\\n- `op` (and | or | not): logical operator\\n- `statement1`, `statement2`, ... (comparison statements or logical operation statements): one or more statements to apply the operation to\\n\\nMake sure that you only use the comparators and logical operators listed above and no others.\\nMake sure that filters only refer to attributes that exist in the data source.\\nMake sure that filters only use the attributed names with its function names if there are functions applied on them.\\nMake sure that filters take into account the descriptions of attributes and only make comparisons that are feasible given the type of data being stored.\\nMake sure that filters are only used as needed. If there are no filters that should be applied return \\\"NO_FILTER\\\" for the filter value.\\nMake sure that date attributes are compared using ASCII comparison operators with the date in the string format \\\"YYYY/MM/DD\\\".\\n\\n\\n<< Example 1. >>\\nData Source:\\n```json\\n{\\n    \\\"content\\\": \\\"Lyrics of a song\\\",\\n    \\\"attributes\\\": {\\n        \\\"artist\\\": {\\n            \\\"type\\\": \\\"string\\\",\\n            \\\"description\\\": \\\"Name of the song artist\\\"\\n        },\\n        \\\"length\\\": {\\n            \\\"type\\\": \\\"integer\\\",\\n            \\\"description\\\": \\\"Length of the song in seconds\\\"\\n        },\\n        \\\"genre\\\": {\\n            \\\"type\\\": \\\"string\\\",\\n            \\\"description\\\": \\\"The song genre, one of \\\"pop\\\", \\\"rock\\\" or \\\"rap\\\"\\\"\\n        }\\n    }\\n}\\n```\\n\\nUser Query:\\nWhat are songs by Taylor Swift or Katy Perry about teenage romance under 3 minutes long in the dance pop genre\\n\\nStructured Request:\\n```json\\n{\\n    \\\"query\\\": \\\"teenager love\\\",\\n    \\\"filter\\\": \\\"and(or(eq(\\\\\\\"artist\\\\\\\", \\\\\\\"Taylor Swift\\\\\\\"), eq(\\\\\\\"artist\\\\\\\", \\\\\\\"Katy Perry\\\\\\\")), lt(\\\\\\\"length\\\\\\\", 180), eq(\\\\\\\"genre\\\\\\\", \\\\\\\"pop\\\\\\\"))\\\"\\n}\\n```\\n\\n\\n<< Example 2. >>\\nData Source:\\n```json\\n{\\n    \\\"content\\\": \\\"Lyrics of a song\\\",\\n    \\\"attributes\\\": {\\n        \\\"artist\\\": {\\n            \\\"type\\\": \\\"string\\\",\\n            \\\"description\\\": \\\"Name of the song artist\\\"\\n        },\\n        \\\"length\\\": {\\n            \\\"type\\\": \\\"integer\\\",\\n            \\\"description\\\": \\\"Length of the song in seconds\\\"\\n        },\\n        \\\"genre\\\": {\\n            \\\"type\\\": \\\"string\\\",\\n            \\\"description\\\": \\\"The song genre, one of \\\"pop\\\", \\\"rock\\\" or \\\"rap\\\"\\\"\\n        }\\n    }\\n}\\n```\\n\\nUser Query:\\nWhat are songs that were not published on Spotify\\n\\nStructured Request:\\n```json\\n{\\n    \\\"query\\\": \\\"\\\",\\n    \\\"filter\\\": \\\"NO_FILTER\\\"\\n}\\n```\\n\\n\\n<< Example 3. >>\\nData Source:\\n```json\\n{\\n    \\\"content\\\": \\\"The content of the document\\\",\\n    \\\"attributes\\\": {\\n    \\\"title\\\": {\\n        \\\"description\\\": \\\"The title of the document of regulation\\\",\\n        \\\"type\\\": \\\"string\\\"\\n    },\\n    \\\"sector\\\": {\\n        \\\"description\\\": \\\"The sector of the regulation\\\",\\n        \\\"type\\\": \\\"string\\\"\\n    },\\n    \\\"subsector\\\": {\\n        \\\"description\\\": \\\"The subsector of the regulation\\\",\\n        \\\"type\\\": \\\"string\\\"\\n    },\\n    \\\"regulation_type\\\": {\\n        \\\"description\\\": \\\"The type of the regulation\\\",\\n        \\\"type\\\": \\\"string\\\"\\n    },\\n    \\\"regulation_number\\\": {\\n        \\\"description\\\": \\\"The number of the regulation\\\",\\n        \\\"type\\\": \\\"string\\\"\\n    },\\n    \\\"effective_date\\\": {\\n        \\\"description\\\": \\\"The effective date of the regulation in string format 'YYYY/MM/DD'\\\",\\n        \\\"type\\\": \\\"string\\\"\\n    }\\n}\\n}\\n```\\n\\nUser Query:\\nBerikan dokumen yang berlaku dari tahun 20023 hingga 2025\\n\\nStructured Request:\"\n",
      "  ]\n",
      "}\n",
      "\u001b[36;1m\u001b[1;3m[llm/end]\u001b[0m \u001b[1m[retriever:Retriever > chain:RunnableSequence > llm:AzureChatOpenAI] [1.94s] Exiting LLM run with output:\n",
      "\u001b[0m{\n",
      "  \"generations\": [\n",
      "    [\n",
      "      {\n",
      "        \"text\": \"```json\\n{\\n    \\\"query\\\": \\\"\\\",\\n    \\\"filter\\\": \\\"and(gte(\\\\\\\"effective_date\\\\\\\", \\\\\\\"2002/01/01\\\\\\\"), lte(\\\\\\\"effective_date\\\\\\\", \\\\\\\"2025/12/31\\\\\\\"))\\\"\\n}\\n```\",\n",
      "        \"generation_info\": {\n",
      "          \"finish_reason\": \"stop\",\n",
      "          \"logprobs\": null,\n",
      "          \"content_filter_results\": {\n",
      "            \"hate\": {\n",
      "              \"filtered\": false,\n",
      "              \"severity\": \"safe\"\n",
      "            },\n",
      "            \"self_harm\": {\n",
      "              \"filtered\": false,\n",
      "              \"severity\": \"safe\"\n",
      "            },\n",
      "            \"sexual\": {\n",
      "              \"filtered\": false,\n",
      "              \"severity\": \"safe\"\n",
      "            },\n",
      "            \"violence\": {\n",
      "              \"filtered\": false,\n",
      "              \"severity\": \"safe\"\n",
      "            }\n",
      "          }\n",
      "        },\n",
      "        \"type\": \"ChatGeneration\",\n",
      "        \"message\": {\n",
      "          \"lc\": 1,\n",
      "          \"type\": \"constructor\",\n",
      "          \"id\": [\n",
      "            \"langchain\",\n",
      "            \"schema\",\n",
      "            \"messages\",\n",
      "            \"AIMessage\"\n",
      "          ],\n",
      "          \"kwargs\": {\n",
      "            \"content\": \"```json\\n{\\n    \\\"query\\\": \\\"\\\",\\n    \\\"filter\\\": \\\"and(gte(\\\\\\\"effective_date\\\\\\\", \\\\\\\"2002/01/01\\\\\\\"), lte(\\\\\\\"effective_date\\\\\\\", \\\\\\\"2025/12/31\\\\\\\"))\\\"\\n}\\n```\",\n",
      "            \"response_metadata\": {\n",
      "              \"token_usage\": {\n",
      "                \"completion_tokens\": 47,\n",
      "                \"prompt_tokens\": 985,\n",
      "                \"total_tokens\": 1032\n",
      "              },\n",
      "              \"model_name\": \"gpt-35-turbo\",\n",
      "              \"system_fingerprint\": null,\n",
      "              \"prompt_filter_results\": [\n",
      "                {\n",
      "                  \"prompt_index\": 0,\n",
      "                  \"content_filter_results\": {\n",
      "                    \"hate\": {\n",
      "                      \"filtered\": false,\n",
      "                      \"severity\": \"safe\"\n",
      "                    },\n",
      "                    \"self_harm\": {\n",
      "                      \"filtered\": false,\n",
      "                      \"severity\": \"safe\"\n",
      "                    },\n",
      "                    \"sexual\": {\n",
      "                      \"filtered\": false,\n",
      "                      \"severity\": \"safe\"\n",
      "                    },\n",
      "                    \"violence\": {\n",
      "                      \"filtered\": false,\n",
      "                      \"severity\": \"safe\"\n",
      "                    }\n",
      "                  }\n",
      "                }\n",
      "              ],\n",
      "              \"finish_reason\": \"stop\",\n",
      "              \"logprobs\": null,\n",
      "              \"content_filter_results\": {\n",
      "                \"hate\": {\n",
      "                  \"filtered\": false,\n",
      "                  \"severity\": \"safe\"\n",
      "                },\n",
      "                \"self_harm\": {\n",
      "                  \"filtered\": false,\n",
      "                  \"severity\": \"safe\"\n",
      "                },\n",
      "                \"sexual\": {\n",
      "                  \"filtered\": false,\n",
      "                  \"severity\": \"safe\"\n",
      "                },\n",
      "                \"violence\": {\n",
      "                  \"filtered\": false,\n",
      "                  \"severity\": \"safe\"\n",
      "                }\n",
      "              }\n",
      "            },\n",
      "            \"type\": \"ai\",\n",
      "            \"id\": \"run-8772461a-a32d-46a3-87bc-16cf6d09fed0-0\",\n",
      "            \"usage_metadata\": {\n",
      "              \"input_tokens\": 985,\n",
      "              \"output_tokens\": 47,\n",
      "              \"total_tokens\": 1032\n",
      "            },\n",
      "            \"tool_calls\": [],\n",
      "            \"invalid_tool_calls\": []\n",
      "          }\n",
      "        }\n",
      "      }\n",
      "    ]\n",
      "  ],\n",
      "  \"llm_output\": {\n",
      "    \"token_usage\": {\n",
      "      \"completion_tokens\": 47,\n",
      "      \"prompt_tokens\": 985,\n",
      "      \"total_tokens\": 1032\n",
      "    },\n",
      "    \"model_name\": \"gpt-35-turbo\",\n",
      "    \"system_fingerprint\": null,\n",
      "    \"prompt_filter_results\": [\n",
      "      {\n",
      "        \"prompt_index\": 0,\n",
      "        \"content_filter_results\": {\n",
      "          \"hate\": {\n",
      "            \"filtered\": false,\n",
      "            \"severity\": \"safe\"\n",
      "          },\n",
      "          \"self_harm\": {\n",
      "            \"filtered\": false,\n",
      "            \"severity\": \"safe\"\n",
      "          },\n",
      "          \"sexual\": {\n",
      "            \"filtered\": false,\n",
      "            \"severity\": \"safe\"\n",
      "          },\n",
      "          \"violence\": {\n",
      "            \"filtered\": false,\n",
      "            \"severity\": \"safe\"\n",
      "          }\n",
      "        }\n",
      "      }\n",
      "    ]\n",
      "  },\n",
      "  \"run\": null\n",
      "}\n",
      "\u001b[32;1m\u001b[1;3m[chain/start]\u001b[0m \u001b[1m[retriever:Retriever > chain:RunnableSequence > parser:StructuredQueryOutputParser] Entering Parser run with input:\n",
      "\u001b[0m[inputs]\n",
      "\u001b[36;1m\u001b[1;3m[chain/end]\u001b[0m \u001b[1m[retriever:Retriever > chain:RunnableSequence > parser:StructuredQueryOutputParser] [2ms] Exiting Parser run with output:\n",
      "\u001b[0m[outputs]\n",
      "\u001b[36;1m\u001b[1;3m[chain/end]\u001b[0m \u001b[1m[retriever:Retriever > chain:RunnableSequence] [1.95s] Exiting Chain run with output:\n",
      "\u001b[0m[outputs]\n"
     ]
    },
    {
     "data": {
      "text/plain": [
       "[Document(metadata={'doc_id': 4, 'title': 'Tata Cara dan Mekanisme Penyampaian Data Transaksi Pendanaan dan Pelaporan Penyelenggara Layanan Pendanaan Bersama Berbasis Teknologi Informasi (LPBBTI)', 'sector': 'IKNB', 'subsector': 'Peraturan Lainnya', 'regulation_type': 'Surat Edaran OJK', 'regulation_number': '1/SEOJK.06/2024', 'effective_date': '2024/07/01', 'file_url': 'https://www.ojk.go.id/id/regulasi/Documents/Pages/Tata-Cara-dan-Mekanisme-Penyampaian-Data-Transaksi-Pendanaan-dan-Pelaporan-Penyelenggara-Layanan-Pendanaan-Bersama-Berbasis/SEOJK%201-SEOJK.06-2024%20Tata%20Cara%20dan%20Mekanisme%20Penyampaian%20Data%20Transaksi%20Pendanaan%20dan%20Pelaporan%20Penyelenggara%20LPBBTI.pdf', 'page_number': 15}, page_content='No \\nKode Jenis Kelamin \\nPengisian \\n1 \\nBpk. Adiwena  \\nLaki-Laki \\n(sesuai dengan referensi) \\n2 \\nIbu Suci \\nWanita \\n(sesuai dengan referensi) \\n3 \\nPT ABC \\nkolom dikosongkan \\n \\n15. Alamat \\na. \\nKolom ini diisi dengan alamat rumah untuk perorangan dan alamat \\nkantor untuk Perusahan/lembaga. \\nb. \\nKolom ini bersifat mandatory (tidak dapat dikosongkan).\\n\\nSource: [1/SEOJK.06/2024](https://www.ojk.go.id/id/regulasi/Documents/Pages/Tata-Cara-dan-Mekanisme-Penyampaian-Data-Transaksi-Pendanaan-dan-Pelaporan-Penyelenggara-Layanan-Pendanaan-Bersama-Berbasis/SEOJK%201-SEOJK.06-2024%20Tata%20Cara%20dan%20Mekanisme%20Penyampaian%20Data%20Transaksi%20Pendanaan%20dan%20Pelaporan%20Penyelenggara%20LPBBTI.pdf#page=15)'),\n",
       " Document(metadata={'doc_id': 4, 'title': 'Tata Cara dan Mekanisme Penyampaian Data Transaksi Pendanaan dan Pelaporan Penyelenggara Layanan Pendanaan Bersama Berbasis Teknologi Informasi (LPBBTI)', 'sector': 'IKNB', 'subsector': 'Peraturan Lainnya', 'regulation_type': 'Surat Edaran OJK', 'regulation_number': '1/SEOJK.06/2024', 'effective_date': '2024/07/01', 'file_url': 'https://www.ojk.go.id/id/regulasi/Documents/Pages/Tata-Cara-dan-Mekanisme-Penyampaian-Data-Transaksi-Pendanaan-dan-Pelaporan-Penyelenggara-Layanan-Pendanaan-Bersama-Berbasis/SEOJK%201-SEOJK.06-2024%20Tata%20Cara%20dan%20Mekanisme%20Penyampaian%20Data%20Transaksi%20Pendanaan%20dan%20Pelaporan%20Penyelenggara%20LPBBTI.pdf', 'page_number': 7}, page_content='bulanan \\nsesuai \\ndengan \\nbentuk, \\nsusunan, \\ndan \\ntata \\ncara \\npenyampaian yang diatur dalam Surat Edaran Otoritas Jasa \\nKeuangan ini untuk periode laporan bulan Februari 2024 sampai \\ndengan periode laporan bulan Juni 2024.\\n\\nSource: [1/SEOJK.06/2024](https://www.ojk.go.id/id/regulasi/Documents/Pages/Tata-Cara-dan-Mekanisme-Penyampaian-Data-Transaksi-Pendanaan-dan-Pelaporan-Penyelenggara-Layanan-Pendanaan-Bersama-Berbasis/SEOJK%201-SEOJK.06-2024%20Tata%20Cara%20dan%20Mekanisme%20Penyampaian%20Data%20Transaksi%20Pendanaan%20dan%20Pelaporan%20Penyelenggara%20LPBBTI.pdf#page=7)'),\n",
       " Document(metadata={'doc_id': 4, 'title': 'Tata Cara dan Mekanisme Penyampaian Data Transaksi Pendanaan dan Pelaporan Penyelenggara Layanan Pendanaan Bersama Berbasis Teknologi Informasi (LPBBTI)', 'sector': 'IKNB', 'subsector': 'Peraturan Lainnya', 'regulation_type': 'Surat Edaran OJK', 'regulation_number': '1/SEOJK.06/2024', 'effective_date': '2024/07/01', 'file_url': 'https://www.ojk.go.id/id/regulasi/Documents/Pages/Tata-Cara-dan-Mekanisme-Penyampaian-Data-Transaksi-Pendanaan-dan-Pelaporan-Penyelenggara-Layanan-Pendanaan-Bersama-Berbasis/SEOJK%201-SEOJK.06-2024%20Tata%20Cara%20dan%20Mekanisme%20Penyampaian%20Data%20Transaksi%20Pendanaan%20dan%20Pelaporan%20Penyelenggara%20LPBBTI.pdf', 'page_number': 12}, page_content='1 \\nPerorangan \\n2 \\nLembaga \\nb. \\nKolom ini bersifat mandatory (tidak dapat dikosongkan). \\nc. \\nContoh pengisian data: \\nNo \\nJenis Pengguna \\nPengisian \\n1 \\nDylan merupakan Borrower perorangan \\n1 \\n2 \\nPT XYZ merupakan Lender Lembaga \\n2 \\n \\n4. \\nNama_Pengguna \\na. \\nKolom ini diisi dengan nama Pengguna sesuai dengan nama lengkap \\ntanpa gelar sesuai dengan yang tercantum dalam dokumen identitas \\nPengguna. \\nb. \\nKolom ini bersifat mandatory (tidak dapat dikosongkan). \\nc. \\nContoh pengisian data:\\n\\nSource: [1/SEOJK.06/2024](https://www.ojk.go.id/id/regulasi/Documents/Pages/Tata-Cara-dan-Mekanisme-Penyampaian-Data-Transaksi-Pendanaan-dan-Pelaporan-Penyelenggara-Layanan-Pendanaan-Bersama-Berbasis/SEOJK%201-SEOJK.06-2024%20Tata%20Cara%20dan%20Mekanisme%20Penyampaian%20Data%20Transaksi%20Pendanaan%20dan%20Pelaporan%20Penyelenggara%20LPBBTI.pdf#page=12)'),\n",
       " Document(metadata={'doc_id': 4, 'title': 'Tata Cara dan Mekanisme Penyampaian Data Transaksi Pendanaan dan Pelaporan Penyelenggara Layanan Pendanaan Bersama Berbasis Teknologi Informasi (LPBBTI)', 'sector': 'IKNB', 'subsector': 'Peraturan Lainnya', 'regulation_type': 'Surat Edaran OJK', 'regulation_number': '1/SEOJK.06/2024', 'effective_date': '2024/07/01', 'file_url': 'https://www.ojk.go.id/id/regulasi/Documents/Pages/Tata-Cara-dan-Mekanisme-Penyampaian-Data-Transaksi-Pendanaan-dan-Pelaporan-Penyelenggara-Layanan-Pendanaan-Bersama-Berbasis/SEOJK%201-SEOJK.06-2024%20Tata%20Cara%20dan%20Mekanisme%20Penyampaian%20Data%20Transaksi%20Pendanaan%20dan%20Pelaporan%20Penyelenggara%20LPBBTI.pdf', 'page_number': 13}, page_content='Contoh pengisian data: \\nNo \\nStatus warga negara \\nPengisian \\n1 \\nBpk. Adiwena sebagai warga negara Indonesia ID \\n2 \\nMr Park sebagai warga negara Korea Selatan \\nKR \\n \\n8. \\nKode_jenis_tanda_pengenal \\na. \\nKolom ini diisi dengan kode jenis tanda pengenal sesuai referensi \\nsebagai berikut: \\nKode jenis tanda pengenal \\nJenis Tanda Pengenal \\n1 \\nKTP \\n2 \\nNPWP \\n3 \\nPASPOR \\n4 \\nKITAS\\n\\nSource: [1/SEOJK.06/2024](https://www.ojk.go.id/id/regulasi/Documents/Pages/Tata-Cara-dan-Mekanisme-Penyampaian-Data-Transaksi-Pendanaan-dan-Pelaporan-Penyelenggara-Layanan-Pendanaan-Bersama-Berbasis/SEOJK%201-SEOJK.06-2024%20Tata%20Cara%20dan%20Mekanisme%20Penyampaian%20Data%20Transaksi%20Pendanaan%20dan%20Pelaporan%20Penyelenggara%20LPBBTI.pdf#page=13)')]"
      ]
     },
     "execution_count": 15,
     "metadata": {},
     "output_type": "execute_result"
    }
   ],
   "source": [
    "# 2024-07-01\n",
    "from langchain.globals import set_debug\n",
    "\n",
    "set_debug(True)\n",
    "\n",
    "context = retriever.invoke('Berikan dokumen yang berlaku dari tahun 20023 hingga 2025')\n",
    "context"
   ]
  }
 ],
 "metadata": {
  "kernelspec": {
   "display_name": "chatbot-all",
   "language": "python",
   "name": "python3"
  },
  "language_info": {
   "codemirror_mode": {
    "name": "ipython",
    "version": 3
   },
   "file_extension": ".py",
   "mimetype": "text/x-python",
   "name": "python",
   "nbconvert_exporter": "python",
   "pygments_lexer": "ipython3",
   "version": "3.9.19"
  }
 },
 "nbformat": 4,
 "nbformat_minor": 2
}
